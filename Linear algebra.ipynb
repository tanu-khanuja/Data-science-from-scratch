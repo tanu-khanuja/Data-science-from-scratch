{
 "cells": [
  {
   "cell_type": "markdown",
   "id": "329289e3-39a9-4c4f-98e2-b5009838c170",
   "metadata": {},
   "source": [
    "# 1. Vector\n",
    "-  Linear Algebra: mathematics that deals with vector spaces\n",
    "- how useful the vectors are for data science?\n",
    "  1. for us, vectors are some points in a free dimensional space\n",
    "  2. to represent any numeric data, as list of numbers\n",
    "\n",
    "- Using lists as vectors is great for exposition but terrible for performance\n",
    "- In production code, we use NumPy library, which includes a high performance array class with all sorts of arithmetic operations included"
   ]
  },
  {
   "cell_type": "code",
   "execution_count": 6,
   "id": "c0cdfb52-da91-48c8-837e-ffb2f1e9912e",
   "metadata": {},
   "outputs": [],
   "source": [
    "# List as vector\n",
    "from typing import List  #for lists' type annotation\n",
    "\n",
    "vector = List[float] #here vector is list of float values\n",
    "\n",
    "\n",
    "height_weight_age = [160,    #vector containing height, weight, age\n",
    "                     65,\n",
    "                     40]\n",
    "\n",
    "grades = [95,         #vector with grades in four tests\n",
    "          78,\n",
    "          92,\n",
    "          65]"
   ]
  },
  {
   "cell_type": "markdown",
   "id": "c3395016-ae26-4ba1-8298-1f19be6a7279",
   "metadata": {},
   "source": [
    "### 1. add(a: Vector, b: Vector) -> Vector\n",
    "- beacuse lists are not vectors, we need to perform vector operations on them using zip-ing"
   ]
  },
  {
   "cell_type": "code",
   "execution_count": 7,
   "id": "a99d9599-c1ee-4913-bdab-9ba926b386e2",
   "metadata": {},
   "outputs": [
    {
     "data": {
      "text/plain": [
       "[3, 3]"
      ]
     },
     "execution_count": 7,
     "metadata": {},
     "output_type": "execute_result"
    }
   ],
   "source": [
    "from typing import List #for lists' type annotation\n",
    "\n",
    "Vector= List[float]     #define 'Vector' annotation\n",
    "\n",
    "def add(a: Vector, b: Vector) -> Vector:   #define add function   \n",
    "    \n",
    "    assert len(a)==len(b), \"Input vectors must be of same length\"\n",
    "    \n",
    "    sum_vector = [] \n",
    "    zip_vector = zip(a,b) #forms list of tuples\n",
    "    \n",
    "    for a_i, b_i in zip_vector:\n",
    "        sum_i = a_i + b_i\n",
    "        sum_vector.append(sum_i)\n",
    "    \n",
    "    return sum_vector\n",
    "\n",
    "add([1,2],[2,1])"
   ]
  },
  {
   "cell_type": "markdown",
   "id": "7591e05d-e190-4860-aa71-7bacdb670e1e",
   "metadata": {},
   "source": [
    "- The above program can be shortened as:"
   ]
  },
  {
   "cell_type": "code",
   "execution_count": 8,
   "id": "eee55412-a132-44eb-a08c-e31a8ebd9630",
   "metadata": {},
   "outputs": [],
   "source": [
    "from typing import List  #for lists' type annotation\n",
    "\n",
    "Vector = List[float]  \n",
    "\n",
    "def add(a: Vector, b: Vector) -> Vector:\n",
    "    \n",
    "    assert len(a)==len(b), \"Input vectors must be of same length\"\n",
    "    \n",
    "    return [(a_i + b_i) for a_i, b_i in zip(a, b)]\n",
    "\n",
    "assert add([3,4],[2,1]) == [5,5]\n",
    "# assert add([2,3],[3,5,3]) == [5,8] #Will generate assertion error, not same length"
   ]
  },
  {
   "cell_type": "markdown",
   "id": "54c6980c-09f2-47a2-99e5-d0722d1e6e2d",
   "metadata": {},
   "source": [
    "### 2. subtract(a: Vector, b: Vector) -> Vector"
   ]
  },
  {
   "cell_type": "code",
   "execution_count": 9,
   "id": "56869cfb-37e5-4dfc-8c0c-5bbed739b8e5",
   "metadata": {},
   "outputs": [],
   "source": [
    "#subtracting\n",
    "\n",
    "from typing import List \n",
    "\n",
    "Vector = List[float]\n",
    "\n",
    "def subtract(a: Vector, b: Vector) -> Vector:\n",
    "\n",
    "    assert len(a) == len(b)\n",
    "\n",
    "    return [(a_i - b_i) for a_i, b_i in zip(a,b)]\n",
    "\n",
    "assert subtract([1,2],[3,4]) == [-2,-2]"
   ]
  },
  {
   "cell_type": "markdown",
   "id": "a71e8750-c5b2-4bcf-8154-50fa56bf19eb",
   "metadata": {},
   "source": [
    "## componentwise operation\n",
    "- componentwise sum of vectors i.e. result vector is a vector of sum of respetive elements of all vectors\n",
    "- Example `assert sum_total([1,2],[3,4],[5,6],[7,8])==[16, 20]"
   ]
  },
  {
   "cell_type": "markdown",
   "id": "d621b8e3-d6b5-475a-a868-891d7bf57589",
   "metadata": {},
   "source": [
    "## 3. component_add(list_of_vectors: List[Vector]) -> Vector"
   ]
  },
  {
   "cell_type": "code",
   "execution_count": 10,
   "id": "6a684576-eefe-4afa-af1e-99ebd5e86954",
   "metadata": {},
   "outputs": [
    {
     "data": {
      "text/plain": [
       "[9, 12]"
      ]
     },
     "execution_count": 10,
     "metadata": {},
     "output_type": "execute_result"
    }
   ],
   "source": [
    "from typing import List \n",
    "Vector = List[float]\n",
    "\n",
    "def component_add(list_of_vectors: List[Vector]) -> Vector:\n",
    "   \n",
    "    #check if list_of_vectors is empty\n",
    "    assert list_of_vectors, \"no vectors provided\"\n",
    "\n",
    "    #check if vectors are of same size\n",
    "    l = len(list_of_vectors[0])  #length of first vector\n",
    "    #all() returns True if all elements in given iterable are true\n",
    "    assert all(len(v)==l for v in list_of_vectors), \"vectors are of different sizes!\" \n",
    "    \n",
    "    s = [0]*l  # define 0 vale list of length l\n",
    "    sum_vector = [] #define empty vector to collate sum values\n",
    "    \n",
    "    for i in range(l):\n",
    "        for v in list_of_vectors:\n",
    "            s[i] = sum([s[i],v[i]])\n",
    "        sum_vector.append(s[i])\n",
    "    return sum_vector\n",
    "\n",
    "component_add([[1,2],[3,4],[5,6]])"
   ]
  },
  {
   "cell_type": "markdown",
   "id": "4af44aa9-04dc-4549-bd05-7f3885b786d7",
   "metadata": {},
   "source": [
    "Above code can be written in one line, because sum() takes a list/array to calculate sum"
   ]
  },
  {
   "cell_type": "code",
   "execution_count": 11,
   "id": "b0a08b2c-241c-4428-a413-33e53423cd53",
   "metadata": {},
   "outputs": [
    {
     "data": {
      "text/plain": [
       "[9, 12]"
      ]
     },
     "execution_count": 11,
     "metadata": {},
     "output_type": "execute_result"
    }
   ],
   "source": [
    "from typing import List \n",
    "Vector = List[float]\n",
    "\n",
    "def component_add(list_of_vectors: List[Vector]) -> Vector:\n",
    "   \n",
    "    #check if list_of_vectors is empty\n",
    "    assert list_of_vectors, \"no vectors provided\"\n",
    "\n",
    "    #check if vectors are of same size\n",
    "    l = len(list_of_vectors[0])  #length of first vector\n",
    "    #all() returns True if all elements in given iterable are true\n",
    "    assert all(len(v)==l for v in list_of_vectors), \"vectors are of different sizes!\" \n",
    "\n",
    "    return [sum(v[i] for v in list_of_vectors) for i in range(l)]\n",
    "\n",
    "component_add([[1,2],[3,4],[5,6]])"
   ]
  },
  {
   "cell_type": "markdown",
   "id": "6e7c9211-e95c-490b-bf74-91e75f538e50",
   "metadata": {},
   "source": [
    "- **For loops are suitable for iterating over existing collections where the size of the collection is not prohibitively large.**\n",
    "- **Generators are ideal for calculating large sets of results (especially in calculations involving loops themselves) or in situations where the full size of the collection is not known in advance and/or doesn't need to be stored in memory.**"
   ]
  },
  {
   "cell_type": "markdown",
   "id": "40f7b0de-a5ce-4a94-aadc-dd8ba6f5f014",
   "metadata": {},
   "source": [
    "## 4. scalar_multiply(v:Vector, c:float) -> Vector"
   ]
  },
  {
   "cell_type": "code",
   "execution_count": 12,
   "id": "d5ba9301-43cd-4559-bb35-28102f15d4a2",
   "metadata": {},
   "outputs": [
    {
     "data": {
      "text/plain": [
       "[2, 4, 6]"
      ]
     },
     "execution_count": 12,
     "metadata": {},
     "output_type": "execute_result"
    }
   ],
   "source": [
    "from typing import List\n",
    "Vector = List[float]\n",
    "\n",
    "def scalar_multiply(v:Vector, c:float) -> Vector:\n",
    "    l = len(v)\n",
    "    return([c*v[i] for i in range(l)])\n",
    "\n",
    "\n",
    "scalar_multiply([1,2,3],2)"
   ]
  },
  {
   "cell_type": "markdown",
   "id": "8e2e1684-b36d-4007-96a1-b556d6ab9934",
   "metadata": {},
   "source": [
    "## 5. component_mean(v: List[Vector]) -> Vector\n",
    "- example list of vector = [[1,2],[3,4],[5,6]]\n",
    "- we want output as mean of 1,3,5 and 2,4,6 in a vector of 2 elements\n",
    "- fisrt find componentwise sum vector of, then divide by number of vectors"
   ]
  },
  {
   "cell_type": "code",
   "execution_count": 13,
   "id": "4fc09ecb-37cc-4e9d-b2fc-bbc2a9622dcc",
   "metadata": {},
   "outputs": [
    {
     "ename": "NameError",
     "evalue": "name 'x' is not defined",
     "output_type": "error",
     "traceback": [
      "\u001b[0;31m---------------------------------------------------------------------------\u001b[0m",
      "\u001b[0;31mNameError\u001b[0m                                 Traceback (most recent call last)",
      "Cell \u001b[0;32mIn[13], line 10\u001b[0m\n\u001b[1;32m      7\u001b[0m     l \u001b[38;5;241m=\u001b[39m \u001b[38;5;28mlen\u001b[39m(x[\u001b[38;5;241m0\u001b[39m])\n\u001b[1;32m      8\u001b[0m     \u001b[38;5;28;01mreturn\u001b[39;00m [(\u001b[38;5;28msum\u001b[39m(v[i] \u001b[38;5;28;01mfor\u001b[39;00m v \u001b[38;5;129;01min\u001b[39;00m x)\u001b[38;5;241m*\u001b[39m(\u001b[38;5;241m1\u001b[39m\u001b[38;5;241m/\u001b[39mnumber_of_vectors)) \u001b[38;5;28;01mfor\u001b[39;00m i \u001b[38;5;129;01min\u001b[39;00m \u001b[38;5;28mrange\u001b[39m(l)]\n\u001b[0;32m---> 10\u001b[0m \u001b[43mcomponent_mean\u001b[49m\u001b[43m(\u001b[49m\u001b[43m[\u001b[49m\u001b[43m[\u001b[49m\u001b[38;5;241;43m1\u001b[39;49m\u001b[43m,\u001b[49m\u001b[38;5;241;43m2\u001b[39;49m\u001b[43m]\u001b[49m\u001b[43m,\u001b[49m\u001b[43m[\u001b[49m\u001b[38;5;241;43m3\u001b[39;49m\u001b[43m,\u001b[49m\u001b[38;5;241;43m4\u001b[39;49m\u001b[43m]\u001b[49m\u001b[43m,\u001b[49m\u001b[43m[\u001b[49m\u001b[38;5;241;43m5\u001b[39;49m\u001b[43m,\u001b[49m\u001b[38;5;241;43m6\u001b[39;49m\u001b[43m]\u001b[49m\u001b[43m]\u001b[49m\u001b[43m)\u001b[49m\n",
      "Cell \u001b[0;32mIn[13], line 6\u001b[0m, in \u001b[0;36mcomponent_mean\u001b[0;34m(v)\u001b[0m\n\u001b[1;32m      5\u001b[0m \u001b[38;5;28;01mdef\u001b[39;00m \u001b[38;5;21mcomponent_mean\u001b[39m(v: List[Vector]) \u001b[38;5;241m-\u001b[39m\u001b[38;5;241m>\u001b[39m Vector:\n\u001b[0;32m----> 6\u001b[0m     num_of_vectors \u001b[38;5;241m=\u001b[39m \u001b[38;5;28mlen\u001b[39m(\u001b[43mx\u001b[49m)\n\u001b[1;32m      7\u001b[0m     l \u001b[38;5;241m=\u001b[39m \u001b[38;5;28mlen\u001b[39m(x[\u001b[38;5;241m0\u001b[39m])\n\u001b[1;32m      8\u001b[0m     \u001b[38;5;28;01mreturn\u001b[39;00m [(\u001b[38;5;28msum\u001b[39m(v[i] \u001b[38;5;28;01mfor\u001b[39;00m v \u001b[38;5;129;01min\u001b[39;00m x)\u001b[38;5;241m*\u001b[39m(\u001b[38;5;241m1\u001b[39m\u001b[38;5;241m/\u001b[39mnumber_of_vectors)) \u001b[38;5;28;01mfor\u001b[39;00m i \u001b[38;5;129;01min\u001b[39;00m \u001b[38;5;28mrange\u001b[39m(l)]\n",
      "\u001b[0;31mNameError\u001b[0m: name 'x' is not defined"
     ]
    }
   ],
   "source": [
    "from typing import List\n",
    "\n",
    "Vector = List[float]\n",
    "\n",
    "def component_mean(v: List[Vector]) -> Vector:\n",
    "    num_of_vectors = len(x)\n",
    "    l = len(x[0])\n",
    "    return [(sum(v[i] for v in x)*(1/number_of_vectors)) for i in range(l)]\n",
    "\n",
    "component_mean([[1,2],[3,4],[5,6]])"
   ]
  },
  {
   "cell_type": "markdown",
   "id": "e3054fed-4cb9-49ee-8ac2-6931dbfc8ace",
   "metadata": {},
   "source": [
    "- mean using functions component_add and scalar_multiplication"
   ]
  },
  {
   "cell_type": "code",
   "execution_count": null,
   "id": "9c81205e-36b5-4a5b-94f8-4a0e7d252f76",
   "metadata": {},
   "outputs": [],
   "source": [
    "def component_mean(v: List[Vector]) -> Vector:\n",
    "    a = component_add(v)\n",
    "    return scalar_multiply(a, 1/len(v))\n",
    "    \n",
    "\n",
    "component_mean([[1,2],[3,4],[5,6]])"
   ]
  },
  {
   "cell_type": "markdown",
   "id": "8fdf1e33-eb15-4d46-bece-261b82955c18",
   "metadata": {},
   "source": [
    "## 6. dot_product(a: Vector, b: Vector) -> float\n",
    "- `a.b = sum(a[i]*b[i])`"
   ]
  },
  {
   "cell_type": "code",
   "execution_count": null,
   "id": "eb11a89f-d260-4b3f-ae10-76e25e73ce95",
   "metadata": {},
   "outputs": [],
   "source": [
    "def dot_product(a: Vector, b: Vector) -> float:\n",
    "    assert len(a)==len(b), \"different sizes\"\n",
    "    l = len(a)\n",
    "    return(sum(a[i]*b[i] for i in range(l)))\n",
    "\n",
    "dot_product([1,2,3],[4,5,6])"
   ]
  },
  {
   "cell_type": "markdown",
   "id": "51266b8c-6497-4dda-9af4-60a4445338f0",
   "metadata": {},
   "source": [
    "- If a has magnitude 1, the dot product measures how far the vector b extends in the a direction. For example, if b = [1, 0], then dot(a, b) is just the first component of a.\n",
    "- Another way of saying this is that it’s the length of the vector you’d get if you projected a onto b"
   ]
  },
  {
   "cell_type": "markdown",
   "id": "0a7e3e42-5f05-4364-82de-1faa26a3e3e8",
   "metadata": {},
   "source": [
    "## 7. sum_of_squares(a: Vector) -> float"
   ]
  },
  {
   "cell_type": "code",
   "execution_count": 15,
   "id": "98b7e96e-fe87-4ff8-8cb1-d52100b63ef4",
   "metadata": {},
   "outputs": [],
   "source": [
    "#sum of squares\n",
    "from typing import List\n",
    "import math\n",
    "\n",
    "Vector = List[float]\n",
    "\n",
    "def sum_of_squares(a: Vector) -> float:\n",
    "    l = len(a)\n",
    "    sum_a = sum(math.pow(a[i],2) for i in range(l))\n",
    "    return sum_a\n",
    "\n",
    "assert sum_of_squares([1,2])==5"
   ]
  },
  {
   "cell_type": "markdown",
   "id": "da4df7d6-9a27-4f3c-af8b-ce9beb1dfd73",
   "metadata": {},
   "source": [
    "## 8.  magnitude(a: Vector)\n",
    "- magnitude of Vector = sqrt(sum_of squares)"
   ]
  },
  {
   "cell_type": "code",
   "execution_count": null,
   "id": "7483a17c-c145-4b5b-a310-e144b0a3cfcf",
   "metadata": {},
   "outputs": [],
   "source": [
    "def magnitude(a: Vector):\n",
    "    return math.sqrt(sum_of_squares(a))\n",
    "    \n",
    "assert magnitude([3,4]) == 5 "
   ]
  },
  {
   "cell_type": "markdown",
   "id": "d9ec2c2c-ced0-4143-9587-88451b13334a",
   "metadata": {},
   "source": [
    "## 9. squared_distance(a: Vector, b: Vector) ->float"
   ]
  },
  {
   "cell_type": "code",
   "execution_count": null,
   "id": "7e778360-bb8e-4da1-9634-fe2dcde9a41e",
   "metadata": {},
   "outputs": [],
   "source": [
    "def squared_distance(a: Vector, b: Vector) -> float:\n",
    "    return sum_of_squares(subtract(a,b))\n",
    "\n",
    "assert squared_distance([1,2],[4,6]) == 25\n"
   ]
  },
  {
   "cell_type": "markdown",
   "id": "bef1ff4c-057d-49ca-814e-a7bf408574d5",
   "metadata": {},
   "source": [
    "## 10. distance(a: Vector, b: Vector) -> float\n",
    "- magnitude of a vector x = `sqrt(x1^2 + x2^2 +...)`\n",
    "- distance between two vectors x, y = vector_x - vector_y\n",
    "- magnitude of distance = `sqrt((x1-y1)^2 + (x2-y2)^2 ....)`"
   ]
  },
  {
   "cell_type": "code",
   "execution_count": 14,
   "id": "ad62ec95-86d2-4bcb-bfc6-360d8d27a410",
   "metadata": {},
   "outputs": [
    {
     "ename": "NameError",
     "evalue": "name 'sq' is not defined",
     "output_type": "error",
     "traceback": [
      "\u001b[0;31m---------------------------------------------------------------------------\u001b[0m",
      "\u001b[0;31mNameError\u001b[0m                                 Traceback (most recent call last)",
      "Cell \u001b[0;32mIn[14], line 17\u001b[0m\n\u001b[1;32m     14\u001b[0m     sqrt_of_sum \u001b[38;5;241m=\u001b[39m math\u001b[38;5;241m.\u001b[39msqrt(\u001b[38;5;28msum\u001b[39m(sq[i] \u001b[38;5;28;01mfor\u001b[39;00m i \u001b[38;5;129;01min\u001b[39;00m \u001b[38;5;28mrange\u001b[39m(l)))\n\u001b[1;32m     15\u001b[0m     \u001b[38;5;28;01mreturn\u001b[39;00m (sqrt_of_sum)\n\u001b[0;32m---> 17\u001b[0m \u001b[38;5;28mprint\u001b[39m(\u001b[43mdistance\u001b[49m\u001b[43m(\u001b[49m\u001b[43m[\u001b[49m\u001b[38;5;241;43m1\u001b[39;49m\u001b[43m,\u001b[49m\u001b[38;5;241;43m2\u001b[39;49m\u001b[43m]\u001b[49m\u001b[43m,\u001b[49m\u001b[43m[\u001b[49m\u001b[38;5;241;43m4\u001b[39;49m\u001b[43m,\u001b[49m\u001b[38;5;241;43m6\u001b[39;49m\u001b[43m]\u001b[49m\u001b[43m)\u001b[49m)\n",
      "Cell \u001b[0;32mIn[14], line 14\u001b[0m, in \u001b[0;36mdistance\u001b[0;34m(a, b)\u001b[0m\n\u001b[1;32m     12\u001b[0m difference \u001b[38;5;241m=\u001b[39m subtract(a,b)   \u001b[38;5;66;03m#call subtract function \u001b[39;00m\n\u001b[1;32m     13\u001b[0m sq_vector \u001b[38;5;241m=\u001b[39m [math\u001b[38;5;241m.\u001b[39mpow(difference[i],\u001b[38;5;241m2\u001b[39m) \u001b[38;5;28;01mfor\u001b[39;00m i \u001b[38;5;129;01min\u001b[39;00m \u001b[38;5;28mrange\u001b[39m(l)]\n\u001b[0;32m---> 14\u001b[0m sqrt_of_sum \u001b[38;5;241m=\u001b[39m math\u001b[38;5;241m.\u001b[39msqrt(\u001b[38;5;28;43msum\u001b[39;49m\u001b[43m(\u001b[49m\u001b[43msq\u001b[49m\u001b[43m[\u001b[49m\u001b[43mi\u001b[49m\u001b[43m]\u001b[49m\u001b[43m \u001b[49m\u001b[38;5;28;43;01mfor\u001b[39;49;00m\u001b[43m \u001b[49m\u001b[43mi\u001b[49m\u001b[43m \u001b[49m\u001b[38;5;129;43;01min\u001b[39;49;00m\u001b[43m \u001b[49m\u001b[38;5;28;43mrange\u001b[39;49m\u001b[43m(\u001b[49m\u001b[43ml\u001b[49m\u001b[43m)\u001b[49m\u001b[43m)\u001b[49m)\n\u001b[1;32m     15\u001b[0m \u001b[38;5;28;01mreturn\u001b[39;00m (sqrt_of_sum)\n",
      "Cell \u001b[0;32mIn[14], line 14\u001b[0m, in \u001b[0;36m<genexpr>\u001b[0;34m(.0)\u001b[0m\n\u001b[1;32m     12\u001b[0m difference \u001b[38;5;241m=\u001b[39m subtract(a,b)   \u001b[38;5;66;03m#call subtract function \u001b[39;00m\n\u001b[1;32m     13\u001b[0m sq_vector \u001b[38;5;241m=\u001b[39m [math\u001b[38;5;241m.\u001b[39mpow(difference[i],\u001b[38;5;241m2\u001b[39m) \u001b[38;5;28;01mfor\u001b[39;00m i \u001b[38;5;129;01min\u001b[39;00m \u001b[38;5;28mrange\u001b[39m(l)]\n\u001b[0;32m---> 14\u001b[0m sqrt_of_sum \u001b[38;5;241m=\u001b[39m math\u001b[38;5;241m.\u001b[39msqrt(\u001b[38;5;28msum\u001b[39m(\u001b[43msq\u001b[49m[i] \u001b[38;5;28;01mfor\u001b[39;00m i \u001b[38;5;129;01min\u001b[39;00m \u001b[38;5;28mrange\u001b[39m(l)))\n\u001b[1;32m     15\u001b[0m \u001b[38;5;28;01mreturn\u001b[39;00m (sqrt_of_sum)\n",
      "\u001b[0;31mNameError\u001b[0m: name 'sq' is not defined"
     ]
    }
   ],
   "source": [
    "import math\n",
    "from typing import List\n",
    "\n",
    "Vector = List[float]\n",
    "\n",
    "def distance(a: Vector, b: Vector) -> float:\n",
    "\n",
    "    assert len(a) == len(b), \"Different sizes\"\n",
    "\n",
    "    l = len(a)\n",
    "    \n",
    "    difference = subtract(a,b)   #call subtract function \n",
    "    sq_vector = [math.pow(difference[i],2) for i in range(l)]\n",
    "    sqrt_of_sum = math.sqrt(sum(sq[i] for i in range(l)))\n",
    "    return (sqrt_of_sum)\n",
    "\n",
    "print(distance([1,2],[4,6]))"
   ]
  },
  {
   "cell_type": "markdown",
   "id": "4e9b7a80-0cdb-4ebc-9293-16e13ba7e814",
   "metadata": {},
   "source": [
    "**Important** \n",
    "\n",
    "\n",
    "Using lists as vectors is great for exposition but terrible for performance.\n",
    "In production code, you would want to use the **NumPy library**, which includes a high- performance array class with all sorts of arithmetic operations included."
   ]
  },
  {
   "cell_type": "markdown",
   "id": "a70838f7-e56b-42cf-82e0-8062c13155e8",
   "metadata": {},
   "source": [
    "# 2. Matrices\n",
    "- list of lists of same size\n",
    "- A[i][j] -> Element ith row and jth column of matrix A "
   ]
  },
  {
   "cell_type": "code",
   "execution_count": null,
   "id": "eb34cb57-66ad-458d-9c54-789ed448105f",
   "metadata": {},
   "outputs": [],
   "source": [
    "Matrix = List[List[float]]   #type alias/annotation \n",
    "\n",
    "A = [[1,2,3], [4,5,6]]  #rows=2, col=3\n",
    "B = [[1,2], [3,4], [5,6]] #rows=3, col=3\n"
   ]
  },
  {
   "cell_type": "markdown",
   "id": "f80c11ba-a673-4da3-88d2-0f7f24742899",
   "metadata": {},
   "source": [
    "- indexing in a matrix starts with 0, as it is list of lists\n",
    "\n",
    "## 1. shape(A: Matrix) -> Tuple[int, int]"
   ]
  },
  {
   "cell_type": "code",
   "execution_count": null,
   "id": "13d55797-7eab-44fa-b8c5-1ea5bdc1d12c",
   "metadata": {},
   "outputs": [],
   "source": [
    "#shape of matrix\n",
    "from typing import Tuple\n",
    "\n",
    "Matrix = List[List[float]]\n",
    "\n",
    "def shape(A: Matrix) -> Tuple[int, int]:\n",
    "    n_rows = len(A)\n",
    "    n_col = len(A[0]) if A else 0  \n",
    "    return (n_rows, n_col)\n",
    "\n",
    "assert shape ([[1,2,3], [4,5,6]]) == (2,3)"
   ]
  },
  {
   "cell_type": "markdown",
   "id": "91524283-6b02-4555-970b-a57e065b4e88",
   "metadata": {},
   "source": [
    "- each column in a matrix of size nxk, each n is vector of length k and vice versa.\n",
    "## 2. get_row(A: Matrix, i: int) -> List"
   ]
  },
  {
   "cell_type": "code",
   "execution_count": null,
   "id": "98f72b36-736b-4b11-8247-0ec63423db31",
   "metadata": {},
   "outputs": [],
   "source": [
    "#get_row[i]\n",
    "\n",
    "from typing import List\n",
    "\n",
    "Matrix = List[List[float]]\n",
    "\n",
    "def get_row(A: Matrix, i: int) -> List:\n",
    "    return A[i]\n",
    "\n",
    "  \n",
    "assert get_row([[1,2,3], [4,5,6]], 1) == [4,5,6]"
   ]
  },
  {
   "cell_type": "markdown",
   "id": "0cf6c178-d45a-4e92-9f71-6ceb4d33547e",
   "metadata": {},
   "source": [
    "## 3. get_column(A: Matrix, j: int) -> List"
   ]
  },
  {
   "cell_type": "code",
   "execution_count": null,
   "id": "17cb3dc2-1234-4563-b62a-5789e65357be",
   "metadata": {},
   "outputs": [],
   "source": [
    "#get_column[j]\n",
    "\n",
    "from typing import List\n",
    "\n",
    "Matrix = List[List[float]]\n",
    "\n",
    "def get_column(A: Matrix, j: int) -> List:\n",
    "    return [r[j] for  r in A]\n",
    "\n",
    "assert get_column([[1,2,3], [4,5,6]], 1) == [2,5]"
   ]
  },
  {
   "cell_type": "markdown",
   "id": "bbfef9f9-b24d-40cf-810e-0f2d2cff22d9",
   "metadata": {},
   "source": [
    "## 4. make_matrix(num_rows: int, num_cols: int, entry_fn: Callable[[int, int], float] -> Matrix"
   ]
  },
  {
   "cell_type": "code",
   "execution_count": null,
   "id": "b764a578-954a-4d8e-8ad5-6be0a08f3f33",
   "metadata": {},
   "outputs": [],
   "source": [
    "# make a matrix with values defined by entry_fn\n",
    "from typing import Callable, List\n",
    "\n",
    "def make_matrix(num_rows: int,\n",
    "                num_cols: int, \n",
    "                entry_fn: Callable[[int, int],float]) -> Matrix:\n",
    "\n",
    "#Returns a num_rows x num_cols matrix whose (i,j)-th entry is entry_fn(i, j)\n",
    "    return [[entry_fn(i,j) for j in range(num_cols)] for i in range(num_rows)]\n"
   ]
  },
  {
   "cell_type": "markdown",
   "id": "28952b70-1134-461d-8978-5b3bab8b2729",
   "metadata": {},
   "source": [
    "- create indentity matrix using make_matrix()"
   ]
  },
  {
   "cell_type": "markdown",
   "id": "36e12567-4d6d-4496-ab57-3733eb686c42",
   "metadata": {},
   "source": [
    "## 5. identity_matrix(size: int) -> Matrix"
   ]
  },
  {
   "cell_type": "code",
   "execution_count": null,
   "id": "81cb9668-8987-446d-8627-8fce6c3b32c5",
   "metadata": {},
   "outputs": [],
   "source": [
    "#5x5 I matrix\n",
    "\n",
    "def identity_matrix(size: int) -> Matrix:\n",
    "    return make_matrix(size, size, lambda i, j: 1 if i==j else 0)\n",
    "\n",
    "identity_matrix(5)"
   ]
  },
  {
   "cell_type": "markdown",
   "id": "7f28e8e3-635d-41e4-85c1-ea10fb36027d",
   "metadata": {},
   "source": [
    "## How to use matrices in Data Scinece?"
   ]
  },
  {
   "cell_type": "markdown",
   "id": "b72802a4-8cef-4094-bcf9-e9347b21ac7d",
   "metadata": {},
   "source": [
    "1. to represent dataset containing multiple vectors. e.g. age, height, weight of 1000 people as 1000x3 matrix\n",
    "2. we can use an n × k matrix to represent a linear function that maps k-dimensional vectors to n-dimensional vectors.\n",
    "3. To represent binary relationships\n",
    "\n",
    "- Example: users 0-9 are connected to each other in following given way  \n",
    "   friendships = [(0, 1), (0, 2), (1, 2), (1, 3), (2, 3), (3, 4),(4, 5), (5, 6), (5, 7), (6, 8), (7, 8), (8, 9)]\n",
    "\n",
    "- This can be represented in form of matrix to read and understand easily\n",
    "- create 9 rows and 9 columns, if tuple (i,j) is present in 'friendship' put value=1"
   ]
  },
  {
   "cell_type": "code",
   "execution_count": null,
   "id": "5ea2c1d8-6d39-42bd-9cc9-f023b3d11723",
   "metadata": {},
   "outputs": [],
   "source": [
    "friend_matrix = [[0, 1, 1, 0, 0, 0, 0, 0, 0, 0], # user 0\n",
    "                 [1, 0, 1, 1, 0, 0, 0, 0, 0, 0], # user 1\n",
    "                 [1, 1, 0, 1, 0, 0, 0, 0, 0, 0], # user 2\n",
    "                 [0, 1, 1, 0, 1, 0, 0, 0, 0, 0], # user 3\n",
    "                 [0, 0, 0, 1, 0, 1, 0, 0, 0, 0], # user 4\n",
    "                 [0, 0, 0, 0, 1, 0, 1, 1, 0, 0], # user 5\n",
    "                 [0, 0, 0, 0, 0, 1, 0, 0, 1, 0], # user 6\n",
    "                 [0, 0, 0, 0, 0, 1, 0, 0, 1, 0], # user 7\n",
    "                 [0, 0, 0, 0, 0, 0, 1, 1, 0, 1], # user 8\n",
    "                 [0, 0, 0, 0, 0, 0, 0, 0, 1, 0]] # user 9\n",
    "\n",
    "assert friend_matrix[0][2] == 1, \"0 and 2 are not friends\"\n",
    "assert friend_matrix[1][1] == 1, \"1 and 1 are not friends\""
   ]
  },
  {
   "cell_type": "code",
   "execution_count": null,
   "id": "cb070408-6680-49b0-9c00-2ff92dbe5f33",
   "metadata": {},
   "outputs": [],
   "source": [
    "#to find any node's (e.g. 2nd user's) connection\n",
    "num_col = len(friend_matrix[0])\n",
    "x = [friend_matrix[2][j] for j in range(num_col)]\n",
    "print(x)\n",
    "print([(index) for index, value in enumerate(x) if value])"
   ]
  },
  {
   "cell_type": "code",
   "execution_count": null,
   "id": "ca73ba11-54bd-4b52-af34-7c21ef900ad8",
   "metadata": {},
   "outputs": [],
   "source": []
  }
 ],
 "metadata": {
  "kernelspec": {
   "display_name": "Python 3 (ipykernel)",
   "language": "python",
   "name": "python3"
  },
  "language_info": {
   "codemirror_mode": {
    "name": "ipython",
    "version": 3
   },
   "file_extension": ".py",
   "mimetype": "text/x-python",
   "name": "python",
   "nbconvert_exporter": "python",
   "pygments_lexer": "ipython3",
   "version": "3.11.5"
  }
 },
 "nbformat": 4,
 "nbformat_minor": 5
}
