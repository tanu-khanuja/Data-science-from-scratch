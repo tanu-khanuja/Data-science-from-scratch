{
 "cells": [
  {
   "cell_type": "markdown",
   "id": "36bb7ba5-e5d3-40e6-a46c-7fc0fb312382",
   "metadata": {},
   "source": [
    "# 1. Indentation\n",
    "## a. Indentation error\n",
    "- if no indetation provided\n",
    "- white space inside bracket/parenthesis is fine.\n"
   ]
  },
  {
   "cell_type": "code",
   "execution_count": 2,
   "id": "b8107127-0e4c-4a91-a5a2-de45076244bb",
   "metadata": {
    "scrolled": true
   },
   "outputs": [
    {
     "ename": "IndentationError",
     "evalue": "expected an indented block after 'for' statement on line 1 (782862941.py, line 2)",
     "output_type": "error",
     "traceback": [
      "\u001b[0;36m  Cell \u001b[0;32mIn[2], line 2\u001b[0;36m\u001b[0m\n\u001b[0;31m    print(i)     #absent indentation\u001b[0m\n\u001b[0m    ^\u001b[0m\n\u001b[0;31mIndentationError\u001b[0m\u001b[0;31m:\u001b[0m expected an indented block after 'for' statement on line 1\n"
     ]
    }
   ],
   "source": [
    "for i in [1,2,3,4,5]:\n",
    "print(i)     #absent indentation"
   ]
  },
  {
   "cell_type": "code",
   "execution_count": 9,
   "id": "7540ed0f-a8bf-4bbe-ae21-0833a588b736",
   "metadata": {},
   "outputs": [
    {
     "name": "stdout",
     "output_type": "stream",
     "text": [
      "1\n",
      "2\n",
      "3\n",
      "4\n",
      "5\n"
     ]
    }
   ],
   "source": [
    "for i in [1, 2, 3, 4, 5]:\n",
    "    \n",
    "    #whitespace\n",
    "    print(i)"
   ]
  },
  {
   "cell_type": "markdown",
   "id": "a2410a06-08c2-44c4-8f15-c04fab8fbe67",
   "metadata": {},
   "source": [
    "- so what to use for Indentation - tab or spaces?\n",
    "- better to use spaces in python!"
   ]
  },
  {
   "cell_type": "markdown",
   "id": "ced9f5d9-ef9e-438f-810e-aaca97e1cc5b",
   "metadata": {},
   "source": [
    "# 2. Paste function\n",
    "- In IPython\n",
    "- Paste whatever in clipboard (whitespace etc as well)\n",
    "- `%paste`\n",
    "- need to install another library: python3-tk"
   ]
  },
  {
   "cell_type": "markdown",
   "id": "6678a94b-0f7f-421d-b4db-427fec149c81",
   "metadata": {},
   "source": [
    "# 3. Modules\n",
    "- that are not loaded by default\n",
    "- `re` - module contains functions+constants to work with <u>regular expressions</u>\n",
    "- must prefix functions etc with module name\n",
    "- can use alias"
   ]
  },
  {
   "cell_type": "markdown",
   "id": "dd2f1cda-e345-4c84-b4c4-427814d93c50",
   "metadata": {},
   "source": [
    "## Import a module"
   ]
  },
  {
   "cell_type": "code",
   "execution_count": 9,
   "id": "db6df93b-6b5e-46e2-af9c-e506f9e77d14",
   "metadata": {},
   "outputs": [
    {
     "name": "stdout",
     "output_type": "stream",
     "text": [
      "4.0\n",
      "3.141592653589793\n"
     ]
    }
   ],
   "source": [
    "import math         #provides mathematical functions that are more extensive than the basic arithmetic operations \n",
    "                    #provided by the built-in +, -, *, and / operators. \n",
    "                    #includes functions for various mathematical operations and constants like π (pi) and e (Euler's number)\n",
    "print(math.sqrt(16))\n",
    "print(math.pi)"
   ]
  },
  {
   "cell_type": "code",
   "execution_count": 10,
   "id": "c2c3f31f-e1bf-4067-9521-1d95cba9bd1e",
   "metadata": {},
   "outputs": [
    {
     "data": {
      "image/png": "[encoded data removed]",
      "text/plain": [
       "<Figure size 640x480 with 1 Axes>"
      ]
     },
     "metadata": {},
     "output_type": "display_data"
    }
   ],
   "source": [
    "import matplotlib.pyplot as plt  #pyplot is a module from matplotlib library\n",
    "                                 #used for data visualization\n",
    "x = [1, 2, 3, 4, 5]\n",
    "y = [2, 4, 6, 8, 10]\n",
    "\n",
    "# Create a simple plot\n",
    "plt.plot(x, y)\n",
    "\n",
    "# Add labels and title\n",
    "plt.xlabel('X-axis')\n",
    "plt.ylabel('Y-axis')\n",
    "plt.title('Simple Plot')\n",
    "\n",
    "# Show the plot\n",
    "plt.show()"
   ]
  },
  {
   "cell_type": "markdown",
   "id": "ee8d4553-4783-41ee-80b4-876400a721e1",
   "metadata": {},
   "source": [
    "## Collections Module\n",
    "- built-in module in python\n",
    "- provide alterative <u>specialized data structures </u> to general purpose in-built type.\n",
    "- Example of classes are: 'Counter', 'defaultdict', 'namedtuple', 'deque', 'ordereddict' etc"
   ]
  },
  {
   "cell_type": "code",
   "execution_count": 108,
   "id": "cbcad09c-ea97-43d4-a4b6-6a29578bba27",
   "metadata": {},
   "outputs": [
    {
     "name": "stdout",
     "output_type": "stream",
     "text": [
      "Counter({'i': 4, 's': 4, 'p': 2, 'm': 1})\n"
     ]
    }
   ],
   "source": [
    "from collections import Counter\n",
    "my_string = \"mississippi\"\n",
    "char_count = Counter(my_string)\n",
    "print(char_count)"
   ]
  },
  {
   "cell_type": "code",
   "execution_count": 16,
   "id": "3cffc374-be07-48bf-a0de-99ddce5785e1",
   "metadata": {},
   "outputs": [
    {
     "name": "stdout",
     "output_type": "stream",
     "text": [
      "deque([0, 1, 2, 3, 4])\n"
     ]
    }
   ],
   "source": [
    "from collections import deque\n",
    "#list-like container with fast appends and pops from both ends\n",
    "\n",
    "d = deque([1, 2, 3])\n",
    "d.append(4)\n",
    "d.appendleft(0)\n",
    "print(d)  "
   ]
  },
  {
   "cell_type": "code",
   "execution_count": 21,
   "id": "baf2c6c2-8974-421e-a77e-0d55e63bac34",
   "metadata": {},
   "outputs": [
    {
     "name": "stdout",
     "output_type": "stream",
     "text": [
      "1\n"
     ]
    }
   ],
   "source": [
    "from collections import defaultdict\n",
    "#provides a default value for a nonexistent key\n",
    "d = defaultdict(int)\n",
    "d['a'] += 1\n",
    "print(d['a'])"
   ]
  },
  {
   "cell_type": "markdown",
   "id": "6fab473d-3532-4ae1-a9c4-f89fbe099baa",
   "metadata": {},
   "source": [
    "# 4. Functions\n",
    "- define by `def:`\n",
    "- python functions are **first class** - can be assigned to variables and pass on to other functions."
   ]
  },
  {
   "cell_type": "code",
   "execution_count": 22,
   "id": "446a49be-9490-41c8-be89-b990f452bf97",
   "metadata": {},
   "outputs": [
    {
     "data": {
      "text/plain": [
       "6"
      ]
     },
     "execution_count": 22,
     "metadata": {},
     "output_type": "execute_result"
    }
   ],
   "source": [
    "def double(x):\n",
    "    return x*2\n",
    "double(3)"
   ]
  },
  {
   "cell_type": "markdown",
   "id": "8e224efb-7453-4b03-8b8e-f05f54fb8b5c",
   "metadata": {},
   "source": [
    "## lambda function\n",
    "  - define anonymous function\n",
    "  - used for short and simple operations"
   ]
  },
  {
   "cell_type": "code",
   "execution_count": 23,
   "id": "1e41f9e1-198e-4015-af3f-0cf0d97fb4dc",
   "metadata": {},
   "outputs": [
    {
     "data": {
      "text/plain": [
       "9"
      ]
     },
     "execution_count": 23,
     "metadata": {},
     "output_type": "execute_result"
    }
   ],
   "source": [
    "square_lambda = lambda x:x**2\n",
    "square_lambda(3)"
   ]
  },
  {
   "cell_type": "markdown",
   "id": "6ec7b114-108d-4316-b3bb-3a199138a473",
   "metadata": {},
   "source": [
    "- for multiple variables"
   ]
  },
  {
   "cell_type": "code",
   "execution_count": 24,
   "id": "6dc4c2b6-8927-49b2-a470-c67e1187ef36",
   "metadata": {},
   "outputs": [
    {
     "data": {
      "text/plain": [
       "7"
      ]
     },
     "execution_count": 24,
     "metadata": {},
     "output_type": "execute_result"
    }
   ],
   "source": [
    "sum_lambda = lambda x,y : x+y\n",
    "sum_lambda(3,4)"
   ]
  },
  {
   "cell_type": "markdown",
   "id": "ce0dac87-d68c-40ab-ba93-bc445b1fdcf5",
   "metadata": {},
   "source": [
    "## Default argument to a function"
   ]
  },
  {
   "cell_type": "code",
   "execution_count": 25,
   "id": "01e13a05-2e0e-4da0-ae3b-3d2518a35336",
   "metadata": {},
   "outputs": [
    {
     "name": "stdout",
     "output_type": "stream",
     "text": [
      "hello\n",
      "default message\n"
     ]
    }
   ],
   "source": [
    "def my_print(message=\"default message\"):\n",
    "    print(message)\n",
    "my_print(\"hello\")\n",
    "my_print()"
   ]
  },
  {
   "cell_type": "markdown",
   "id": "3a840613-9da5-4c9c-9c09-e0f1c99d82a2",
   "metadata": {},
   "source": [
    "## default functions"
   ]
  },
  {
   "cell_type": "code",
   "execution_count": 26,
   "id": "064071b5-eea3-465c-bcc7-da1fc0b9d934",
   "metadata": {},
   "outputs": [
    {
     "name": "stdout",
     "output_type": "stream",
     "text": [
      "0 is less than 10\n",
      "1 is less than 10\n",
      "2 is less than 10\n",
      "3 is less than 10\n",
      "4 is less than 10\n",
      "5 is less than 10\n",
      "6 is less than 10\n",
      "7 is less than 10\n",
      "8 is less than 10\n",
      "9 is less than 10\n"
     ]
    }
   ],
   "source": [
    "for x in range(10):   #range is a default function\n",
    "    print(f\"{x} is less than 10\")  #f is 'formatted string', to embedd variable into string"
   ]
  },
  {
   "cell_type": "markdown",
   "id": "654ef184-09f5-499f-b162-26423a55d5ce",
   "metadata": {},
   "source": [
    "# 5. Strings\n",
    "- defined with `' '` or `\" \"`"
   ]
  },
  {
   "cell_type": "code",
   "execution_count": 27,
   "id": "1f495091-29cd-4539-9759-ff6f67243955",
   "metadata": {},
   "outputs": [
    {
     "name": "stdout",
     "output_type": "stream",
     "text": [
      "hello world\n"
     ]
    }
   ],
   "source": [
    "my_string = \"hello world\"\n",
    "print(my_string)"
   ]
  },
  {
   "cell_type": "markdown",
   "id": "674bed47-c4b6-4e2a-a1a4-9d86b4626ef8",
   "metadata": {},
   "source": [
    "**for special character use backslash \\ **"
   ]
  },
  {
   "cell_type": "code",
   "execution_count": 28,
   "id": "5470b285-bb33-4096-a12f-b96f48177775",
   "metadata": {},
   "outputs": [
    {
     "name": "stdout",
     "output_type": "stream",
     "text": [
      "hello \t world\n"
     ]
    }
   ],
   "source": [
    "my_string = \"hello \\t world\"  #\\t is for tab\n",
    "print(my_string)"
   ]
  },
  {
   "cell_type": "code",
   "execution_count": 11,
   "id": "196e7946-b925-47ad-b0ba-0a7bacbfa37d",
   "metadata": {},
   "outputs": [
    {
     "name": "stdout",
     "output_type": "stream",
     "text": [
      "hello\\tworld\n"
     ]
    }
   ],
   "source": [
    "my_string = \"hello\" + r\"\\t\" + \"world\"  #to not consider \\t as tab character put r before it\n",
    "print(my_string)"
   ]
  },
  {
   "cell_type": "markdown",
   "id": "c5f0bbf9-f336-445d-acde-308d347ddf9f",
   "metadata": {},
   "source": [
    "***multiline using triple double qouation marks***\n",
    "- normally used below a function, so that whenever you search for that function, the desciption comes with it."
   ]
  },
  {
   "cell_type": "code",
   "execution_count": 36,
   "id": "4e207c58-2501-4366-8293-2583788bb283",
   "metadata": {},
   "outputs": [
    {
     "name": "stdout",
     "output_type": "stream",
     "text": [
      "first line\n",
      "second line\n",
      "third line \n"
     ]
    }
   ],
   "source": [
    "multiline_string = \"\"\"first line\n",
    "second line\n",
    "third line \n",
    "\"\"\"\n",
    "print(multiline_string)"
   ]
  },
  {
   "cell_type": "markdown",
   "id": "c01d0d1c-928a-4ca8-bd25-04e03918c13f",
   "metadata": {},
   "source": [
    "## f-string (formatted string)\n",
    "- to embedd variables in between the string"
   ]
  },
  {
   "cell_type": "code",
   "execution_count": 13,
   "id": "5a8d3020-bdcf-4867-b98f-fc856c61e62d",
   "metadata": {},
   "outputs": [
    {
     "name": "stdout",
     "output_type": "stream",
     "text": [
      "My name is Tanu and I am 32 years old.\n"
     ]
    }
   ],
   "source": [
    "name = \"Tanu\"\n",
    "age = 32\n",
    "string_embedd = f\"My name is {name} and I am {age} years old.\"\n",
    "print(string_embedd)"
   ]
  },
  {
   "cell_type": "code",
   "execution_count": 21,
   "id": "1e52b84e-6b25-4b27-b04b-e7b72345227d",
   "metadata": {},
   "outputs": [
    {
     "name": "stdout",
     "output_type": "stream",
     "text": [
      "name='Tanu' and age=32\n"
     ]
    }
   ],
   "source": [
    "# use = sign inside variable\n",
    "print(f\"{name=} and {age=}\")"
   ]
  },
  {
   "cell_type": "markdown",
   "id": "9ca0c2f4-9a70-44e3-9bdc-bd5dff0e2ddc",
   "metadata": {},
   "source": [
    "# 6. Exceptions"
   ]
  },
  {
   "cell_type": "markdown",
   "id": "1bb8f056-b6de-4f83-b238-df9f3e159526",
   "metadata": {},
   "source": [
    "- When any error occurs program may crash.\n",
    "- To handle such scenarios gracefully, exceptions are raised using \"Exception object\".\n",
    "- In this example, if the division by zero occurs, a ZeroDivisionError exception is raised, and the code inside the except block is executed to handle the exception."
   ]
  },
  {
   "cell_type": "code",
   "execution_count": 44,
   "id": "3a89a299-3827-439c-a59c-2abf94d7bea8",
   "metadata": {},
   "outputs": [
    {
     "name": "stdout",
     "output_type": "stream",
     "text": [
      "Exception error occurred\n"
     ]
    }
   ],
   "source": [
    "try: \n",
    "    #some code that raises error\n",
    "    result = 10/0\n",
    "except ZeroDivisionError:\n",
    "    print (\"Exception error occurred\")"
   ]
  },
  {
   "cell_type": "markdown",
   "id": "74b7c29f-3208-4e45-a306-0d9619d6c2c1",
   "metadata": {},
   "source": [
    "# 7. List\n",
    "- built-in data structure\n",
    "- ordered collection of items, means order of elements are always preserved (unlike sets)\n",
    "- mutable (unlike tuples)\n",
    "- defined using `[]` and `,`"
   ]
  },
  {
   "cell_type": "code",
   "execution_count": 1,
   "id": "3c8b1dde-b633-4a7b-960d-fee9667c8bca",
   "metadata": {},
   "outputs": [
    {
     "name": "stdout",
     "output_type": "stream",
     "text": [
      "[1, 2, 3, 4, 5] ['apple', 'banana', 'orange'] [1, 'apple', True] 5 15\n"
     ]
    }
   ],
   "source": [
    "int_list = [1,2,3,4,5]\n",
    "string_list = [\"apple\", \"banana\", \"orange\"]\n",
    "mixed_list = [1,\"apple\",True]\n",
    "length = len(int_list)\n",
    "sum = sum(int_list)\n",
    "print(int_list, string_list, mixed_list, length, sum)"
   ]
  },
  {
   "cell_type": "markdown",
   "id": "a1495c6d-6ca8-4591-b082-04601ef2cae6",
   "metadata": {},
   "source": [
    "## Indexing in Lists\n",
    "- **Zero-based indexing**\n",
    "- \"IndexError\" when indexing beyond its length"
   ]
  },
  {
   "cell_type": "code",
   "execution_count": 2,
   "id": "0d9c2756-634d-4031-9f02-be90f750c8ec",
   "metadata": {},
   "outputs": [
    {
     "name": "stdout",
     "output_type": "stream",
     "text": [
      "0\n",
      "9\n"
     ]
    }
   ],
   "source": [
    "x = [0,1,2,3,4,5,6,7,8,9]\n",
    "zero = x[0]\n",
    "nine = x[9]\n",
    "print(zero)\n",
    "print(nine)"
   ]
  },
  {
   "cell_type": "markdown",
   "id": "3cf34807-e4a4-4456-8b48-58e5420402c1",
   "metadata": {},
   "source": [
    "- **Negative-indexing** : last element [-1], second last [-2] and so on..."
   ]
  },
  {
   "cell_type": "code",
   "execution_count": 3,
   "id": "e2a39e6e-f055-44aa-97bc-5af7a0c3e3f1",
   "metadata": {},
   "outputs": [
    {
     "name": "stdout",
     "output_type": "stream",
     "text": [
      "9\n",
      "8\n"
     ]
    }
   ],
   "source": [
    "last=x[-1]                #represent last element \n",
    "second_last =x[-2]        #represent second last element\n",
    "print(last)\n",
    "print(second_last)"
   ]
  },
  {
   "cell_type": "markdown",
   "id": "5bc49727-d9b3-4a03-9dcd-4053d9e70cda",
   "metadata": {},
   "source": [
    "- Can **slice** the list using my_list[i:j:stride]"
   ]
  },
  {
   "cell_type": "code",
   "execution_count": 4,
   "id": "b6597ac3-0329-4738-b7b1-c78df38a48da",
   "metadata": {},
   "outputs": [
    {
     "data": {
      "text/plain": [
       "[3, 4, 5, 6]"
      ]
     },
     "execution_count": 4,
     "metadata": {},
     "output_type": "execute_result"
    }
   ],
   "source": [
    "y = x[3:7]  #includes 3rd and excludes 7th index value\n",
    "y"
   ]
  },
  {
   "cell_type": "code",
   "execution_count": 5,
   "id": "37ccce44-0044-4cca-b088-13fd929e45cb",
   "metadata": {},
   "outputs": [
    {
     "data": {
      "text/plain": [
       "[3, 5]"
      ]
     },
     "execution_count": 5,
     "metadata": {},
     "output_type": "execute_result"
    }
   ],
   "source": [
    "y = x[3:7:2]   #includes 3rd, takes stride of 2 here, and excludes 7th\n",
    "y"
   ]
  },
  {
   "cell_type": "markdown",
   "id": "ff674091-f1a2-432a-8354-a0bdeaeb87e4",
   "metadata": {},
   "source": [
    "- has **'in' operator** to check for list membership : Result -> Boolean"
   ]
  },
  {
   "cell_type": "code",
   "execution_count": 36,
   "id": "e8b4cf5e-2816-4ccf-98be-57a3fcc54634",
   "metadata": {},
   "outputs": [
    {
     "data": {
      "text/plain": [
       "True"
      ]
     },
     "execution_count": 36,
     "metadata": {},
     "output_type": "execute_result"
    }
   ],
   "source": [
    "1 in x"
   ]
  },
  {
   "cell_type": "code",
   "execution_count": 37,
   "id": "d11c8b00-163b-41b5-b188-c25058799ae5",
   "metadata": {},
   "outputs": [
    {
     "data": {
      "text/plain": [
       "False"
      ]
     },
     "execution_count": 37,
     "metadata": {},
     "output_type": "execute_result"
    }
   ],
   "source": [
    "10 in x"
   ]
  },
  {
   "cell_type": "markdown",
   "id": "74009d38-8e35-4e62-8588-269e71987cbd",
   "metadata": {},
   "source": [
    "- Can **modify elements** using extend, +, append"
   ]
  },
  {
   "cell_type": "code",
   "execution_count": 38,
   "id": "393b5f12-cd35-4e70-8b32-c8e7aa4c0c46",
   "metadata": {},
   "outputs": [
    {
     "name": "stdout",
     "output_type": "stream",
     "text": [
      "[1, 2, 3, 11, 12, 13, 14]\n"
     ]
    }
   ],
   "source": [
    "x = [1,2,3]\n",
    "x.extend([11,12,13,14])   #modify x\n",
    "print (x)"
   ]
  },
  {
   "cell_type": "code",
   "execution_count": 39,
   "id": "8fb58a92-6ed4-4bf5-ab7d-5330cd3cd4bf",
   "metadata": {},
   "outputs": [
    {
     "name": "stdout",
     "output_type": "stream",
     "text": [
      "[1, 2, 3, 11, 12, 13]\n"
     ]
    }
   ],
   "source": [
    "x = [1,2,3]\n",
    "y = x+[11,12,13]         #not modify x\n",
    "print (y)"
   ]
  },
  {
   "cell_type": "code",
   "execution_count": 40,
   "id": "b32d6d48-a3f5-4809-b760-bc47b739a543",
   "metadata": {},
   "outputs": [
    {
     "name": "stdout",
     "output_type": "stream",
     "text": [
      "[1, 2, 3, 11]\n",
      "4\n"
     ]
    },
    {
     "data": {
      "text/plain": [
       "11"
      ]
     },
     "execution_count": 40,
     "metadata": {},
     "output_type": "execute_result"
    }
   ],
   "source": [
    "x = [1,2,3]\n",
    "x.append(11)            #add one item at a time to list x\n",
    "print (x)\n",
    "print(len(x))\n",
    "x[-1]\n"
   ]
  },
  {
   "cell_type": "markdown",
   "id": "f8149049-8f2f-4110-bf44-e03bfaa0cb4b",
   "metadata": {},
   "source": [
    "- can be **unpacked**\n",
    "- use _ to **throwaway a value**"
   ]
  },
  {
   "cell_type": "code",
   "execution_count": 41,
   "id": "2f5d7bdf-bacf-4f82-914f-b6e81584efb3",
   "metadata": {},
   "outputs": [
    {
     "name": "stdout",
     "output_type": "stream",
     "text": [
      "1\n",
      "2\n",
      "3\n"
     ]
    }
   ],
   "source": [
    "x, y, z = [1,2,3]\n",
    "print(x)\n",
    "print(y)\n",
    "print(z)"
   ]
  },
  {
   "cell_type": "code",
   "execution_count": 42,
   "id": "52f401b8-c0f8-4b4d-923d-751e990819d1",
   "metadata": {},
   "outputs": [
    {
     "data": {
      "text/plain": [
       "3"
      ]
     },
     "execution_count": 42,
     "metadata": {},
     "output_type": "execute_result"
    }
   ],
   "source": [
    "_,_,z = [1,2,3]\n",
    "z"
   ]
  },
  {
   "cell_type": "markdown",
   "id": "b016d9ec-9fea-42a0-a028-fa4a7f0dff11",
   "metadata": {},
   "source": [
    "# 8. Tuples\n",
    "- immutable cousins of Lists\n",
    "- defined in paranthesis ( ) or nothing\n",
    "- Cannot be modified"
   ]
  },
  {
   "cell_type": "code",
   "execution_count": 9,
   "id": "7ebb842f-1e7c-47f7-bee3-1840d4bb9e93",
   "metadata": {},
   "outputs": [
    {
     "name": "stdout",
     "output_type": "stream",
     "text": [
      "new my_list is : [15, 2, 3]\n",
      "tuple is immutable\n"
     ]
    }
   ],
   "source": [
    "my_list = [1,2,3]\n",
    "my_tuple = (1,2,3)    #define tuple by parenthesis or no brackets\n",
    "my_list[0]=15         #trying to modify the list\n",
    "print(f'new my_list is : {my_list}')\n",
    "try:\n",
    "    my_tuple[1]=17    #trying to modify tuple\n",
    "except TypeError:\n",
    "    print(\"tuple is immutable\")\n"
   ]
  },
  {
   "cell_type": "markdown",
   "id": "0e0014d2-f338-4a45-9366-14d5b6b9a947",
   "metadata": {},
   "source": [
    "- Tuples can be used to **return multiple values** from functions"
   ]
  },
  {
   "cell_type": "code",
   "execution_count": 13,
   "id": "42df5010-474e-404f-a83b-2209047619a7",
   "metadata": {},
   "outputs": [
    {
     "name": "stdout",
     "output_type": "stream",
     "text": [
      "(5, 6)\n",
      "11 30\n"
     ]
    }
   ],
   "source": [
    "def sum_and_product(x,y):\n",
    "    return x+y,x*y\n",
    "\n",
    "s_p_tuple= sum_and_product(2,3)\n",
    "s,p= sum_and_product(5,6)    #tuple\n",
    "print(s_and_p_tuple)\n",
    "print(s,p)\n"
   ]
  },
  {
   "cell_type": "markdown",
   "id": "766ea6d5-5f20-4a73-9c89-6208e6ed17ab",
   "metadata": {},
   "source": [
    "- Tuples (and lists) can be used for **multiple value assignement**"
   ]
  },
  {
   "cell_type": "code",
   "execution_count": 15,
   "id": "9b2a0ee7-3c66-438a-9100-e07ed22fae14",
   "metadata": {},
   "outputs": [
    {
     "name": "stdout",
     "output_type": "stream",
     "text": [
      "[5] [6]\n"
     ]
    }
   ],
   "source": [
    "#example with tuple\n",
    "\n",
    "def sum_and_product(x,y):\n",
    "    return [x+y], [x*y] \n",
    "s,p = sum_and_product(2,3)  #unpacking values from tuple to variables s and p \n",
    "print (s,p)     "
   ]
  },
  {
   "cell_type": "code",
   "execution_count": 16,
   "id": "413e9f4c-24e6-4464-9956-d2a01ca30174",
   "metadata": {},
   "outputs": [
    {
     "name": "stdout",
     "output_type": "stream",
     "text": [
      "color1: red\n",
      "color2: green\n",
      "color3: blue\n"
     ]
    }
   ],
   "source": [
    "#example with list\n",
    "colors = ['red', 'green', 'blue']\n",
    "\n",
    "# Unpacking the list into separate variables\n",
    "color1, color2, color3 = colors\n",
    "\n",
    "print(\"color1:\", color1)\n",
    "print(\"color2:\", color2)  \n",
    "print(\"color3:\", color3)  \n"
   ]
  },
  {
   "cell_type": "markdown",
   "id": "05743405-f47f-45e0-b0e7-57c5fc102df2",
   "metadata": {},
   "source": [
    "# 9. Dictionaries\n",
    "- unordered collection of **key:value** pairs\n",
    "- known as *associative array*, *map*, or *hash* in other programming languages\n",
    "- defined using {} and or dict()\n",
    "## keys must be unique and hashable\n",
    "  - an object is hashable if it has a hash value that remains constant during its lifetime.\n",
    "  - This means the object needs to be immutable, like an integer, a string, or a tuple.\n",
    "  - For example, trying to use a list (which is non-hashable) as a dictionary key or set element results in a 'TypeError'\n",
    "  - A **hash value** is a numeric value computed from a data item (often called a \"key\") by a hash function. This function takes an input (or \"key\") and returns a fixed-size string of bytes. The output is typically a single integer that corresponds to the input data in a unique way (as much as possible for the data set and hash function used).\n",
    "- values can be of any data type\n",
    "- keys can be searched using 'in' operator\n"
   ]
  },
  {
   "cell_type": "code",
   "execution_count": 18,
   "id": "17407767-64b0-49b6-b171-35ee0c6efeb0",
   "metadata": {},
   "outputs": [],
   "source": [
    "empty_dict = {}\n",
    "empty_dict = dict()"
   ]
  },
  {
   "cell_type": "code",
   "execution_count": 19,
   "id": "a1749b0a-06ed-4914-8a79-a422ce7bf85b",
   "metadata": {},
   "outputs": [
    {
     "data": {
      "text/plain": [
       "20"
      ]
     },
     "execution_count": 19,
     "metadata": {},
     "output_type": "execute_result"
    }
   ],
   "source": [
    "grades = {\"Tanu\":20, \"Taniya\":30}\n",
    "grades[\"Tanu\"]                    #square brackets to get value of key"
   ]
  },
  {
   "cell_type": "code",
   "execution_count": 20,
   "id": "985ca484-7175-4de1-836a-c02711895c01",
   "metadata": {},
   "outputs": [
    {
     "data": {
      "text/plain": [
       "True"
      ]
     },
     "execution_count": 20,
     "metadata": {},
     "output_type": "execute_result"
    }
   ],
   "source": [
    "check_key = \"Tanu\" in grades\n",
    "check_key                         #keys can be searched using 'in' operator"
   ]
  },
  {
   "cell_type": "code",
   "execution_count": 21,
   "id": "a8d8f9f1-41c6-4a81-8673-4766cbed4a62",
   "metadata": {},
   "outputs": [
    {
     "data": {
      "text/plain": [
       "False"
      ]
     },
     "execution_count": 21,
     "metadata": {},
     "output_type": "execute_result"
    }
   ],
   "source": [
    "check_key = \"shaily\" in grades\n",
    "check_key"
   ]
  },
  {
   "cell_type": "markdown",
   "id": "92f1eb51-9ddc-4028-94dd-b6d984996d42",
   "metadata": {},
   "source": [
    "## KeyError\n",
    "- when key is absent"
   ]
  },
  {
   "cell_type": "code",
   "execution_count": 22,
   "id": "b0fe4a03-99d5-409a-be02-464338cd1a3b",
   "metadata": {},
   "outputs": [
    {
     "name": "stdout",
     "output_type": "stream",
     "text": [
      "no grade for shaily\n"
     ]
    }
   ],
   "source": [
    "try:\n",
    "    grade = grades[\"shaily\"]\n",
    "except KeyError:\n",
    "    print(\"no grade for shaily\")"
   ]
  },
  {
   "cell_type": "markdown",
   "id": "3d86bde7-a0c9-41f2-992e-753d128910f9",
   "metadata": {},
   "source": [
    "## .get method to return default value"
   ]
  },
  {
   "cell_type": "code",
   "execution_count": 23,
   "id": "86bb4bbc-d34d-4e3c-b680-32129cc35c10",
   "metadata": {
    "scrolled": true
   },
   "outputs": [
    {
     "name": "stdout",
     "output_type": "stream",
     "text": [
      "1\n",
      "0\n"
     ]
    },
    {
     "ename": "KeyError",
     "evalue": "'orange'",
     "output_type": "error",
     "traceback": [
      "\u001b[0;31m---------------------------------------------------------------------------\u001b[0m",
      "\u001b[0;31mKeyError\u001b[0m                                  Traceback (most recent call last)",
      "Cell \u001b[0;32mIn[23], line 6\u001b[0m\n\u001b[1;32m      4\u001b[0m my_value2 \u001b[38;5;241m=\u001b[39m my_dict\u001b[38;5;241m.\u001b[39mget(\u001b[38;5;124m\"\u001b[39m\u001b[38;5;124morange\u001b[39m\u001b[38;5;124m\"\u001b[39m, \u001b[38;5;241m0\u001b[39m)  \u001b[38;5;66;03m#default value is 0 if orange is not there\u001b[39;00m\n\u001b[1;32m      5\u001b[0m \u001b[38;5;28mprint\u001b[39m(my_value2)\n\u001b[0;32m----> 6\u001b[0m my_value3 \u001b[38;5;241m=\u001b[39m \u001b[43mmy_dict\u001b[49m\u001b[43m[\u001b[49m\u001b[38;5;124;43m\"\u001b[39;49m\u001b[38;5;124;43morange\u001b[39;49m\u001b[38;5;124;43m\"\u001b[39;49m\u001b[43m]\u001b[49m        \u001b[38;5;66;03m#return keyerror beacuse default value is not given \u001b[39;00m\n",
      "\u001b[0;31mKeyError\u001b[0m: 'orange'"
     ]
    }
   ],
   "source": [
    "my_dict = {\"apple\":1, \"banana\":8} \n",
    "my_value1 = my_dict.get(\"apple\", 0)   #default value is 0 if key is not there\n",
    "print(my_value1)\n",
    "my_value2 = my_dict.get(\"orange\", 0)  #default value is 0 if orange is not there\n",
    "print(my_value2)\n",
    "my_value3 = my_dict[\"orange\"]        #return keyerror beacuse default value is not given "
   ]
  },
  {
   "cell_type": "markdown",
   "id": "b5f1927d-6bb5-4eb2-bc54-7b4a644bc802",
   "metadata": {},
   "source": [
    "## Add New values and keys"
   ]
  },
  {
   "cell_type": "code",
   "execution_count": 63,
   "id": "b04b22eb-9924-4fdb-981b-41028e8c9fd0",
   "metadata": {},
   "outputs": [
    {
     "name": "stdout",
     "output_type": "stream",
     "text": [
      "{'tanu': 20, 'taniya': 40, 'shaily': 60}\n"
     ]
    }
   ],
   "source": [
    "old_dict = {\"tanu\":20, \"taniya\":30}  #original dict\n",
    "old_dict[\"taniya\"]=40                #updates taniya's value\n",
    "old_dict[\"shaily\"]=60                #adds new key:value \n",
    "print(old_dict)"
   ]
  },
  {
   "cell_type": "markdown",
   "id": "26bc2c75-3a3b-45c0-b4c3-39dee65899e3",
   "metadata": {},
   "source": [
    "## .items(), .values(), .keys()"
   ]
  },
  {
   "cell_type": "code",
   "execution_count": 68,
   "id": "bd2bbf7a-23e2-4dad-b6ba-b7aa9b17f3e8",
   "metadata": {},
   "outputs": [
    {
     "data": {
      "text/plain": [
       "dict_keys(['tanu', 'taniya', 'shaily'])"
      ]
     },
     "execution_count": 68,
     "metadata": {},
     "output_type": "execute_result"
    }
   ],
   "source": [
    "old_dict.keys()"
   ]
  },
  {
   "cell_type": "code",
   "execution_count": 31,
   "id": "8ece9d2a-2dfb-4b19-8d7c-6d1fab2435b8",
   "metadata": {},
   "outputs": [
    {
     "data": {
      "text/plain": [
       "dict_values([1, 8])"
      ]
     },
     "execution_count": 31,
     "metadata": {},
     "output_type": "execute_result"
    }
   ],
   "source": [
    "my_dict.values()"
   ]
  },
  {
   "cell_type": "code",
   "execution_count": 32,
   "id": "b194b16d-2976-4684-a365-a091d2f0643d",
   "metadata": {},
   "outputs": [
    {
     "data": {
      "text/plain": [
       "dict_items([('apple', 1), ('banana', 8)])"
      ]
     },
     "execution_count": 32,
     "metadata": {},
     "output_type": "execute_result"
    }
   ],
   "source": [
    "my_dict.items()"
   ]
  },
  {
   "cell_type": "markdown",
   "id": "0a535be7-28ed-4110-b72a-194dd78b5705",
   "metadata": {},
   "source": [
    "**Disctionary keys must be hashable**\n",
    "- i.e. cannot use list as key in dict\n",
    "- keys in dict are **immutable**\n",
    "- therefore tuples can be used "
   ]
  },
  {
   "cell_type": "code",
   "execution_count": 72,
   "id": "8401b52d-e152-4978-b89a-76cdb52517c5",
   "metadata": {},
   "outputs": [
    {
     "name": "stdout",
     "output_type": "stream",
     "text": [
      "{('tanu', 32): 1, ('shaily', 27): 3}\n"
     ]
    }
   ],
   "source": [
    "my_dict = {(\"tanu\",32): 1, (\"shaily\", 27):3}  #using hashable tuples\n",
    "print(my_dict)"
   ]
  },
  {
   "cell_type": "code",
   "execution_count": 28,
   "id": "ad269a90-b03d-42f2-81b6-8df196f1b1a9",
   "metadata": {},
   "outputs": [
    {
     "ename": "TypeError",
     "evalue": "unhashable type: 'list'",
     "output_type": "error",
     "traceback": [
      "\u001b[0;31m---------------------------------------------------------------------------\u001b[0m",
      "\u001b[0;31mTypeError\u001b[0m                                 Traceback (most recent call last)",
      "Cell \u001b[0;32mIn[28], line 1\u001b[0m\n\u001b[0;32m----> 1\u001b[0m my_dict \u001b[38;5;241m=\u001b[39m {[\u001b[38;5;124m\"\u001b[39m\u001b[38;5;124mtanu\u001b[39m\u001b[38;5;124m\"\u001b[39m,\u001b[38;5;241m32\u001b[39m]: \u001b[38;5;241m1\u001b[39m, [\u001b[38;5;124m\"\u001b[39m\u001b[38;5;124mshaily\u001b[39m\u001b[38;5;124m\"\u001b[39m, \u001b[38;5;241m27\u001b[39m]:\u001b[38;5;241m3\u001b[39m}  \u001b[38;5;66;03m#using unhashable list, therefore gives key error\u001b[39;00m\n\u001b[1;32m      2\u001b[0m \u001b[38;5;28mprint\u001b[39m(my_dict)\n",
      "\u001b[0;31mTypeError\u001b[0m: unhashable type: 'list'"
     ]
    }
   ],
   "source": [
    "my_dict = {[\"tanu\",32]: 1, [\"shaily\", 27]:3}  #using unhashable list, therefore gives key error\n",
    "print(my_dict)"
   ]
  },
  {
   "cell_type": "markdown",
   "id": "d6d0d106-019b-418b-a448-cf5db9c1057c",
   "metadata": {},
   "source": [
    "## defaultdict\n",
    "- built in class under \"collection\" module\n",
    "- assigns a default value to the key based on argument given\n",
    "- args can be any data structure: int, list, set etc\n",
    "- adds that default value to any key (which may be absent) you serach for (it will create that key if absent with default value of class provided)\n",
    "- used when using dictionaries to collect results by some key and dont want to check if key exists or not."
   ]
  },
  {
   "cell_type": "markdown",
   "id": "df2645d8-6653-4c68-9602-6dde29f7f81c",
   "metadata": {},
   "source": [
    "*Example 1 : using int class* "
   ]
  },
  {
   "cell_type": "code",
   "execution_count": 40,
   "id": "18371923-2b3e-4de6-9c1b-20d9f5bc5003",
   "metadata": {},
   "outputs": [
    {
     "name": "stdout",
     "output_type": "stream",
     "text": [
      "defaultdict(<class 'int'>, {})\n",
      "0 0\n"
     ]
    }
   ],
   "source": [
    "from collections import defaultdict\n",
    "dd_int = defaultdict(int)           #produces default 0 values to all keys\n",
    "print(dd_int)                       #see the empty dictionary of class int\n",
    "print(dd_int[0], dd_int[1])         #Example of values corresponding to keys 0, 1 and 11"
   ]
  },
  {
   "cell_type": "markdown",
   "id": "1b3fbc8b-3573-48e0-89c0-f67dc605e6f6",
   "metadata": {},
   "source": [
    "- add any new value"
   ]
  },
  {
   "cell_type": "code",
   "execution_count": 41,
   "id": "1aa0da68-94aa-4295-aecf-426d509c51bd",
   "metadata": {},
   "outputs": [
    {
     "data": {
      "text/plain": [
       "defaultdict(int, {0: 0, 1: 8, 5: 5})"
      ]
     },
     "execution_count": 41,
     "metadata": {},
     "output_type": "execute_result"
    }
   ],
   "source": [
    "dd_int[1] +=2\n",
    "dd_int[5] +=5\n",
    "dd_int[1] +=6\n",
    "dd_int          #ouput shows key 0 (which is defined in code block above), key 1 and key 5 (which are defined in this code block)"
   ]
  },
  {
   "cell_type": "markdown",
   "id": "4230f805-3a73-4cd5-8d61-d659277e10c9",
   "metadata": {},
   "source": [
    "*Example 2: using list class*"
   ]
  },
  {
   "cell_type": "code",
   "execution_count": 34,
   "id": "71d20c73-dbe3-4062-9f29-5f890a91a258",
   "metadata": {},
   "outputs": [
    {
     "name": "stdout",
     "output_type": "stream",
     "text": [
      "[] []\n"
     ]
    }
   ],
   "source": [
    "from collections import defaultdict\n",
    "dd_list = defaultdict(list)        #produces empty default lists as values of dict\n",
    "print(dd_list[0], dd_list[1])      #example of values corresponding to keys 0 and 1"
   ]
  },
  {
   "cell_type": "markdown",
   "id": "9d477800-9e48-4be9-af6f-42cba5060c9c",
   "metadata": {},
   "source": [
    "- here, add new value (as list)"
   ]
  },
  {
   "cell_type": "code",
   "execution_count": 35,
   "id": "ad0e2aa5-f156-4ff5-a13a-d1c4f9320441",
   "metadata": {},
   "outputs": [
    {
     "name": "stdout",
     "output_type": "stream",
     "text": [
      "defaultdict(<class 'list'>, {0: [], 1: [], 3: [1, 3, 4, 5], 8: [5, 6, 7]})\n"
     ]
    }
   ],
   "source": [
    "dd_list[3]+=[1,3,4,5]\n",
    "dd_list[8]+=[5,6,7]\n",
    "print(dd_list)                  #output shows empty list values for keys 0, 1(defined is previous code block), and keys 3, 8 (defined in this vlock)"
   ]
  },
  {
   "cell_type": "markdown",
   "id": "aa442888-33a1-4af1-bb01-d936b52c96d3",
   "metadata": {},
   "source": [
    "*Example 3: using dict class*"
   ]
  },
  {
   "cell_type": "code",
   "execution_count": 37,
   "id": "f7a67351-dc3f-4072-918c-297602cedf6f",
   "metadata": {},
   "outputs": [
    {
     "data": {
      "text/plain": [
       "defaultdict(dict, {3: {'apple': 1, 'banana': 8}})"
      ]
     },
     "execution_count": 37,
     "metadata": {},
     "output_type": "execute_result"
    }
   ],
   "source": [
    "dd_dict = defaultdict(dict)\n",
    "dd_dict[3]={\"apple\":1, \"banana\":8}\n",
    "dd_dict"
   ]
  },
  {
   "cell_type": "markdown",
   "id": "d7b52739-bca1-467b-904f-b63b70a1291d",
   "metadata": {},
   "source": [
    "## Count words using dictionaries"
   ]
  },
  {
   "cell_type": "markdown",
   "id": "2cc865b4-fabd-479d-a08b-fd2e3dc2b022",
   "metadata": {},
   "source": [
    "### A basic approach"
   ]
  },
  {
   "cell_type": "code",
   "execution_count": 38,
   "id": "84bb62ad-20d0-4762-a56d-424b5ce5389b",
   "metadata": {},
   "outputs": [
    {
     "data": {
      "text/plain": [
       "{'it': 2, 'was': 2, 'the': 2, 'best': 1, 'of': 2, 'times': 2, 'worst': 1}"
      ]
     },
     "execution_count": 38,
     "metadata": {},
     "output_type": "execute_result"
    }
   ],
   "source": [
    "document = \"It was the best of times it was the worst of times\"\n",
    "document = document.lower()\n",
    "words = document.split() # method is: string.split(seprator, maxsplit)\n",
    "word_counts = {} # dictionary to store word and its count\n",
    "for word in words:\n",
    "    if word in word_counts:\n",
    "        word_counts[word] += 1\n",
    "    else:\n",
    "        word_counts[word] = 1\n",
    "word_counts"
   ]
  },
  {
   "cell_type": "markdown",
   "id": "6ffb46ef-1b7b-441c-9487-05099f22cec4",
   "metadata": {},
   "source": [
    "### using defaultdict"
   ]
  },
  {
   "cell_type": "code",
   "execution_count": 43,
   "id": "1ba55c5a-ecff-4e46-ac5d-a3269e9d1cb0",
   "metadata": {},
   "outputs": [
    {
     "data": {
      "text/plain": [
       "defaultdict(int,\n",
       "            {'it': 2,\n",
       "             'was': 2,\n",
       "             'the': 2,\n",
       "             'best': 1,\n",
       "             'of': 2,\n",
       "             'times': 2,\n",
       "             'worst': 1})"
      ]
     },
     "execution_count": 43,
     "metadata": {},
     "output_type": "execute_result"
    }
   ],
   "source": [
    "from collections import defaultdict\n",
    "\n",
    "document = \"It was the best of times it was the worst of times\"\n",
    "document = document.lower()\n",
    "words = document.split()\n",
    "\n",
    "word_counts = defaultdict(int)   #int() produces an empty dict with 0 default values\n",
    "for word in words:\n",
    "    word_counts[word]+=1\n",
    "\n",
    "word_counts"
   ]
  },
  {
   "cell_type": "markdown",
   "id": "dd2af2c2-d8d2-44fb-8121-846552b535d7",
   "metadata": {},
   "source": [
    "# 10. Counters"
   ]
  },
  {
   "cell_type": "markdown",
   "id": "620887a3-e34a-4c30-a254-abab89292767",
   "metadata": {},
   "source": [
    "- Counter is a class in collections module\n",
    "- to count hashable objects (objects whose hash value remains constant during lifetime)\n",
    "- It's a dictionary subclass where the keys are the elements being counted, and the values are their respective counts"
   ]
  },
  {
   "cell_type": "code",
   "execution_count": 44,
   "id": "a73fdb8f-146f-4bd2-9410-007210f2b7c6",
   "metadata": {},
   "outputs": [
    {
     "data": {
      "text/plain": [
       "[('apple', 4), ('this', 2)]"
      ]
     },
     "execution_count": 44,
     "metadata": {},
     "output_type": "execute_result"
    }
   ],
   "source": [
    "#count number of words in a document\n",
    "from collections import Counter\n",
    "document = \"This apple is a bad apple. This apple is a good apple.\"\n",
    "document = document.lower()  #make all alphabates lower case\n",
    "words = document.replace('.',' ').split()  #remove '.', otheriwse counter will count it separately as word\n",
    "count = Counter(words)\n",
    "count.most_common(2)  #provide top two frequent words in document"
   ]
  },
  {
   "cell_type": "markdown",
   "id": "52294745-db52-4b1b-a269-4d2b5df8eca7",
   "metadata": {},
   "source": [
    "# 11. Sets"
   ]
  },
  {
   "cell_type": "markdown",
   "id": "505535d9-d533-45ae-9dd2-ba3c8f0564ea",
   "metadata": {},
   "source": [
    "- unordered collection (order of objects are not preserved) of unique objects (unlike lists/tuples)\n",
    "- mutable (unlike tuples)\n",
    "- defined using curly braces {} and comma,\n",
    "- define empty set using set() (cannot define using {}, beacuse already used to define empty dict)"
   ]
  },
  {
   "cell_type": "code",
   "execution_count": 45,
   "id": "9d0ff0b1-229c-49de-b662-d55e4dcdba56",
   "metadata": {},
   "outputs": [
    {
     "data": {
      "text/plain": [
       "{1, 2, 3, 4, 5, 8}"
      ]
     },
     "execution_count": 45,
     "metadata": {},
     "output_type": "execute_result"
    }
   ],
   "source": [
    "my_set = {1,1,2,3,4,4,5,8,1,3,2}\n",
    "my_set  #repeated values will be removed"
   ]
  },
  {
   "cell_type": "code",
   "execution_count": 46,
   "id": "40268f52-b623-44d0-b1ff-dbcd46c97763",
   "metadata": {},
   "outputs": [
    {
     "data": {
      "text/plain": [
       "{1, 2, 3, 4, 5, 8, 11}"
      ]
     },
     "execution_count": 46,
     "metadata": {},
     "output_type": "execute_result"
    }
   ],
   "source": [
    "my_set.add(11)\n",
    "my_set "
   ]
  },
  {
   "cell_type": "code",
   "execution_count": 47,
   "id": "01ec376b-4dda-475f-b6ea-79392caf2b62",
   "metadata": {},
   "outputs": [
    {
     "data": {
      "text/plain": [
       "{2, 3, 4, 5, 8, 11}"
      ]
     },
     "execution_count": 47,
     "metadata": {},
     "output_type": "execute_result"
    }
   ],
   "source": [
    "my_set.remove(1)\n",
    "my_set"
   ]
  },
  {
   "cell_type": "code",
   "execution_count": 48,
   "id": "6e941c4f-580a-474d-9c75-94b726973e7e",
   "metadata": {},
   "outputs": [
    {
     "data": {
      "text/plain": [
       "6"
      ]
     },
     "execution_count": 48,
     "metadata": {},
     "output_type": "execute_result"
    }
   ],
   "source": [
    "len(my_set)"
   ]
  },
  {
   "cell_type": "code",
   "execution_count": 49,
   "id": "494860fc-5fef-496a-9f91-5d8984d76d0c",
   "metadata": {},
   "outputs": [
    {
     "data": {
      "text/plain": [
       "False"
      ]
     },
     "execution_count": 49,
     "metadata": {},
     "output_type": "execute_result"
    }
   ],
   "source": [
    "1 in my_set"
   ]
  },
  {
   "cell_type": "code",
   "execution_count": 50,
   "id": "7c056684-2ec5-4659-9801-1df0896041f3",
   "metadata": {},
   "outputs": [
    {
     "data": {
      "text/plain": [
       "True"
      ]
     },
     "execution_count": 50,
     "metadata": {},
     "output_type": "execute_result"
    }
   ],
   "source": [
    "11 in my_set"
   ]
  },
  {
   "cell_type": "code",
   "execution_count": 51,
   "id": "7b3ccc9c-8b4a-492e-bc56-d1e738c797ae",
   "metadata": {},
   "outputs": [
    {
     "name": "stdout",
     "output_type": "stream",
     "text": [
      "{1, 2, 3, 7, 8} {3} {1, 2}\n"
     ]
    }
   ],
   "source": [
    "set1 = {1,2,3}\n",
    "set2 = {3,8,7}\n",
    "union = set1 | set2   #or set1.union(set2)\n",
    "intersection = set1 & set2   #or set1.intersection(set2)\n",
    "diff = set1-set2 #or set1.difference(set2)                #difference of elements that exist in first set and absent in second\n",
    "print(union, intersection, diff)"
   ]
  },
  {
   "cell_type": "markdown",
   "id": "707c3cec-0b5f-4f81-a83d-fb1befb043a5",
   "metadata": {},
   "source": [
    "**why we prefer sets in data science?**\n",
    "1. we deal with large datasets, and 'in' operator in sets is very fast.\n",
    "2. to find distinct items in a collection.\n",
    "\n",
    "*But used less frequntly than dict and lists*"
   ]
  },
  {
   "cell_type": "markdown",
   "id": "aba0f1b1-470b-425e-a538-d20b40dab44e",
   "metadata": {},
   "source": [
    "# 12. Control flow\n",
    "- order in which statements/conditions are evaluated/executed\n",
    "- control flow is regulated by conditional statements, loops, and function calls"
   ]
  },
  {
   "cell_type": "markdown",
   "id": "69639479-b441-4e00-9eb4-e0018a194cbb",
   "metadata": {},
   "source": [
    "### Conditional statements (if, elif, else)\n",
    "- for decision making"
   ]
  },
  {
   "cell_type": "code",
   "execution_count": 52,
   "id": "95bfdf83-386b-4f0b-be75-23b1b6faf3ec",
   "metadata": {},
   "outputs": [
    {
     "name": "stdout",
     "output_type": "stream",
     "text": [
      "x is less than or equal to 4\n"
     ]
    }
   ],
   "source": [
    "#use 'and' 'or' 'not' for multiple conditions\n",
    "\n",
    "x=4\n",
    "if x<1 or x==1:\n",
    "    print(\"x is less than or equal to 1\")\n",
    "elif x<4 or x==4:\n",
    "    print (\"x is less than or equal to 4\")\n",
    "else: \n",
    "    print (\"x is above 4\")"
   ]
  },
  {
   "cell_type": "markdown",
   "id": "ec9dd97d-758b-45a8-9d3e-1aba906ff42b",
   "metadata": {},
   "source": [
    "- iternary if-then-else on one line"
   ]
  },
  {
   "cell_type": "code",
   "execution_count": 53,
   "id": "8c6a275b-0f64-4463-9b8c-d71582b2e56e",
   "metadata": {},
   "outputs": [
    {
     "data": {
      "text/plain": [
       "'positive'"
      ]
     },
     "execution_count": 53,
     "metadata": {},
     "output_type": "execute_result"
    }
   ],
   "source": [
    "x =11\n",
    "number = \"positive\" if x>0 else \"negative\"\n",
    "number"
   ]
  },
  {
   "cell_type": "markdown",
   "id": "cfdf3ca8-982e-4918-87f7-83eb7d321393",
   "metadata": {},
   "source": [
    "### Loops (for/while)\n",
    "- for loop: to iterate over a sequence (like list, tuple, set, dict, string)\n",
    "- while: to execute a code block as long as condition is true\n",
    "- `for element in sequence:`\n",
    "        #code block to execute\n",
    "  `while condition:`\n",
    "        #code block to execute"
   ]
  },
  {
   "cell_type": "code",
   "execution_count": 54,
   "id": "61b4191e-ad27-4de3-91b5-3e0daa04e87d",
   "metadata": {},
   "outputs": [
    {
     "ename": "IndentationError",
     "evalue": "expected an indented block after 'for' statement on line 3 (2214239900.py, line 6)",
     "output_type": "error",
     "traceback": [
      "\u001b[0;36m  Cell \u001b[0;32mIn[54], line 6\u001b[0;36m\u001b[0m\n\u001b[0;31m    while condition:\u001b[0m\n\u001b[0m    ^\u001b[0m\n\u001b[0;31mIndentationError\u001b[0m\u001b[0;31m:\u001b[0m expected an indented block after 'for' statement on line 3\n"
     ]
    }
   ],
   "source": [
    "#most commonly used\n",
    "\n",
    "for element in sequence:\n",
    "    #code block to execute\n",
    "\n",
    "while condition:\n",
    "    #code block to execute"
   ]
  },
  {
   "cell_type": "markdown",
   "id": "48828ae0-9ac2-494b-aff1-4c03b4e629f1",
   "metadata": {},
   "source": [
    "**Break and Continue**\n",
    "\n",
    "- break: Used to exit a loop prematurely.\n",
    "- continue: Skips the rest of the code inside a loop for the current iteration and moves to the next iteration."
   ]
  },
  {
   "cell_type": "code",
   "execution_count": 55,
   "id": "e3b21082-29e3-4b85-bf02-e4e903a14693",
   "metadata": {},
   "outputs": [
    {
     "name": "stdout",
     "output_type": "stream",
     "text": [
      "0\n",
      "1\n",
      "2\n",
      "4\n"
     ]
    }
   ],
   "source": [
    "for x in range(10):\n",
    "    if x == 3:\n",
    "        continue  #go immediately to next iteration\n",
    "    if x == 5:\n",
    "        break\n",
    "    print (x)\n"
   ]
  },
  {
   "cell_type": "markdown",
   "id": "e71aff05-0b41-4354-a939-806e1215e342",
   "metadata": {},
   "source": [
    "### Function Calls: \n",
    "- Directing the flow to a function and back. \n",
    "- Functions are reusable blocks of code. \n",
    "- When you call a function, the control is passed to that function."
   ]
  },
  {
   "cell_type": "markdown",
   "id": "904d0806-425b-4a27-8b01-3145e1419fc1",
   "metadata": {},
   "source": [
    "# 13. Truthiness\n",
    "- Every object in Python is truthy or falsy\n",
    "- when any object is thus evaluated in boolean context it gives either True/False\n",
    "- non existent value  is given by 'None' (in other languages null)"
   ]
  },
  {
   "cell_type": "code",
   "execution_count": 56,
   "id": "e0a7a33f-af1e-4596-b801-b17c1623e511",
   "metadata": {},
   "outputs": [],
   "source": [
    "y = None\n",
    "assert y is None  #assert statement checks if condition is true/false. If true, does nothing. If false, AssumptionError exception raises."
   ]
  },
  {
   "cell_type": "markdown",
   "id": "bc7765bc-ec08-477f-baec-29da0ea5d7ff",
   "metadata": {},
   "source": [
    "## What all are falsy in Python\n",
    "  - False\n",
    "  - None\n",
    "  - {}\n",
    "  - []\n",
    "  - \"\"\n",
    "  - set()\n",
    "  - 0\n",
    "  - 0.0\n",
    "\n",
    "- therefore can easily use if statement to test for any empty object\n"
   ]
  },
  {
   "cell_type": "code",
   "execution_count": 57,
   "id": "89795959-bbae-4bb1-8f94-1f17feecd646",
   "metadata": {},
   "outputs": [
    {
     "name": "stdout",
     "output_type": "stream",
     "text": [
      "s\n",
      "e is empty\n"
     ]
    }
   ],
   "source": [
    "s = \"string\"\n",
    "if s:\n",
    "    print(s[0])\n",
    "\n",
    "e = \"\"\n",
    "if e:\n",
    "    print(e[0])\n",
    "else: \n",
    "    print(\"e is empty\")"
   ]
  },
  {
   "cell_type": "markdown",
   "id": "2d0d427c-dd2d-4e0f-8d6a-78dc24ddfa0b",
   "metadata": {},
   "source": [
    "## using 'and' and 'or' in conditions"
   ]
  },
  {
   "cell_type": "code",
   "execution_count": 58,
   "id": "aebfb12f-7308-4bf5-800d-9f7d779b3a56",
   "metadata": {},
   "outputs": [
    {
     "data": {
      "text/plain": [
       "'s'"
      ]
     },
     "execution_count": 58,
     "metadata": {},
     "output_type": "execute_result"
    }
   ],
   "source": [
    "first_char = s and s[0]\n",
    "first_char   #and returns second value if first value is true else first value"
   ]
  },
  {
   "cell_type": "code",
   "execution_count": 59,
   "id": "e97e785a-5d00-4ddf-b288-ff79c572f642",
   "metadata": {},
   "outputs": [],
   "source": [
    "#if x is either a number or none\n",
    "safe_x = x or 0"
   ]
  },
  {
   "cell_type": "markdown",
   "id": "f7de2555-7e43-48f5-9fd1-da5c9d5df114",
   "metadata": {},
   "source": [
    "## 'all' and 'any'"
   ]
  },
  {
   "cell_type": "code",
   "execution_count": 60,
   "id": "510925c9-0174-42ec-b295-1aa42b7b3486",
   "metadata": {},
   "outputs": [
    {
     "data": {
      "text/plain": [
       "True"
      ]
     },
     "execution_count": 60,
     "metadata": {},
     "output_type": "execute_result"
    }
   ],
   "source": [
    "all ([True, [1], 1, {1:2, \"apple\":2}]) #all are true because none is empty/false in the list [boolean, list, tuple, dict]"
   ]
  },
  {
   "cell_type": "code",
   "execution_count": 61,
   "id": "a5d2d0d5-7b30-4ef2-b307-b5482259ab81",
   "metadata": {},
   "outputs": [
    {
     "data": {
      "text/plain": [
       "True"
      ]
     },
     "execution_count": 61,
     "metadata": {},
     "output_type": "execute_result"
    }
   ],
   "source": [
    "any([True, 1, [], {}])"
   ]
  },
  {
   "cell_type": "code",
   "execution_count": 62,
   "id": "43b226eb-16ad-4c0c-85be-88f42fbb33da",
   "metadata": {},
   "outputs": [
    {
     "data": {
      "text/plain": [
       "True"
      ]
     },
     "execution_count": 62,
     "metadata": {},
     "output_type": "execute_result"
    }
   ],
   "source": [
    "all([]) #true because the list contains no elements to check therefore no false present, so all are true."
   ]
  },
  {
   "cell_type": "markdown",
   "id": "2bbce0c1-d7cd-4151-9aa5-b4e02096008f",
   "metadata": {},
   "source": [
    "# 14. Sorting\n",
    "- two functions : sort and sorted\n",
    "- 'sort' changes list, sorted assigns changes in another variable"
   ]
  },
  {
   "cell_type": "code",
   "execution_count": 63,
   "id": "4996790c-0eca-47cf-8cdd-1c3ca66bede5",
   "metadata": {},
   "outputs": [
    {
     "name": "stdout",
     "output_type": "stream",
     "text": [
      "[1, 1, 1, 2, 2, 3, 3, 3, 5]\n"
     ]
    }
   ],
   "source": [
    "x = [2,1,3,5,2,3,1,3,1]\n",
    "x.sort()\n",
    "print(x)"
   ]
  },
  {
   "cell_type": "code",
   "execution_count": 64,
   "id": "5318fde1-b02d-4009-b547-d72a922934ab",
   "metadata": {},
   "outputs": [
    {
     "name": "stdout",
     "output_type": "stream",
     "text": [
      "[2, 1, 3, 5, 2, 3, 1, 3, 1]\n",
      "[1, 1, 1, 2, 2, 3, 3, 3, 5]\n"
     ]
    }
   ],
   "source": [
    "x= [2,1,3,5,2,3,1,3,1]\n",
    "y = sorted(x)\n",
    "print(x)\n",
    "print(y)"
   ]
  },
  {
   "cell_type": "markdown",
   "id": "a5de7f31-4892-436f-b97b-5313291b04e6",
   "metadata": {},
   "source": [
    "## 'reverse' and 'key' parameters"
   ]
  },
  {
   "cell_type": "code",
   "execution_count": 65,
   "id": "7eef0d5c-89f0-4f2a-bbb1-d7c2e326ff2b",
   "metadata": {},
   "outputs": [
    {
     "data": {
      "text/plain": [
       "[5, -3, -3, 3, -2, 2, 1, 1, 1]"
      ]
     },
     "execution_count": 65,
     "metadata": {},
     "output_type": "execute_result"
    }
   ],
   "source": [
    "x= [-2,1,-3,5,2,-3,1,3,1]\n",
    "y = sorted(x, key = abs, reverse = True)  #sort reverse by abs value\n",
    "y"
   ]
  },
  {
   "cell_type": "markdown",
   "id": "b65be956-2af6-4d23-ad7d-38392035dae8",
   "metadata": {},
   "source": [
    "## sorting a dict based on keys/values"
   ]
  },
  {
   "cell_type": "code",
   "execution_count": 66,
   "id": "9f689b33-c51c-421d-8c92-2578c4fb8388",
   "metadata": {},
   "outputs": [
    {
     "name": "stdout",
     "output_type": "stream",
     "text": [
      "[('a', 3), ('good', 3), ('it', 2), ('was', 2), ('morning', 1), ('afternoon,', 1), ('and', 1), ('its', 1), ('evening', 1)]\n",
      "[('was', 2), ('morning', 1), ('its', 1), ('it', 2), ('good', 3), ('evening', 1), ('and', 1), ('afternoon,', 1), ('a', 3)]\n"
     ]
    }
   ],
   "source": [
    "document = \"It was a good morning. It was a good afternoon, and its a good evening\"\n",
    "low_case = document.lower()\n",
    "words = low_case.replace('.', ' ').split()\n",
    "word_count = Counter(words)\n",
    "#checking items\n",
    "word_count.items()\n",
    "\n",
    "#sorting in reverse (alphabates wise)\n",
    "wc = sorted(word_count, reverse= True)\n",
    "\n",
    "#set key \n",
    "#lets x is tuple of word and count, x[0] represent word and x[1] is its count. Here, sort based on count\n",
    "wc = sorted(word_count.items(), \n",
    "            key =lambda x:x[1],    \n",
    "            reverse=True)          \n",
    "#sorting based on word x[0]\n",
    "wc2 = sorted(word_count.items(), key=lambda x: x[0], reverse = True)\n",
    "\n",
    "print(wc)\n",
    "print(wc2)\n"
   ]
  },
  {
   "cell_type": "markdown",
   "id": "3e3bc948-619f-4c6d-a156-350220c6a4cd",
   "metadata": {},
   "source": [
    "# 15. List comprehension"
   ]
  },
  {
   "cell_type": "markdown",
   "id": "8cc198ac-3276-462a-8615-d31692ffdfc4",
   "metadata": {},
   "source": [
    "- transforming list by choosing some elements or transforming some elements etc.\n",
    "- used a lot in data science\n",
    "## using 'for' and 'if'"
   ]
  },
  {
   "cell_type": "code",
   "execution_count": 67,
   "id": "a842f1a7-d6af-41df-b4a5-8efc3320fa7a",
   "metadata": {},
   "outputs": [
    {
     "data": {
      "text/plain": [
       "[0, 2, 4]"
      ]
     },
     "execution_count": 67,
     "metadata": {},
     "output_type": "execute_result"
    }
   ],
   "source": [
    "even = [x for x in range(5) if x%2==0]\n",
    "even"
   ]
  },
  {
   "cell_type": "code",
   "execution_count": 68,
   "id": "8887e5a0-15a3-4bff-bd77-4ff2bffd5ae4",
   "metadata": {},
   "outputs": [
    {
     "data": {
      "text/plain": [
       "[0, 1, 4, 9, 16]"
      ]
     },
     "execution_count": 68,
     "metadata": {},
     "output_type": "execute_result"
    }
   ],
   "source": [
    "squares = [x*x for x in range(5)]\n",
    "squares"
   ]
  },
  {
   "cell_type": "code",
   "execution_count": 69,
   "id": "cc5bd5f9-397a-4bb2-b17d-1fe687a9cbe2",
   "metadata": {},
   "outputs": [
    {
     "data": {
      "text/plain": [
       "[0, 4, 16]"
      ]
     },
     "execution_count": 69,
     "metadata": {},
     "output_type": "execute_result"
    }
   ],
   "source": [
    "even_squares = [x*x for x in even]  #even is a list defined above\n",
    "even_squares"
   ]
  },
  {
   "cell_type": "markdown",
   "id": "974621dd-c043-4bd4-9e81-d47212fdf30e",
   "metadata": {},
   "source": [
    "## turning list into dictionaries/sets"
   ]
  },
  {
   "cell_type": "code",
   "execution_count": 70,
   "id": "c3beeb74-d609-4ed6-a4d4-dd71938a7fe8",
   "metadata": {},
   "outputs": [
    {
     "data": {
      "text/plain": [
       "{0: 0, 1: 1, 2: 4, 3: 9, 4: 16}"
      ]
     },
     "execution_count": 70,
     "metadata": {},
     "output_type": "execute_result"
    }
   ],
   "source": [
    "square_dict = {x:x*x for x in range(5)}\n",
    "square_dict"
   ]
  },
  {
   "cell_type": "code",
   "execution_count": 71,
   "id": "02ece3a0-fd43-4d3b-b10c-552037e5e792",
   "metadata": {},
   "outputs": [
    {
     "data": {
      "text/plain": [
       "{1}"
      ]
     },
     "execution_count": 71,
     "metadata": {},
     "output_type": "execute_result"
    }
   ],
   "source": [
    "square_set = {x*x for x in [1,-1]}\n",
    "square_set"
   ]
  },
  {
   "cell_type": "markdown",
   "id": "d6825b0c-493c-4261-965b-23b7af5bc1db",
   "metadata": {},
   "source": [
    "## use '_' if no value needed from list"
   ]
  },
  {
   "cell_type": "code",
   "execution_count": 72,
   "id": "425e7504-199f-4c08-ba13-3ec1c5ab1f55",
   "metadata": {},
   "outputs": [
    {
     "data": {
      "text/plain": [
       "[0, 0, 0]"
      ]
     },
     "execution_count": 72,
     "metadata": {},
     "output_type": "execute_result"
    }
   ],
   "source": [
    "zero = [0 for _ in even]  #produces 0 for all elements in even list defined above\n",
    "zero"
   ]
  },
  {
   "cell_type": "markdown",
   "id": "5f24d103-626c-48ef-94c9-82b806e37f72",
   "metadata": {},
   "source": [
    "## use multiple 'for'"
   ]
  },
  {
   "cell_type": "code",
   "execution_count": 73,
   "id": "4cc08d94-81df-4ce9-9654-0b49e2682aa6",
   "metadata": {},
   "outputs": [
    {
     "data": {
      "text/plain": [
       "[(0, 0), (0, 1), (0, 2), (1, 0), (1, 1), (1, 2)]"
      ]
     },
     "execution_count": 73,
     "metadata": {},
     "output_type": "execute_result"
    }
   ],
   "source": [
    "pairs = [(x,y) for x in range(2)\n",
    "         for y in range(3)]\n",
    "pairs"
   ]
  },
  {
   "cell_type": "markdown",
   "id": "5556db99-9638-43fe-89ab-702eb827733a",
   "metadata": {},
   "source": [
    "- can use earlier *for* output in later *for*"
   ]
  },
  {
   "cell_type": "code",
   "execution_count": 74,
   "id": "cdcebac0-63d8-4a86-987e-c53feefe1ded",
   "metadata": {},
   "outputs": [
    {
     "data": {
      "text/plain": [
       "[(0, 1),\n",
       " (0, 2),\n",
       " (0, 3),\n",
       " (0, 4),\n",
       " (0, 5),\n",
       " (0, 6),\n",
       " (0, 7),\n",
       " (0, 8),\n",
       " (0, 9),\n",
       " (1, 2),\n",
       " (1, 3),\n",
       " (1, 4),\n",
       " (1, 5),\n",
       " (1, 6),\n",
       " (1, 7),\n",
       " (1, 8),\n",
       " (1, 9)]"
      ]
     },
     "execution_count": 74,
     "metadata": {},
     "output_type": "execute_result"
    }
   ],
   "source": [
    "increasing_pair = [(x,y) for x in range(2)\n",
    "                   for y in range(x+1,10)]   #from range x+1 to 10\n",
    "increasing_pair"
   ]
  },
  {
   "cell_type": "markdown",
   "id": "cb434065-97d4-40dd-90f1-acb5fe78ee3e",
   "metadata": {},
   "source": [
    "# 16. Automated testing and 'assert'\n",
    "- assert statement used to test whether the code written is correct or not.\n",
    "- raises AssertionError if condition is not truthy\n",
    "- can also add message in case of falsy"
   ]
  },
  {
   "cell_type": "code",
   "execution_count": 75,
   "id": "e96eb989-a732-468c-9ef7-2bd36cf56b95",
   "metadata": {},
   "outputs": [],
   "source": [
    "assert 1+1 ==2"
   ]
  },
  {
   "cell_type": "code",
   "execution_count": 76,
   "id": "57dcdcc9-9a2d-403c-91e8-2a605eb59c96",
   "metadata": {},
   "outputs": [
    {
     "ename": "AssertionError",
     "evalue": "",
     "output_type": "error",
     "traceback": [
      "\u001b[0;31m---------------------------------------------------------------------------\u001b[0m",
      "\u001b[0;31mAssertionError\u001b[0m                            Traceback (most recent call last)",
      "Cell \u001b[0;32mIn[76], line 1\u001b[0m\n\u001b[0;32m----> 1\u001b[0m \u001b[38;5;28;01massert\u001b[39;00m \u001b[38;5;241m1\u001b[39m\u001b[38;5;241m+\u001b[39m\u001b[38;5;241m1\u001b[39m\u001b[38;5;241m==\u001b[39m\u001b[38;5;241m3\u001b[39m\n",
      "\u001b[0;31mAssertionError\u001b[0m: "
     ]
    }
   ],
   "source": [
    "assert 1+1==3"
   ]
  },
  {
   "cell_type": "code",
   "execution_count": 77,
   "id": "e7fe8fda-8f83-4466-b60d-db7f10bc9a11",
   "metadata": {},
   "outputs": [
    {
     "ename": "AssertionError",
     "evalue": "1+1 shouldn't be equal to 3",
     "output_type": "error",
     "traceback": [
      "\u001b[0;31m---------------------------------------------------------------------------\u001b[0m",
      "\u001b[0;31mAssertionError\u001b[0m                            Traceback (most recent call last)",
      "Cell \u001b[0;32mIn[77], line 1\u001b[0m\n\u001b[0;32m----> 1\u001b[0m \u001b[38;5;28;01massert\u001b[39;00m \u001b[38;5;241m1\u001b[39m\u001b[38;5;241m+\u001b[39m\u001b[38;5;241m1\u001b[39m\u001b[38;5;241m==\u001b[39m\u001b[38;5;241m3\u001b[39m, \u001b[38;5;124m\"\u001b[39m\u001b[38;5;124m1+1 shouldn\u001b[39m\u001b[38;5;124m'\u001b[39m\u001b[38;5;124mt be equal to 3\u001b[39m\u001b[38;5;124m\"\u001b[39m\n",
      "\u001b[0;31mAssertionError\u001b[0m: 1+1 shouldn't be equal to 3"
     ]
    }
   ],
   "source": [
    "assert 1+1==3, \"1+1 shouldn't be equal to 3\""
   ]
  },
  {
   "cell_type": "markdown",
   "id": "fdf8e1a3-45d1-46de-8d70-2c2d03cff36d",
   "metadata": {},
   "source": [
    "- checking if our function is doing what it is supposed to do:"
   ]
  },
  {
   "cell_type": "code",
   "execution_count": 78,
   "id": "b1d89235-b0b4-45c8-b16c-f1efffa2169e",
   "metadata": {},
   "outputs": [],
   "source": [
    "def smallest_item(xs):\n",
    "    return min(xs)\n",
    " #check if output is correct\n",
    "\n",
    "assert smallest_item([4,1,2,-1])==-1\n",
    "assert smallest_item([4,2,5,2]) == 2"
   ]
  },
  {
   "cell_type": "markdown",
   "id": "d60ceeff-07e5-4ad1-9e59-6c4dc8077418",
   "metadata": {},
   "source": [
    "- its a good practice and make liberal use of it."
   ]
  },
  {
   "cell_type": "markdown",
   "id": "62355f59-d280-4b71-9af5-6ab5c83f5f69",
   "metadata": {},
   "source": [
    "# 17. Object Oriented Programming\n",
    "- to make code cleaner and sorted and reusable\n",
    "- what is class, object, attribute, and method\n"
   ]
  },
  {
   "cell_type": "code",
   "execution_count": 2,
   "id": "d3388490-bbb0-4d0d-aa16-da91fb967192",
   "metadata": {},
   "outputs": [],
   "source": [
    "#init(dunder) is used to intialize the object of a class\n",
    "#self is the first attribute which is name of the instance of the class\n",
    "#name and age are attributes of the class\n",
    "#self.name and self.age becomes attributes of the instance (self~name of instance/object)\n",
    "    \n",
    "\n",
    "class Dog:                            #class name is dog\n",
    "    city: str                         #common attributes for all objects \n",
    "    def __init__(self, name: str = None, age: int = None) -> None :    #special method in python __init__(also called dunder/double underscore) to initialize all the attributes \n",
    "        self.name = name\n",
    "        self.age = age\n",
    "    def bark(self):                   # A method under class dog\n",
    "        print(\"woof\")\n",
    "    "
   ]
  },
  {
   "cell_type": "markdown",
   "id": "a7a57aee-2b78-4d94-b737-57eac1268b27",
   "metadata": {},
   "source": [
    "- creating instance 'my_dog' in Dog class"
   ]
  },
  {
   "cell_type": "code",
   "execution_count": 7,
   "id": "56a8784b-e434-4682-ad60-39bd3861568d",
   "metadata": {},
   "outputs": [
    {
     "name": "stdout",
     "output_type": "stream",
     "text": [
      "Tokyo Tokyo Tokyo\n",
      "Tokyo delhi Tokyo\n",
      "Tokyo delhi Tokyo\n",
      "Tokyo Tokyo Tokyo\n",
      "hah Tokyo hah\n"
     ]
    }
   ],
   "source": [
    "Dog.city = 'Tokyo'\n",
    "my_dog = Dog(name=\"bunny\", age=3) #instance1\n",
    "your_dog = Dog('tommy', 5) #instance2\n",
    "print(my_dog.city, your_dog.city, Dog.city)\n",
    "\n",
    "your_dog.city = 'delhi' # defines instance variable which can not be changed through class variable now\n",
    "print(my_dog.city, your_dog.city, Dog.city)\n",
    "Dog.city = 'Tokyo'\n",
    "print(my_dog.city, your_dog.city, Dog.city)\n",
    "your_dog.city = Dog.city\n",
    "print(my_dog.city, your_dog.city, Dog.city)\n",
    "Dog.city=\"hah\"\n",
    "print(my_dog.city, your_dog.city, Dog.city)"
   ]
  },
  {
   "cell_type": "markdown",
   "id": "09e4a9b5-ca2a-4c02-a020-74d8916ba84e",
   "metadata": {},
   "source": [
    "## Encapsulation meaning?\n",
    "- building of data and methods in a single unit, class\n",
    "- hides internal details of object, only shows necesaary things\n",
    "\n",
    "## Subclass (inheritance)?\n",
    "- uses attributes and methods of parent(superior) class\n",
    "- it gets all properties from parent class but also has its additional traits"
   ]
  },
  {
   "cell_type": "code",
   "execution_count": 81,
   "id": "78fd65c6-a2a4-49d6-b2b5-17c8cd547d3e",
   "metadata": {},
   "outputs": [],
   "source": [
    "#parent class\n",
    "class Dog:\n",
    "    def __init__(self, name, age):\n",
    "        self.name = name\n",
    "        self.age = age\n",
    "\n",
    "#subclasses\n",
    "class labrador(Dog):\n",
    "    def bark(self):\n",
    "        print(\"Loud barking\")\n",
    "    def physique(self):\n",
    "        print (\"labrador is masculin\")\n",
    "class pomerian(Dog):\n",
    "    def bark(self):\n",
    "        print(\"soft barking\")\n",
    "    def physique(self):\n",
    "        print(\"Pomerian is cute\")"
   ]
  },
  {
   "cell_type": "markdown",
   "id": "aacd6665-ea6a-4e13-9261-29a44c3695bd",
   "metadata": {},
   "source": [
    "- this example says:\n",
    "Dogs are of two types here: labrador and Pomerian. All dogs have name and age(method in parent class). But they bark differntly and have different physiques.\n",
    "- Ex: Now if X_dog is pomerian of 3 years and Y_dog is labrador, then"
   ]
  },
  {
   "cell_type": "code",
   "execution_count": 82,
   "id": "c11ac6f5-05e1-4491-8888-224ccbcce87e",
   "metadata": {},
   "outputs": [
    {
     "name": "stdout",
     "output_type": "stream",
     "text": [
      "soft barking\n",
      "Pomerian is cute\n"
     ]
    }
   ],
   "source": [
    "X_dog = pomerian(name=\"X\", age=3)\n",
    "X_dog.bark()\n",
    "X_dog.physique()"
   ]
  },
  {
   "cell_type": "markdown",
   "id": "b769096d-69a8-4f5d-8724-625b1437b273",
   "metadata": {},
   "source": [
    "## Program for CountingClicker using OOP\n",
    "- maintains a count\n",
    "- can be clicked to increment the count\n",
    "- read counts\n",
    "- reset to zero\n",
    "\n",
    "(FYI: you should know naming conventions in coding i.e. **PascalCase** and **camelCase**)"
   ]
  },
  {
   "cell_type": "code",
   "execution_count": 83,
   "id": "b1b1abff-f2b0-4ddd-9ef7-9c0cafaf3c59",
   "metadata": {},
   "outputs": [
    {
     "name": "stdout",
     "output_type": "stream",
     "text": [
      "5\n",
      "0\n"
     ]
    }
   ],
   "source": [
    "class CountingClicker:\n",
    "    def __init__(self, count=0):\n",
    "        self.count = count\n",
    "    def click(self):\n",
    "        self.count +=1\n",
    "    def get_count(self):\n",
    "        return self.count\n",
    "    def reset(self):\n",
    "        self.count =0\n",
    "\n",
    "#craete an instance\n",
    "counter = CountingClicker()\n",
    "\n",
    "#Click few times\n",
    "counter.click()\n",
    "counter.click()\n",
    "counter.click()\n",
    "counter.click()\n",
    "counter.click()\n",
    "\n",
    "#Read counts\n",
    "current_count= counter.get_count()\n",
    "print(current_count)\n",
    "\n",
    "#reset counter\n",
    "counter.reset()\n",
    "reset_count = counter.get_count()\n",
    "print(reset_count)      "
   ]
  },
  {
   "cell_type": "markdown",
   "id": "200de4d3-982f-459f-9123-74421b2de1b7",
   "metadata": {},
   "source": [
    "**\\_\\_repr\\_\\_ method**\n",
    "- to produce string representation of class instance"
   ]
  },
  {
   "cell_type": "code",
   "execution_count": 84,
   "id": "4e9a5521-cc1e-4ad3-ad67-113322c28a21",
   "metadata": {},
   "outputs": [
    {
     "name": "stdout",
     "output_type": "stream",
     "text": [
      "CountingClicker(count=5)\n"
     ]
    }
   ],
   "source": [
    "class CountingClicker:\n",
    "    def __init__(self, count=0):\n",
    "        self.count=count\n",
    "    \n",
    "    def __repr__(self):\n",
    "        return f\"CountingClicker(count={self.count})\"\n",
    "\n",
    "#create an instance\n",
    "clicker = CountingClicker(count=5)\n",
    "clicker_string = repr(clicker)\n",
    "print(clicker_string)"
   ]
  },
  {
   "cell_type": "markdown",
   "id": "f74c465c-29a9-40d6-a2a1-c43f6465011d",
   "metadata": {},
   "source": [
    "## Public API in OOP\n",
    "**implementing public API of clicking counter**"
   ]
  },
  {
   "cell_type": "code",
   "execution_count": 85,
   "id": "79e5ef84-f61a-4579-98b3-e0d1b14ae531",
   "metadata": {},
   "outputs": [],
   "source": [
    "class CountingClicker:\n",
    "    def __init__(self, count=0):\n",
    "        self.count = count\n",
    "    def __repr__(self):\n",
    "        return f\"CountingClicker(count={self.count})\"\n",
    "    def click(self, num_times=1):\n",
    "        \"\"\"Click the clicker some number of times\"\"\"\n",
    "        self.count +=num_times\n",
    "    def read(self):\n",
    "        return self.count\n",
    "    def reset(self):\n",
    "        self.count=0"
   ]
  },
  {
   "cell_type": "markdown",
   "id": "c12f7360-988a-49ff-a2f6-9668b5162e2a",
   "metadata": {},
   "source": [
    "**The public API methods are:**\n",
    "\n",
    "1. click(self, num_times=1):\n",
    "- This method is intended to be called by external code.\n",
    "- It increments the count attribute by the specified number of times (num_times).\n",
    "\n",
    "2. read(self):\n",
    "- This method is intended to be called by external code.\n",
    "- It returns the current value of the count attribute.\n",
    "\n",
    "3.reset(self):\n",
    "- This method is intended to be called by external code.\n",
    "- It resets the count attribute to zero.\n",
    "\n",
    "- These methods are considered public because they are part of the external interface of the CountingClicker class.\n",
    "- They define how external code can interact with and use instances of this class.\n",
    "- The __repr__ method is also part of this public API, providing a readable string representation of the object.\n",
    "\n",
    "- In contrast, methods or attributes that are not meant to be accessed or modified by external code are often designated as private or protected and may have names starting with a single or double underscore (e.g., __internal_method)."
   ]
  },
  {
   "cell_type": "markdown",
   "id": "0d5cadbb-8342-4162-a827-8b131a482309",
   "metadata": {},
   "source": [
    "## Test cases (assert) for Clicker \n",
    "- Writing tests like these help us be confident that our code is working the way it’s designed to"
   ]
  },
  {
   "cell_type": "code",
   "execution_count": 86,
   "id": "760cdf09-eb9a-4d15-aef4-249224751858",
   "metadata": {},
   "outputs": [],
   "source": [
    "clicker = CountingClicker()\n",
    "assert clicker.read() == 0   #check if counter is initialized at 0 \n",
    "clicker.click()\n",
    "clicker.click()\n",
    "assert clicker.read()==2     #check if after two clicks, read is 2\n",
    "clicker.reset()\n",
    "assert clicker.read()==0     #check if after reset clicker is set to 0"
   ]
  },
  {
   "cell_type": "markdown",
   "id": "dc210c56-e95a-4606-99db-794c0d91b2fc",
   "metadata": {},
   "source": [
    "## NoResetClicker subclass of CountingClicker class\n",
    "- create a subclass named NoResetClicker\n",
    "- It will have all properties of parent class\n",
    "- but we will ride over the new reset method"
   ]
  },
  {
   "cell_type": "code",
   "execution_count": 87,
   "id": "430f45a8-44ca-45b0-aafd-c04008025f83",
   "metadata": {},
   "outputs": [],
   "source": [
    "class NoResetClicker(CountingClicker):\n",
    "    def reset(self):\n",
    "        pass                           #it will not reset but pass the execution\n",
    "\n",
    "#example\n",
    "\n",
    "clicker2= NoResetClicker()\n",
    "assert clicker2.read()==0\n",
    "clicker2.click()\n",
    "assert clicker2.read()==1\n",
    "clicker2.reset()\n",
    "assert clicker2.read()==1            #even after reset() the counter is not resetted\n"
   ]
  },
  {
   "cell_type": "markdown",
   "id": "d9e5f813-ce10-4337-8f86-c7dac26db27c",
   "metadata": {},
   "source": [
    "## Enum Class\n",
    "\n",
    "- Enum is short for enumeration, and it is a data type in many programming languages, including Python, that consists of a set of named values, called members or elements.\n",
    "\n",
    "- Each member of an enumeration is assigned a unique constant value, often starting from zero, and these values make the enumeration more readable and self-explanatory in code.\n",
    "\n",
    "- In Python, the enum module provides support for enumerations. The Enum class from this module allows you to create simple enumerations.\n",
    "\n",
    "- enums in Python are iterable, and you can access their values and names. Enums also support comparison, so you can check equality or order between enum members."
   ]
  },
  {
   "cell_type": "code",
   "execution_count": 88,
   "id": "e41a543b-6700-4ceb-994e-e8432d7bc59b",
   "metadata": {},
   "outputs": [
    {
     "name": "stdout",
     "output_type": "stream",
     "text": [
      "Color.RED\n",
      "1\n",
      "Color.RED\n",
      "Color.GREEN\n",
      "Color.BLUE\n"
     ]
    }
   ],
   "source": [
    "from enum import Enum\n",
    "\n",
    "# Define an enumeration class called Color\n",
    "class Color(Enum):\n",
    "    RED = 1\n",
    "    GREEN = 2\n",
    "    BLUE = 3\n",
    "\n",
    "# Accessing enum members\n",
    "print(Color.RED)        # Color.RED\n",
    "print(Color.RED.value)  # 1\n",
    "\n",
    "# Iterating over enum members\n",
    "for color in Color:\n",
    "    print(color)"
   ]
  },
  {
   "cell_type": "markdown",
   "id": "58f9e795-32f0-4963-8613-5308e2ebb6f4",
   "metadata": {},
   "source": [
    "# 18. Iterables and Generators\n",
    "1. Iterables:\n",
    "- Objects in Python that can be iterated over.\n",
    "- Examples: Lists, tuples, strings, dictionaries, sets.\n",
    "- Memory Usage: Stores all elements in memory.\n",
    "- Usage: Used when you need to access elements multiple times or need random access.\n",
    "- Iteration: Can be iterated using a for loop.\n",
    "\n",
    "2. Generators:\n",
    "- Special type of iterable created using functions with yield statements.\n",
    "- Memory Usage: Produces elements on-the-fly, does not store all of them in memory, which is memory efficient.\n",
    "- Lazy Evaluation: Calculates values on demand, which is beneficial for large datasets.\n",
    "- Usage: Ideal for large datasets or when iterating once through a sequence.\n",
    "- Iteration: Can be iterated once; attempting to reiterate over a generator will not produce any elements unless it is re-created."
   ]
  },
  {
   "cell_type": "markdown",
   "id": "8c1678d4-aecc-49b2-b096-9953575636b1",
   "metadata": {},
   "source": [
    "## Create Iterators"
   ]
  },
  {
   "cell_type": "code",
   "execution_count": 89,
   "id": "cb1c5b81-bf35-417b-883a-822a72bbfb7e",
   "metadata": {},
   "outputs": [
    {
     "name": "stdout",
     "output_type": "stream",
     "text": [
      "1\n",
      "2\n",
      "3\n",
      "4\n"
     ]
    }
   ],
   "source": [
    "#iterator example\n",
    "list = [1,2,3,4] #iterable object \n",
    "for i in list:\n",
    "    print(i)"
   ]
  },
  {
   "cell_type": "markdown",
   "id": "a79ddd32-ce27-4ebe-a3ae-9805a5128217",
   "metadata": {},
   "source": [
    "## Create generators\n",
    "1. Using **yield** operator"
   ]
  },
  {
   "cell_type": "code",
   "execution_count": 90,
   "id": "280070cc-41b3-4824-b504-05f5c428b4e6",
   "metadata": {},
   "outputs": [
    {
     "name": "stdout",
     "output_type": "stream",
     "text": [
      "1\n",
      "2\n",
      "3\n",
      "4\n"
     ]
    }
   ],
   "source": [
    "#Generator Example1\n",
    "#my_generator() is a generator function. \n",
    "#When you call it, it returns a generator object. \n",
    "#The yield statements in the function pause its execution, and the generator produces values one at a time when iterated over.\n",
    "def my_generator():   \n",
    "    yield 1\n",
    "    yield 2\n",
    "    yield 3\n",
    "    yield 4\n",
    "for i in my_generator():\n",
    "    print(i)"
   ]
  },
  {
   "cell_type": "code",
   "execution_count": 91,
   "id": "189334e0-aeb8-4a48-8bf0-68bc4e0696b9",
   "metadata": {},
   "outputs": [
    {
     "name": "stdout",
     "output_type": "stream",
     "text": [
      "i:0\n",
      "i:1\n",
      "i:2\n",
      "i:3\n",
      "i:4\n",
      "i:5\n",
      "i:6\n",
      "i:7\n",
      "i:8\n",
      "i:9\n"
     ]
    }
   ],
   "source": [
    "#Generate Example2\n",
    "def generate_range(n):\n",
    "    i=0\n",
    "    while i<n:\n",
    "        yield i\n",
    "        i+=1\n",
    "\n",
    "for i in generate_range(10):\n",
    "    print(f\"i:{i}\")\n"
   ]
  },
  {
   "cell_type": "markdown",
   "id": "ae0c3b4b-0ef3-4b5d-813e-4e56b63ee34e",
   "metadata": {},
   "source": [
    "2. Using **for comprehensions wrapped in parenthesis**"
   ]
  },
  {
   "cell_type": "code",
   "execution_count": 92,
   "id": "ab5a2c77-ef36-410b-a8f8-035a9c9686ea",
   "metadata": {},
   "outputs": [
    {
     "name": "stdout",
     "output_type": "stream",
     "text": [
      "0\n",
      "2\n",
      "4\n",
      "6\n",
      "8\n",
      "10\n",
      "12\n",
      "14\n",
      "16\n",
      "18\n"
     ]
    }
   ],
   "source": [
    "even_below_20 = (i for i in generate_range(20) if i%2==0)   \n",
    "\n",
    "#Such a “generator comprehension” doesn’t do any work until you iterate over it (using or ). \n",
    "\n",
    "for i in even_below_20:\n",
    "    print(i)"
   ]
  },
  {
   "cell_type": "markdown",
   "id": "710dee84-87c5-463c-8726-49c26352d214",
   "metadata": {},
   "source": [
    "**IMPORTANT**\n",
    "\n",
    "For loops are suitable for iterating over existing collections where the size of the collection is not prohibitively large.\n",
    "Generators are ideal for calculating large sets of results (especially in calculations involving loops themselves) or in situations where the full size of the collection is not known in advance and/or doesn't need to be stored in memory."
   ]
  },
  {
   "cell_type": "markdown",
   "id": "b0c32d9b-6db1-4851-8b98-671bc6e4e582",
   "metadata": {},
   "source": [
    "## Enumerate function\n",
    "- to get the values of list/generator with their indices\n",
    "- enumerate turns values into pairs (index, value)"
   ]
  },
  {
   "cell_type": "code",
   "execution_count": 93,
   "id": "bdec227d-d033-49b9-b3c8-5b85a5ff0aa2",
   "metadata": {},
   "outputs": [
    {
     "name": "stdout",
     "output_type": "stream",
     "text": [
      "index 0 is name AB\n",
      "index 1 is name CD\n",
      "index 2 is name EF\n",
      "index 3 is name GH\n"
     ]
    }
   ],
   "source": [
    "names = [\"AB\",\"CD\",\"EF\",\"GH\"]\n",
    "for i,v in enumerate(names):\n",
    "    print(f\"index {i} is name {v}\")\n",
    "\n",
    "#i, v in enumerate gives index, value.\n",
    "    "
   ]
  },
  {
   "cell_type": "markdown",
   "id": "6d04c4e5-a6bb-4706-829b-7cdb0e5e323a",
   "metadata": {},
   "source": [
    "# 19. Randomness\n",
    "- **random module** in python provides functions to generate pseudo-random variables\n",
    "- like fucntions to generate random numbers, to choose random elements from a list, shuffle sequences etc.\n",
    "- if want reproducible random numbers use random.seed\n",
    "\n",
    "\n",
    "**FYI**: Remember that the numbers generated by random are pseudo-random, which means they are generated in a predictable fashion using a mathematical formula. This is suitable for most purposes, but for cryptographic purposes, you should use the secrets module instead."
   ]
  },
  {
   "cell_type": "code",
   "execution_count": 94,
   "id": "d3ec9b91-f859-4930-8061-be2c772ff786",
   "metadata": {},
   "outputs": [
    {
     "name": "stdout",
     "output_type": "stream",
     "text": [
      "[0.5714025946899135, 0.4288890546751146, 0.5780913011344704, 0.20609823213950174]\n"
     ]
    }
   ],
   "source": [
    "import random\n",
    "random.seed(10)  #to ensure we get same result everytime, seed uses a internal state to generate Random numbers.\n",
    "four_uniform_randoms = [random.random() for _ in range(4)] #random function produces numbers uniformly bw 0 and 1, used most often\n",
    "print(four_uniform_randoms)"
   ]
  },
  {
   "cell_type": "markdown",
   "id": "ba6279ea-e274-44ca-a76d-b95825e8cb91",
   "metadata": {},
   "source": [
    "## Commonly used random functions:\n",
    "\n",
    "\n",
    "1. **random.random()**: Returns a random floating-point number between 0.0 and 1.0 (including 0.0 but excluding 1.0).\n",
    "   - used most often"
   ]
  },
  {
   "cell_type": "code",
   "execution_count": 95,
   "id": "57da4516-ed53-484d-9383-c27ce759b434",
   "metadata": {},
   "outputs": [
    {
     "name": "stdout",
     "output_type": "stream",
     "text": [
      "0.81332125135732\n"
     ]
    }
   ],
   "source": [
    "print(random.random())"
   ]
  },
  {
   "cell_type": "markdown",
   "id": "f2c44b1c-19d8-48aa-b745-9f8b38e7dfd2",
   "metadata": {},
   "source": [
    "2. **random.randint(a, b)**: Returns a random integer N such that a <= N <= b."
   ]
  },
  {
   "cell_type": "code",
   "execution_count": 96,
   "id": "36ab8b3c-deeb-4245-8b35-b3c6eaeccd6d",
   "metadata": {},
   "outputs": [
    {
     "name": "stdout",
     "output_type": "stream",
     "text": [
      "5\n"
     ]
    }
   ],
   "source": [
    "print(random.randint(1,10))"
   ]
  },
  {
   "cell_type": "markdown",
   "id": "4ab6a6ce-d4e4-4f99-b71f-906802b650c5",
   "metadata": {},
   "source": [
    "3. **random.choice(sequence)**: Returns a randomly selected element from a non-empty sequence (like a list or tuple).\n"
   ]
  },
  {
   "cell_type": "code",
   "execution_count": 97,
   "id": "1c86d4e4-b866-45c6-86d9-e246f235fe23",
   "metadata": {},
   "outputs": [
    {
     "name": "stdout",
     "output_type": "stream",
     "text": [
      "3\n"
     ]
    }
   ],
   "source": [
    "import random\n",
    "my_list = [1,2,3,4,5,8,11,1,2]\n",
    "print(random.choice(my_list))\n"
   ]
  },
  {
   "cell_type": "markdown",
   "id": "3fcf3d8b-6520-4288-aeb6-c7d34f931e44",
   "metadata": {},
   "source": [
    "- to return multiple elements **with replacements**"
   ]
  },
  {
   "cell_type": "code",
   "execution_count": 98,
   "id": "eaa1750c-1838-4118-88bf-5742c49dd5f4",
   "metadata": {},
   "outputs": [
    {
     "data": {
      "text/plain": [
       "[0, 8, 7, 5]"
      ]
     },
     "execution_count": 98,
     "metadata": {},
     "output_type": "execute_result"
    }
   ],
   "source": [
    "my_list_with_replecements = [random.choice(range(10)) for _ in range(4)]\n",
    "my_list_with_replecements"
   ]
  },
  {
   "cell_type": "markdown",
   "id": "48ac7f9c-1de4-4247-8e28-e9968faaeb12",
   "metadata": {},
   "source": [
    "4. **random.sample(population, k)**: Returns a new list containing k elements from the population while leaving the original population unchanged, i.e. **without replacement**"
   ]
  },
  {
   "cell_type": "code",
   "execution_count": 99,
   "id": "54e2c925-c451-4328-9da1-49905d2b1b4f",
   "metadata": {},
   "outputs": [
    {
     "data": {
      "text/plain": [
       "[9, 31, 95, 46, 5, 53, 17, 77, 45, 48]"
      ]
     },
     "execution_count": 99,
     "metadata": {},
     "output_type": "execute_result"
    }
   ],
   "source": [
    "Lottery_numbers= range(100)\n",
    "random.sample(Lottery_numbers,10)  #generates 10 random non repetitive numbers without replacement"
   ]
  },
  {
   "cell_type": "markdown",
   "id": "9cdabc95-9e82-436e-81c2-33ab1c0941d3",
   "metadata": {},
   "source": [
    "5. **random.choices(sequence, weights=None, k=1)**: Returns a list of k elements from the sequence.\n",
    "   - If weights is specified, selections are made according to the relative weights."
   ]
  },
  {
   "cell_type": "code",
   "execution_count": 100,
   "id": "2dd2753e-e7f4-441a-b828-0f1bed4402c1",
   "metadata": {},
   "outputs": [
    {
     "name": "stdout",
     "output_type": "stream",
     "text": [
      "[4, 1, 3]\n"
     ]
    }
   ],
   "source": [
    "print(random.choices(my_list, k=3))\n"
   ]
  },
  {
   "cell_type": "markdown",
   "id": "97093667-de97-4868-aa11-e7f25381b544",
   "metadata": {},
   "source": [
    "6. **random.shuffle(sequence)**: Shuffles the sequence in place.\n",
    "   - used often"
   ]
  },
  {
   "cell_type": "code",
   "execution_count": 101,
   "id": "e5fd818d-3b37-4453-93f3-fafcd80dd1e3",
   "metadata": {},
   "outputs": [
    {
     "name": "stdout",
     "output_type": "stream",
     "text": [
      "[11, 1, 1, 4, 2, 2, 8, 5, 3]\n"
     ]
    }
   ],
   "source": [
    "random.shuffle(my_list)\n",
    "print(my_list)"
   ]
  },
  {
   "cell_type": "markdown",
   "id": "d1cde2c1-ab27-483d-9562-311298ac3879",
   "metadata": {},
   "source": [
    "7. **random.randrange(x,y)**: takes one or two items and gives a random element between given range"
   ]
  },
  {
   "cell_type": "code",
   "execution_count": 102,
   "id": "cc1199a7-40b3-4aec-8a7b-c22a7bc4816c",
   "metadata": {},
   "outputs": [
    {
     "name": "stdout",
     "output_type": "stream",
     "text": [
      "7\n",
      "0\n"
     ]
    }
   ],
   "source": [
    "print(random.randrange(1,10))\n",
    "print(random.randrange(2))\n"
   ]
  },
  {
   "cell_type": "markdown",
   "id": "60dc55a1-122c-4135-a16f-fd6558ce4b2b",
   "metadata": {},
   "source": [
    "# 20. Regular Expression\n",
    "- called in short regex\n",
    "- sequence of characters used as a search pattern\n",
    "- used for string matching and and manipulations in programs\n",
    "- very useful but complicated"
   ]
  },
  {
   "cell_type": "code",
   "execution_count": 103,
   "id": "6b8900c7-58ce-4c0f-9a88-829e46a485a3",
   "metadata": {},
   "outputs": [
    {
     "name": "stdout",
     "output_type": "stream",
     "text": [
      "['ch', 'momi', 'e']\n",
      "chamo-m-ile-\n"
     ]
    }
   ],
   "source": [
    "#example\n",
    "#all are true\n",
    "\n",
    "import re\n",
    "\n",
    "assert not re.match(\"a\", \"cat\")   #matches first character in cat is not a\n",
    "assert re.search(\"a\",\"cat\")       #search for a in string cat(anywhere)\n",
    "assert not re.search(\"a\", \"dog\")  #dog has no a in it\n",
    "print(re.split(\"[al]\",\"chamomile\") )     #splits string at a and l\n",
    "print(re.sub(\"[0-9]\",\"-\",\"chamo1m2ile3\"))   #substitutes digits between 0-9 to dash(-)"
   ]
  },
  {
   "cell_type": "markdown",
   "id": "f7031194-905b-4e55-bf75-50a54fa7597e",
   "metadata": {},
   "source": [
    "Creating regular expressions involves defining patterns that match specific sequences of characters within text.   Here's a basic overview of how to create a regex expression:\n",
    "\n",
    "1. **Identify the Pattern**: Determine the specific pattern or sequence of characters you want to match in the text. For example, if you want to match email addresses, the pattern might be something like `[\\w\\.-]+@[\\w\\.-]+`.\n",
    "\n",
    "   - here, square brackets [] means any character within the set can be matched.\n",
    "   - \\w ,means any word character, \\.- means '.' and '-'\n",
    "   - + sign indicates that the given character set under [] should be matched one or more times.\n",
    "\n",
    "3. **Choose Metacharacters**: Use metacharacters to define the pattern. Metacharacters are special characters that have a special meaning in regex. Common metacharacters include:\n",
    "   - `.` (dot): Matches any single character except newline.\n",
    "   - `*`: Matches zero or more occurrences of the preceding character or group.\n",
    "   - `+`: Matches one or more occurrences of the preceding character or group.\n",
    "   - `?`: Matches zero or one occurrence of the preceding character or group.\n",
    "   - `[]`: Defines a character set. Matches any single character within the brackets.\n",
    "   - `|`: Alternation. Matches either the expression before or after the pipe.\n",
    "\n",
    "4. **Escape Special Characters**: If you want to match a literal metacharacter (such as `.`, `*`, `+`, etc.), you need to escape it with a backslash (`\\`). For example, to match a literal dot (`.`), you would use `\\.`.\n",
    "\n",
    "5. **Quantifiers**: Use quantifiers to specify how many times a character or group should be matched. For example, `{n}` matches exactly `n` occurrences, `{n,}` matches `n` or more occurrences, and `{n,m}` matches between `n` and `m` occurrences.\n",
    "\n",
    "6. **Anchors**: Use anchors to match positions in the text, such as the beginning (`^`) or end (`$`) of a line.\n",
    "\n",
    "7. **Grouping**: Use parentheses to group parts of the pattern together. This is useful for applying quantifiers or alternation to multiple characters or subpatterns.\n",
    "\n",
    "8. **Character Classes**: Use character classes (`\\w`, `\\d`, `\\s`, etc.) to match specific types of characters (e.g., word characters, digits, whitespace).\n",
    "\n",
    "9. **Flags**: Consider using flags such as case-insensitive matching (`re.IGNORECASE`) or multiline matching (`re.MULTILINE`) depending on your requirements.    \n",
    "\n",
    "Once you have defined your regex expression, you can use it with functions like `re.findall()`, `re.search()`, or `re.match()` in Python's `re` module to search for matches within text."
   ]
  },
  {
   "cell_type": "markdown",
   "id": "7365cef8-079e-450e-89dd-e4fdd1131d55",
   "metadata": {},
   "source": [
    "# 21. Functional Programming\n",
    "## zip and argument unpacking\n",
    "### 1. Zip "
   ]
  },
  {
   "cell_type": "markdown",
   "id": "1e375141-67f5-40ff-a4a3-32187347f00d",
   "metadata": {},
   "source": [
    "- zip function can zip multiple iterables into a single iterable of tuples\n",
    "- ex. zip of two lists will become one list of pairs (tuples) of elements from each list"
   ]
  },
  {
   "cell_type": "code",
   "execution_count": 104,
   "id": "a3288510-a328-4fea-b282-6dfd8e7dd13e",
   "metadata": {},
   "outputs": [
    {
     "name": "stdout",
     "output_type": "stream",
     "text": [
      "[(1, 'a'), (2, 'b'), (3, 'c'), (4, 'd')]\n"
     ]
    }
   ],
   "source": [
    "#zip lists of same lengths\n",
    "list1=[1,2,3,4]\n",
    "list2=[\"a\",\"b\",\"c\",\"d\"]\n",
    "zip_list= zip(list1,list2)         #zips lists\n",
    "result_list = [i for i in zip_list]  #zip function is not callable, therefore to print use iteratives e.g. 'for'\n",
    "print(result_list)"
   ]
  },
  {
   "cell_type": "markdown",
   "id": "3767d255-a069-4349-bfca-e3dd9c929205",
   "metadata": {},
   "source": [
    "- zipping iterables of different length\n",
    "- zip function stops after shorter iterable length count"
   ]
  },
  {
   "cell_type": "code",
   "execution_count": 105,
   "id": "b7c1fe57-2ed5-45b6-9f2f-53b6c1dbe0dd",
   "metadata": {},
   "outputs": [
    {
     "name": "stdout",
     "output_type": "stream",
     "text": [
      "[(1, 'a'), (2, 'b')]\n"
     ]
    }
   ],
   "source": [
    "#zip lists of diffrent length\n",
    "list1=[1,2,3,4]\n",
    "list2=[\"a\",\"b\"]\n",
    "zip_list=zip(list1, list2)\n",
    "result_list = [i for i in zip_list]\n",
    "print(result_list)"
   ]
  },
  {
   "cell_type": "markdown",
   "id": "95480a2d-cf88-4501-bf93-60b22d2afc8e",
   "metadata": {},
   "source": [
    "### 2. unpacking/unzip"
   ]
  },
  {
   "cell_type": "code",
   "execution_count": 106,
   "id": "f3043aa4-f272-4986-bbff-5adf7b5bbb09",
   "metadata": {},
   "outputs": [
    {
     "name": "stdout",
     "output_type": "stream",
     "text": [
      "('a', 'b', 'c') (1, 2, 3)\n"
     ]
    }
   ],
   "source": [
    "list=[('a',1),('b',2),('c',3)]\n",
    "list1,list2=zip(*list)        # asterisk * uses members of 'list' as individual arguments of zip\n",
    "print(list1,list2)"
   ]
  },
  {
   "cell_type": "code",
   "execution_count": 107,
   "id": "af3abd6d-6e0a-4f57-8b08-1fd12c88bb87",
   "metadata": {},
   "outputs": [
    {
     "name": "stdout",
     "output_type": "stream",
     "text": [
      "('a', 'b', 'c') (1, 2, 3)\n"
     ]
    }
   ],
   "source": [
    "#therefore following will also unzip ('a',1),('b',2),('c',3)\n",
    "list1, list2 = zip(('a',1),('b',2),('c',3))\n",
    "print(list1, list2)"
   ]
  },
  {
   "cell_type": "markdown",
   "id": "30664481-0a60-49ae-bf2f-dd21e1624e82",
   "metadata": {},
   "source": [
    "### unpacking argument in a function example"
   ]
  },
  {
   "cell_type": "code",
   "execution_count": 108,
   "id": "a0ea6212-1d1c-42ef-9f38-e8fa6ab855b7",
   "metadata": {},
   "outputs": [
    {
     "data": {
      "text/plain": [
       "3"
      ]
     },
     "execution_count": 108,
     "metadata": {},
     "output_type": "execute_result"
    }
   ],
   "source": [
    "def add_ab(a,b): return a+b\n",
    "add_ab(1,2)\n"
   ]
  },
  {
   "cell_type": "code",
   "execution_count": 109,
   "id": "718ce09e-bb1d-46e3-9277-9a452a756e5e",
   "metadata": {},
   "outputs": [
    {
     "name": "stdout",
     "output_type": "stream",
     "text": [
      "add_ab needs two inputs\n"
     ]
    },
    {
     "ename": "TypeError",
     "evalue": "add_ab() missing 1 required positional argument: 'b'",
     "output_type": "error",
     "traceback": [
      "\u001b[0;31m---------------------------------------------------------------------------\u001b[0m",
      "\u001b[0;31mTypeError\u001b[0m                                 Traceback (most recent call last)",
      "Cell \u001b[0;32mIn[109], line 5\u001b[0m\n\u001b[1;32m      3\u001b[0m \u001b[38;5;28;01mexcept\u001b[39;00m \u001b[38;5;167;01mTypeError\u001b[39;00m:\n\u001b[1;32m      4\u001b[0m     \u001b[38;5;28mprint\u001b[39m(\u001b[38;5;124m\"\u001b[39m\u001b[38;5;124madd_ab needs two inputs\u001b[39m\u001b[38;5;124m\"\u001b[39m)\n\u001b[0;32m----> 5\u001b[0m \u001b[43madd_ab\u001b[49m\u001b[43m(\u001b[49m\u001b[43m[\u001b[49m\u001b[38;5;241;43m1\u001b[39;49m\u001b[43m,\u001b[49m\u001b[38;5;241;43m2\u001b[39;49m\u001b[43m]\u001b[49m\u001b[43m)\u001b[49m\n",
      "\u001b[0;31mTypeError\u001b[0m: add_ab() missing 1 required positional argument: 'b'"
     ]
    }
   ],
   "source": [
    "try:\n",
    "    add_ab([1,2])\n",
    "except TypeError:\n",
    "    print(\"add_ab needs two inputs\")\n",
    "add_ab([1,2])"
   ]
  },
  {
   "cell_type": "code",
   "execution_count": 110,
   "id": "dad1dc64-8164-4033-ac9f-9119cefd3c54",
   "metadata": {},
   "outputs": [
    {
     "data": {
      "text/plain": [
       "3"
      ]
     },
     "execution_count": 110,
     "metadata": {},
     "output_type": "execute_result"
    }
   ],
   "source": [
    "add_ab(*[1,2])  #delist [1,2] to 1 and 2 two args\n",
    "                #not much useful but neat trick"
   ]
  },
  {
   "cell_type": "markdown",
   "id": "faf2f96c-c920-4cd8-a7fe-41ddaf55976b",
   "metadata": {},
   "source": [
    "## args and kwargs"
   ]
  },
  {
   "cell_type": "markdown",
   "id": "55e76e2e-9b8b-4b92-a3bf-73a3258a4703",
   "metadata": {},
   "source": [
    "### 1. *args (Arbitrary positional arguments)"
   ]
  },
  {
   "cell_type": "markdown",
   "id": "dd948751-9625-4d5f-bebe-3b10767179a4",
   "metadata": {},
   "source": [
    "- allows to define a flexible function that accpets any number of arguments.\n",
    "- collects these arguments as **tuple**"
   ]
  },
  {
   "cell_type": "code",
   "execution_count": 111,
   "id": "bbce502a-901b-4f59-8e6d-72c1b57342ca",
   "metadata": {},
   "outputs": [
    {
     "name": "stdout",
     "output_type": "stream",
     "text": [
      "(3, 4, 5, 6)\n"
     ]
    }
   ],
   "source": [
    "def my_function(*args):\n",
    "    print(args)\n",
    "my_function(3,4,5,6)"
   ]
  },
  {
   "cell_type": "markdown",
   "id": "b393c2ba-d1f2-48fd-9045-9deb321b88fc",
   "metadata": {},
   "source": [
    "### 2. *kwargs (Arbitrary Keyword arguments)\n",
    "- allows function to accpet any number of keyword arguments\n",
    "- collect these args as **dictionary**"
   ]
  },
  {
   "cell_type": "code",
   "execution_count": 112,
   "id": "7a00d712-7f0f-4ae7-be1b-2423056ef68f",
   "metadata": {},
   "outputs": [
    {
     "name": "stdout",
     "output_type": "stream",
     "text": [
      "a:1\n",
      "b:2\n"
     ]
    }
   ],
   "source": [
    "def my_function2(**kwargs): \n",
    "    \n",
    "    item_input=kwargs.items()   #dictionary of keyword argument\n",
    "    #print(item_input)           #Output- dict_items([('a', 1), ('b', 2)])\n",
    "    \n",
    "    for i,j in item_input:      #i is key and j is value\n",
    "        print(f\"{i}:{j}\")\n",
    "\n",
    "my_function2(a=1, b=2)"
   ]
  },
  {
   "cell_type": "markdown",
   "id": "b024b3cf-f9e9-4fcd-8115-b9d05e2eb308",
   "metadata": {},
   "source": [
    "### 3. Combining *args and **kwargs"
   ]
  },
  {
   "cell_type": "markdown",
   "id": "1035446f-4222-4b19-9b45-61ae4bad8239",
   "metadata": {},
   "source": [
    "def my_function_combined(*args, **kwargs):\n",
    "    print(args)\n",
    "    for i, j in kwargs.items():\n",
    "        print(i, j)\n",
    "\n",
    "my_function_combined(1,2,a=4,b=5)"
   ]
  },
  {
   "cell_type": "markdown",
   "id": "50d5df53-73e4-4b75-ad9d-e25911955cbb",
   "metadata": {},
   "source": [
    "### Example"
   ]
  },
  {
   "cell_type": "markdown",
   "id": "628b2135-576f-4a12-9568-3ae1ecc032c3",
   "metadata": {},
   "source": [
    "- create a higher order function 'doubler() that gives 2x of another function f(x)"
   ]
  },
  {
   "cell_type": "code",
   "execution_count": 113,
   "id": "d543d622-0cdd-4927-8ff5-57366f7a8dce",
   "metadata": {},
   "outputs": [],
   "source": [
    "def doubler(f):\n",
    "    def g(x):                 #another function to keep ref of f(x)\n",
    "        return 2*f(x)\n",
    "    return g\n",
    "\n",
    "#this works in cases when only one argument is given\n",
    "#for example\n",
    "def f1(x):\n",
    "    return x+1\n",
    "\n",
    "x = doubler(f1)\n",
    "assert x(2) ==6 \n",
    "assert x(-2)==-2\n",
    "    "
   ]
  },
  {
   "cell_type": "markdown",
   "id": "d196a637-90bb-4ea2-a63a-69371b0913f5",
   "metadata": {},
   "source": [
    "- Now, what for function f2(x,y), that takes more than one argument?\n",
    "- use *args\n",
    "- ex to get sum of x and y\n"
   ]
  },
  {
   "cell_type": "code",
   "execution_count": 114,
   "id": "ede7e842-5a6c-47fb-bf54-6e0f0cb2ebb3",
   "metadata": {},
   "outputs": [
    {
     "ename": "TypeError",
     "evalue": "'int' object is not callable",
     "output_type": "error",
     "traceback": [
      "\u001b[0;31m---------------------------------------------------------------------------\u001b[0m",
      "\u001b[0;31mTypeError\u001b[0m                                 Traceback (most recent call last)",
      "Cell \u001b[0;32mIn[114], line 8\u001b[0m\n\u001b[1;32m      6\u001b[0m     \u001b[38;5;28;01mreturn\u001b[39;00m x\u001b[38;5;241m+\u001b[39my\n\u001b[1;32m      7\u001b[0m k \u001b[38;5;241m=\u001b[39m doubler(f2)\n\u001b[0;32m----> 8\u001b[0m \u001b[38;5;28;01massert\u001b[39;00m \u001b[43mk\u001b[49m\u001b[43m(\u001b[49m\u001b[38;5;241;43m2\u001b[39;49m\u001b[43m,\u001b[49m\u001b[38;5;241;43m3\u001b[39;49m\u001b[43m)\u001b[49m\u001b[38;5;241m==\u001b[39m\u001b[38;5;241m5\u001b[39m\n\u001b[1;32m      9\u001b[0m \u001b[38;5;28;01massert\u001b[39;00m k(\u001b[38;5;241m-\u001b[39m\u001b[38;5;241m2\u001b[39m,\u001b[38;5;241m3\u001b[39m)\u001b[38;5;241m==\u001b[39m\u001b[38;5;241m1\u001b[39m\n",
      "Cell \u001b[0;32mIn[114], line 3\u001b[0m, in \u001b[0;36mdoubler.<locals>.g\u001b[0;34m(*args)\u001b[0m\n\u001b[1;32m      2\u001b[0m \u001b[38;5;28;01mdef\u001b[39;00m \u001b[38;5;21mg\u001b[39m(\u001b[38;5;241m*\u001b[39margs):\n\u001b[0;32m----> 3\u001b[0m     \u001b[38;5;28;01mreturn\u001b[39;00m \u001b[38;5;28;43msum\u001b[39;49m\u001b[43m(\u001b[49m\u001b[43margs\u001b[49m\u001b[43m)\u001b[49m\n",
      "\u001b[0;31mTypeError\u001b[0m: 'int' object is not callable"
     ]
    }
   ],
   "source": [
    "def doubler(f):\n",
    "    def g(*args):\n",
    "        return sum(args)\n",
    "    return g\n",
    "def f2(x,y):\n",
    "    return x+y\n",
    "k = doubler(f2)\n",
    "assert k(2,3)==5\n",
    "assert k(-2,3)==1\n"
   ]
  },
  {
   "cell_type": "markdown",
   "id": "9a20aee6-9ead-46e7-9aad-1e1dc7064607",
   "metadata": {},
   "source": [
    "- We can also give attributes in args and kwargs combined\n",
    "- Example: we have one list with x and y value and dict with z:'value' and want to produce x+y+z"
   ]
  },
  {
   "cell_type": "code",
   "execution_count": 115,
   "id": "aca3a88c-ca8a-4b32-b4c6-a311795f8cc9",
   "metadata": {},
   "outputs": [],
   "source": [
    "def combined(x,y,z):\n",
    "    return x+y+z\n",
    "\n",
    "list = [1,2]\n",
    "dict = {'z':3}\n",
    "\n",
    "assert combined(*list,**dict)==6"
   ]
  },
  {
   "cell_type": "markdown",
   "id": "2abff71c-8031-459f-a796-bdb1d06d806f",
   "metadata": {},
   "source": [
    "## Type Annotations"
   ]
  },
  {
   "cell_type": "markdown",
   "id": "5d677191-12e7-4902-8ac2-a3a16147cac4",
   "metadata": {},
   "source": [
    "- python is **dynamically typed language**\n",
    "- i.e. it doesn't care about type of object as long as it is used in valid ways "
   ]
  },
  {
   "cell_type": "code",
   "execution_count": 116,
   "id": "c998a81a-4bd1-437f-8c1f-58bb9ca0ba0d",
   "metadata": {},
   "outputs": [
    {
     "name": "stdout",
     "output_type": "stream",
     "text": [
      "cannot add int and string\n"
     ]
    }
   ],
   "source": [
    "def add(a,b):\n",
    "    return a+b\n",
    "\n",
    "assert add(1,2)==3\n",
    "assert add(\"a\",\"b\")==\"ab\"\n",
    "assert add([1,2],[3])==[1,2,3]\n",
    "\n",
    "try: \n",
    "    add(1,\"c\")\n",
    "except TypeError:\n",
    "    print(\"cannot add int and string\")"
   ]
  },
  {
   "cell_type": "markdown",
   "id": "fbe347b9-d22f-4342-a0bd-737da9c572b4",
   "metadata": {},
   "source": [
    "- but python 3.6. provides Type annotation feature, i.e. we can specify expected datatypes of fucntion args, return value, and variables.\n"
   ]
  },
  {
   "cell_type": "code",
   "execution_count": 117,
   "id": "520a99c3-f042-4561-b7a0-da1052314b8e",
   "metadata": {},
   "outputs": [
    {
     "data": {
      "text/plain": [
       "'ab'"
      ]
     },
     "execution_count": 117,
     "metadata": {},
     "output_type": "execute_result"
    }
   ],
   "source": [
    "#example\n",
    "def add(a: int, b: int) -> int:\n",
    "    return a+b\n",
    "add(10,5)     #you want this to be ok\n",
    "add(\"a\",\"b\")  #this is not ok\n",
    "#"
   ]
  },
  {
   "cell_type": "markdown",
   "id": "a97ee7e2-a9db-455f-9d38-8d153786c6bf",
   "metadata": {},
   "source": [
    "- in actual the type annotations do nothing.\n",
    "- but useful because\n",
    "1. important form of documentation, for example\n",
    "- `def dot_product(x,y):` (less informative)\n",
    "- `def dot_product(x: vector, y: vector) -> float:` (more informative)"
   ]
  },
  {
   "cell_type": "markdown",
   "id": "df951ce9-b5d0-4869-b066-4da4af98ad42",
   "metadata": {},
   "source": [
    "2. There are external tools like mypy that read your code, inspecta and tell you the type error, if any.\n",
    "- for example my file has `add(\"hi\", \"there\")`\n",
    "- mypy will warn you: \"argument has incompatiple type str; expected int\""
   ]
  },
  {
   "cell_type": "markdown",
   "id": "a2585464-dcc3-46a8-a85a-6bfd3cc4428b",
   "metadata": {},
   "source": [
    "3. forces you to design cleaner functions and interfaces."
   ]
  },
  {
   "cell_type": "markdown",
   "id": "2285f8eb-997a-4389-a871-87430778ce94",
   "metadata": {},
   "source": [
    "4. using type annotation allows editor to suggest autocomplete options and avoid TypeErrors"
   ]
  },
  {
   "cell_type": "markdown",
   "id": "7447275f-3917-49a7-867b-e2ac4cb7586d",
   "metadata": {},
   "source": [
    "**FYI: type hints take almost no additional time to type and allow editor to save you time, I maintain that they actually allow you to write code more quickly, even for small projects.**"
   ]
  },
  {
   "cell_type": "markdown",
   "id": "ba242c4e-52da-40b3-83b3-10536db1008c",
   "metadata": {},
   "source": [
    "## How to write Type Annotations?\n",
    "- for built-in types line int, bool, float : its easy\n",
    "- but what about list e.g.?\n",
    "- `def total(xs: list) -> float:`  \n",
    "  `return sum(xs)`\n",
    "- its correct but not very clear, we want list of floats\n",
    "- therefore use **typing module**"
   ]
  },
  {
   "cell_type": "markdown",
   "id": "26383110-dafd-4c94-be47-55d32bd78522",
   "metadata": {},
   "source": [
    "### typing module "
   ]
  },
  {
   "cell_type": "code",
   "execution_count": 118,
   "id": "c6f9fb3b-02d7-4222-87d0-3a969e8807ad",
   "metadata": {},
   "outputs": [],
   "source": [
    "from typing import List  #remember capital L\n",
    "\n",
    "def total(xs:List[float]) -> float:\n",
    "    return sum(xs)"
   ]
  },
  {
   "cell_type": "markdown",
   "id": "da307378-8c0e-48f3-93ad-5c8195c3f0e3",
   "metadata": {},
   "source": [
    "### annotations for variables?\n",
    "- many times its obvious like `x: int= 5`. No need to use as int is already assigned\n",
    "- many times not obvious like `values= []` or `best_so_far= None`\n",
    "  - in such cases we must use annotations from typing module\n",
    "  - `from typing import Optional`  \n",
    "      `values: List[int] = []`  \n",
    "      `best_so_far: Optional[float]=None`  #allowed to be either a flot or none"
   ]
  },
  {
   "cell_type": "markdown",
   "id": "8e67c63d-cef1-458c-9781-b3a3ac2a9d2e",
   "metadata": {},
   "source": [
    "- frequently used annotations from typing module\n",
    "1. `int`, `float`, `str`, `bool`: Basic types for integers, floating-point numbers, strings, and booleans.\n",
    "   \n",
    "2. `List`, `Tuple`, `Dict`, `Set`: Generic types for lists, tuples, dictionaries, and sets.\n",
    "- Example  \n",
    "`from typing import List, Tuple, Dict, Set`  \n",
    "`def process_data(data: List[int]) -> Dict[str, Set[str]]:`\n",
    "\n",
    "3. Union and Optional:\n",
    "\n",
    "- `Union` is used to indicate that a variable or parameter can have multiple types.\n",
    "- `Optional` is equivalent to `Union`[T, None].\n",
    "- Example:  \n",
    "`from typing import Union, Optional`  \n",
    "`def display_result(result: Union[str, int]) -> Optional[str]:`  \n",
    "\n",
    "4. Callable and Iterable:\n",
    "   `Callable` is used for functions or callables, and `Iterable` is used for iterable objects."
   ]
  },
  {
   "cell_type": "code",
   "execution_count": 120,
   "id": "9340083a-bb0b-4cc7-b1c0-6915bb7f66e6",
   "metadata": {},
   "outputs": [
    {
     "name": "stdout",
     "output_type": "stream",
     "text": [
      "[1, 4, 9, 16, 25]\n"
     ]
    }
   ],
   "source": [
    "from typing import Callable, Iterable, List\n",
    "\n",
    "#my_function has 2 arguments f1 and values and return list of int\n",
    "    #f1 is callable function with two int attributes and int return value\n",
    "    #values is a list/generator of int types\n",
    "\n",
    "def my_function(f1: Callable[[int, int], int], values: Iterable[int]) -> List[int]:\n",
    "    result = [f1(x, x) for x in values]\n",
    "    return result\n",
    "\n",
    "# Example usage\n",
    "def multiply(x: int, y: int) -> int:\n",
    "    return x * y\n",
    "\n",
    "numbers = [1, 2, 3, 4, 5]\n",
    "\n",
    "# Applying the multiply function to each element in the list\n",
    "result_list = my_function(multiply, numbers)  #f1=multiply, values=numbers\n",
    "\n",
    "print(result_list)\n"
   ]
  },
  {
   "cell_type": "code",
   "execution_count": null,
   "id": "aa5f65ea-5263-49c9-aa03-7d4b7260ceef",
   "metadata": {},
   "outputs": [],
   "source": []
  }
 ],
 "metadata": {
  "kernelspec": {
   "display_name": "Python 3 (ipykernel)",
   "language": "python",
   "name": "python3"
  },
  "language_info": {
   "codemirror_mode": {
    "name": "ipython",
    "version": 3
   },
   "file_extension": ".py",
   "mimetype": "text/x-python",
   "name": "python",
   "nbconvert_exporter": "python",
   "pygments_lexer": "ipython3",
   "version": "3.11.5"
  }
 },
 "nbformat": 4,
 "nbformat_minor": 5
}
