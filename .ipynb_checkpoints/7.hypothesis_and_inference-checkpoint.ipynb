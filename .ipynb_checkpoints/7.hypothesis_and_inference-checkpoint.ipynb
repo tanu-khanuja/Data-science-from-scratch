{
 "cells": [
  {
   "cell_type": "markdown",
   "id": "75444da7-bf02-4bb0-9475-cb214c2124f5",
   "metadata": {},
   "source": [
    "# 1. Statistical Hypothesis - what is it?\n",
    "\n",
    "- its a **statement/assumption** about a parameter\n",
    "\n",
    "\n",
    "- as data scientists we want to test whether a certain hypothesis is true/false - using probability and statistics\n",
    "\n",
    "\n",
    "- so, in **statistical testing**, there can be **two types of hypothesis**:\n",
    "\n",
    "  1. **null hypothesis** (H<sub>0</sub>) - represent default assumption\n",
    "  2. **alternative hypothesis** (H<sub>1</sub> or H<sub>a</sub>) - the contradictory statement where reasearcher is interested in.\n",
    "\n",
    " \n",
    "- in hypothesis testing, **goal is to assess evidence against null hypothesis** using sample data - how?\n",
    "  1. first, collect data\n",
    "  2. calculate test statistic based on sample data\n",
    "  3. then compare test statistic with critical value / p-value to make decision\n",
    "\n",
    "\n",
    "- There are **two possible outcomes** of hypothesis testing:\n",
    "\n",
    "  1. **Failed to reject the null hypothesis**: The evidence is not strong enough to reject the null hypothesis.\n",
    "  2. **Reject the null hypothesis**: The evidence is strong enough to reject the null hypothesis in favor of the alternative hypothesis.\n",
    "\n",
    "- statistical hypothesis testing does not prove that a hypothesis is true. Instead, it provides evidence to support or reject a hypothesis based on the observed data.\n",
    "\n",
    "\n",
    "- Common **statistical tests** used in hypothesis testing -\n",
    "  1. t-test,\n",
    "  2. chi-square test,\n",
    "  3. ANOVA (analysis of variance),\n",
    "  4. and regression analysis, among others.\n",
    "  - The choice of test depends on the nature of data and research question being investigated.\n",
    " "
   ]
  },
  {
   "cell_type": "markdown",
   "id": "8bb3fafe-e1cb-4b70-b6be-2f1d8ae45659",
   "metadata": {},
   "source": [
    "# 2. Example of statistical testing: flipping a coin\n",
    "\n",
    "- testing goal - whether the coin is fair?\n",
    "\n",
    "- our null hypothesis, (H<sub>0</sub>) is: coin is fair with $p=0.5$ (probability of landing heads)\n",
    "\n",
    "- our alternativ hypothesis, (H<sub>1</sub>) is: coin is not fair with $p \\neq 0.5$\n",
    "\n",
    "- for experiment, we will flip a coin `n` number of times and count the heads. Its a **bernoulli trail** and `X` = sum of outcomes= counts of head, will be a **Binomial RV**.\n",
    "\n",
    "- so, lets approximate the bernoulli trial with given `n` and `p` to find SD($\\sigma$) and mean($\\mu$)\n"
   ]
  },
  {
   "cell_type": "markdown",
   "id": "db6bdba4-5c1f-466a-a090-c650565e199a",
   "metadata": {},
   "source": [
    "## (a) mu and sigma of binomial (normal_approximation)"
   ]
  },
  {
   "cell_type": "code",
   "execution_count": 13,
   "id": "4833a23f-e368-4903-ae83-8800c81532d4",
   "metadata": {},
   "outputs": [
    {
     "data": {
      "text/plain": [
       "(50.0, 5.0)"
      ]
     },
     "execution_count": 13,
     "metadata": {},
     "output_type": "execute_result"
    }
   ],
   "source": [
    "from typing import Tuple  #to get mean and SD in a tuple\n",
    "import math               #to find sqrt in eqn\n",
    "\n",
    "def normal_approximation_to_binomial(n: int, p: float) -> Tuple[float, float]:\n",
    "    \"\"\"returns mu and sigma corresponding to binomial(n,p)\"\"\"\n",
    "    mu = n*p\n",
    "    sigma = math.sqrt(n*p*(1-p))\n",
    "    return (mu, sigma)\n",
    "\n",
    "normal_approximation_to_binomial(100,0.5)    "
   ]
  },
  {
   "cell_type": "markdown",
   "id": "c09316fb-4cc6-4d2a-b212-dcbe0ffa83f8",
   "metadata": {},
   "source": [
    "## (b) Finding probability below/above/between threshold RV value/s\n",
    "- whenever a RV follows a normal distribution, we use **normal_CDF** to find probability within/outside any interval.\n",
    "- focus on CDF while thinking about finding probability, i.e. CDF(X) = P(X<=x)"
   ]
  },
  {
   "cell_type": "code",
   "execution_count": 14,
   "id": "06b92529-01fe-408a-aceb-8418e451688c",
   "metadata": {},
   "outputs": [],
   "source": [
    "from scratch.probability import normal_CDF\n",
    "\n",
    "#normal CDF is probability for an event less than a threshold x\n",
    "normal_probability_below = normal_CDF\n",
    "\n",
    "#probability above threshold x\n",
    "def normal_probability_above(lo: float,\n",
    "                             mu: float=0,\n",
    "                             sigma: float=1) -> float:\n",
    "    \"probability that an N(mu, sigma) > lo(threshold)\"\"\"\n",
    "    return 1-normal_CDF(lo, mu, sigma)\n",
    "\n",
    "\n",
    "#probability between lo and hi\n",
    "def normal_probability_between(lo:float, hi:float, mu:float=0, sigma:float=1) -> float:\n",
    "    \"\"\"probability than an N(mu, sigma) is between lo and hi\"\"\"\n",
    "    return normal_CDF(hi,mu,sigma) - normal_CDF(lo,mu,sigma)\n",
    "\n",
    "#probability outside lo and hi\n",
    "def normal_probability_outside(lo:float, hi:float, mu:float=0, sigma:float=1) -> float:\n",
    "    \"\"\"probability that an N(mu,sigma) is not between lo and hi\"\"\"\n",
    "    return 1-normal_probability_between(lo,hi,mu,sigma)\n",
    "\n"
   ]
  },
  {
   "cell_type": "markdown",
   "id": "52122773-1da7-43db-9a8e-eeaf9c1632c9",
   "metadata": {},
   "source": [
    "## (c) Finding RV threshold for given probability\n",
    "- using inverse_normal_cdf function from our probability module"
   ]
  },
  {
   "cell_type": "code",
   "execution_count": 15,
   "id": "c47153fb-353c-41fa-937e-585a27ecba60",
   "metadata": {},
   "outputs": [
    {
     "name": "stdout",
     "output_type": "stream",
     "text": [
      "(469.0325870513916, 530.9674129486084)\n"
     ]
    }
   ],
   "source": [
    "from scratch import probability as pb\n",
    "\n",
    "def normal_upper_bound(probability:float, \n",
    "                       mu:float=0,\n",
    "                       sigma:float=1) -> float:\n",
    "    \"\"\"Returns z for which P(X<=z)=probability\"\"\"\n",
    "    return pb.inverse_normal_cdf(probability,mu,sigma)\n",
    "\n",
    "\n",
    "def normal_lower_bound(probability:float, \n",
    "                       mu:float=0,\n",
    "                       sigma:float=1) -> float:\n",
    "    \"\"\"Returns z for which P(X>=z) = probability\"\"\"\n",
    "    return pb.inverse_normal_cdf(1-probability,mu,sigma)\n",
    "\n",
    "def normal_two_sided_bounds(probability:float, \n",
    "                           mu:float=0,\n",
    "                           sigma:float=1) -> Tuple[float,float]:\n",
    "    \"\"\"returns symmetric bounds(around mean) that contains specified probability\"\"\"\n",
    "    tail_probability = (1-probability)/2\n",
    "    lower_bound = normal_upper_bound(tail_probability,mu,sigma)\n",
    "    upper_bound = normal_lower_bound(tail_probability,mu,sigma)\n",
    "    return (lower_bound,upper_bound)\n",
    "\n",
    "print(normal_two_sided_bounds(0.95,500,15.8))"
   ]
  },
  {
   "cell_type": "markdown",
   "id": "f0f0d0d4-2fd5-431d-ba12-2d87345fceda",
   "metadata": {},
   "source": [
    "- if our hypothesis of fairness is True, then for coin flips 1000 times, probability 0.5, will give mu=500 and sigma=15.8.\n",
    "- Lets check:"
   ]
  },
  {
   "cell_type": "code",
   "execution_count": 16,
   "id": "7614653f-c469-475c-9870-b2948e232c15",
   "metadata": {},
   "outputs": [],
   "source": [
    "mean,_ = normal_approximation_to_binomial(n = 1000, p = 0.5) \n",
    "_,SD = normal_approximation_to_binomial(n = 1000, p = 0.5) \n",
    "assert 499<mean<501\n",
    "assert 15.7<SD<15.9"
   ]
  },
  {
   "cell_type": "markdown",
   "id": "515ff41a-78d5-4eaa-bb71-5daa9e8460a0",
   "metadata": {},
   "source": [
    "## (d) Error types in hypothesis testing\n",
    "\n",
    "Imagine we're trying to make a decision based on some data, and there are two possible situations:\n",
    "\n",
    "- <u>Null Hypothesis (H0) is True</u>\n",
    "- <u>Null Hypothesis (H0) is False</u>\n",
    "\n",
    "However, based on our testing the result can have 2 types of error -- **Type 1 Error** and **Type 2 Error**\n",
    "\n",
    "### 1. Type 1 Error (False Positive): \n",
    "\n",
    "- (H<sub>0</sub>) is true, but we incorrectly conclude that there is a significant effect\n",
    "\n",
    "- To control this type of error, we set a threshold called significance level\n",
    "- \n",
    "- It's like saying, \"I'm only willing to make a Type 1 Error 5% of the time\"\n",
    "\n",
    "so, we decide how willing we are to make a specific type of mistake, i.e. define a error range, which is normally set to 5% or 1%.\n",
    "\n",
    "#### Example - define error range\n",
    "\n",
    "- consider a test that rejects H0 if X falls outside a given range:"
   ]
  },
  {
   "cell_type": "code",
   "execution_count": 17,
   "id": "8ba92014-308e-4741-ae5e-ef5dc0e13633",
   "metadata": {},
   "outputs": [],
   "source": [
    "#mean and SD of binomial variable of a fair coin flipped 1000 times\n",
    "mu_0, sigma_0 = normal_approximation_to_binomial(1000, 0.5)\n",
    "assert mu_0 ==500, sigma_0 ==15.8\n",
    "\n",
    "#we decide how much we are willing to make type 1 error\n",
    "#lets say H0 becomes false when it falls beyond (469,531 - centered around mean)\n",
    "\n",
    "#probability corresponding to bounds (469, 531)\n",
    "p = normal_probability_between(469, 531, mu_0, sigma_0)  #which is 0.95\n",
    "lower_bound, upper_bound = normal_two_sided_bounds(p,mu_0,sigma_0) \n"
   ]
  },
  {
   "cell_type": "markdown",
   "id": "2e1dc18d-37ae-484c-ae73-4a950b04b5a8",
   "metadata": {},
   "source": [
    "Means assuming p really equals 0.5 (i.e., is true), there is just a 5% chance we observe an X that lies outside this interval. \n",
    "\n",
    "Said differently, if H0 is true, then, approximately 95 times out of 100, this test will give the correct result."
   ]
  },
  {
   "cell_type": "markdown",
   "id": "76988540-0410-4833-a68f-46cd644a7d02",
   "metadata": {},
   "source": [
    "### Type 2 Error (False Negative)\n",
    "- when H0 is false in real, but we reject H1.\n",
    "- but how to say that H0 is false - we need to define it\n",
    "- So, lets consider the p = 0.55, slightly biased towards head\n",
    "- now calculate power of the test:\n"
   ]
  },
  {
   "cell_type": "code",
   "execution_count": 18,
   "id": "6c70053a-f21c-49c2-87fb-cda16f4fc2e4",
   "metadata": {},
   "outputs": [],
   "source": [
    "lo, hi = normal_two_sided_bounds(0.95, mu_0, sigma_0) #bounds based on H0 is true (p=0.5)\n",
    "mu_1, sigma_1 = normal_approximation_to_binomial(1000,0.55)  #real mean and SD when H0 is false (p=0.55)\n",
    "\n",
    "#we have failed to reject H0 because X is still between original interval(lo, hi) \n",
    "type_2_probability = normal_probability_between(lo, hi, mu_1, sigma_1)  #0.1134\n",
    "\n",
    "#means probability of correctly rejecting a false null hypothesis -> power of testing\n",
    "power = 1- type_2_probability  #0.887"
   ]
  },
  {
   "cell_type": "markdown",
   "id": "46759d92-dc3d-4967-a785-a124167d6b9d",
   "metadata": {},
   "source": [
    "- imagine our null hypothesis H0 is = coin is not biased towards head (means it can be bias towards tail)\n",
    "- in such case we want one-sided test that rejects H0 when X>>500 and not reject when X<500\n",
    "- so, 5% significance test involves finding the cutoff below which 95% of probability lies"
   ]
  },
  {
   "cell_type": "code",
   "execution_count": 19,
   "id": "8d85366c-3f31-42af-9f67-f8bf818e50b2",
   "metadata": {},
   "outputs": [],
   "source": [
    "hi = normal_upper_bound(0.95,mu_0, sigma_0) #comes 526\n",
    "type_2_probability = normal_probability_below(hi, mu_1, sigma_1)    \n",
    "power = 1- type_2_probability    #0.9363  \n",
    "\n",
    "#this is more powerful test beacuse it does not reject H0 when X is below 469 but rejects H0 when X is above 526\n",
    "#more likely H1 will be true in this case"
   ]
  },
  {
   "cell_type": "markdown",
   "id": "efda62e3-adc7-4eeb-bc5c-899ba4247f0a",
   "metadata": {},
   "source": [
    "# 3. p-values\n",
    "\n",
    "- p-value is the proability of observing <u>as extreme as or more extreme</u>  than the observed value of a null hypotheis.\n",
    "- when (p-value) < (significance level, $\\alpha$) => reject H0\n",
    "- when (p-value) > (significance level, $\\alpha$) => reject H1\n",
    "\n",
    "Let's understand with the example of two-sided coin.\n",
    "\n",
    "- Flipping a coin 1000 times, got 550 times head\n",
    "- H0 = coin is fair, H1 = coin is not fair\n",
    "- p-value is calculated using one of hypothesis testing method like t-test\n",
    "- p-value measures the chances of observing X>=550 randomly, considering H0=true'\n",
    "- if p-value is large means its ok if we observe extreme values or more than extreme values in a fair coin (i.e. H0 remains true)\n",
    "- if p-value is small means there is less chances of observing extreme values in a fair coin, it means the coin is not fair (H0 is false)\n",
    "- To quantify this 'large' and 'small' p-values, we define a threshold($\\alpha$) such that\n",
    "  If p-value< $\\alpha$ - REJECT H0\n",
    "  If p-value> $\\alpha$ - REJECT H1\n",
    "- Common choices for $\\alpha$ include 0.05, 0.01, or 0.10\n",
    "- (e.g. p=0.03, α=0.05): suggests that the observed outcome is statistically significant at the 0.05 significance level, providing support for H1\n",
    "\n",
    "​"
   ]
  },
  {
   "cell_type": "code",
   "execution_count": 20,
   "id": "27e41edb-b42a-4a9b-94db-39f14e5f0140",
   "metadata": {},
   "outputs": [],
   "source": [
    "#calculate p-value using 'two-sided test' methods\n",
    "\n",
    "def two_sided_p_value(x: float, mu: float=0, sigma: float=1) -> float:\n",
    "    \"\"\"\n",
    "    How likely are we to see a value at least as extreme as x (in either\n",
    "    direction) if our values are from an N(mu, sigma)?\n",
    "    \"\"\"\n",
    "    if x>=mu:\n",
    "        # tail is all probability above x\n",
    "        #doubled to take both sides of mean\n",
    "        return 2*normal_probability_above(x, mu, sigma)\n",
    "        # Why did we use a value of 529.5 rather than using 530? \n",
    "        # This is called a **continuity correction.  \n",
    "        # It reflects the fact that normal_probability_between(529.5,530.5, mu_0, sigma_0) \n",
    "        # is a better estimate of the probability of seeing 530 heads than normal_probability_between(530, 531, mu_0, sigma_0) is.\n",
    "    else:\n",
    "        #if x<mean, tail is all below x\n",
    "        #doubled to tak both sides of mean\n",
    "        return 2*normal_probability_below(x, mu, sigma)\n",
    "\n",
    "#for 530 heads in 1000 flips\n",
    "assert two_sided_p_value(529.5, mu_0, sigma_0) > 0.05  #reject H1\n",
    "# if 5% is our significance threshold, then this p-value (6.2%) proves H0 is true. \n",
    "# also, we calculated earlier, for 5% significance 469<x<531, so for 530 obviously H0 should be true\n",
    "# H0 should be false for x>531, say 532. \n",
    "# lets calculate p-value for x=532, it should come less than 5%\n",
    "\n",
    "assert two_sided_p_value(531.5, mu_0, sigma_0) <0.5 #reject H0"
   ]
  },
  {
   "cell_type": "markdown",
   "id": "bacbfb65-5bd3-4d14-b13c-cd8a99afe129",
   "metadata": {},
   "source": [
    "- it can be seen from following simulation"
   ]
  },
  {
   "cell_type": "code",
   "execution_count": 23,
   "id": "81face2b-c6c5-4e5e-8693-f2462b457761",
   "metadata": {},
   "outputs": [],
   "source": [
    "import random\n",
    "from typing import List\n",
    "\n",
    "random.seed(10)\n",
    "extreme_value_count = 0\n",
    "\n",
    "#simulate n flip of a coin\n",
    "def coin_flip (n: int) -> List[int]:\n",
    "    return[random.randint(0,1) for _ in range(n)]\n",
    "\n",
    "#do 1000 trials of 1000 flips\n",
    "#count total head in each trial\n",
    "for _ in range(1000):\n",
    "    num_heads = sum(coin_flip(1000))\n",
    "    if num_heads >= 530 or num_heads <= 470:\n",
    "        extreme_value_count +=1\n",
    "\n",
    "assert extreme_value_count>51  # out of 1000 it is p>5%(alpha), therefore H0=True (coin is fair)\n"
   ]
  },
  {
   "cell_type": "code",
   "execution_count": 24,
   "id": "2284035b-d941-4d14-a9cd-948ba55f3b7e",
   "metadata": {},
   "outputs": [
    {
     "data": {
      "text/plain": [
       "0.046345287837786575"
      ]
     },
     "execution_count": 24,
     "metadata": {},
     "output_type": "execute_result"
    }
   ],
   "source": [
    "#if we saw 532 heads, then p would be\n",
    "two_sided_p_value(531.5, mu_0, sigma_0)  #is less than 5%, so reject H0\n"
   ]
  },
  {
   "cell_type": "markdown",
   "id": "b9b5d757-ae9d-4e9a-9ac5-f709474ce73d",
   "metadata": {},
   "source": [
    "- Both the above block of codes are calculating the same. Its just different way of approaching statistics.\n",
    "- Similarly, for a fair coin p-value for one-sided test (one-sided test) are simply:"
   ]
  },
  {
   "cell_type": "code",
   "execution_count": 25,
   "id": "d6074359-37f4-4f1a-a700-8a337c958ff6",
   "metadata": {},
   "outputs": [
    {
     "data": {
      "text/plain": [
       "0.04686839508859242"
      ]
     },
     "execution_count": 25,
     "metadata": {},
     "output_type": "execute_result"
    }
   ],
   "source": [
    "upper_p_value = normal_probability_above\n",
    "lower_p_value = normal_probability_below\n",
    "\n",
    "#for a one-sided test if we saw 525 heads then p-value is\n",
    "upper_p_value(524.5, mu_0, sigma_0)   #p>0.05 (0.061) means we would not reject Null\n",
    "\n",
    "#if we saw 527 heads then p-value would be:\n",
    "upper_p_value(526.5, mu_0, sigma_0)   #p<0.05 (0.046) thus we reject null"
   ]
  },
  {
   "cell_type": "markdown",
   "id": "cb807d1d-1d16-4834-be4f-33798793663f",
   "metadata": {},
   "source": [
    "<u>When to Use One-Sided Test</u>:\n",
    "Use a one-sided test when you are specifically interested in a change or effect in one direction and not interested in the opposite direction.\n",
    "\n",
    "<u>When to Use Two-Sided Test</u>:\n",
    "\n",
    "Use a two-sided test when you are interested in whether there is a significant difference from a specific value, regardless of the direction.\n",
    "\n",
    "**WARNING** : Make sure the data is roughly normally distributed before using normal_probability_above to compute p-values"
   ]
  },
  {
   "cell_type": "markdown",
   "id": "90606076-1854-4468-b26f-6122d6cf2a03",
   "metadata": {},
   "source": [
    "# 4. Confidence intervals\n",
    "- Its the third approach to find if our hypothesis is true/false\n",
    "- Example: Suppose I have a fair coin (its the Null hypothesis), and now I want to find the probability of heads.\n",
    "- I will flip coins 1000 times and see how many times head pops up\n",
    "- Assume we observed 525 heads, then from CLT on binomial distribution p = 0.525 and mean = p and SD = sqrt(p*(1-p)*1000)\n",
    "- To find that our assumption of fair coin is correct or not, where in experiment we observed 525 heads, we will find bound values X for p=0.525.\n",
    "- If X will lie between our predefined threshold of \"95% confident\", we will consider H0 true else false "
   ]
  },
  {
   "cell_type": "code",
   "execution_count": 26,
   "id": "0e4aaf33-b94a-4e97-913f-a900382e9f6f",
   "metadata": {},
   "outputs": [
    {
     "name": "stdout",
     "output_type": "stream",
     "text": [
      "(494.04902781290957, 555.9509721870904)\n"
     ]
    }
   ],
   "source": [
    "n=1000\n",
    "p_hat = 0.525\n",
    "mu = n*p_hat                               #525\n",
    "sigma = math.sqrt(p_hat*(1-p_hat)*n)       #15.791\n",
    "\n",
    "#find corresponding X bounds\n",
    "print(normal_two_sided_bounds(0.95, mu, sigma))"
   ]
  },
  {
   "cell_type": "markdown",
   "id": "79fc3a3f-4943-4615-ba02-a6b716a85815",
   "metadata": {},
   "source": [
    "- in the above mean of fair coin (=500) lies between the confidence interval 494-555, the null hypothesis is not rejected\n",
    "- and we will not say that coin is unfair\n",
    "- Let us assume we observe 540 head sums"
   ]
  },
  {
   "cell_type": "code",
   "execution_count": 27,
   "id": "afddaa5b-67fd-4cc7-9483-684365e9beb5",
   "metadata": {},
   "outputs": [
    {
     "name": "stdout",
     "output_type": "stream",
     "text": [
      "(509.10959272959184, 570.8904072704082)\n"
     ]
    }
   ],
   "source": [
    "n =1000\n",
    "p_hat = 0.54\n",
    "mu = n*p_hat #540\n",
    "sigma = math.sqrt(mu*(1-p_hat)) #15.76\n",
    "\n",
    "print(normal_two_sided_bounds(0.95, mu, sigma))\n",
    "#mean of fair coin(=500) lies outside the confidence interval\n",
    "#thus reject H0\n"
   ]
  },
  {
   "cell_type": "markdown",
   "id": "a95d31e7-fa91-44c2-b339-0e2eeada7921",
   "metadata": {},
   "source": [
    "# 5. p-hacking\n",
    "- practice of manipulating various aspects of statistical data analysis to obtain p-value under predefined significant level (normally 0.05)\n",
    "\n",
    "- manipulating by means of choice of variables, the exclusion or inclusion of data points, and the use of different statistical tests\n",
    "\n",
    "- For example, we flip a coin 1000 times to find fairness. And to find p-value we perform the same experiment k number of times.\n",
    "\n",
    "- k is such that, until we get p-value < significant level (so that we can reject null hypothesis)\n"
   ]
  },
  {
   "cell_type": "code",
   "execution_count": 28,
   "id": "018d78a1-d626-4b99-ae9d-bbfa74209442",
   "metadata": {},
   "outputs": [],
   "source": [
    "from typing import List\n",
    "import random\n",
    "\n",
    "\n",
    "def run_experiment() -> List[bool]:\n",
    "    \"\"\"flips a fair coin 1000 times. True = heads, False = tails\"\"\"\n",
    "    return (random.random()< 0.5 for _ in range(1000))   #generate list of true/false for 1000 coin flips\n",
    "\n",
    "random.seed(0)\n",
    "\n",
    "\n",
    "def reject_fairness(exp: List[bool]) -> bool:\n",
    "    \"\"\"using the 5% significance levels \"\"\"\n",
    "    num_heads = len([flip for flip in exp if flip])\n",
    "    return num_heads<469 or num_heads>531   #returns true/false\n",
    "\n",
    "random.seed(0)\n",
    "experiments = [run_experiment() for _ in range(1000)]\n",
    "num_rejections = len([exp for exp in experiments\n",
    "                      if reject_fairness(exp)]) \n",
    "#for each exp checks the fairness condition, if num of heads is out of range means reject_fairness=True. \n",
    "#such way, it creates a list of True only\n",
    "#its count gives total exps that gave head counts out of range\n",
    "\n",
    "assert num_rejections == 46\n",
    "    \n"
   ]
  },
  {
   "cell_type": "markdown",
   "id": "2593417e-4c05-4782-be11-66063a1df4f8",
   "metadata": {},
   "source": [
    "- What this means is that if you’re setting out to find “significant” results, you usually can.\n",
    "- Test enough hypotheses against your dataset, and one of them will almost certainly appear significant.\n",
    "- Remove the right outliers, and you can probably get your p-value below 0.05.\n",
    "- called **p-hacking**\n",
    "\n",
    "  what to do?\n",
    "- First clean your data without the hypotheses in mind\n",
    "- and should keep in mind that p-values are not substitutes for common sense"
   ]
  },
  {
   "cell_type": "markdown",
   "id": "ddedca17-d229-4231-8d66-b6e984c5a887",
   "metadata": {},
   "source": [
    "# 6. Running an A/B test\n",
    "\n",
    "- We want to find that which drink ad users click most, shown randomly when they visit a website.\n",
    "- ad A : \"tastes great\"\n",
    "- ad B : \"less bias\"\n",
    "- if number of people seen the ad A = N<sub>A</sub> \n",
    "- number of people click the ad A = n<sub>A</sub>\n",
    "- each ad view can be clicked or not clicked thus its a bernoulli trial with probability p<sub>A</sub>\n",
    "- if $N_A$ is large, n<sub>A</sub>/N<sub>A</sub> tends to be normal distribution with mean = p_A and SD = $\\sqrt{(p_A*(1- p_A)/N_A}$\n",
    "- $N_A$ is divided instead of multiplying, to get mean and SD per-view basis.\n",
    "- in code we are doing it for all N trials\n"
   ]
  },
  {
   "cell_type": "code",
   "execution_count": 42,
   "id": "609926d7-e449-4753-aef8-f57001b9e69c",
   "metadata": {},
   "outputs": [],
   "source": [
    "from typing import Tuple\n",
    "import math\n",
    "\n",
    "def estimated_parameters(N: int, n: int) -> Tuple[float, float]:\n",
    "    p = n/N\n",
    "    return N*p, math.sqrt(p*(1-p)*N)\n"
   ]
  },
  {
   "cell_type": "markdown",
   "id": "56d06fd2-b350-4a91-aba5-f589c47a4082",
   "metadata": {},
   "source": [
    "- Assume for ads A and B the normals are independent, then the difference of normals will also be normal with:  \n",
    "  mean = $p_A$ - $p_B$  \n",
    "  SD = $\\sqrt{\\sigma_A^2 + \\sigma_B^2}$\n",
    "\n",
    "- This is sort of cheating. The math only works out exactly like this if you know the standard deviations. Here we’re estimating them from the data, which means that we really should be using a t-distribution. But for large enough datasets, it’s close enough that it doesn’t make much of a difference."
   ]
  },
  {
   "cell_type": "code",
   "execution_count": 44,
   "id": "911308ea-5b3b-4b31-823a-060b570e11bf",
   "metadata": {},
   "outputs": [
    {
     "name": "stdout",
     "output_type": "stream",
     "text": [
      "-1.1403464899034461\n"
     ]
    }
   ],
   "source": [
    "def a_b_test_statistic(N_A: int, n_A: int, N_B: int, n_B: int) -> float:\n",
    "    p_A, sigma_A = estimated_parameters(N_A, n_A)\n",
    "    p_B, sigma_B = estimated_parameters(N_B, n_B)\n",
    "    return (p_B - p_A) / math.sqrt(sigma_A ** 2 + sigma_B ** 2)\n",
    "\n",
    "z = a_b_test_statistic(1000, 200, 1000, 180)\n",
    "print(z)"
   ]
  },
  {
   "cell_type": "markdown",
   "id": "b4e831f2-33f8-4bf5-999a-6d7424c3f15d",
   "metadata": {},
   "source": [
    "- we assumed A and B are independent and should have equal mean but we can see the difference is large"
   ]
  },
  {
   "cell_type": "code",
   "execution_count": 45,
   "id": "e4276e4f-0f89-43d5-bb6d-71f51f5b58bb",
   "metadata": {},
   "outputs": [
    {
     "data": {
      "text/plain": [
       "0.25414197654223647"
      ]
     },
     "execution_count": 45,
     "metadata": {},
     "output_type": "execute_result"
    }
   ],
   "source": [
    "two_sided_p_value(z)"
   ]
  },
  {
   "cell_type": "markdown",
   "id": "416db032-ba67-4a22-bc73-bcd79029660b",
   "metadata": {},
   "source": [
    "- 0.25 probability shows that there is large chance of getting extreme value Z or greater.\n",
    "- thus we can't conclude that there is not much difference.\n",
    "- what if ad B gets only 50 clicks?"
   ]
  },
  {
   "cell_type": "code",
   "execution_count": 46,
   "id": "c6205a24-e91e-458f-a320-1ef9ede3e324",
   "metadata": {},
   "outputs": [
    {
     "data": {
      "text/plain": [
       "0.003189699706216853"
      ]
     },
     "execution_count": 46,
     "metadata": {},
     "output_type": "execute_result"
    }
   ],
   "source": [
    "z = a_b_test_statistic(1000, 200, 1000, 150)\n",
    "two_sided_p_value(z)"
   ]
  },
  {
   "cell_type": "markdown",
   "id": "ddbd15ef-c522-4361-951b-79976e85847a",
   "metadata": {},
   "source": [
    "- 0.0031 probability shows its very less chance that difference will exceed z.\n",
    "- thus we can say that we can ignore this difference"
   ]
  },
  {
   "cell_type": "markdown",
   "id": "120424cb-6bf6-4a6b-b9af-8e612122c120",
   "metadata": {},
   "source": [
    "# 7. Bayesian Inference\n",
    "- Above all procedures involved making probability statements like - There’s only a 3% chance we will observe such an extreme statistic if our null hypothesis were true.\n",
    "  \n",
    "- In Bayesian Inference, we treat unknown parameters themselves as RVs\n",
    "  \n",
    "- We start with a **prior distribution** for the parameters and then use the observed data and Bayes’s theorem to get an updated **posterior distribution** for the parameters.\n",
    "  \n",
    "- Rather than making probability judgments about the tests, we make **probability judgments about the parameters**.\n",
    "  \n",
    "- Bayesian inference allows us to update our beliefs or probabilities based on observed evidence, leading to more informed decisions and predictions. \n",
    "  "
   ]
  },
  {
   "cell_type": "markdown",
   "id": "99306f6c-bae3-46d5-a5a0-9309feb03083",
   "metadata": {},
   "source": [
    "## Beta distribution\n",
    "- Beta distribution is widely used in Bayesian statistics as a prior distribution for modeling RV that represent probabilities, proportions, or rates\n",
    "- The Beta distribution has two shape parameters, denoted by $\\alpha$ and $\\beta$ which determine the shape of the distribution.\n",
    "- The probability density function (PDF) of the Beta distribution is given by the following formula:\n",
    "$$ f(x; \\alpha, \\beta) = \\frac{x^{(\\alpha - 1)} (1-x)^{(\\beta-1)}}{B(\\alpha, \\beta)} $$ \n",
    "\n",
    "where,  x : random variable representing a value between 0 and 1.  \n",
    "        $\\alpha$ and $\\beta$ are shape parameters, both greater than zero.  \n",
    "        **B($\\alpha$, $\\beta$) is the Beta function**, a normalization constant that ensures the total area under the curve is equal to 1.\n",
    "\n",
    " **Beta function is given as**: $$ B(\\alpha, \\beta) = \\frac{\\Gamma{\\alpha} \\Gamma{\\beta}}{\\Gamma(\\alpha+\\beta)}$$\n",
    "\n",
    " **gamma function $\\Gamma$ is factorial of non-integer numbers, e.g. $\\Gamma X = factorial (X-1)$"
   ]
  },
  {
   "cell_type": "code",
   "execution_count": 47,
   "id": "8f71ecb3-99af-46c4-ad71-619ca8613ee4",
   "metadata": {},
   "outputs": [],
   "source": [
    "def B(alpha: float, beta: float) -> float:\n",
    "    \"\"\"A normalizing constant so that the total probability is 1\"\"\"\n",
    "    return math.gamma(alpha)*math.gamma(beta)/math.gamma(alpha+beta)"
   ]
  },
  {
   "cell_type": "code",
   "execution_count": 105,
   "id": "2edd6543-24ca-4dd5-8dcf-6e846e2b6623",
   "metadata": {},
   "outputs": [],
   "source": [
    "from matplotlib import pyplot as plt\n",
    "import random\n",
    "\n",
    "def beta_pdf(x: float, alpha: float, beta: float) -> float:\n",
    "    if x<=0 or x>=1:\n",
    "        return 0\n",
    "    else:\n",
    "        return x**(alpha-1) * (1-x)**(beta-1) / B(alpha, beta)\n"
   ]
  },
  {
   "cell_type": "markdown",
   "id": "721f3a9f-98cc-46c8-b919-9b5db3431deb",
   "metadata": {},
   "source": [
    "- the beta distribution centres its weight at $\\alpha$/$(\\alpha+\\beta)$\n",
    "- for alpha=beta=1 beta distribution is a uniform dostribution\n",
    "- if $\\alpha>>\\beta$ : most weight will be near 1 and vice-versa\n"
   ]
  },
  {
   "cell_type": "code",
   "execution_count": 83,
   "id": "3e276920-b868-41ea-ab06-b360f9c22cd0",
   "metadata": {},
   "outputs": [
    {
     "data": {
      "text/plain": [
       "<matplotlib.legend.Legend at 0x10af36790>"
      ]
     },
     "execution_count": 83,
     "metadata": {},
     "output_type": "execute_result"
    },
    {
     "data": {
      "image/png": "[encoded data removed]",
      "text/plain": [
       "<Figure size 640x480 with 1 Axes>"
      ]
     },
     "metadata": {},
     "output_type": "display_data"
    }
   ],
   "source": [
    "plt.plot([x/100 for x in range(100)] , [beta_pdf(i,1,1) for i in x_values], label = 'B(1,1)')\n",
    "plt.plot([x/100 for x in range(100)] , [beta_pdf(i,50,10) for i in x_values],label = 'B(50,10)') #alpha>>beta\n",
    "plt.plot([x/100 for x in range(100)] , [beta_pdf(i,10,50) for i in x_values],label = 'B(10,50)') #alpha<<beta\n",
    "plt.legend()\n"
   ]
  },
  {
   "cell_type": "markdown",
   "id": "4351482f-904c-4c8f-905e-aee66a3e08e0",
   "metadata": {},
   "source": [
    "## Prior distribution and Posterior distribution"
   ]
  },
  {
   "cell_type": "markdown",
   "id": "e1888d4a-f00f-42b7-bf5a-196498ae1da1",
   "metadata": {},
   "source": [
    "**prior distribution on p**\n",
    "- Maybe we don’t want to take a stand on whether the coin is fair, and we choose alpha and beta to both\n",
    "equal 1.\n",
    "- Or maybe we have a strong belief that the coin lands heads 55% of the time, and we choose alpha equals 55, beta equals 45.\n",
    "- Then we flip our coin a bunch of times and see $h$ heads and $t$ tails.\n",
    "  \n",
    "**Posterior distribution**\n",
    "- Bayes’s theorem (and some mathematics too tedious for us to go through here) tells us that the posterior distribution for p is again a Beta distribution, but with parameters $\\alpha + h$ and $\\beta + t$.\n",
    "\n",
    "- It is no coincidence that the posterior distribution was again a Beta distribution. The number of heads is given by a Binomial distribution, and the Beta is the **conjugate prior** to the Binomial distribution. This means that whenever we update a Beta prior using observations from the corresponding binomial, we will get back a Beta posterior.\n",
    "\n",
    "**Example**\n",
    "1. Let’s say we flip the coin 10 times and see only 3 heads.\n",
    "- If we started with the uniform prior (in some sense refusing to take a stand about the coin’s fairness), our posterior distribution would be a Beta(4, 8), centered around 0.33.\n",
    "- Since we considered all probabilities equally likely, our best guess is close to the observed probability.\r\n",
    "2. If we started with a Beta(20, 20) (expressing a belief that the coin was roughly fair), our posterior distribution would be a Beta(23, 27), centered around 0.46, indicating a revised belief that maybe the coin is slightly biased toward tails.\r\n",
    "3. And if we started with a Beta(30, 10) (expressing a belief that the coin was biased to flip 75% heads), our posterior distribution would be a Beta(33,17), centered around 0.66.\n",
    "- In that case we’d still believe in a heads bias, but less strongly than we did initially. "
   ]
  },
  {
   "cell_type": "code",
   "execution_count": 104,
   "id": "f83f6a31-8a6e-4f4f-a8b2-c384c08c61a9",
   "metadata": {},
   "outputs": [
    {
     "data": {
      "text/plain": [
       "<matplotlib.legend.Legend at 0x10b3761d0>"
      ]
     },
     "execution_count": 104,
     "metadata": {},
     "output_type": "execute_result"
    },
    {
     "data": {
      "image/png": "[encoded data removed]",
      "text/plain": [
       "<Figure size 640x480 with 1 Axes>"
      ]
     },
     "metadata": {},
     "output_type": "display_data"
    }
   ],
   "source": [
    "#priors and posteriors arising from EX 1\n",
    "\n",
    "plt.plot([x/100 for x in range(100)], [beta_pdf(i,1,1) for i in x_values],'--',color ='red',label = 'prior1')\n",
    "plt.plot([x/100 for x in range(100)], [beta_pdf(i,4,8) for i in x_values], color ='red',label = 'posterior1')\n",
    "\n",
    "plt.plot([x/100 for x in range(100)], [beta_pdf(i,20,20) for i in x_values],'--',color ='green',label = 'prior2')\n",
    "plt.plot([x/100 for x in range(100)], [beta_pdf(i,23,27) for i in x_values], color ='green',label = 'posterior2')\n",
    "\n",
    "plt.plot([x/100 for x in range(100)], [beta_pdf(i,30,10) for i in x_values],'--',color ='blue',label = 'prior3')\n",
    "plt.plot([x/100 for x in range(100)], [beta_pdf(i,33,17) for i in x_values], color ='blue',label = 'posterior3')\n",
    "\n",
    "plt.xlim(0, 1) \n",
    "plt.ylim(0, 7) \n",
    "plt.legend()"
   ]
  },
  {
   "cell_type": "markdown",
   "id": "47756031-2c24-4ba9-a4d1-0dcd45d6e43c",
   "metadata": {},
   "source": [
    "- If we flipped the coin more and more times, the prior would matter less and less until eventually we have (nearly) the same posterior distribution no matter which prior we started with.\n",
    "\n",
    "- For example, no matter how biased we initially thought the coin was, it would be hard to maintain that belief after seeing 1,000 heads out of 2,000 flips (unless we are a lunatic who picks something like a Beta(1000000,1) prior).\n",
    "\n",
    "- What’s interesting is that this allows us to make probability statements about hypotheses: “Based on the prior and the observed data, there is only a 5% likelihood the coin’s heads probability is between 49% and 51%.”\n",
    "\n",
    "- This is philosophically very different from a statement like “If the coin were fair, we would expect to observe data so extreme only 5% of the time.”\n",
    "\n",
    "- it is not used much due to its controversial nature that it is subjective to chose prior."
   ]
  },
  {
   "cell_type": "markdown",
   "id": "8efd5a2b-be54-4533-aeb3-1e82918e040a",
   "metadata": {},
   "source": [
    "## P-values vs Bayesian Inference\n",
    "\n",
    "Bayesian inference and p-values are two different approaches used in statistical analysis, each with its own methodology and interpretation.\n",
    "\n",
    "1. **Bayesian Inference**:\n",
    "   - In Bayesian inference, we update our beliefs about the parameters of interest (e.g., means, proportions, regression coefficients) based on observed data and prior knowledge.\n",
    "   - We start with a prior distribution representing our initial beliefs about the parameters before observing any data.\n",
    "   - We then update our beliefs using Bayes' theorem, which combines the prior distribution with the likelihood of the data to obtain the posterior distribution.\n",
    "   - The posterior distribution represents our updated beliefs about the parameters after observing the data.\n",
    "   - Bayesian inference provides a probabilistic framework for making inferences, allowing us to quantify uncertainty and make decisions based on the posterior distribution.\n",
    "\n",
    "2. **p-values**:\n",
    "   - p-values are used in frequentist statistics to assess the strength of evidence against a null hypothesis.\n",
    "   - The null hypothesis typically represents a specific value or relationship that we want to test (e.g., the mean of a population is equal to a certain value).\n",
    "   - The p-value measures the probability of observing the data (or more extreme data) if the null hypothesis were true.\n",
    "   - A small p-value (usually less than a predefined threshold, such as 0.05) suggests that the observed data are unlikely under the null hypothesis, leading us to reject the null hypothesis in favor of an alternative hypothesis.\n",
    "   - p-values do not provide direct information about the probability of hypotheses or parameter values; instead, they indicate the strength of evidence against the null hypothesis.\n",
    "\n",
    "In summary, Bayesian inference allows us to update beliefs based on data and prior knowledge, while p-values provide a measure of evidence against a null hypothesis in frequentist statistics. Bayesian inference is more flexible and interpretable, especially for complex models and small sample sizes, but it requires specifying prior distributions and may be computationally intensive. P-values are simpler to compute but have limitations, such as not providing direct information about the probability of hypotheses or parameters."
   ]
  },
  {
   "cell_type": "code",
   "execution_count": null,
   "id": "5e0a0c05-a0ce-4f02-a136-bd979377f4bc",
   "metadata": {},
   "outputs": [],
   "source": []
  }
 ],
 "metadata": {
  "kernelspec": {
   "display_name": "Python 3 (ipykernel)",
   "language": "python",
   "name": "python3"
  },
  "language_info": {
   "codemirror_mode": {
    "name": "ipython",
    "version": 3
   },
   "file_extension": ".py",
   "mimetype": "text/x-python",
   "name": "python",
   "nbconvert_exporter": "python",
   "pygments_lexer": "ipython3",
   "version": "3.11.5"
  }
 },
 "nbformat": 4,
 "nbformat_minor": 5
}
