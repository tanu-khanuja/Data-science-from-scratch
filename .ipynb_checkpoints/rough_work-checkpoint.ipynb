{
 "cells": [
  {
   "cell_type": "code",
   "execution_count": 19,
   "id": "186d28ff-09a0-4296-933a-cc68651678bc",
   "metadata": {},
   "outputs": [
    {
     "data": {
      "text/plain": [
       "['date', 'symbol', 'prices']"
      ]
     },
     "execution_count": 19,
     "metadata": {},
     "output_type": "execute_result"
    }
   ],
   "source": [
    "import csv\n",
    "with open(\"tab_delimited_stock_prices_with_header.txt\") as f:\n",
    "    tab_separated_file = csv.DictReader(f, delimiter = '\\t')\n",
    "    header = tab_separated_file.fieldnames\n",
    "header\n",
    "    # next(tab_separated_file)\n",
    "    # for line in tab_separated_file:\n",
    "    #     print(line)\n",
    "    #     date = line['date']\n",
    "    #     print(date)\n",
    "        # stock_name = line[1]\n",
    "        # stock_price = line[2]\n",
    "        # print(f\"{date=}, {stock_name=}, {stock_price=}\")\n",
    "    "
   ]
  },
  {
   "cell_type": "code",
   "execution_count": 20,
   "id": "aaeff4e1-8d0c-4b2e-a93b-bcce9760e972",
   "metadata": {},
   "outputs": [
    {
     "name": "stdout",
     "output_type": "stream",
     "text": [
      "<!doctype html>\n",
      "<html lang=\"en-US\">\n",
      "<head>\n",
      "    <title>Getting Data</title>\n",
      "    <meta charset=\"utf-8\">\n",
      "</head>\n",
      "<body>\n",
      "    <h1>Getting Data</h1>\n",
      "    <div class=\"explanation\">\n",
      "        This is an explanation.\n",
      "    </div>\n",
      "    <div class=\"comment\">\n",
      "        This is a comment.\n",
      "    </div>\n",
      "    <div class=\"content\">\n",
      "        <p id=\"p1\">This is the first paragraph.</p>\n",
      "        <p class=\"important\">This is the second paragraph.</p>\n",
      "    </div>\n",
      "    <div class=\"signature\">\n",
      "        <span id=\"name\">Joel</span>\n",
      "        <span id=\"twitter\">@joelgrus</span>\n",
      "        <span id=\"email\">joelgrus-at-gmail</span>\n",
      "    </div>\n",
      "</body>\n",
      "</html>\n",
      "\n"
     ]
    }
   ],
   "source": [
    "from bs4 import BeautifulSoup\n",
    "import requests\n",
    "\n",
    "url = \"https://raw.githubusercontent.com/joelgrus/data/master/getting-data.html\"\n",
    "\n",
    "# Request url\n",
    "html = requests.get(url).text \n",
    "print(html)"
   ]
  },
  {
   "cell_type": "code",
   "execution_count": 22,
   "id": "df233b97-90af-4c2d-abd8-e38f407cde3f",
   "metadata": {},
   "outputs": [
    {
     "data": {
      "text/plain": [
       "<!DOCTYPE html>\n",
       "<html lang=\"en-US\"><head>\n",
       "    <title>Getting Data</title>\n",
       "    <meta charset=\"utf-8\"/>\n",
       "</head>\n",
       "<body>\n",
       "    <h1>Getting Data</h1>\n",
       "    <div class=\"explanation\">\n",
       "        This is an explanation.\n",
       "    </div>\n",
       "    <div class=\"comment\">\n",
       "        This is a comment.\n",
       "    </div>\n",
       "    <div class=\"content\">\n",
       "        <p id=\"p1\">This is the first paragraph.</p>\n",
       "        <p class=\"important\">This is the second paragraph.</p>\n",
       "    </div>\n",
       "    <div class=\"signature\">\n",
       "        <span id=\"name\">Joel</span>\n",
       "        <span id=\"twitter\">@joelgrus</span>\n",
       "        <span id=\"email\">joelgrus-at-gmail</span>\n",
       "    </div>\n",
       "\n",
       "\n",
       "</body></html>"
      ]
     },
     "execution_count": 22,
     "metadata": {},
     "output_type": "execute_result"
    }
   ],
   "source": [
    "soup = BeautifulSoup(html, 'html5lib')\n",
    "soup"
   ]
  },
  {
   "cell_type": "markdown",
   "id": "253bd79a-b68b-4728-8c7d-70e23d793fb0",
   "metadata": {},
   "source": [
    "\n",
    "# Betweenness centraility\n"
   ]
  },
  {
   "cell_type": "code",
   "execution_count": 15,
   "id": "66219ffe-7878-4eeb-bb54-9847f3af1396",
   "metadata": {},
   "outputs": [],
   "source": [
    "from typing import Dict, List\n",
    "from collections import defaultdict\n",
    "\n",
    "friend_pairs = [(1,3), (1,2), (3,4)]\n",
    "friendships: Dict[int, List[int]] = defaultdict(list)\n",
    "\n",
    "friendships\n",
    "for i, j in friend_pairs:\n",
    "    friendships[i].append(j)\n",
    "    friendships[j].append(i)\n",
    "\n",
    "assert friendships == {1: [3, 2], 3: [1, 4], 2: [1], 4: [3]}\n",
    "\n",
    "# "
   ]
  },
  {
   "cell_type": "code",
   "execution_count": null,
   "id": "d3219731-a090-43e1-acf5-737d6d39f94c",
   "metadata": {},
   "outputs": [],
   "source": [
    "\n",
    "\n"
   ]
  },
  {
   "cell_type": "code",
   "execution_count": 9,
   "id": "ee3285ad-cb92-4a9f-9cde-dadf522d7d22",
   "metadata": {},
   "outputs": [
    {
     "data": {
      "text/plain": [
       "[1, 2, 1, 2]"
      ]
     },
     "execution_count": 9,
     "metadata": {},
     "output_type": "execute_result"
    }
   ],
   "source": [
    "l1 = [1,2,]\n",
    "l2 = [1,2,]\n",
    "l3 = [3,4,]\n",
    "l = l1+l2\n",
    "l"
   ]
  },
  {
   "cell_type": "code",
   "execution_count": 10,
   "id": "d9a2cde1-79dd-4b50-a0f2-033c7acd4bc4",
   "metadata": {},
   "outputs": [
    {
     "name": "stdout",
     "output_type": "stream",
     "text": [
      "(1, 1, 3) (2, 2, 4)\n"
     ]
    }
   ],
   "source": [
    "print(*zip(l1,l2,l3))"
   ]
  },
  {
   "cell_type": "code",
   "execution_count": 18,
   "id": "2739f85c-aa0c-4a99-b131-9068991c4ad7",
   "metadata": {},
   "outputs": [
    {
     "data": {
      "text/plain": [
       "[9, 12]"
      ]
     },
     "execution_count": 18,
     "metadata": {},
     "output_type": "execute_result"
    }
   ],
   "source": [
    "[sum(t) for t in zip([1,2],[3,4],[5,6])]"
   ]
  },
  {
   "cell_type": "code",
   "execution_count": null,
   "id": "1fd9a2ad-6a9c-415d-b0ea-26a7f5d47317",
   "metadata": {},
   "outputs": [],
   "source": [
    "[1,2],[3,4],[5,6]"
   ]
  }
 ],
 "metadata": {
  "kernelspec": {
   "display_name": "Python 3 (ipykernel)",
   "language": "python",
   "name": "python3"
  },
  "language_info": {
   "codemirror_mode": {
    "name": "ipython",
    "version": 3
   },
   "file_extension": ".py",
   "mimetype": "text/x-python",
   "name": "python",
   "nbconvert_exporter": "python",
   "pygments_lexer": "ipython3",
   "version": "3.11.5"
  }
 },
 "nbformat": 4,
 "nbformat_minor": 5
}
