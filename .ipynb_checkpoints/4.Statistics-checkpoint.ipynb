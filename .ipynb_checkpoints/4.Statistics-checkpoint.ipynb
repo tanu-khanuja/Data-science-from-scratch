{
 "cells": [
  {
   "cell_type": "markdown",
   "id": "a728bf11-6c72-46d3-ba82-e5da48ea5d70",
   "metadata": {},
   "source": [
    "# 1. Describing a single set of data\n",
    "- VP of Fundraising asks you for some sort of description of how many friends your members have that he can include in his elevator pitches.\n",
    "- easy to produce this data but how to describe it?\n",
    "- an obvious desciption of an dataset is its data itself."
   ]
  },
  {
   "cell_type": "code",
   "execution_count": 1,
   "id": "7ebf9cce-563e-4764-a102-c1d9ab482880",
   "metadata": {},
   "outputs": [],
   "source": [
    "#Example\n",
    "\n",
    "num_friends = [100,49,41,40,25,\n",
    "               # ...lots of data\n",
    "              ]"
   ]
  },
  {
   "cell_type": "markdown",
   "id": "1862e561-b086-41a2-aa33-d40a18afd97c",
   "metadata": {},
   "source": [
    "- for small dataset: easily readable\n",
    "- for large dataset: cannot possible, therefore use statistics.\n",
    "- Statistics is used to destill and communicate relevant features of our data\n",
    "- for example: as first approach, we will put the friend counts in a histogram "
   ]
  },
  {
   "cell_type": "code",
   "execution_count": 50,
   "id": "259506c5-277b-48a2-bec9-6a06d449c381",
   "metadata": {},
   "outputs": [
    {
     "name": "stdout",
     "output_type": "stream",
     "text": [
      "[17, 72, 97, 8, 32, 15, 63, 97, 57, 60, 83, 48, 100, 26, 12, 62, 3, 49, 55, 77, 97, 98, 0, 89, 57, 34, 92, 29, 75, 13, 40, 3, 2, 3, 83, 69, 1, 48, 87, 27, 54, 92, 3, 67, 28, 97, 56, 63, 70, 29, 44, 29, 86, 28, 97, 58, 37, 2, 53, 71, 82, 12, 23, 80, 92, 37, 15, 95, 42, 92, 91, 64, 54, 64, 85, 24, 38, 36, 75, 63, 64, 50, 75, 4, 61, 31, 95, 51, 53, 85, 22, 46, 70, 89, 99, 86, 94, 47, 11, 56, 84, 65, 13, 99, 20, 66, 50, 47, 62, 93, 3, 60, 5, 39, 90, 78, 75, 74, 50, 82, 21, 21, 64, 29, 1, 98, 25, 69, 70, 29, 51, 65, 44, 73, 45, 58, 34, 84, 70, 77, 93, 0, 49, 100, 94, 65, 16, 66, 99, 71, 26, 54, 7, 61, 46, 72, 70, 25, 64, 52, 62, 45, 53, 44, 0, 68, 69, 79, 100, 78, 42, 58, 76, 3, 29, 81, 22, 70, 74, 23, 11, 70, 32, 4, 86, 9, 10, 2, 57, 1, 96, 96, 35, 31, 34, 14, 79, 23, 44, 37, 8, 21, 20, 32]\n",
      "Counter({70: 7, 3: 6, 29: 6, 97: 5, 64: 5, 92: 4, 75: 4, 44: 4, 32: 3, 63: 3, 57: 3, 100: 3, 62: 3, 0: 3, 34: 3, 2: 3, 69: 3, 1: 3, 54: 3, 86: 3, 58: 3, 37: 3, 53: 3, 23: 3, 50: 3, 99: 3, 65: 3, 21: 3, 72: 2, 8: 2, 15: 2, 60: 2, 83: 2, 48: 2, 26: 2, 12: 2, 49: 2, 77: 2, 98: 2, 89: 2, 13: 2, 28: 2, 56: 2, 71: 2, 82: 2, 95: 2, 42: 2, 85: 2, 4: 2, 61: 2, 31: 2, 51: 2, 22: 2, 46: 2, 94: 2, 47: 2, 11: 2, 84: 2, 20: 2, 66: 2, 93: 2, 78: 2, 74: 2, 25: 2, 45: 2, 79: 2, 96: 2, 17: 1, 55: 1, 40: 1, 87: 1, 27: 1, 67: 1, 80: 1, 91: 1, 24: 1, 38: 1, 36: 1, 5: 1, 39: 1, 90: 1, 73: 1, 16: 1, 7: 1, 52: 1, 68: 1, 76: 1, 81: 1, 9: 1, 10: 1, 35: 1, 14: 1})\n"
     ]
    },
    {
     "data": {
      "text/plain": [
       "<BarContainer object of 101 artists>"
      ]
     },
     "execution_count": 50,
     "metadata": {},
     "output_type": "execute_result"
    },
    {
     "data": {
      "image/png": "[encoded data removed]",
      "text/plain": [
       "<Figure size 640x480 with 1 Axes>"
      ]
     },
     "metadata": {},
     "output_type": "display_data"
    }
   ],
   "source": [
    "from collections import Counter\n",
    "import matplotlib.pyplot as plt\n",
    "import random\n",
    "\n",
    "random.seed(1)\n",
    "num_friends = [random.choice(range(101)) for _ in range(204)]  #Randomly generating a data of number of friends (can be max 100) of 204 people \n",
    "print(num_friends)\n",
    "friend_counts = Counter(num_friends)\n",
    "print(friend_counts)\n",
    "xs = range(101)\n",
    "ys = [friend_counts[x] for x in xs]\n",
    "plt.xlabel(\"# of friends\")\n",
    "plt.ylabel(\"# of people\")\n",
    "plt.title(\"Histogram of friend counts\")\n",
    "plt.bar(xs,ys)"
   ]
  },
  {
   "cell_type": "code",
   "execution_count": null,
   "id": "8ad840a7-ad21-482f-b8a6-ef9642186eea",
   "metadata": {},
   "outputs": [],
   "source": [
    "- again, to understand it deeply we need to generate some statistics, e.g."
   ]
  },
  {
   "cell_type": "code",
   "execution_count": 3,
   "id": "f88fbad3-5511-4742-9fd2-b72f8e2ab140",
   "metadata": {},
   "outputs": [
    {
     "name": "stdout",
     "output_type": "stream",
     "text": [
      "204\n"
     ]
    }
   ],
   "source": [
    "#number of data points\n",
    "\n",
    "num_data = len(num_friends)\n",
    "print(num_data)"
   ]
  },
  {
   "cell_type": "code",
   "execution_count": 4,
   "id": "310ca0ca-3d6d-45f0-8b79-efaec4a7b170",
   "metadata": {},
   "outputs": [
    {
     "name": "stdout",
     "output_type": "stream",
     "text": [
      "100 0\n"
     ]
    }
   ],
   "source": [
    "#largest and smallest values\n",
    "largest_value = max(num_friends)\n",
    "smallest_value = min(num_friends)\n",
    "print(largest_value, smallest_value)"
   ]
  },
  {
   "cell_type": "code",
   "execution_count": 5,
   "id": "2370231f-c795-4ad9-9216-ea142a617a7e",
   "metadata": {},
   "outputs": [
    {
     "name": "stdout",
     "output_type": "stream",
     "text": [
      "[0, 0, 0, 1, 1, 1, 2, 2, 2, 3, 3, 3, 3, 3, 3, 4, 4, 5, 7, 8, 8, 9, 10, 11, 11, 12, 12, 13, 13, 14, 15, 15, 16, 17, 20, 20, 21, 21, 21, 22, 22, 23, 23, 23, 24, 25, 25, 26, 26, 27, 28, 28, 29, 29, 29, 29, 29, 29, 31, 31, 32, 32, 32, 34, 34, 34, 35, 36, 37, 37, 37, 38, 39, 40, 42, 42, 44, 44, 44, 44, 45, 45, 46, 46, 47, 47, 48, 48, 49, 49, 50, 50, 50, 51, 51, 52, 53, 53, 53, 54, 54, 54, 55, 56, 56, 57, 57, 57, 58, 58, 58, 60, 60, 61, 61, 62, 62, 62, 63, 63, 63, 64, 64, 64, 64, 64, 65, 65, 65, 66, 66, 67, 68, 69, 69, 69, 70, 70, 70, 70, 70, 70, 70, 71, 71, 72, 72, 73, 74, 74, 75, 75, 75, 75, 76, 77, 77, 78, 78, 79, 79, 80, 81, 82, 82, 83, 83, 84, 84, 85, 85, 86, 86, 86, 87, 89, 89, 90, 91, 92, 92, 92, 92, 93, 93, 94, 94, 95, 95, 96, 96, 97, 97, 97, 97, 97, 98, 98, 99, 99, 99, 100, 100, 100]\n"
     ]
    }
   ],
   "source": [
    "#to know values specific to positions\n",
    "\n",
    "sorted_num_friends = sorted(num_friends)\n",
    "print(sorted_num_friends)\n",
    "smallest_value = sorted_num_friends[0]\n",
    "assert smallest_value == 0\n",
    "largest_value = sorted_num_friends[-1]\n",
    "assert largest_value == 100\n"
   ]
  },
  {
   "cell_type": "markdown",
   "id": "c85ca873-db20-405c-ac0b-acbf4307612c",
   "metadata": {},
   "source": [
    "## Central tendencies"
   ]
  },
  {
   "cell_type": "markdown",
   "id": "1f3eb2e0-b849-4129-ba12-3f3224ee070b",
   "metadata": {},
   "source": [
    "- Usually, we will want some notion of where our data is centered\n",
    "### 1. mean/average\n",
    "   - sum of data divided by its count\n",
    "   - It is a measure that represents the central point of a data set.\n",
    "   - affected by outliers (extremely high or low values in the dataset) and can be skewed by them\n",
    "   - best used: when the data is evenly distributed without outliers"
   ]
  },
  {
   "cell_type": "code",
   "execution_count": 29,
   "id": "9296e01d-f870-4baf-aaf2-372a36a1b71d",
   "metadata": {},
   "outputs": [],
   "source": [
    "from typing import List\n",
    "\n",
    "def mean(xs: List[float]) -> float:\n",
    "    return sum(xs) / len(xs)\n"
   ]
  },
  {
   "cell_type": "markdown",
   "id": "3402e508-512d-4b9c-9e7d-dbf1e9f5c0df",
   "metadata": {},
   "source": [
    "### 2. Median"
   ]
  },
  {
   "cell_type": "markdown",
   "id": "2794d846-5784-43a4-beab-5ccbd3cd1c59",
   "metadata": {},
   "source": [
    "- middle value of a dataset when sorted to smallest to larger\n",
    "- for even number dataset, median = avg of two middle values\n",
    "- for odd number dataset, median = middle value\n",
    "- **Calculation**: Order all values, then select the middle one (or average the two middle ones for an even number of values).\n",
    "- **Resistant to Outliers**: The median is not affected by outliers or extremely skewed data.\n",
    "- **Best Used**: When the data has outliers or is not symmetrically distributed."
   ]
  },
  {
   "cell_type": "code",
   "execution_count": 10,
   "id": "fbb89eca-2edc-4a64-89ff-9d2859e99b40",
   "metadata": {},
   "outputs": [
    {
     "name": "stdout",
     "output_type": "stream",
     "text": [
      " mean = 19.166666666666668 and median = 3.5\n"
     ]
    }
   ],
   "source": [
    "#example\n",
    "\n",
    "from typing import List\n",
    "\n",
    "#mean\n",
    "def mean(my_dataset: List[float]) -> float:\n",
    "    return sum(my_dataset) / len(my_dataset)\n",
    "\n",
    "#median\n",
    "\n",
    "#for odd length dataset\n",
    "# The underscores indicate that these are \"private\" functions, as they're\n",
    "# intended to be called by our median function but not by other people\n",
    "# using our statistics library.\n",
    "def _median_odd(my_dataset: List[float]) -> float:\n",
    "    #median is middle element\n",
    "    return my_dataset[len(my_dataset)//2]\n",
    "\n",
    "#for even length dataset\n",
    "def _median_even(my_dataset: List[float]) -> float:\n",
    "    #median is avg of two middle elements\n",
    "    low_midpoint = len(my_dataset)//2\n",
    "    high_midpoint = low_midpoint-1\n",
    "    return (my_dataset[low_midpoint] + my_dataset[high_midpoint])/2\n",
    "\n",
    "#Overall median function\n",
    "def median(my_dataset: List[float]) -> float:\n",
    "    v = sorted(my_dataset)\n",
    "    return _median_even(v) if len(v)%2 == 0 else _median_odd(v)\n",
    "\n",
    "x = mean([1, 2, 3, 100, 4, 5])\n",
    "y = median([1, 2, 3, 100, 4, 5])\n",
    "print(f\" mean = {x} and median = {y}\")\n",
    "\n",
    "    "
   ]
  },
  {
   "cell_type": "code",
   "execution_count": 13,
   "id": "61778dcc-427b-4b4b-8a1d-aaf9a0bbb88d",
   "metadata": {},
   "outputs": [
    {
     "name": "stdout",
     "output_type": "stream",
     "text": [
      "mean = 1389.375 and median = 4.5\n"
     ]
    }
   ],
   "source": [
    "#lets add a outlier 5000 and check mean and median\n",
    "#effect of outliers on mean is very high, whereas in median its very small\n",
    "\n",
    "x = mean([1, 2, 3, 100, 4, 5, 5000,6000])\n",
    "y = median([1, 2, 3, 100, 4, 5, 5000,6000])\n",
    "print(f\"mean = {x} and median = {y}\")"
   ]
  },
  {
   "cell_type": "markdown",
   "id": "90be0e03-20fc-4522-9db1-745fec312f5e",
   "metadata": {},
   "source": [
    "#### Median as Quantile\n",
    "- Quantiles are a generalization of the median, representing the values below which a certain percentage of the data falls.\n",
    "  \n",
    "- The median is a specific quantile where 50% of the data lies below and 50% lies above.\n",
    "  \n",
    "- Median (50th Percentile): The value below which 50% of the data falls.\n",
    "  \n",
    "- First Quartile (Q1 or 25th Percentile): The value below which 25% of the data falls.\n",
    "  \n",
    "- Second Quartile (Q2 or 50th Percentile, which is the Median): The value below which 50% of the data falls.\n",
    "  \n",
    "- Third Quartile (Q3 or 75th Percentile): The value below which 75% of the data falls.\n",
    "\n",
    "- Percentiles: Generalizes the concept further. For example, the 90th percentile represents the value below which 90% of the data falls.\n"
   ]
  },
  {
   "cell_type": "code",
   "execution_count": 69,
   "id": "68d9e134-f7ed-4fb0-8a31-904477860e44",
   "metadata": {},
   "outputs": [
    {
     "data": {
      "text/plain": [
       "3"
      ]
     },
     "execution_count": 69,
     "metadata": {},
     "output_type": "execute_result"
    }
   ],
   "source": [
    "#define quantile function\n",
    "\n",
    "from typing import List\n",
    "\n",
    "def quantile(my_dataset: List[float], my_quantile: float) -> float:\n",
    "    my_sorted = sorted(my_dataset)\n",
    "    return my_sorted[int(len(my_dataset)*my_quantile)]\n",
    "\n",
    "quantile([1,2,3,4,5,6,7,8,9,10],0.25)\n",
    "\n",
    "#means 25% values of dataset lies below 2 (not including 2)"
   ]
  },
  {
   "cell_type": "markdown",
   "id": "7d227941-f14f-42ce-b887-23794d2b4908",
   "metadata": {},
   "source": [
    "#### using Numpy"
   ]
  },
  {
   "cell_type": "code",
   "execution_count": 6,
   "id": "7f3891ff-d835-467c-b9c1-5392c0c0b06e",
   "metadata": {},
   "outputs": [
    {
     "name": "stdout",
     "output_type": "stream",
     "text": [
      "2.5\n",
      "3.25\n"
     ]
    }
   ],
   "source": [
    "import numpy as np\n",
    "\n",
    "print(np.median([1,2,3,4]))\n",
    "print(np.quantile([1,2,3,4,5,6,7,8,9,10],0.25))"
   ]
  },
  {
   "cell_type": "markdown",
   "id": "17d2c1dc-fa30-4c12-b980-1c140d2e053c",
   "metadata": {},
   "source": [
    "### 3. Mode\n",
    "- most common values in a dataset\n",
    "- used less frequently"
   ]
  },
  {
   "cell_type": "code",
   "execution_count": 7,
   "id": "bffb14d5-7d6a-4740-8e05-bec7bae8c8e8",
   "metadata": {},
   "outputs": [
    {
     "data": {
      "text/plain": [
       "[73]"
      ]
     },
     "execution_count": 7,
     "metadata": {},
     "output_type": "execute_result"
    },
    {
     "data": {
      "image/png": "[encoded data removed]",
      "text/plain": [
       "<Figure size 640x480 with 1 Axes>"
      ]
     },
     "metadata": {},
     "output_type": "display_data"
    }
   ],
   "source": [
    "from typing import List\n",
    "from collections import Counter\n",
    "import matplotlib.pyplot as plt\n",
    "\n",
    "def mode(my_dataset: List[float]) -> List[float]:\n",
    "    count_dict = Counter(my_dataset) #create a x:y dict for 'x value is repeting y times'\n",
    "    max_counts = max(count_dict.values()) #max repeating times\n",
    "    return [x for x,y in count_dict.items() if y == max_counts] #max repteating key or x\n",
    "\n",
    "#check it\n",
    "#generating a random dataset\n",
    "import random\n",
    "random.seed(10)\n",
    "my_dataset = [random.choice(range(100)) for _ in range(10)] \n",
    "x_axis = [i+1 for i in range(10)]\n",
    "plt.xticks(range(11))\n",
    "plt.bar(x_axis, my_dataset)\n",
    "mode(my_dataset) #73 is repeating max times (2 times), therefore mode is 73\n"
   ]
  },
  {
   "cell_type": "markdown",
   "id": "f3debed5-ab2d-4b4b-80e0-d3432ae4fe61",
   "metadata": {},
   "source": [
    "## Dispersion\n",
    "- how spread our values in dataset are\n",
    "- shows variability and volatility of data\n",
    "- some common measures of dispersion:"
   ]
  },
  {
   "cell_type": "code",
   "execution_count": 11,
   "id": "7214e152-1d3d-4ffc-9476-1f6c9ee0af00",
   "metadata": {},
   "outputs": [
    {
     "name": "stdout",
     "output_type": "stream",
     "text": [
      "[73, 4, 54, 61, 73, 1, 26, 59, 62, 35]\n"
     ]
    },
    {
     "data": {
      "image/png": "[encoded data removed]",
      "text/plain": [
       "<Figure size 640x480 with 1 Axes>"
      ]
     },
     "metadata": {},
     "output_type": "display_data"
    }
   ],
   "source": [
    "#example data\n",
    "import matplotlib.pyplot as plt\n",
    "import random\n",
    "random.seed(10)\n",
    "random_dataset = [random.choice(range(100)) for _ in range(10)] \n",
    "x_axis = [i+1 for i in range(10)]\n",
    "plt.xticks(range(11))\n",
    "plt.bar(x_axis, random_dataset)\n",
    "print(my_dataset)"
   ]
  },
  {
   "cell_type": "markdown",
   "id": "20ec5b39-d33e-4676-be6f-72335d569e20",
   "metadata": {},
   "source": [
    "1. Range: **x(max) - x(min)**\n",
    "   - The difference between the highest and lowest values in the dataset\n",
    "   - It gives a quick sense of the spread\n",
    "   - but can be heavily influenced by outliers\n",
    "   - so max undispered data means? max=min -> list has only same values"
   ]
  },
  {
   "cell_type": "code",
   "execution_count": 12,
   "id": "e59d2501-aca2-4c80-8849-f790a8c02a59",
   "metadata": {},
   "outputs": [],
   "source": [
    "def data_range(my_dataset: List[float]) -> float:\n",
    "    return max(my_dataset) - min(my_dataset)\n",
    "\n",
    "assert data_range(random_dataset) == 72 "
   ]
  },
  {
   "cell_type": "markdown",
   "id": "7249880a-bd91-4456-9cd4-661644506bc2",
   "metadata": {},
   "source": [
    "2. Variance: **avg(sq(x-mean))**\n",
    "   - average of the squared differences from the mean.\n",
    "   - Variance provides a measure of how much each value in the data set varies from the mean.\n"
   ]
  },
  {
   "cell_type": "code",
   "execution_count": 2,
   "id": "4d835cbf-b67f-4644-9956-e6b716b98577",
   "metadata": {},
   "outputs": [
    {
     "name": "stdout",
     "output_type": "stream",
     "text": [
      "1.0\n"
     ]
    }
   ],
   "source": [
    "from scratch.linear_algebra import sum_of_squares\n",
    "\n",
    "#find x-mean, i.e. deviation from mean\n",
    "def de_mean(my_dataset: List[float]) -> List[float]: \n",
    "    my_mean = mean(my_dataset)\n",
    "    return [(x_i-my_mean) for x_i in my_dataset]\n",
    "assert de_mean([1,2,3,4,5]) == [-2.0, -1.0, 0.0, 1.0, 2.0]\n",
    "\n",
    "#find variance = sum of squares of mean deviations/length of dataset\n",
    "\n",
    "def variance(my_dataset: List[float]) -> float:\n",
    "    assert len(my_dataset) >=2 #variance requires at least two elements\n",
    "    l = len(my_dataset)\n",
    "    return sum_of_squares(de_mean(my_dataset))/l-1\n",
    "\n",
    "#This looks like it is almost the average squared deviation from the mean, except that\n",
    "#we’re dividing by n - 1 instead of n. In fact, when we’re dealing with a sample from a\n",
    "#larger population, x_bar is only an estimate of the actual mean, which means that on\n",
    "#average (x_i - x_bar) ** 2 is an underestimate of x_i’s squared deviation from the\n",
    "#mean, which is why we divide by n - 1 instead of n. See Wikipedia.\n",
    "\n",
    "\n",
    "print(variance([1,2,3,4,5]))"
   ]
  },
  {
   "cell_type": "markdown",
   "id": "dc14ccf5-9d67-4868-82cf-bc0715642f28",
   "metadata": {},
   "source": [
    "3. Standard Deviation: **sqrt(var)**\n",
    "   - square root of the variance\n",
    "   - It is in the same units as the data, making it more interpretable than variance\n",
    "   - **A low standard deviation means -> the values tend to be close to the mean, while a high standard deviation indicates that the values are spread out over a wider range**"
   ]
  },
  {
   "cell_type": "code",
   "execution_count": 7,
   "id": "f3369650-693d-46f7-b0e4-c5b833bba4a9",
   "metadata": {},
   "outputs": [
    {
     "name": "stdout",
     "output_type": "stream",
     "text": [
      "1.0\n",
      "36.1589853594127\n"
     ]
    }
   ],
   "source": [
    "import math\n",
    "from typing import List\n",
    "from scratch.statistics import mean\n",
    "from scratch.statistics import variance\n",
    "\n",
    "def standard_deviation(my_dataset: List[float]) -> float:\n",
    "    #SD is square root of variance\n",
    "    return math.sqrt(variance(my_dataset))\n",
    "\n",
    "print(standard_deviation([1,2,3,4,5]))\n",
    "print(standard_deviation([1,2,3,4,5,100]))  #outlier problem"
   ]
  },
  {
   "cell_type": "markdown",
   "id": "235d9a77-ac68-4936-8102-91f2fc150133",
   "metadata": {},
   "source": [
    "4. Interquartile Range (IQR): **Q3 - Q1**\n",
    "   - both range and SD are very vulnerable to outliers\n",
    "   - so we use values between 25% and 75% i.e. 1st and 3rd quantile to get less affected by outliers\n",
    "   - it is the range within which the central 50% of the values fall\n",
    "   - calculated as the difference between the 75th percentile (Q3) and the 25th percentile (Q1)\n"
   ]
  },
  {
   "cell_type": "code",
   "execution_count": 15,
   "id": "318f4b14-0ed3-49a7-ad12-5d786469c231",
   "metadata": {},
   "outputs": [
    {
     "name": "stdout",
     "output_type": "stream",
     "text": [
      "2\n",
      "3\n"
     ]
    }
   ],
   "source": [
    "from scratch.statistics import variance, mean, quantile\n",
    "def interquatile_range(my_dataset: List[float]) -> float:\n",
    "    #value of q3- values of q1 = interquantile range\n",
    "    return quantile(my_dataset,0.75)-quantile(my_dataset,0.25)\n",
    "\n",
    "print(interquatile_range([1,2,3,4,5]))\n",
    "print(interquatile_range([1,2,3,4,5,100]))  #not much affected by small number of outliers"
   ]
  },
  {
   "cell_type": "code",
   "execution_count": null,
   "id": "819e2630-83a2-4eb4-9d08-ffe15b012798",
   "metadata": {},
   "outputs": [],
   "source": []
  }
 ],
 "metadata": {
  "kernelspec": {
   "display_name": "Python 3 (ipykernel)",
   "language": "python",
   "name": "python3"
  },
  "language_info": {
   "codemirror_mode": {
    "name": "ipython",
    "version": 3
   },
   "file_extension": ".py",
   "mimetype": "text/x-python",
   "name": "python",
   "nbconvert_exporter": "python",
   "pygments_lexer": "ipython3",
   "version": "3.11.5"
  }
 },
 "nbformat": 4,
 "nbformat_minor": 5
}
