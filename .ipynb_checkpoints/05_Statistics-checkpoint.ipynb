{
 "cells": [
  {
   "cell_type": "markdown",
   "id": "a728bf11-6c72-46d3-ba82-e5da48ea5d70",
   "metadata": {},
   "source": [
    "# 1. Describing a single set of data\n",
    "- VP of Fundraising asks you for some sort of description of how many friends your members have that he can include in his elevator pitches.\n",
    "- easy to produce this data but how to describe it?\n",
    "- an obvious desciption of an dataset is its data itself."
   ]
  },
  {
   "cell_type": "code",
   "execution_count": 182,
   "id": "7ebf9cce-563e-4764-a102-c1d9ab482880",
   "metadata": {},
   "outputs": [],
   "source": [
    "# Example\n",
    "\n",
    "num_friends = [100.0,49,41,40,25,21,21,19,19,18,18,16,15,15,15,15,14,14,13,13,13,13,12,12,11,10,10,10,10,10,10,10,10,10,10,10,10,10,10,10,9,9,9,9,9,9,9,9,9,9,9,9,9,9,9,9,9,9,8,8,8,8,8,8,8,8,8,8,8,8,8,7,7,7,7,7,7,7,7,7,7,7,7,7,7,7,6,6,6,6,6,6,6,6,6,6,6,6,6,6,6,6,6,6,6,6,6,6,5,5,5,5,5,5,5,5,5,5,5,5,5,5,5,5,5,4,4,4,4,4,4,4,4,4,4,4,4,4,4,4,4,4,4,4,4,3,3,3,3,3,3,3,3,3,3,3,3,3,3,3,3,3,3,3,3,2,2,2,2,2,2,2,2,2,2,2,2,2,2,2,2,2,1,1,1,1,1,1,1,1,1,1,1,1,1,1,1,1,1,1,1,1,1,1]"
   ]
  },
  {
   "cell_type": "markdown",
   "id": "1862e561-b086-41a2-aa33-d40a18afd97c",
   "metadata": {},
   "source": [
    "- for small dataset: easily readable\n",
    "- for large dataset: cannot possible, therefore use statistics.\n",
    "- Statistics is used to destill and communicate relevant features of our data\n",
    "  - for example: as first approach, we will put the friend counts in a histogram "
   ]
  },
  {
   "cell_type": "code",
   "execution_count": 183,
   "id": "259506c5-277b-48a2-bec9-6a06d449c381",
   "metadata": {},
   "outputs": [
    {
     "name": "stdout",
     "output_type": "stream",
     "text": [
      "num_friends=[100.0, 49, 41, 40, 25, 21, 21, 19, 19, 18, 18, 16, 15, 15, 15, 15, 14, 14, 13, 13, 13, 13, 12, 12, 11, 10, 10, 10, 10, 10, 10, 10, 10, 10, 10, 10, 10, 10, 10, 10, 9, 9, 9, 9, 9, 9, 9, 9, 9, 9, 9, 9, 9, 9, 9, 9, 9, 9, 8, 8, 8, 8, 8, 8, 8, 8, 8, 8, 8, 8, 8, 7, 7, 7, 7, 7, 7, 7, 7, 7, 7, 7, 7, 7, 7, 7, 6, 6, 6, 6, 6, 6, 6, 6, 6, 6, 6, 6, 6, 6, 6, 6, 6, 6, 6, 6, 6, 6, 5, 5, 5, 5, 5, 5, 5, 5, 5, 5, 5, 5, 5, 5, 5, 5, 5, 4, 4, 4, 4, 4, 4, 4, 4, 4, 4, 4, 4, 4, 4, 4, 4, 4, 4, 4, 4, 3, 3, 3, 3, 3, 3, 3, 3, 3, 3, 3, 3, 3, 3, 3, 3, 3, 3, 3, 3, 2, 2, 2, 2, 2, 2, 2, 2, 2, 2, 2, 2, 2, 2, 2, 2, 2, 1, 1, 1, 1, 1, 1, 1, 1, 1, 1, 1, 1, 1, 1, 1, 1, 1, 1, 1, 1, 1, 1]\n",
      "friend_counts=Counter({6: 22, 1: 22, 4: 20, 3: 20, 9: 18, 5: 17, 2: 17, 10: 15, 7: 15, 8: 13, 15: 4, 13: 4, 21: 2, 19: 2, 18: 2, 14: 2, 12: 2, 100.0: 1, 49: 1, 41: 1, 40: 1, 25: 1, 16: 1, 11: 1})\n"
     ]
    },
    {
     "data": {
      "text/plain": [
       "<BarContainer object of 101 artists>"
      ]
     },
     "execution_count": 183,
     "metadata": {},
     "output_type": "execute_result"
    },
    {
     "data": {
      "image/png": "[encoded data removed]",
      "text/plain": [
       "<Figure size 640x480 with 1 Axes>"
      ]
     },
     "metadata": {},
     "output_type": "display_data"
    }
   ],
   "source": [
    "from collections import Counter\n",
    "import matplotlib.pyplot as plt\n",
    "\n",
    "print(f\"{num_friends=}\")\n",
    "\n",
    "friend_counts = Counter(num_friends)\n",
    "print(f\"{friend_counts=}\")\n",
    "\n",
    "xs = range(101)\n",
    "ys = [friend_counts[x] for x in xs]\n",
    "plt.xlabel(\"# of friends\")\n",
    "plt.ylabel(\"# of people\")\n",
    "plt.title(\"Histogram of friend counts\")\n",
    "plt.bar(xs,ys)"
   ]
  },
  {
   "cell_type": "markdown",
   "id": "6d8e6872-cdc9-4296-bf99-19805fff23c2",
   "metadata": {},
   "source": [
    "- To understand it deeply we need to generate some statistics, e.g."
   ]
  },
  {
   "cell_type": "code",
   "execution_count": 184,
   "id": "f88fbad3-5511-4742-9fd2-b72f8e2ab140",
   "metadata": {},
   "outputs": [
    {
     "name": "stdout",
     "output_type": "stream",
     "text": [
      "204\n"
     ]
    }
   ],
   "source": [
    "# Number of data points\n",
    "\n",
    "num_points = len(num_friends)\n",
    "print(num_points)"
   ]
  },
  {
   "cell_type": "code",
   "execution_count": 185,
   "id": "310ca0ca-3d6d-45f0-8b79-efaec4a7b170",
   "metadata": {},
   "outputs": [],
   "source": [
    "# Largest and Smallest values\n",
    "largest_value = max(num_friends)\n",
    "smallest_value = min(num_friends)\n",
    "assert largest_value == 100\n",
    "assert smallest_value == 1"
   ]
  },
  {
   "cell_type": "code",
   "execution_count": 186,
   "id": "2370231f-c795-4ad9-9216-ea142a617a7e",
   "metadata": {},
   "outputs": [],
   "source": [
    "# To know values specific to positions\n",
    "\n",
    "sorted_values = sorted(num_friends)\n",
    "\n",
    "smallest_value = sorted_num_friends[0]\n",
    "assert smallest_value == 0\n",
    "\n",
    "largest_value = sorted_num_friends[-1]\n",
    "assert largest_value == 100"
   ]
  },
  {
   "cell_type": "markdown",
   "id": "c85ca873-db20-405c-ac0b-acbf4307612c",
   "metadata": {},
   "source": [
    "# 2. Central tendencies"
   ]
  },
  {
   "cell_type": "markdown",
   "id": "1f3eb2e0-b849-4129-ba12-3f3224ee070b",
   "metadata": {},
   "source": [
    "- Usually, we will want some notion of <u>where our data is centered?</u>"
   ]
  },
  {
   "cell_type": "markdown",
   "id": "f9b6c419-f982-497f-8b2b-b62d97af026a",
   "metadata": {},
   "source": [
    "### (a) Mean/Average\n",
    "   > Sum of data divided by its count  \n",
    "   > Represents the **central point of a data set**  \n",
    "   > **Affected by outliers** (extremely high or low values in the dataset) and can be skewed by them  \n",
    "   > Best used: <u>when the data is evenly distributed without outliers</u>  "
   ]
  },
  {
   "cell_type": "code",
   "execution_count": 187,
   "id": "9296e01d-f870-4baf-aaf2-372a36a1b71d",
   "metadata": {},
   "outputs": [],
   "source": [
    "from typing import List\n",
    "\n",
    "def mean(xs: List[float]) -> float:\n",
    "    \"\"\" \n",
    "    mean(x) is mean of array x\n",
    "    \"\"\"\n",
    "    return sum(xs) / len(xs)"
   ]
  },
  {
   "cell_type": "markdown",
   "id": "3402e508-512d-4b9c-9e7d-dbf1e9f5c0df",
   "metadata": {},
   "source": [
    "### (b) Median"
   ]
  },
  {
   "cell_type": "markdown",
   "id": "e502419c-f8f0-4ac0-9c3b-2e4794abc34d",
   "metadata": {},
   "source": [
    "- **Middle value** of a dataset **when sorted** to smallest to larger\n",
    "- for even number dataset, median = avg of two middle values\n",
    "- for odd number dataset, median = middle value\n",
    "- **Calculation**: sort all values, then select the middle one (or average the two middle ones for an even number of values).\n",
    "- **Resistant to Outliers** - The median is not affected by outliers or extremely skewed data.\n",
    "- **Best Used**: When the data has outliers or is not symmetrically distributed."
   ]
  },
  {
   "cell_type": "code",
   "execution_count": 188,
   "id": "fbb89eca-2edc-4a64-89ff-9d2859e99b40",
   "metadata": {},
   "outputs": [],
   "source": [
    "# Example\n",
    "\n",
    "from typing import List\n",
    "\n",
    "# Mean\n",
    "def mean(my_dataset: List[float]) -> float:\n",
    "    return sum(my_dataset) / len(my_dataset)\n",
    "\n",
    "# Median\n",
    "\n",
    "# For odd length dataset\n",
    "# The underscores indicate that these are \"private\" functions under median()\n",
    "def _median_odd(my_dataset: List[float]) -> float:\n",
    "    #median is middle element\n",
    "    return my_dataset[len(my_dataset)//2]\n",
    "\n",
    "# For even length dataset\n",
    "def _median_even(my_dataset: List[float]) -> float:\n",
    "    # Median is avg of two middle elements\n",
    "    low_midpoint = len(my_dataset)//2\n",
    "    high_midpoint = low_midpoint-1\n",
    "    return (my_dataset[low_midpoint] + my_dataset[high_midpoint])/2\n",
    "\n",
    "# Overall median function\n",
    "def median(my_dataset: List[float]) -> float:\n",
    "    v = sorted(my_dataset)\n",
    "    return _median_even(v) if len(v)%2 == 0 else _median_odd(v)\n",
    "\n",
    "assert 7.331 < mean(num_friends) < 7.334\n",
    "assert median(num_friends) == 6"
   ]
  },
  {
   "cell_type": "code",
   "execution_count": 245,
   "id": "61778dcc-427b-4b4b-8a1d-aaf9a0bbb88d",
   "metadata": {},
   "outputs": [
    {
     "name": "stdout",
     "output_type": "stream",
     "text": [
      "41.24271844660194\n",
      "6.0\n"
     ]
    }
   ],
   "source": [
    "# Let's add a outlier 5000 and check mean and median\n",
    "# Effect of outliers on mean is very high, whereas on median its very small\n",
    "\n",
    "num_friends_ol = num_friends + [5000,2000]\n",
    "print(mean(num_friends_ol))\n",
    "print(median(num_friends_ol))"
   ]
  },
  {
   "cell_type": "markdown",
   "id": "90be0e03-20fc-4522-9db1-745fec312f5e",
   "metadata": {},
   "source": [
    "#### Median as Quantile\n",
    "- <u>Quantiles</u> are a generalization of the median, representing the **values below which a certain percentage of the data falls.**\n",
    "  \n",
    "- The median is a specific quantile where 50% of the data lies below and 50% lies above.\n",
    "  \n",
    "- **Median (50th Percentile)**: The value below which 50% of the data falls.\n",
    "  \n",
    "- **First Quartile (Q1 or 25th Percentile)**: The value below which 25% of the data falls.\n",
    "  \n",
    "- **Second Quartile (Q2 or 50th Percentile, which is the Median)**: The value below which 50% of the data falls.\n",
    "  \n",
    "- **Third Quartile (Q3 or 75th Percentile)**: The value below which 75% of the data falls.\n",
    "\n",
    "- <u>Percentiles</u>: Generalizes the concept further. For example, the **90th percentile represents the value below which 90% of the data falls.**\n"
   ]
  },
  {
   "cell_type": "code",
   "execution_count": 248,
   "id": "68d9e134-f7ed-4fb0-8a31-904477860e44",
   "metadata": {},
   "outputs": [],
   "source": [
    "# Define a quantile function\n",
    "\n",
    "from typing import List\n",
    "\n",
    "def quantile(my_dataset: List[float], my_quantile: float) -> float:\n",
    "    \"\"\"\n",
    "    finds data value from my_dataset below which my_quantile% values lies\n",
    "    \"\"\"\n",
    "    my_sorted = sorted(my_dataset)\n",
    "    return my_sorted[int(len(my_dataset)*my_quantile)]\n",
    "\n",
    "assert quantile(num_friends, 0.10) == 1\n",
    "assert quantile(num_friends, 0.25) == 3\n",
    "assert quantile(num_friends, 0.75) == 9\n",
    "assert quantile(num_friends, 0.90) == 13\n",
    "\n",
    "# Means 25% values of dataset lies below 3 (not including 3)"
   ]
  },
  {
   "cell_type": "markdown",
   "id": "7d227941-f14f-42ce-b887-23794d2b4908",
   "metadata": {},
   "source": [
    "#### Using Numpy"
   ]
  },
  {
   "cell_type": "code",
   "execution_count": 249,
   "id": "7f3891ff-d835-467c-b9c1-5392c0c0b06e",
   "metadata": {},
   "outputs": [],
   "source": [
    "import numpy as np\n",
    "\n",
    "assert np.median(num_friends) == 6\n",
    "assert np.quantile((num_friends), 0.25) == 3"
   ]
  },
  {
   "cell_type": "markdown",
   "id": "17d2c1dc-fa30-4c12-b980-1c140d2e053c",
   "metadata": {},
   "source": [
    "### (c) Mode\n",
    "- Most common values in a dataset\n",
    "- Used less frequently"
   ]
  },
  {
   "cell_type": "code",
   "execution_count": 250,
   "id": "bffb14d5-7d6a-4740-8e05-bec7bae8c8e8",
   "metadata": {},
   "outputs": [
    {
     "name": "stdout",
     "output_type": "stream",
     "text": [
      "[6, 1]\n"
     ]
    }
   ],
   "source": [
    "from typing import List\n",
    "from collections import Counter\n",
    "import matplotlib.pyplot as plt\n",
    "\n",
    "def mode(my_dataset: List[float]) -> List[float]:\n",
    "    \"\"\"\n",
    "    Returns list of most common values in my_dataset\n",
    "    \"\"\"\n",
    "    count_dict = Counter(my_dataset) #create a x:y dict for 'x value is repeting y times'\n",
    "    max_counts = max(count_dict.values()) # max repeating times\n",
    "    return [x for x,y in count_dict.items() if y == max_counts] #max repteating key or x\n",
    "\n",
    "\n",
    "# Apply mode function to num_friends\n",
    "print(mode(num_friends))"
   ]
  },
  {
   "cell_type": "markdown",
   "id": "f3debed5-ab2d-4b4b-80e0-d3432ae4fe61",
   "metadata": {},
   "source": [
    "# 3. Dispersion\n",
    "- How spreaded our values in a dataset are\n",
    "- Shows variability and volatility of data\n",
    "- Some common measures of dispersion are: Range, Variance, SD, IQR"
   ]
  },
  {
   "cell_type": "markdown",
   "id": "20ec5b39-d33e-4676-be6f-72335d569e20",
   "metadata": {},
   "source": [
    "#### (a) Range\n",
    "   - The difference between the highest and lowest values in the dataset\n",
    "     > $$Range(x) = x_{max} - x_{min}$$\n",
    "   - It gives a quick sense of the spread\n",
    "   - But it can be heavily influenced by outliers\n",
    "   - Maximum undispered data means?\n",
    "     > max=min   \n",
    "     > i.e. list has only same values"
   ]
  },
  {
   "cell_type": "code",
   "execution_count": 251,
   "id": "e59d2501-aca2-4c80-8849-f790a8c02a59",
   "metadata": {},
   "outputs": [],
   "source": [
    "def data_range(my_dataset: List[float]) -> float:\n",
    "    return max(my_dataset) - min(my_dataset)\n",
    "\n",
    "num_friends =[100.0,49,41,40,25,21,21,19,19,18,18,16,15,15,15,15,14,14,13,13,13,13,12,12,11,10,10,10,10,10,10,10,10,10,10,10,10,10,10,10,9,9,9,9,9,9,9,9,9,9,9,9,9,9,9,9,9,9,8,8,8,8,8,8,8,8,8,8,8,8,8,7,7,7,7,7,7,7,7,7,7,7,7,7,7,7,6,6,6,6,6,6,6,6,6,6,6,6,6,6,6,6,6,6,6,6,6,6,5,5,5,5,5,5,5,5,5,5,5,5,5,5,5,5,5,4,4,4,4,4,4,4,4,4,4,4,4,4,4,4,4,4,4,4,4,3,3,3,3,3,3,3,3,3,3,3,3,3,3,3,3,3,3,3,3,2,2,2,2,2,2,2,2,2,2,2,2,2,2,2,2,2,1,1,1,1,1,1,1,1,1,1,1,1,1,1,1,1,1,1,1,1,1,1]\n",
    "assert data_range(num_friends) == 99"
   ]
  },
  {
   "cell_type": "markdown",
   "id": "7249880a-bd91-4456-9cd4-661644506bc2",
   "metadata": {},
   "source": [
    "#### (b) Variance\n",
    "> $$Variance(\\sigma^{2}) = \\frac{\\sum{(X-\\bar{X})^{2}}}{n}$$\n",
    "> Average squared difference from mean  \n",
    "> (Variance) $\\alpha$ (Spread)  \n",
    "> It gives a measure of **how much each value in the data set varies from the mean.**  \n",
    "> "
   ]
  },
  {
   "cell_type": "code",
   "execution_count": 252,
   "id": "4d835cbf-b67f-4644-9956-e6b716b98577",
   "metadata": {},
   "outputs": [
    {
     "name": "stdout",
     "output_type": "stream",
     "text": [
      "80.14379084967331\n"
     ]
    }
   ],
   "source": [
    "from scratch.linear_algebra import sum_of_squares\n",
    "\n",
    "# Find deviation of x from its mean\n",
    "def de_mean(my_dataset: List[float]) -> List[float]: \n",
    "    my_mean = mean(my_dataset)\n",
    "    return [(x_i-my_mean) for x_i in my_dataset]\n",
    "\n",
    "# Find variance\n",
    "def variance(my_dataset: List[float]) -> float:\n",
    "    assert len(my_dataset) >=2 #variance requires at least two elements\n",
    "    l = len(my_dataset)\n",
    "    return sum_of_squares(de_mean(my_dataset))/l-1\n",
    "\n",
    "#This looks like it is almost the average squared deviation from the mean, except that\n",
    "#we’re dividing by n - 1 instead of n. In fact, when we’re dealing with a sample from a\n",
    "#larger population, x_bar is only an estimate of the actual mean, which means that on\n",
    "#average (x_i - x_bar) ** 2 is an underestimate of x_i’s squared deviation from the\n",
    "#mean, which is why we divide by n - 1 instead of n. See Wikipedia.\n",
    "\n",
    "\n",
    "print(variance(num_friends))"
   ]
  },
  {
   "cell_type": "markdown",
   "id": "dc14ccf5-9d67-4868-82cf-bc0715642f28",
   "metadata": {},
   "source": [
    "#### (c) Standard Deviation\n",
    "> $$Satandard Deviation(\\sigma) = \\sqrt{variance(\\sigma^{2})}$$\n",
    "> > Square root of the variance  \n",
    "> It is in the same units as the data, making it more interpretable than variance  \n",
    "> **A low standard deviation means -> the values tend to be close to the mean, while a high standard deviation indicates that the values are spread out over a wider range**"
   ]
  },
  {
   "cell_type": "code",
   "execution_count": 278,
   "id": "f3369650-693d-46f7-b0e4-c5b833bba4a9",
   "metadata": {},
   "outputs": [
    {
     "name": "stdout",
     "output_type": "stream",
     "text": [
      "8.952306454186726\n",
      "373.10635059557205\n"
     ]
    }
   ],
   "source": [
    "import math\n",
    "from typing import List\n",
    "from scratch.statistics import mean\n",
    "from scratch.statistics import variance\n",
    "\n",
    "def standard_deviation(my_dataset: List[float]) -> float:\n",
    "    #SD is square root of variance\n",
    "    return math.sqrt(variance(my_dataset))\n",
    "\n",
    "print(standard_deviation(num_friends))\n",
    "print(standard_deviation(num_friends_ol))  #outlier problem"
   ]
  },
  {
   "cell_type": "markdown",
   "id": "235d9a77-ac68-4936-8102-91f2fc150133",
   "metadata": {},
   "source": [
    "#### (d) Interquartile Range (IQR)\n",
    "$$ IQR = Q_3 - Q_1$$\n",
    "> Both range and SD are very vulnerable to outliers  \n",
    "> So we use values between 25% and 75% i.e. 1st and 3rd quantile to get less affected by outliers  \n",
    "> It is the range within which the central 50% of the values fall  \n",
    "> Calculated as the difference between the 75th percentile (Q3) and the 25th percentile (Q1)\n"
   ]
  },
  {
   "cell_type": "code",
   "execution_count": 279,
   "id": "318f4b14-0ed3-49a7-ad12-5d786469c231",
   "metadata": {},
   "outputs": [],
   "source": [
    "from scratch.statistics import variance, mean, quantile\n",
    "def interquatile_range(my_dataset: List[float]) -> float:\n",
    "    #value of q3- values of q1 = interquantile range\n",
    "    return quantile(my_dataset,0.75)-quantile(my_dataset,0.25)\n",
    "\n",
    "assert interquatile_range(num_friends) == 6\n",
    "assert interquatile_range(num_friends_ol) == 6  #not much affected by small number of outliers"
   ]
  },
  {
   "attachments": {},
   "cell_type": "markdown",
   "id": "cdf1410c-7ebd-460c-a46d-6982e1d3d17d",
   "metadata": {},
   "source": [
    "# 4. Covariance and Correlation\n",
    "\n",
    "## Covariance\n",
    "> $$ Covariance = \\frac{[x-\\bar{x}]\\cdot[y-\\bar{y}]}{(n-1)}$$  \n",
    "> <u>Sign</u> indicates the direction of the linear relationship: Positive covariance indicates a positive relationship and vice-versa  \n",
    "> <u>Value</u> close to zero indicates a weak or no linear relationship\n",
    "> Let's find the covariance between number of friends and number of hours spent on website "
   ]
  },
  {
   "cell_type": "code",
   "execution_count": 280,
   "id": "2ddebdd0-5221-4b77-8b04-8a52d300e08e",
   "metadata": {},
   "outputs": [],
   "source": [
    "daily_minutes = [1,68.77,51.25,52.08,38.36,44.54,57.13,51.4,41.42,31.22,34.76,54.01,38.79,47.59,49.1,27.66,41.03,36.73,48.65,28.12,46.62,35.57,32.98,35,26.07,23.77,39.73,40.57,31.65,31.21,36.32,20.45,21.93,26.02,27.34,23.49,46.94,30.5,33.8,24.23,21.4,27.94,32.24,40.57,25.07,19.42,22.39,18.42,46.96,23.72,26.41,26.97,36.76,40.32,35.02,29.47,30.2,31,38.11,38.18,36.31,21.03,30.86,36.07,28.66,29.08,37.28,15.28,24.17,22.31,30.17,25.53,19.85,35.37,44.6,17.23,13.47,26.33,35.02,32.09,24.81,19.33,28.77,24.26,31.98,25.73,24.86,16.28,34.51,15.23,39.72,40.8,26.06,35.76,34.76,16.13,44.04,18.03,19.65,32.62,35.59,39.43,14.18,35.24,40.13,41.82,35.45,36.07,43.67,24.61,20.9,21.9,18.79,27.61,27.21,26.61,29.77,20.59,27.53,13.82,33.2,25,33.1,36.65,18.63,14.87,22.2,36.81,25.53,24.62,26.25,18.21,28.08,19.42,29.79,32.8,35.99,28.32,27.79,35.88,29.06,36.28,14.1,36.63,37.49,26.9,18.58,38.48,24.48,18.95,33.55,14.24,29.04,32.51,25.63,22.22,19,32.73,15.16,13.9,27.2,32.01,29.27,33,13.74,20.42,27.32,18.23,35.35,28.48,9.08,24.62,20.12,35.26,19.92,31.02,16.49,12.16,30.7,31.22,34.65,13.13,27.51,33.2,31.57,14.1,33.42,17.44,10.12,24.42,9.82,23.39,30.93,15.03,21.67,31.09,33.29,22.61,26.89,23.48,8.38,27.81,32.35,23.84]\n",
    "\n",
    "daily_hours = [dm / 60 for dm in daily_minutes]"
   ]
  },
  {
   "cell_type": "code",
   "execution_count": 281,
   "id": "904bffaa-ab57-4b95-8db8-8cbec82904fb",
   "metadata": {},
   "outputs": [
    {
     "data": {
      "image/png": "[encoded data removed]",
      "text/plain": [
       "<Figure size 640x480 with 1 Axes>"
      ]
     },
     "metadata": {},
     "output_type": "display_data"
    }
   ],
   "source": [
    "from scratch.linear_algebra import dot\n",
    "from typing import List\n",
    "from matplotlib import pyplot as plt\n",
    "\n",
    "def covariance(x: List[float], y: List[float]) -> float:\n",
    "    assert len(x) == len(y), \"different sizes!\"\n",
    "    return dot(de_mean(x), de_mean(y))/(len(x) - 1)\n",
    "\n",
    "\n",
    "plt.plot(num_friends, label = 'num friends')\n",
    "plt.plot(daily_hours, label = 'daily hours')\n",
    "plt.plot(daily_minutes, label = 'daily minutes')\n",
    "plt.legend()\n",
    "\n",
    "assert 22.42 < covariance(num_friends, daily_minutes) < 22.43\n",
    "assert 22.42 / 60 < covariance(num_friends, daily_hours) < 22.43 / 60  \n",
    "\n",
    "    "
   ]
  },
  {
   "attachments": {
    "ae399386-7ad3-467b-8dbc-c74734eeb828.png": {
     "image/png": "[encoded data removed]"
    }
   },
   "cell_type": "markdown",
   "id": "8018a5b7-6d8e-430d-bf68-8b7466b0ad5e",
   "metadata": {},
   "source": [
    "**Limitations of covariance?**\n",
    "> Its units are product of inputs units  \n",
    "> If x becomes 2*x, then covariance will also be doubled, which indicates nothing.\n",
    "> Means it will only signify that they are positively correlated but how to quantify their correlation?  \n",
    "> For this we use Correlation:\n",
    "\n",
    "## Correlation\n",
    "\n",
    "- The Pearson correlation coefficient ($r$) between two variables $X$ and $Y$ can be calculated using the following formula:\n",
    "\n",
    "$$\n",
    "r = \\frac{covariance(x,y)}{\\sigma_{x} . \\sigma_{y}} =\\frac{{\\sum{{(x_i - \\bar{x})(y_i - \\bar{y})}}}}{{\\sqrt{{\\sum{{(x_i - \\bar{x})^2}} \\sum{{(y_i - \\bar{y})^2}}}}}}\n",
    "$$\n",
    "\n",
    "> Unitless  \n",
    "> Always between -1 to 1  \n",
    "> -1 means perfect anticorrelation, 1 means perfect correlation  \n",
    "> 0.25 means relatively weak positive correlation  \n",
    "\n",
    "![image.png](attachment:ae399386-7ad3-467b-8dbc-c74734eeb828.png)"
   ]
  },
  {
   "cell_type": "code",
   "execution_count": 286,
   "id": "5760ebdc-fa8c-4dbf-a31a-a3a52d51a417",
   "metadata": {},
   "outputs": [],
   "source": [
    "from typing import List\n",
    "def correlation(x: List[float], y:List[float]):\n",
    "    \"\"\"\n",
    "    Measures how much x and y vary in tandem about their means\n",
    "    \"\"\"\n",
    "    stdev_x = standard_deviation(x)\n",
    "    stdev_y = standard_deviation(y)\n",
    "    if stdev_x > 0 and stdev_y > 0:\n",
    "        return covariance(x,y)/stdev_x/stdev_y\n",
    "    else:\n",
    "        return 0 # if no variation, correlation zero"
   ]
  },
  {
   "cell_type": "code",
   "execution_count": 290,
   "id": "129da64f-a0c2-436f-a10b-fc829f49ee9f",
   "metadata": {},
   "outputs": [],
   "source": [
    "assert 0.24 < correlation(num_friends, daily_minutes) < 0.252"
   ]
  },
  {
   "cell_type": "markdown",
   "id": "72494d9e-e1b6-4c3b-a4fd-e8f1d1daba4a",
   "metadata": {},
   "source": [
    "- In num_friends, the 100th value is an outlier\n",
    "- Sometimes if we remove outlier, the correlation becomes very strong. For example:"
   ]
  },
  {
   "cell_type": "code",
   "execution_count": 315,
   "id": "bf729bad-5658-4be1-b208-37cf0e3067f9",
   "metadata": {},
   "outputs": [],
   "source": [
    "outlier = num_friends.index(100)    # index of outlier\n",
    "\n",
    "# Remove outlier\n",
    "num_friends_good = [x\n",
    "                    for i, x in enumerate(num_friends)\n",
    "                    if i != outlier]\n",
    "\n",
    "daily_minutes_good = [x\n",
    "                      for i, x in enumerate(daily_minutes)\n",
    "                      if i != outlier]\n",
    "\n",
    "daily_hours_good = [dm / 60 for dm in daily_minutes_good]\n",
    "\n",
    "assert 0.581 < correlation(num_friends_good, daily_minutes_good) < 0.588\n"
   ]
  },
  {
   "cell_type": "code",
   "execution_count": 316,
   "id": "73fd5947-b2a9-4132-a9b6-2da93c8b5a12",
   "metadata": {},
   "outputs": [
    {
     "name": "stdout",
     "output_type": "stream",
     "text": [
      "0.5870862802272387\n"
     ]
    },
    {
     "data": {
      "image/png": "[encoded data removed]",
      "text/plain": [
       "<Figure size 640x480 with 1 Axes>"
      ]
     },
     "metadata": {},
     "output_type": "display_data"
    }
   ],
   "source": [
    "plt.plot(x)\n",
    "plt.plot(y)\n",
    "print(correlation(num_friends_good,daily_minutes_good))  # Shows near to 0 correlation, means the data has min relation."
   ]
  },
  {
   "cell_type": "markdown",
   "id": "ec12aaed-4064-40fa-bfb1-98310579ca0d",
   "metadata": {},
   "source": [
    "- the outlier is actually an internal test account that no one ever bothered to remove. So you feel justified in excluding it."
   ]
  },
  {
   "cell_type": "markdown",
   "id": "d4320093-6f1d-42a9-ac4b-3f308488371b",
   "metadata": {},
   "source": [
    "## Correlation caveats (problems)\n",
    "\n",
    "### (a) Simpson's Paradox\n",
    "- the composition of subgroups can significantly affect the interpretation of aggregated data, leading to seemingly paradoxical results.\n",
    "  \n",
    "- problem with correlation is that: in a data correlation measures relation between two variables considering all other factors equal\n",
    "\n",
    "- If your dataclasses are assigned at random, as they might be in a well-designed experiment, “all else being equal” might not be a terrible assumption. But when there is a deeper pattern to class assignments, “all else being equal” can be an awful assumption.\n",
    "\n",
    "- The only real way to avoid this is by knowing your data and by doing what you can to make sure you’ve checked for possible **confounding factors**. (Obviously, this is not always possible)\n",
    "\n",
    "### (b) Correlation shows 0, but there can be any other relationship between two variables\n",
    "- for example: `x = [-2,-1,0,1,2] and y = [2,1,0,1,2]`\n",
    "\n",
    "- here, x and y have zero correlation. But they certainly have a relationship— each element of y equals the absolute value of the corresponding element of x.\n",
    "\n",
    "### (c) Correlation tells nothing about how large the relationship is\n",
    "\n",
    "- Imagine we have two datasets:\n",
    "\n",
    "Dataset 1:\n",
    "X: [1, 2, 3, 4, 5]\n",
    "Y: [2, 4, 6, 8, 10]\n",
    "\n",
    "Dataset 2:\n",
    "X: [1, 2, 3, 4, 5]\n",
    "Y: [10, 20, 30, 40, 50]\n",
    "\n",
    "- Both of these datasets will have a correlation of 1, indicating a perfect positive linear relationship. However, the scales of the relationships are very different. In the first dataset, for each unit increase in X, Y increases by 2 units. In the second dataset, for each unit increase in X, Y increases by 10 units.\n",
    "\n",
    "- Even though both have a correlation of 1, the 'strength' or 'magnitude' of the relationship (i.e., how much Y changes with a unit change in X) is much larger in the second dataset. This illustrates that while correlation tells us about the direction and consistency of the relationship, it does not tell us about the magnitude of change.\n",
    "\n",
    "- Therefore, when analyzing data, it's important to consider both the correlation and the actual values or scale of the data to fully understand the nature of the relationship between variables."
   ]
  },
  {
   "cell_type": "markdown",
   "id": "70c1649e-1883-469f-b373-6a6e3dd5ee9d",
   "metadata": {},
   "source": [
    "## Correlation and Causation\n",
    "- \"Correlation does not imply causation\" is a fundamental principle in statistics and data analysis.\n",
    "  \n",
    "- This means that just because two variables are correlated (i.e., there is a statistical association between them), it does not necessarily mean that one variable causes the other.\n",
    "\n",
    "- Correlation indicates a relationship, but it does not imply a cause-and-effect relationship.\n",
    "\n",
    "- if x and y are strongly correlated, that might mean that x causes y , that y causes x, that each causes the other, that some third factor causes both, or nothing at all.\n",
    "\n",
    "**Why Correlation Does Not Imply Causation:**\n",
    "- Third Variable Problem: There may be a third variable (confounding variable) influencing both variables, creating a spurious correlation.\n",
    "\n",
    "- Reverse Causation: The observed correlation might be due to the effect of the second variable on the first, rather than the other way around.\n",
    "\n",
    "- Coincidence: Correlation may be coincidental, and there may be no causal relationship between the variables.\n",
    "\n",
    "- To establish causation, additional evidence such as controlled experiments, randomized trials, or a solid theoretical framework is needed. While correlation is a valuable tool in identifying associations, it should not be used alone to infer causation.\n",
    "\n",
    "\n",
    "**Example 1: Ice Cream Sales and Drowning Incidents**  \n",
    "Correlation:\n",
    "There might be a positive correlation between the number of ice cream sales and the number of drowning incidents during the summer months. As ice cream sales increase, drowning incidents may also increase.\n",
    "\n",
    "Explanation:\n",
    "This correlation does not imply causation. The common factor here is the season—summer. Both ice cream sales and drowning incidents may increase in summer because of higher temperatures. The correlation is coincidental and not causal.\n",
    "\n",
    "\n",
    "\n"
   ]
  },
  {
   "cell_type": "markdown",
   "id": "4df2cf8e-769e-485b-bd08-77a93b70d63f",
   "metadata": {},
   "source": [
    "# Important python libraries\n",
    "\n",
    "## 1. scipy\n",
    "- fundamental library in python built on **numpy**\n",
    "- used for scientific and technical computing\n",
    "- provides a large number of **higher-level functions that operate on numpy arrays**\n",
    "\n",
    "1. **Integration (scipy.integrate)**: Provides functions for integrating functions and solving differential equations.\n",
    "\n",
    "2. **Optimization (scipy.optimize)**: Offers algorithms for function minimization, root finding, and curve fitting.\n",
    "\n",
    "3. **Interpolation (scipy.interpolate)**: Allows for smooth interpolation of data points with various methods.\n",
    "\n",
    "4. **Fourier Transforms (scipy.fftpack)**: Contains functions for computing fast Fourier transforms.\n",
    "\n",
    "5. **Signal Processing (scipy.signal)**: Includes tools for signal processing: filtering, windowing, signal generation, etc.\n",
    "\n",
    "6. **Linear Algebra (scipy.linalg)**: Provides more advanced linear algebra routines beyond those in numpy.linalg.\n",
    "\n",
    "7. **Sparse Matrices (scipy.sparse)**: Includes tools for working with sparse matrices.\n",
    "\n",
    "8. **Statistics (scipy.stats)**: Contains a large number of probability distributions, statistical functions, and tests.\n",
    "\n",
    "9. **Multidimensional Image Processing (scipy.ndimage)**: Offers various functions for multi-dimensional image processing.\n",
    "\n",
    "10. **Special Functions (scipy.special)**: Gives access to numerous mathematical functions like Bessel, Gamma, Beta, hypergeometric, etc."
   ]
  },
  {
   "cell_type": "code",
   "execution_count": 49,
   "id": "532ddb60-894c-41b4-a86f-0dd314941a26",
   "metadata": {},
   "outputs": [
    {
     "name": "stdout",
     "output_type": "stream",
     "text": [
      "Collecting scipy\n",
      "  Downloading scipy-1.11.4-cp311-cp311-macosx_12_0_arm64.whl.metadata (165 kB)\n",
      "\u001b[2K     \u001b[38;2;114;156;31m━━━━━━━━━━━━━━━━━━━━━━━━━━━━━━━━━━━━━━━\u001b[0m \u001b[32m165.4/165.4 kB\u001b[0m \u001b[31m1.3 MB/s\u001b[0m eta \u001b[36m0:00:00\u001b[0mm eta \u001b[36m0:00:01\u001b[0m0:01\u001b[0m\n",
      "\u001b[?25hRequirement already satisfied: numpy<1.28.0,>=1.21.6 in /Users/tanukhanuja/anaconda3/envs/dsfs/lib/python3.11/site-packages (from scipy) (1.26.2)\n",
      "Downloading scipy-1.11.4-cp311-cp311-macosx_12_0_arm64.whl (29.7 MB)\n",
      "\u001b[2K   \u001b[38;2;114;156;31m━━━━━━━━━━━━━━━━━━━━━━━━━━━━━━━━━━━━━━━━\u001b[0m \u001b[32m29.7/29.7 MB\u001b[0m \u001b[31m14.1 MB/s\u001b[0m eta \u001b[36m0:00:00\u001b[0mm eta \u001b[36m0:00:01\u001b[0m[36m0:00:01\u001b[0m\n",
      "\u001b[?25hInstalling collected packages: scipy\n",
      "Successfully installed scipy-1.11.4\n",
      "Note: you may need to restart the kernel to use updated packages.\n"
     ]
    }
   ],
   "source": [
    "pip install scipy"
   ]
  },
  {
   "cell_type": "code",
   "execution_count": 2,
   "id": "57957105-6394-40ce-a3c9-6e6984591bef",
   "metadata": {},
   "outputs": [
    {
     "name": "stdout",
     "output_type": "stream",
     "text": [
      "Optimal value of x: 2.00000001888464\n",
      "Minimum value of the function: 5.0\n"
     ]
    }
   ],
   "source": [
    "#Example: to find minimum value of a simple function\n",
    "\n",
    "from scipy.optimize import minimize\n",
    "\n",
    "# Define the objective function\n",
    "def objective_function(x):\n",
    "    return (x - 2)**2 + 5\n",
    "\n",
    "# Initial guess for the minimum (starting point for the optimization)\n",
    "initial_guess = 0\n",
    "\n",
    "# Use the minimize function to find the minimum\n",
    "result = minimize(objective_function, initial_guess)\n",
    "\n",
    "# Extract the optimal value of x\n",
    "optimal_x = result.x[0]\n",
    "\n",
    "# Print the result\n",
    "print(\"Optimal value of x:\", optimal_x)\n",
    "print(\"Minimum value of the function:\", result.fun)\n",
    "\n"
   ]
  },
  {
   "cell_type": "markdown",
   "id": "caf6b1f2-9639-478b-ab65-3bda9863e57d",
   "metadata": {},
   "source": [
    "## 2. pandas\n",
    "\n",
    "- Pandas is a powerful and flexible data analysis/manipulation library available in Python. \n",
    "\n",
    "- Pandas is an essential tool in the Python data science toolkit, often used in conjunction with libraries like NumPy, Matplotlib, and SciPy.\n",
    "\n",
    "    - DataFrame Object: A primary data structure of pandas, DataFrame, is a two-dimensional, size-mutable, and potentially heterogeneous tabular data structure with labeled axes (rows and columns).\n",
    "\n",
    "    - Series Object: A one-dimensional labeled array capable of holding any data type.\n",
    "\n",
    "    - Handling Different Data Types: Pandas can easily handle a variety of data types, including floating point, integer, boolean, categorical, datetime, and more.\n",
    "\n",
    "    - Data Alignment and Missing Data Handling: It has in-built support for automatically aligning data from different sources and handling missing data.\n",
    "\n",
    "    - File I/O: Ability to read and write data from different file formats like CSV, Excel, JSON, HTML, HDF5, etc.\n",
    "\n",
    "    - Data Cleaning and Transformation: Offers extensive functions for cleaning, transforming, and reshaping data.\n",
    "\n",
    "    - Merging and Joining: Provides SQL-like operations for merging or joining data sets.\n",
    "\n",
    "    - Grouping and Aggregation: Powerful grouping and aggregation capabilities for data summarization.\n",
    "\n",
    "    - Time Series Analysis: In-built support for handling and analyzing time-series data.\n",
    "\n",
    "    - Visualization: Simple wrapping of Matplotlib for quick and easy data visualization."
   ]
  },
  {
   "cell_type": "code",
   "execution_count": 3,
   "id": "a4006ea4-b4d1-4cd5-a9cc-0a786c383f87",
   "metadata": {},
   "outputs": [
    {
     "name": "stdout",
     "output_type": "stream",
     "text": [
      "Collecting pandas\n",
      "  Downloading pandas-2.2.0-cp311-cp311-macosx_11_0_arm64.whl.metadata (19 kB)\n",
      "Requirement already satisfied: numpy<2,>=1.23.2 in /Users/tanukhanuja/anaconda3/envs/dsfs/lib/python3.11/site-packages (from pandas) (1.26.2)\n",
      "Requirement already satisfied: python-dateutil>=2.8.2 in /Users/tanukhanuja/anaconda3/envs/dsfs/lib/python3.11/site-packages (from pandas) (2.8.2)\n",
      "Collecting pytz>=2020.1 (from pandas)\n",
      "  Downloading pytz-2023.3.post1-py2.py3-none-any.whl.metadata (22 kB)\n",
      "Collecting tzdata>=2022.7 (from pandas)\n",
      "  Downloading tzdata-2023.4-py2.py3-none-any.whl.metadata (1.4 kB)\n",
      "Requirement already satisfied: six>=1.5 in /Users/tanukhanuja/anaconda3/envs/dsfs/lib/python3.11/site-packages (from python-dateutil>=2.8.2->pandas) (1.16.0)\n",
      "Downloading pandas-2.2.0-cp311-cp311-macosx_11_0_arm64.whl (11.8 MB)\n",
      "\u001b[2K   \u001b[38;2;114;156;31m━━━━━━━━━━━━━━━━━━━━━━━━━━━━━━━━━━━━━━━━\u001b[0m \u001b[32m11.8/11.8 MB\u001b[0m \u001b[31m8.9 MB/s\u001b[0m eta \u001b[36m0:00:00\u001b[0mm eta \u001b[36m0:00:01\u001b[0m[36m0:00:01\u001b[0m\n",
      "\u001b[?25hDownloading pytz-2023.3.post1-py2.py3-none-any.whl (502 kB)\n",
      "\u001b[2K   \u001b[38;2;114;156;31m━━━━━━━━━━━━━━━━━━━━━━━━━━━━━━━━━━━━━━━━\u001b[0m \u001b[32m502.5/502.5 kB\u001b[0m \u001b[31m9.9 MB/s\u001b[0m eta \u001b[36m0:00:00\u001b[0m0m eta \u001b[36m0:00:01\u001b[0m\n",
      "\u001b[?25hDownloading tzdata-2023.4-py2.py3-none-any.whl (346 kB)\n",
      "\u001b[2K   \u001b[38;2;114;156;31m━━━━━━━━━━━━━━━━━━━━━━━━━━━━━━━━━━━━━━━━\u001b[0m \u001b[32m346.6/346.6 kB\u001b[0m \u001b[31m8.5 MB/s\u001b[0m eta \u001b[36m0:00:00\u001b[0m\u001b[36m0:00:01\u001b[0m\n",
      "\u001b[?25hInstalling collected packages: pytz, tzdata, pandas\n",
      "Successfully installed pandas-2.2.0 pytz-2023.3.post1 tzdata-2023.4\n",
      "Note: you may need to restart the kernel to use updated packages.\n"
     ]
    }
   ],
   "source": [
    "pip install pandas"
   ]
  },
  {
   "cell_type": "code",
   "execution_count": 14,
   "id": "7ca11c36-2e66-467f-a1cd-c9e02c9c35ad",
   "metadata": {},
   "outputs": [
    {
     "name": "stdout",
     "output_type": "stream",
     "text": [
      "      Name  Age           City\n",
      "0    Alice   25       New York\n",
      "1      Bob   30  San Francisco\n",
      "2  Charlie   35    Los Angeles\n",
      "30.0\n"
     ]
    }
   ],
   "source": [
    "import pandas as pd\n",
    "\n",
    "#create a dataframe using pandas\n",
    "\n",
    "data = {'Name': ['Alice', 'Bob', 'Charlie'],\n",
    "    'Age': [25, 30, 35],\n",
    "    'City': ['New York', 'San Francisco', 'Los Angeles']\n",
    "}\n",
    "\n",
    "df = pd.DataFrame(data)\n",
    "print(df)\n",
    "\n",
    "#similar to R dataframe\n",
    "\n",
    "#perform basic operation\n",
    "print(df['Age'].mean())"
   ]
  },
  {
   "cell_type": "markdown",
   "id": "6675926b-6c77-4a99-9a66-c3d4c154b240",
   "metadata": {},
   "source": [
    "### Categorical data\n",
    "\n",
    "- In the context of data analysis and statistics, \"categorical\" refers to a type of data that can take on one of a limited, and usually fixed, number of possible values. These values represent discrete categories or groups. Categorical data is often used to represent characteristics such as a person's gender, a car's color, or a student's grade level.\n",
    "\n",
    "- There are two main types of categorical data:\n",
    "\n",
    "    - Nominal Data: This is categorical data where the order of the categories is not significant. For example, the colors of cars (red, blue, green) are nominal because the order in which you list these colors does not carry any intrinsic meaning.\n",
    "\n",
    "    - Ordinal Data: This type of categorical data involves some order; the categories have a logical sequence. For example, ratings such as \"good\", \"better\", \"best\" have an inherent order. The order is significant and meaningful.\n",
    "\n",
    "- In data analysis, especially with libraries like Pandas in Python, it's often important to specify when data is categorical because it informs the analysis and visualization techniques you might use. For example, certain statistical models or plots are more appropriate for categorical data.\n",
    "\n",
    "- In Pandas, you can specify that a column in a DataFrame is categorical by converting it to the category dtype.\n",
    "\n",
    "  - This conversion can lead to more efficient storage and faster operations, especially for large datasets, as Pandas uses an optimized internal representation for categorical data."
   ]
  },
  {
   "cell_type": "code",
   "execution_count": 16,
   "id": "c2e1b136-b4e8-4cf1-90ef-acdfc7f65d85",
   "metadata": {},
   "outputs": [],
   "source": [
    "import pandas as pd\n",
    "\n",
    "df = pd.DataFrame({'grade': ['A', 'B', 'C', 'D', 'F']})\n",
    "df['grade'] = df['grade'].astype('category')"
   ]
  },
  {
   "cell_type": "markdown",
   "id": "a37e1dcd-2a09-4b91-8ca9-00a4dace14fd",
   "metadata": {},
   "source": [
    "## 3. StatsModels\n",
    "\n",
    "- Linear Models: It offers various options for linear regression, including Ordinary Least Squares (OLS), Generalized Least Squares (GLS), and robust linear models.\n",
    "\n",
    "- Generalized Linear Models: For data that do not fit the normal distribution, statsmodels includes Generalized Linear Models (GLM) such as logistic regression for binary outcomes.\n",
    "\n",
    "- Time Series Analysis: It has tools for the estimation of time series models, including ARIMA (AutoRegressive Integrated Moving Average) and state-space models.\n",
    "\n",
    "- Nonparametric Methods: Statsmodels provides nonparametric statistics methods, which can be useful when the data does not meet the assumptions required by parametric methods.\n",
    "\n",
    "- Statistical Tests: The module includes a variety of statistical tests for different purposes, such as t-tests, chi-square tests, and ANOVA.\n",
    "\n",
    "- Plotting Functions: It offers various plotting functions for visualizing results, like autocorrelation plots, partial autocorrelation plots, and qq-plots.\n",
    "\n",
    "- Datasets: Statsmodels includes several datasets which can be used for examples and testing models.\n",
    "\n",
    "- Extensive Output of Model Summaries: The summary output of models in statsmodels is comprehensive, showing various statistical metrics that help in interpreting the model's performance.\n"
   ]
  },
  {
   "cell_type": "code",
   "execution_count": 21,
   "id": "dddaccb5-c664-4dc2-ad92-485ec20a4d01",
   "metadata": {},
   "outputs": [
    {
     "name": "stdout",
     "output_type": "stream",
     "text": [
      "Collecting statsmodels\n",
      "  Downloading statsmodels-0.14.1-cp311-cp311-macosx_11_0_arm64.whl.metadata (9.5 kB)\n",
      "Requirement already satisfied: numpy<2,>=1.18 in /Users/tanukhanuja/anaconda3/envs/dsfs/lib/python3.11/site-packages (from statsmodels) (1.26.2)\n",
      "Requirement already satisfied: scipy!=1.9.2,>=1.4 in /Users/tanukhanuja/anaconda3/envs/dsfs/lib/python3.11/site-packages (from statsmodels) (1.11.4)\n",
      "Requirement already satisfied: pandas!=2.1.0,>=1.0 in /Users/tanukhanuja/anaconda3/envs/dsfs/lib/python3.11/site-packages (from statsmodels) (2.2.0)\n",
      "Collecting patsy>=0.5.4 (from statsmodels)\n",
      "  Downloading patsy-0.5.6-py2.py3-none-any.whl.metadata (3.5 kB)\n",
      "Requirement already satisfied: packaging>=21.3 in /Users/tanukhanuja/anaconda3/envs/dsfs/lib/python3.11/site-packages (from statsmodels) (23.2)\n",
      "Requirement already satisfied: python-dateutil>=2.8.2 in /Users/tanukhanuja/anaconda3/envs/dsfs/lib/python3.11/site-packages (from pandas!=2.1.0,>=1.0->statsmodels) (2.8.2)\n",
      "Requirement already satisfied: pytz>=2020.1 in /Users/tanukhanuja/anaconda3/envs/dsfs/lib/python3.11/site-packages (from pandas!=2.1.0,>=1.0->statsmodels) (2023.3.post1)\n",
      "Requirement already satisfied: tzdata>=2022.7 in /Users/tanukhanuja/anaconda3/envs/dsfs/lib/python3.11/site-packages (from pandas!=2.1.0,>=1.0->statsmodels) (2023.4)\n",
      "Requirement already satisfied: six in /Users/tanukhanuja/anaconda3/envs/dsfs/lib/python3.11/site-packages (from patsy>=0.5.4->statsmodels) (1.16.0)\n",
      "Downloading statsmodels-0.14.1-cp311-cp311-macosx_11_0_arm64.whl (10.1 MB)\n",
      "\u001b[2K   \u001b[38;2;114;156;31m━━━━━━━━━━━━━━━━━━━━━━━━━━━━━━━━━━━━━━━━\u001b[0m \u001b[32m10.1/10.1 MB\u001b[0m \u001b[31m13.7 MB/s\u001b[0m eta \u001b[36m0:00:00\u001b[0mm eta \u001b[36m0:00:01\u001b[0m:01\u001b[0m:01\u001b[0m\n",
      "\u001b[?25hDownloading patsy-0.5.6-py2.py3-none-any.whl (233 kB)\n",
      "\u001b[2K   \u001b[38;2;114;156;31m━━━━━━━━━━━━━━━━━━━━━━━━━━━━━━━━━━━━━━━━\u001b[0m \u001b[32m233.9/233.9 kB\u001b[0m \u001b[31m9.1 MB/s\u001b[0m eta \u001b[36m0:00:00\u001b[0m\n",
      "\u001b[?25hInstalling collected packages: patsy, statsmodels\n",
      "Successfully installed patsy-0.5.6 statsmodels-0.14.1\n"
     ]
    }
   ],
   "source": [
    "!pip install statsmodels"
   ]
  },
  {
   "cell_type": "code",
   "execution_count": 26,
   "id": "45593b81-cbed-4e66-89f6-ea5ee4068f20",
   "metadata": {},
   "outputs": [
    {
     "name": "stdout",
     "output_type": "stream",
     "text": [
      "                            OLS Regression Results                            \n",
      "==============================================================================\n",
      "Dep. Variable:                      Y   R-squared:                       0.600\n",
      "Model:                            OLS   Adj. R-squared:                  0.467\n",
      "Method:                 Least Squares   F-statistic:                     4.500\n",
      "Date:                Sun, 21 Jan 2024   Prob (F-statistic):              0.124\n",
      "Time:                        10:02:39   Log-Likelihood:                -5.2598\n",
      "No. Observations:                   5   AIC:                             14.52\n",
      "Df Residuals:                       3   BIC:                             13.74\n",
      "Df Model:                           1                                         \n",
      "Covariance Type:            nonrobust                                         \n",
      "==============================================================================\n",
      "                 coef    std err          t      P>|t|      [0.025      0.975]\n",
      "------------------------------------------------------------------------------\n",
      "const          2.2000      0.938      2.345      0.101      -0.785       5.185\n",
      "X              0.6000      0.283      2.121      0.124      -0.300       1.500\n",
      "==============================================================================\n",
      "Omnibus:                          nan   Durbin-Watson:                   2.017\n",
      "Prob(Omnibus):                    nan   Jarque-Bera (JB):                0.570\n",
      "Skew:                           0.289   Prob(JB):                        0.752\n",
      "Kurtosis:                       1.450   Cond. No.                         8.37\n",
      "==============================================================================\n",
      "\n",
      "Notes:\n",
      "[1] Standard Errors assume that the covariance matrix of the errors is correctly specified.\n"
     ]
    },
    {
     "name": "stderr",
     "output_type": "stream",
     "text": [
      "/Users/tanukhanuja/anaconda3/envs/dsfs/lib/python3.11/site-packages/statsmodels/stats/stattools.py:74: ValueWarning: omni_normtest is not valid with less than 8 observations; 5 samples were given.\n",
      "  warn(\"omni_normtest is not valid with less than 8 observations; %i \"\n"
     ]
    }
   ],
   "source": [
    "import statsmodels.api as sm\n",
    "import pandas as pd\n",
    "\n",
    "# Example data\n",
    "df = pd.DataFrame({\n",
    "    'X': [1, 2, 3, 4, 5],\n",
    "    'Y': [2, 4, 5, 4, 5]\n",
    "})\n",
    "\n",
    "# Ordinary Least Squares (OLS) regression\n",
    "model = sm.OLS(df['Y'], sm.add_constant(df['X'])).fit()\n",
    "\n",
    "# View the summary of the model\n",
    "print(model.summary())\n",
    "\n",
    "#In this example, an OLS regression model is fitted to the data, \n",
    "#and then the summary of the model is printed, \n",
    "#which includes various statistical measures and tests to assess the model's validity and performance"
   ]
  },
  {
   "cell_type": "code",
   "execution_count": null,
   "id": "85de158b-f71b-43f1-a447-be2e547d4baf",
   "metadata": {},
   "outputs": [],
   "source": []
  }
 ],
 "metadata": {
  "kernelspec": {
   "display_name": "Python 3 (ipykernel)",
   "language": "python",
   "name": "python3"
  },
  "language_info": {
   "codemirror_mode": {
    "name": "ipython",
    "version": 3
   },
   "file_extension": ".py",
   "mimetype": "text/x-python",
   "name": "python",
   "nbconvert_exporter": "python",
   "pygments_lexer": "ipython3",
   "version": "3.11.5"
  }
 },
 "nbformat": 4,
 "nbformat_minor": 5
}
