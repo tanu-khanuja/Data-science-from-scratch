{
 "cells": [
  {
   "cell_type": "markdown",
   "id": "a728bf11-6c72-46d3-ba82-e5da48ea5d70",
   "metadata": {},
   "source": [
    "# 1. Describing a single set of data\n",
    "- VP of Fundraising in your company asks you for some sort of description of how many friends your members have that he can include in his elevator pitches.\n",
    "- Easy to produce this data but how to describe it?\n",
    "- An obvious desciption of a dataset is its data itself."
   ]
  },
  {
   "cell_type": "code",
   "execution_count": 2,
   "id": "7ebf9cce-563e-4764-a102-c1d9ab482880",
   "metadata": {},
   "outputs": [],
   "source": [
    "# Example\n",
    "\n",
    "num_friends = [100.0,49,41,40,25,21,21,19,19,18,18,16,15,15,15,15,14,14,13,13,13,13,12,12,\n",
    "                11,10,10,10,10,10,10,10,10,10,10,10,10,10,10,10,9,9,9,9,9,9,9,9,9,9,9,9,9,\n",
    "                9,9,9,9,9,8,8,8,8,8,8,8,8,8,8,8,8,8,7,7,7,7,7,7,7,7,7,7,7,7,7,7,7,6,6,6,6,\n",
    "                6,6,6,6,6,6,6,6,6,6,6,6,6,6,6,6,6,6,5,5,5,5,5,5,5,5,5,5,5,5,5,5,5,5,5,4,4,\n",
    "                4,4,4,4,4,4,4,4,4,4,4,4,4,4,4,4,4,4,3,3,3,3,3,3,3,3,3,3,3,3,3,3,3,3,3,3,3,\n",
    "                3,2,2,2,2,2,2,2,2,2,2,2,2,2,2,2,2,2,1,1,1,1,1,1,1,1,1,1,1,1,1,1,1,1,1,1,1,1,1,1]"
   ]
  },
  {
   "cell_type": "markdown",
   "id": "1862e561-b086-41a2-aa33-d40a18afd97c",
   "metadata": {},
   "source": [
    "- Small datasets are easily readable and can be analyzed directly.\n",
    "- Large datasets are not easily readble thus we use statistics to summarize and interpret its data.\n",
    "- Statistics helps to destill and communicate relevant features of our data.\n",
    "- For example: Create a histogram of friend counts to visualize distribution and trends. "
   ]
  },
  {
   "cell_type": "code",
   "execution_count": 3,
   "id": "259506c5-277b-48a2-bec9-6a06d449c381",
   "metadata": {},
   "outputs": [
    {
     "name": "stdout",
     "output_type": "stream",
     "text": [
      "num_friends=[100.0, 49, 41, 40, 25, 21, 21, 19, 19, 18, 18, 16, 15, 15, 15, 15, 14, 14, 13, 13, 13, 13, 12, 12, 11, 10, 10, 10, 10, 10, 10, 10, 10, 10, 10, 10, 10, 10, 10, 10, 9, 9, 9, 9, 9, 9, 9, 9, 9, 9, 9, 9, 9, 9, 9, 9, 9, 9, 8, 8, 8, 8, 8, 8, 8, 8, 8, 8, 8, 8, 8, 7, 7, 7, 7, 7, 7, 7, 7, 7, 7, 7, 7, 7, 7, 7, 6, 6, 6, 6, 6, 6, 6, 6, 6, 6, 6, 6, 6, 6, 6, 6, 6, 6, 6, 6, 6, 6, 5, 5, 5, 5, 5, 5, 5, 5, 5, 5, 5, 5, 5, 5, 5, 5, 5, 4, 4, 4, 4, 4, 4, 4, 4, 4, 4, 4, 4, 4, 4, 4, 4, 4, 4, 4, 4, 3, 3, 3, 3, 3, 3, 3, 3, 3, 3, 3, 3, 3, 3, 3, 3, 3, 3, 3, 3, 2, 2, 2, 2, 2, 2, 2, 2, 2, 2, 2, 2, 2, 2, 2, 2, 2, 1, 1, 1, 1, 1, 1, 1, 1, 1, 1, 1, 1, 1, 1, 1, 1, 1, 1, 1, 1, 1, 1]\n",
      "friend_counts=Counter({6: 22, 1: 22, 4: 20, 3: 20, 9: 18, 5: 17, 2: 17, 10: 15, 7: 15, 8: 13, 15: 4, 13: 4, 21: 2, 19: 2, 18: 2, 14: 2, 12: 2, 100.0: 1, 49: 1, 41: 1, 40: 1, 25: 1, 16: 1, 11: 1})\n"
     ]
    },
    {
     "data": {
      "text/plain": [
       "<BarContainer object of 101 artists>"
      ]
     },
     "execution_count": 3,
     "metadata": {},
     "output_type": "execute_result"
    },
    {
     "data": {
      "image/png": "[encoded data removed]",
      "text/plain": [
       "<Figure size 640x480 with 1 Axes>"
      ]
     },
     "metadata": {},
     "output_type": "display_data"
    }
   ],
   "source": [
    "# Create histogram of friend counts\n",
    "\n",
    "from collections import Counter\n",
    "import matplotlib.pyplot as plt\n",
    "\n",
    "print(f\"{num_friends=}\")\n",
    "\n",
    "friend_counts = Counter(num_friends)\n",
    "print(f\"{friend_counts=}\")\n",
    "\n",
    "xs = range(101)\n",
    "ys = [friend_counts[x] for x in xs]\n",
    "plt.xlabel(\"# of friends\")\n",
    "plt.ylabel(\"# of people\")\n",
    "plt.title(\"Histogram of friend counts\")\n",
    "plt.bar(xs,ys)"
   ]
  },
  {
   "cell_type": "markdown",
   "id": "6d8e6872-cdc9-4296-bf99-19805fff23c2",
   "metadata": {},
   "source": [
    "- To understand it deeply we need to generate some statistics."
   ]
  },
  {
   "cell_type": "code",
   "execution_count": 4,
   "id": "f88fbad3-5511-4742-9fd2-b72f8e2ab140",
   "metadata": {},
   "outputs": [],
   "source": [
    "# Number of data points\n",
    "num_points = len(num_friends)\n",
    "assert num_points == 204"
   ]
  },
  {
   "cell_type": "code",
   "execution_count": 5,
   "id": "310ca0ca-3d6d-45f0-8b79-efaec4a7b170",
   "metadata": {},
   "outputs": [],
   "source": [
    "# Largest and Smallest values\n",
    "\n",
    "largest_value = max(num_friends)\n",
    "smallest_value = min(num_friends)\n",
    "\n",
    "assert largest_value == 100\n",
    "assert smallest_value == 1"
   ]
  },
  {
   "cell_type": "code",
   "execution_count": 6,
   "id": "2370231f-c795-4ad9-9216-ea142a617a7e",
   "metadata": {},
   "outputs": [],
   "source": [
    "# To know values specific to positions\n",
    "\n",
    "sorted_values = sorted(num_friends)  # By default it will sort in ascending order\n",
    "\n",
    "smallest_value = sorted_values[0]\n",
    "assert smallest_value == 1\n",
    "\n",
    "largest_value = sorted_values[-1]\n",
    "assert largest_value == 100"
   ]
  },
  {
   "cell_type": "markdown",
   "id": "c85ca873-db20-405c-ac0b-acbf4307612c",
   "metadata": {},
   "source": [
    "# 2. Central tendencies"
   ]
  },
  {
   "attachments": {},
   "cell_type": "markdown",
   "id": "1f3eb2e0-b849-4129-ba12-3f3224ee070b",
   "metadata": {},
   "source": [
    "- Usually, we will want some notion of <u>where our data is centered?</u>\n",
    "\n",
    "- Central tendencies are summarized in this graph:\n",
    "<img src=\"central_tendencies.png\" alt=\"Central Tendencies\" width=\"500\">\n"
   ]
  },
  {
   "cell_type": "markdown",
   "id": "f9b6c419-f982-497f-8b2b-b62d97af026a",
   "metadata": {},
   "source": [
    "### (a) Mean/Average\n",
    "   > - Sum of data divided by its count  \n",
    "   > - Represents the **central point of a data set**  \n",
    "   > - **Affected by outliers** (extremely high or low values in the dataset) and can be skewed by them  \n",
    "   > - Best used: <u>when the data is evenly distributed without outliers</u>  "
   ]
  },
  {
   "cell_type": "code",
   "execution_count": 187,
   "id": "9296e01d-f870-4baf-aaf2-372a36a1b71d",
   "metadata": {},
   "outputs": [],
   "source": [
    "from typing import List\n",
    "\n",
    "def mean(xs: List[float]) -> float:\n",
    "    \"\"\" \n",
    "    mean(x) is mean of array x\n",
    "    \"\"\"\n",
    "    return sum(xs) / len(xs)"
   ]
  },
  {
   "cell_type": "markdown",
   "id": "3402e508-512d-4b9c-9e7d-dbf1e9f5c0df",
   "metadata": {},
   "source": [
    "### (b) Median"
   ]
  },
  {
   "cell_type": "markdown",
   "id": "e502419c-f8f0-4ac0-9c3b-2e4794abc34d",
   "metadata": {},
   "source": [
    "- **Middle value** of a dataset **when sorted** from smallest to larger\n",
    "> - For even number dataset, median = avg of two middle values\n",
    "> - For odd number dataset, median = middle value\n",
    "- **Calculation**: Sort all values, then select the middle one (or average the two middle ones for an even number of values).\n",
    "- **Resistant to Outliers** - The median is not affected by outliers or extremely skewed data.\n",
    "- **Best Used**: When the data has outliers or is not symmetrically distributed."
   ]
  },
  {
   "cell_type": "code",
   "execution_count": 7,
   "id": "fbb89eca-2edc-4a64-89ff-9d2859e99b40",
   "metadata": {},
   "outputs": [],
   "source": [
    "# Example\n",
    "\n",
    "from typing import List\n",
    "\n",
    "# Mean\n",
    "def mean(my_dataset: List[float]) -> float:\n",
    "    return sum(my_dataset) / len(my_dataset)\n",
    "\n",
    "# Median\n",
    "# For odd length dataset\n",
    "# The underscores are for \"private\" methods under median() method\n",
    "def _median_odd(my_dataset: List[float]) -> float:\n",
    "    #median is middle element\n",
    "    return my_dataset[len(my_dataset)//2]   # '//' divides and discards fractional part (gives only integer)\n",
    "\n",
    "# For even length dataset\n",
    "def _median_even(my_dataset: List[float]) -> float:\n",
    "    # Median is avg of two middle elements\n",
    "    high_midpoint = len(my_dataset)//2\n",
    "    low_midpoint = high_midpoint-1\n",
    "    return (my_dataset[low_midpoint] + my_dataset[high_midpoint])/2\n",
    "\n",
    "# Overall median function\n",
    "def median(my_dataset: List[float]) -> float:\n",
    "    v = sorted(my_dataset)\n",
    "    return _median_even(v) if len(v)%2 == 0 else _median_odd(v)\n",
    "\n"
   ]
  },
  {
   "cell_type": "code",
   "execution_count": 8,
   "id": "24faf2db-6959-4c3f-a887-839772f41f6f",
   "metadata": {},
   "outputs": [],
   "source": [
    "assert 7.331 < mean(num_friends) < 7.334\n",
    "assert median(num_friends) == 6"
   ]
  },
  {
   "cell_type": "code",
   "execution_count": 9,
   "id": "61778dcc-427b-4b4b-8a1d-aaf9a0bbb88d",
   "metadata": {},
   "outputs": [],
   "source": [
    "# Let's add a outlier 5000 and check mean and median\n",
    "# Effect of outliers on mean is very high, whereas on median its very small\n",
    "\n",
    "num_friends_ol = num_friends + [5000,2000]\n",
    "assert 41.2 < mean(num_friends_ol) < 41.3   # Without outlier mean was 7.33\n",
    "assert median(num_friends_ol) == 6          # Without outlier median was same"
   ]
  },
  {
   "cell_type": "markdown",
   "id": "90be0e03-20fc-4522-9db1-745fec312f5e",
   "metadata": {},
   "source": [
    "#### Median as Quantile\n",
    "- <u>Quantiles</u> are a generalization of the median, representing the **values below which a certain percentage of the data falls.**\n",
    "  \n",
    "- The median is a specific quantile where 50% of the data lies below and 50% lies above.\n",
    "  \n",
    "- **Median (50th Percentile)**: The value below which 50% of the data falls.\n",
    "  \n",
    "- **First Quartile (Q1 or 25th Percentile)**: The value below which 25% of the data falls.\n",
    "  \n",
    "- **Second Quartile (Q2 or 50th Percentile, which is the Median)**: The value below which 50% of the data falls.\n",
    "  \n",
    "- **Third Quartile (Q3 or 75th Percentile)**: The value below which 75% of the data falls.\n",
    "\n",
    "- <u>Percentiles</u>: Generalizes the concept further. For example, the **90th percentile represents the value below which 90% of the data falls.**\n"
   ]
  },
  {
   "cell_type": "code",
   "execution_count": 10,
   "id": "c4e91072-a5a5-432e-b56f-cb52d91e8a68",
   "metadata": {},
   "outputs": [
    {
     "data": {
      "text/plain": [
       "204"
      ]
     },
     "execution_count": 10,
     "metadata": {},
     "output_type": "execute_result"
    }
   ],
   "source": [
    "len(num_friends)"
   ]
  },
  {
   "cell_type": "code",
   "execution_count": 13,
   "id": "68d9e134-f7ed-4fb0-8a31-904477860e44",
   "metadata": {},
   "outputs": [],
   "source": [
    "# Define a quantile function\n",
    "\n",
    "from typing import List\n",
    "\n",
    "def quantile(my_dataset: List[float], my_quantile: float) -> float:\n",
    "    \"\"\"\n",
    "    finds data value from my_dataset below which my_quantile% values lies\n",
    "    \"\"\"\n",
    "    my_sorted = sorted(my_dataset)\n",
    "    return my_sorted[int(len(my_dataset)*my_quantile)]    # Pay attention to 'int'\n",
    "\n",
    "assert quantile(num_friends, 0.10) == 1\n",
    "assert quantile(num_friends, 0.25) == 3\n",
    "assert quantile(num_friends, 0.75) == 9\n",
    "assert quantile(num_friends, 0.90) == 13\n",
    "\n",
    "# Means 25% values of dataset lies below 3 (not including 3)"
   ]
  },
  {
   "cell_type": "markdown",
   "id": "7d227941-f14f-42ce-b887-23794d2b4908",
   "metadata": {},
   "source": [
    "#### Using Numpy"
   ]
  },
  {
   "cell_type": "code",
   "execution_count": 14,
   "id": "7f3891ff-d835-467c-b9c1-5392c0c0b06e",
   "metadata": {},
   "outputs": [],
   "source": [
    "import numpy as np\n",
    "\n",
    "assert np.median(num_friends) == 6\n",
    "assert np.quantile(num_friends, 0.25) == 3"
   ]
  },
  {
   "cell_type": "markdown",
   "id": "17d2c1dc-fa30-4c12-b980-1c140d2e053c",
   "metadata": {},
   "source": [
    "### (c) Mode\n",
    "- **Most common values** in a dataset\n",
    "- Used less frequently"
   ]
  },
  {
   "cell_type": "code",
   "execution_count": 17,
   "id": "bffb14d5-7d6a-4740-8e05-bec7bae8c8e8",
   "metadata": {},
   "outputs": [],
   "source": [
    "from typing import List\n",
    "from collections import Counter\n",
    "import matplotlib.pyplot as plt\n",
    "\n",
    "def mode(my_dataset: List[float]) -> List[float]:\n",
    "    \"\"\"\n",
    "    Returns list of most common values in my_dataset\n",
    "    \"\"\"\n",
    "    count_dict = Counter(my_dataset) # Creates a dictionary of key:value = datapoint:counts\n",
    "    max_counts = max(count_dict.values()) # Max repeating dict value\n",
    "    return [x for x,y in count_dict.items() if y == max_counts] # Key coresponding to max repeating value"
   ]
  },
  {
   "cell_type": "code",
   "execution_count": 28,
   "id": "f7eeb517-9f66-497d-9d1c-75ed50892364",
   "metadata": {},
   "outputs": [
    {
     "name": "stdout",
     "output_type": "stream",
     "text": [
      "counter = dict_items([(100.0, 1), (49, 1), (41, 1), (40, 1), (25, 1), (21, 2), (19, 2), (18, 2), (16, 1), (15, 4), (14, 2), (13, 4), (12, 2), (11, 1), (10, 15), (9, 18), (8, 13), (7, 15), (6, 22), (5, 17), (4, 20), (3, 20), (2, 17), (1, 22)])\n"
     ]
    }
   ],
   "source": [
    "# Apply mode function to num_friends\n",
    "print(f\"counter = {Counter(num_friends).items()}\")\n",
    "assert mode(num_friends) == [6,1]"
   ]
  },
  {
   "cell_type": "markdown",
   "id": "f3debed5-ab2d-4b4b-80e0-d3432ae4fe61",
   "metadata": {},
   "source": [
    "# 3. Dispersion\n",
    "- How spreaded our values in a dataset are.\n",
    "- Shows variability and volatility of data.\n",
    "- Some common measures of dispersion are: Range, Variance, SD, IQR."
   ]
  },
  {
   "cell_type": "markdown",
   "id": "20ec5b39-d33e-4676-be6f-72335d569e20",
   "metadata": {},
   "source": [
    "#### (a) Range\n",
    "   - The difference between the highest and lowest values in the dataset:\n",
    "     > $$Range(x) = x_{max} - x_{min}$$\n",
    "   - It gives a **quick sense of the spread**\n",
    "   - But it can be **heavily influenced by outliers**\n",
    "   - Maximum undispered data means?\n",
    "     > max = min   \n",
    "     > i.e. List has only same values"
   ]
  },
  {
   "cell_type": "code",
   "execution_count": 31,
   "id": "e59d2501-aca2-4c80-8849-f790a8c02a59",
   "metadata": {},
   "outputs": [],
   "source": [
    "def data_range(my_dataset: List[float]) -> float:\n",
    "    return max(my_dataset) - min(my_dataset)"
   ]
  },
  {
   "cell_type": "code",
   "execution_count": 32,
   "id": "34ee4757-cf9d-416f-933e-d0172e7cb337",
   "metadata": {},
   "outputs": [],
   "source": [
    "assert data_range(num_friends) == 99"
   ]
  },
  {
   "cell_type": "markdown",
   "id": "7249880a-bd91-4456-9cd4-661644506bc2",
   "metadata": {},
   "source": [
    "#### (b) Variance\n",
    "> $$Variance(\\sigma^{2}) = \\frac{\\sum{(X-\\bar{X})^{2}}}{n}$$\n",
    "> - Average squared difference from mean.\n",
    "> - (Variance) $\\alpha$ (Spread).\n",
    "> - It gives a measure of **how much each value in the data set varies from the mean.**\n",
    "> - Influenced by outliers."
   ]
  },
  {
   "cell_type": "code",
   "execution_count": 48,
   "id": "4d835cbf-b67f-4644-9956-e6b716b98577",
   "metadata": {},
   "outputs": [],
   "source": [
    "from scratch.linear_algebra import sum_of_squares\n",
    "\n",
    "# Find deviation of x from its mean\n",
    "def de_mean(my_dataset: List[float]) -> List[float]: \n",
    "    \"\"\"\n",
    "    Translate dataset by subtracting its mean (so the result has mean 0)\n",
    "    \"\"\"\n",
    "    my_mean = mean(my_dataset)\n",
    "    return [(x_i-my_mean) for x_i in my_dataset]\n",
    "\n",
    "# Find variance\n",
    "def variance(my_dataset: List[float]) -> float:\n",
    "    \"\"\"\n",
    "    Almost the average squared deviation from the mean\n",
    "    \"\"\"\n",
    "    assert len(my_dataset) >= 2 # Variance requires at least two elements\n",
    "    return sum_of_squares(de_mean(my_dataset))/len(my_dataset)-1\n",
    "\n",
    "# This looks like it is almost the average squared deviation from the mean, except that\n",
    "# we’re dividing by n - 1 instead of n. In fact, when we’re dealing with a sample from a\n",
    "# larger population, x_bar is only an estimate of the actual mean, which means that on\n",
    "# average (x_i - x_bar) ** 2 is an underestimate of x_i’s squared deviation from the\n",
    "# mean, which is why we divide by n - 1 instead of n. See Wikipedia."
   ]
  },
  {
   "cell_type": "code",
   "execution_count": 49,
   "id": "b50743c9-579c-408b-9a08-e0eaf3bded8a",
   "metadata": {},
   "outputs": [],
   "source": [
    "assert 80.1 < variance(num_friends) < 80.2"
   ]
  },
  {
   "cell_type": "markdown",
   "id": "dc14ccf5-9d67-4868-82cf-bc0715642f28",
   "metadata": {},
   "source": [
    "#### (c) Standard Deviation\n",
    "> $$\\text{Standard Deviation} (\\sigma) = \\sqrt{variance(\\sigma^{2})}$$\n",
    "> - Square root of the variance  \n",
    "> - It is in the **same units as the data**, making it more interpretable than variance. \n",
    "> - **A low SD means the values tend to be close to the mean, while a high standard deviation indicates that the values are spread out over a wider range**."
   ]
  },
  {
   "cell_type": "code",
   "execution_count": 52,
   "id": "f3369650-693d-46f7-b0e4-c5b833bba4a9",
   "metadata": {},
   "outputs": [],
   "source": [
    "import math\n",
    "from typing import List\n",
    "from scratch.statistics import mean\n",
    "from scratch.statistics import variance\n",
    "\n",
    "def standard_deviation(my_dataset: List[float]) -> float:\n",
    "    \"\"\"\n",
    "    The standard deviation is the square root of the variance\n",
    "    \"\"\"\n",
    "    return math.sqrt(variance(my_dataset))"
   ]
  },
  {
   "cell_type": "code",
   "execution_count": 51,
   "id": "f468b1e3-aa60-4b54-8d81-059e028d6398",
   "metadata": {},
   "outputs": [],
   "source": [
    "assert 9 < standard_deviation(num_friends) < 9.04\n",
    "assert 374 < standard_deviation(num_friends_ol) < 375  # Outlier problem"
   ]
  },
  {
   "cell_type": "markdown",
   "id": "235d9a77-ac68-4936-8102-91f2fc150133",
   "metadata": {},
   "source": [
    "#### (d) Interquartile Range (IQR)\n",
    "$$ IQR = Q_3 - Q_1$$\n",
    "> - Both range and SD are very vulnerable to outliers  \n",
    "> - So we use values **between 25% and 75%** i.e. 1st and 3rd quantile to get less affected by outliers.  \n",
    "> - It is the range within which the central 50% of the values fall.  \n",
    "> - Calculated as the difference between the 75th percentile (Q3) and the 25th percentile (Q1).\n"
   ]
  },
  {
   "cell_type": "code",
   "execution_count": 54,
   "id": "318f4b14-0ed3-49a7-ad12-5d786469c231",
   "metadata": {},
   "outputs": [],
   "source": [
    "from scratch.statistics import variance, mean, quantile\n",
    "\n",
    "def interquatile_range(my_dataset: List[float]) -> float:\n",
    "    \"\"\"\n",
    "    Returns the difference between the 75%-ile and the 25%-ile\n",
    "    \"\"\"\n",
    "    return quantile(my_dataset,0.75)-quantile(my_dataset,0.25)\n",
    "\n",
    "assert interquatile_range(num_friends) == 6\n",
    "assert interquatile_range(num_friends_ol) == 6  # Not much affected by small number of outliers"
   ]
  },
  {
   "attachments": {},
   "cell_type": "markdown",
   "id": "cdf1410c-7ebd-460c-a46d-6982e1d3d17d",
   "metadata": {},
   "source": [
    "# 4. Covariance and Correlation\n",
    "\n",
    "- Now, if we have given two datasets and we want to find how these two are related. We find:\n",
    "  > 1. Their 'change' relationship - either both are increasing or decreasing or changing in opoosite direction. (Defined by Covariance)\n",
    "  > 2. Their direction of change + strength of relationship. (Defined by Correlation)\n",
    "\n",
    "## Covariance\n",
    "> $$ \\text{Covariance} = \\frac{[x-\\bar{x}]\\cdot[y-\\bar{y}]}{(n-1)}$$  \n",
    "> - <u>Sign</u> of Covariance indicates the direction of the linear relationship:\n",
    ">   1. Positive covariance indicates either both are increasing or both are decreasing.\n",
    ">   2. Negative covariance indiactes both are in opposite direction.\n",
    "\n",
    "> - Covariance near 0 indiactes two variables have no linear relationship (but cannot be said independent).\n",
    "\n",
    "Let's find the covariance between number of friends and number of hours spent on website:"
   ]
  },
  {
   "cell_type": "code",
   "execution_count": 55,
   "id": "2ddebdd0-5221-4b77-8b04-8a52d300e08e",
   "metadata": {},
   "outputs": [],
   "source": [
    "daily_minutes = [1,68.77,51.25,52.08,38.36,44.54,57.13,51.4,41.42,31.22,34.76,54.01,\n",
    "                 38.79,47.59,49.1,27.66,41.03,36.73,48.65,28.12,46.62,35.57,32.98,35,\n",
    "                 26.07,23.77,39.73,40.57,31.65,31.21,36.32,20.45,21.93,26.02,27.34,23.49,\n",
    "                 46.94,30.5,33.8,24.23,21.4,27.94,32.24,40.57,25.07,19.42,22.39,18.42,\n",
    "                 46.96,23.72,26.41,26.97,36.76,40.32,35.02,29.47,30.2,31,38.11,38.18,\n",
    "                 36.31,21.03,30.86,36.07,28.66,29.08,37.28,15.28,24.17,22.31,30.17,25.53,\n",
    "                 19.85,35.37,44.6,17.23,13.47,26.33,35.02,32.09,24.81,19.33,28.77,24.26,\n",
    "                 31.98,25.73,24.86,16.28,34.51,15.23,39.72,40.8,26.06,35.76,34.76,16.13,\n",
    "                 44.04,18.03,19.65,32.62,35.59,39.43,14.18,35.24,40.13,41.82,35.45,36.07,\n",
    "                 43.67,24.61,20.9,21.9,18.79,27.61,27.21,26.61,29.77,20.59,27.53,13.82,33.2,\n",
    "                 25,33.1,36.65,18.63,14.87,22.2,36.81,25.53,24.62,26.25,18.21,28.08,19.42,\n",
    "                 29.79,32.8,35.99,28.32,27.79,35.88,29.06,36.28,14.1,36.63,37.49,26.9,18.58,\n",
    "                 38.48,24.48,18.95,33.55,14.24,29.04,32.51,25.63,22.22,19,32.73,15.16,13.9,\n",
    "                 27.2,32.01,29.27,33,13.74,20.42,27.32,18.23,35.35,28.48,9.08,24.62,20.12,\n",
    "                 35.26,19.92,31.02,16.49,12.16,30.7,31.22,34.65,13.13,27.51,33.2,31.57,14.1,\n",
    "                 33.42,17.44,10.12,24.42,9.82,23.39,30.93,15.03,21.67,31.09,33.29,22.61,26.89,\n",
    "                 23.48,8.38,27.81,32.35,23.84]\n",
    "\n",
    "daily_hours = [dm/60 for dm in daily_minutes]"
   ]
  },
  {
   "cell_type": "code",
   "execution_count": 87,
   "id": "904bffaa-ab57-4b95-8db8-8cbec82904fb",
   "metadata": {},
   "outputs": [],
   "source": [
    "from scratch.linear_algebra import dot\n",
    "from typing import List\n",
    "from matplotlib import pyplot as plt\n",
    "\n",
    "def covariance(x: List[float], y: List[float]) -> float:\n",
    "    assert len(x) == len(y), \"xs and ys must have same number of elements\"\n",
    "    return dot(de_mean(x), de_mean(y))/(len(x) - 1)"
   ]
  },
  {
   "cell_type": "code",
   "execution_count": 88,
   "id": "c49768f6-aa47-4523-9ff3-959608581dd9",
   "metadata": {},
   "outputs": [
    {
     "data": {
      "image/png": "[encoded data removed]",
      "text/plain": [
       "<Figure size 640x480 with 1 Axes>"
      ]
     },
     "metadata": {},
     "output_type": "display_data"
    }
   ],
   "source": [
    "xs = [i for i in range(len(num_friends))]\n",
    "\n",
    "plt.scatter(xs, num_friends, label = 'num friends', marker='.')\n",
    "plt.scatter(xs, daily_hours, label = 'daily hours', marker='.')\n",
    "plt.scatter(xs, daily_minutes, label = 'daily minutes', marker='.') \n",
    "plt.legend()\n",
    "\n",
    "assert 22.42 < covariance(num_friends, daily_minutes) < 22.43\n",
    "assert 22.42/60 < covariance(num_friends, daily_hours) < 22.43/60  "
   ]
  },
  {
   "attachments": {
    "ae399386-7ad3-467b-8dbc-c74734eeb828.png": {
     "image/png": "[encoded data removed]"
    }
   },
   "cell_type": "markdown",
   "id": "8018a5b7-6d8e-430d-bf68-8b7466b0ad5e",
   "metadata": {},
   "source": [
    "**Limitations of covariance?**  \n",
    "\n",
    "1. Covariance is not standardized, therefore its value is difficult to interpret directly without additional context.\n",
    "   - For example, the covariance between variables measured in different units can be misleading.\n",
    "\n",
    "2. If $x$ becomes $2x$, then covariance will also be doubled. Means it is dependent on scale.\n",
    "   - Thus, covariance is often used in conjunction with correlation, which standardizes the covariance by dividing it by the product of the standard deviations of the two variables, making it easier to interpret.\n",
    "\n",
    "## Correlation\n",
    "\n",
    "- The **Pearson correlation coefficient ($r$)** between two variables $X$ and $Y$ can be calculated using the following formula:\n",
    "\n",
    "$$\n",
    "r = \\frac{covariance(x,y)}{\\sigma_{x} . \\sigma_{y}} =\\frac{{\\sum{{(x_i - \\bar{x})(y_i - \\bar{y})}}}}{{\\sqrt{{\\sum{{(x_i - \\bar{x})^2}} \\sum{{(y_i - \\bar{y})^2}}}}}}\n",
    "$$\n",
    "\n",
    "> - The nominator keeps the direction of relationship.\n",
    "> - The denominator stadardizes the magnitude of nominator and liminng it within a range of -1 to 1.\n",
    "> - Thus correlation becomes unitless.  \n",
    "> - $-1$ will mean perfect anticorrelation and $1$ means perfect correlation.\n",
    "> - $0.25$ means relatively weak positive correlation  \n",
    "\n",
    "![image.png](attachment:ae399386-7ad3-467b-8dbc-c74734eeb828.png)"
   ]
  },
  {
   "cell_type": "code",
   "execution_count": 62,
   "id": "5760ebdc-fa8c-4dbf-a31a-a3a52d51a417",
   "metadata": {},
   "outputs": [],
   "source": [
    "from typing import List\n",
    "def correlation(x: List[float], y:List[float]):\n",
    "    \"\"\"\n",
    "    Measures how much x and y vary in tandem about their means\n",
    "    \"\"\"\n",
    "    stdev_x = standard_deviation(x)\n",
    "    stdev_y = standard_deviation(y)\n",
    "    if stdev_x > 0 and stdev_y > 0:\n",
    "        return covariance(x,y)/stdev_x/stdev_y\n",
    "    else:\n",
    "        return 0 # If no variation, correlation zero"
   ]
  },
  {
   "cell_type": "code",
   "execution_count": 63,
   "id": "129da64f-a0c2-436f-a10b-fc829f49ee9f",
   "metadata": {},
   "outputs": [],
   "source": [
    "assert 0.24 < correlation(num_friends, daily_minutes) < 0.252"
   ]
  },
  {
   "cell_type": "markdown",
   "id": "72494d9e-e1b6-4c3b-a4fd-e8f1d1daba4a",
   "metadata": {},
   "source": [
    "- In num_friends, the 100th value is an outlier\n",
    "- Sometimes if we remove outlier, the correlation becomes very strong. For example:"
   ]
  },
  {
   "cell_type": "code",
   "execution_count": 73,
   "id": "bf729bad-5658-4be1-b208-37cf0e3067f9",
   "metadata": {},
   "outputs": [],
   "source": [
    "outlier = num_friends.index(100)    # index of outlier\n",
    "\n",
    "# Remove outlier\n",
    "num_friends_good = [x\n",
    "                    for i, x in enumerate(num_friends)\n",
    "                    if i != outlier]\n",
    "\n",
    "daily_minutes_good = [x\n",
    "                      for i, x in enumerate(daily_minutes)\n",
    "                      if i != outlier]\n",
    "\n",
    "daily_hours_good = [dm / 60 for dm in daily_minutes_good]\n",
    "\n",
    "assert 0.57 < correlation(num_friends_good, daily_minutes_good) < 0.58\n"
   ]
  },
  {
   "cell_type": "code",
   "execution_count": 89,
   "id": "73fd5947-b2a9-4132-a9b6-2da93c8b5a12",
   "metadata": {},
   "outputs": [
    {
     "data": {
      "text/plain": [
       "<matplotlib.collections.PathCollection at 0x137db9310>"
      ]
     },
     "execution_count": 89,
     "metadata": {},
     "output_type": "execute_result"
    },
    {
     "data": {
      "image/png": "[encoded data removed]",
      "text/plain": [
       "<Figure size 640x480 with 1 Axes>"
      ]
     },
     "metadata": {},
     "output_type": "display_data"
    }
   ],
   "source": [
    "# plot and see how this is varying\n",
    "\n",
    "xs = [i for i in range(len(num_friends_good))]\n",
    "\n",
    "plt.scatter(xs,num_friends_good, marker='.')\n",
    "plt.scatter(xs, daily_minutes_good, marker='.')\n"
   ]
  },
  {
   "cell_type": "markdown",
   "id": "ec12aaed-4064-40fa-bfb1-98310579ca0d",
   "metadata": {},
   "source": [
    "- the outlier is actually an internal test account that no one ever bothered to remove. So you feel justified in excluding it."
   ]
  },
  {
   "cell_type": "markdown",
   "id": "d4320093-6f1d-42a9-ac4b-3f308488371b",
   "metadata": {},
   "source": [
    "## Correlation caveats (problems)\n",
    "\n",
    "### (a) Simpson's Paradox\n",
    "- the composition of subgroups can significantly affect the interpretation of aggregated data, leading to seemingly paradoxical results.\n",
    "  \n",
    "- problem with correlation is that: in a data correlation measures relation between two variables considering all other factors equal\n",
    "\n",
    "- If your dataclasses are assigned at random, as they might be in a well-designed experiment, “all else being equal” might not be a terrible assumption. But when there is a deeper pattern to class assignments, “all else being equal” can be an awful assumption.\n",
    "\n",
    "- The only real way to avoid this is by knowing your data and by doing what you can to make sure you’ve checked for possible **confounding factors**. (Obviously, this is not always possible)\n",
    "\n",
    "**Example: Ice Cream Sales and Drowning Cases**\n",
    "\n",
    "Suppose we have data on two variables:\n",
    "\n",
    "1. Ice Cream Sales: Number of ice creams sold per day.\n",
    "2. Drowning Cases: Number of drowning incidents reported per day.\n",
    "\n",
    "Observed Correlation\n",
    "- You might observe a positive correlation between ice cream sales and drowning cases, meaning that as ice cream sales increase, drowning incidents also seem to increase.\n",
    "\n",
    "- Misleading Interpretation\n",
    "If we take this correlation at face value, we might mistakenly conclude that eating ice cream causes drowning, which is not true.\n",
    "\n",
    "Confounding Factor: <u>Temperature</u>\n",
    "\n",
    "- Deeper Pattern: The actual underlying factor here is temperature. Both ice cream sales and drowning incidents are higher on hot days.\n",
    "  \n",
    "- Confounding Factor: Temperature acts as a confounding factor, influencing both ice cream sales and drowning incidents.\n",
    "\n",
    "When we consider the effect of temperature, the correlation between ice cream sales and drowning incidents can be better understood as both being influenced by hot weather, rather than one causing the other.\n",
    "\n",
    "It's crucial to understand the context and possible confounding factors in your data.\n",
    "Check Assumptions: Don't assume \"all else being equal\" unless you have controlled or accounted for other variables.\n",
    "This example illustrates why it's essential to consider confounding factors and avoid relying solely on correlation for drawing conclusions."
   ]
  },
  {
   "cell_type": "markdown",
   "id": "c4c20204-478e-4e31-ae1d-daf1d7838658",
   "metadata": {},
   "source": [
    "### (b) Correlation shows 0, but there can be any other relationship between two variables!\n",
    "- For example:\n",
    "```python\n",
    "x = [-2,-1,0,1,2]\n",
    "```\n",
    "```python\n",
    "y = [2,1,0,1,2]\n",
    "```\n",
    "\n",
    "- Here, x and y have zero correlation. But they certainly have a relationship— each element of y equals the absolute value of the corresponding element of x."
   ]
  },
  {
   "cell_type": "markdown",
   "id": "2f157f0b-be3b-4252-a432-09d3eb4a822c",
   "metadata": {},
   "source": [
    "### (c) Correlation tells nothing about how large the relationship is!\n",
    "\n",
    "- Imagine we have two datasets:\n",
    "\n",
    "Dataset 1:\n",
    "```python\n",
    "X: [1, 2, 3, 4, 5]\n",
    "Y: [2, 4, 6, 8, 10]\n",
    "```\n",
    "\n",
    "Dataset 2:\n",
    "```python\n",
    "X: [1, 2, 3, 4, 5]\n",
    "Y: [10, 20, 30, 40, 50]\n",
    "```\n",
    "- Both of these datasets will have a correlation of 1, indicating a perfect positive linear relationship. However, the scales of the relationships are very different. In the first dataset, for each unit increase in X, Y increases by 2 units. In the second dataset, for each unit increase in X, Y increases by 10 units.\n",
    "\n",
    "- Even though both have a correlation of 1, the 'strength' or 'magnitude' of the relationship (i.e., how much Y changes with a unit change in X) is much larger in the second dataset. This shows that while correlation tells us about the direction and consistency of the relationship, **it does not tell us about the magnitude of change**.\n",
    "\n",
    "- Therefore, when analyzing data, it's important to consider both the correlation and the actual values or scale of the data to fully understand the nature of the relationship between variables."
   ]
  },
  {
   "cell_type": "markdown",
   "id": "70c1649e-1883-469f-b373-6a6e3dd5ee9d",
   "metadata": {},
   "source": [
    "## Correlation and Causation\n",
    "- \"Correlation does not imply causation\" is a fundamental principle in statistics and data analysis.\n",
    "  \n",
    "- This means that just because two variables are correlated (i.e., there is a statistical association between them), it does not necessarily mean that one variable causes the other.\n",
    "\n",
    "- Correlation indicates a relationship, but it does not imply a cause-and-effect relationship.\n",
    "\n",
    "- if x and y are strongly correlated, that might mean that x causes y, that y causes x, that each causes the other, that some third factor causes both, or nothing at all.\n",
    "\n",
    "**Why Correlation Does Not Imply Causation:**\n",
    "\n",
    "1. **Third Variable Problem**: There may be a third variable (**confounding variable**) influencing both variables, creating a spurious correlation.\n",
    "\n",
    "2. **Reverse Causation**: The observed correlation might be due to the effect of the second variable on the first, rather than the other way around.\n",
    "\n",
    "3. **Coincidence**: Correlation may be coincidental, and there may be no causal relationship between the variables.\n",
    "\n",
    "\n",
    "To establish causation, additional evidence such as controlled experiments, randomized trials, or a solid theoretical framework is needed. While correlation is a valuable tool in identifying associations, it should not be used alone to infer causation.\n"
   ]
  }
 ],
 "metadata": {
  "kernelspec": {
   "display_name": "Python 3 (ipykernel)",
   "language": "python",
   "name": "python3"
  },
  "language_info": {
   "codemirror_mode": {
    "name": "ipython",
    "version": 3
   },
   "file_extension": ".py",
   "mimetype": "text/x-python",
   "name": "python",
   "nbconvert_exporter": "python",
   "pygments_lexer": "ipython3",
   "version": "3.11.5"
  }
 },
 "nbformat": 4,
 "nbformat_minor": 5
}
