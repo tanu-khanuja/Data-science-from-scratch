{
 "cells": [
  {
   "cell_type": "markdown",
   "id": "4f412a98-ea6f-4a8d-8acc-caebb7d09a66",
   "metadata": {},
   "source": [
    "**What is database and SQL**\n",
    "\n",
    "1. Data Storage in Databases:\n",
    "- Most data we work with is stored in databases.\n",
    "- Databases are systems designed to store and manage data efficiently.\n",
    "- They are like organized digital filing cabinets where data is kept in a structured way.\n",
    "\n",
    "2. Relational Databases:\n",
    "\n",
    "- It organizes data into tables, which can be linked—or related—based on data common to each. \n",
    "- The most common type of database is a relational database.\n",
    "- Examples include PostgreSQL, MySQL, and SQL Server.\n",
    "- These databases store data in tables (similar to spreadsheets), and we can search or query the data using a language called SQL (Structured Query Language).\n",
    "\n",
    "3. SQL:\n",
    "- SQL is a key tool for data scientists.\n",
    "- It’s a language used to access and manipulate data in databases.\n",
    "- With SQL, we can retrieve data, insert new data, update existing data, and delete data we no longer need.\n",
    "\n",
    "4. NotQuiteABase:\n",
    "- This is a Python-based tool that mimics some functions of a real database but is simpler to help us learn.\n",
    "- NotQuiteABase is a teaching tool.\n",
    "- By working through examples and problems with this tool, we will get a sense of how databases work and how SQL is used to solve real-world data problems."
   ]
  },
  {
   "cell_type": "markdown",
   "id": "b26f7a16-8580-4a5a-bdd0-ce361a48b0e1",
   "metadata": {},
   "source": [
    "# 1. CREATE TABLE and INSERT\n",
    "\n",
    "- <u>Database</u> is a collection of tables, where we organize our data. And table is collection of rows like a matrix.\n",
    "- Table is also associated with a fixed <u>Schema</u>.\n",
    "- <u>Schema</u> is conceptual framework which indicates the column entries of the table and their data type. e.g. columns like 'user_id', 'name', 'num_friends' in a table, say 'users'.\n",
    "\n",
    "- Examples: Let's say we have a users data -"
   ]
  },
  {
   "cell_type": "raw",
   "id": "e37c246e-8a56-415a-a91e-53b863b7309d",
   "metadata": {},
   "source": [
    "users = [[0, \"Hero\", 0],\n",
    "         [1, \"Dunn\", 2],\n",
    "         [2, \"Sue\", 3],\n",
    "         [3, \"Chi\", 3]]\n",
    "\n",
    "In SQL we can create this table using command line -\n",
    "\n",
    "CREATE TABLE users(                                  # table name\n",
    "    user_id INT NOT NULL,                            # user_id is int type and must not be empty (NULL means missing or None)\n",
    "    name VARCHAR(200),                               # name is a varchar type with max length 200 \n",
    "    num_friends INT                                  # num_friends is int type\n",
    ");                                                   # Every query ends with a semi-colon"
   ]
  },
  {
   "cell_type": "markdown",
   "id": "b70152e1-e1b5-4fe7-9d7d-5e437f2ebaa8",
   "metadata": {},
   "source": [
    "- SQL is almost completely case and indentation insensitive\n",
    "- The capitalization and indentation style is a preferred style here.\n",
    "- If you start learning SQL, you will surely encounter other examples styled differently."
   ]
  },
  {
   "cell_type": "raw",
   "id": "a565accc-c7ee-4be4-81dc-845ceda9e75b",
   "metadata": {
    "vscode": {
     "languageId": "raw"
    }
   },
   "source": [
    "To Insert a row in table --\n",
    "\n",
    "INSERT INTO users(user_id, name, num_friends) VALUES(0, 'Hero', 0);    # for string SQL use single qoutes ' '\n",
    "                                                                       # takes a list of row values which should be same order                                                                          \n",
    "                                                                       # as the table’s column names."
   ]
  },
  {
   "cell_type": "markdown",
   "id": "7908dc89-bc79-470f-9a4b-31e75ad2f175",
   "metadata": {},
   "source": [
    "## NotQUuiteABase (Python implementation of DB and SQL)\n",
    "\n",
    "- Here, we will create a 'Table' by specifying above schema. To insert rows we will use insert methods.\n",
    "- Behind the scene - Each row will be stored in a dict from column names to values.\n",
    "- We will do so by creating NotQuiteABase project using python to learn about DB and SQL concepts.\n",
    "\n",
    "**Handling Null values in SQL databases**\n",
    "\n",
    "- In a typical SQL database, you explicitly specify whether a column can contain null (None) values. For simplicity, we will use any column to have null values.\n",
    "\n",
    "**Implementing Dunder Methods** \n",
    "- The implementation introduces dunder methods to treat a table as a List[Row]. This approach is particularly useful for testing the code."
   ]
  },
  {
   "cell_type": "code",
   "execution_count": 1,
   "id": "d096583c-198a-427d-8cea-d4f82ed66f24",
   "metadata": {},
   "outputs": [],
   "source": [
    "# Import and define type aliases\n",
    "\n",
    "from typing import Tuple, Sequence, List, Any, Callable, Dict, Iterator\n",
    "from collections import defaultdict\n",
    "\n",
    "# type aliases we will use later\n",
    "Row = Dict[str, Any]   # A database row is stored as a dict form like {name:'Alice', 'age': 30, ...}\n",
    "WhereClause = Callable[[Row], bool]  # Predicate for a single row\n",
    "HavingClause = Callable[[List[Row]], bool] # Predicate over multiple rows"
   ]
  },
  {
   "cell_type": "code",
   "execution_count": 15,
   "id": "adace392-0a04-4a40-ba41-5f1c35716eab",
   "metadata": {},
   "outputs": [],
   "source": [
    "# Defining table class\n",
    "\n",
    "class Table:\n",
    "    def __init__(self, columns: List[str], types: List[type]) -> None:\n",
    "        assert len(columns) == len(types)  # Check if types for all columns are given\n",
    "\n",
    "        self.columns = columns      # Names of columns\n",
    "        self.types = types         # column data types\n",
    "        self.rows: List[Row] = []   # rows are empty now and remember Row in rows will be in dict form\n",
    "\n",
    "# Helper method to get type of a column\n",
    "    def col2type(self, col: str) -> type:\n",
    "        idx = self.columns.index(col)    # Find index of the 'col' column in columns list\n",
    "        return self.types[idx]           # return type of it.\n",
    "\n",
    "# 1. INSERT\n",
    "    \n",
    "# Define insert method that checks if inserted values are valid\n",
    "\n",
    "    def insert(self, values: list) -> None:\n",
    "        # Check if # of values are same as # columns /types\n",
    "        if (len(values)) != len(self.types):\n",
    "            raise ValueError(f\"You need to provide {len(self.types)} values\")\n",
    "        # Check for right types of values\n",
    "        for value, typ3 in zip(values, self.types):\n",
    "            if not isinstance(value, typ3) and value is not None:  # check if value is instance of type typ3 and its nonempty\n",
    "                raise TypeError(f\"Expected type {typ3} but got {value}\")\n",
    "        self.rows.append(dict(zip(self.columns, values)))\n",
    "\n",
    "# Define Dunder methods to allow us to treat a table like a List[Row]\n",
    "    def __getitem__(self, idx: int) -> Row:    # Allows to use [] to access item of iterable (list/dict etc)\n",
    "        return self.rows[idx]\n",
    "\n",
    "    def __iter__(self) -> Iterator[Row]:       # Allows us using loop by making object iterable\n",
    "        return iter(self.row)\n",
    "   \n",
    "    def __len__(self) -> int:                  # Returns object's length so that we can use len function on class instances\n",
    "        return len(self.rows)\n",
    "\n",
    "# Method to pretty print our table\n",
    "    def __repr__(self):                        # Returns string representaion of object\n",
    "        rows = \"\\n\".join(str(row) for row in self.rows)\n",
    "        return f\"{self.columns}\\n{rows}\"\n",
    "\n",
    "# 2. UPDATE\n",
    "\n",
    "# Let's add UPDATE method in our custom class \n",
    "    def update(self, \n",
    "               updates: Dict[str, Any],                     # {column name : value}\n",
    "               predicate: WhereClause = lambda row: True):  # Until predicate function not defined explicitely it \n",
    "                                                            # will change all row values of given column\n",
    "                                                            # Predicate is basically WHERE \n",
    "        # First check the updates have valid name and type\n",
    "        for column, new_value in updates.items():\n",
    "            if column not in self.columns:\n",
    "                raise ValueError(\"Invalid column: {column}\")\n",
    "    \n",
    "            typ3 = self.col2type(column)\n",
    "            if not isinstance(new_value, typ3) and new_value is not None:\n",
    "                raise TypeError(f\"exapected type {typ3}, but got {new_value}\")\n",
    "                \n",
    "            # Now update\n",
    "        for row in self.rows:\n",
    "            if predicate(row):\n",
    "                for column, new_value in updates.items():\n",
    "                    row[column] = new_value\n",
    "\n",
    "\n",
    "# 3. DELETE\n",
    "    def delete(self, predicate: WhereClause = lambda row: True)  -> None:  # By default predicate is True for all rows\n",
    "        \"\"\"\n",
    "        Delete all rows matching predicate\n",
    "        \"\"\"\n",
    "        self.rows = [row for row in self.rows if not predicate(row)]\n",
    "\n",
    "# 4. SELECT\n",
    "\n",
    "    def select(self, keep_columns: List[str] = None, additional_columns: Dict[str, Callable] = None) -> 'Table':\n",
    "        # Quoting 'Table' in type annotation allows using the class name as a type hint, \n",
    "        # even if it's not yet defined or to avoid circular dependencies.\n",
    "\n",
    "        if keep_columns is None:             # If no columns specified return all columns\n",
    "            keep_columns = self.columns\n",
    "\n",
    "        if additional_columns is None:\n",
    "            additional_columns = {}\n",
    "\n",
    "        # New columns names\n",
    "        new_columns = keep_columns + list(additional_columns.keys())  \n",
    "\n",
    "        # keep_columns types\n",
    "        keep_types = [self.col2type(col) for col in keep_columns]\n",
    "\n",
    "        add_types = [calculation.__annotations__['return'] \n",
    "                     for calculation in additional_columns.values()]  # annotation method stores the types,\n",
    "                                                                      # based on already defined annotations\n",
    "        # Create a new table for results\n",
    "        new_table = Table(new_columns, keep_types+add_types)\n",
    "\n",
    "        for row in self.rows:\n",
    "            new_row = [row[column] for column in keep_columns]\n",
    "            for column_name, calculation in additional_columns.items():\n",
    "                new_row.append(calculation(row))\n",
    "            new_table.insert(new_row)\n",
    "\n",
    "        return new_table\n",
    "\n",
    "# Where and limit methods\n",
    "\n",
    "    def where(self, predicate: WhereClause = lambda row: True) -> 'Table':\n",
    "        \"\"\"\n",
    "        Return the rows that satisfy the predicate supplied\n",
    "        \"\"\"\n",
    "        where_table = Table(self.columns, self.types)\n",
    "        for row in self.rows:\n",
    "            if predicate(row):\n",
    "                values = [row[column] for column in self.columns]\n",
    "                where_table.insert(values)\n",
    "        return where_table\n",
    "        \n",
    "    def limit(self, num_rows: int) -> 'Table':\n",
    "        \"\"\" \n",
    "        Return only the first 'num_rows' rows\n",
    "        \"\"\"\n",
    "        limit_table = Table(self.columns, self.types)\n",
    "        for i, row in enumerate(self.rows):\n",
    "            if i >= num_rows:\n",
    "                break\n",
    "            values = [row[column] for column in self.columns]\n",
    "            limit_table.insert(values)\n",
    "        return limit_table\n",
    "\n",
    "# 5. GROUP BY\n",
    "\n",
    "\n",
    "    def group_by(self,\n",
    "                 group_by_columns: List[str],\n",
    "                 aggregates: Dict[str, Callable],\n",
    "                 having: HavingClause = lambda group: True) -> 'Table':\n",
    "        \n",
    "        grouped_rows = defaultdict(list)\n",
    "        \n",
    "        # Populate groups\n",
    "        for row in self.rows:\n",
    "            key = tuple(row[column] for column in group_by_columns)  # because dict key cannot be list, take it as tuple\n",
    "            \n",
    "            grouped_rows[key].append(row)\n",
    "            \n",
    "        # Result table consists of group_by columns and aggregates\n",
    "        new_columns = group_by_columns + list(aggregates.keys())\n",
    "        group_by_types = [self.col2type(col) for col in group_by_columns]\n",
    "        aggregate_types = [agg.__annotations__['return']\n",
    "                           for agg in aggregates.values()]\n",
    "        result_table = Table(new_columns, group_by_types + aggregate_types)\n",
    "\n",
    "        for key, rows in grouped_rows.items():\n",
    "            if having(rows):\n",
    "                new_row = list(key)\n",
    "                for aggregate_name, aggregate_fn in aggregates.items():\n",
    "                    new_row.append(aggregate_fn(rows))\n",
    "                result_table.insert(new_row)\n",
    "        return result_table\n",
    "\n",
    "# 6. ORDER BY\n",
    "\n",
    "    def order_by(self, order: Callable[[Row], Any]) -> 'Table':\n",
    "        new_table = self.select()  # make a copy\n",
    "        new_table.rows.sort(key=order)\n",
    "        return new_table\n",
    "\n",
    "# 7. JOIN\n",
    "\n",
    "    def join(self, other_table: 'Table', left_join: bool = False) -> 'Table':\n",
    "        join_on_columns = [c for c in self.columns  # Columns in both tables\n",
    "                           if c in other_table.columns] \n",
    "        additional_columns = [c for c in other_table.columns # Columns only in right table\n",
    "                              if c not in join_on_columns] \n",
    "        \n",
    "        # all columns from left table + additional_columns from right table\n",
    "        new_columns = self.columns + additional_columns\n",
    "        new_types = self.types + [other_table.col2type(col) \n",
    "                                  for col in additional_columns]\n",
    "        join_table = Table(new_columns, new_types)\n",
    "        \n",
    "        for row in self.rows:\n",
    "            def is_join(other_row):\n",
    "                return all(other_row[c] == row[c] for c in join_on_columns)\n",
    "            \n",
    "            other_rows = other_table.where(is_join).rows\n",
    "            \n",
    "            # Each other row that matches this one produces a result row.\n",
    "            for other_row in other_rows:\n",
    "                join_table.insert([row[c] for c in self.columns] +\n",
    "                                  [other_row[c] for c in additional_columns])\n",
    "            \n",
    "            # If no rows match and it's a left join, output with Nones.\n",
    "            if left_join and not other_rows:\n",
    "                join_table.insert([row[c] for c in self.columns] +\n",
    "                                  [None for c in additional_columns])\n",
    "        return join_table\n",
    "    \n",
    "       "
   ]
  },
  {
   "cell_type": "code",
   "execution_count": 3,
   "id": "2c846685-0464-4435-9fe6-da6b663c62f3",
   "metadata": {},
   "outputs": [
    {
     "name": "stdout",
     "output_type": "stream",
     "text": [
      "['user_id', 'name', 'num_friends']\n",
      "{'user_id': 0, 'name': 'Hero', 'num_friends': 0}\n",
      "{'user_id': 1, 'name': 'Dunn', 'num_friends': 2}\n",
      "{'user_id': 2, 'name': 'Sue', 'num_friends': 3}\n",
      "{'user_id': 3, 'name': 'Chi', 'num_friends': 3}\n",
      "{'user_id': 4, 'name': 'Thor', 'num_friends': 3}\n",
      "{'user_id': 5, 'name': 'Clive', 'num_friends': 2}\n",
      "{'user_id': 6, 'name': 'Hicks', 'num_friends': 3}\n",
      "{'user_id': 7, 'name': 'Devin', 'num_friends': 2}\n",
      "{'user_id': 8, 'name': 'Kate', 'num_friends': 2}\n",
      "{'user_id': 9, 'name': 'Klein', 'num_friends': 3}\n",
      "{'user_id': 10, 'name': 'Jen', 'num_friends': 1}\n"
     ]
    }
   ],
   "source": [
    "# Let's create a instance of 'Table' class\n",
    "\n",
    "users = Table(['user_id', 'name', 'num_friends'], [int, str, int])\n",
    "\n",
    "users.insert([0, \"Hero\", 0])\n",
    "users.insert([1, \"Dunn\", 2])\n",
    "users.insert([2, \"Sue\", 3])\n",
    "users.insert([3, \"Chi\", 3])\n",
    "users.insert([4, \"Thor\", 3])\n",
    "users.insert([5, \"Clive\", 2])\n",
    "users.insert([6, \"Hicks\", 3])\n",
    "users.insert([7, \"Devin\", 2])\n",
    "users.insert([8, \"Kate\", 2])\n",
    "users.insert([9, \"Klein\", 3])\n",
    "users.insert([10, \"Jen\", 1])\n",
    "\n",
    "print(users)      # When we print the instance it runs dunder repr\n",
    "                  # thus giving table string"
   ]
  },
  {
   "cell_type": "markdown",
   "id": "ce989758-17c5-4ecb-9792-6b23229c3278",
   "metadata": {},
   "source": [
    "- List-like API (Application programming interface) makes it easy to write tests\n",
    "- By implementing a list-like API, you enable users of your class to interact with its instances in familiar ways that they would interact with lists. This makes your custom data structures intuitive and easy to use.\n",
    "- what is meant by List-like API here?\n",
    "  > - We created a class which consists of defined dunders to characterize its instances to act like list of rows(which is a dict)\n",
    "  > - And we can use python's in built list operations toa access the class instance's elements."
   ]
  },
  {
   "cell_type": "code",
   "execution_count": 11,
   "id": "0e410965",
   "metadata": {},
   "outputs": [
    {
     "data": {
      "text/plain": [
       "{'user_id': 5, 'name': 'Clive', 'num_friends': 2}"
      ]
     },
     "execution_count": 11,
     "metadata": {},
     "output_type": "execute_result"
    }
   ],
   "source": [
    "# Use attributes from class to access table specifications\n",
    "\n",
    "# 1. Access row\n",
    "users.__getitem__(idx=5)"
   ]
  },
  {
   "cell_type": "code",
   "execution_count": 12,
   "id": "ad6c2fba",
   "metadata": {},
   "outputs": [
    {
     "data": {
      "text/plain": [
       "11"
      ]
     },
     "execution_count": 12,
     "metadata": {},
     "output_type": "execute_result"
    }
   ],
   "source": [
    "# 2. Length of table\n",
    "users.__len__()"
   ]
  },
  {
   "cell_type": "code",
   "execution_count": 13,
   "id": "d9097397-5460-4bbf-b135-fbff77d156cf",
   "metadata": {},
   "outputs": [],
   "source": [
    "# See we can now access the table with list features of python\n",
    "assert len(users) == 11\n",
    "assert users[1]['name'] == 'Dunn'"
   ]
  },
  {
   "cell_type": "markdown",
   "id": "701bbf41-0335-4db8-b917-106f1f4614eb",
   "metadata": {},
   "source": [
    "# 2. UPDATE\n",
    "\n",
    "- In SQL when we want to update data in our table, we need to specify following:\n",
    "1. What table to update\n",
    "2. Which rows to update\n",
    "3. Which fields to update\n",
    "4. What their new values should be\n",
    "\n",
    "- in sql the query would be:  \n",
    "UPDATE users  \n",
    "SET num_friends = 3  \n",
    "WHERE user_id = 1;\n",
    "\n",
    "- Let's add this update method in our custom class--\n",
    "  (See Table class)"
   ]
  },
  {
   "cell_type": "code",
   "execution_count": 14,
   "id": "ce145ffa-3cc2-4d82-8556-e92d601c5be2",
   "metadata": {},
   "outputs": [],
   "source": [
    "# Let's check update method\n",
    "\n",
    "# assert users[1]['num_friends'] == 2 # original value\n",
    "\n",
    "# Let's update it to 11\n",
    "users.update({'num_friends':11}, lambda row: row['user_id'] == 1)\n",
    "assert users[1]['num_friends'] == 11  # It was originally 2"
   ]
  },
  {
   "cell_type": "markdown",
   "id": "8d5437e4-d6bf-479a-a243-27d9f6d65688",
   "metadata": {},
   "source": [
    "# 3. DELETE\n",
    "In sql to delete all rows we use query:\n",
    "\n",
    "1. This will delete ALL rows  \n",
    "DELETE FROM users;\n",
    "\n",
    "2. Only delete first row  \n",
    "DELETE FROM users WHERE user_id = 1;\n",
    "\n",
    "- If you supply a predicate function (i.e., a WHERE clause), this deletes only the rows that satisfy it.\n",
    "- If you don’t supply one, the default predicate always returns True, and you will delete every row.\n",
    "\n",
    "See how we did this in our class."
   ]
  },
  {
   "cell_type": "code",
   "execution_count": 115,
   "id": "fa27d717-daf0-4589-837e-45ef8de3ead6",
   "metadata": {},
   "outputs": [
    {
     "name": "stdout",
     "output_type": "stream",
     "text": [
      "['user_id', 'name', 'num_friends']\n",
      "{'user_id': 0, 'name': 'Hero', 'num_friends': 0}\n",
      "{'user_id': 1, 'name': 'Dunn', 'num_friends': 11}\n",
      "{'user_id': 2, 'name': 'Sue', 'num_friends': 3}\n",
      "{'user_id': 3, 'name': 'Chi', 'num_friends': 3}\n",
      "{'user_id': 4, 'name': 'Thor', 'num_friends': 3}\n",
      "{'user_id': 5, 'name': 'Clive', 'num_friends': 2}\n",
      "{'user_id': 6, 'name': 'Hicks', 'num_friends': 3}\n",
      "{'user_id': 7, 'name': 'Devin', 'num_friends': 2}\n",
      "{'user_id': 8, 'name': 'Kate', 'num_friends': 2}\n",
      "{'user_id': 9, 'name': 'Klein', 'num_friends': 3}\n",
      "{'user_id': 10, 'name': 'Jen', 'num_friends': 1}\n",
      "{'user_id': 11, 'name': 'Modiji', 'num_friends': 1}\n"
     ]
    }
   ],
   "source": [
    "# Let's check DELETE method\n",
    "\n",
    "# Let's first insert a row\n",
    "\n",
    "users.insert([11, 'Modiji', 1])\n",
    "print(users)   # this added 11th user"
   ]
  },
  {
   "cell_type": "code",
   "execution_count": 16,
   "id": "688b3f52-5f15-4bcf-9e5a-6b4361957fbc",
   "metadata": {},
   "outputs": [],
   "source": [
    "users.delete(predicate = lambda row: row['user_id'] == 11)"
   ]
  },
  {
   "cell_type": "code",
   "execution_count": 17,
   "id": "780e52dc-616e-45db-af1b-e5d6003f3eaa",
   "metadata": {},
   "outputs": [
    {
     "name": "stdout",
     "output_type": "stream",
     "text": [
      "['user_id', 'name', 'num_friends']\n",
      "{'user_id': 0, 'name': 'Hero', 'num_friends': 0}\n",
      "{'user_id': 1, 'name': 'Dunn', 'num_friends': 11}\n",
      "{'user_id': 2, 'name': 'Sue', 'num_friends': 3}\n",
      "{'user_id': 3, 'name': 'Chi', 'num_friends': 3}\n",
      "{'user_id': 4, 'name': 'Thor', 'num_friends': 3}\n",
      "{'user_id': 5, 'name': 'Clive', 'num_friends': 2}\n",
      "{'user_id': 6, 'name': 'Hicks', 'num_friends': 3}\n",
      "{'user_id': 7, 'name': 'Devin', 'num_friends': 2}\n",
      "{'user_id': 8, 'name': 'Kate', 'num_friends': 2}\n",
      "{'user_id': 9, 'name': 'Klein', 'num_friends': 3}\n",
      "{'user_id': 10, 'name': 'Jen', 'num_friends': 1}\n"
     ]
    }
   ],
   "source": [
    "print(users)   # this deleted 11th user\n",
    "\n",
    "# users.delete() # this will delete all rows"
   ]
  },
  {
   "cell_type": "markdown",
   "id": "717a1761-7a30-4464-90ea-bc495f0573c0",
   "metadata": {},
   "source": [
    "# 4. SELECT\n",
    "\n",
    "- To inspect the sql table, we use SELECT statement:\n",
    "\n",
    "1. To get the entire contents  \n",
    "SELECT * FROM users;\n",
    "\n",
    "2. To get the first two rows  \n",
    "SELECT * FROM users LIMIT 2;\n",
    "\n",
    "3. To only get specific columns  \n",
    "SELECT user_id FROM users;\n",
    "\n",
    "4. To only get specific rows  \n",
    "SELECT user_id FROM users WHERE name = 'Dunn';\n",
    "\n",
    "- We can also use SELECT statements to calculate fields:  \n",
    "SELECT LENGTH(name) AS name_length FROM users;\n",
    "\n",
    "- We will define a SELECT method in our Table class that will return a new Table.\n",
    "- The method accepts two optional arguments:\n",
    "1. keep_columns specifies the names of the columns you want to keep in the result.\n",
    "   - If you don’t supply it, the result contains all the columns.\n",
    "2. additional_columns is a dictionary whose keys are new column names and whose values are functions specifying how to compute\n",
    "the values of the new columns.\n",
    "    - We’ll peek at the type annotations of those functions to figure out the types of the new columns, so the functions will need to have annotated return types.\n",
    "  \n",
    "- If we will not supply any of these two, we will get copy of our table.\n",
    "\n",
    "**`__annotations__`**\n",
    "see : <link> http://localhost:8888/notebooks/Data-science-from-scratch/Some_basic_concepts.ipynb\n",
    "\n",
    "- Our select returns a new Table, while the typical SQL SELECT just produces some sort of transient result set (unless you explicitly insert the results into a table)."
   ]
  },
  {
   "cell_type": "code",
   "execution_count": 118,
   "id": "e13fad94-486b-4267-b844-22ccd0e44d0e",
   "metadata": {},
   "outputs": [
    {
     "data": {
      "text/plain": [
       "['user_id', 'name', 'num_friends']\n",
       "{'user_id': 0, 'name': 'Hero', 'num_friends': 0}\n",
       "{'user_id': 1, 'name': 'Dunn', 'num_friends': 11}\n",
       "{'user_id': 2, 'name': 'Sue', 'num_friends': 3}\n",
       "{'user_id': 3, 'name': 'Chi', 'num_friends': 3}\n",
       "{'user_id': 4, 'name': 'Thor', 'num_friends': 3}\n",
       "{'user_id': 5, 'name': 'Clive', 'num_friends': 2}\n",
       "{'user_id': 6, 'name': 'Hicks', 'num_friends': 3}\n",
       "{'user_id': 7, 'name': 'Devin', 'num_friends': 2}\n",
       "{'user_id': 8, 'name': 'Kate', 'num_friends': 2}\n",
       "{'user_id': 9, 'name': 'Klein', 'num_friends': 3}\n",
       "{'user_id': 10, 'name': 'Jen', 'num_friends': 1}"
      ]
     },
     "execution_count": 118,
     "metadata": {},
     "output_type": "execute_result"
    }
   ],
   "source": [
    "# Let's check SELECT method\n",
    "\n",
    "# sql -- SELECT * FROM users;\n",
    "all_users = users.select()\n",
    "all_users"
   ]
  },
  {
   "cell_type": "code",
   "execution_count": 119,
   "id": "98a9dfdd-c085-4695-8db5-a703ce2621c1",
   "metadata": {},
   "outputs": [
    {
     "data": {
      "text/plain": [
       "['user_id', 'name', 'num_friends']\n",
       "{'user_id': 0, 'name': 'Hero', 'num_friends': 0}\n",
       "{'user_id': 1, 'name': 'Dunn', 'num_friends': 11}"
      ]
     },
     "execution_count": 119,
     "metadata": {},
     "output_type": "execute_result"
    }
   ],
   "source": [
    "# sql -- SELECT * FROM users LIMIT 2;\n",
    "two_users = users.limit(2)\n",
    "two_users"
   ]
  },
  {
   "cell_type": "code",
   "execution_count": 120,
   "id": "6399d5a2-5d44-432d-9f5f-da57b4a86dbb",
   "metadata": {},
   "outputs": [
    {
     "data": {
      "text/plain": [
       "['user_id']\n",
       "{'user_id': 0}\n",
       "{'user_id': 1}\n",
       "{'user_id': 2}\n",
       "{'user_id': 3}\n",
       "{'user_id': 4}\n",
       "{'user_id': 5}\n",
       "{'user_id': 6}\n",
       "{'user_id': 7}\n",
       "{'user_id': 8}\n",
       "{'user_id': 9}\n",
       "{'user_id': 10}"
      ]
     },
     "execution_count": 120,
     "metadata": {},
     "output_type": "execute_result"
    }
   ],
   "source": [
    "# sql -- SELECT user_id FROM users;\n",
    "just_ids = users.select(keep_columns=['user_id'])\n",
    "just_ids"
   ]
  },
  {
   "cell_type": "code",
   "execution_count": 121,
   "id": "77da5e26-7ec9-4651-a96e-1f5a9d60599f",
   "metadata": {},
   "outputs": [
    {
     "data": {
      "text/plain": [
       "['user_id']\n",
       "{'user_id': 1}"
      ]
     },
     "execution_count": 121,
     "metadata": {},
     "output_type": "execute_result"
    }
   ],
   "source": [
    "# sql -- SELECT user_id FROM users WHERE name = 'Dunn';\n",
    "\n",
    "dunn_ids = (users.where(lambda row: row['name'] == 'Dunn').select(keep_columns=['user_id']))  # for multiline fluent queries,\n",
    "                                                                                              # we wrap it in paranthesis\n",
    "dunn_ids"
   ]
  },
  {
   "cell_type": "code",
   "execution_count": 122,
   "id": "cd48221b-12b9-4c98-83cd-a27cf5693d87",
   "metadata": {},
   "outputs": [
    {
     "data": {
      "text/plain": [
       "['name_length']\n",
       "{'name_length': 4}\n",
       "{'name_length': 4}\n",
       "{'name_length': 3}\n",
       "{'name_length': 3}\n",
       "{'name_length': 4}\n",
       "{'name_length': 5}\n",
       "{'name_length': 5}\n",
       "{'name_length': 5}\n",
       "{'name_length': 4}\n",
       "{'name_length': 5}\n",
       "{'name_length': 3}"
      ]
     },
     "execution_count": 122,
     "metadata": {},
     "output_type": "execute_result"
    }
   ],
   "source": [
    "# sql -- SELCET LENGTH(name) AS name_length FROM users;\n",
    "def name_length(row) -> int: \n",
    "        return len(row['name'])\n",
    "\n",
    "name_lengths = users.select(keep_columns=[],\n",
    "                            additional_columns={'name_length':name_length})\n",
    "name_lengths"
   ]
  },
  {
   "cell_type": "markdown",
   "id": "93b5d801-3509-4350-9a53-ba3bc6df0249",
   "metadata": {},
   "source": [
    "# 5. GROUP BY\n",
    "\n",
    "- The GROUP BY clause in SQL is used to arrange identical data into groups.\n",
    "- This allows you to perform aggregate functions like SUM, COUNT, MIN, MAX, and AVG on these groups.\n"
   ]
  },
  {
   "cell_type": "raw",
   "id": "40af75b3-8c28-480d-8a4a-0aacafcfa569",
   "metadata": {},
   "source": [
    "1. Finding Number of Users and Smallest User ID by Name Length:\n",
    "\n",
    "SELECT LENGTH(name) AS name_length,\n",
    "       MIN(user_id) AS min_user_id,            \n",
    "       COUNT(*) AS num_users                   \n",
    "FROM users                          \n",
    "GROUP BY LENGTH(name);  \n",
    "\n",
    "- This query groups users by the length of their names and calculates the minimum user ID and the number of users for each group.\n",
    "\n",
    "\n",
    "2. Average Number of Friends for Users Grouped by First Letter of Name:\n",
    "\n",
    "SELECT SUBSTR(name, 1, 1) AS first_letter,\n",
    "       AVG(num_friends) AS avg_num_friends\n",
    "FROM users\n",
    "GROUP BY SUBSTR(name, 1, 1)\n",
    "HAVING AVG(num_friends) > 1;\n",
    "\n",
    "- This query groups users by the first letter of their name and calculates the average number of friends for each group, displaying only groups with an average greater than 1.\n",
    "\n",
    "3. Sum of User IDs Greater Than 1:\n",
    "\n",
    "SELECT SUM(user_id) as user_id_sum\n",
    "FROM users\n",
    "WHERE user_id > 1;\n",
    "\n",
    "Explanation: This query calculates the sum of all user IDs greater than 1.\n",
    "\n",
    "See implementation in Table class\n"
   ]
  },
  {
   "cell_type": "markdown",
   "id": "1611d997-ab39-40b9-bb9d-60902efa5bca",
   "metadata": {},
   "source": [
    "- 'group by' will take column names based on which grouping is to be done.\n",
    "- It takes aggregation function which is a dict\n",
    "- It take optional 'having' predicate which is similar to 'where' but works on multiple rows"
   ]
  },
  {
   "cell_type": "code",
   "execution_count": 123,
   "id": "8b6a5575-a58f-401b-bd1f-e7b299240a01",
   "metadata": {},
   "outputs": [
    {
     "data": {
      "text/plain": [
       "['name_length', 'min_user_id', 'num_users']\n",
       "{'name_length': 4, 'min_user_id': 0, 'num_users': 4}\n",
       "{'name_length': 3, 'min_user_id': 2, 'num_users': 3}\n",
       "{'name_length': 5, 'min_user_id': 5, 'num_users': 4}"
      ]
     },
     "execution_count": 123,
     "metadata": {},
     "output_type": "execute_result"
    }
   ],
   "source": [
    "# Example: Name Length Metrics\n",
    "# Group based on users name length\n",
    "# For each group, calculate min_user_id and total number of users\n",
    "\n",
    "def min_user_id(rows) -> int:\n",
    "    return min(row[\"user_id\"] for row in rows)\n",
    "\n",
    "def length(rows) -> int:\n",
    "    return len(rows)\n",
    "\n",
    "stats_by_length = (\n",
    "    users\n",
    "    .select(additional_columns={\"name_length\" : name_length})\n",
    "    .group_by(group_by_columns=[\"name_length\"],\n",
    "              aggregates={\"min_user_id\" : min_user_id,\n",
    "                          \"num_users\" : length}))\n",
    "\n",
    "stats_by_length\n",
    "\n",
    "    "
   ]
  },
  {
   "cell_type": "code",
   "execution_count": 124,
   "id": "2b698cb7-05db-4b79-98ac-570c8a4e5b17",
   "metadata": {},
   "outputs": [
    {
     "data": {
      "text/plain": [
       "['first_letter', 'avg_num_friends']\n",
       "{'first_letter': 'H', 'avg_num_friends': 1.5}\n",
       "{'first_letter': 'D', 'avg_num_friends': 6.5}\n",
       "{'first_letter': 'S', 'avg_num_friends': 3.0}\n",
       "{'first_letter': 'C', 'avg_num_friends': 2.5}\n",
       "{'first_letter': 'T', 'avg_num_friends': 3.0}\n",
       "{'first_letter': 'K', 'avg_num_friends': 2.5}"
      ]
     },
     "execution_count": 124,
     "metadata": {},
     "output_type": "execute_result"
    }
   ],
   "source": [
    "# Example: First Letter Metrics\n",
    "# Group based on user's name's first character\n",
    "# Calculate average number of friends for each group\n",
    "# Only show groups whose avg firends > 1\n",
    "\n",
    "def first_letter_of_name(row: Row) -> str:\n",
    "    return row[\"name\"][0] if row[\"name\"] else \"\"\n",
    "\n",
    "def average_num_friends(rows: List[Row]) -> float:\n",
    "    return sum(row[\"num_friends\"] for row in rows) / len(rows)\n",
    "\n",
    "def enough_friends(rows: List[Row]) -> bool:\n",
    "    return average_num_friends(rows) > 1\n",
    "\n",
    "avg_friends_by_letter = (\n",
    "    users\n",
    "    .select(additional_columns={'first_letter' : first_letter_of_name})\n",
    "    .group_by(group_by_columns=['first_letter'],\n",
    "              aggregates={\"avg_num_friends\" : average_num_friends},\n",
    "              having=enough_friends)\n",
    ")\n",
    "\n",
    "avg_friends_by_letter\n"
   ]
  },
  {
   "cell_type": "code",
   "execution_count": 125,
   "id": "a67f2ac1-c4f3-4df5-a547-63b3d9a61638",
   "metadata": {},
   "outputs": [
    {
     "data": {
      "text/plain": [
       "['user_id_sum']\n",
       "{'user_id_sum': 54}"
      ]
     },
     "execution_count": 125,
     "metadata": {},
     "output_type": "execute_result"
    }
   ],
   "source": [
    "# Example: User ID sum\n",
    "# Calculate sum of IDs of all users whose user_id > 1.\n",
    "\n",
    "def sum_user_ids(rows: List[Row]) -> int:\n",
    "    return sum(row[\"user_id\"] for row in rows)\n",
    "\n",
    "user_id_sum = (\n",
    "    users\n",
    "    .where(lambda row: row[\"user_id\"] > 1)\n",
    "    .group_by(group_by_columns=[],\n",
    "              aggregates={ \"user_id_sum\" : sum_user_ids })\n",
    ")\n",
    "user_id_sum"
   ]
  },
  {
   "cell_type": "markdown",
   "id": "7966fb31-5bf5-433d-bb92-eec151adfe71",
   "metadata": {},
   "source": [
    "1. Using 'group_by' we can group any rows based on specific columns\n",
    "\n",
    "2. Can perform specific calculations using **Aggregate functions**\n",
    "\n",
    "3. Real databses do this more efficiently\n"
   ]
  },
  {
   "cell_type": "markdown",
   "id": "5e1d0a16-0295-41ee-8329-8d9f0d41c233",
   "metadata": {},
   "source": [
    "# 6. ORDER BY\n",
    "\n",
    "- This clause is used to sort results\n",
    "- For Example, you want to sort user names alphabatically and show top two, the sql will look like:\n",
    "  \n",
    "  SELECT * FROM users  \n",
    "  ORDER BY name  \n",
    "  LIMIT 2;\n"
   ]
  },
  {
   "cell_type": "code",
   "execution_count": 126,
   "id": "a9673a4d-dc33-4180-8f28-d9adc14569f9",
   "metadata": {},
   "outputs": [
    {
     "data": {
      "text/plain": [
       "['first_letter', 'avg_num_friends']\n",
       "{'first_letter': 'D', 'avg_num_friends': 6.5}\n",
       "{'first_letter': 'S', 'avg_num_friends': 3.0}\n",
       "{'first_letter': 'T', 'avg_num_friends': 3.0}\n",
       "{'first_letter': 'C', 'avg_num_friends': 2.5}"
      ]
     },
     "execution_count": 126,
     "metadata": {},
     "output_type": "execute_result"
    }
   ],
   "source": [
    "# Example: Ordering average friends by letter\n",
    "\n",
    "# Find average friends of users name starting with same letter\n",
    "# Order them \n",
    "# list only top 4 friendliest\n",
    "\n",
    "friendliest_letters = (avg_friends_by_letter \n",
    "                       .order_by(lambda row: -row[\"avg_num_friends\"])\n",
    "                       .limit(4)\n",
    "                      )\n",
    "friendliest_letters"
   ]
  },
  {
   "cell_type": "markdown",
   "id": "5419fe31-3f85-4f18-ad9a-ecae322b01c0",
   "metadata": {},
   "source": [
    "- In sql, with `ORDER BY` we can also specify `ASC`(ascending) or `DESC`(descending).\n",
    "- In our NotQuietBase implementation, we need to specify this in our 'order' method. (Like -row[\"avg_num_friends\"])"
   ]
  },
  {
   "cell_type": "markdown",
   "id": "19fb62f5-28c2-4462-9caf-dce015b2c159",
   "metadata": {},
   "source": [
    "# 7. JOIN\n",
    "\n",
    "**Normalization:**\n",
    "\n",
    "- Relational databases are often normalized to minimize redundancy. This means data is split into different tables to avoid storing the same information multiple times.\n",
    "\n",
    "- Example: Instead of storing a list of interests for each user in one table, we create a separate table (user_interests) to store the relationship between user_ids and interests."
   ]
  },
  {
   "cell_type": "raw",
   "id": "eb074441-acdb-486a-be9a-d613a653779d",
   "metadata": {},
   "source": [
    "- sql table creation\n",
    "\n",
    "CREATE TABLE user_interests (    \n",
    "    user_id INT NOT NULL,    \n",
    "    interest VARCHAR(100) NOT NULL  \n",
    ");  "
   ]
  },
  {
   "cell_type": "code",
   "execution_count": 127,
   "id": "e3eccef7-356e-4349-8fc7-f162b86945a8",
   "metadata": {},
   "outputs": [],
   "source": [
    "# Create a interests table\n",
    "\n",
    "user_interests = Table(['user_id', 'interest'], [int, str])\n",
    "user_interests.insert([0, \"SQL\"])\n",
    "user_interests.insert([0, \"NoSQL\"])\n",
    "user_interests.insert([2, \"SQL\"])\n",
    "user_interests.insert([2, \"MySQL\"])\n",
    "\n",
    "# Note on Redundancy: There's redundancy in storing the same interest multiple times. \n",
    "#In real databases, this is often handled by using an additional table for interests with unique interest_ids.\n"
   ]
  },
  {
   "cell_type": "markdown",
   "id": "28c89754-9329-4ddd-9409-063cecd47533",
   "metadata": {},
   "source": [
    "**Joining Tables**\n",
    "\n",
    "- To analyze data that spans multiple tables, we use the JOIN operation to combine rows from two tables based on related columns.\n",
    "\n",
    "1. INNER JOIN:\n",
    "   - Combines rows from both tables where the specified condition is met.\n",
    "   - Only returns rows with matching entries in both tables.\n",
    "\n",
    "2. LEFT JOIN:\n",
    "   - Returns all rows from the left table and matched rows from the right table.\n",
    "   - If there's no match, the result will have NULL values for columns from the right table.\n",
    "  \n",
    "3. Additional JOIN Types\n",
    "- RIGHT JOIN: Keeps rows from the right table that have no matches in the left table.\n",
    "\n",
    "- FULL OUTER JOIN: Keeps rows from both tables that have no matches.\n",
    "\n",
    "- Note: The NotQuiteABase implementation doesn't include RIGHT JOIN or FULL OUTER JOIN."
   ]
  },
  {
   "cell_type": "raw",
   "id": "4decfb6b-0a20-4ed1-a2d7-82dcc5bdcf74",
   "metadata": {},
   "source": [
    "Example query to find users interested in SQL:\n",
    "\n",
    "SELECT users.name\n",
    "FROM users\n",
    "JOIN user_interests\n",
    "ON users.user_id = user_interests.user_id\n",
    "WHERE user_interests.interest = 'SQL';"
   ]
  },
  {
   "cell_type": "code",
   "execution_count": 129,
   "id": "19f9ad20-ff84-42a8-851c-519488709496",
   "metadata": {},
   "outputs": [
    {
     "data": {
      "text/plain": [
       "['name']\n",
       "{'name': 'Hero'}\n",
       "{'name': 'Sue'}"
      ]
     },
     "execution_count": 129,
     "metadata": {},
     "output_type": "execute_result"
    }
   ],
   "source": [
    "# Finding Users Interested in SQL\n",
    "\n",
    "sql_users = (\n",
    "    users\n",
    "    .join(user_interests)\n",
    "    .where(lambda row: row[\"interest\"] == \"SQL\")\n",
    "    .select(keep_columns=[\"name\"])\n",
    ")\n",
    "sql_users"
   ]
  },
  {
   "cell_type": "code",
   "execution_count": 131,
   "id": "bce0318e-7867-44ae-a82b-d0caa4498f66",
   "metadata": {},
   "outputs": [
    {
     "data": {
      "text/plain": [
       "['user_id', 'num_interests']\n",
       "{'user_id': 0, 'num_interests': 2}\n",
       "{'user_id': 1, 'num_interests': 0}\n",
       "{'user_id': 2, 'num_interests': 2}\n",
       "{'user_id': 3, 'num_interests': 0}\n",
       "{'user_id': 4, 'num_interests': 0}\n",
       "{'user_id': 5, 'num_interests': 0}\n",
       "{'user_id': 6, 'num_interests': 0}\n",
       "{'user_id': 7, 'num_interests': 0}\n",
       "{'user_id': 8, 'num_interests': 0}\n",
       "{'user_id': 9, 'num_interests': 0}\n",
       "{'user_id': 10, 'num_interests': 0}"
      ]
     },
     "execution_count": 131,
     "metadata": {},
     "output_type": "execute_result"
    }
   ],
   "source": [
    "# Counting User Interests with LEFT JOIN\n",
    "\n",
    "def count_interests(rows: List[Row]) -> int:\n",
    "    \"\"\"Counts how many rows have non-None interests\"\"\"\n",
    "    return len([row for row in rows if row[\"interest\"] is not None])\n",
    "\n",
    "user_interest_counts = (\n",
    "    users\n",
    "    .join(user_interests, left_join=True)\n",
    "    .group_by(group_by_columns=[\"user_id\"],\n",
    "              aggregates={\"num_interests\": count_interests})\n",
    ")\n",
    "user_interest_counts"
   ]
  },
  {
   "cell_type": "markdown",
   "id": "76aab98b-f1f3-41c3-9b02-920a89793624",
   "metadata": {},
   "source": [
    "# 8. SUBQUERIES"
   ]
  },
  {
   "cell_type": "markdown",
   "id": "50612410-31e2-4c94-bd8e-ef3bd19564ab",
   "metadata": {},
   "source": [
    "# 9. INDEXES"
   ]
  },
  {
   "cell_type": "markdown",
   "id": "cdf96f9a-e3da-4c93-82d1-e932734d7706",
   "metadata": {},
   "source": [
    "# 10. Query OPTIMIZATION"
   ]
  },
  {
   "cell_type": "markdown",
   "id": "22c56b72-20c4-4f95-bf5c-936d660d401c",
   "metadata": {},
   "source": [
    "# 11. NoSQL"
   ]
  }
 ],
 "metadata": {
  "kernelspec": {
   "display_name": "Python 3",
   "language": "python",
   "name": "python3"
  },
  "language_info": {
   "codemirror_mode": {
    "name": "ipython",
    "version": 3
   },
   "file_extension": ".py",
   "mimetype": "text/x-python",
   "name": "python",
   "nbconvert_exporter": "python",
   "pygments_lexer": "ipython3",
   "version": "3.11.5"
  }
 },
 "nbformat": 4,
 "nbformat_minor": 5
}
