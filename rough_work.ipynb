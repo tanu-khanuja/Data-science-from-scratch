{
 "cells": [
  {
   "cell_type": "code",
   "execution_count": 19,
   "id": "186d28ff-09a0-4296-933a-cc68651678bc",
   "metadata": {},
   "outputs": [
    {
     "data": {
      "text/plain": [
       "['date', 'symbol', 'prices']"
      ]
     },
     "execution_count": 19,
     "metadata": {},
     "output_type": "execute_result"
    }
   ],
   "source": [
    "import csv\n",
    "with open(\"tab_delimited_stock_prices_with_header.txt\") as f:\n",
    "    tab_separated_file = csv.DictReader(f, delimiter = '\\t')\n",
    "    header = tab_separated_file.fieldnames\n",
    "header\n",
    "    # next(tab_separated_file)\n",
    "    # for line in tab_separated_file:\n",
    "    #     print(line)\n",
    "    #     date = line['date']\n",
    "    #     print(date)\n",
    "        # stock_name = line[1]\n",
    "        # stock_price = line[2]\n",
    "        # print(f\"{date=}, {stock_name=}, {stock_price=}\")\n",
    "    "
   ]
  },
  {
   "cell_type": "code",
   "execution_count": 20,
   "id": "aaeff4e1-8d0c-4b2e-a93b-bcce9760e972",
   "metadata": {},
   "outputs": [
    {
     "name": "stdout",
     "output_type": "stream",
     "text": [
      "<!doctype html>\n",
      "<html lang=\"en-US\">\n",
      "<head>\n",
      "    <title>Getting Data</title>\n",
      "    <meta charset=\"utf-8\">\n",
      "</head>\n",
      "<body>\n",
      "    <h1>Getting Data</h1>\n",
      "    <div class=\"explanation\">\n",
      "        This is an explanation.\n",
      "    </div>\n",
      "    <div class=\"comment\">\n",
      "        This is a comment.\n",
      "    </div>\n",
      "    <div class=\"content\">\n",
      "        <p id=\"p1\">This is the first paragraph.</p>\n",
      "        <p class=\"important\">This is the second paragraph.</p>\n",
      "    </div>\n",
      "    <div class=\"signature\">\n",
      "        <span id=\"name\">Joel</span>\n",
      "        <span id=\"twitter\">@joelgrus</span>\n",
      "        <span id=\"email\">joelgrus-at-gmail</span>\n",
      "    </div>\n",
      "</body>\n",
      "</html>\n",
      "\n"
     ]
    }
   ],
   "source": [
    "from bs4 import BeautifulSoup\n",
    "import requests\n",
    "\n",
    "url = \"https://raw.githubusercontent.com/joelgrus/data/master/getting-data.html\"\n",
    "\n",
    "# Request url\n",
    "html = requests.get(url).text \n",
    "print(html)"
   ]
  },
  {
   "cell_type": "code",
   "execution_count": 22,
   "id": "df233b97-90af-4c2d-abd8-e38f407cde3f",
   "metadata": {},
   "outputs": [
    {
     "data": {
      "text/plain": [
       "<!DOCTYPE html>\n",
       "<html lang=\"en-US\"><head>\n",
       "    <title>Getting Data</title>\n",
       "    <meta charset=\"utf-8\"/>\n",
       "</head>\n",
       "<body>\n",
       "    <h1>Getting Data</h1>\n",
       "    <div class=\"explanation\">\n",
       "        This is an explanation.\n",
       "    </div>\n",
       "    <div class=\"comment\">\n",
       "        This is a comment.\n",
       "    </div>\n",
       "    <div class=\"content\">\n",
       "        <p id=\"p1\">This is the first paragraph.</p>\n",
       "        <p class=\"important\">This is the second paragraph.</p>\n",
       "    </div>\n",
       "    <div class=\"signature\">\n",
       "        <span id=\"name\">Joel</span>\n",
       "        <span id=\"twitter\">@joelgrus</span>\n",
       "        <span id=\"email\">joelgrus-at-gmail</span>\n",
       "    </div>\n",
       "\n",
       "\n",
       "</body></html>"
      ]
     },
     "execution_count": 22,
     "metadata": {},
     "output_type": "execute_result"
    }
   ],
   "source": [
    "soup = BeautifulSoup(html, 'html5lib')\n",
    "soup"
   ]
  },
  {
   "cell_type": "markdown",
   "id": "253bd79a-b68b-4728-8c7d-70e23d793fb0",
   "metadata": {},
   "source": [
    "\n",
    "# Betweenness centraility\n"
   ]
  },
  {
   "cell_type": "code",
   "execution_count": 15,
   "id": "66219ffe-7878-4eeb-bb54-9847f3af1396",
   "metadata": {},
   "outputs": [],
   "source": [
    "from typing import Dict, List\n",
    "from collections import defaultdict\n",
    "\n",
    "friend_pairs = [(1,3), (1,2), (3,4)]\n",
    "friendships: Dict[int, List[int]] = defaultdict(list)\n",
    "\n",
    "friendships\n",
    "for i, j in friend_pairs:\n",
    "    friendships[i].append(j)\n",
    "    friendships[j].append(i)\n",
    "\n",
    "assert friendships == {1: [3, 2], 3: [1, 4], 2: [1], 4: [3]}\n",
    "\n",
    "# "
   ]
  },
  {
   "cell_type": "code",
   "execution_count": null,
   "id": "d3219731-a090-43e1-acf5-737d6d39f94c",
   "metadata": {},
   "outputs": [],
   "source": [
    "\n",
    "\n"
   ]
  },
  {
   "cell_type": "code",
   "execution_count": 9,
   "id": "ee3285ad-cb92-4a9f-9cde-dadf522d7d22",
   "metadata": {},
   "outputs": [
    {
     "data": {
      "text/plain": [
       "[1, 2, 1, 2]"
      ]
     },
     "execution_count": 9,
     "metadata": {},
     "output_type": "execute_result"
    }
   ],
   "source": [
    "l1 = [1,2,]\n",
    "l2 = [1,2,]\n",
    "l3 = [3,4,]\n",
    "l = l1+l2\n",
    "l"
   ]
  },
  {
   "cell_type": "code",
   "execution_count": 10,
   "id": "d9a2cde1-79dd-4b50-a0f2-033c7acd4bc4",
   "metadata": {},
   "outputs": [
    {
     "name": "stdout",
     "output_type": "stream",
     "text": [
      "(1, 1, 3) (2, 2, 4)\n"
     ]
    }
   ],
   "source": [
    "print(*zip(l1,l2,l3))"
   ]
  },
  {
   "cell_type": "code",
   "execution_count": 18,
   "id": "2739f85c-aa0c-4a99-b131-9068991c4ad7",
   "metadata": {},
   "outputs": [
    {
     "data": {
      "text/plain": [
       "[9, 12]"
      ]
     },
     "execution_count": 18,
     "metadata": {},
     "output_type": "execute_result"
    }
   ],
   "source": [
    "[sum(t) for t in zip([1,2],[3,4],[5,6])]"
   ]
  },
  {
   "cell_type": "code",
   "execution_count": null,
   "id": "1fd9a2ad-6a9c-415d-b0ea-26a7f5d47317",
   "metadata": {},
   "outputs": [],
   "source": [
    "[1,2],[3,4],[5,6]"
   ]
  },
  {
   "cell_type": "code",
   "execution_count": null,
   "id": "ab6dd9c1-3378-4463-b1ac-a18b93a933cd",
   "metadata": {},
   "outputs": [],
   "source": []
  },
  {
   "cell_type": "code",
   "execution_count": 17,
   "id": "8abec871-5311-42ca-a36d-b7e7075c5ea9",
   "metadata": {},
   "outputs": [
    {
     "name": "stdout",
     "output_type": "stream",
     "text": [
      "[0, 1, 3, 4, 5, 6, 7, 8, 9, 10]\n"
     ]
    }
   ],
   "source": [
    "q_data = [5,10,1,9,7,0,8,3,4,6]\n",
    "sorted_q = sorted(q_data)\n",
    "sorted_q\n",
    "\n",
    "sorted_q[int(len(sorted_q)*0.2)]\n",
    "print(sorted_q)"
   ]
  },
  {
   "cell_type": "code",
   "execution_count": 28,
   "id": "0cb318a7-28c0-4a56-8249-fcda6912000f",
   "metadata": {},
   "outputs": [
    {
     "data": {
      "text/plain": [
       "[4]"
      ]
     },
     "execution_count": 28,
     "metadata": {},
     "output_type": "execute_result"
    }
   ],
   "source": [
    "from collections import Counter\n",
    "data = [1,1,2,3,4,4,4,6,1,1,7,4,8,3,9,4,8,2,4,6,2]\n",
    "dict1 = Counter(data)\n",
    "item = [k for k, v in dict1.items() if v == max(v for v in dict1.values())]\n",
    "item"
   ]
  },
  {
   "cell_type": "markdown",
   "id": "8cc093f5-0bc7-4c6d-a468-4b441a135f8a",
   "metadata": {},
   "source": [
    "# Web scrapping rough work"
   ]
  },
  {
   "cell_type": "code",
   "execution_count": 8,
   "id": "d36de340",
   "metadata": {},
   "outputs": [
    {
     "name": "stdout",
     "output_type": "stream",
     "text": [
      "<!DOCTYPE html>\n",
      "<html lang=\"en-US\">\n",
      " <head>\n",
      "  <title>\n",
      "   Getting Data\n",
      "  </title>\n",
      "  <meta charset=\"utf-8\"/>\n",
      " </head>\n",
      " <body>\n",
      "  <h1>\n",
      "   Getting Data\n",
      "  </h1>\n",
      "  <div class=\"explanation\">\n",
      "   This is an explanation.\n",
      "  </div>\n",
      "  <div class=\"comment\">\n",
      "   This is a comment.\n",
      "  </div>\n",
      "  <div class=\"content\">\n",
      "   <p id=\"p1\">\n",
      "    This is the first paragraph.\n",
      "   </p>\n",
      "   <p class=\"important\">\n",
      "    This is the second paragraph.\n",
      "   </p>\n",
      "  </div>\n",
      "  <div class=\"signature\">\n",
      "   <span id=\"name\">\n",
      "    Joel\n",
      "   </span>\n",
      "   <span id=\"twitter\">\n",
      "    @joelgrus\n",
      "   </span>\n",
      "   <span id=\"email\">\n",
      "    joelgrus-at-gmail\n",
      "   </span>\n",
      "  </div>\n",
      " </body>\n",
      "</html>\n",
      "\n"
     ]
    }
   ],
   "source": [
    "from bs4 import BeautifulSoup\n",
    "import requests\n",
    "\n",
    "url = \"https://raw.githubusercontent.com/joelgrus/data/master/getting-data.html\"\n",
    "\n",
    "html = requests.get(url).text\n",
    "soup = BeautifulSoup(html)\n",
    "print(soup.prettify())"
   ]
  },
  {
   "cell_type": "code",
   "execution_count": 12,
   "id": "01a9b33f",
   "metadata": {},
   "outputs": [
    {
     "data": {
      "text/plain": [
       "[<body>\n",
       "     <h1>Getting Data</h1>\n",
       "     <div class=\"explanation\">\n",
       "         This is an explanation.\n",
       "     </div>\n",
       "     <div class=\"comment\">\n",
       "         This is a comment.\n",
       "     </div>\n",
       "     <div class=\"content\">\n",
       "         <p id=\"p1\">This is the first paragraph.</p>\n",
       "         <p class=\"important\">This is the second paragraph.</p>\n",
       "     </div>\n",
       "     <div class=\"signature\">\n",
       "         <span id=\"name\">Joel</span>\n",
       "         <span id=\"twitter\">@joelgrus</span>\n",
       "         <span id=\"email\">joelgrus-at-gmail</span>\n",
       "     </div>\n",
       " \n",
       " \n",
       " </body>]"
      ]
     },
     "execution_count": 12,
     "metadata": {},
     "output_type": "execute_result"
    }
   ],
   "source": [
    "soup.find_all('body')"
   ]
  },
  {
   "cell_type": "code",
   "execution_count": 21,
   "id": "efe42706",
   "metadata": {},
   "outputs": [
    {
     "data": {
      "text/plain": [
       "[<p id=\"p1\">This is the first paragraph.</p>,\n",
       " <p class=\"important\">This is the second paragraph.</p>]"
      ]
     },
     "execution_count": 21,
     "metadata": {},
     "output_type": "execute_result"
    }
   ],
   "source": [
    "all_p= soup.find_all('p')\n",
    "all_p"
   ]
  },
  {
   "cell_type": "code",
   "execution_count": 22,
   "id": "54c9431b",
   "metadata": {},
   "outputs": [
    {
     "data": {
      "text/plain": [
       "'p1'"
      ]
     },
     "execution_count": 22,
     "metadata": {},
     "output_type": "execute_result"
    }
   ],
   "source": [
    "soup.p['id'] # first id only"
   ]
  },
  {
   "cell_type": "code",
   "execution_count": 25,
   "id": "79059e84",
   "metadata": {},
   "outputs": [
    {
     "ename": "KeyError",
     "evalue": "'class'",
     "output_type": "error",
     "traceback": [
      "\u001b[0;31m---------------------------------------------------------------------------\u001b[0m",
      "\u001b[0;31mKeyError\u001b[0m                                  Traceback (most recent call last)",
      "Cell \u001b[0;32mIn[25], line 1\u001b[0m\n\u001b[0;32m----> 1\u001b[0m \u001b[43msoup\u001b[49m\u001b[38;5;241;43m.\u001b[39;49m\u001b[43mp\u001b[49m\u001b[43m[\u001b[49m\u001b[38;5;124;43m'\u001b[39;49m\u001b[38;5;124;43mclass\u001b[39;49m\u001b[38;5;124;43m'\u001b[39;49m\u001b[43m]\u001b[49m\n",
      "File \u001b[0;32m~/anaconda3/envs/dsfs/lib/python3.11/site-packages/bs4/element.py:1573\u001b[0m, in \u001b[0;36mTag.__getitem__\u001b[0;34m(self, key)\u001b[0m\n\u001b[1;32m   1570\u001b[0m \u001b[38;5;28;01mdef\u001b[39;00m \u001b[38;5;21m__getitem__\u001b[39m(\u001b[38;5;28mself\u001b[39m, key):\n\u001b[1;32m   1571\u001b[0m \u001b[38;5;250m    \u001b[39m\u001b[38;5;124;03m\"\"\"tag[key] returns the value of the 'key' attribute for the Tag,\u001b[39;00m\n\u001b[1;32m   1572\u001b[0m \u001b[38;5;124;03m    and throws an exception if it's not there.\"\"\"\u001b[39;00m\n\u001b[0;32m-> 1573\u001b[0m     \u001b[38;5;28;01mreturn\u001b[39;00m \u001b[38;5;28;43mself\u001b[39;49m\u001b[38;5;241;43m.\u001b[39;49m\u001b[43mattrs\u001b[49m\u001b[43m[\u001b[49m\u001b[43mkey\u001b[49m\u001b[43m]\u001b[49m\n",
      "\u001b[0;31mKeyError\u001b[0m: 'class'"
     ]
    }
   ],
   "source": [
    "soup.p['class']"
   ]
  },
  {
   "cell_type": "code",
   "execution_count": 31,
   "id": "538a60d7",
   "metadata": {},
   "outputs": [
    {
     "name": "stdout",
     "output_type": "stream",
     "text": [
      "None\n"
     ]
    }
   ],
   "source": [
    "cls= soup.p.get('class')\n",
    "print(cls)"
   ]
  },
  {
   "cell_type": "code",
   "execution_count": 32,
   "id": "aff889e4",
   "metadata": {},
   "outputs": [
    {
     "data": {
      "text/plain": [
       "<!DOCTYPE html>\n",
       "<html lang=\"en-US\"><head>\n",
       "    <title>Getting Data</title>\n",
       "    <meta charset=\"utf-8\"/>\n",
       "</head>\n",
       "<body>\n",
       "    <h1>Getting Data</h1>\n",
       "    <div class=\"explanation\">\n",
       "        This is an explanation.\n",
       "    </div>\n",
       "    <div class=\"comment\">\n",
       "        This is a comment.\n",
       "    </div>\n",
       "    <div class=\"content\">\n",
       "        <p id=\"p1\">This is the first paragraph.</p>\n",
       "        <p class=\"important\">This is the second paragraph.</p>\n",
       "    </div>\n",
       "    <div class=\"signature\">\n",
       "        <span id=\"name\">Joel</span>\n",
       "        <span id=\"twitter\">@joelgrus</span>\n",
       "        <span id=\"email\">joelgrus-at-gmail</span>\n",
       "    </div>\n",
       "\n",
       "\n",
       "</body></html>"
      ]
     },
     "execution_count": 32,
     "metadata": {},
     "output_type": "execute_result"
    }
   ],
   "source": [
    "soup"
   ]
  },
  {
   "cell_type": "code",
   "execution_count": 34,
   "id": "4bd81c82",
   "metadata": {},
   "outputs": [
    {
     "data": {
      "text/plain": [
       "[<p id=\"p1\">This is the first paragraph.</p>,\n",
       " <p class=\"important\">This is the second paragraph.</p>]"
      ]
     },
     "execution_count": 34,
     "metadata": {},
     "output_type": "execute_result"
    }
   ],
   "source": [
    "soup('p')"
   ]
  },
  {
   "cell_type": "code",
   "execution_count": 38,
   "id": "1bb2bece",
   "metadata": {},
   "outputs": [
    {
     "data": {
      "text/plain": [
       "[<p id=\"p1\">This is the first paragraph.</p>]"
      ]
     },
     "execution_count": 38,
     "metadata": {},
     "output_type": "execute_result"
    }
   ],
   "source": [
    "[att for att in soup('p') if att.get('id')]"
   ]
  },
  {
   "cell_type": "code",
   "execution_count": 39,
   "id": "ab4a2c62",
   "metadata": {},
   "outputs": [
    {
     "data": {
      "text/plain": [
       "<!DOCTYPE html>\n",
       "<html lang=\"en-US\"><head>\n",
       "    <title>Getting Data</title>\n",
       "    <meta charset=\"utf-8\"/>\n",
       "</head>\n",
       "<body>\n",
       "    <h1>Getting Data</h1>\n",
       "    <div class=\"explanation\">\n",
       "        This is an explanation.\n",
       "    </div>\n",
       "    <div class=\"comment\">\n",
       "        This is a comment.\n",
       "    </div>\n",
       "    <div class=\"content\">\n",
       "        <p id=\"p1\">This is the first paragraph.</p>\n",
       "        <p class=\"important\">This is the second paragraph.</p>\n",
       "    </div>\n",
       "    <div class=\"signature\">\n",
       "        <span id=\"name\">Joel</span>\n",
       "        <span id=\"twitter\">@joelgrus</span>\n",
       "        <span id=\"email\">joelgrus-at-gmail</span>\n",
       "    </div>\n",
       "\n",
       "\n",
       "</body></html>"
      ]
     },
     "execution_count": 39,
     "metadata": {},
     "output_type": "execute_result"
    }
   ],
   "source": [
    "soup"
   ]
  },
  {
   "cell_type": "code",
   "execution_count": 42,
   "id": "d2e8f883",
   "metadata": {},
   "outputs": [
    {
     "data": {
      "text/plain": [
       "[<p id=\"p1\">This is the first paragraph.</p>,\n",
       " <p class=\"important\">This is the second paragraph.</p>]"
      ]
     },
     "execution_count": 42,
     "metadata": {},
     "output_type": "execute_result"
    }
   ],
   "source": [
    "soup('p')"
   ]
  },
  {
   "cell_type": "code",
   "execution_count": 44,
   "id": "803cd939",
   "metadata": {},
   "outputs": [
    {
     "data": {
      "text/plain": [
       "'p1'"
      ]
     },
     "execution_count": 44,
     "metadata": {},
     "output_type": "execute_result"
    }
   ],
   "source": [
    "soup.p['id']"
   ]
  },
  {
   "cell_type": "code",
   "execution_count": 45,
   "id": "69614b73",
   "metadata": {},
   "outputs": [
    {
     "data": {
      "text/plain": [
       "'p1'"
      ]
     },
     "execution_count": 45,
     "metadata": {},
     "output_type": "execute_result"
    }
   ],
   "source": [
    "soup.p.get('id')"
   ]
  },
  {
   "cell_type": "code",
   "execution_count": 49,
   "id": "3e906ec7",
   "metadata": {},
   "outputs": [
    {
     "data": {
      "text/plain": [
       "<span id=\"name\">Joel</span>"
      ]
     },
     "execution_count": 49,
     "metadata": {},
     "output_type": "execute_result"
    }
   ],
   "source": [
    "soup.span"
   ]
  },
  {
   "cell_type": "code",
   "execution_count": 54,
   "id": "742c55b9",
   "metadata": {},
   "outputs": [
    {
     "data": {
      "text/plain": [
       "'name'"
      ]
     },
     "execution_count": 54,
     "metadata": {},
     "output_type": "execute_result"
    }
   ],
   "source": [
    "soup.span.get('id')"
   ]
  },
  {
   "cell_type": "code",
   "execution_count": 55,
   "id": "b0052d68",
   "metadata": {},
   "outputs": [
    {
     "data": {
      "text/plain": [
       "<!DOCTYPE html>\n",
       "<html lang=\"en-US\"><head>\n",
       "    <title>Getting Data</title>\n",
       "    <meta charset=\"utf-8\"/>\n",
       "</head>\n",
       "<body>\n",
       "    <h1>Getting Data</h1>\n",
       "    <div class=\"explanation\">\n",
       "        This is an explanation.\n",
       "    </div>\n",
       "    <div class=\"comment\">\n",
       "        This is a comment.\n",
       "    </div>\n",
       "    <div class=\"content\">\n",
       "        <p id=\"p1\">This is the first paragraph.</p>\n",
       "        <p class=\"important\">This is the second paragraph.</p>\n",
       "    </div>\n",
       "    <div class=\"signature\">\n",
       "        <span id=\"name\">Joel</span>\n",
       "        <span id=\"twitter\">@joelgrus</span>\n",
       "        <span id=\"email\">joelgrus-at-gmail</span>\n",
       "    </div>\n",
       "\n",
       "\n",
       "</body></html>"
      ]
     },
     "execution_count": 55,
     "metadata": {},
     "output_type": "execute_result"
    }
   ],
   "source": [
    "soup"
   ]
  },
  {
   "cell_type": "code",
   "execution_count": 74,
   "id": "8646e9c0",
   "metadata": {},
   "outputs": [
    {
     "data": {
      "text/plain": [
       "['name', 'twitter', 'email']"
      ]
     },
     "execution_count": 74,
     "metadata": {},
     "output_type": "execute_result"
    }
   ],
   "source": [
    "sp = [s.get('id') for s in soup('span') ]\n",
    "sp"
   ]
  },
  {
   "cell_type": "code",
   "execution_count": null,
   "id": "9a5c9bfb",
   "metadata": {},
   "outputs": [
    {
     "data": {
      "image/png": "[encoded data removed]",
      "text/plain": [
       "<Figure size 640x480 with 1 Axes>"
      ]
     },
     "metadata": {},
     "output_type": "display_data"
    }
   ],
   "source": [
    "import matplotlib.pyplot as plt\n",
    "import numpy as np\n",
    "\n",
    "np.random.seed(0)\n",
    "\n",
    "xs = np.arange(0,5, 0.001)\n",
    "ys = np.square(xs)\n",
    "\n",
    "plt.plot(xs, ys, label = 'f(x) = x^2')\n",
    "plt.xlabel('x')\n",
    "plt.ylabel('f(x)')\n",
    "plt.xticks([])\n",
    "plt.yticks([])\n",
    "\n",
    "\n",
    "x1 = 2\n",
    "x2 = x1+2\n",
    "y1 = np.square(x1)\n",
    "y2 = np.square(x2)\n",
    "\n",
    "plt.plot([x1,x2], [y1,y2], marker='o', label = 'Difference Quotient Line')\n",
    "plt.text(x1, y1, '(x, f(x))')\n",
    "plt.text(x2, y2, '(x+h, f(x+h))')\n",
    "plt.legend()\n",
    "plt.show()"
   ]
  },
  {
   "cell_type": "code",
   "execution_count": 36,
   "id": "9a5e5833",
   "metadata": {},
   "outputs": [
    {
     "data": {
      "image/png": "[encoded data removed]",
      "text/plain": [
       "<Figure size 640x480 with 1 Axes>"
      ]
     },
     "metadata": {},
     "output_type": "display_data"
    }
   ],
   "source": [
    "import matplotlib.pyplot as plt\n",
    "import numpy as np\n",
    "\n",
    "np.random.seed(0)\n",
    "\n",
    "xs = np.arange(0,5, 0.001)\n",
    "ys = np.square(xs)\n",
    "\n",
    "plt.plot(xs, ys, label = 'f(x) = x^2')\n",
    "plt.xlabel('x')\n",
    "plt.ylabel('f(x)')\n",
    "plt.xticks([])\n",
    "plt.yticks([])\n",
    "\n",
    "\n",
    "x1 = 2\n",
    "x2 = x1+0.5\n",
    "y1 = np.square(x1)\n",
    "y2 = np.square(x2)\n",
    "\n",
    "plt.plot([x1,x2], [y1,y2], marker='o', label = 'Difference Quotient Line')\n",
    "plt.text(x1, y1, '(x, f(x))')\n",
    "plt.text(x2, y2, '(x+h, f(x+h))')\n",
    "plt.legend()\n",
    "plt.show()"
   ]
  },
  {
   "cell_type": "code",
   "execution_count": null,
   "id": "c2b08513",
   "metadata": {},
   "outputs": [],
   "source": []
  },
  {
   "cell_type": "code",
   "execution_count": null,
   "id": "202fb543",
   "metadata": {},
   "outputs": [],
   "source": []
  },
  {
   "cell_type": "code",
   "execution_count": null,
   "id": "470fecc9",
   "metadata": {},
   "outputs": [],
   "source": []
  }
 ],
 "metadata": {
  "kernelspec": {
   "display_name": "Python 3",
   "language": "python",
   "name": "python3"
  },
  "language_info": {
   "codemirror_mode": {
    "name": "ipython",
    "version": 3
   },
   "file_extension": ".py",
   "mimetype": "text/x-python",
   "name": "python",
   "nbconvert_exporter": "python",
   "pygments_lexer": "ipython3",
   "version": "3.11.5"
  }
 },
 "nbformat": 4,
 "nbformat_minor": 5
}
