{
 "cells": [
  {
   "attachments": {
    "aa2692a6-5b7b-4966-b217-79e6b03d17a7.jpg": {
     "image/jpeg": "[encoded data removed]"
    }
   },
   "cell_type": "markdown",
   "id": "73473f69-8414-4e28-acb3-a0da32c28450",
   "metadata": {},
   "source": [
    "# Vectors' graphical representation\n",
    "\n",
    "- Just to remember physical representation of vector's addition/subtraction, resultant vectors etc.\n",
    "![vector_add.jpg](attachment:aa2692a6-5b7b-4966-b217-79e6b03d17a7.jpg)"
   ]
  },
  {
   "cell_type": "markdown",
   "id": "aa1e7ef4-eb1d-43bb-85d7-f0abdd66e144",
   "metadata": {},
   "source": [
    "# For Loop vs Generators\n",
    "\n",
    "- When length of an iterable (e.g. list) is small, then we use For loop to iterate over the list.\n",
    "- Because For loop stores the complete list in memory and to perform iterations, its inefficinet when length of list/iterator is too large.\n",
    "\n",
    "- In such cases, we use Generators\n",
    "- Generators are the functions which produce one value at a time and only when needed.\n",
    "- They dont store the complete data at a time\n",
    "- They compute the value at every iteration and yield result\n",
    "\n",
    "- Let's see example:"
   ]
  },
  {
   "cell_type": "code",
   "execution_count": 1,
   "id": "f3fb6e36-44d5-4e56-9d42-59c463db3f4b",
   "metadata": {},
   "outputs": [
    {
     "name": "stdout",
     "output_type": "stream",
     "text": [
      "1\n",
      "2\n",
      "3\n",
      "4\n"
     ]
    }
   ],
   "source": [
    "# Use for loop for small dataset\n",
    "\n",
    "small_list = [1,2,3,4]\n",
    "\n",
    "for number in small_list:\n",
    "    print(number)"
   ]
  },
  {
   "cell_type": "code",
   "execution_count": 5,
   "id": "90dea14e-d967-449f-aaf1-f86b985e023d",
   "metadata": {},
   "outputs": [
    {
     "name": "stdout",
     "output_type": "stream",
     "text": [
      "1\n",
      "2\n",
      "3\n",
      "4\n",
      "5\n"
     ]
    }
   ],
   "source": [
    "# Use generator function for large dataset\n",
    "\n",
    "# Define a generator function\n",
    "# whenever yield comes the function pauses and returns a value\n",
    "def count_up_to(n):\n",
    "    count = 1\n",
    "    while count <= n:\n",
    "        yield count\n",
    "        count +=1\n",
    "\n",
    "# Use generator function of large dataset\n",
    "counter = count_up_to(5)\n",
    "for number in counter:\n",
    "    print(number)\n",
    "    "
   ]
  },
  {
   "cell_type": "code",
   "execution_count": 15,
   "id": "715b760e-5d69-4bab-a698-58a2fccaa2fb",
   "metadata": {},
   "outputs": [
    {
     "name": "stdout",
     "output_type": "stream",
     "text": [
      "[1, 2, 3, 4, 5]\n"
     ]
    }
   ],
   "source": [
    "# In compact form the generator can be written as:\n",
    "\n",
    "number = [i for i in range(1,6)]\n",
    "print(number)"
   ]
  },
  {
   "cell_type": "markdown",
   "id": "265acdae-b2c9-4eb4-a0e0-03842cfc315a",
   "metadata": {},
   "source": [
    "# Queue\n",
    "\n",
    "- A queue is a data structure that follows the First-In-First-Out (FIFO) principle.\n",
    "- This means that the first element added to the queue will be the first one to be removed, just like a line of people waiting for a service, where the person at the front of the line gets served first.\n",
    "\n",
    "**Key Characteristics of a Queue:**\n",
    "1. FIFO Order: The first element added is the first one to be removed.\n",
    "\n",
    "**Operations:**\n",
    "\n",
    "1. Enqueue: Add an element to the back of the queue.\n",
    "2. Dequeue: Remove an element from the front of the queue.\n",
    "3. Peek/Front: View the element at the front of the queue without removing it.\n",
    "\n",
    "**Use Cases:**\n",
    "\n",
    "Queues are used in scenarios where order matters, such as:\n",
    "Task scheduling\n",
    "Managing requests in web servers\n",
    "Breadth-first search in graphs\n",
    "\n",
    "**Example in Python:**\n",
    "Python has a built-in deque (double-ended queue) from the collections module, which can be used as a queue:"
   ]
  },
  {
   "cell_type": "code",
   "execution_count": 1,
   "id": "acc89acf-d1ac-4811-b37e-1a1979ac8b48",
   "metadata": {},
   "outputs": [],
   "source": [
    "from collections import deque\n",
    "\n",
    "# Create a new queue\n",
    "queue = deque()\n",
    "\n",
    "# Enqueue elements\n",
    "queue.append('a')\n",
    "queue.append('b')\n",
    "queue.append('c')\n",
    "\n",
    "# Dequeue elements\n",
    "first_element = queue.popleft()  # 'a'\n",
    "second_element = queue.popleft()  # 'b'\n",
    "\n",
    "# Peek at the front element\n",
    "front_element = queue[0]  # 'c'"
   ]
  },
  {
   "cell_type": "markdown",
   "id": "c04df994-27c0-4e2b-a6d2-a247bae68aec",
   "metadata": {},
   "source": [
    "# Dictionary definition\n",
    "\n",
    "## dict1 = {} vs dict2 = defaultdict(value_type(can be int list etc))\n",
    "\n",
    "1. dict1 = {}\n",
    "- When you access a key that doesn't exist, it raises a KeyError\n",
    "\n",
    "2. dict2 = defaultdict()\n",
    "- When you access a key that doesn't exist, it automatically creates the key with a default value provided by the default_factory (defualtdict(default_factory))"
   ]
  },
  {
   "cell_type": "code",
   "execution_count": 9,
   "id": "9cfe9aa8-3231-4659-b129-bfd224ad23e9",
   "metadata": {},
   "outputs": [
    {
     "name": "stdout",
     "output_type": "stream",
     "text": [
      "1\n"
     ]
    },
    {
     "ename": "KeyError",
     "evalue": "'key2'",
     "output_type": "error",
     "traceback": [
      "\u001b[0;31m---------------------------------------------------------------------------\u001b[0m",
      "\u001b[0;31mKeyError\u001b[0m                                  Traceback (most recent call last)",
      "Cell \u001b[0;32mIn[9], line 6\u001b[0m\n\u001b[1;32m      4\u001b[0m dict1[\u001b[38;5;124m\"\u001b[39m\u001b[38;5;124mkey1\u001b[39m\u001b[38;5;124m\"\u001b[39m] \u001b[38;5;241m=\u001b[39m \u001b[38;5;241m1\u001b[39m\n\u001b[1;32m      5\u001b[0m \u001b[38;5;28mprint\u001b[39m(dict1[\u001b[38;5;124m\"\u001b[39m\u001b[38;5;124mkey1\u001b[39m\u001b[38;5;124m\"\u001b[39m])  \u001b[38;5;66;03m# Output 1\u001b[39;00m\n\u001b[0;32m----> 6\u001b[0m \u001b[38;5;28mprint\u001b[39m(\u001b[43mdict1\u001b[49m\u001b[43m[\u001b[49m\u001b[38;5;124;43m\"\u001b[39;49m\u001b[38;5;124;43mkey2\u001b[39;49m\u001b[38;5;124;43m\"\u001b[39;49m\u001b[43m]\u001b[49m)  \u001b[38;5;66;03m# key error beacuse key2 not defined\u001b[39;00m\n",
      "\u001b[0;31mKeyError\u001b[0m: 'key2'"
     ]
    }
   ],
   "source": [
    "from collections import defaultdict\n",
    "\n",
    "dict1 ={}\n",
    "dict1[\"key1\"] = 1\n",
    "print(dict1[\"key1\"])  # Output 1\n",
    "print(dict1[\"key2\"])  # key error beacuse key2 not defined"
   ]
  },
  {
   "cell_type": "code",
   "execution_count": 10,
   "id": "ffcf89c7-9378-40ac-9df2-9f24830e0854",
   "metadata": {},
   "outputs": [
    {
     "name": "stdout",
     "output_type": "stream",
     "text": [
      "1\n",
      "0\n"
     ]
    }
   ],
   "source": [
    "dict2 = defaultdict(int)  # default_factory is int here\n",
    "dict2[\"key1\"] = 1\n",
    "print(dict2[\"key1\"])  # Output 1\n",
    "print(dict2[\"key2\"])  # Outputs 0"
   ]
  },
  {
   "cell_type": "markdown",
   "id": "0d102a2f-dacf-40f9-8725-a309db8b5b59",
   "metadata": {},
   "source": [
    "## Sorting a Dictionary"
   ]
  },
  {
   "cell_type": "code",
   "execution_count": 13,
   "id": "4b48efea-7fed-4700-9478-82fa8bb903f2",
   "metadata": {},
   "outputs": [
    {
     "name": "stdout",
     "output_type": "stream",
     "text": [
      "[(1, 0.5147899259830341), (2, 0.5147899259830341), (3, 0.47331418859372887), (0, 0.38578114178754597), (4, 0.23360704386672448), (5, 0.1501486531300769), (6, 0.08355074577979703), (7, 0.08355074577979703), (8, 0.07284270783167102), (9, 0.02729231437283049)]\n"
     ]
    }
   ],
   "source": [
    "# let's say we have a dict\n",
    "d = {0: 0.38578114178754597, 1: 0.5147899259830341, 2: 0.5147899259830341, 3: 0.47331418859372887, \n",
    "     4: 0.23360704386672448, 5: 0.1501486531300769, 6: 0.08355074577979703, 7: 0.08355074577979703, \n",
    "     8: 0.07284270783167102, 9: 0.02729231437283049}\n",
    "\n",
    "# We want to sort it based on its d.values()\n",
    "\n",
    "sorted_d = sorted(d.items(), key= lambda i: i[1], reverse=True)\n",
    "\n",
    "# Here i[1] means d.values\n",
    "# So, dict will be sorted based on d.values()\n",
    "# reverse true ensures that it will sort from min->max\n",
    "\n",
    "print(sorted_d)"
   ]
  },
  {
   "cell_type": "markdown",
   "id": "ba5012fc-b81e-4dea-9107-aac27f778a7c",
   "metadata": {},
   "source": [
    "# BFS algorithm\n",
    "\n",
    "- BFS is a graph traversal algorithm used to explore nodes and edges in a graph systematically.\n",
    "\n",
    "- It is especially useful for finding the shortest path in unweighted graphs and for level-order traversal.\n",
    "\n",
    "1. Starting Point: Begin traversal from a chosen starting node (or vertex).\n",
    "\n",
    "2. Queue Utilization: Use a queue data structure to keep track of nodes to be explored. The queue ensures that nodes are explored in the order they are discovered.\n",
    "\n",
    "3. Visited Nodes Tracking: Maintain a list or set to keep track of nodes that have been visited. This prevents processing the same node multiple times, avoiding infinite loops in cyclic graphs.\n",
    "\n",
    "4. Level-wise Processing: Dequeue a node from the front of the queue. Explore all its unvisited neighbors and enqueue them for further exploration. Process each node level-by-level, ensuring that all nodes at the current level are explored before moving to the next level.\n",
    "\n",
    "5. Repeat Until Completion: Continue the process until the queue is empty, meaning all reachable nodes have been visited."
   ]
  },
  {
   "cell_type": "raw",
   "id": "eabbbdc6-88b3-4c36-9cf0-a6101dc474a2",
   "metadata": {},
   "source": [
    "# Example network\n",
    "\n",
    "A -- B -- D\n",
    "|    \n",
    "C"
   ]
  },
  {
   "cell_type": "markdown",
   "id": "27fd204f-1dc3-4195-9cb9-794926183ce4",
   "metadata": {},
   "source": [
    "- Step 1: Start at node A, mark it as visited, and enqueue it.\n",
    "> - queue = [A]\n",
    "\n",
    "- Step 2: Dequeue A, explore its neighbors (B and C), mark them as visited, and enqueue them.\n",
    "> - queue = [B, C] (A out)\n",
    "\n",
    "- Step 3: Dequeue B, explore its unvisited neighbor (D), mark D as visited, and enqueue it.\n",
    "> - queue = [C, D] (B out)\n",
    "\n",
    "- Step 4: Dequeue C (no new neighbors to explore).\n",
    "> - queue = [D] (C out)\n",
    "\n",
    "- Step 5: Dequeue D (no new neighbors to explore).\n",
    "  > - queue = [ ] (D out)\n",
    "\n",
    "- Step 6: The queue is now empty, and all reachable nodes have been visited.\n"
   ]
  },
  {
   "cell_type": "markdown",
   "id": "e3189c27-2a3b-4217-a5c8-1c431ce87af9",
   "metadata": {},
   "source": [
    "# float('inf') \n",
    "\n",
    "- It is used to initialize a variable min_path_length with a value representing positive infinity.\n",
    "- Here’s what it means and why it's used:\n",
    "\n",
    "1. Positive Infinity: float('inf') creates a floating-point number representing positive infinity.\n",
    "   - This value is greater than any other numerical value.\n",
    "   - It's useful in algorithms where you need to compare or find the minimum value.\n",
    "\n",
    "2. Initialization:\n",
    "   - When you set min_path_length = float('inf'), you’re initializing min_path_length to the largest possible value.\n",
    "   - This ensures that any valid path length found later will be smaller and thus will update this variable."
   ]
  },
  {
   "cell_type": "markdown",
   "id": "08b87f07-0036-44fd-8d3b-0d9dbab8f599",
   "metadata": {},
   "source": [
    "# dict.get()\n",
    "\n",
    ".get(key, default_value): \n",
    "- This method is used to access the value associated with key in the dictionary. If the key is not found, it returns default_value.\n",
    "\n"
   ]
  },
  {
   "cell_type": "markdown",
   "id": "db1ae2ba-59e8-460d-b423-057c5f1234b6",
   "metadata": {},
   "source": [
    "# Eigen value and Eigen vector\n",
    "\n",
    "- When A is a square matrix, and it operates on a vector v.\n",
    "- And when the resulted vector also points in the same direction as v (i.e. we get some scalar multiplication of v as result).\n",
    "- Then we call that vector v ***eigenvector*.**\n",
    "- And that scalar multiplier is called ***eigenvalue***  \n",
    "\n",
    "- Mathematically,\n",
    "  $$ A \\cdot v = \\lambda . v $$\n",
    "  here, $v$ is eigenvector and $\\lambda$ is eigenvalue\n",
    "\n",
    "1. **Matrix and Vector:**\n",
    "   - Consider a matrix $(A)$ of size $(n \\times n)$.\n",
    "   - Let $(v)$ be a non-zero vector of size $(n \\times 1)$.\n",
    "\n",
    "2. **Eigenvector and Eigenvalue Equation:**\n",
    "   $\n",
    "   A \\cdot v = \\lambda \\cdot v\n",
    "   $\n",
    "\n",
    "3. **Finding Eigenvalues:**\n",
    "   - Solve the characteristic equation:\n",
    "     $[\n",
    "     \\text{det}(A - \\lambda I) = 0\n",
    "     ]$\n",
    "\n",
    "4. **Finding Eigenvectors:**\n",
    "   - Substitute eigenvalues into:\n",
    "     $[\n",
    "     (A - \\lambda I) \\cdot v = 0\n",
    "     ]$\n",
    "\n",
    "**Example**\n",
    "\n",
    "1. Given Matrix\n",
    "$\n",
    "A = \\begin{bmatrix} 4 & 1 \\\\ 2 & 3 \\end{bmatrix}\n",
    "$\n",
    "\n",
    "2. Finding Eigenvalues\n",
    "- Solve $(\\text{det}(A - \\lambda I) = 0)$:\n",
    "  $[\n",
    "  \\text{det}\\left(\\begin{bmatrix} 4 - \\lambda & 1 \\\\ 2 & 3 - \\lambda \\end{bmatrix}\\right) = (\\lambda^2 - 7\\lambda + 10) = 0\n",
    "  ]$\n",
    "- Roots are $(\\lambda = 5)$ and $(\\lambda = 2)$.\n",
    "\n",
    "3. Finding Eigenvectors\n",
    "\n",
    "-  For $(\\lambda = 5)$\n",
    "- Solve:\n",
    "  $[\n",
    "  \\begin{bmatrix} -1 & 1 \\\\ 2 & -2 \\end{bmatrix} \\cdot \\begin{bmatrix} x \\\\ y \\end{bmatrix} = \\begin{bmatrix} 0 \\\\ 0 \\end{bmatrix}\n",
    "  ]$\n",
    "- Simplify to find $x$ and $y$.\n",
    "\n",
    "- Eigenvector:\n",
    "  $[\n",
    "  v = \\begin{bmatrix} 1 \\\\ 1 \\end{bmatrix}\n",
    "  ]$\n",
    "\n"
   ]
  },
  {
   "cell_type": "markdown",
   "id": "079498fa-ae2a-4e93-b389-19d053af8872",
   "metadata": {},
   "source": [
    "## Power Iteration \n",
    "\n",
    "Concept\n",
    "\n",
    "Power Iteration is a method to approximate the dominant eigenvector of a matrix \\( A \\). This method helps find the eigenvector associated with the largest eigenvalue.\n",
    "\n",
    "\n",
    "1. **Initial Vector Direction**:\n",
    "   - Start with an initial vector \\( v \\). This vector points in some direction in the vector space.\n",
    "\n",
    "2. **Matrix Transformation**:\n",
    "   - Multiply the matrix \\( A \\) with the vector \\( v \\). This transformation changes the vector's direction and magnitude.\n",
    "   - Matrix \\( A \\) acts as a linear transformation, stretching, shrinking, or rotating the vector.\n",
    "\n",
    "3. **Dominant Eigenvector**:\n",
    "   - The dominant eigenvector is associated with the largest eigenvalue of the matrix \\( A \\). It represents the direction where the transformation \\( A \\) has the maximum stretching effect.\n",
    "\n",
    "4. **Iteration Process**:\n",
    "   - **Multiply**: Each iteration involves multiplying the current vector by the matrix \\( A \\), making the vector more aligned with the dominant eigenvector.\n",
    "   - **Normalize**: Normalize the vector to focus on direction, preventing it from becoming too large or too small.\n",
    "\n",
    "**Convergence with Angles**\n",
    "\n",
    "- **Initial Angle**: The angle between the initial vector \\( v \\) and the dominant eigenvector may be large.\n",
    "- **Iteration**: With each iteration, the angle between the transformed vector and the dominant eigenvector decreases. The vector gradually aligns with the direction of the dominant eigenvector.\n",
    "- **Final Alignment**: After sufficient iterations, the vector aligns closely with the dominant eigenvector, illustrating convergence.\n",
    "\n",
    "**Physical Analogy**\n",
    "\n",
    "Imagine you are in a boat on a river:\n",
    "\n",
    "- **Initial Heading**: Your initial direction (the vector) might not align with the flow of the river.\n",
    "- **Matrix Transformation**: The current (matrix \\( A \\)) pushes you, changing your direction.\n",
    "- **Iteration**: With each push (iteration), you adjust your heading to better align with the flow.\n",
    "- **Convergence**: Eventually, you are moving in the same direction as the river's flow (the dominant eigenvector), despite your initial direction.\n",
    "\n",
    "**Summary**\n",
    "\n",
    "The power iteration method works by iteratively transforming and normalizing a vector, progressively aligning it with the direction of the dominant eigenvector. The process reduces the angle between the vector and the eigenvector, demonstrating convergence to the dominant direction.\n"
   ]
  },
  {
   "cell_type": "markdown",
   "id": "8b294a8c-0bfc-4c4d-9a2d-63c611e3be82",
   "metadata": {},
   "source": [
    "# `__annotations__`\n",
    "\n",
    "In Python, __annotations__ is a special attribute that stores type annotations for a function's parameters and return value. When you define a function and use type hints to specify the expected types of its arguments and return type, these hints are stored in the function's __annotations__ attribute as a dictionary.\n",
    "\n",
    "**How __annotations__ Works**\n",
    "When you define a function with type hints, like this:\n"
   ]
  },
  {
   "cell_type": "code",
   "execution_count": 2,
   "id": "77771001-8f80-4fc9-afbe-0b088994aeef",
   "metadata": {},
   "outputs": [
    {
     "data": {
      "text/plain": [
       "{'a': int, 'b': int, 'return': int}"
      ]
     },
     "execution_count": 2,
     "metadata": {},
     "output_type": "execute_result"
    }
   ],
   "source": [
    "def add(a: int, b: int) -> int:\n",
    "    return a + b\n",
    "\n",
    "add.__annotations__ # Output: {'a': <class 'int'>, 'b': <class 'int'>, 'return': <class 'int'>}\n",
    "\n"
   ]
  },
  {
   "cell_type": "markdown",
   "id": "fc83cc2a-f738-41d0-8c55-aade13fbddbf",
   "metadata": {},
   "source": [
    "**Why Use `__annotations__`**\n",
    "\n",
    "1. Type Safety: Using annotations helps ensure that the functions used for computing new columns return the expected types.\n",
    "\n",
    "2. Readability: Type annotations make it clear what types are expected and returned by functions, improving code readability.\n",
    "\n",
    "3. Automatic Type Handling: By extracting the return type annotations, the code can automatically determine the types of new columns without additional input.\n",
    "\n",
    "This approach allows the select method to dynamically handle additional columns by understanding the types of values that the provided functions are expected to return."
   ]
  },
  {
   "cell_type": "code",
   "execution_count": null,
   "id": "d5465cb8-dfbd-49d2-a70c-6e80b6b31335",
   "metadata": {},
   "outputs": [],
   "source": []
  }
 ],
 "metadata": {
  "kernelspec": {
   "display_name": "Python 3 (ipykernel)",
   "language": "python",
   "name": "python3"
  },
  "language_info": {
   "codemirror_mode": {
    "name": "ipython",
    "version": 3
   },
   "file_extension": ".py",
   "mimetype": "text/x-python",
   "name": "python",
   "nbconvert_exporter": "python",
   "pygments_lexer": "ipython3",
   "version": "3.11.5"
  }
 },
 "nbformat": 4,
 "nbformat_minor": 5
}
