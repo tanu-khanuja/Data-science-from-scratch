{
 "cells": [
  {
   "attachments": {},
   "cell_type": "markdown",
   "id": "7405a000-c999-4442-8ce7-b51917e7f075",
   "metadata": {},
   "source": [
    "# 1. What is a Decision Tree?\n",
    "\n",
    "- It is a tree structure that represents possible decision paths and an outcome for each path\n",
    "- Commonly used for <u>Classification and Regression tasks </u> both\n",
    "\n",
    "## (a) Example: \n",
    "- Consider a very idiosyncratic(not very comprehensive) \"Guess the Animal\" decision tree:\n",
    "  > “I am thinking of an animal.”  \n",
    "  > “Does it have more than five legs?”  \n",
    "  > “No.”  \n",
    "  > “Is it delicious?”  \n",
    "  > “No.”  \n",
    "  > “Does it appear on the back of the Australian five-cent coin?”  \n",
    "  > “Yes.”  \n",
    "  > “Is it an echidna?”  \n",
    "  > “Yes, it is!”  \n",
    "\n",
    "- This corresponds to the path:\n",
    "  > “Not more than 5 legs” → “Not delicious” → “On the 5-cent coin” → “Echidna!”\r\n",
    "\n",
    "## (b) Key Features of Decision Trees:\n",
    "1. Easy to understand and explain. Very clear thus excellent for communicating with non-experts. (thus Interpretable)\n",
    "\n",
    "2. They can manage both numeric and categorical data. For example, \"number of legs\" is numeric, while \"delicious/not delicious\" is categorical. (thus Flexible)\n",
    "\n",
    "3. They can classify data even if some attributes are missing, offering flexibility in data processing.\n",
    "\n",
    "## (c) Challenges with Decision Trees\n",
    "1. Finding an optimal decision tree for a dataset is computationally difficult. Thus, we will focus on good-enough one, not optimal.\n",
    "\n",
    "2. It is very easy (and very bad) to build decision trees that are overfitted to the training data, and that don’t generalize well to unseen data.\n",
    "   > Methods like pruning and limiting tree depth help mitigate this risk.\n",
    "\n",
    "## (d) Types of Decision Trees\n",
    "1. Classification Trees: These trees produce categorical outputs. For example, deciding whether an animal is an echidna or a platypus.\n",
    "\n",
    "2. Regression Trees: These trees predict numeric outputs, such as estimating the price of a house based on various features.\n",
    "\n",
    "We will Focus on Classification Trees, with an emphasis on binary outputs, such as:\n",
    "\n",
    "- \"Should I hire this candidate?\"\n",
    "- \"Should I show this website visitor advertisement A or B?\"\n",
    "- \"Will eating this food from the office fridge make me sick?\"\n",
    "\n",
    "## (e) ID3 Algorithm\n",
    "- The chapter introduces the ID3 algorithm for learning a decision tree from labeled data.\n",
    "- This algorithm uses entropy and information gain to determine the best questions to ask at each node, leading to a structured and efficient decision tree\n",
    "\n",
    "## (f) DT Nomenclature\n",
    "![image](DT_fig.png).\n"
   ]
  },
  {
   "cell_type": "markdown",
   "id": "2c0ad399-0579-4f60-afe3-c806d8288806",
   "metadata": {},
   "source": [
    "# 2. Entropy\n",
    "\n",
    "> - Entropy is a measure of <u>uncertainty or disorder in a dataset </u>   \n",
    "> - It helps <u>determine the best questions</u> to ask to split the data in a way  <u>that reduces uncertainty</u>\n",
    "\n",
    "## What's a Best Question?\n",
    "> - Decision trees are structures that represent a series of decision points\n",
    "> - With each Decision point/Question splitting the data into smaller subsets\n",
    "> - At each stage, some possibilities are eliminated, while others remain\n",
    "> - To build an effective decision tree, we need to decide - 'questions' and 'their order'\n",
    "> -  Ideally, we want questions that maximize information gain and reduce uncertainty about the final outcome  \n",
    "\n",
    "Choose best question:\n",
    "> 1. High Information Gain questions: If a question perfectly separates data into distinct classes (Good question)\n",
    "> 2. Low Information Gain: It it doesn't provide much new information or doesn't help distinguish between classes is likely not a good choice\n",
    "\n",
    "## Finding Entropy H(S)\n",
    "1. Dataset: $S = [(input, label)]$\n",
    "2. Classes: labels $C_1, C_2, ... C_n$\n",
    "3. Mathematically Entropy is,\n",
    "   $$ H(S) = -p_1.log_2(p_1) - ... - p_n . log_2(p_n)$$\n",
    "   - $p_i$ is proportion of data labled as $C_i$\n",
    "   - with the (standard) convention that 0 log 0 = 0.\n",
    "5. (Entropy) $\\alpha$ (Uncertainity)\n",
    "   > - Low Entropy: If all data points <u>belong to a single class</u>, there's no uncertainty, leading to low entropy.\n",
    "   > - High Entropy: If data points are <u>evenly spread across multiple classes</u>, there's high uncertainty, resulting\n",
    "   >   in high entropy.\n",
    "6. $- p_n . log_2(p_n)$ is always positive because $0<p_i<1$\n",
    "7. Entropy H(S) can be greater than 1. Depends on number of classes and distribution of class probabilities\n",
    "   > - For two classes we will see max Entropy less than 1  \n",
    "   > - For more than two classes it exceeds 1\n",
    "9. Let's plot  $- p . log_2(p)$ vs $p$ and see:"
   ]
  },
  {
   "cell_type": "markdown",
   "id": "cb16ed6d-f521-4f4c-8340-e73a93b09f61",
   "metadata": {},
   "source": [
    "## Plotting Entropy"
   ]
  },
  {
   "cell_type": "code",
   "execution_count": 33,
   "id": "783b49f3-12f5-47a9-a918-72dad99a635b",
   "metadata": {},
   "outputs": [
    {
     "data": {
      "image/png": "[encoded data removed]",
      "text/plain": [
       "<Figure size 640x480 with 1 Axes>"
      ]
     },
     "metadata": {},
     "output_type": "display_data"
    }
   ],
   "source": [
    "from matplotlib import pyplot as plt\n",
    "import math\n",
    "\n",
    "xs = [x/100 for x in range(1,101)] # class probabilities\n",
    "ys = [(-p * math.log2(p)) for p in xs \n",
    "      if p >0]\n",
    "xs = [0] + xs \n",
    "ys = [0] + ys\n",
    "\n",
    "plt.xlim(0, 1)\n",
    "plt.ylim(0, 0.6)\n",
    "plt.xlabel('p')\n",
    "plt.ylabel('-p log(p)')\n",
    "plt.plot(xs, ys)\n",
    "plt.show()\n"
   ]
  },
  {
   "cell_type": "markdown",
   "id": "c519bcf3-bfe9-43bc-9da2-b41def92efb0",
   "metadata": {},
   "source": [
    "## Code for finding Entropy of dataset\n",
    "- To find data Entropy we will follow these steps:\n",
    "> 1. Define common entropy function of a List of possibility ($p$)\n",
    "> 2. Find probability ($p$) of each class from dataset\n",
    "> 4. Find entropy of full dataset using 1."
   ]
  },
  {
   "cell_type": "code",
   "execution_count": 34,
   "id": "c4639f5c-3899-422a-b0d0-1dc7d5c83fbb",
   "metadata": {},
   "outputs": [],
   "source": [
    "from typing import List\n",
    "import math\n",
    "\n",
    "def entropy(class_probabilities: List[float]) -> float:\n",
    "    \"\"\"\n",
    "    Given a list of class probabilities, compute the entropy\n",
    "    \"\"\"\n",
    "    return sum(-p * math.log2(p) \n",
    "               for p in class_probabilities\n",
    "               if p > 0\n",
    "              )\n",
    "\n",
    "assert entropy([0.5, 0.5]) == 1  # evenly distributed data among two classes has high entropy/uncertainity\n",
    "assert entropy([1, 0]) == 0      # one class has all data thus entropy is minimum\n",
    "assert 0.81 < entropy([0.25, 0.75]) < 0.82 # less entropy than evenly distributed dataset amond two classes"
   ]
  },
  {
   "cell_type": "markdown",
   "id": "ba2bcd1b-830c-4f2c-89bf-a47c500bdebb",
   "metadata": {},
   "source": [
    "We find:\n",
    "> 1. More evenly the data is distributed : More is uncertainity/Entropy\n",
    "> 2. More certain the data is in one class : Less Entropy\n",
    "\n",
    "Now, Let's apply to our data format,   \n",
    "$$dataset = [(input, label)]$$ \n",
    "$$ S = List[label] = [S_1, S_2,..., S_n]$$"
   ]
  },
  {
   "cell_type": "code",
   "execution_count": 35,
   "id": "42495bd0-511a-42d0-9878-91970c310b7b",
   "metadata": {},
   "outputs": [],
   "source": [
    "from typing import Any\n",
    "from collections import Counter\n",
    "\n",
    "def class_probabilities(labels: List[Any]) -> List[float]:\n",
    "    \"\"\" \n",
    "    Probability of each class in list of label\n",
    "    \"\"\"\n",
    "    total_counts = len(labels)\n",
    "    return[counts/total_counts \n",
    "           for counts in Counter(labels).values()]\n",
    "\n",
    "def data_entropy(labels: List[Any]) -> float:\n",
    "    return entropy(class_probabilities(labels))\n",
    "\n",
    "assert data_entropy(['a']) == 0   # Only one label means highly certain dataset\n",
    "assert data_entropy([True, False]) == 1 # Two evenly distributed dataset means highly uncertain dataset\n",
    "assert data_entropy([3, 4, 4, 4]) == entropy([0.25, 0.75]) # Medium entropy"
   ]
  },
  {
   "cell_type": "markdown",
   "id": "f16a065e-8297-4bb8-a98e-0e5d8f937324",
   "metadata": {},
   "source": [
    "# 3. Entropy of a Partition\n",
    "\n",
    "- Partitioning is the process of <u>splitting a dataset into subsets</u>\n",
    "- In decision trees, <u>each question creates a new partition</u>, resulting in subsets of the data\n",
    "- Our Goal is to find questions that <u>create subsets with low entropy</u>\n",
    "- Means they lead to a more definitive answer or prediction\n",
    "\n",
    "## (a) Calculate Partition Entropy\n",
    "$$\n",
    "H = q_1 \\cdot H(S_1) + \\ldots + q_m \\cdot H(S_m)\n",
    "$$\n",
    "\n",
    "Where:\n",
    "\n",
    "- $q_i$ is the proportion of the data in subset $S_i$ i.e. $$q_i = \\frac{len(subset)}{len(dataset)}$$\n",
    "- $H(S_i)$ is the entropy of subset $S_i$.\n",
    "\n",
    "- If the partition is good\n",
    "> - The weighted sum of the partition entropy should be less than the total entropy of dataset\n",
    "> - Indicating that the partition has reduced uncertainty in the data\n",
    "> - This reduction in uncertainty is what drives the decision-making process in a decision tree\n",
    "\n",
    "- If the weighted sum of the partition entropy were the same as the total entropy\n",
    "> - It would mean that the partition did not reduce uncertainty\n",
    "> - Indicating that the split was ineffective in distinguishing between classes\n",
    "> - This situation would suggest poor partitioning, where the original uncertainty remains after the split\n",
    "\n",
    "## (b) Overfitting in DT with partitioning\n",
    "\n",
    "- When an attribute has a large number of unique values partitioning by that attribute will lead to subsets with very low entropy (high certainty)\n",
    "- Model will rely too heavily on specific details in the training set that are not broadly applicable\n",
    "\n",
    "Example: Social Security Number (SSN)\n",
    "> - Consider a scenario where you're building a decision tree for a bank to predict which customers are likely to default on their mortgages\n",
    "> - If the dataset includes each customer's Social Security number (SSN), partitioning on SSN would create one-person subsets, each with zero entropy\n",
    "> - This means the partition is highly specific to the training data and doesn't generalize to other datasets\n",
    "\n",
    "- Therefore, we should probably try to avoid (or bucket) attributes with large numbers of possible values when creating decision trees.\n"
   ]
  },
  {
   "cell_type": "markdown",
   "id": "6ba0dad3-64f5-46be-a591-e4196365e057",
   "metadata": {},
   "source": [
    "## (c) Code for Partition Entropy"
   ]
  },
  {
   "cell_type": "code",
   "execution_count": 36,
   "id": "2e8a966c-cdc0-458a-a038-a9287524a43c",
   "metadata": {},
   "outputs": [],
   "source": [
    "def partition_entropy(subsets: List[List[Any]]) -> float:\n",
    "    \"\"\"\n",
    "    Returns the entropy from this partition of data into subsets\n",
    "    \"\"\"\n",
    "    total_count = sum(len(subset) for subset in subsets)\n",
    "    return sum(data_entropy(subset) * len(subset) / total_count for subset in subsets)"
   ]
  },
  {
   "cell_type": "markdown",
   "id": "434f09bb-7d81-43c3-b15d-0237cba35035",
   "metadata": {},
   "source": [
    "# 4. Creating a Decision Tree"
   ]
  },
  {
   "cell_type": "markdown",
   "id": "f78d6275-ddbb-4b18-90ba-24696f7a324c",
   "metadata": {},
   "source": [
    "- We will build a decision tree to <u>determine if candidates interviewed well based on various attributes</u>.\n",
    "- The key to creating an effective tree is - choose the best questions to split the data, minimizing uncertainty (entropy) at each step\n",
    "\n",
    "## (a) Candidate Data attributes:\n",
    "> - Attribute 1: Level: Senior, Mid, Junior \n",
    "> - Attribute 2: Preferred Language: Java, Python, R\n",
    "> - Attribute 3: Tweets: Whether they are active on Twitter\n",
    "> - Attribute 4: PhD: Whether they hold a PhD\n",
    "> - Label: Did Well: Whether they interviewed well (target variable)\n",
    "\n"
   ]
  },
  {
   "cell_type": "code",
   "execution_count": 37,
   "id": "057df89d-6581-4ee5-bf55-2feb237130f3",
   "metadata": {},
   "outputs": [],
   "source": [
    "# Define a class for attributes\n",
    "from typing import Optional, NamedTuple\n",
    "\n",
    "class Candidate(NamedTuple):\n",
    "    level:str\n",
    "    lang: str\n",
    "    tweets: bool\n",
    "    phd: bool\n",
    "    did_well: Optional[bool] = None # means it can be either boolean or missing/none\n",
    "\n",
    "# level lang tweets phd did_well\n",
    "inputs = [Candidate('Senior', 'Java', False, False, False),\n",
    "Candidate('Senior', 'Java', False, True, False),\n",
    "Candidate('Mid', 'Python', False, False, True),\n",
    "Candidate('Junior', 'Python', False, False, True),\n",
    "Candidate('Junior', 'R', True, False, True),\n",
    "Candidate('Junior', 'R', True, True, False),\n",
    "Candidate('Mid', 'R', True, True, True),\n",
    "Candidate('Senior', 'Python', False, False, False),\n",
    "Candidate('Senior', 'R', True, False, True),\n",
    "Candidate('Junior', 'Python', True, False, True),\n",
    "Candidate('Senior', 'Python', True, True, True),\n",
    "Candidate('Mid', 'Python', False, True, True),\n",
    "Candidate('Mid', 'Java', True, False, True),\n",
    "Candidate('Junior', 'Python', False, True, False)\n",
    "]"
   ]
  },
  {
   "cell_type": "markdown",
   "id": "d2bb8a20-a722-4dba-a935-e8d975538a50",
   "metadata": {},
   "source": [
    "## (b) ID3 Algorithm - Greedy algorithm\n",
    "1. Calculate entropy of full dataset on label did_well\n",
    "   > - If all instances have the same label True/False, the entropy will be 0\n",
    "   > - And create a leaf node (end node) that predicts the label and stop.\n",
    "\n",
    "2. Check if there are no more attributes to split on\n",
    "   > - Create leaf node with most common value for did_well label i.e. True or False and stop.\n",
    "\n",
    "3. Now, if attributes are there to be splitted\n",
    "   > - Partition data based on each attribute\n",
    "   > - Calculate partition entropy of each attribute on label\n",
    "   > - Choose the attribute with lowest Entropy  \n",
    "   >   As it will have lowest uncertainty and be most useful split.\n",
    "   > - Name the decision node of chosen attribute\n",
    "\n",
    "4. Recursively build the tree\n",
    "   > - Apply same ID3 algorithm to each subset again\n",
    "\n",
    "\n",
    "- This is what’s known as a “greedy” algorithm because,\n",
    "> - At each step, it chooses the most immediately best option.\n",
    "> - Given a dataset, there may be a better tree with a worse-looking first move.\n",
    "> - If so, this algorithm won’t find it.\n",
    "> - Nonetheless, it is relatively easy to understand and implement, which makes it a good place to begin exploring decision trees.\n",
    "   "
   ]
  },
  {
   "cell_type": "code",
   "execution_count": 38,
   "id": "31df6e65-8887-444a-aa58-43432247cc73",
   "metadata": {},
   "outputs": [
    {
     "name": "stdout",
     "output_type": "stream",
     "text": [
      "partition by Level: defaultdict(<class 'list'>, {'Senior': [Candidate(level='Senior', lang='Java', tweets=False, phd=False, did_well=False), Candidate(level='Senior', lang='Java', tweets=False, phd=True, did_well=False), Candidate(level='Senior', lang='Python', tweets=False, phd=False, did_well=False), Candidate(level='Senior', lang='R', tweets=True, phd=False, did_well=True), Candidate(level='Senior', lang='Python', tweets=True, phd=True, did_well=True)], 'Mid': [Candidate(level='Mid', lang='Python', tweets=False, phd=False, did_well=True), Candidate(level='Mid', lang='R', tweets=True, phd=True, did_well=True), Candidate(level='Mid', lang='Python', tweets=False, phd=True, did_well=True), Candidate(level='Mid', lang='Java', tweets=True, phd=False, did_well=True)], 'Junior': [Candidate(level='Junior', lang='Python', tweets=False, phd=False, did_well=True), Candidate(level='Junior', lang='R', tweets=True, phd=False, did_well=True), Candidate(level='Junior', lang='R', tweets=True, phd=True, did_well=False), Candidate(level='Junior', lang='Python', tweets=True, phd=False, did_well=True), Candidate(level='Junior', lang='Python', tweets=False, phd=True, did_well=False)]})\n",
      "partition by language: defaultdict(<class 'list'>, {'Java': [Candidate(level='Senior', lang='Java', tweets=False, phd=False, did_well=False), Candidate(level='Senior', lang='Java', tweets=False, phd=True, did_well=False), Candidate(level='Mid', lang='Java', tweets=True, phd=False, did_well=True)], 'Python': [Candidate(level='Mid', lang='Python', tweets=False, phd=False, did_well=True), Candidate(level='Junior', lang='Python', tweets=False, phd=False, did_well=True), Candidate(level='Senior', lang='Python', tweets=False, phd=False, did_well=False), Candidate(level='Junior', lang='Python', tweets=True, phd=False, did_well=True), Candidate(level='Senior', lang='Python', tweets=True, phd=True, did_well=True), Candidate(level='Mid', lang='Python', tweets=False, phd=True, did_well=True), Candidate(level='Junior', lang='Python', tweets=False, phd=True, did_well=False)], 'R': [Candidate(level='Junior', lang='R', tweets=True, phd=False, did_well=True), Candidate(level='Junior', lang='R', tweets=True, phd=True, did_well=False), Candidate(level='Mid', lang='R', tweets=True, phd=True, did_well=True), Candidate(level='Senior', lang='R', tweets=True, phd=False, did_well=True)]})\n",
      "partition by tweets: defaultdict(<class 'list'>, {False: [Candidate(level='Senior', lang='Java', tweets=False, phd=False, did_well=False), Candidate(level='Senior', lang='Java', tweets=False, phd=True, did_well=False), Candidate(level='Mid', lang='Python', tweets=False, phd=False, did_well=True), Candidate(level='Junior', lang='Python', tweets=False, phd=False, did_well=True), Candidate(level='Senior', lang='Python', tweets=False, phd=False, did_well=False), Candidate(level='Mid', lang='Python', tweets=False, phd=True, did_well=True), Candidate(level='Junior', lang='Python', tweets=False, phd=True, did_well=False)], True: [Candidate(level='Junior', lang='R', tweets=True, phd=False, did_well=True), Candidate(level='Junior', lang='R', tweets=True, phd=True, did_well=False), Candidate(level='Mid', lang='R', tweets=True, phd=True, did_well=True), Candidate(level='Senior', lang='R', tweets=True, phd=False, did_well=True), Candidate(level='Junior', lang='Python', tweets=True, phd=False, did_well=True), Candidate(level='Senior', lang='Python', tweets=True, phd=True, did_well=True), Candidate(level='Mid', lang='Java', tweets=True, phd=False, did_well=True)]})\n",
      "partition by phd: defaultdict(<class 'list'>, {False: [Candidate(level='Senior', lang='Java', tweets=False, phd=False, did_well=False), Candidate(level='Mid', lang='Python', tweets=False, phd=False, did_well=True), Candidate(level='Junior', lang='Python', tweets=False, phd=False, did_well=True), Candidate(level='Junior', lang='R', tweets=True, phd=False, did_well=True), Candidate(level='Senior', lang='Python', tweets=False, phd=False, did_well=False), Candidate(level='Senior', lang='R', tweets=True, phd=False, did_well=True), Candidate(level='Junior', lang='Python', tweets=True, phd=False, did_well=True), Candidate(level='Mid', lang='Java', tweets=True, phd=False, did_well=True)], True: [Candidate(level='Senior', lang='Java', tweets=False, phd=True, did_well=False), Candidate(level='Junior', lang='R', tweets=True, phd=True, did_well=False), Candidate(level='Mid', lang='R', tweets=True, phd=True, did_well=True), Candidate(level='Senior', lang='Python', tweets=True, phd=True, did_well=True), Candidate(level='Mid', lang='Python', tweets=False, phd=True, did_well=True), Candidate(level='Junior', lang='Python', tweets=False, phd=True, did_well=False)]})\n"
     ]
    }
   ],
   "source": [
    "from typing import Dict, TypeVar\n",
    "from collections import defaultdict\n",
    "T = TypeVar('T') # generic type for inputs\n",
    "def partition_by(inputs: List[T], attribute: str) -> Dict[Any, List[T]]:\n",
    "    \"\"\"\n",
    "    Partition the inputs into lists based on the specified attribute.\n",
    "    \"\"\"\n",
    "    partitions: Dict[Any, List[T]] = defaultdict(list)\n",
    "    for input in inputs:\n",
    "        key = getattr(input, attribute) # value of the specified attribute\n",
    "        partitions[key].append(input) # add input to the correct partition\n",
    "    return partitions\n",
    "\n",
    "#let's see how it will work\n",
    "print(f\"partition by Level: {partition_by(inputs, 'level')}\")\n",
    "print(f\"partition by language: {partition_by(inputs, 'lang')}\")\n",
    "print(f\"partition by tweets: {partition_by(inputs, 'tweets')}\")\n",
    "print(f\"partition by phd: {partition_by(inputs, 'phd')}\")"
   ]
  },
  {
   "cell_type": "code",
   "execution_count": 39,
   "id": "80f04817-592e-437f-bcf5-7b2e285c0d13",
   "metadata": {},
   "outputs": [],
   "source": [
    "def partition_entropy_by(inputs: List[Any],\n",
    "                         attribute: str,\n",
    "                         label_attribute: str) -> float:\n",
    "    \"\"\"\n",
    "    Compute the partition entropy corresponding to the given partition\n",
    "    \"\"\"\n",
    "    # partitions consist of our inputs\n",
    "    partitions: dict[Any, List[T]] = partition_by(inputs, attribute)  # get all dataset partitioned under 'attribute' \n",
    "    \n",
    "    # but partition_entropy needs just the class labels \n",
    "    labels = [[getattr(input, label_attribute) for input in partition]\n",
    "              for partition in partitions.values()]\n",
    "    return partition_entropy(labels)"
   ]
  },
  {
   "cell_type": "code",
   "execution_count": 40,
   "id": "09bd517f-863e-44df-b139-c264038bf6c2",
   "metadata": {},
   "outputs": [
    {
     "data": {
      "text/plain": [
       "0.6935361388961919"
      ]
     },
     "execution_count": 40,
     "metadata": {},
     "output_type": "execute_result"
    }
   ],
   "source": [
    "partition_entropy_by(inputs, attribute='level', label_attribute='did_well')"
   ]
  },
  {
   "cell_type": "code",
   "execution_count": 41,
   "id": "17247f6e-15df-45a7-b1e0-c78f530e6eb1",
   "metadata": {},
   "outputs": [
    {
     "name": "stdout",
     "output_type": "stream",
     "text": [
      "Partition entropy for level 0.6935361388961919\n",
      "Partition entropy for lang 0.8601317128547441\n",
      "Partition entropy for tweets 0.7884504573082896\n",
      "Partition entropy for phd 0.8921589282623617\n"
     ]
    }
   ],
   "source": [
    "# Find minimum entropy partition \n",
    "\n",
    "for attribute in ['level', 'lang', 'tweets', 'phd']:\n",
    "    print(f\"Partition entropy for {attribute} {partition_entropy_by(inputs, attribute, label_attribute='did_well')}\")"
   ]
  },
  {
   "cell_type": "markdown",
   "id": "2861fdce-64b9-4c86-94a0-a614d95f2c3b",
   "metadata": {},
   "source": [
    "- 'Level' partition has minimum entropy\n",
    "- Make subtree for each possible 'level'\n",
    "- For every 'Mid' candidate\n",
    "> - did_well = True\n",
    "- For 'Senior' candidate ->\n",
    "> - Some 'True' some 'False'\n",
    "> - So, we need to find subtree under it again\n",
    "> - Find minimum entropy partition among 'lang', 'tweets', 'phd'"
   ]
  },
  {
   "cell_type": "raw",
   "id": "22a67917-3811-48f5-b7ff-32f97a97fab9",
   "metadata": {},
   "source": [
    "senior_inputs = [input for input in inputs if input.level == 'Senior']\n",
    "for attribute in ['lang', 'tweets', 'phd']:\n",
    "    print(f\"Entropy for {attribute} in Senior {partition_entropy_by(senior_inputs, attribute, 'did_well')}\")"
   ]
  },
  {
   "cell_type": "markdown",
   "id": "c5ceeae1-e10a-4366-a7be-bd358c262d87",
   "metadata": {},
   "source": [
    "- So, our next split under 'Senior' will be 'tweets'\n",
    "  > - All Senior-level who tweet did well.\n",
    "\n",
    "- We will do same for 'Junior' Candidates\n",
    "\n"
   ]
  },
  {
   "cell_type": "raw",
   "id": "04139753-95b6-4e88-9123-66145babed80",
   "metadata": {},
   "source": [
    "- The Decision tree will come out as:  \n",
    "\n",
    "                  level?\n",
    "                 /   |   \\\n",
    "           Senior   Mid   Junior\n",
    "            /        |      \\   \n",
    "         tweets?    Hire!    phd? \n",
    "          /  \\              /  \\\n",
    "       Yes   No            No    Yes\n",
    "        /      \\           |      |\n",
    "     Hire!    Don't hire   Hire!  Don't hire"
   ]
  },
  {
   "cell_type": "markdown",
   "id": "bc9a034e-9627-4a44-81de-387ed38bc7d8",
   "metadata": {},
   "source": [
    "# 5. Putting it all together\n",
    "\n",
    "- We will build the decision tree using ID3 algorithm explained above\n",
    "- Then classify data with built tree\n",
    "\n",
    "## (a) Decision tree representation\n",
    "\n",
    "The decision tree can be represented as a combination of:\n",
    "\n",
    "> 1. Leaf Nodes: Nodes that predict a single value or class.\n",
    "> 2. Split Nodes: Nodes that contain an attribute to split on, with subtrees for specific values of that attribute, and optionally a default value for unknown or unexpected attribute values\n",
    "\n"
   ]
  },
  {
   "cell_type": "code",
   "execution_count": 42,
   "id": "abf8c5fd-5299-413d-b1d9-c2fee37e49e7",
   "metadata": {},
   "outputs": [],
   "source": [
    "# Representation of nodes\n",
    "from typing import NamedTuple, Any, Union\n",
    "\n",
    "class Leaf(NamedTuple):\n",
    "    value: Any\n",
    "\n",
    "class Split(NamedTuple):\n",
    "    attribute: str\n",
    "    subtrees: dict\n",
    "    default_value: Any = None  # default if unknown value\n",
    "    \n",
    "DecisionTree = Union[Leaf, Split]"
   ]
  },
  {
   "cell_type": "markdown",
   "id": "61a9c6fc-0f32-4d87-bbfd-1ac947134d0a",
   "metadata": {},
   "source": [
    "## (b) Building DT using ID3\n",
    "\n",
    "1. Unique Label: If all data points have same label, create 'leaf' node of that label, then stop.\n",
    "2. No Split Attribute: No more attributes present for splitting, create 'leaf' node that predict the most common label.\n",
    "3. Partition by Best Attribute: None of condition 1/2 applies then partition by least entropy attribute and create split node.\n",
    "4. Recursion: Apply the ID3 algorithm recursively to each partitioned subset, using the remaining attributes."
   ]
  },
  {
   "cell_type": "code",
   "execution_count": 60,
   "id": "55332132-a310-46b7-8b86-989810205c41",
   "metadata": {},
   "outputs": [],
   "source": [
    "from collections import Counter\n",
    "\n",
    "def build_tree_id3(inputs: List[Any],\n",
    "                   split_attributes: List[str],\n",
    "                   target_attribute: str) -> DecisionTree:\n",
    "\n",
    "    # 1. Unique Label\n",
    "    label_counts = Counter(getattr(input, target_attribute) for input in inputs)\n",
    "    most_common_label = label_counts.most_common(1)[0][0]\n",
    "\n",
    "    # If all labels are same, create a leaf node\n",
    "    if len(label_counts) == 1:\n",
    "        return Leaf(most_common_label)\n",
    "\n",
    "    # 2. If no more split attribute, create a leaf node with most common label\n",
    "    if not split_attributes:\n",
    "        return Leaf(most_common_label)\n",
    "\n",
    "    # 3. Partition by attribute \n",
    "    def split_entropy(attribute: str) -> float:\n",
    "        return partition_entropy_by(inputs, attribute, target_attribute)\n",
    "\n",
    "    best_attribute = min(split_attributes, key = split_entropy)\n",
    "    partitions = partition_by(inputs, best_attribute)\n",
    "\n",
    "    new_attributes = [a for a in split_attributes if a != best_attribute]\n",
    "\n",
    "    # 4. Recursively build subtrees\n",
    "    subtrees = {\n",
    "        attribute_value: build_tree_id3(subset, new_attributes, target_attribute)\n",
    "        for attribute_value, subset in partitions.items()\n",
    "    }\n",
    "    # Create split node with best attribute and its subtrees\n",
    "    return Split(best_attribute, subtrees, default_value=most_common_label)          "
   ]
  },
  {
   "cell_type": "markdown",
   "id": "06ccac6b-9fcc-4252-856f-b4a287e9b905",
   "metadata": {},
   "source": [
    "## (c) Using the Decision Tree for Classification\n",
    "- To classify an input using the decision tree, the algorithm follows the tree's structure, moving through the decision nodes until it reaches a leaf node.\n",
    "  \n",
    "- If an attribute is unknown, the algorithm uses the 'default_value' in the Split node."
   ]
  },
  {
   "cell_type": "code",
   "execution_count": 61,
   "id": "6f7a2d06-5f6e-423f-96d7-a7e1eba02d10",
   "metadata": {},
   "outputs": [],
   "source": [
    "def classify(tree: DecisionTree, input: Any) -> Any:\n",
    "    \"\"\"\n",
    "    Classify the input using the given decision tree\n",
    "    \"\"\"\n",
    "    if isinstance(tree, Leaf):\n",
    "        return tree.value  # If it's a leaf node, return its value\n",
    "\n",
    "    subtree_key = getattr(input, tree.attribute)\n",
    "    \n",
    "    if subtree_key not in tree.subtrees:  # Unknown value, use default\n",
    "        return tree.default_value\n",
    "    \n",
    "    # Traverse the tree based on the attribute value\n",
    "    subtree = tree.subtrees[subtree_key]\n",
    "    return classify(subtree, input)  # Recursively classify\n"
   ]
  },
  {
   "cell_type": "code",
   "execution_count": 62,
   "id": "febb081b-b56d-4587-99cd-3c5e913fcfa9",
   "metadata": {},
   "outputs": [
    {
     "name": "stdout",
     "output_type": "stream",
     "text": [
      "True\n",
      "False\n",
      "True\n"
     ]
    }
   ],
   "source": [
    "# Build the decision tree\n",
    "tree = build_tree_id3(inputs, ['level', 'lang', 'tweets', 'phd'], 'did_well')\n",
    "\n",
    "# Test the classification\n",
    "print(classify(tree, Candidate(\"Junior\", \"Java\", True, False)))  # Should predict True\n",
    "print(classify(tree, Candidate(\"Junior\", \"Java\", True, True)))   # Should predict False\n",
    "print(classify(tree, Candidate(\"Intern\", \"Java\", True, True)))   # Should predict True (default)"
   ]
  },
  {
   "cell_type": "markdown",
   "id": "c765b940-a049-4203-a30b-16dd3c7899b4",
   "metadata": {},
   "source": [
    "# Random Forest\n",
    "\n"
   ]
  },
  {
   "cell_type": "markdown",
   "id": "b1a1401d-ccf3-4855-ba15-b95e3550efe4",
   "metadata": {},
   "source": [
    "- Problem with any model fit -  Overfitting\n",
    "  \n",
    "- DTs have the same problems, given how closely they fit to training data\n",
    "\n",
    "**How to avoid Overfitting in DTs?**\n",
    "\n",
    "- Using **Random Forest** technique\n",
    "  > First, we build multiple trees from same data  \n",
    "  > Second, we combine output of all trees :\n",
    "  > - Regression problem - take average\n",
    "  > - Classification problem - Vote\n",
    "\n",
    "- How to make multiple trees from same data?\n",
    "  > 1. Creating trees from bootstrapped data\n",
    "  > 2. Instead of using best_attribute among List of all attributes, using random subset of attribute list and find best among them.\n",
    "\n",
    "- Let's see how can we create multiple trees using second method:"
   ]
  },
  {
   "cell_type": "raw",
   "id": "d71c6b74-bde2-4460-9167-ebe0207fd640",
   "metadata": {},
   "source": [
    "# if there are already few enough split candidates, look at all of them\n",
    "\n",
    "if len(split_candidates) <= self.num_split_candidates:\n",
    "sampled_split_candidates = split_candidates\n",
    "\n",
    "# otherwise pick a random sample\n",
    "\n",
    "else:\n",
    "sampled_split_candidates = random.sample(split_candidates,\n",
    "self.num_split_candidates)\n",
    "\n",
    "# now choose the best attribute only from those candidates\n",
    "\n",
    "best_attribute = min(sampled_split_candidates, key=split_entropy)\n",
    "partitions = partition_by(inputs, best_attribute)"
   ]
  },
  {
   "cell_type": "markdown",
   "id": "945f6234-f1f9-4fce-9cc5-6578ab79afad",
   "metadata": {},
   "source": [
    "## Ensemble learning\n",
    "- The above method where we generate multiple random trees to get a balanced Decision Tree is actually an example of Emsemble learning.\n",
    "- Here, we combine several weak learners (typically high-bias, low-variance models) in order to produce an overall strong model."
   ]
  }
 ],
 "metadata": {
  "kernelspec": {
   "display_name": "Python 3 (ipykernel)",
   "language": "python",
   "name": "python3"
  },
  "language_info": {
   "codemirror_mode": {
    "name": "ipython",
    "version": 3
   },
   "file_extension": ".py",
   "mimetype": "text/x-python",
   "name": "python",
   "nbconvert_exporter": "python",
   "pygments_lexer": "ipython3",
   "version": "3.11.5"
  }
 },
 "nbformat": 4,
 "nbformat_minor": 5
}
