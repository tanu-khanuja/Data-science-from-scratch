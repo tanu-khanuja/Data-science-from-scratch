{
 "cells": [
  {
   "cell_type": "markdown",
   "id": "39fe2b0e-652a-48cf-8d78-a12aad8a936e",
   "metadata": {},
   "source": [
    "# Important python libraries\n",
    "\n",
    "## 1. scipy\n",
    "- fundamental library in python built on **numpy**\n",
    "- used for scientific and technical computing\n",
    "- provides a large number of **higher-level functions that operate on numpy arrays**\n",
    "\n",
    "1. **Integration (scipy.integrate)**: Provides functions for integrating functions and solving differential equations.\n",
    "\n",
    "2. **Optimization (scipy.optimize)**: Offers algorithms for function minimization, root finding, and curve fitting.\n",
    "\n",
    "3. **Interpolation (scipy.interpolate)**: Allows for smooth interpolation of data points with various methods.\n",
    "\n",
    "4. **Fourier Transforms (scipy.fftpack)**: Contains functions for computing fast Fourier transforms.\n",
    "\n",
    "5. **Signal Processing (scipy.signal)**: Includes tools for signal processing: filtering, windowing, signal generation, etc.\n",
    "\n",
    "6. **Linear Algebra (scipy.linalg)**: Provides more advanced linear algebra routines beyond those in numpy.linalg.\n",
    "\n",
    "7. **Sparse Matrices (scipy.sparse)**: Includes tools for working with sparse matrices.\n",
    "\n",
    "8. **Statistics (scipy.stats)**: Contains a large number of probability distributions, statistical functions, and tests.\n",
    "\n",
    "9. **Multidimensional Image Processing (scipy.ndimage)**: Offers various functions for multi-dimensional image processing.\n",
    "\n",
    "10. **Special Functions (scipy.special)**: Gives access to numerous mathematical functions like Bessel, Gamma, Beta, hypergeometric, etc."
   ]
  },
  {
   "cell_type": "code",
   "execution_count": 2,
   "id": "066f972c-633e-41a6-9138-f61372371cc0",
   "metadata": {},
   "outputs": [
    {
     "name": "stdout",
     "output_type": "stream",
     "text": [
      "Optimal value of x: 2.00000001888464\n",
      "Minimum value of the function: 5.0\n"
     ]
    }
   ],
   "source": [
    "#Example: to find minimum value of a simple function\n",
    "\n",
    "from scipy.optimize import minimize\n",
    "\n",
    "# Define the objective function\n",
    "def objective_function(x):\n",
    "    return (x - 2)**2 + 5\n",
    "\n",
    "# Initial guess for the minimum (starting point for the optimization)\n",
    "initial_guess = 0\n",
    "\n",
    "# Use the minimize function to find the minimum\n",
    "result = minimize(objective_function, initial_guess)\n",
    "\n",
    "# Extract the optimal value of x\n",
    "optimal_x = result.x[0]\n",
    "\n",
    "# Print the result\n",
    "print(\"Optimal value of x:\", optimal_x)\n",
    "print(\"Minimum value of the function:\", result.fun)\n",
    "\n"
   ]
  },
  {
   "cell_type": "markdown",
   "id": "3df68061-f4d9-452a-9d14-cf0c0f60b397",
   "metadata": {},
   "source": [
    "## 2. pandas\n",
    "\n",
    "- Pandas is a powerful and flexible data analysis/manipulation library available in Python. \n",
    "\n",
    "- Pandas is an essential tool in the Python data science toolkit, often used in conjunction with libraries like NumPy, Matplotlib, and SciPy.\n",
    "\n",
    "    - DataFrame Object: A primary data structure of pandas, DataFrame, is a two-dimensional, size-mutable, and potentially heterogeneous tabular data structure with labeled axes (rows and columns).\n",
    "\n",
    "    - Series Object: A one-dimensional labeled array capable of holding any data type.\n",
    "\n",
    "    - Handling Different Data Types: Pandas can easily handle a variety of data types, including floating point, integer, boolean, categorical, datetime, and more.\n",
    "\n",
    "    - Data Alignment and Missing Data Handling: It has in-built support for automatically aligning data from different sources and handling missing data.\n",
    "\n",
    "    - File I/O: Ability to read and write data from different file formats like CSV, Excel, JSON, HTML, HDF5, etc.\n",
    "\n",
    "    - Data Cleaning and Transformation: Offers extensive functions for cleaning, transforming, and reshaping data.\n",
    "\n",
    "    - Merging and Joining: Provides SQL-like operations for merging or joining data sets.\n",
    "\n",
    "    - Grouping and Aggregation: Powerful grouping and aggregation capabilities for data summarization.\n",
    "\n",
    "    - Time Series Analysis: In-built support for handling and analyzing time-series data.\n",
    "\n",
    "    - Visualization: Simple wrapping of Matplotlib for quick and easy data visualization."
   ]
  },
  {
   "cell_type": "code",
   "execution_count": 3,
   "id": "baee7568-45e9-4abd-8402-85ec1c7667e7",
   "metadata": {},
   "outputs": [
    {
     "name": "stdout",
     "output_type": "stream",
     "text": [
      "      Name  Age           City\n",
      "0    Alice   25       New York\n",
      "1      Bob   30  San Francisco\n",
      "2  Charlie   35    Los Angeles\n",
      "30.0\n"
     ]
    },
    {
     "name": "stderr",
     "output_type": "stream",
     "text": [
      "/var/folders/pj/jpdw695151g451wf0zdz5wm40000gp/T/ipykernel_21117/2193117541.py:1: DeprecationWarning: \n",
      "Pyarrow will become a required dependency of pandas in the next major release of pandas (pandas 3.0),\n",
      "(to allow more performant data types, such as the Arrow string type, and better interoperability with other libraries)\n",
      "but was not found to be installed on your system.\n",
      "If this would cause problems for you,\n",
      "please provide us feedback at https://github.com/pandas-dev/pandas/issues/54466\n",
      "        \n",
      "  import pandas as pd\n"
     ]
    }
   ],
   "source": [
    "import pandas as pd\n",
    "\n",
    "#create a dataframe using pandas\n",
    "\n",
    "data = {'Name': ['Alice', 'Bob', 'Charlie'],\n",
    "    'Age': [25, 30, 35],\n",
    "    'City': ['New York', 'San Francisco', 'Los Angeles']\n",
    "}\n",
    "\n",
    "df = pd.DataFrame(data)\n",
    "print(df)\n",
    "\n",
    "#similar to R dataframe\n",
    "\n",
    "#perform basic operation\n",
    "print(df['Age'].mean())"
   ]
  },
  {
   "cell_type": "markdown",
   "id": "0b4e866b-4c66-4669-aae3-6787b2b7ea76",
   "metadata": {},
   "source": [
    "### Categorical data\n",
    "\n",
    "- In the context of data analysis and statistics, \"categorical\" refers to a type of data that can take on one of a limited, and usually fixed, number of possible values. These values represent discrete categories or groups. Categorical data is often used to represent characteristics such as a person's gender, a car's color, or a student's grade level.\n",
    "\n",
    "- There are two main types of categorical data:\n",
    "\n",
    "    - Nominal Data: This is categorical data where the order of the categories is not significant. For example, the colors of cars (red, blue, green) are nominal because the order in which you list these colors does not carry any intrinsic meaning.\n",
    "\n",
    "    - Ordinal Data: This type of categorical data involves some order; the categories have a logical sequence. For example, ratings such as \"good\", \"better\", \"best\" have an inherent order. The order is significant and meaningful.\n",
    "\n",
    "- In data analysis, especially with libraries like Pandas in Python, it's often important to specify when data is categorical because it informs the analysis and visualization techniques you might use. For example, certain statistical models or plots are more appropriate for categorical data.\n",
    "\n",
    "- In Pandas, you can specify that a column in a DataFrame is categorical by converting it to the category dtype.\n",
    "\n",
    "  - This conversion can lead to more efficient storage and faster operations, especially for large datasets, as Pandas uses an optimized internal representation for categorical data."
   ]
  },
  {
   "cell_type": "code",
   "execution_count": 4,
   "id": "ea2a5dc4-fef2-4c3c-9a57-50f11eb42ae2",
   "metadata": {},
   "outputs": [],
   "source": [
    "import pandas as pd\n",
    "\n",
    "df = pd.DataFrame({'grade': ['A', 'B', 'C', 'D', 'F']})\n",
    "df['grade'] = df['grade'].astype('category')"
   ]
  },
  {
   "cell_type": "markdown",
   "id": "e1f622be-e34e-4958-b4db-1fd861dd1dd6",
   "metadata": {},
   "source": [
    "## 3. StatsModels\n",
    "\n",
    "- Linear Models: It offers various options for linear regression, including Ordinary Least Squares (OLS), Generalized Least Squares (GLS), and robust linear models.\n",
    "\n",
    "- Generalized Linear Models: For data that do not fit the normal distribution, statsmodels includes Generalized Linear Models (GLM) such as logistic regression for binary outcomes.\n",
    "\n",
    "- Time Series Analysis: It has tools for the estimation of time series models, including ARIMA (AutoRegressive Integrated Moving Average) and state-space models.\n",
    "\n",
    "- Nonparametric Methods: Statsmodels provides nonparametric statistics methods, which can be useful when the data does not meet the assumptions required by parametric methods.\n",
    "\n",
    "- Statistical Tests: The module includes a variety of statistical tests for different purposes, such as t-tests, chi-square tests, and ANOVA.\n",
    "\n",
    "- Plotting Functions: It offers various plotting functions for visualizing results, like autocorrelation plots, partial autocorrelation plots, and qq-plots.\n",
    "\n",
    "- Datasets: Statsmodels includes several datasets which can be used for examples and testing models.\n",
    "\n",
    "- Extensive Output of Model Summaries: The summary output of models in statsmodels is comprehensive, showing various statistical metrics that help in interpreting the model's performance.\n"
   ]
  },
  {
   "cell_type": "code",
   "execution_count": 5,
   "id": "f2eaab7e-bbe2-40fb-ba2c-7892625d670d",
   "metadata": {},
   "outputs": [
    {
     "name": "stdout",
     "output_type": "stream",
     "text": [
      "                            OLS Regression Results                            \n",
      "==============================================================================\n",
      "Dep. Variable:                      Y   R-squared:                       0.600\n",
      "Model:                            OLS   Adj. R-squared:                  0.467\n",
      "Method:                 Least Squares   F-statistic:                     4.500\n",
      "Date:                Thu, 01 Aug 2024   Prob (F-statistic):              0.124\n",
      "Time:                        13:49:16   Log-Likelihood:                -5.2598\n",
      "No. Observations:                   5   AIC:                             14.52\n",
      "Df Residuals:                       3   BIC:                             13.74\n",
      "Df Model:                           1                                         \n",
      "Covariance Type:            nonrobust                                         \n",
      "==============================================================================\n",
      "                 coef    std err          t      P>|t|      [0.025      0.975]\n",
      "------------------------------------------------------------------------------\n",
      "const          2.2000      0.938      2.345      0.101      -0.785       5.185\n",
      "X              0.6000      0.283      2.121      0.124      -0.300       1.500\n",
      "==============================================================================\n",
      "Omnibus:                          nan   Durbin-Watson:                   2.017\n",
      "Prob(Omnibus):                    nan   Jarque-Bera (JB):                0.570\n",
      "Skew:                           0.289   Prob(JB):                        0.752\n",
      "Kurtosis:                       1.450   Cond. No.                         8.37\n",
      "==============================================================================\n",
      "\n",
      "Notes:\n",
      "[1] Standard Errors assume that the covariance matrix of the errors is correctly specified.\n"
     ]
    },
    {
     "name": "stderr",
     "output_type": "stream",
     "text": [
      "/Users/tanukhanuja/anaconda3/envs/dsfs/lib/python3.11/site-packages/statsmodels/stats/stattools.py:74: ValueWarning: omni_normtest is not valid with less than 8 observations; 5 samples were given.\n",
      "  warn(\"omni_normtest is not valid with less than 8 observations; %i \"\n"
     ]
    }
   ],
   "source": [
    "import statsmodels.api as sm\n",
    "import pandas as pd\n",
    "\n",
    "# Example data\n",
    "df = pd.DataFrame({\n",
    "    'X': [1, 2, 3, 4, 5],\n",
    "    'Y': [2, 4, 5, 4, 5]\n",
    "})\n",
    "\n",
    "# Ordinary Least Squares (OLS) regression\n",
    "model = sm.OLS(df['Y'], sm.add_constant(df['X'])).fit()\n",
    "\n",
    "# View the summary of the model\n",
    "print(model.summary())\n",
    "\n",
    "#In this example, an OLS regression model is fitted to the data, \n",
    "#and then the summary of the model is printed, \n",
    "#which includes various statistical measures and tests to assess the model's validity and performance"
   ]
  },
  {
   "cell_type": "code",
   "execution_count": null,
   "id": "82a7f11c-dda1-4212-a627-25ffa9215dca",
   "metadata": {},
   "outputs": [],
   "source": []
  },
  {
   "cell_type": "code",
   "execution_count": null,
   "id": "d1862706-1f2e-43d5-9afc-d2b90fcdee0d",
   "metadata": {},
   "outputs": [],
   "source": []
  }
 ],
 "metadata": {
  "kernelspec": {
   "display_name": "Python 3 (ipykernel)",
   "language": "python",
   "name": "python3"
  },
  "language_info": {
   "codemirror_mode": {
    "name": "ipython",
    "version": 3
   },
   "file_extension": ".py",
   "mimetype": "text/x-python",
   "name": "python",
   "nbconvert_exporter": "python",
   "pygments_lexer": "ipython3",
   "version": "3.11.5"
  }
 },
 "nbformat": 4,
 "nbformat_minor": 5
}
