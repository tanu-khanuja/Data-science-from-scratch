{
 "cells": [
  {
   "cell_type": "markdown",
   "id": "f9216512-ce07-408b-9f5b-3ee7d91f6edb",
   "metadata": {},
   "source": [
    "- In this chapter, we’ll look at different ways of getting data into Python and into the right formats."
   ]
  },
  {
   "cell_type": "markdown",
   "id": "764e5e11-18c8-4181-b8d4-6e7fa966ed73",
   "metadata": {},
   "source": [
    "# 1. stdin and stdout"
   ]
  },
  {
   "cell_type": "markdown",
   "id": "3bc5a393-5a3a-4b93-a748-87147f367012",
   "metadata": {},
   "source": [
    "- if we run our Python script at command line, we can pipe output of one py file to another\n",
    "\n",
    "- piping can be done using sys.stdin and sys.stdout\n",
    "\n",
    "## (a) piping \n",
    "  1. first have a input file(say, `input.txt`), in which we want to find the lines which have a given matching word (e.g. \"this\")\n",
    "  2. write a python script (say `egrep.py`) for finding these lines\n",
    "  3. Use command line in -bash to run this  \n",
    "     How?  \n",
    "     use `cat input.txt | python egrep.py \"this\"`\n",
    "     - here `input.txt` will be taken as <u>input(sys.stdin)</u> in `egrep.py` file and \"this\" is taken as <u>sys.argv[1]</u> in egrep.py file\n",
    "\n",
    "## (b) sys module\n",
    "\n",
    "  > its like a window between your operating sytsem and Python interpreter.\n",
    "\n",
    "Important key components of sys toolbox:\n",
    "    \n",
    "###  1. sys.argv\n",
    "     * when we run python from command lines, we can access the arguments passed to python script using this command\n",
    "     * sys.argv[0] : file name\n",
    "     * sys.argv[1]: first argument after file name given in command line"
   ]
  },
  {
   "cell_type": "markdown",
   "id": "389fe0d3-b2cb-4813-8191-e7cff9c95746",
   "metadata": {},
   "source": [
    "input.txt file  \n",
    "\n",
    ">This is a sample input file.  \n",
    ">It contains some lines with text.  \n",
    ">#This is a comment line.  \n",
    ">This line contains the word \"pattern\".  \n",
    ">Another line with more text.  \n",
    ">#Another comment line.  \n",
    ">This is the last line.  "
   ]
  },
  {
   "cell_type": "code",
   "execution_count": 1,
   "id": "bf6c93f9-0a15-432d-a5db-aebf4ce69224",
   "metadata": {},
   "outputs": [],
   "source": [
    "# egrep.py\n",
    "import sys, re\n",
    "\n",
    "regex = sys.argv[1]\n",
    "# sys.argv is list of command line arguments\n",
    "# sys.argv[0] is name of program file itself\n",
    "# sys.argv[1] will be regex specified at command line itself\n",
    "\n",
    "# for every line passed into this script\n",
    "# write line in stdout which has regex\n",
    "for line in sys.stdin:\n",
    "    if re.search(regex, line):\n",
    "        sys.stdout.write(line)\n",
    "\n",
    "# sys.stdout is an object in python representing standard output stream\n",
    "# method sys.stdout.write() will write the output in console"
   ]
  },
  {
   "cell_type": "markdown",
   "id": "954723b7-d929-46b8-b07f-5ef8f48da740",
   "metadata": {},
   "source": [
    "###  2. How does line in sys.stdin is found?\n",
    "\n",
    "- 'Enter' key typically inserts a newline character (\\n) into the input stream.\n",
    "- When you use sys.stdin to read input from a file or from piped input, it treats each newline character (\\n) as a delimiter between lines.\n",
    "- This means that when you use sys.stdin to read from a file, it automatically recognizes newline characters and splits the input into separate lines accordingly.\n",
    "\n",
    "\n",
    "### 3. Count the number of lines in input.txt\n",
    "\n",
    "- We write a program `line_count.py`"
   ]
  },
  {
   "cell_type": "code",
   "execution_count": null,
   "id": "9c3e37c4-bb3c-4931-a2b4-e3f75f96ec95",
   "metadata": {},
   "outputs": [],
   "source": [
    "# line_count.py\n",
    "\n",
    "import sys\n",
    "\n",
    "count = 0\n",
    "for line in sys.stdin:\n",
    "    count += 1\n",
    "\n",
    "print(count)                    # by default print goes to sys.stdout, therefore it writes in console\n",
    "                                # 7"
   ]
  },
  {
   "cell_type": "markdown",
   "id": "fab1b499-fc5e-4a8b-8bad-c3f792603ede",
   "metadata": {},
   "source": [
    "`cat input.txt | python egrep.py \"This\" | python line_count.py`\n",
    " #4"
   ]
  },
  {
   "cell_type": "markdown",
   "id": "ccf0b331-3248-4199-91e3-ed7eb576ea68",
   "metadata": {},
   "source": [
    "### 4. Count number of lines in 'input.txt' which have any number/digit \n",
    "\n",
    "- use pipe character `|` to use output of left command as input of right command\n",
    "  \n",
    "- here regex is '[0-9]'\n",
    "\n",
    "- terminal command line: `cat input.txt | python egrep.py \"[0-9]\" | python line_count.py` #2"
   ]
  },
  {
   "cell_type": "markdown",
   "id": "f1ed31c2-085f-43a4-8700-532ea3f517eb",
   "metadata": {},
   "source": [
    "### 5. Write (stdout) the words of 'input.txt' and write most common ones"
   ]
  },
  {
   "cell_type": "code",
   "execution_count": null,
   "id": "d735b290-c615-4664-9545-26775c6b33fb",
   "metadata": {},
   "outputs": [],
   "source": [
    "# most_common_words.py\n",
    "\n",
    "from collections import Counter\n",
    "import sys\n",
    "\n",
    "num = sys.argv[1]\n",
    "\n",
    "try:\n",
    "    num = int(sys.argv[1])\n",
    "\n",
    "except:\n",
    "    print(\"usage: python most_common_words.py num\")\n",
    "    sys.exit(1)               # nonzero exit code indicates error\n",
    "\n",
    "c = Counter(word.lower() \n",
    "            for line in sys.stdin \n",
    "            for word in line.strip().replace('.', ' ').split()\n",
    "            if word)         \n",
    "                             # strips whitespaces/newlines/tabs characters from start-end of line first\n",
    "                             # replace full stop with whitespace\n",
    "                             # splits words at space \n",
    "\n",
    "for word, count in c.most_common(num):      # c is dictionary of words and its counts\n",
    "    sys.stdout.write(str(count))\n",
    "    sys.stdout.write(\"\\t\")\n",
    "    sys.stdout.write(word)\n",
    "    sys.stdout.write(\"\\n\")"
   ]
  },
  {
   "cell_type": "markdown",
   "id": "86d47b50-de50-4459-a0b2-0d75aa84e0a4",
   "metadata": {},
   "source": [
    "# 2. Reading Files\n",
    "\n",
    "- we can directly read from files/write to files from py code "
   ]
  },
  {
   "cell_type": "markdown",
   "id": "fd2f6670-5b7a-4329-9520-eee4d493c0ee",
   "metadata": {},
   "source": [
    "## (a) Basics of text files \n",
    "\n",
    "### 1. read, write, append"
   ]
  },
  {
   "cell_type": "code",
   "execution_count": 29,
   "id": "63567219-9d71-4046-8965-34c312ddeda8",
   "metadata": {},
   "outputs": [],
   "source": [
    "# 'r' is read-only -- by default it's assumed read-only if not written\n",
    "\n",
    "file_for_reading = open('input.txt', 'r')\n",
    "file_for_reading2 = open('input.txt')\n",
    "\n",
    "# 'w' is write -- will destroy the file if it already exists!\n",
    "file_for_writing = open('writing_file.txt', 'w')\n",
    "\n",
    "# 'a' is append -- for adding to the end of the file\n",
    "file_for_appending = open('appending_file.txt', 'a')\n",
    "\n",
    "# Don't forget to close files when done\n",
    "file_for_writing.close()\n"
   ]
  },
  {
   "cell_type": "markdown",
   "id": "320e695f-6f6a-419c-bd0c-213ae8e214f3",
   "metadata": {},
   "source": [
    "### 2. read file with block code\n",
    "\n",
    "- It is easy to forget to close the files.\n",
    "- So, we should always use them within a block, at the end of which they will be closed automatically."
   ]
  },
  {
   "cell_type": "code",
   "execution_count": null,
   "id": "cf5af057-4f22-4fb5-a2f7-da0e4042a136",
   "metadata": {},
   "outputs": [],
   "source": [
    "with open(filename) as f:   \n",
    "    data = function_that_gets_data_from(f)\n",
    "\n",
    "# At this point f has already been closed, so don't try to use it\n",
    "process(data)"
   ]
  },
  {
   "cell_type": "markdown",
   "id": "a7d45cef-f830-44a4-b4e4-067476a68645",
   "metadata": {},
   "source": [
    "### 3. To read whole file iterate over all lines\n",
    "- e.g. we want to count lines starting with # using block code"
   ]
  },
  {
   "cell_type": "code",
   "execution_count": 49,
   "id": "5416c5e4-2ba0-4c71-96be-38026514c546",
   "metadata": {},
   "outputs": [
    {
     "name": "stdout",
     "output_type": "stream",
     "text": [
      "1\n"
     ]
    }
   ],
   "source": [
    "start_with_hash = 0\n",
    "with open('input.txt') as f:\n",
    "    for line in f:                  #look at each line of f\n",
    "        if re.match('^ #', line):   #matches first(^) character with ' #' i.e. space-hash\n",
    "            start_with_hash +=1      \n",
    "\n",
    "print(start_with_hash)"
   ]
  },
  {
   "cell_type": "markdown",
   "id": "cb7b1d44-2ce9-490f-b9f1-0b625b4479e7",
   "metadata": {},
   "source": [
    "### 4. Example: Histogram of email domain\n",
    "\n",
    "- when we press enter, a new line character is added at the end of line'\\n'\n",
    "\n",
    "- while reading a file, therefore, we need to remove this always\n",
    "\n",
    "- so, we use line.strip() function - strip() removes whotespaces before and after the text\n",
    "\n",
    "- so, for one line: lower all characters -> strip the start-end whitespaces -> split line at @ -> return last element of splitted <u>list</u>"
   ]
  },
  {
   "cell_type": "code",
   "execution_count": 64,
   "id": "71badb88-b6ed-4167-b1d7-b1947e04de3b",
   "metadata": {},
   "outputs": [
    {
     "name": "stdout",
     "output_type": "stream",
     "text": [
      "Counter({'example.com': 3, 'gmail.com': 3, 'yahoo.com': 2, 'hotmail.com': 1, 'example.org': 1, 'mail.datasciencester.com': 1})\n"
     ]
    }
   ],
   "source": [
    "def get_domain(email_addr: str) -> str:\n",
    "    return email_addr.lower().strip().split('@')[-1]\n",
    "\n",
    "with open('email_addresses.txt') as f:\n",
    "    c = Counter(get_domain(line)\n",
    "               for line in f\n",
    "               if '@' in line)\n",
    "    print(c)\n",
    "    "
   ]
  },
  {
   "cell_type": "markdown",
   "id": "bbc70601-c770-416f-b103-88d6e093faf5",
   "metadata": {},
   "source": [
    "## (b) Delimited files\n",
    "\n",
    "- often used for storing structured data in a human-readable format.\n",
    "\n",
    "- for exporting and importing data between different software applications and systems because they are simple and widely supported.\n",
    "\n",
    "- in practicality the files have lots of data in each line of text file\n",
    "\n",
    "- often have delimiters like comma, tab, semi-colons, and pipes -separated several fields in one line\n",
    "\n",
    "- so, never parse these files by your own, and screw up edge cases\n",
    "\n",
    "- so, we use python libraries designed to read these files e.g. csv module, pandas etc"
   ]
  },
  {
   "cell_type": "markdown",
   "id": "7ebcd896-b6b7-4dac-a7f0-55bfa0742b25",
   "metadata": {},
   "source": [
    "### csv.reader & csv.DictReader"
   ]
  },
  {
   "cell_type": "code",
   "execution_count": 7,
   "id": "28d7d73a-4869-4558-8250-22c27e77d991",
   "metadata": {},
   "outputs": [
    {
     "name": "stdout",
     "output_type": "stream",
     "text": [
      "date: 6/20/2014, symbol: AAPL, closing price: 90.91\n",
      "date: 6/20/2014, symbol: MSFT, closing price: 41.68\n",
      "date: 6/20/2014, symbol: FB, closing price: 64.5\n",
      "date: 6/19/2014, symbol: AAPL, closing price: 91.86\n",
      "date: 6/19/2014, symbol: MSFT, closing price: 41.51\n",
      "date: 6/19/2014, symbol: FB, closing price: 64.34\n"
     ]
    }
   ],
   "source": [
    "# Read tab_delimited_stock_prices.txt\n",
    "# csv.reader() returns an iterable object that you can loop through to process each row of the file.\n",
    "\n",
    "\n",
    "import csv\n",
    "\n",
    "# Print each cell of rows with name\n",
    "def process(date: str, symbol: str, closing_price: float) -> None:\n",
    "    print(f\"date: {date}, symbol: {symbol}, closing price: {closing_price}\")\n",
    "\n",
    "#read file using csv module\n",
    "with open(\"tab_delimited_stock_prices.txt\") as f:\n",
    "    tab_reader = csv.reader(f, delimiter = '\\t')     # iterator object, can be iterated over rows\n",
    "    for row in tab_reader:\n",
    "        # Print(row)\n",
    "        date = row[0]\n",
    "        symbol = row[1]\n",
    "        closing_price = row[2]\n",
    "        process(date, symbol, closing_price)\n",
    "    \n"
   ]
  },
  {
   "cell_type": "code",
   "execution_count": 8,
   "id": "16079b8f-11ed-43ec-af32-878275853bf0",
   "metadata": {},
   "outputs": [
    {
     "name": "stdout",
     "output_type": "stream",
     "text": [
      "date: 6/20/2014, symbol: AAPL, closing price: 90.91\n",
      "date: 6/20/2014, symbol: MSFT, closing price: 41.68\n",
      "date: 6/20/2014, symbol: FB, closing price: 64.5\n",
      "date: 6/19/2014, symbol: AAPL, closing price: 91.86\n",
      "date: 6/19/2014, symbol: MSFT, closing price: 41.51\n",
      "date: 6/19/2014, symbol: FB, closing price: 64.34\n"
     ]
    }
   ],
   "source": [
    "# To read file with header\n",
    "\n",
    "# 1. use reader.next()\n",
    "# Print each cell of rows with name\n",
    "\n",
    "with open(\"tab_delimited_stock_prices_with_header.txt\") as f:\n",
    "    tab_reader = csv.reader(f, delimiter = '\\t')     # iterator object, can be iterated over rows\n",
    "    next(tab_reader)                                 # skip header\n",
    "    for row in tab_reader:\n",
    "        #print(row)\n",
    "        date = row[0]\n",
    "        symbol = row[1]\n",
    "        closing_price = row[2]\n",
    "        process(date, symbol, closing_price)\n",
    "    \n"
   ]
  },
  {
   "cell_type": "code",
   "execution_count": 9,
   "id": "78abd090-15f7-4167-a594-f7a3742428aa",
   "metadata": {},
   "outputs": [
    {
     "name": "stdout",
     "output_type": "stream",
     "text": [
      "date: 6/20/2014, symbol: AAPL, closing price: 64.34\n",
      "date: 6/20/2014, symbol: MSFT, closing price: 64.34\n",
      "date: 6/20/2014, symbol: FB, closing price: 64.34\n",
      "date: 6/19/2014, symbol: AAPL, closing price: 64.34\n",
      "date: 6/19/2014, symbol: MSFT, closing price: 64.34\n",
      "date: 6/19/2014, symbol: FB, closing price: 64.34\n"
     ]
    }
   ],
   "source": [
    "# 2. using csv.DictReader\n",
    "\n",
    "with open(\"tab_delimited_stock_prices_with_header.txt\") as f:\n",
    "    tab_reader = csv.DictReader(f, delimiter ='\\t')           # Assumes the file has header names\n",
    "                                                              # Reads from next line by default\n",
    "                                                              # Assigns header name as key for each line with its corresponding value\n",
    "\n",
    "\n",
    "    # use header names to access the elements\n",
    "    for dict_row in tab_reader:\n",
    "        date = dict_row[\"date\"]\n",
    "        symbol = dict_row[\"symbol\"]\n",
    "        closing_prices = dict_row[\"prices\"]\n",
    "        process(date, symbol, closing_price)\n",
    "    "
   ]
  },
  {
   "cell_type": "markdown",
   "id": "a2e3d983-ba41-41d9-8a86-bbdff6b6eb02",
   "metadata": {},
   "source": [
    "### fieldnames i.e. header name"
   ]
  },
  {
   "cell_type": "code",
   "execution_count": 121,
   "id": "0ab7b80b-f2da-406e-954a-102c2e670836",
   "metadata": {},
   "outputs": [
    {
     "name": "stdout",
     "output_type": "stream",
     "text": [
      "['date', 'symbol', 'prices']\n"
     ]
    }
   ],
   "source": [
    "# How to read header from a file using DictReader\n",
    "\n",
    "with open(\"tab_delimited_stock_prices_with_header.txt\") as f:\n",
    "    tab_reader = csv.DictReader(f, delimiter='\\t')  # Iterator object\n",
    "    header = tab_reader.fieldnames                  # Read header names \n",
    "    print(header)"
   ]
  },
  {
   "cell_type": "code",
   "execution_count": 133,
   "id": "47f6a1ae-0f0f-4cea-9e0d-ea0843e3a44d",
   "metadata": {},
   "outputs": [
    {
     "name": "stdout",
     "output_type": "stream",
     "text": [
      "['date', 'symbol', 'closing prices']\n"
     ]
    }
   ],
   "source": [
    "# If file doesn't have header\n",
    "# Still can read using DictReader\n",
    "# Pass keys as fieldname parameter\n",
    "\n",
    "with open(\"colon_delimited_stock_prices.txt\") as f:\n",
    "    #file with no header\n",
    "    colon_reader = csv.DictReader(f, delimiter = \":\")\n",
    "   \n",
    "    #give header name\n",
    "    colon_reader.fieldnames[0] = \"date\"\n",
    "    colon_reader.fieldnames[1] = \"symbol\"\n",
    "    colon_reader.fieldnames[2] = \"closing prices\"\n",
    "\n",
    "    #lets check header now\n",
    "    header = colon_reader.fieldnames\n",
    "    print(header)\n",
    "\n",
    "        "
   ]
  },
  {
   "cell_type": "markdown",
   "id": "49ccd19e-d147-4ec0-8eb8-a99a27567661",
   "metadata": {},
   "source": [
    "### csv.writer"
   ]
  },
  {
   "cell_type": "code",
   "execution_count": 143,
   "id": "bce97cb9-0669-43d2-ac9a-35fcc6aa72d8",
   "metadata": {},
   "outputs": [],
   "source": [
    "# Write todays_prices dict in a file named \"comma_delimited_stock_prices.txt\"\n",
    "\n",
    "todays_prices = {'AAPL': 90.91, 'MSFT': 41.68, 'FB': 64.5 }\n",
    "\n",
    "with open (\"comma_delimited_stock_prices.txt\", 'w') as f:\n",
    "    csv_writer = csv.writer(f, delimiter = ',')\n",
    "    for stock, price in todays_prices.items():\n",
    "        csv_writer.writerow([stock,price])\n"
   ]
  },
  {
   "cell_type": "code",
   "execution_count": 146,
   "id": "636ef335-f0fe-4abe-8fb8-2a281c4c4081",
   "metadata": {},
   "outputs": [],
   "source": [
    "# Lets try writing a \"bad_csv.txt\" file without using csv.write\n",
    "\n",
    "results = [[\"test1\", \"success\", \"Monday\"],\r",
    "[\"test2\", \"success, kind of\", \"Tuesday\"],\r",
    "[\"test3\", \"failure, kind of\", \"Wednesday\"],\r",
    "[\"test4\", \"failure, utter\", \"Thursday\"]]\n",
    "\n",
    "# Bad code\n",
    "with open('bad_csv.txt', 'w') as f:\n",
    "    for row in results:\n",
    "        f.write(','.join(map(str,row)))\n",
    "        f.write('\\n')\n",
    "\n",
    "# It created a file named bad_csv.txt with content that makes no sense\n",
    "# test1,success,Monday\n",
    "# test2,success, kind of,Tuesday\n",
    "# test3,failure, kind of,Wednesday\n",
    "# test4,failure, utter,Thursday"
   ]
  },
  {
   "cell_type": "code",
   "execution_count": 150,
   "id": "3d381630-3fe2-4b94-880b-935fbccae408",
   "metadata": {},
   "outputs": [],
   "source": [
    "# Now try it using csv.write\n",
    "with open(\"good_csv.txt\", 'w') as f:\n",
    "    csv_writer = csv.writer(f, delimiter = \",\")\n",
    "    for row in results:\n",
    "        csv_writer.writerow(row)\n",
    "\n",
    "# It creates good_csv.txt file with:\n",
    "\n",
    "# test1,success,Monday\n",
    "# test2,\"success, kind of\",Tuesday\n",
    "# test3,\"failure, kind of\",Wednesday\n",
    "# test4,\"failure, utter\",Thursday"
   ]
  },
  {
   "cell_type": "markdown",
   "id": "28d23d57-7fe3-4153-a6da-1c2a653e6ecd",
   "metadata": {},
   "source": [
    "# 3. Scrapping the web\n",
    "- fetching information from web pages"
   ]
  },
  {
   "cell_type": "markdown",
   "id": "6f04c815-bef6-4b1c-a5dc-176ab11268f2",
   "metadata": {},
   "source": [
    "## (a) html parsing\n",
    "\n",
    "- web pages are written in html\n",
    "\n",
    "- html files are marked by 'Elements' and their 'Attributes'\n",
    "\n",
    "- Example:\n",
    "\n",
    "```html\n",
    "<html>\n",
    "  <head>\n",
    "    <title>A web page</title>\n",
    "  </head>\n",
    "  <body>\n",
    "    <p id=\"author\">Joel Grus</p>\n",
    "    <p id=\"subject\">Data Science</p>\n",
    "  </body>\n",
    "</html>\n",
    "```\n",
    "\n",
    "- anything inside ```<>``` is tag, with opening and closing tags\n",
    "  \n",
    "- tags like ```<p .... </p>``` is element with attribute `id`\n",
    "\n",
    "- in web scraping we extract our useful data from the complex html files like\n",
    "\n",
    "- “find the ```<p>``` element whose ```id``` is <u> subject </u> and return the text it contains.”\n",
    "\n",
    "### BeautifulSoup Library\n",
    "\n",
    "- it is used to create a tree out of various elements of html/XML files i.e. **parsing html/xml**\n",
    "\n",
    "- these trees provide interface for easy access of data\n",
    "\n",
    "- find(), find_all(), select(), etc. are methods to navigate through the trees\n",
    "\n",
    "- without Beautiful Soup, we need to manually access raw HTML content using string manipulation or regular expressions, which can be error-prone and cumbersome, especially if the HTML structure of the webpage changes\n",
    "\n",
    "- with Beautiful Soup, we can use its methods (find_all() in this case) to acces the content easily based on their HTML tags, abstracting away the parsing details and making the code more readable and maintainable.\n",
    "\n",
    "### Requests library\n",
    "\n",
    "- used to make HTTP requests\n",
    "\n",
    "- It simplifies the process of sending HTTP requests and handling responses, making it easy to interact with web services, APIs, and websites\n",
    "\n",
    "### html5lib \n",
    "\n",
    "- its an alternative to python's in-built parser\n",
    "\n",
    "- in more complex or less structured HTML documents, Python's built-in HTML parser (html.parser) might struggle to handle improperly nested tags, missing closing tags, or other irregularities.\n",
    "\n",
    "- thus we install html5lib parser through command line:\n",
    "\n",
    "- `python -m pip install beautifulsoup4 requests html5lib`\n"
   ]
  },
  {
   "cell_type": "code",
   "execution_count": 2,
   "id": "7651a99e-4365-4a45-8282-09288d83837d",
   "metadata": {},
   "outputs": [
    {
     "name": "stdout",
     "output_type": "stream",
     "text": [
      "<!DOCTYPE html>\n",
      "<html>\n",
      " <head>\n",
      "  <title>\n",
      "   Test Page\n",
      "  </title>\n",
      " </head>\n",
      " <body>\n",
      "  <h1>\n",
      "   Welcome to the Test Page\n",
      "  </h1>\n",
      "  <p>\n",
      "   This is a\n",
      "   <strong>\n",
      "    simple\n",
      "   </strong>\n",
      "   HTML example.\n",
      "  </p>\n",
      "  <a href=\"http://example.com\">\n",
      "   Example Link\n",
      "  </a>\n",
      " </body>\n",
      "</html>\n",
      "\n"
     ]
    }
   ],
   "source": [
    "# See how parser parse the html text\n",
    "\n",
    "from bs4 import BeautifulSoup\n",
    "\n",
    "# Example HTML content\n",
    "html_content = \"\"\"\n",
    "<!DOCTYPE html>\n",
    "<html>\n",
    "  <head>\n",
    "    <title>Test Page</title>\n",
    "  </head>\n",
    "  <body>\n",
    "    <h1>Welcome to the Test Page</h1>\n",
    "    <p>This is a <strong>simple</strong> HTML example.</p>\n",
    "    <a href=\"http://example.com\">Example Link</a>\n",
    "  </body>\n",
    "</html>\n",
    "\"\"\"\n",
    "\n",
    "# Parse the HTML content using BeautifulSoup with the html5lib parser\n",
    "soup = BeautifulSoup(html_content, 'html5lib')\n",
    "\n",
    "# Print the prettified HTML\n",
    "print(soup.prettify())"
   ]
  },
  {
   "cell_type": "markdown",
   "id": "491c84ae-8edf-49d1-b4ac-64eb941c7b01",
   "metadata": {},
   "source": [
    "## (b)Steps of parsing\n",
    "\n",
    "1. get the http url using `Requests`\n",
    "2. Parse using `BeautifulSoup`\n",
    "   \n",
    "### 1. read html "
   ]
  },
  {
   "cell_type": "code",
   "execution_count": 12,
   "id": "0db07575-3b60-43db-9a3a-49f068c78043",
   "metadata": {},
   "outputs": [
    {
     "name": "stdout",
     "output_type": "stream",
     "text": [
      "<!DOCTYPE html>\n",
      "<html lang=\"en-US\"><head>\n",
      "    <title>Getting Data</title>\n",
      "    <meta charset=\"utf-8\"/>\n",
      "</head>\n",
      "<body>\n",
      "    <h1>Getting Data</h1>\n",
      "    <div class=\"explanation\">\n",
      "        This is an explanation.\n",
      "    </div>\n",
      "    <div class=\"comment\">\n",
      "        This is a comment.\n",
      "    </div>\n",
      "    <div class=\"content\">\n",
      "        <p id=\"p1\">This is the first paragraph.</p>\n",
      "        <p class=\"important\">This is the second paragraph.</p>\n",
      "    </div>\n",
      "    <div class=\"signature\">\n",
      "        <span id=\"name\">Joel</span>\n",
      "        <span id=\"twitter\">@joelgrus</span>\n",
      "        <span id=\"email\">joelgrus-at-gmail</span>\n",
      "    </div>\n",
      "\n",
      "\n",
      "</body></html>\n"
     ]
    }
   ],
   "source": [
    "from bs4 import BeautifulSoup\n",
    "import requests\n",
    "\n",
    "url = \"https://raw.githubusercontent.com/joelgrus/data/master/getting-data.html\"\n",
    "\n",
    "# Request url\n",
    "html = requests.get(url).text                                     \n",
    "\n",
    "# print(html)\n",
    "\n",
    "# Parse html\n",
    "soup = BeautifulSoup(html, 'html5lib')\n",
    "print(soup)"
   ]
  },
  {
   "cell_type": "markdown",
   "id": "306872a1-947c-440a-914e-92e21e033598",
   "metadata": {},
   "source": [
    "### 2. find p-tag and its contents"
   ]
  },
  {
   "cell_type": "code",
   "execution_count": 13,
   "id": "fbb19670-c9f0-44d2-a7a1-168c09610ba2",
   "metadata": {},
   "outputs": [
    {
     "name": "stdout",
     "output_type": "stream",
     "text": [
      "<p id=\"p1\">This is the first paragraph.</p> \n",
      " [<p id=\"p1\">This is the first paragraph.</p>, <p class=\"important\">This is the second paragraph.</p>]\n",
      "<p id=\"p1\">This is the first paragraph.</p> \n",
      " [<p id=\"p1\">This is the first paragraph.</p>, <p class=\"important\">This is the second paragraph.</p>]\n"
     ]
    }
   ],
   "source": [
    "# Find p-tag and its contents\n",
    "\n",
    "first_paragraph = soup.find('p')\n",
    "all_paragraphs = soup.find_all('p')\n",
    "print(first_paragraph, \"\\n\", all_paragraphs)\n",
    "\n",
    "# Alternative way\n",
    "first_paragraph1 = soup.p\n",
    "all_paragraphs1 = soup('p')\n",
    "print(first_paragraph1, \"\\n\", all_paragraphs1)"
   ]
  },
  {
   "cell_type": "markdown",
   "id": "e68a15f1-a6e1-4e33-b8c1-4475ebccaaad",
   "metadata": {},
   "source": [
    "### 3. get text content under p-tag"
   ]
  },
  {
   "cell_type": "code",
   "execution_count": 26,
   "id": "337d161e-d893-4e05-9cbc-bea8f51b6036",
   "metadata": {},
   "outputs": [
    {
     "name": "stdout",
     "output_type": "stream",
     "text": [
      "This is the first paragraph.\n",
      "This is the first paragraph.\n"
     ]
    }
   ],
   "source": [
    "# Get text content under p-tag\n",
    "\n",
    "first_paragraph_text = soup.find('p').text\n",
    "print(first_paragraph_text)\n",
    "\n",
    "# Or\n",
    "first_paragraph_text1 = soup.p.text\n",
    "print(first_paragraph_text1)"
   ]
  },
  {
   "cell_type": "markdown",
   "id": "b096dbfc-aeb8-433f-a3d3-bef275e86330",
   "metadata": {},
   "source": [
    "### 4. extract a tag’s attributes by treating it like a dict"
   ]
  },
  {
   "cell_type": "code",
   "execution_count": 15,
   "id": "218f77eb-1954-4201-be5b-863491e2b244",
   "metadata": {},
   "outputs": [
    {
     "ename": "KeyError",
     "evalue": "'class'",
     "output_type": "error",
     "traceback": [
      "\u001b[0;31m---------------------------------------------------------------------------\u001b[0m",
      "\u001b[0;31mKeyError\u001b[0m                                  Traceback (most recent call last)",
      "Cell \u001b[0;32mIn[15], line 4\u001b[0m\n\u001b[1;32m      1\u001b[0m \u001b[38;5;66;03m# extract a tag’s attributes by treating it like a dict\u001b[39;00m\n\u001b[1;32m      3\u001b[0m first_paragraph_id \u001b[38;5;241m=\u001b[39m soup\u001b[38;5;241m.\u001b[39mp[\u001b[38;5;124m'\u001b[39m\u001b[38;5;124mid\u001b[39m\u001b[38;5;124m'\u001b[39m]\n\u001b[0;32m----> 4\u001b[0m first_pragraph_class \u001b[38;5;241m=\u001b[39m \u001b[43msoup\u001b[49m\u001b[38;5;241;43m.\u001b[39;49m\u001b[43mp\u001b[49m\u001b[43m[\u001b[49m\u001b[38;5;124;43m'\u001b[39;49m\u001b[38;5;124;43mclass\u001b[39;49m\u001b[38;5;124;43m'\u001b[39;49m\u001b[43m]\u001b[49m  \u001b[38;5;66;03m#raises key error beacause first paragraph has no key as 'class'\u001b[39;00m\n",
      "File \u001b[0;32m~/anaconda3/envs/dsfs/lib/python3.11/site-packages/bs4/element.py:1573\u001b[0m, in \u001b[0;36mTag.__getitem__\u001b[0;34m(self, key)\u001b[0m\n\u001b[1;32m   1570\u001b[0m \u001b[38;5;28;01mdef\u001b[39;00m \u001b[38;5;21m__getitem__\u001b[39m(\u001b[38;5;28mself\u001b[39m, key):\n\u001b[1;32m   1571\u001b[0m \u001b[38;5;250m    \u001b[39m\u001b[38;5;124;03m\"\"\"tag[key] returns the value of the 'key' attribute for the Tag,\u001b[39;00m\n\u001b[1;32m   1572\u001b[0m \u001b[38;5;124;03m    and throws an exception if it's not there.\"\"\"\u001b[39;00m\n\u001b[0;32m-> 1573\u001b[0m     \u001b[38;5;28;01mreturn\u001b[39;00m \u001b[38;5;28;43mself\u001b[39;49m\u001b[38;5;241;43m.\u001b[39;49m\u001b[43mattrs\u001b[49m\u001b[43m[\u001b[49m\u001b[43mkey\u001b[49m\u001b[43m]\u001b[49m\n",
      "\u001b[0;31mKeyError\u001b[0m: 'class'"
     ]
    }
   ],
   "source": [
    "# Extract a tag’s attributes by treating it like a dict\n",
    "\n",
    "first_paragraph_id = soup.p['id']\n",
    "first_pragraph_class = soup.p['class']  # raises key error beacause first paragraph has no key as 'class'"
   ]
  },
  {
   "cell_type": "code",
   "execution_count": 35,
   "id": "cead05bc-a313-4116-9949-c3f2bb7c9bd7",
   "metadata": {},
   "outputs": [
    {
     "name": "stdout",
     "output_type": "stream",
     "text": [
      "None\n"
     ]
    }
   ],
   "source": [
    "# Therefore use get() \n",
    "# It will give 'None' if key is absent\n",
    "first_pragraph_class1 = soup.p.get('class')\n",
    "print(first_pragraph_class1)"
   ]
  },
  {
   "cell_type": "code",
   "execution_count": 60,
   "id": "7aa0eee6-a76c-4bdb-a8c8-2e05779d178b",
   "metadata": {},
   "outputs": [
    {
     "name": "stdout",
     "output_type": "stream",
     "text": [
      "[<p id=\"p1\">This is the first paragraph.</p>]\n"
     ]
    }
   ],
   "source": [
    "# Find paragraphs with 'id' attribute\n",
    "\n",
    "paragraph_with_id = [p for p in soup('p') if p.get('id')]\n",
    "print(paragraph_with_id)"
   ]
  },
  {
   "cell_type": "markdown",
   "id": "bffa4cb8-a0b9-4ad8-8b3c-8a405c886397",
   "metadata": {},
   "source": [
    "### 5. Different ways to find tags with a specific class"
   ]
  },
  {
   "cell_type": "code",
   "execution_count": 91,
   "id": "8ce83d80-328e-42a3-b0dc-4fd02292f0ab",
   "metadata": {},
   "outputs": [
    {
     "name": "stdout",
     "output_type": "stream",
     "text": [
      "[<p class=\"important\">This is the second paragraph.</p>] \n",
      " [[<p class=\"important\">This is the second paragraph.</p>]] \n",
      " [[<p class=\"important\">This is the second paragraph.</p>]]\n"
     ]
    }
   ],
   "source": [
    "# Different ways to find tags with a specific class\n",
    "\n",
    "important_paragraph = [p for p in soup('p') if 'important' in p.get('class',[])]  #returns [] by default\n",
    "important_paragraph1 = [soup('p', 'important')]\n",
    "important_paragraph2 = [soup('p', {'class':'important'})]\n",
    "\n",
    "print(important_paragraph, \"\\n\",important_paragraph1, \"\\n\",important_paragraph2 )\n",
    "\n",
    "# To print(id_p1)\n",
    "id_p1 = [p for p in soup('p', id = 'p1')]\n"
   ]
  },
  {
   "cell_type": "code",
   "execution_count": 100,
   "id": "d660137e-11a8-4f69-9d23-ee4cc6d013cb",
   "metadata": {},
   "outputs": [
    {
     "name": "stdout",
     "output_type": "stream",
     "text": [
      "[<span id=\"name\">Joel</span>, <span id=\"twitter\">@joelgrus</span>, <span id=\"email\">joelgrus-at-gmail</span>]\n"
     ]
    }
   ],
   "source": [
    "# Combine these methods to implement more elaborate logic\n",
    "# For example, To find every `<span>` element that is contained inside a <div> element\n",
    "\n",
    "\n",
    "from bs4 import BeautifulSoup\n",
    "\n",
    "#print(html)\n",
    "span_inside_divs = [span for div in soup('div')\n",
    "                    for span in div('span')]\n",
    "print(span_inside_divs)"
   ]
  },
  {
   "cell_type": "markdown",
   "id": "f9cae24b-72ca-45f7-80cd-f9da1478368f",
   "metadata": {},
   "source": [
    "- the important data won’t typically be labeled as class = \"important\"\n",
    "\n",
    "- we will need to carefully inspect the source HTML, reason through our selection logic, and worry about edge cases to make sure our data is correct."
   ]
  },
  {
   "cell_type": "markdown",
   "id": "3929b20a-b302-4ac0-9a1a-1b8f70052bec",
   "metadata": {},
   "source": [
    "## REVISION"
   ]
  },
  {
   "cell_type": "code",
   "execution_count": 2,
   "id": "4863a640-01b0-470c-ad4e-2ddc295e2e80",
   "metadata": {},
   "outputs": [
    {
     "name": "stdout",
     "output_type": "stream",
     "text": [
      "<!DOCTYPE html>\n",
      "<html lang=\"en-US\"><head>\n",
      "    <title>Getting Data</title>\n",
      "    <meta charset=\"utf-8\"/>\n",
      "</head>\n",
      "<body>\n",
      "    <h1>Getting Data</h1>\n",
      "    <div class=\"explanation\">\n",
      "        This is an explanation.\n",
      "    </div>\n",
      "    <div class=\"comment\">\n",
      "        This is a comment.\n",
      "    </div>\n",
      "    <div class=\"content\">\n",
      "        <p id=\"p1\">This is the first paragraph.</p>\n",
      "        <p class=\"important\">This is the second paragraph.</p>\n",
      "    </div>\n",
      "    <div class=\"signature\">\n",
      "        <span id=\"name\">Joel</span>\n",
      "        <span id=\"twitter\">@joelgrus</span>\n",
      "        <span id=\"email\">joelgrus-at-gmail</span>\n",
      "    </div>\n",
      "\n",
      "\n",
      "</body></html>\n"
     ]
    }
   ],
   "source": [
    "import requests\n",
    "from bs4 import BeautifulSoup\n",
    "\n",
    "url = \"https://raw.githubusercontent.com/joelgrus/data/master/getting-data.html\"\n",
    "html = requests.get(url, 'http5lib').text\n",
    "soup = BeautifulSoup(html)\n",
    "print(soup)"
   ]
  },
  {
   "cell_type": "code",
   "execution_count": 157,
   "id": "39e1e1ac-ad2b-4f60-8087-caf33437e188",
   "metadata": {},
   "outputs": [
    {
     "data": {
      "text/plain": [
       "<div class=\"explanation\">\n",
       "        This is an explanation.\n",
       "    </div>"
      ]
     },
     "execution_count": 157,
     "metadata": {},
     "output_type": "execute_result"
    }
   ],
   "source": [
    "soup.div"
   ]
  },
  {
   "cell_type": "code",
   "execution_count": 17,
   "id": "40bc8955-913f-4e8e-ba9d-675d51eb5971",
   "metadata": {},
   "outputs": [
    {
     "data": {
      "text/plain": [
       "'\\n        This is an explanation.\\n    '"
      ]
     },
     "execution_count": 17,
     "metadata": {},
     "output_type": "execute_result"
    }
   ],
   "source": [
    "soup.div.text"
   ]
  },
  {
   "cell_type": "code",
   "execution_count": 159,
   "id": "3e1b0227-6bb7-44d7-86b0-1f54090080f7",
   "metadata": {},
   "outputs": [
    {
     "data": {
      "text/plain": [
       "['explanation']"
      ]
     },
     "execution_count": 159,
     "metadata": {},
     "output_type": "execute_result"
    }
   ],
   "source": [
    "soup.div['class']"
   ]
  },
  {
   "cell_type": "code",
   "execution_count": 160,
   "id": "05c5073a-16e4-4ea4-96aa-1836777338bc",
   "metadata": {},
   "outputs": [
    {
     "data": {
      "text/plain": [
       "['explanation']"
      ]
     },
     "execution_count": 160,
     "metadata": {},
     "output_type": "execute_result"
    }
   ],
   "source": [
    "soup.div.get('class')"
   ]
  },
  {
   "cell_type": "code",
   "execution_count": 212,
   "id": "3e67d847-0d58-436c-a5d4-8c1b095a798b",
   "metadata": {},
   "outputs": [
    {
     "name": "stdout",
     "output_type": "stream",
     "text": [
      "[<div class=\"signature\">\n",
      "        <span id=\"name\">Joel</span>\n",
      "        <span id=\"twitter\">@joelgrus</span>\n",
      "        <span id=\"email\">joelgrus-at-gmail</span>\n",
      "    </div>]\n"
     ]
    }
   ],
   "source": [
    "divs = soup('div')\n",
    "#print(divs)\n",
    "\n",
    "\n",
    "div_with_signature = [div for div in soup('div', {'class':'signature'})]\n",
    "print(div_with_signature)"
   ]
  },
  {
   "cell_type": "markdown",
   "id": "ea64ffe5-f2ae-42ad-afed-4bd4a0704950",
   "metadata": {},
   "source": [
    "REMEMBER\n",
    "\n",
    "- in 'soup' -> in 'div' -> dict with items  = 1. (```'class': ''```) , 2. (```<span id=\"name\">Joel</span> <span id=\"twitter\">@joelgrus</span><span id=\"email\">joelgrus-at-gmail</span>```)"
   ]
  },
  {
   "cell_type": "code",
   "execution_count": 233,
   "id": "02dac42e-2d51-417e-9590-fde7b23e065e",
   "metadata": {},
   "outputs": [
    {
     "name": "stdout",
     "output_type": "stream",
     "text": [
      "[<div class=\"content\">\n",
      "        <p id=\"p1\">This is the first paragraph.</p>\n",
      "        <p class=\"important\">This is the second paragraph.</p>\n",
      "    </div>]\n"
     ]
    }
   ],
   "source": [
    "#print(soup)\n",
    "x = [div for div in soup('div') if div('p',{'id':'p1'})]\n",
    "print(x)\n",
    "#div_with_p = [p for div in soup('div')\n",
    "              #soup('p', {'class':'important'})]\n",
    "#print(div_with_p)"
   ]
  },
  {
   "cell_type": "markdown",
   "id": "e2043940-59e3-4910-912c-34df6f6e641e",
   "metadata": {},
   "source": [
    "## (c) Example: Keeping tabs on Congress\n",
    "\n",
    "- we want to find out how many members of congress have mentioned about data science in their press releases\n",
    "\n",
    "- links to all of the representatives’ is given in the websites : https://www.house.gov/representatives\n",
    "\n",
    "- Example, in 'view page source' when we right click on page, the url of each representative looks like:\n",
    "\n",
    "`<td headers=\"view-value-4-table-column\" class=\"views-field views-field-value-4 views-field-value-5\"><a href=\"https://carl.house.gov\">Carl, Jerry</a>        </td>`\n",
    "\n",
    "- under <a, url is written : \n",
    "```<td <a href=\"https://carl.house.gov\">Carl, Jerry</a> </td>```\n",
    "\n",
    "- **steps to get all the urls**\n",
    "  1. read html of https://www.house.gov/representatives\n",
    "  2. parse it\n",
    "  3. under tag `a`, read all `href` attribute\n",
    "  4. extract the ones we want start with either http:// or https://, have some kind of name, and end with either .house.gov or .house.gov/"
   ]
  },
  {
   "cell_type": "code",
   "execution_count": 6,
   "id": "a3e5737b-d2d8-4d7f-846c-2fa7359b6899",
   "metadata": {},
   "outputs": [],
   "source": [
    "import requests\n",
    "from bs4 import BeautifulSoup\n",
    "import re\n",
    "\n",
    "#1. read html as text\n",
    "url = \"https://www.house.gov/representatives\"\n",
    "html = requests.get(url, 'html5lib').text\n",
    "\n",
    "#2. parse using soup\n",
    "soup = BeautifulSoup(html)\n",
    "\n",
    "#3(A). all a tags\n",
    "a_tag = soup('a')\n",
    "\n",
    "#3(B). all href values if a has attribute 'href'\n",
    "all_href = [a.get('href') for a in soup('a')\n",
    "           if a.get('href')]\n",
    "\n",
    "\n",
    "#4. Extract website addresses only from all_href using regex\n",
    "regex = r\"^https?://.*\\.house.gov/?$\"    #starting with http:// or https:// and ending with .house.gov or .house.gov/\n",
    "all_urls = [url for url in all_href\n",
    "                 if re.match(regex, url)]\n",
    "\n",
    "#5. many might be repeating, so create a unique set from list of all_urls\n",
    "unique_urls = set(all_urls)\n"
   ]
  },
  {
   "cell_type": "markdown",
   "id": "fbc1c722-1645-4ae7-9134-4741231e4952",
   "metadata": {},
   "source": [
    "- now we found url of all the congressman listed in website\n",
    "- we will find how many urls mention 'data' in their 'press-release'\n",
    "\n",
    "  **steps to find mention of 'data' in 'press-release' of individual representative**\n",
    "1. we will go to each url and get its html as text\n",
    "2. soup html\n",
    "3. check in a-tag if text \"press release\" is there, if yes, then extract its href, which is link to its press release\n",
    "4. in press release check if any p-tag i.e. paragraph mentions about data"
   ]
  },
  {
   "cell_type": "code",
   "execution_count": 7,
   "id": "0d896efb-e46e-4a3c-9864-4d3b984b57f7",
   "metadata": {},
   "outputs": [],
   "source": [
    "#first lets do it for one url, say https://bice.house.gov'\n",
    "#go to each url and get its html as text\n",
    "\n",
    "\n",
    "url = \"https://bice.house.gov\"\n",
    "html = requests.get(url).text\n",
    "soup = BeautifulSoup(html, 'html5lib')\n",
    "link = [a['href'] for a in soup('a') if 'press release' in a.text.lower()]\n",
    "link = set(link)"
   ]
  },
  {
   "cell_type": "code",
   "execution_count": 71,
   "id": "76dd2b54-e9d3-4e6f-b57f-81d9696d8b1c",
   "metadata": {},
   "outputs": [
    {
     "name": "stderr",
     "output_type": "stream",
     "text": [
      " 13%|█████▍                                    | 56/436 [01:45<11:54,  1.88s/it]\n"
     ]
    },
    {
     "ename": "KeyboardInterrupt",
     "evalue": "",
     "output_type": "error",
     "traceback": [
      "\u001b[0;31m---------------------------------------------------------------------------\u001b[0m",
      "\u001b[0;31mKeyboardInterrupt\u001b[0m                         Traceback (most recent call last)",
      "Cell \u001b[0;32mIn[71], line 7\u001b[0m\n\u001b[1;32m      5\u001b[0m press_releases: Dict[\u001b[38;5;28mstr\u001b[39m, List[\u001b[38;5;28mstr\u001b[39m]] \u001b[38;5;241m=\u001b[39m {}\n\u001b[1;32m      6\u001b[0m \u001b[38;5;28;01mfor\u001b[39;00m url \u001b[38;5;129;01min\u001b[39;00m tqdm(unique_urls):\n\u001b[0;32m----> 7\u001b[0m     html \u001b[38;5;241m=\u001b[39m \u001b[43mrequests\u001b[49m\u001b[38;5;241;43m.\u001b[39;49m\u001b[43mget\u001b[49m\u001b[43m(\u001b[49m\u001b[43murl\u001b[49m\u001b[43m,\u001b[49m\u001b[43m \u001b[49m\u001b[38;5;124;43m'\u001b[39;49m\u001b[38;5;124;43mhtml5lib\u001b[39;49m\u001b[38;5;124;43m'\u001b[39;49m\u001b[43m)\u001b[49m\u001b[38;5;241m.\u001b[39mtext\n\u001b[1;32m      8\u001b[0m     soup \u001b[38;5;241m=\u001b[39m BeautifulSoup(html)\n\u001b[1;32m      9\u001b[0m     link \u001b[38;5;241m=\u001b[39m [a[\u001b[38;5;124m'\u001b[39m\u001b[38;5;124mhref\u001b[39m\u001b[38;5;124m'\u001b[39m] \u001b[38;5;28;01mfor\u001b[39;00m a \u001b[38;5;129;01min\u001b[39;00m soup(\u001b[38;5;124m'\u001b[39m\u001b[38;5;124ma\u001b[39m\u001b[38;5;124m'\u001b[39m) \u001b[38;5;28;01mif\u001b[39;00m \u001b[38;5;124m'\u001b[39m\u001b[38;5;124mpress release\u001b[39m\u001b[38;5;124m'\u001b[39m \u001b[38;5;129;01min\u001b[39;00m a\u001b[38;5;241m.\u001b[39mtext\u001b[38;5;241m.\u001b[39mlower()]\n",
      "File \u001b[0;32m~/anaconda3/envs/dsfs/lib/python3.11/site-packages/requests/api.py:73\u001b[0m, in \u001b[0;36mget\u001b[0;34m(url, params, **kwargs)\u001b[0m\n\u001b[1;32m     62\u001b[0m \u001b[38;5;28;01mdef\u001b[39;00m \u001b[38;5;21mget\u001b[39m(url, params\u001b[38;5;241m=\u001b[39m\u001b[38;5;28;01mNone\u001b[39;00m, \u001b[38;5;241m*\u001b[39m\u001b[38;5;241m*\u001b[39mkwargs):\n\u001b[1;32m     63\u001b[0m \u001b[38;5;250m    \u001b[39m\u001b[38;5;124mr\u001b[39m\u001b[38;5;124;03m\"\"\"Sends a GET request.\u001b[39;00m\n\u001b[1;32m     64\u001b[0m \n\u001b[1;32m     65\u001b[0m \u001b[38;5;124;03m    :param url: URL for the new :class:`Request` object.\u001b[39;00m\n\u001b[0;32m   (...)\u001b[0m\n\u001b[1;32m     70\u001b[0m \u001b[38;5;124;03m    :rtype: requests.Response\u001b[39;00m\n\u001b[1;32m     71\u001b[0m \u001b[38;5;124;03m    \"\"\"\u001b[39;00m\n\u001b[0;32m---> 73\u001b[0m     \u001b[38;5;28;01mreturn\u001b[39;00m \u001b[43mrequest\u001b[49m\u001b[43m(\u001b[49m\u001b[38;5;124;43m\"\u001b[39;49m\u001b[38;5;124;43mget\u001b[39;49m\u001b[38;5;124;43m\"\u001b[39;49m\u001b[43m,\u001b[49m\u001b[43m \u001b[49m\u001b[43murl\u001b[49m\u001b[43m,\u001b[49m\u001b[43m \u001b[49m\u001b[43mparams\u001b[49m\u001b[38;5;241;43m=\u001b[39;49m\u001b[43mparams\u001b[49m\u001b[43m,\u001b[49m\u001b[43m \u001b[49m\u001b[38;5;241;43m*\u001b[39;49m\u001b[38;5;241;43m*\u001b[39;49m\u001b[43mkwargs\u001b[49m\u001b[43m)\u001b[49m\n",
      "File \u001b[0;32m~/anaconda3/envs/dsfs/lib/python3.11/site-packages/requests/api.py:59\u001b[0m, in \u001b[0;36mrequest\u001b[0;34m(method, url, **kwargs)\u001b[0m\n\u001b[1;32m     55\u001b[0m \u001b[38;5;66;03m# By using the 'with' statement we are sure the session is closed, thus we\u001b[39;00m\n\u001b[1;32m     56\u001b[0m \u001b[38;5;66;03m# avoid leaving sockets open which can trigger a ResourceWarning in some\u001b[39;00m\n\u001b[1;32m     57\u001b[0m \u001b[38;5;66;03m# cases, and look like a memory leak in others.\u001b[39;00m\n\u001b[1;32m     58\u001b[0m \u001b[38;5;28;01mwith\u001b[39;00m sessions\u001b[38;5;241m.\u001b[39mSession() \u001b[38;5;28;01mas\u001b[39;00m session:\n\u001b[0;32m---> 59\u001b[0m     \u001b[38;5;28;01mreturn\u001b[39;00m \u001b[43msession\u001b[49m\u001b[38;5;241;43m.\u001b[39;49m\u001b[43mrequest\u001b[49m\u001b[43m(\u001b[49m\u001b[43mmethod\u001b[49m\u001b[38;5;241;43m=\u001b[39;49m\u001b[43mmethod\u001b[49m\u001b[43m,\u001b[49m\u001b[43m \u001b[49m\u001b[43murl\u001b[49m\u001b[38;5;241;43m=\u001b[39;49m\u001b[43murl\u001b[49m\u001b[43m,\u001b[49m\u001b[43m \u001b[49m\u001b[38;5;241;43m*\u001b[39;49m\u001b[38;5;241;43m*\u001b[39;49m\u001b[43mkwargs\u001b[49m\u001b[43m)\u001b[49m\n",
      "File \u001b[0;32m~/anaconda3/envs/dsfs/lib/python3.11/site-packages/requests/sessions.py:589\u001b[0m, in \u001b[0;36mSession.request\u001b[0;34m(self, method, url, params, data, headers, cookies, files, auth, timeout, allow_redirects, proxies, hooks, stream, verify, cert, json)\u001b[0m\n\u001b[1;32m    584\u001b[0m send_kwargs \u001b[38;5;241m=\u001b[39m {\n\u001b[1;32m    585\u001b[0m     \u001b[38;5;124m\"\u001b[39m\u001b[38;5;124mtimeout\u001b[39m\u001b[38;5;124m\"\u001b[39m: timeout,\n\u001b[1;32m    586\u001b[0m     \u001b[38;5;124m\"\u001b[39m\u001b[38;5;124mallow_redirects\u001b[39m\u001b[38;5;124m\"\u001b[39m: allow_redirects,\n\u001b[1;32m    587\u001b[0m }\n\u001b[1;32m    588\u001b[0m send_kwargs\u001b[38;5;241m.\u001b[39mupdate(settings)\n\u001b[0;32m--> 589\u001b[0m resp \u001b[38;5;241m=\u001b[39m \u001b[38;5;28;43mself\u001b[39;49m\u001b[38;5;241;43m.\u001b[39;49m\u001b[43msend\u001b[49m\u001b[43m(\u001b[49m\u001b[43mprep\u001b[49m\u001b[43m,\u001b[49m\u001b[43m \u001b[49m\u001b[38;5;241;43m*\u001b[39;49m\u001b[38;5;241;43m*\u001b[39;49m\u001b[43msend_kwargs\u001b[49m\u001b[43m)\u001b[49m\n\u001b[1;32m    591\u001b[0m \u001b[38;5;28;01mreturn\u001b[39;00m resp\n",
      "File \u001b[0;32m~/anaconda3/envs/dsfs/lib/python3.11/site-packages/requests/sessions.py:703\u001b[0m, in \u001b[0;36mSession.send\u001b[0;34m(self, request, **kwargs)\u001b[0m\n\u001b[1;32m    700\u001b[0m start \u001b[38;5;241m=\u001b[39m preferred_clock()\n\u001b[1;32m    702\u001b[0m \u001b[38;5;66;03m# Send the request\u001b[39;00m\n\u001b[0;32m--> 703\u001b[0m r \u001b[38;5;241m=\u001b[39m \u001b[43madapter\u001b[49m\u001b[38;5;241;43m.\u001b[39;49m\u001b[43msend\u001b[49m\u001b[43m(\u001b[49m\u001b[43mrequest\u001b[49m\u001b[43m,\u001b[49m\u001b[43m \u001b[49m\u001b[38;5;241;43m*\u001b[39;49m\u001b[38;5;241;43m*\u001b[39;49m\u001b[43mkwargs\u001b[49m\u001b[43m)\u001b[49m\n\u001b[1;32m    705\u001b[0m \u001b[38;5;66;03m# Total elapsed time of the request (approximately)\u001b[39;00m\n\u001b[1;32m    706\u001b[0m elapsed \u001b[38;5;241m=\u001b[39m preferred_clock() \u001b[38;5;241m-\u001b[39m start\n",
      "File \u001b[0;32m~/anaconda3/envs/dsfs/lib/python3.11/site-packages/requests/adapters.py:486\u001b[0m, in \u001b[0;36mHTTPAdapter.send\u001b[0;34m(self, request, stream, timeout, verify, cert, proxies)\u001b[0m\n\u001b[1;32m    483\u001b[0m     timeout \u001b[38;5;241m=\u001b[39m TimeoutSauce(connect\u001b[38;5;241m=\u001b[39mtimeout, read\u001b[38;5;241m=\u001b[39mtimeout)\n\u001b[1;32m    485\u001b[0m \u001b[38;5;28;01mtry\u001b[39;00m:\n\u001b[0;32m--> 486\u001b[0m     resp \u001b[38;5;241m=\u001b[39m \u001b[43mconn\u001b[49m\u001b[38;5;241;43m.\u001b[39;49m\u001b[43murlopen\u001b[49m\u001b[43m(\u001b[49m\n\u001b[1;32m    487\u001b[0m \u001b[43m        \u001b[49m\u001b[43mmethod\u001b[49m\u001b[38;5;241;43m=\u001b[39;49m\u001b[43mrequest\u001b[49m\u001b[38;5;241;43m.\u001b[39;49m\u001b[43mmethod\u001b[49m\u001b[43m,\u001b[49m\n\u001b[1;32m    488\u001b[0m \u001b[43m        \u001b[49m\u001b[43murl\u001b[49m\u001b[38;5;241;43m=\u001b[39;49m\u001b[43murl\u001b[49m\u001b[43m,\u001b[49m\n\u001b[1;32m    489\u001b[0m \u001b[43m        \u001b[49m\u001b[43mbody\u001b[49m\u001b[38;5;241;43m=\u001b[39;49m\u001b[43mrequest\u001b[49m\u001b[38;5;241;43m.\u001b[39;49m\u001b[43mbody\u001b[49m\u001b[43m,\u001b[49m\n\u001b[1;32m    490\u001b[0m \u001b[43m        \u001b[49m\u001b[43mheaders\u001b[49m\u001b[38;5;241;43m=\u001b[39;49m\u001b[43mrequest\u001b[49m\u001b[38;5;241;43m.\u001b[39;49m\u001b[43mheaders\u001b[49m\u001b[43m,\u001b[49m\n\u001b[1;32m    491\u001b[0m \u001b[43m        \u001b[49m\u001b[43mredirect\u001b[49m\u001b[38;5;241;43m=\u001b[39;49m\u001b[38;5;28;43;01mFalse\u001b[39;49;00m\u001b[43m,\u001b[49m\n\u001b[1;32m    492\u001b[0m \u001b[43m        \u001b[49m\u001b[43massert_same_host\u001b[49m\u001b[38;5;241;43m=\u001b[39;49m\u001b[38;5;28;43;01mFalse\u001b[39;49;00m\u001b[43m,\u001b[49m\n\u001b[1;32m    493\u001b[0m \u001b[43m        \u001b[49m\u001b[43mpreload_content\u001b[49m\u001b[38;5;241;43m=\u001b[39;49m\u001b[38;5;28;43;01mFalse\u001b[39;49;00m\u001b[43m,\u001b[49m\n\u001b[1;32m    494\u001b[0m \u001b[43m        \u001b[49m\u001b[43mdecode_content\u001b[49m\u001b[38;5;241;43m=\u001b[39;49m\u001b[38;5;28;43;01mFalse\u001b[39;49;00m\u001b[43m,\u001b[49m\n\u001b[1;32m    495\u001b[0m \u001b[43m        \u001b[49m\u001b[43mretries\u001b[49m\u001b[38;5;241;43m=\u001b[39;49m\u001b[38;5;28;43mself\u001b[39;49m\u001b[38;5;241;43m.\u001b[39;49m\u001b[43mmax_retries\u001b[49m\u001b[43m,\u001b[49m\n\u001b[1;32m    496\u001b[0m \u001b[43m        \u001b[49m\u001b[43mtimeout\u001b[49m\u001b[38;5;241;43m=\u001b[39;49m\u001b[43mtimeout\u001b[49m\u001b[43m,\u001b[49m\n\u001b[1;32m    497\u001b[0m \u001b[43m        \u001b[49m\u001b[43mchunked\u001b[49m\u001b[38;5;241;43m=\u001b[39;49m\u001b[43mchunked\u001b[49m\u001b[43m,\u001b[49m\n\u001b[1;32m    498\u001b[0m \u001b[43m    \u001b[49m\u001b[43m)\u001b[49m\n\u001b[1;32m    500\u001b[0m \u001b[38;5;28;01mexcept\u001b[39;00m (ProtocolError, \u001b[38;5;167;01mOSError\u001b[39;00m) \u001b[38;5;28;01mas\u001b[39;00m err:\n\u001b[1;32m    501\u001b[0m     \u001b[38;5;28;01mraise\u001b[39;00m \u001b[38;5;167;01mConnectionError\u001b[39;00m(err, request\u001b[38;5;241m=\u001b[39mrequest)\n",
      "File \u001b[0;32m~/anaconda3/envs/dsfs/lib/python3.11/site-packages/urllib3/connectionpool.py:790\u001b[0m, in \u001b[0;36mHTTPConnectionPool.urlopen\u001b[0;34m(self, method, url, body, headers, retries, redirect, assert_same_host, timeout, pool_timeout, release_conn, chunked, body_pos, preload_content, decode_content, **response_kw)\u001b[0m\n\u001b[1;32m    787\u001b[0m response_conn \u001b[38;5;241m=\u001b[39m conn \u001b[38;5;28;01mif\u001b[39;00m \u001b[38;5;129;01mnot\u001b[39;00m release_conn \u001b[38;5;28;01melse\u001b[39;00m \u001b[38;5;28;01mNone\u001b[39;00m\n\u001b[1;32m    789\u001b[0m \u001b[38;5;66;03m# Make the request on the HTTPConnection object\u001b[39;00m\n\u001b[0;32m--> 790\u001b[0m response \u001b[38;5;241m=\u001b[39m \u001b[38;5;28;43mself\u001b[39;49m\u001b[38;5;241;43m.\u001b[39;49m\u001b[43m_make_request\u001b[49m\u001b[43m(\u001b[49m\n\u001b[1;32m    791\u001b[0m \u001b[43m    \u001b[49m\u001b[43mconn\u001b[49m\u001b[43m,\u001b[49m\n\u001b[1;32m    792\u001b[0m \u001b[43m    \u001b[49m\u001b[43mmethod\u001b[49m\u001b[43m,\u001b[49m\n\u001b[1;32m    793\u001b[0m \u001b[43m    \u001b[49m\u001b[43murl\u001b[49m\u001b[43m,\u001b[49m\n\u001b[1;32m    794\u001b[0m \u001b[43m    \u001b[49m\u001b[43mtimeout\u001b[49m\u001b[38;5;241;43m=\u001b[39;49m\u001b[43mtimeout_obj\u001b[49m\u001b[43m,\u001b[49m\n\u001b[1;32m    795\u001b[0m \u001b[43m    \u001b[49m\u001b[43mbody\u001b[49m\u001b[38;5;241;43m=\u001b[39;49m\u001b[43mbody\u001b[49m\u001b[43m,\u001b[49m\n\u001b[1;32m    796\u001b[0m \u001b[43m    \u001b[49m\u001b[43mheaders\u001b[49m\u001b[38;5;241;43m=\u001b[39;49m\u001b[43mheaders\u001b[49m\u001b[43m,\u001b[49m\n\u001b[1;32m    797\u001b[0m \u001b[43m    \u001b[49m\u001b[43mchunked\u001b[49m\u001b[38;5;241;43m=\u001b[39;49m\u001b[43mchunked\u001b[49m\u001b[43m,\u001b[49m\n\u001b[1;32m    798\u001b[0m \u001b[43m    \u001b[49m\u001b[43mretries\u001b[49m\u001b[38;5;241;43m=\u001b[39;49m\u001b[43mretries\u001b[49m\u001b[43m,\u001b[49m\n\u001b[1;32m    799\u001b[0m \u001b[43m    \u001b[49m\u001b[43mresponse_conn\u001b[49m\u001b[38;5;241;43m=\u001b[39;49m\u001b[43mresponse_conn\u001b[49m\u001b[43m,\u001b[49m\n\u001b[1;32m    800\u001b[0m \u001b[43m    \u001b[49m\u001b[43mpreload_content\u001b[49m\u001b[38;5;241;43m=\u001b[39;49m\u001b[43mpreload_content\u001b[49m\u001b[43m,\u001b[49m\n\u001b[1;32m    801\u001b[0m \u001b[43m    \u001b[49m\u001b[43mdecode_content\u001b[49m\u001b[38;5;241;43m=\u001b[39;49m\u001b[43mdecode_content\u001b[49m\u001b[43m,\u001b[49m\n\u001b[1;32m    802\u001b[0m \u001b[43m    \u001b[49m\u001b[38;5;241;43m*\u001b[39;49m\u001b[38;5;241;43m*\u001b[39;49m\u001b[43mresponse_kw\u001b[49m\u001b[43m,\u001b[49m\n\u001b[1;32m    803\u001b[0m \u001b[43m\u001b[49m\u001b[43m)\u001b[49m\n\u001b[1;32m    805\u001b[0m \u001b[38;5;66;03m# Everything went great!\u001b[39;00m\n\u001b[1;32m    806\u001b[0m clean_exit \u001b[38;5;241m=\u001b[39m \u001b[38;5;28;01mTrue\u001b[39;00m\n",
      "File \u001b[0;32m~/anaconda3/envs/dsfs/lib/python3.11/site-packages/urllib3/connectionpool.py:536\u001b[0m, in \u001b[0;36mHTTPConnectionPool._make_request\u001b[0;34m(self, conn, method, url, body, headers, retries, timeout, chunked, response_conn, preload_content, decode_content, enforce_content_length)\u001b[0m\n\u001b[1;32m    534\u001b[0m \u001b[38;5;66;03m# Receive the response from the server\u001b[39;00m\n\u001b[1;32m    535\u001b[0m \u001b[38;5;28;01mtry\u001b[39;00m:\n\u001b[0;32m--> 536\u001b[0m     response \u001b[38;5;241m=\u001b[39m \u001b[43mconn\u001b[49m\u001b[38;5;241;43m.\u001b[39;49m\u001b[43mgetresponse\u001b[49m\u001b[43m(\u001b[49m\u001b[43m)\u001b[49m\n\u001b[1;32m    537\u001b[0m \u001b[38;5;28;01mexcept\u001b[39;00m (BaseSSLError, \u001b[38;5;167;01mOSError\u001b[39;00m) \u001b[38;5;28;01mas\u001b[39;00m e:\n\u001b[1;32m    538\u001b[0m     \u001b[38;5;28mself\u001b[39m\u001b[38;5;241m.\u001b[39m_raise_timeout(err\u001b[38;5;241m=\u001b[39me, url\u001b[38;5;241m=\u001b[39murl, timeout_value\u001b[38;5;241m=\u001b[39mread_timeout)\n",
      "File \u001b[0;32m~/anaconda3/envs/dsfs/lib/python3.11/site-packages/urllib3/connection.py:461\u001b[0m, in \u001b[0;36mHTTPConnection.getresponse\u001b[0;34m(self)\u001b[0m\n\u001b[1;32m    458\u001b[0m \u001b[38;5;28;01mfrom\u001b[39;00m \u001b[38;5;21;01m.\u001b[39;00m\u001b[38;5;21;01mresponse\u001b[39;00m \u001b[38;5;28;01mimport\u001b[39;00m HTTPResponse\n\u001b[1;32m    460\u001b[0m \u001b[38;5;66;03m# Get the response from http.client.HTTPConnection\u001b[39;00m\n\u001b[0;32m--> 461\u001b[0m httplib_response \u001b[38;5;241m=\u001b[39m \u001b[38;5;28;43msuper\u001b[39;49m\u001b[43m(\u001b[49m\u001b[43m)\u001b[49m\u001b[38;5;241;43m.\u001b[39;49m\u001b[43mgetresponse\u001b[49m\u001b[43m(\u001b[49m\u001b[43m)\u001b[49m\n\u001b[1;32m    463\u001b[0m \u001b[38;5;28;01mtry\u001b[39;00m:\n\u001b[1;32m    464\u001b[0m     assert_header_parsing(httplib_response\u001b[38;5;241m.\u001b[39mmsg)\n",
      "File \u001b[0;32m~/anaconda3/envs/dsfs/lib/python3.11/http/client.py:1378\u001b[0m, in \u001b[0;36mHTTPConnection.getresponse\u001b[0;34m(self)\u001b[0m\n\u001b[1;32m   1376\u001b[0m \u001b[38;5;28;01mtry\u001b[39;00m:\n\u001b[1;32m   1377\u001b[0m     \u001b[38;5;28;01mtry\u001b[39;00m:\n\u001b[0;32m-> 1378\u001b[0m         \u001b[43mresponse\u001b[49m\u001b[38;5;241;43m.\u001b[39;49m\u001b[43mbegin\u001b[49m\u001b[43m(\u001b[49m\u001b[43m)\u001b[49m\n\u001b[1;32m   1379\u001b[0m     \u001b[38;5;28;01mexcept\u001b[39;00m \u001b[38;5;167;01mConnectionError\u001b[39;00m:\n\u001b[1;32m   1380\u001b[0m         \u001b[38;5;28mself\u001b[39m\u001b[38;5;241m.\u001b[39mclose()\n",
      "File \u001b[0;32m~/anaconda3/envs/dsfs/lib/python3.11/http/client.py:318\u001b[0m, in \u001b[0;36mHTTPResponse.begin\u001b[0;34m(self)\u001b[0m\n\u001b[1;32m    316\u001b[0m \u001b[38;5;66;03m# read until we get a non-100 response\u001b[39;00m\n\u001b[1;32m    317\u001b[0m \u001b[38;5;28;01mwhile\u001b[39;00m \u001b[38;5;28;01mTrue\u001b[39;00m:\n\u001b[0;32m--> 318\u001b[0m     version, status, reason \u001b[38;5;241m=\u001b[39m \u001b[38;5;28;43mself\u001b[39;49m\u001b[38;5;241;43m.\u001b[39;49m\u001b[43m_read_status\u001b[49m\u001b[43m(\u001b[49m\u001b[43m)\u001b[49m\n\u001b[1;32m    319\u001b[0m     \u001b[38;5;28;01mif\u001b[39;00m status \u001b[38;5;241m!=\u001b[39m CONTINUE:\n\u001b[1;32m    320\u001b[0m         \u001b[38;5;28;01mbreak\u001b[39;00m\n",
      "File \u001b[0;32m~/anaconda3/envs/dsfs/lib/python3.11/http/client.py:279\u001b[0m, in \u001b[0;36mHTTPResponse._read_status\u001b[0;34m(self)\u001b[0m\n\u001b[1;32m    278\u001b[0m \u001b[38;5;28;01mdef\u001b[39;00m \u001b[38;5;21m_read_status\u001b[39m(\u001b[38;5;28mself\u001b[39m):\n\u001b[0;32m--> 279\u001b[0m     line \u001b[38;5;241m=\u001b[39m \u001b[38;5;28mstr\u001b[39m(\u001b[38;5;28mself\u001b[39m\u001b[38;5;241m.\u001b[39mfp\u001b[38;5;241m.\u001b[39mreadline(_MAXLINE \u001b[38;5;241m+\u001b[39m \u001b[38;5;241m1\u001b[39m), \u001b[38;5;124m\"\u001b[39m\u001b[38;5;124miso-8859-1\u001b[39m\u001b[38;5;124m\"\u001b[39m)\n\u001b[1;32m    280\u001b[0m     \u001b[38;5;28;01mif\u001b[39;00m \u001b[38;5;28mlen\u001b[39m(line) \u001b[38;5;241m>\u001b[39m _MAXLINE:\n\u001b[1;32m    281\u001b[0m         \u001b[38;5;28;01mraise\u001b[39;00m LineTooLong(\u001b[38;5;124m\"\u001b[39m\u001b[38;5;124mstatus line\u001b[39m\u001b[38;5;124m\"\u001b[39m)\n",
      "File \u001b[0;32m~/anaconda3/envs/dsfs/lib/python3.11/socket.py:706\u001b[0m, in \u001b[0;36mSocketIO.readinto\u001b[0;34m(self, b)\u001b[0m\n\u001b[1;32m    704\u001b[0m \u001b[38;5;28;01mwhile\u001b[39;00m \u001b[38;5;28;01mTrue\u001b[39;00m:\n\u001b[1;32m    705\u001b[0m     \u001b[38;5;28;01mtry\u001b[39;00m:\n\u001b[0;32m--> 706\u001b[0m         \u001b[38;5;28;01mreturn\u001b[39;00m \u001b[38;5;28;43mself\u001b[39;49m\u001b[38;5;241;43m.\u001b[39;49m\u001b[43m_sock\u001b[49m\u001b[38;5;241;43m.\u001b[39;49m\u001b[43mrecv_into\u001b[49m\u001b[43m(\u001b[49m\u001b[43mb\u001b[49m\u001b[43m)\u001b[49m\n\u001b[1;32m    707\u001b[0m     \u001b[38;5;28;01mexcept\u001b[39;00m timeout:\n\u001b[1;32m    708\u001b[0m         \u001b[38;5;28mself\u001b[39m\u001b[38;5;241m.\u001b[39m_timeout_occurred \u001b[38;5;241m=\u001b[39m \u001b[38;5;28;01mTrue\u001b[39;00m\n",
      "File \u001b[0;32m~/anaconda3/envs/dsfs/lib/python3.11/ssl.py:1311\u001b[0m, in \u001b[0;36mSSLSocket.recv_into\u001b[0;34m(self, buffer, nbytes, flags)\u001b[0m\n\u001b[1;32m   1307\u001b[0m     \u001b[38;5;28;01mif\u001b[39;00m flags \u001b[38;5;241m!=\u001b[39m \u001b[38;5;241m0\u001b[39m:\n\u001b[1;32m   1308\u001b[0m         \u001b[38;5;28;01mraise\u001b[39;00m \u001b[38;5;167;01mValueError\u001b[39;00m(\n\u001b[1;32m   1309\u001b[0m           \u001b[38;5;124m\"\u001b[39m\u001b[38;5;124mnon-zero flags not allowed in calls to recv_into() on \u001b[39m\u001b[38;5;132;01m%s\u001b[39;00m\u001b[38;5;124m\"\u001b[39m \u001b[38;5;241m%\u001b[39m\n\u001b[1;32m   1310\u001b[0m           \u001b[38;5;28mself\u001b[39m\u001b[38;5;241m.\u001b[39m\u001b[38;5;18m__class__\u001b[39m)\n\u001b[0;32m-> 1311\u001b[0m     \u001b[38;5;28;01mreturn\u001b[39;00m \u001b[38;5;28;43mself\u001b[39;49m\u001b[38;5;241;43m.\u001b[39;49m\u001b[43mread\u001b[49m\u001b[43m(\u001b[49m\u001b[43mnbytes\u001b[49m\u001b[43m,\u001b[49m\u001b[43m \u001b[49m\u001b[43mbuffer\u001b[49m\u001b[43m)\u001b[49m\n\u001b[1;32m   1312\u001b[0m \u001b[38;5;28;01melse\u001b[39;00m:\n\u001b[1;32m   1313\u001b[0m     \u001b[38;5;28;01mreturn\u001b[39;00m \u001b[38;5;28msuper\u001b[39m()\u001b[38;5;241m.\u001b[39mrecv_into(buffer, nbytes, flags)\n",
      "File \u001b[0;32m~/anaconda3/envs/dsfs/lib/python3.11/ssl.py:1167\u001b[0m, in \u001b[0;36mSSLSocket.read\u001b[0;34m(self, len, buffer)\u001b[0m\n\u001b[1;32m   1165\u001b[0m \u001b[38;5;28;01mtry\u001b[39;00m:\n\u001b[1;32m   1166\u001b[0m     \u001b[38;5;28;01mif\u001b[39;00m buffer \u001b[38;5;129;01mis\u001b[39;00m \u001b[38;5;129;01mnot\u001b[39;00m \u001b[38;5;28;01mNone\u001b[39;00m:\n\u001b[0;32m-> 1167\u001b[0m         \u001b[38;5;28;01mreturn\u001b[39;00m \u001b[38;5;28;43mself\u001b[39;49m\u001b[38;5;241;43m.\u001b[39;49m\u001b[43m_sslobj\u001b[49m\u001b[38;5;241;43m.\u001b[39;49m\u001b[43mread\u001b[49m\u001b[43m(\u001b[49m\u001b[38;5;28;43mlen\u001b[39;49m\u001b[43m,\u001b[49m\u001b[43m \u001b[49m\u001b[43mbuffer\u001b[49m\u001b[43m)\u001b[49m\n\u001b[1;32m   1168\u001b[0m     \u001b[38;5;28;01melse\u001b[39;00m:\n\u001b[1;32m   1169\u001b[0m         \u001b[38;5;28;01mreturn\u001b[39;00m \u001b[38;5;28mself\u001b[39m\u001b[38;5;241m.\u001b[39m_sslobj\u001b[38;5;241m.\u001b[39mread(\u001b[38;5;28mlen\u001b[39m)\n",
      "\u001b[0;31mKeyboardInterrupt\u001b[0m: "
     ]
    }
   ],
   "source": [
    "#lets do scraping for all the unique_url\n",
    "from typing import Dict, List\n",
    "from tqdm import tqdm\n",
    "\n",
    "press_releases: Dict[str, List[str]] = {}\n",
    "for url in tqdm(unique_urls):\n",
    "    html = requests.get(url, 'html5lib').text\n",
    "    soup = BeautifulSoup(html)\n",
    "    link = [a['href'] for a in soup('a') if 'press release' in a.text.lower()]\n",
    "    link = list(set(link))\n",
    "    press_releases[url] = link"
   ]
  },
  {
   "cell_type": "code",
   "execution_count": 72,
   "id": "9912e93e-ec7e-44ff-a30f-e1578cbc3a78",
   "metadata": {},
   "outputs": [
    {
     "name": "stdout",
     "output_type": "stream",
     "text": [
      "{'https://titus.house.gov/': ['/news/documentquery.aspx?DocumentTypeID=27'], 'https://huizenga.house.gov/': ['/News/DocumentQuery.aspx?DocumentTypeID=2041'], 'https://ezell.house.gov': ['/news/documentquery.aspx?DocumentTypeID=27'], 'https://dondavis.house.gov': ['/media/press-releases', '/issues/grants'], 'https://bean.house.gov': ['/media/press-releases'], 'https://harris.house.gov/': ['/media/press-releases'], 'https://lofgren.house.gov/': ['/media/press-releases'], 'https://porter.house.gov/': [], 'https://marymiller.house.gov': ['/media/press-releases', '/media/subscribe-press-releases'], 'https://molinaro.house.gov': ['/news/documentquery.aspx?DocumentTypeID=27'], 'https://posey.house.gov/': ['/News/DocumentQuery.aspx?DocumentTypeID=1487'], 'https://bergman.house.gov': ['/news/documentquery.aspx?DocumentTypeID=27'], 'https://gosar.house.gov/': ['/news/email'], 'https://plaskett.house.gov/': ['/news/documentquery.aspx?documenttypeid=27'], 'https://larsen.house.gov': ['/news/documentquery.aspx?DocumentTypeID=27'], 'https://arrington.house.gov': ['/news/documentquery.aspx?DocumentTypeID=27'], 'https://castor.house.gov/': ['/News/DocumentQuery.aspx?DocumentTypeID=821'], 'https://gaetz.house.gov': ['/media/press-releases'], 'https://foster.house.gov': ['/media/press-releases'], 'https://wexton.house.gov/': ['/news/documentquery.aspx?DocumentTypeID=27'], 'https://johnrose.house.gov/': ['/media/press-releases'], 'https://meeks.house.gov': ['/media/press-releases', 'https://democrats-foreignaffairs.house.gov/press-releases'], 'https://raskin.house.gov': ['/press-releases'], 'https://westerman.house.gov/': ['/media-center/press-releases'], 'https://kamlager-dove.house.gov': ['/media/press-releases'], 'https://gonzales.house.gov': ['/press-releases'], 'https://cline.house.gov': ['/news/documentquery.aspx?DocumentTypeID=27'], 'https://grijalva.house.gov/': ['https://grijalva.house.gov/category/congress_press_release/'], 'https://collins.house.gov': ['/media/press-releases'], 'https://chrissmith.house.gov/': [], 'https://womack.house.gov/': ['/News/DocumentQuery.aspx?DocumentTypeID=2067'], 'https://larson.house.gov/': ['/media-center/press-releases'], 'https://vargas.house.gov': ['https://vargas.house.gov/media-center/press-releases'], 'https://cartwright.house.gov': ['/news/documentquery.aspx?DocumentTypeID=2442'], 'https://owens.house.gov': [], 'https://budzinski.house.gov': [], 'https://norton.house.gov/': ['/media/press-releases'], 'https://scottpeters.house.gov': ['/press-releases'], 'https://mooney.house.gov/': ['/news/#press'], 'https://rutherford.house.gov': ['/media/press-releases'], 'https://james.house.gov': ['/media/press-releases'], 'https://murphy.house.gov': ['/media/press-releases'], 'https://delauro.house.gov/': ['/media-center/press-releases'], 'https://sessions.house.gov': ['/press-releases'], 'https://hoyer.house.gov/': ['/media/press-releases'], 'https://buck.house.gov/': ['/media-center/press-releases'], 'https://levin.house.gov/': ['https://levin.house.gov/media/press-releases'], 'https://fulcher.house.gov/': ['/press-releases?id=740F3D55-8946-4331-B6AF-56FD0F7164FE', '/press-releases', '/press-releases?id=74894EB8-ADF7-4131-B5C2-3FD4941B65D7', '/press-releases?id=3C70D45C-930A-4139-910B-59D9ECEF8B4C', '/press-releases?id=0D37B96F-4F2C-42F9-8DB5-9C69397C8272', '/press-releases?id=7B71F598-D399-40E1-8665-6F5D84740917'], 'https://obernolte.house.gov': ['/media/press-releases'], 'https://carbajal.house.gov': ['/news/documentquery.aspx?DocumentTypeID=27'], 'https://mccollum.house.gov': ['/media/press-releases'], 'https://boebert.house.gov': ['/media/press-releases'], 'https://norman.house.gov': ['/news/documentquery.aspx?DocumentTypeID=27'], 'https://lalota.house.gov': ['/media/press-releases'], 'https://bice.house.gov': ['/media/press-releases'], 'https://ocasio-cortez.house.gov/': ['/media/press-releases']}\n"
     ]
    }
   ],
   "source": [
    "print(press_releases)"
   ]
  },
  {
   "cell_type": "code",
   "execution_count": 88,
   "id": "548b4593-3498-46a8-a805-7fc909965e2c",
   "metadata": {},
   "outputs": [],
   "source": [
    "#We’ll write a slightly more general function that checks whether a page of press releases mentions any given 'keyword'\n",
    "#If you visit the site and view the source, it seems like there’s a snippet from \n",
    "#each press release inside a <p> tag, so we’ll use that as our first attempt:\n",
    "\n",
    "def paragraph_mentions(text: str, keyword: str) -> bool:\n",
    "    \"\"\"Returns True if a <p> inside the text mentions {keyword}\"\"\"\n",
    "    soup = BeautifulSoup(text, 'html5lib')\n",
    "\n",
    "    paragraphs = [p.get_text() for p in soup('p')]\n",
    "\n",
    "    return any(keyword.lower() in paragraph.lower() for paragraph in paragraphs)\n",
    "\n",
    "#Let’s write a quick test for it:\n",
    "text = \"\"\"<body><h1>Facebook</h1><p>Twitter</p>\"\"\"\n",
    "assert paragraph_mentions(text, 'twitter') == True\n",
    "assert paragraph_mentions(text, 'facebook') == False"
   ]
  },
  {
   "cell_type": "code",
   "execution_count": 107,
   "id": "d9de17b2-5765-4525-9145-74d874876976",
   "metadata": {},
   "outputs": [
    {
     "name": "stderr",
     "output_type": "stream",
     "text": [
      " 30%|█████████████                              | 17/56 [00:08<00:13,  2.90it/s]"
     ]
    },
    {
     "name": "stdout",
     "output_type": "stream",
     "text": [
      "https://castor.house.gov/\n"
     ]
    },
    {
     "name": "stderr",
     "output_type": "stream",
     "text": [
      " 61%|██████████████████████████                 | 34/56 [00:21<00:13,  1.61it/s]"
     ]
    },
    {
     "name": "stdout",
     "output_type": "stream",
     "text": [
      "https://cartwright.house.gov\n"
     ]
    },
    {
     "name": "stderr",
     "output_type": "stream",
     "text": [
      " 66%|████████████████████████████▍              | 37/56 [00:21<00:06,  3.01it/s]"
     ]
    },
    {
     "name": "stdout",
     "output_type": "stream",
     "text": [
      "https://norton.house.gov/\n"
     ]
    },
    {
     "name": "stderr",
     "output_type": "stream",
     "text": [
      " 70%|█████████████████████████████▉             | 39/56 [00:22<00:05,  3.13it/s]"
     ]
    },
    {
     "name": "stdout",
     "output_type": "stream",
     "text": [
      "https://mooney.house.gov/\n"
     ]
    },
    {
     "name": "stderr",
     "output_type": "stream",
     "text": [
      " 77%|█████████████████████████████████          | 43/56 [00:25<00:08,  1.47it/s]"
     ]
    },
    {
     "name": "stdout",
     "output_type": "stream",
     "text": [
      "https://delauro.house.gov/\n"
     ]
    },
    {
     "name": "stderr",
     "output_type": "stream",
     "text": [
      " 80%|██████████████████████████████████▌        | 45/56 [00:26<00:06,  1.59it/s]"
     ]
    },
    {
     "name": "stdout",
     "output_type": "stream",
     "text": [
      "https://hoyer.house.gov/\n"
     ]
    },
    {
     "name": "stderr",
     "output_type": "stream",
     "text": [
      " 82%|███████████████████████████████████▎       | 46/56 [00:27<00:06,  1.48it/s]"
     ]
    },
    {
     "name": "stdout",
     "output_type": "stream",
     "text": [
      "https://buck.house.gov/\n"
     ]
    },
    {
     "name": "stderr",
     "output_type": "stream",
     "text": [
      "100%|███████████████████████████████████████████| 56/56 [00:35<00:00,  1.59it/s]\n"
     ]
    }
   ],
   "source": [
    "#find it anywhere in html under <p> 'data' is mentioned\n",
    "\n",
    "for house_url, pr_links in tqdm(press_releases.items()):\n",
    "    for pr_link in pr_links:\n",
    "        url = f\"{house_url}/{pr_link}\"\n",
    "        text = requests.get(url).text\n",
    "        if paragraph_mentions(text, 'data'):\n",
    "            print(f\"{house_url}\")\n",
    "            break # done with this house_url"
   ]
  },
  {
   "cell_type": "markdown",
   "id": "075bd0e9-da4c-4bc3-a6fe-972839298bb8",
   "metadata": {},
   "source": [
    "If you look at the various “press releases” pages, most of them are paginated with only 5 or 10 press releases per page. This means that we only retrieved the few most recent press releases for each congressperson. A more thorough solution would have iterated over the pages and retrieved the full text of each press release.\n"
   ]
  },
  {
   "cell_type": "markdown",
   "id": "f7a49f7c-d368-470e-b9b6-f0da8b0829d2",
   "metadata": {},
   "source": [
    "# 4. Using APIs\n",
    "\n",
    "## 1. Application programming interface (API)\n",
    "\n",
    "- An API (Application Programming Interface) is a set of rules and protocols that allows different software applications to communicate with each other.\n",
    "\n",
    "-   It defines the methods and data formats that applications can use to request and exchange information.\n",
    "\n",
    "- Imagine you are at a restaurant. The restaurant's menu is like an API. It provides you with a list of dishes (functions or services) that you can order (use). Each dish has a name (function name) and a description (function documentation) that tells you what it does and how it's prepared.\n",
    "- Now, you (the client) want to order a dish (use a service) from the menu (API). You don't need to know how the dish is prepared or what ingredients are used; you just need to know its name and what it does. You tell the waiter (the API) the name of the dish you want, and the waiter takes your order to the kitchen (the server) where the chef (the software) prepares the dish and brings it back to you.\n",
    "\n",
    "- Similarly, in software development, an API provides a set of functions, methods, or endpoints that developers can use to interact with a system or service. Developers don't need to know the internal details of how the system works; they only need to know how to use the API to perform specific tasks or access certain functionalities.\n",
    "\n",
    "### API for web scraping\n",
    "- Many websites and web services provide application programming interfaces (APIs), which allow you to explicitly request data in a structured format.\n",
    "\n",
    "- This saves you the trouble of having to scrape them!\n",
    "\n",
    "## 2. JSON and XML\r\n",
    "    * Because HTTP is a protocol for transferring text, the data you request through a web API needs to be serialized into a string format.\n",
    "    * Often this serialization uses <u>JavaScript Object Notation (JSON)</u>.\n",
    "    * JavaScript objects look quite similar to Python dicts, which makes their string representations\r",
    "easy to interpret\n",
    "\n",
    "Example of JSON:   \n",
    "\n",
    "{ \"title\" : \"Data Science Book\", \r",
    "\"author\" : \"Joel Grus\", \r",
    "\"publicationYear\" : 2019, \r",
    "\"topics\" : [ \"data\", \"science\", \"data science\"] }\n",
    "\n",
    "### Parse JSON file\n",
    "- use python's JSON module\n",
    "\n",
    "- 'load' function deserializes JSON object into python object"
   ]
  },
  {
   "cell_type": "code",
   "execution_count": 111,
   "id": "1ad23896-2599-40b0-b8b4-cf6763a80993",
   "metadata": {},
   "outputs": [
    {
     "name": "stdout",
     "output_type": "stream",
     "text": [
      "<class 'str'>\n",
      "<class 'dict'>\n"
     ]
    }
   ],
   "source": [
    "import json\n",
    "\n",
    "serialized = \"\"\"{ \"title\" : \"Data Science Book\",\n",
    "\"author\" : \"Joel Grus\",\n",
    "\"publicationYear\" : 2019,\n",
    "\"topics\" : [ \"data\", \"science\", \"data science\"] }\"\"\"\n",
    "\n",
    "#parse json to create python dictionary\n",
    "deserialized = json.loads(serialized)    \n",
    "\n",
    "#check the type of objects\n",
    "print(type(serialized))            \n",
    "print(type(deserialized))"
   ]
  },
  {
   "cell_type": "code",
   "execution_count": 114,
   "id": "851f17bb-2ed3-44f0-8e4f-52d4c5217d3f",
   "metadata": {},
   "outputs": [
    {
     "data": {
      "text/plain": [
       "'<Book>\\n    <Title>Data Science Book</Title>\\n    <Author>Joel Grus</Author>\\n    <PublicationYear>2014</PublicationYear>\\n    <Topics>\\n        <Topic>data</Topic>\\n        <Topic>science</Topic>\\n        <Topic>data science</Topic>\\n    </Topics>\\n</Book>'"
      ]
     },
     "execution_count": 114,
     "metadata": {},
     "output_type": "execute_result"
    }
   ],
   "source": [
    "# Sometimes an API provider hates you and provides only responses in XML\n",
    "# it should be scraped like html using BeautifulSoup\n",
    "'''<Book>\n",
    "    <Title>Data Science Book</Title>\n",
    "    <Author>Joel Grus</Author>\n",
    "    <PublicationYear>2014</PublicationYear>\n",
    "    <Topics>\n",
    "        <Topic>data</Topic>\n",
    "        <Topic>science</Topic>\n",
    "        <Topic>data science</Topic>\n",
    "    </Topics>\n",
    "</Book>'''"
   ]
  },
  {
   "cell_type": "markdown",
   "id": "b4d497ac-a583-4743-91e8-23040ff76d00",
   "metadata": {},
   "source": [
    "- Most APIs these days require that you first authenticate yourself before you can use them.\n",
    "\n",
    "- While we don’t begrudge them this policy, it creates a lot of extra boilerplate that muddies up our exposition.\n",
    "\n",
    "- Accordingly, we’ll start by taking a look at GitHub’s API(https://api.github.com/users/joelgrus/repos), with which we can do some simple things unauthenticated:"
   ]
  },
  {
   "cell_type": "code",
   "execution_count": 147,
   "id": "93bdea39-13ff-4d1d-ba60-e2431d56ef6e",
   "metadata": {},
   "outputs": [
    {
     "name": "stdout",
     "output_type": "stream",
     "text": [
      "<class 'list'>\n",
      "<class 'str'>\n",
      "[{'id': 112873601, 'node_id': 'MDEwOlJlcG9zaXRvcnkxMTI4NzM2MDE=', 'name': 'advent2017', 'full_name': 'joelgrus/advent2017', 'private': False, 'owner': {'login': 'joelgrus', 'id': 1308313, 'node_id': 'MDQ6VXNlcjEzMDgzMTM=', 'avatar_url': 'https://avatars.githubusercontent.com/u/1308313?v=4', 'gravatar_id': '', 'url': 'https://api.github.com/users/joelgrus', 'html_url': 'https://github.com/joelgrus', 'followers_url': 'https://api.github.com/users/joelgrus/followers', 'following_url': 'https://api.github.com/users/joelgrus/following{/other_user}', 'gists_url': 'https://api.github.com/users/joelgrus/gists{/gist_id}', 'starred_url': 'https://api.github.com/users/joelgrus/starred{/owner}{/repo}', 'subscriptions_url': 'https://api.github.com/users/joelgrus/subscriptions', 'organizations_url': 'https://api.github.com/users/joelgrus/orgs', 'repos_url': 'https://api.github.com/users/joelgrus/repos', 'events_url': 'https://api.github.com/users/joelgrus/events{/privacy}', 'received_events_url': 'https://api.github.com/users/joelgrus/received_events', 'type': 'User', 'site_admin': False}, 'html_url': 'https://github.com/joelgrus/advent2017', 'description': 'advent of code 2017', 'fork': False, 'url': 'https://api.github.com/repos/joelgrus/advent2017', 'forks_url': 'https://api.github.com/repos/joelgrus/advent2017/forks', 'keys_url': 'https://api.github.com/repos/joelgrus/advent2017/keys{/key_id}', 'collaborators_url': 'https://api.github.com/repos/joelgrus/advent2017/collaborators{/collaborator}', 'teams_url': 'https://api.github.com/repos/joelgrus/advent2017/teams', 'hooks_url': 'https://api.github.com/repos/joelgrus/advent2017/hooks', 'issue_events_url': 'https://api.github.com/repos/joelgrus/advent2017/issues/events{/number}', 'events_url': 'https://api.github.com/repos/joelgrus/advent2017/events', 'assignees_url': 'https://api.github.com/repos/joelgrus/advent2017/assignees{/user}', 'branches_url': 'https://api.github.com/repos/joelgrus/advent2017/branches{/branch}', 'tags_url': 'https://api.github.com/repos/joelgrus/advent2017/tags', 'blobs_url': 'https://api.github.com/repos/joelgrus/advent2017/git/blobs{/sha}', 'git_tags_url': 'https://api.github.com/repos/joelgrus/advent2017/git/tags{/sha}', 'git_refs_url': 'https://api.github.com/repos/joelgrus/advent2017/git/refs{/sha}', 'trees_url': 'https://api.github.com/repos/joelgrus/advent2017/git/trees{/sha}', 'statuses_url': 'https://api.github.com/repos/joelgrus/advent2017/statuses/{sha}', 'languages_url': 'https://api.github.com/repos/joelgrus/advent2017/languages', 'stargazers_url': 'https://api.github.com/repos/joelgrus/advent2017/stargazers', 'contributors_url': 'https://api.github.com/repos/joelgrus/advent2017/contributors', 'subscribers_url': 'https://api.github.com/repos/joelgrus/advent2017/subscribers', 'subscription_url': 'https://api.github.com/repos/joelgrus/advent2017/subscription', 'commits_url': 'https://api.github.com/repos/joelgrus/advent2017/commits{/sha}', 'git_commits_url': 'https://api.github.com/repos/joelgrus/advent2017/git/commits{/sha}', 'comments_url': 'https://api.github.com/repos/joelgrus/advent2017/comments{/number}', 'issue_comment_url': 'https://api.github.com/repos/joelgrus/advent2017/issues/comments{/number}', 'contents_url': 'https://api.github.com/repos/joelgrus/advent2017/contents/{+path}', 'compare_url': 'https://api.github.com/repos/joelgrus/advent2017/compare/{base}...{head}', 'merges_url': 'https://api.github.com/repos/joelgrus/advent2017/merges', 'archive_url': 'https://api.github.com/repos/joelgrus/advent2017/{archive_format}{/ref}', 'downloads_url': 'https://api.github.com/repos/joelgrus/advent2017/downloads', 'issues_url': 'https://api.github.com/repos/joelgrus/advent2017/issues{/number}', 'pulls_url': 'https://api.github.com/repos/joelgrus/advent2017/pulls{/number}', 'milestones_url': 'https://api.github.com/repos/joelgrus/advent2017/milestones{/number}', 'notifications_url': 'https://api.github.com/repos/joelgrus/advent2017/notifications{?since,all,participating}', 'labels_url': 'https://api.github.com/repos/joelgrus/advent2017/labels{/name}', 'releases_url': 'https://api.github.com/repos/joelgrus/advent2017/releases{/id}', 'deployments_url': 'https://api.github.com/repos/joelgrus/advent2017/deployments', 'created_at': '2017-12-02T20:13:49Z', 'updated_at': '2022-05-02T13:59:29Z', 'pushed_at': '2017-12-26T15:02:27Z', 'git_url': 'git://github.com/joelgrus/advent2017.git', 'ssh_url': 'git@github.com:joelgrus/advent2017.git', 'clone_url': 'https://github.com/joelgrus/advent2017.git', 'svn_url': 'https://github.com/joelgrus/advent2017', 'homepage': None, 'size': 156, 'stargazers_count': 8, 'watchers_count': 8, 'language': 'Python', 'has_issues': True, 'has_projects': True, 'has_downloads': True, 'has_wiki': True, 'has_pages': False, 'has_discussions': False, 'forks_count': 2, 'mirror_url': None, 'archived': False, 'disabled': False, 'open_issues_count': 0, 'license': None, 'allow_forking': True, 'is_template': False, 'web_commit_signoff_required': False, 'topics': [], 'visibility': 'public', 'forks': 2, 'open_issues': 0, 'watchers': 8, 'default_branch': 'master'}, {'id': 159886377, 'node_id': 'MDEwOlJlcG9zaXRvcnkxNTk4ODYzNzc=', 'name': 'advent2018', 'full_name': 'joelgrus/advent2018', 'private': False, 'owner': {'login': 'joelgrus', 'id': 1308313, 'node_id': 'MDQ6VXNlcjEzMDgzMTM=', 'avatar_url': 'https://avatars.githubusercontent.com/u/1308313?v=4', 'gravatar_id': '', 'url': 'https://api.github.com/users/joelgrus', 'html_url': 'https://github.com/joelgrus', 'followers_url': 'https://api.github.com/users/joelgrus/followers', 'following_url': 'https://api.github.com/users/joelgrus/following{/other_user}', 'gists_url': 'https://api.github.com/users/joelgrus/gists{/gist_id}', 'starred_url': 'https://api.github.com/users/joelgrus/starred{/owner}{/repo}', 'subscriptions_url': 'https://api.github.com/users/joelgrus/subscriptions', 'organizations_url': 'https://api.github.com/users/joelgrus/orgs', 'repos_url': 'https://api.github.com/users/joelgrus/repos', 'events_url': 'https://api.github.com/users/joelgrus/events{/privacy}', 'received_events_url': 'https://api.github.com/users/joelgrus/received_events', 'type': 'User', 'site_admin': False}, 'html_url': 'https://github.com/joelgrus/advent2018', 'description': 'solutions for advent of code 2018', 'fork': False, 'url': 'https://api.github.com/repos/joelgrus/advent2018', 'forks_url': 'https://api.github.com/repos/joelgrus/advent2018/forks', 'keys_url': 'https://api.github.com/repos/joelgrus/advent2018/keys{/key_id}', 'collaborators_url': 'https://api.github.com/repos/joelgrus/advent2018/collaborators{/collaborator}', 'teams_url': 'https://api.github.com/repos/joelgrus/advent2018/teams', 'hooks_url': 'https://api.github.com/repos/joelgrus/advent2018/hooks', 'issue_events_url': 'https://api.github.com/repos/joelgrus/advent2018/issues/events{/number}', 'events_url': 'https://api.github.com/repos/joelgrus/advent2018/events', 'assignees_url': 'https://api.github.com/repos/joelgrus/advent2018/assignees{/user}', 'branches_url': 'https://api.github.com/repos/joelgrus/advent2018/branches{/branch}', 'tags_url': 'https://api.github.com/repos/joelgrus/advent2018/tags', 'blobs_url': 'https://api.github.com/repos/joelgrus/advent2018/git/blobs{/sha}', 'git_tags_url': 'https://api.github.com/repos/joelgrus/advent2018/git/tags{/sha}', 'git_refs_url': 'https://api.github.com/repos/joelgrus/advent2018/git/refs{/sha}', 'trees_url': 'https://api.github.com/repos/joelgrus/advent2018/git/trees{/sha}', 'statuses_url': 'https://api.github.com/repos/joelgrus/advent2018/statuses/{sha}', 'languages_url': 'https://api.github.com/repos/joelgrus/advent2018/languages', 'stargazers_url': 'https://api.github.com/repos/joelgrus/advent2018/stargazers', 'contributors_url': 'https://api.github.com/repos/joelgrus/advent2018/contributors', 'subscribers_url': 'https://api.github.com/repos/joelgrus/advent2018/subscribers', 'subscription_url': 'https://api.github.com/repos/joelgrus/advent2018/subscription', 'commits_url': 'https://api.github.com/repos/joelgrus/advent2018/commits{/sha}', 'git_commits_url': 'https://api.github.com/repos/joelgrus/advent2018/git/commits{/sha}', 'comments_url': 'https://api.github.com/repos/joelgrus/advent2018/comments{/number}', 'issue_comment_url': 'https://api.github.com/repos/joelgrus/advent2018/issues/comments{/number}', 'contents_url': 'https://api.github.com/repos/joelgrus/advent2018/contents/{+path}', 'compare_url': 'https://api.github.com/repos/joelgrus/advent2018/compare/{base}...{head}', 'merges_url': 'https://api.github.com/repos/joelgrus/advent2018/merges', 'archive_url': 'https://api.github.com/repos/joelgrus/advent2018/{archive_format}{/ref}', 'downloads_url': 'https://api.github.com/repos/joelgrus/advent2018/downloads', 'issues_url': 'https://api.github.com/repos/joelgrus/advent2018/issues{/number}', 'pulls_url': 'https://api.github.com/repos/joelgrus/advent2018/pulls{/number}', 'milestones_url': 'https://api.github.com/repos/joelgrus/advent2018/milestones{/number}', 'notifications_url': 'https://api.github.com/repos/joelgrus/advent2018/notifications{?since,all,participating}', 'labels_url': 'https://api.github.com/repos/joelgrus/advent2018/labels{/name}', 'releases_url': 'https://api.github.com/repos/joelgrus/advent2018/releases{/id}', 'deployments_url': 'https://api.github.com/repos/joelgrus/advent2018/deployments', 'created_at': '2018-11-30T22:41:16Z', 'updated_at': '2023-12-31T20:04:22Z', 'pushed_at': '2018-12-19T06:04:24Z', 'git_url': 'git://github.com/joelgrus/advent2018.git', 'ssh_url': 'git@github.com:joelgrus/advent2018.git', 'clone_url': 'https://github.com/joelgrus/advent2018.git', 'svn_url': 'https://github.com/joelgrus/advent2018', 'homepage': None, 'size': 121, 'stargazers_count': 17, 'watchers_count': 17, 'language': 'Python', 'has_issues': True, 'has_projects': True, 'has_downloads': True, 'has_wiki': True, 'has_pages': False, 'has_discussions': False, 'forks_count': 5, 'mirror_url': None, 'archived': False, 'disabled': False, 'open_issues_count': 0, 'license': {'key': 'unlicense', 'name': 'The Unlicense', 'spdx_id': 'Unlicense', 'url': 'https://api.github.com/licenses/unlicense', 'node_id': 'MDc6TGljZW5zZTE1'}, 'allow_forking': True, 'is_template': False, 'web_commit_signoff_required': False, 'topics': [], 'visibility': 'public', 'forks': 5, 'open_issues': 0, 'watchers': 17, 'default_branch': 'master'}, {'id': 225098708, 'node_id': 'MDEwOlJlcG9zaXRvcnkyMjUwOTg3MDg=', 'name': 'advent2019', 'full_name': 'joelgrus/advent2019', 'private': False, 'owner': {'login': 'joelgrus', 'id': 1308313, 'node_id': 'MDQ6VXNlcjEzMDgzMTM=', 'avatar_url': 'https://avatars.githubusercontent.com/u/1308313?v=4', 'gravatar_id': '', 'url': 'https://api.github.com/users/joelgrus', 'html_url': 'https://github.com/joelgrus', 'followers_url': 'https://api.github.com/users/joelgrus/followers', 'following_url': 'https://api.github.com/users/joelgrus/following{/other_user}', 'gists_url': 'https://api.github.com/users/joelgrus/gists{/gist_id}', 'starred_url': 'https://api.github.com/users/joelgrus/starred{/owner}{/repo}', 'subscriptions_url': 'https://api.github.com/users/joelgrus/subscriptions', 'organizations_url': 'https://api.github.com/users/joelgrus/orgs', 'repos_url': 'https://api.github.com/users/joelgrus/repos', 'events_url': 'https://api.github.com/users/joelgrus/events{/privacy}', 'received_events_url': 'https://api.github.com/users/joelgrus/received_events', 'type': 'User', 'site_admin': False}, 'html_url': 'https://github.com/joelgrus/advent2019', 'description': 'advent of code 2019', 'fork': False, 'url': 'https://api.github.com/repos/joelgrus/advent2019', 'forks_url': 'https://api.github.com/repos/joelgrus/advent2019/forks', 'keys_url': 'https://api.github.com/repos/joelgrus/advent2019/keys{/key_id}', 'collaborators_url': 'https://api.github.com/repos/joelgrus/advent2019/collaborators{/collaborator}', 'teams_url': 'https://api.github.com/repos/joelgrus/advent2019/teams', 'hooks_url': 'https://api.github.com/repos/joelgrus/advent2019/hooks', 'issue_events_url': 'https://api.github.com/repos/joelgrus/advent2019/issues/events{/number}', 'events_url': 'https://api.github.com/repos/joelgrus/advent2019/events', 'assignees_url': 'https://api.github.com/repos/joelgrus/advent2019/assignees{/user}', 'branches_url': 'https://api.github.com/repos/joelgrus/advent2019/branches{/branch}', 'tags_url': 'https://api.github.com/repos/joelgrus/advent2019/tags', 'blobs_url': 'https://api.github.com/repos/joelgrus/advent2019/git/blobs{/sha}', 'git_tags_url': 'https://api.github.com/repos/joelgrus/advent2019/git/tags{/sha}', 'git_refs_url': 'https://api.github.com/repos/joelgrus/advent2019/git/refs{/sha}', 'trees_url': 'https://api.github.com/repos/joelgrus/advent2019/git/trees{/sha}', 'statuses_url': 'https://api.github.com/repos/joelgrus/advent2019/statuses/{sha}', 'languages_url': 'https://api.github.com/repos/joelgrus/advent2019/languages', 'stargazers_url': 'https://api.github.com/repos/joelgrus/advent2019/stargazers', 'contributors_url': 'https://api.github.com/repos/joelgrus/advent2019/contributors', 'subscribers_url': 'https://api.github.com/repos/joelgrus/advent2019/subscribers', 'subscription_url': 'https://api.github.com/repos/joelgrus/advent2019/subscription', 'commits_url': 'https://api.github.com/repos/joelgrus/advent2019/commits{/sha}', 'git_commits_url': 'https://api.github.com/repos/joelgrus/advent2019/git/commits{/sha}', 'comments_url': 'https://api.github.com/repos/joelgrus/advent2019/comments{/number}', 'issue_comment_url': 'https://api.github.com/repos/joelgrus/advent2019/issues/comments{/number}', 'contents_url': 'https://api.github.com/repos/joelgrus/advent2019/contents/{+path}', 'compare_url': 'https://api.github.com/repos/joelgrus/advent2019/compare/{base}...{head}', 'merges_url': 'https://api.github.com/repos/joelgrus/advent2019/merges', 'archive_url': 'https://api.github.com/repos/joelgrus/advent2019/{archive_format}{/ref}', 'downloads_url': 'https://api.github.com/repos/joelgrus/advent2019/downloads', 'issues_url': 'https://api.github.com/repos/joelgrus/advent2019/issues{/number}', 'pulls_url': 'https://api.github.com/repos/joelgrus/advent2019/pulls{/number}', 'milestones_url': 'https://api.github.com/repos/joelgrus/advent2019/milestones{/number}', 'notifications_url': 'https://api.github.com/repos/joelgrus/advent2019/notifications{?since,all,participating}', 'labels_url': 'https://api.github.com/repos/joelgrus/advent2019/labels{/name}', 'releases_url': 'https://api.github.com/repos/joelgrus/advent2019/releases{/id}', 'deployments_url': 'https://api.github.com/repos/joelgrus/advent2019/deployments', 'created_at': '2019-12-01T02:57:18Z', 'updated_at': '2023-04-06T17:21:00Z', 'pushed_at': '2019-12-25T06:34:04Z', 'git_url': 'git://github.com/joelgrus/advent2019.git', 'ssh_url': 'git@github.com:joelgrus/advent2019.git', 'clone_url': 'https://github.com/joelgrus/advent2019.git', 'svn_url': 'https://github.com/joelgrus/advent2019', 'homepage': None, 'size': 96, 'stargazers_count': 23, 'watchers_count': 23, 'language': 'Python', 'has_issues': True, 'has_projects': True, 'has_downloads': True, 'has_wiki': True, 'has_pages': False, 'has_discussions': False, 'forks_count': 3, 'mirror_url': None, 'archived': False, 'disabled': False, 'open_issues_count': 0, 'license': None, 'allow_forking': True, 'is_template': False, 'web_commit_signoff_required': False, 'topics': ['advent-of-code'], 'visibility': 'public', 'forks': 3, 'open_issues': 0, 'watchers': 23, 'default_branch': 'master'}, {'id': 314853168, 'node_id': 'MDEwOlJlcG9zaXRvcnkzMTQ4NTMxNjg=', 'name': 'advent2020', 'full_name': 'joelgrus/advent2020', 'private': False, 'owner': {'login': 'joelgrus', 'id': 1308313, 'node_id': 'MDQ6VXNlcjEzMDgzMTM=', 'avatar_url': 'https://avatars.githubusercontent.com/u/1308313?v=4', 'gravatar_id': '', 'url': 'https://api.github.com/users/joelgrus', 'html_url': 'https://github.com/joelgrus', 'followers_url': 'https://api.github.com/users/joelgrus/followers', 'following_url': 'https://api.github.com/users/joelgrus/following{/other_user}', 'gists_url': 'https://api.github.com/users/joelgrus/gists{/gist_id}', 'starred_url': 'https://api.github.com/users/joelgrus/starred{/owner}{/repo}', 'subscriptions_url': 'https://api.github.com/users/joelgrus/subscriptions', 'organizations_url': 'https://api.github.com/users/joelgrus/orgs', 'repos_url': 'https://api.github.com/users/joelgrus/repos', 'events_url': 'https://api.github.com/users/joelgrus/events{/privacy}', 'received_events_url': 'https://api.github.com/users/joelgrus/received_events', 'type': 'User', 'site_admin': False}, 'html_url': 'https://github.com/joelgrus/advent2020', 'description': 'advent of code 2020', 'fork': False, 'url': 'https://api.github.com/repos/joelgrus/advent2020', 'forks_url': 'https://api.github.com/repos/joelgrus/advent2020/forks', 'keys_url': 'https://api.github.com/repos/joelgrus/advent2020/keys{/key_id}', 'collaborators_url': 'https://api.github.com/repos/joelgrus/advent2020/collaborators{/collaborator}', 'teams_url': 'https://api.github.com/repos/joelgrus/advent2020/teams', 'hooks_url': 'https://api.github.com/repos/joelgrus/advent2020/hooks', 'issue_events_url': 'https://api.github.com/repos/joelgrus/advent2020/issues/events{/number}', 'events_url': 'https://api.github.com/repos/joelgrus/advent2020/events', 'assignees_url': 'https://api.github.com/repos/joelgrus/advent2020/assignees{/user}', 'branches_url': 'https://api.github.com/repos/joelgrus/advent2020/branches{/branch}', 'tags_url': 'https://api.github.com/repos/joelgrus/advent2020/tags', 'blobs_url': 'https://api.github.com/repos/joelgrus/advent2020/git/blobs{/sha}', 'git_tags_url': 'https://api.github.com/repos/joelgrus/advent2020/git/tags{/sha}', 'git_refs_url': 'https://api.github.com/repos/joelgrus/advent2020/git/refs{/sha}', 'trees_url': 'https://api.github.com/repos/joelgrus/advent2020/git/trees{/sha}', 'statuses_url': 'https://api.github.com/repos/joelgrus/advent2020/statuses/{sha}', 'languages_url': 'https://api.github.com/repos/joelgrus/advent2020/languages', 'stargazers_url': 'https://api.github.com/repos/joelgrus/advent2020/stargazers', 'contributors_url': 'https://api.github.com/repos/joelgrus/advent2020/contributors', 'subscribers_url': 'https://api.github.com/repos/joelgrus/advent2020/subscribers', 'subscription_url': 'https://api.github.com/repos/joelgrus/advent2020/subscription', 'commits_url': 'https://api.github.com/repos/joelgrus/advent2020/commits{/sha}', 'git_commits_url': 'https://api.github.com/repos/joelgrus/advent2020/git/commits{/sha}', 'comments_url': 'https://api.github.com/repos/joelgrus/advent2020/comments{/number}', 'issue_comment_url': 'https://api.github.com/repos/joelgrus/advent2020/issues/comments{/number}', 'contents_url': 'https://api.github.com/repos/joelgrus/advent2020/contents/{+path}', 'compare_url': 'https://api.github.com/repos/joelgrus/advent2020/compare/{base}...{head}', 'merges_url': 'https://api.github.com/repos/joelgrus/advent2020/merges', 'archive_url': 'https://api.github.com/repos/joelgrus/advent2020/{archive_format}{/ref}', 'downloads_url': 'https://api.github.com/repos/joelgrus/advent2020/downloads', 'issues_url': 'https://api.github.com/repos/joelgrus/advent2020/issues{/number}', 'pulls_url': 'https://api.github.com/repos/joelgrus/advent2020/pulls{/number}', 'milestones_url': 'https://api.github.com/repos/joelgrus/advent2020/milestones{/number}', 'notifications_url': 'https://api.github.com/repos/joelgrus/advent2020/notifications{?since,all,participating}', 'labels_url': 'https://api.github.com/repos/joelgrus/advent2020/labels{/name}', 'releases_url': 'https://api.github.com/repos/joelgrus/advent2020/releases{/id}', 'deployments_url': 'https://api.github.com/repos/joelgrus/advent2020/deployments', 'created_at': '2020-11-21T16:21:49Z', 'updated_at': '2024-01-04T16:52:27Z', 'pushed_at': '2020-12-25T05:14:47Z', 'git_url': 'git://github.com/joelgrus/advent2020.git', 'ssh_url': 'git@github.com:joelgrus/advent2020.git', 'clone_url': 'https://github.com/joelgrus/advent2020.git', 'svn_url': 'https://github.com/joelgrus/advent2020', 'homepage': None, 'size': 146, 'stargazers_count': 29, 'watchers_count': 29, 'language': 'Python', 'has_issues': True, 'has_projects': True, 'has_downloads': True, 'has_wiki': True, 'has_pages': False, 'has_discussions': True, 'forks_count': 5, 'mirror_url': None, 'archived': False, 'disabled': False, 'open_issues_count': 0, 'license': None, 'allow_forking': True, 'is_template': False, 'web_commit_signoff_required': False, 'topics': [], 'visibility': 'public', 'forks': 5, 'open_issues': 0, 'watchers': 29, 'default_branch': 'master'}, {'id': 431503386, 'node_id': 'R_kgDOGbg4Gg', 'name': 'advent2021', 'full_name': 'joelgrus/advent2021', 'private': False, 'owner': {'login': 'joelgrus', 'id': 1308313, 'node_id': 'MDQ6VXNlcjEzMDgzMTM=', 'avatar_url': 'https://avatars.githubusercontent.com/u/1308313?v=4', 'gravatar_id': '', 'url': 'https://api.github.com/users/joelgrus', 'html_url': 'https://github.com/joelgrus', 'followers_url': 'https://api.github.com/users/joelgrus/followers', 'following_url': 'https://api.github.com/users/joelgrus/following{/other_user}', 'gists_url': 'https://api.github.com/users/joelgrus/gists{/gist_id}', 'starred_url': 'https://api.github.com/users/joelgrus/starred{/owner}{/repo}', 'subscriptions_url': 'https://api.github.com/users/joelgrus/subscriptions', 'organizations_url': 'https://api.github.com/users/joelgrus/orgs', 'repos_url': 'https://api.github.com/users/joelgrus/repos', 'events_url': 'https://api.github.com/users/joelgrus/events{/privacy}', 'received_events_url': 'https://api.github.com/users/joelgrus/received_events', 'type': 'User', 'site_admin': False}, 'html_url': 'https://github.com/joelgrus/advent2021', 'description': 'advent of code 2021', 'fork': False, 'url': 'https://api.github.com/repos/joelgrus/advent2021', 'forks_url': 'https://api.github.com/repos/joelgrus/advent2021/forks', 'keys_url': 'https://api.github.com/repos/joelgrus/advent2021/keys{/key_id}', 'collaborators_url': 'https://api.github.com/repos/joelgrus/advent2021/collaborators{/collaborator}', 'teams_url': 'https://api.github.com/repos/joelgrus/advent2021/teams', 'hooks_url': 'https://api.github.com/repos/joelgrus/advent2021/hooks', 'issue_events_url': 'https://api.github.com/repos/joelgrus/advent2021/issues/events{/number}', 'events_url': 'https://api.github.com/repos/joelgrus/advent2021/events', 'assignees_url': 'https://api.github.com/repos/joelgrus/advent2021/assignees{/user}', 'branches_url': 'https://api.github.com/repos/joelgrus/advent2021/branches{/branch}', 'tags_url': 'https://api.github.com/repos/joelgrus/advent2021/tags', 'blobs_url': 'https://api.github.com/repos/joelgrus/advent2021/git/blobs{/sha}', 'git_tags_url': 'https://api.github.com/repos/joelgrus/advent2021/git/tags{/sha}', 'git_refs_url': 'https://api.github.com/repos/joelgrus/advent2021/git/refs{/sha}', 'trees_url': 'https://api.github.com/repos/joelgrus/advent2021/git/trees{/sha}', 'statuses_url': 'https://api.github.com/repos/joelgrus/advent2021/statuses/{sha}', 'languages_url': 'https://api.github.com/repos/joelgrus/advent2021/languages', 'stargazers_url': 'https://api.github.com/repos/joelgrus/advent2021/stargazers', 'contributors_url': 'https://api.github.com/repos/joelgrus/advent2021/contributors', 'subscribers_url': 'https://api.github.com/repos/joelgrus/advent2021/subscribers', 'subscription_url': 'https://api.github.com/repos/joelgrus/advent2021/subscription', 'commits_url': 'https://api.github.com/repos/joelgrus/advent2021/commits{/sha}', 'git_commits_url': 'https://api.github.com/repos/joelgrus/advent2021/git/commits{/sha}', 'comments_url': 'https://api.github.com/repos/joelgrus/advent2021/comments{/number}', 'issue_comment_url': 'https://api.github.com/repos/joelgrus/advent2021/issues/comments{/number}', 'contents_url': 'https://api.github.com/repos/joelgrus/advent2021/contents/{+path}', 'compare_url': 'https://api.github.com/repos/joelgrus/advent2021/compare/{base}...{head}', 'merges_url': 'https://api.github.com/repos/joelgrus/advent2021/merges', 'archive_url': 'https://api.github.com/repos/joelgrus/advent2021/{archive_format}{/ref}', 'downloads_url': 'https://api.github.com/repos/joelgrus/advent2021/downloads', 'issues_url': 'https://api.github.com/repos/joelgrus/advent2021/issues{/number}', 'pulls_url': 'https://api.github.com/repos/joelgrus/advent2021/pulls{/number}', 'milestones_url': 'https://api.github.com/repos/joelgrus/advent2021/milestones{/number}', 'notifications_url': 'https://api.github.com/repos/joelgrus/advent2021/notifications{?since,all,participating}', 'labels_url': 'https://api.github.com/repos/joelgrus/advent2021/labels{/name}', 'releases_url': 'https://api.github.com/repos/joelgrus/advent2021/releases{/id}', 'deployments_url': 'https://api.github.com/repos/joelgrus/advent2021/deployments', 'created_at': '2021-11-24T13:53:23Z', 'updated_at': '2022-09-05T22:18:26Z', 'pushed_at': '2021-12-17T22:09:07Z', 'git_url': 'git://github.com/joelgrus/advent2021.git', 'ssh_url': 'git@github.com:joelgrus/advent2021.git', 'clone_url': 'https://github.com/joelgrus/advent2021.git', 'svn_url': 'https://github.com/joelgrus/advent2021', 'homepage': None, 'size': 62, 'stargazers_count': 13, 'watchers_count': 13, 'language': 'Python', 'has_issues': True, 'has_projects': True, 'has_downloads': True, 'has_wiki': True, 'has_pages': False, 'has_discussions': False, 'forks_count': 1, 'mirror_url': None, 'archived': False, 'disabled': False, 'open_issues_count': 0, 'license': {'key': 'mit', 'name': 'MIT License', 'spdx_id': 'MIT', 'url': 'https://api.github.com/licenses/mit', 'node_id': 'MDc6TGljZW5zZTEz'}, 'allow_forking': True, 'is_template': False, 'web_commit_signoff_required': False, 'topics': [], 'visibility': 'public', 'forks': 1, 'open_issues': 0, 'watchers': 13, 'default_branch': 'master'}, {'id': 569069856, 'node_id': 'R_kgDOIetRIA', 'name': 'advent2022', 'full_name': 'joelgrus/advent2022', 'private': False, 'owner': {'login': 'joelgrus', 'id': 1308313, 'node_id': 'MDQ6VXNlcjEzMDgzMTM=', 'avatar_url': 'https://avatars.githubusercontent.com/u/1308313?v=4', 'gravatar_id': '', 'url': 'https://api.github.com/users/joelgrus', 'html_url': 'https://github.com/joelgrus', 'followers_url': 'https://api.github.com/users/joelgrus/followers', 'following_url': 'https://api.github.com/users/joelgrus/following{/other_user}', 'gists_url': 'https://api.github.com/users/joelgrus/gists{/gist_id}', 'starred_url': 'https://api.github.com/users/joelgrus/starred{/owner}{/repo}', 'subscriptions_url': 'https://api.github.com/users/joelgrus/subscriptions', 'organizations_url': 'https://api.github.com/users/joelgrus/orgs', 'repos_url': 'https://api.github.com/users/joelgrus/repos', 'events_url': 'https://api.github.com/users/joelgrus/events{/privacy}', 'received_events_url': 'https://api.github.com/users/joelgrus/received_events', 'type': 'User', 'site_admin': False}, 'html_url': 'https://github.com/joelgrus/advent2022', 'description': None, 'fork': False, 'url': 'https://api.github.com/repos/joelgrus/advent2022', 'forks_url': 'https://api.github.com/repos/joelgrus/advent2022/forks', 'keys_url': 'https://api.github.com/repos/joelgrus/advent2022/keys{/key_id}', 'collaborators_url': 'https://api.github.com/repos/joelgrus/advent2022/collaborators{/collaborator}', 'teams_url': 'https://api.github.com/repos/joelgrus/advent2022/teams', 'hooks_url': 'https://api.github.com/repos/joelgrus/advent2022/hooks', 'issue_events_url': 'https://api.github.com/repos/joelgrus/advent2022/issues/events{/number}', 'events_url': 'https://api.github.com/repos/joelgrus/advent2022/events', 'assignees_url': 'https://api.github.com/repos/joelgrus/advent2022/assignees{/user}', 'branches_url': 'https://api.github.com/repos/joelgrus/advent2022/branches{/branch}', 'tags_url': 'https://api.github.com/repos/joelgrus/advent2022/tags', 'blobs_url': 'https://api.github.com/repos/joelgrus/advent2022/git/blobs{/sha}', 'git_tags_url': 'https://api.github.com/repos/joelgrus/advent2022/git/tags{/sha}', 'git_refs_url': 'https://api.github.com/repos/joelgrus/advent2022/git/refs{/sha}', 'trees_url': 'https://api.github.com/repos/joelgrus/advent2022/git/trees{/sha}', 'statuses_url': 'https://api.github.com/repos/joelgrus/advent2022/statuses/{sha}', 'languages_url': 'https://api.github.com/repos/joelgrus/advent2022/languages', 'stargazers_url': 'https://api.github.com/repos/joelgrus/advent2022/stargazers', 'contributors_url': 'https://api.github.com/repos/joelgrus/advent2022/contributors', 'subscribers_url': 'https://api.github.com/repos/joelgrus/advent2022/subscribers', 'subscription_url': 'https://api.github.com/repos/joelgrus/advent2022/subscription', 'commits_url': 'https://api.github.com/repos/joelgrus/advent2022/commits{/sha}', 'git_commits_url': 'https://api.github.com/repos/joelgrus/advent2022/git/commits{/sha}', 'comments_url': 'https://api.github.com/repos/joelgrus/advent2022/comments{/number}', 'issue_comment_url': 'https://api.github.com/repos/joelgrus/advent2022/issues/comments{/number}', 'contents_url': 'https://api.github.com/repos/joelgrus/advent2022/contents/{+path}', 'compare_url': 'https://api.github.com/repos/joelgrus/advent2022/compare/{base}...{head}', 'merges_url': 'https://api.github.com/repos/joelgrus/advent2022/merges', 'archive_url': 'https://api.github.com/repos/joelgrus/advent2022/{archive_format}{/ref}', 'downloads_url': 'https://api.github.com/repos/joelgrus/advent2022/downloads', 'issues_url': 'https://api.github.com/repos/joelgrus/advent2022/issues{/number}', 'pulls_url': 'https://api.github.com/repos/joelgrus/advent2022/pulls{/number}', 'milestones_url': 'https://api.github.com/repos/joelgrus/advent2022/milestones{/number}', 'notifications_url': 'https://api.github.com/repos/joelgrus/advent2022/notifications{?since,all,participating}', 'labels_url': 'https://api.github.com/repos/joelgrus/advent2022/labels{/name}', 'releases_url': 'https://api.github.com/repos/joelgrus/advent2022/releases{/id}', 'deployments_url': 'https://api.github.com/repos/joelgrus/advent2022/deployments', 'created_at': '2022-11-22T02:25:22Z', 'updated_at': '2022-12-21T12:40:44Z', 'pushed_at': '2022-12-22T15:21:38Z', 'git_url': 'git://github.com/joelgrus/advent2022.git', 'ssh_url': 'git@github.com:joelgrus/advent2022.git', 'clone_url': 'https://github.com/joelgrus/advent2022.git', 'svn_url': 'https://github.com/joelgrus/advent2022', 'homepage': None, 'size': 119, 'stargazers_count': 3, 'watchers_count': 3, 'language': 'Python', 'has_issues': True, 'has_projects': True, 'has_downloads': True, 'has_wiki': True, 'has_pages': False, 'has_discussions': False, 'forks_count': 1, 'mirror_url': None, 'archived': False, 'disabled': False, 'open_issues_count': 0, 'license': None, 'allow_forking': True, 'is_template': False, 'web_commit_signoff_required': False, 'topics': [], 'visibility': 'public', 'forks': 1, 'open_issues': 0, 'watchers': 3, 'default_branch': 'master'}, {'id': 726318877, 'node_id': 'R_kgDOK0q_HQ', 'name': 'advent2023', 'full_name': 'joelgrus/advent2023', 'private': False, 'owner': {'login': 'joelgrus', 'id': 1308313, 'node_id': 'MDQ6VXNlcjEzMDgzMTM=', 'avatar_url': 'https://avatars.githubusercontent.com/u/1308313?v=4', 'gravatar_id': '', 'url': 'https://api.github.com/users/joelgrus', 'html_url': 'https://github.com/joelgrus', 'followers_url': 'https://api.github.com/users/joelgrus/followers', 'following_url': 'https://api.github.com/users/joelgrus/following{/other_user}', 'gists_url': 'https://api.github.com/users/joelgrus/gists{/gist_id}', 'starred_url': 'https://api.github.com/users/joelgrus/starred{/owner}{/repo}', 'subscriptions_url': 'https://api.github.com/users/joelgrus/subscriptions', 'organizations_url': 'https://api.github.com/users/joelgrus/orgs', 'repos_url': 'https://api.github.com/users/joelgrus/repos', 'events_url': 'https://api.github.com/users/joelgrus/events{/privacy}', 'received_events_url': 'https://api.github.com/users/joelgrus/received_events', 'type': 'User', 'site_admin': False}, 'html_url': 'https://github.com/joelgrus/advent2023', 'description': 'advent of code 2023', 'fork': False, 'url': 'https://api.github.com/repos/joelgrus/advent2023', 'forks_url': 'https://api.github.com/repos/joelgrus/advent2023/forks', 'keys_url': 'https://api.github.com/repos/joelgrus/advent2023/keys{/key_id}', 'collaborators_url': 'https://api.github.com/repos/joelgrus/advent2023/collaborators{/collaborator}', 'teams_url': 'https://api.github.com/repos/joelgrus/advent2023/teams', 'hooks_url': 'https://api.github.com/repos/joelgrus/advent2023/hooks', 'issue_events_url': 'https://api.github.com/repos/joelgrus/advent2023/issues/events{/number}', 'events_url': 'https://api.github.com/repos/joelgrus/advent2023/events', 'assignees_url': 'https://api.github.com/repos/joelgrus/advent2023/assignees{/user}', 'branches_url': 'https://api.github.com/repos/joelgrus/advent2023/branches{/branch}', 'tags_url': 'https://api.github.com/repos/joelgrus/advent2023/tags', 'blobs_url': 'https://api.github.com/repos/joelgrus/advent2023/git/blobs{/sha}', 'git_tags_url': 'https://api.github.com/repos/joelgrus/advent2023/git/tags{/sha}', 'git_refs_url': 'https://api.github.com/repos/joelgrus/advent2023/git/refs{/sha}', 'trees_url': 'https://api.github.com/repos/joelgrus/advent2023/git/trees{/sha}', 'statuses_url': 'https://api.github.com/repos/joelgrus/advent2023/statuses/{sha}', 'languages_url': 'https://api.github.com/repos/joelgrus/advent2023/languages', 'stargazers_url': 'https://api.github.com/repos/joelgrus/advent2023/stargazers', 'contributors_url': 'https://api.github.com/repos/joelgrus/advent2023/contributors', 'subscribers_url': 'https://api.github.com/repos/joelgrus/advent2023/subscribers', 'subscription_url': 'https://api.github.com/repos/joelgrus/advent2023/subscription', 'commits_url': 'https://api.github.com/repos/joelgrus/advent2023/commits{/sha}', 'git_commits_url': 'https://api.github.com/repos/joelgrus/advent2023/git/commits{/sha}', 'comments_url': 'https://api.github.com/repos/joelgrus/advent2023/comments{/number}', 'issue_comment_url': 'https://api.github.com/repos/joelgrus/advent2023/issues/comments{/number}', 'contents_url': 'https://api.github.com/repos/joelgrus/advent2023/contents/{+path}', 'compare_url': 'https://api.github.com/repos/joelgrus/advent2023/compare/{base}...{head}', 'merges_url': 'https://api.github.com/repos/joelgrus/advent2023/merges', 'archive_url': 'https://api.github.com/repos/joelgrus/advent2023/{archive_format}{/ref}', 'downloads_url': 'https://api.github.com/repos/joelgrus/advent2023/downloads', 'issues_url': 'https://api.github.com/repos/joelgrus/advent2023/issues{/number}', 'pulls_url': 'https://api.github.com/repos/joelgrus/advent2023/pulls{/number}', 'milestones_url': 'https://api.github.com/repos/joelgrus/advent2023/milestones{/number}', 'notifications_url': 'https://api.github.com/repos/joelgrus/advent2023/notifications{?since,all,participating}', 'labels_url': 'https://api.github.com/repos/joelgrus/advent2023/labels{/name}', 'releases_url': 'https://api.github.com/repos/joelgrus/advent2023/releases{/id}', 'deployments_url': 'https://api.github.com/repos/joelgrus/advent2023/deployments', 'created_at': '2023-12-02T03:15:48Z', 'updated_at': '2023-12-03T20:17:13Z', 'pushed_at': '2023-12-04T23:41:08Z', 'git_url': 'git://github.com/joelgrus/advent2023.git', 'ssh_url': 'git@github.com:joelgrus/advent2023.git', 'clone_url': 'https://github.com/joelgrus/advent2023.git', 'svn_url': 'https://github.com/joelgrus/advent2023', 'homepage': None, 'size': 35, 'stargazers_count': 4, 'watchers_count': 4, 'language': 'Python', 'has_issues': True, 'has_projects': True, 'has_downloads': True, 'has_wiki': True, 'has_pages': False, 'has_discussions': False, 'forks_count': 0, 'mirror_url': None, 'archived': False, 'disabled': False, 'open_issues_count': 0, 'license': {'key': 'mit', 'name': 'MIT License', 'spdx_id': 'MIT', 'url': 'https://api.github.com/licenses/mit', 'node_id': 'MDc6TGljZW5zZTEz'}, 'allow_forking': True, 'is_template': False, 'web_commit_signoff_required': False, 'topics': [], 'visibility': 'public', 'forks': 0, 'open_issues': 0, 'watchers': 4, 'default_branch': 'master'}, {'id': 122641019, 'node_id': 'MDEwOlJlcG9zaXRvcnkxMjI2NDEwMTk=', 'name': 'ai2', 'full_name': 'joelgrus/ai2', 'private': False, 'owner': {'login': 'joelgrus', 'id': 1308313, 'node_id': 'MDQ6VXNlcjEzMDgzMTM=', 'avatar_url': 'https://avatars.githubusercontent.com/u/1308313?v=4', 'gravatar_id': '', 'url': 'https://api.github.com/users/joelgrus', 'html_url': 'https://github.com/joelgrus', 'followers_url': 'https://api.github.com/users/joelgrus/followers', 'following_url': 'https://api.github.com/users/joelgrus/following{/other_user}', 'gists_url': 'https://api.github.com/users/joelgrus/gists{/gist_id}', 'starred_url': 'https://api.github.com/users/joelgrus/starred{/owner}{/repo}', 'subscriptions_url': 'https://api.github.com/users/joelgrus/subscriptions', 'organizations_url': 'https://api.github.com/users/joelgrus/orgs', 'repos_url': 'https://api.github.com/users/joelgrus/repos', 'events_url': 'https://api.github.com/users/joelgrus/events{/privacy}', 'received_events_url': 'https://api.github.com/users/joelgrus/received_events', 'type': 'User', 'site_admin': False}, 'html_url': 'https://github.com/joelgrus/ai2', 'description': None, 'fork': True, 'url': 'https://api.github.com/repos/joelgrus/ai2', 'forks_url': 'https://api.github.com/repos/joelgrus/ai2/forks', 'keys_url': 'https://api.github.com/repos/joelgrus/ai2/keys{/key_id}', 'collaborators_url': 'https://api.github.com/repos/joelgrus/ai2/collaborators{/collaborator}', 'teams_url': 'https://api.github.com/repos/joelgrus/ai2/teams', 'hooks_url': 'https://api.github.com/repos/joelgrus/ai2/hooks', 'issue_events_url': 'https://api.github.com/repos/joelgrus/ai2/issues/events{/number}', 'events_url': 'https://api.github.com/repos/joelgrus/ai2/events', 'assignees_url': 'https://api.github.com/repos/joelgrus/ai2/assignees{/user}', 'branches_url': 'https://api.github.com/repos/joelgrus/ai2/branches{/branch}', 'tags_url': 'https://api.github.com/repos/joelgrus/ai2/tags', 'blobs_url': 'https://api.github.com/repos/joelgrus/ai2/git/blobs{/sha}', 'git_tags_url': 'https://api.github.com/repos/joelgrus/ai2/git/tags{/sha}', 'git_refs_url': 'https://api.github.com/repos/joelgrus/ai2/git/refs{/sha}', 'trees_url': 'https://api.github.com/repos/joelgrus/ai2/git/trees{/sha}', 'statuses_url': 'https://api.github.com/repos/joelgrus/ai2/statuses/{sha}', 'languages_url': 'https://api.github.com/repos/joelgrus/ai2/languages', 'stargazers_url': 'https://api.github.com/repos/joelgrus/ai2/stargazers', 'contributors_url': 'https://api.github.com/repos/joelgrus/ai2/contributors', 'subscribers_url': 'https://api.github.com/repos/joelgrus/ai2/subscribers', 'subscription_url': 'https://api.github.com/repos/joelgrus/ai2/subscription', 'commits_url': 'https://api.github.com/repos/joelgrus/ai2/commits{/sha}', 'git_commits_url': 'https://api.github.com/repos/joelgrus/ai2/git/commits{/sha}', 'comments_url': 'https://api.github.com/repos/joelgrus/ai2/comments{/number}', 'issue_comment_url': 'https://api.github.com/repos/joelgrus/ai2/issues/comments{/number}', 'contents_url': 'https://api.github.com/repos/joelgrus/ai2/contents/{+path}', 'compare_url': 'https://api.github.com/repos/joelgrus/ai2/compare/{base}...{head}', 'merges_url': 'https://api.github.com/repos/joelgrus/ai2/merges', 'archive_url': 'https://api.github.com/repos/joelgrus/ai2/{archive_format}{/ref}', 'downloads_url': 'https://api.github.com/repos/joelgrus/ai2/downloads', 'issues_url': 'https://api.github.com/repos/joelgrus/ai2/issues{/number}', 'pulls_url': 'https://api.github.com/repos/joelgrus/ai2/pulls{/number}', 'milestones_url': 'https://api.github.com/repos/joelgrus/ai2/milestones{/number}', 'notifications_url': 'https://api.github.com/repos/joelgrus/ai2/notifications{?since,all,participating}', 'labels_url': 'https://api.github.com/repos/joelgrus/ai2/labels{/name}', 'releases_url': 'https://api.github.com/repos/joelgrus/ai2/releases{/id}', 'deployments_url': 'https://api.github.com/repos/joelgrus/ai2/deployments', 'created_at': '2018-02-23T15:51:04Z', 'updated_at': '2022-05-02T13:59:24Z', 'pushed_at': '2018-02-16T06:12:08Z', 'git_url': 'git://github.com/joelgrus/ai2.git', 'ssh_url': 'git@github.com:joelgrus/ai2.git', 'clone_url': 'https://github.com/joelgrus/ai2.git', 'svn_url': 'https://github.com/joelgrus/ai2', 'homepage': None, 'size': 43, 'stargazers_count': 1, 'watchers_count': 1, 'language': 'HTML', 'has_issues': False, 'has_projects': True, 'has_downloads': True, 'has_wiki': True, 'has_pages': False, 'has_discussions': False, 'forks_count': 0, 'mirror_url': None, 'archived': False, 'disabled': False, 'open_issues_count': 0, 'license': None, 'allow_forking': True, 'is_template': False, 'web_commit_signoff_required': False, 'topics': [], 'visibility': 'public', 'forks': 0, 'open_issues': 0, 'watchers': 1, 'default_branch': 'master'}, {'id': 114700287, 'node_id': 'MDEwOlJlcG9zaXRvcnkxMTQ3MDAyODc=', 'name': 'allennlp', 'full_name': 'joelgrus/allennlp', 'private': False, 'owner': {'login': 'joelgrus', 'id': 1308313, 'node_id': 'MDQ6VXNlcjEzMDgzMTM=', 'avatar_url': 'https://avatars.githubusercontent.com/u/1308313?v=4', 'gravatar_id': '', 'url': 'https://api.github.com/users/joelgrus', 'html_url': 'https://github.com/joelgrus', 'followers_url': 'https://api.github.com/users/joelgrus/followers', 'following_url': 'https://api.github.com/users/joelgrus/following{/other_user}', 'gists_url': 'https://api.github.com/users/joelgrus/gists{/gist_id}', 'starred_url': 'https://api.github.com/users/joelgrus/starred{/owner}{/repo}', 'subscriptions_url': 'https://api.github.com/users/joelgrus/subscriptions', 'organizations_url': 'https://api.github.com/users/joelgrus/orgs', 'repos_url': 'https://api.github.com/users/joelgrus/repos', 'events_url': 'https://api.github.com/users/joelgrus/events{/privacy}', 'received_events_url': 'https://api.github.com/users/joelgrus/received_events', 'type': 'User', 'site_admin': False}, 'html_url': 'https://github.com/joelgrus/allennlp', 'description': 'An open-source NLP research library, built on PyTorch.', 'fork': True, 'url': 'https://api.github.com/repos/joelgrus/allennlp', 'forks_url': 'https://api.github.com/repos/joelgrus/allennlp/forks', 'keys_url': 'https://api.github.com/repos/joelgrus/allennlp/keys{/key_id}', 'collaborators_url': 'https://api.github.com/repos/joelgrus/allennlp/collaborators{/collaborator}', 'teams_url': 'https://api.github.com/repos/joelgrus/allennlp/teams', 'hooks_url': 'https://api.github.com/repos/joelgrus/allennlp/hooks', 'issue_events_url': 'https://api.github.com/repos/joelgrus/allennlp/issues/events{/number}', 'events_url': 'https://api.github.com/repos/joelgrus/allennlp/events', 'assignees_url': 'https://api.github.com/repos/joelgrus/allennlp/assignees{/user}', 'branches_url': 'https://api.github.com/repos/joelgrus/allennlp/branches{/branch}', 'tags_url': 'https://api.github.com/repos/joelgrus/allennlp/tags', 'blobs_url': 'https://api.github.com/repos/joelgrus/allennlp/git/blobs{/sha}', 'git_tags_url': 'https://api.github.com/repos/joelgrus/allennlp/git/tags{/sha}', 'git_refs_url': 'https://api.github.com/repos/joelgrus/allennlp/git/refs{/sha}', 'trees_url': 'https://api.github.com/repos/joelgrus/allennlp/git/trees{/sha}', 'statuses_url': 'https://api.github.com/repos/joelgrus/allennlp/statuses/{sha}', 'languages_url': 'https://api.github.com/repos/joelgrus/allennlp/languages', 'stargazers_url': 'https://api.github.com/repos/joelgrus/allennlp/stargazers', 'contributors_url': 'https://api.github.com/repos/joelgrus/allennlp/contributors', 'subscribers_url': 'https://api.github.com/repos/joelgrus/allennlp/subscribers', 'subscription_url': 'https://api.github.com/repos/joelgrus/allennlp/subscription', 'commits_url': 'https://api.github.com/repos/joelgrus/allennlp/commits{/sha}', 'git_commits_url': 'https://api.github.com/repos/joelgrus/allennlp/git/commits{/sha}', 'comments_url': 'https://api.github.com/repos/joelgrus/allennlp/comments{/number}', 'issue_comment_url': 'https://api.github.com/repos/joelgrus/allennlp/issues/comments{/number}', 'contents_url': 'https://api.github.com/repos/joelgrus/allennlp/contents/{+path}', 'compare_url': 'https://api.github.com/repos/joelgrus/allennlp/compare/{base}...{head}', 'merges_url': 'https://api.github.com/repos/joelgrus/allennlp/merges', 'archive_url': 'https://api.github.com/repos/joelgrus/allennlp/{archive_format}{/ref}', 'downloads_url': 'https://api.github.com/repos/joelgrus/allennlp/downloads', 'issues_url': 'https://api.github.com/repos/joelgrus/allennlp/issues{/number}', 'pulls_url': 'https://api.github.com/repos/joelgrus/allennlp/pulls{/number}', 'milestones_url': 'https://api.github.com/repos/joelgrus/allennlp/milestones{/number}', 'notifications_url': 'https://api.github.com/repos/joelgrus/allennlp/notifications{?since,all,participating}', 'labels_url': 'https://api.github.com/repos/joelgrus/allennlp/labels{/name}', 'releases_url': 'https://api.github.com/repos/joelgrus/allennlp/releases{/id}', 'deployments_url': 'https://api.github.com/repos/joelgrus/allennlp/deployments', 'created_at': '2017-12-19T00:12:40Z', 'updated_at': '2022-05-02T13:58:39Z', 'pushed_at': '2019-11-22T07:07:43Z', 'git_url': 'git://github.com/joelgrus/allennlp.git', 'ssh_url': 'git@github.com:joelgrus/allennlp.git', 'clone_url': 'https://github.com/joelgrus/allennlp.git', 'svn_url': 'https://github.com/joelgrus/allennlp', 'homepage': 'http://www.allennlp.org/', 'size': 65277, 'stargazers_count': 3, 'watchers_count': 3, 'language': 'Python', 'has_issues': False, 'has_projects': True, 'has_downloads': True, 'has_wiki': False, 'has_pages': False, 'has_discussions': False, 'forks_count': 2, 'mirror_url': None, 'archived': False, 'disabled': False, 'open_issues_count': 0, 'license': {'key': 'apache-2.0', 'name': 'Apache License 2.0', 'spdx_id': 'Apache-2.0', 'url': 'https://api.github.com/licenses/apache-2.0', 'node_id': 'MDc6TGljZW5zZTI='}, 'allow_forking': True, 'is_template': False, 'web_commit_signoff_required': False, 'topics': [], 'visibility': 'public', 'forks': 2, 'open_issues': 0, 'watchers': 3, 'default_branch': 'master'}, {'id': 119758315, 'node_id': 'MDEwOlJlcG9zaXRvcnkxMTk3NTgzMTU=', 'name': 'allennlp-as-a-library-example', 'full_name': 'joelgrus/allennlp-as-a-library-example', 'private': False, 'owner': {'login': 'joelgrus', 'id': 1308313, 'node_id': 'MDQ6VXNlcjEzMDgzMTM=', 'avatar_url': 'https://avatars.githubusercontent.com/u/1308313?v=4', 'gravatar_id': '', 'url': 'https://api.github.com/users/joelgrus', 'html_url': 'https://github.com/joelgrus', 'followers_url': 'https://api.github.com/users/joelgrus/followers', 'following_url': 'https://api.github.com/users/joelgrus/following{/other_user}', 'gists_url': 'https://api.github.com/users/joelgrus/gists{/gist_id}', 'starred_url': 'https://api.github.com/users/joelgrus/starred{/owner}{/repo}', 'subscriptions_url': 'https://api.github.com/users/joelgrus/subscriptions', 'organizations_url': 'https://api.github.com/users/joelgrus/orgs', 'repos_url': 'https://api.github.com/users/joelgrus/repos', 'events_url': 'https://api.github.com/users/joelgrus/events{/privacy}', 'received_events_url': 'https://api.github.com/users/joelgrus/received_events', 'type': 'User', 'site_admin': False}, 'html_url': 'https://github.com/joelgrus/allennlp-as-a-library-example', 'description': None, 'fork': True, 'url': 'https://api.github.com/repos/joelgrus/allennlp-as-a-library-example', 'forks_url': 'https://api.github.com/repos/joelgrus/allennlp-as-a-library-example/forks', 'keys_url': 'https://api.github.com/repos/joelgrus/allennlp-as-a-library-example/keys{/key_id}', 'collaborators_url': 'https://api.github.com/repos/joelgrus/allennlp-as-a-library-example/collaborators{/collaborator}', 'teams_url': 'https://api.github.com/repos/joelgrus/allennlp-as-a-library-example/teams', 'hooks_url': 'https://api.github.com/repos/joelgrus/allennlp-as-a-library-example/hooks', 'issue_events_url': 'https://api.github.com/repos/joelgrus/allennlp-as-a-library-example/issues/events{/number}', 'events_url': 'https://api.github.com/repos/joelgrus/allennlp-as-a-library-example/events', 'assignees_url': 'https://api.github.com/repos/joelgrus/allennlp-as-a-library-example/assignees{/user}', 'branches_url': 'https://api.github.com/repos/joelgrus/allennlp-as-a-library-example/branches{/branch}', 'tags_url': 'https://api.github.com/repos/joelgrus/allennlp-as-a-library-example/tags', 'blobs_url': 'https://api.github.com/repos/joelgrus/allennlp-as-a-library-example/git/blobs{/sha}', 'git_tags_url': 'https://api.github.com/repos/joelgrus/allennlp-as-a-library-example/git/tags{/sha}', 'git_refs_url': 'https://api.github.com/repos/joelgrus/allennlp-as-a-library-example/git/refs{/sha}', 'trees_url': 'https://api.github.com/repos/joelgrus/allennlp-as-a-library-example/git/trees{/sha}', 'statuses_url': 'https://api.github.com/repos/joelgrus/allennlp-as-a-library-example/statuses/{sha}', 'languages_url': 'https://api.github.com/repos/joelgrus/allennlp-as-a-library-example/languages', 'stargazers_url': 'https://api.github.com/repos/joelgrus/allennlp-as-a-library-example/stargazers', 'contributors_url': 'https://api.github.com/repos/joelgrus/allennlp-as-a-library-example/contributors', 'subscribers_url': 'https://api.github.com/repos/joelgrus/allennlp-as-a-library-example/subscribers', 'subscription_url': 'https://api.github.com/repos/joelgrus/allennlp-as-a-library-example/subscription', 'commits_url': 'https://api.github.com/repos/joelgrus/allennlp-as-a-library-example/commits{/sha}', 'git_commits_url': 'https://api.github.com/repos/joelgrus/allennlp-as-a-library-example/git/commits{/sha}', 'comments_url': 'https://api.github.com/repos/joelgrus/allennlp-as-a-library-example/comments{/number}', 'issue_comment_url': 'https://api.github.com/repos/joelgrus/allennlp-as-a-library-example/issues/comments{/number}', 'contents_url': 'https://api.github.com/repos/joelgrus/allennlp-as-a-library-example/contents/{+path}', 'compare_url': 'https://api.github.com/repos/joelgrus/allennlp-as-a-library-example/compare/{base}...{head}', 'merges_url': 'https://api.github.com/repos/joelgrus/allennlp-as-a-library-example/merges', 'archive_url': 'https://api.github.com/repos/joelgrus/allennlp-as-a-library-example/{archive_format}{/ref}', 'downloads_url': 'https://api.github.com/repos/joelgrus/allennlp-as-a-library-example/downloads', 'issues_url': 'https://api.github.com/repos/joelgrus/allennlp-as-a-library-example/issues{/number}', 'pulls_url': 'https://api.github.com/repos/joelgrus/allennlp-as-a-library-example/pulls{/number}', 'milestones_url': 'https://api.github.com/repos/joelgrus/allennlp-as-a-library-example/milestones{/number}', 'notifications_url': 'https://api.github.com/repos/joelgrus/allennlp-as-a-library-example/notifications{?since,all,participating}', 'labels_url': 'https://api.github.com/repos/joelgrus/allennlp-as-a-library-example/labels{/name}', 'releases_url': 'https://api.github.com/repos/joelgrus/allennlp-as-a-library-example/releases{/id}', 'deployments_url': 'https://api.github.com/repos/joelgrus/allennlp-as-a-library-example/deployments', 'created_at': '2018-01-31T23:51:16Z', 'updated_at': '2022-05-02T13:59:27Z', 'pushed_at': '2018-02-02T21:08:41Z', 'git_url': 'git://github.com/joelgrus/allennlp-as-a-library-example.git', 'ssh_url': 'git@github.com:joelgrus/allennlp-as-a-library-example.git', 'clone_url': 'https://github.com/joelgrus/allennlp-as-a-library-example.git', 'svn_url': 'https://github.com/joelgrus/allennlp-as-a-library-example', 'homepage': None, 'size': 46, 'stargazers_count': 1, 'watchers_count': 1, 'language': 'Python', 'has_issues': False, 'has_projects': True, 'has_downloads': True, 'has_wiki': True, 'has_pages': False, 'has_discussions': False, 'forks_count': 0, 'mirror_url': None, 'archived': False, 'disabled': False, 'open_issues_count': 0, 'license': None, 'allow_forking': True, 'is_template': False, 'web_commit_signoff_required': False, 'topics': [], 'visibility': 'public', 'forks': 0, 'open_issues': 0, 'watchers': 1, 'default_branch': 'master'}, {'id': 162483325, 'node_id': 'MDEwOlJlcG9zaXRvcnkxNjI0ODMzMjU=', 'name': 'allennlp-demo', 'full_name': 'joelgrus/allennlp-demo', 'private': False, 'owner': {'login': 'joelgrus', 'id': 1308313, 'node_id': 'MDQ6VXNlcjEzMDgzMTM=', 'avatar_url': 'https://avatars.githubusercontent.com/u/1308313?v=4', 'gravatar_id': '', 'url': 'https://api.github.com/users/joelgrus', 'html_url': 'https://github.com/joelgrus', 'followers_url': 'https://api.github.com/users/joelgrus/followers', 'following_url': 'https://api.github.com/users/joelgrus/following{/other_user}', 'gists_url': 'https://api.github.com/users/joelgrus/gists{/gist_id}', 'starred_url': 'https://api.github.com/users/joelgrus/starred{/owner}{/repo}', 'subscriptions_url': 'https://api.github.com/users/joelgrus/subscriptions', 'organizations_url': 'https://api.github.com/users/joelgrus/orgs', 'repos_url': 'https://api.github.com/users/joelgrus/repos', 'events_url': 'https://api.github.com/users/joelgrus/events{/privacy}', 'received_events_url': 'https://api.github.com/users/joelgrus/received_events', 'type': 'User', 'site_admin': False}, 'html_url': 'https://github.com/joelgrus/allennlp-demo', 'description': 'code for demo.allennlp.org', 'fork': True, 'url': 'https://api.github.com/repos/joelgrus/allennlp-demo', 'forks_url': 'https://api.github.com/repos/joelgrus/allennlp-demo/forks', 'keys_url': 'https://api.github.com/repos/joelgrus/allennlp-demo/keys{/key_id}', 'collaborators_url': 'https://api.github.com/repos/joelgrus/allennlp-demo/collaborators{/collaborator}', 'teams_url': 'https://api.github.com/repos/joelgrus/allennlp-demo/teams', 'hooks_url': 'https://api.github.com/repos/joelgrus/allennlp-demo/hooks', 'issue_events_url': 'https://api.github.com/repos/joelgrus/allennlp-demo/issues/events{/number}', 'events_url': 'https://api.github.com/repos/joelgrus/allennlp-demo/events', 'assignees_url': 'https://api.github.com/repos/joelgrus/allennlp-demo/assignees{/user}', 'branches_url': 'https://api.github.com/repos/joelgrus/allennlp-demo/branches{/branch}', 'tags_url': 'https://api.github.com/repos/joelgrus/allennlp-demo/tags', 'blobs_url': 'https://api.github.com/repos/joelgrus/allennlp-demo/git/blobs{/sha}', 'git_tags_url': 'https://api.github.com/repos/joelgrus/allennlp-demo/git/tags{/sha}', 'git_refs_url': 'https://api.github.com/repos/joelgrus/allennlp-demo/git/refs{/sha}', 'trees_url': 'https://api.github.com/repos/joelgrus/allennlp-demo/git/trees{/sha}', 'statuses_url': 'https://api.github.com/repos/joelgrus/allennlp-demo/statuses/{sha}', 'languages_url': 'https://api.github.com/repos/joelgrus/allennlp-demo/languages', 'stargazers_url': 'https://api.github.com/repos/joelgrus/allennlp-demo/stargazers', 'contributors_url': 'https://api.github.com/repos/joelgrus/allennlp-demo/contributors', 'subscribers_url': 'https://api.github.com/repos/joelgrus/allennlp-demo/subscribers', 'subscription_url': 'https://api.github.com/repos/joelgrus/allennlp-demo/subscription', 'commits_url': 'https://api.github.com/repos/joelgrus/allennlp-demo/commits{/sha}', 'git_commits_url': 'https://api.github.com/repos/joelgrus/allennlp-demo/git/commits{/sha}', 'comments_url': 'https://api.github.com/repos/joelgrus/allennlp-demo/comments{/number}', 'issue_comment_url': 'https://api.github.com/repos/joelgrus/allennlp-demo/issues/comments{/number}', 'contents_url': 'https://api.github.com/repos/joelgrus/allennlp-demo/contents/{+path}', 'compare_url': 'https://api.github.com/repos/joelgrus/allennlp-demo/compare/{base}...{head}', 'merges_url': 'https://api.github.com/repos/joelgrus/allennlp-demo/merges', 'archive_url': 'https://api.github.com/repos/joelgrus/allennlp-demo/{archive_format}{/ref}', 'downloads_url': 'https://api.github.com/repos/joelgrus/allennlp-demo/downloads', 'issues_url': 'https://api.github.com/repos/joelgrus/allennlp-demo/issues{/number}', 'pulls_url': 'https://api.github.com/repos/joelgrus/allennlp-demo/pulls{/number}', 'milestones_url': 'https://api.github.com/repos/joelgrus/allennlp-demo/milestones{/number}', 'notifications_url': 'https://api.github.com/repos/joelgrus/allennlp-demo/notifications{?since,all,participating}', 'labels_url': 'https://api.github.com/repos/joelgrus/allennlp-demo/labels{/name}', 'releases_url': 'https://api.github.com/repos/joelgrus/allennlp-demo/releases{/id}', 'deployments_url': 'https://api.github.com/repos/joelgrus/allennlp-demo/deployments', 'created_at': '2018-12-19T19:44:45Z', 'updated_at': '2022-05-02T13:58:41Z', 'pushed_at': '2019-10-03T17:46:17Z', 'git_url': 'git://github.com/joelgrus/allennlp-demo.git', 'ssh_url': 'git@github.com:joelgrus/allennlp-demo.git', 'clone_url': 'https://github.com/joelgrus/allennlp-demo.git', 'svn_url': 'https://github.com/joelgrus/allennlp-demo', 'homepage': None, 'size': 36556, 'stargazers_count': 2, 'watchers_count': 2, 'language': 'Python', 'has_issues': False, 'has_projects': True, 'has_downloads': True, 'has_wiki': True, 'has_pages': False, 'has_discussions': False, 'forks_count': 1, 'mirror_url': None, 'archived': False, 'disabled': False, 'open_issues_count': 0, 'license': {'key': 'apache-2.0', 'name': 'Apache License 2.0', 'spdx_id': 'Apache-2.0', 'url': 'https://api.github.com/licenses/apache-2.0', 'node_id': 'MDc6TGljZW5zZTI='}, 'allow_forking': True, 'is_template': False, 'web_commit_signoff_required': False, 'topics': [], 'visibility': 'public', 'forks': 1, 'open_issues': 0, 'watchers': 2, 'default_branch': 'master'}, {'id': 147449873, 'node_id': 'MDEwOlJlcG9zaXRvcnkxNDc0NDk4NzM=', 'name': 'autograd', 'full_name': 'joelgrus/autograd', 'private': False, 'owner': {'login': 'joelgrus', 'id': 1308313, 'node_id': 'MDQ6VXNlcjEzMDgzMTM=', 'avatar_url': 'https://avatars.githubusercontent.com/u/1308313?v=4', 'gravatar_id': '', 'url': 'https://api.github.com/users/joelgrus', 'html_url': 'https://github.com/joelgrus', 'followers_url': 'https://api.github.com/users/joelgrus/followers', 'following_url': 'https://api.github.com/users/joelgrus/following{/other_user}', 'gists_url': 'https://api.github.com/users/joelgrus/gists{/gist_id}', 'starred_url': 'https://api.github.com/users/joelgrus/starred{/owner}{/repo}', 'subscriptions_url': 'https://api.github.com/users/joelgrus/subscriptions', 'organizations_url': 'https://api.github.com/users/joelgrus/orgs', 'repos_url': 'https://api.github.com/users/joelgrus/repos', 'events_url': 'https://api.github.com/users/joelgrus/events{/privacy}', 'received_events_url': 'https://api.github.com/users/joelgrus/received_events', 'type': 'User', 'site_admin': False}, 'html_url': 'https://github.com/joelgrus/autograd', 'description': 'coding an autograd from scratch', 'fork': False, 'url': 'https://api.github.com/repos/joelgrus/autograd', 'forks_url': 'https://api.github.com/repos/joelgrus/autograd/forks', 'keys_url': 'https://api.github.com/repos/joelgrus/autograd/keys{/key_id}', 'collaborators_url': 'https://api.github.com/repos/joelgrus/autograd/collaborators{/collaborator}', 'teams_url': 'https://api.github.com/repos/joelgrus/autograd/teams', 'hooks_url': 'https://api.github.com/repos/joelgrus/autograd/hooks', 'issue_events_url': 'https://api.github.com/repos/joelgrus/autograd/issues/events{/number}', 'events_url': 'https://api.github.com/repos/joelgrus/autograd/events', 'assignees_url': 'https://api.github.com/repos/joelgrus/autograd/assignees{/user}', 'branches_url': 'https://api.github.com/repos/joelgrus/autograd/branches{/branch}', 'tags_url': 'https://api.github.com/repos/joelgrus/autograd/tags', 'blobs_url': 'https://api.github.com/repos/joelgrus/autograd/git/blobs{/sha}', 'git_tags_url': 'https://api.github.com/repos/joelgrus/autograd/git/tags{/sha}', 'git_refs_url': 'https://api.github.com/repos/joelgrus/autograd/git/refs{/sha}', 'trees_url': 'https://api.github.com/repos/joelgrus/autograd/git/trees{/sha}', 'statuses_url': 'https://api.github.com/repos/joelgrus/autograd/statuses/{sha}', 'languages_url': 'https://api.github.com/repos/joelgrus/autograd/languages', 'stargazers_url': 'https://api.github.com/repos/joelgrus/autograd/stargazers', 'contributors_url': 'https://api.github.com/repos/joelgrus/autograd/contributors', 'subscribers_url': 'https://api.github.com/repos/joelgrus/autograd/subscribers', 'subscription_url': 'https://api.github.com/repos/joelgrus/autograd/subscription', 'commits_url': 'https://api.github.com/repos/joelgrus/autograd/commits{/sha}', 'git_commits_url': 'https://api.github.com/repos/joelgrus/autograd/git/commits{/sha}', 'comments_url': 'https://api.github.com/repos/joelgrus/autograd/comments{/number}', 'issue_comment_url': 'https://api.github.com/repos/joelgrus/autograd/issues/comments{/number}', 'contents_url': 'https://api.github.com/repos/joelgrus/autograd/contents/{+path}', 'compare_url': 'https://api.github.com/repos/joelgrus/autograd/compare/{base}...{head}', 'merges_url': 'https://api.github.com/repos/joelgrus/autograd/merges', 'archive_url': 'https://api.github.com/repos/joelgrus/autograd/{archive_format}{/ref}', 'downloads_url': 'https://api.github.com/repos/joelgrus/autograd/downloads', 'issues_url': 'https://api.github.com/repos/joelgrus/autograd/issues{/number}', 'pulls_url': 'https://api.github.com/repos/joelgrus/autograd/pulls{/number}', 'milestones_url': 'https://api.github.com/repos/joelgrus/autograd/milestones{/number}', 'notifications_url': 'https://api.github.com/repos/joelgrus/autograd/notifications{?since,all,participating}', 'labels_url': 'https://api.github.com/repos/joelgrus/autograd/labels{/name}', 'releases_url': 'https://api.github.com/repos/joelgrus/autograd/releases{/id}', 'deployments_url': 'https://api.github.com/repos/joelgrus/autograd/deployments', 'created_at': '2018-09-05T02:43:52Z', 'updated_at': '2024-02-21T11:37:35Z', 'pushed_at': '2019-01-12T15:45:18Z', 'git_url': 'git://github.com/joelgrus/autograd.git', 'ssh_url': 'git@github.com:joelgrus/autograd.git', 'clone_url': 'https://github.com/joelgrus/autograd.git', 'svn_url': 'https://github.com/joelgrus/autograd', 'homepage': '', 'size': 15, 'stargazers_count': 154, 'watchers_count': 154, 'language': None, 'has_issues': True, 'has_projects': True, 'has_downloads': True, 'has_wiki': True, 'has_pages': False, 'has_discussions': False, 'forks_count': 34, 'mirror_url': None, 'archived': False, 'disabled': False, 'open_issues_count': 1, 'license': {'key': 'unlicense', 'name': 'The Unlicense', 'spdx_id': 'Unlicense', 'url': 'https://api.github.com/licenses/unlicense', 'node_id': 'MDc6TGljZW5zZTE1'}, 'allow_forking': True, 'is_template': False, 'web_commit_signoff_required': False, 'topics': [], 'visibility': 'public', 'forks': 34, 'open_issues': 1, 'watchers': 154, 'default_branch': 'master'}, {'id': 168755903, 'node_id': 'MDEwOlJlcG9zaXRvcnkxNjg3NTU5MDM=', 'name': 'awesome-podcasts', 'full_name': 'joelgrus/awesome-podcasts', 'private': False, 'owner': {'login': 'joelgrus', 'id': 1308313, 'node_id': 'MDQ6VXNlcjEzMDgzMTM=', 'avatar_url': 'https://avatars.githubusercontent.com/u/1308313?v=4', 'gravatar_id': '', 'url': 'https://api.github.com/users/joelgrus', 'html_url': 'https://github.com/joelgrus', 'followers_url': 'https://api.github.com/users/joelgrus/followers', 'following_url': 'https://api.github.com/users/joelgrus/following{/other_user}', 'gists_url': 'https://api.github.com/users/joelgrus/gists{/gist_id}', 'starred_url': 'https://api.github.com/users/joelgrus/starred{/owner}{/repo}', 'subscriptions_url': 'https://api.github.com/users/joelgrus/subscriptions', 'organizations_url': 'https://api.github.com/users/joelgrus/orgs', 'repos_url': 'https://api.github.com/users/joelgrus/repos', 'events_url': 'https://api.github.com/users/joelgrus/events{/privacy}', 'received_events_url': 'https://api.github.com/users/joelgrus/received_events', 'type': 'User', 'site_admin': False}, 'html_url': 'https://github.com/joelgrus/awesome-podcasts', 'description': 'Collection of awesome podcasts', 'fork': True, 'url': 'https://api.github.com/repos/joelgrus/awesome-podcasts', 'forks_url': 'https://api.github.com/repos/joelgrus/awesome-podcasts/forks', 'keys_url': 'https://api.github.com/repos/joelgrus/awesome-podcasts/keys{/key_id}', 'collaborators_url': 'https://api.github.com/repos/joelgrus/awesome-podcasts/collaborators{/collaborator}', 'teams_url': 'https://api.github.com/repos/joelgrus/awesome-podcasts/teams', 'hooks_url': 'https://api.github.com/repos/joelgrus/awesome-podcasts/hooks', 'issue_events_url': 'https://api.github.com/repos/joelgrus/awesome-podcasts/issues/events{/number}', 'events_url': 'https://api.github.com/repos/joelgrus/awesome-podcasts/events', 'assignees_url': 'https://api.github.com/repos/joelgrus/awesome-podcasts/assignees{/user}', 'branches_url': 'https://api.github.com/repos/joelgrus/awesome-podcasts/branches{/branch}', 'tags_url': 'https://api.github.com/repos/joelgrus/awesome-podcasts/tags', 'blobs_url': 'https://api.github.com/repos/joelgrus/awesome-podcasts/git/blobs{/sha}', 'git_tags_url': 'https://api.github.com/repos/joelgrus/awesome-podcasts/git/tags{/sha}', 'git_refs_url': 'https://api.github.com/repos/joelgrus/awesome-podcasts/git/refs{/sha}', 'trees_url': 'https://api.github.com/repos/joelgrus/awesome-podcasts/git/trees{/sha}', 'statuses_url': 'https://api.github.com/repos/joelgrus/awesome-podcasts/statuses/{sha}', 'languages_url': 'https://api.github.com/repos/joelgrus/awesome-podcasts/languages', 'stargazers_url': 'https://api.github.com/repos/joelgrus/awesome-podcasts/stargazers', 'contributors_url': 'https://api.github.com/repos/joelgrus/awesome-podcasts/contributors', 'subscribers_url': 'https://api.github.com/repos/joelgrus/awesome-podcasts/subscribers', 'subscription_url': 'https://api.github.com/repos/joelgrus/awesome-podcasts/subscription', 'commits_url': 'https://api.github.com/repos/joelgrus/awesome-podcasts/commits{/sha}', 'git_commits_url': 'https://api.github.com/repos/joelgrus/awesome-podcasts/git/commits{/sha}', 'comments_url': 'https://api.github.com/repos/joelgrus/awesome-podcasts/comments{/number}', 'issue_comment_url': 'https://api.github.com/repos/joelgrus/awesome-podcasts/issues/comments{/number}', 'contents_url': 'https://api.github.com/repos/joelgrus/awesome-podcasts/contents/{+path}', 'compare_url': 'https://api.github.com/repos/joelgrus/awesome-podcasts/compare/{base}...{head}', 'merges_url': 'https://api.github.com/repos/joelgrus/awesome-podcasts/merges', 'archive_url': 'https://api.github.com/repos/joelgrus/awesome-podcasts/{archive_format}{/ref}', 'downloads_url': 'https://api.github.com/repos/joelgrus/awesome-podcasts/downloads', 'issues_url': 'https://api.github.com/repos/joelgrus/awesome-podcasts/issues{/number}', 'pulls_url': 'https://api.github.com/repos/joelgrus/awesome-podcasts/pulls{/number}', 'milestones_url': 'https://api.github.com/repos/joelgrus/awesome-podcasts/milestones{/number}', 'notifications_url': 'https://api.github.com/repos/joelgrus/awesome-podcasts/notifications{?since,all,participating}', 'labels_url': 'https://api.github.com/repos/joelgrus/awesome-podcasts/labels{/name}', 'releases_url': 'https://api.github.com/repos/joelgrus/awesome-podcasts/releases{/id}', 'deployments_url': 'https://api.github.com/repos/joelgrus/awesome-podcasts/deployments', 'created_at': '2019-02-01T20:25:46Z', 'updated_at': '2022-05-27T09:14:04Z', 'pushed_at': '2019-02-01T20:29:18Z', 'git_url': 'git://github.com/joelgrus/awesome-podcasts.git', 'ssh_url': 'git@github.com:joelgrus/awesome-podcasts.git', 'clone_url': 'https://github.com/joelgrus/awesome-podcasts.git', 'svn_url': 'https://github.com/joelgrus/awesome-podcasts', 'homepage': '', 'size': 399, 'stargazers_count': 7, 'watchers_count': 7, 'language': None, 'has_issues': False, 'has_projects': True, 'has_downloads': True, 'has_wiki': True, 'has_pages': False, 'has_discussions': False, 'forks_count': 3, 'mirror_url': None, 'archived': False, 'disabled': False, 'open_issues_count': 0, 'license': None, 'allow_forking': True, 'is_template': False, 'web_commit_signoff_required': False, 'topics': [], 'visibility': 'public', 'forks': 3, 'open_issues': 0, 'watchers': 7, 'default_branch': 'master'}, {'id': 11189868, 'node_id': 'MDEwOlJlcG9zaXRvcnkxMTE4OTg2OA==', 'name': 'bitstarter', 'full_name': 'joelgrus/bitstarter', 'private': False, 'owner': {'login': 'joelgrus', 'id': 1308313, 'node_id': 'MDQ6VXNlcjEzMDgzMTM=', 'avatar_url': 'https://avatars.githubusercontent.com/u/1308313?v=4', 'gravatar_id': '', 'url': 'https://api.github.com/users/joelgrus', 'html_url': 'https://github.com/joelgrus', 'followers_url': 'https://api.github.com/users/joelgrus/followers', 'following_url': 'https://api.github.com/users/joelgrus/following{/other_user}', 'gists_url': 'https://api.github.com/users/joelgrus/gists{/gist_id}', 'starred_url': 'https://api.github.com/users/joelgrus/starred{/owner}{/repo}', 'subscriptions_url': 'https://api.github.com/users/joelgrus/subscriptions', 'organizations_url': 'https://api.github.com/users/joelgrus/orgs', 'repos_url': 'https://api.github.com/users/joelgrus/repos', 'events_url': 'https://api.github.com/users/joelgrus/events{/privacy}', 'received_events_url': 'https://api.github.com/users/joelgrus/received_events', 'type': 'User', 'site_admin': False}, 'html_url': 'https://github.com/joelgrus/bitstarter', 'description': None, 'fork': True, 'url': 'https://api.github.com/repos/joelgrus/bitstarter', 'forks_url': 'https://api.github.com/repos/joelgrus/bitstarter/forks', 'keys_url': 'https://api.github.com/repos/joelgrus/bitstarter/keys{/key_id}', 'collaborators_url': 'https://api.github.com/repos/joelgrus/bitstarter/collaborators{/collaborator}', 'teams_url': 'https://api.github.com/repos/joelgrus/bitstarter/teams', 'hooks_url': 'https://api.github.com/repos/joelgrus/bitstarter/hooks', 'issue_events_url': 'https://api.github.com/repos/joelgrus/bitstarter/issues/events{/number}', 'events_url': 'https://api.github.com/repos/joelgrus/bitstarter/events', 'assignees_url': 'https://api.github.com/repos/joelgrus/bitstarter/assignees{/user}', 'branches_url': 'https://api.github.com/repos/joelgrus/bitstarter/branches{/branch}', 'tags_url': 'https://api.github.com/repos/joelgrus/bitstarter/tags', 'blobs_url': 'https://api.github.com/repos/joelgrus/bitstarter/git/blobs{/sha}', 'git_tags_url': 'https://api.github.com/repos/joelgrus/bitstarter/git/tags{/sha}', 'git_refs_url': 'https://api.github.com/repos/joelgrus/bitstarter/git/refs{/sha}', 'trees_url': 'https://api.github.com/repos/joelgrus/bitstarter/git/trees{/sha}', 'statuses_url': 'https://api.github.com/repos/joelgrus/bitstarter/statuses/{sha}', 'languages_url': 'https://api.github.com/repos/joelgrus/bitstarter/languages', 'stargazers_url': 'https://api.github.com/repos/joelgrus/bitstarter/stargazers', 'contributors_url': 'https://api.github.com/repos/joelgrus/bitstarter/contributors', 'subscribers_url': 'https://api.github.com/repos/joelgrus/bitstarter/subscribers', 'subscription_url': 'https://api.github.com/repos/joelgrus/bitstarter/subscription', 'commits_url': 'https://api.github.com/repos/joelgrus/bitstarter/commits{/sha}', 'git_commits_url': 'https://api.github.com/repos/joelgrus/bitstarter/git/commits{/sha}', 'comments_url': 'https://api.github.com/repos/joelgrus/bitstarter/comments{/number}', 'issue_comment_url': 'https://api.github.com/repos/joelgrus/bitstarter/issues/comments{/number}', 'contents_url': 'https://api.github.com/repos/joelgrus/bitstarter/contents/{+path}', 'compare_url': 'https://api.github.com/repos/joelgrus/bitstarter/compare/{base}...{head}', 'merges_url': 'https://api.github.com/repos/joelgrus/bitstarter/merges', 'archive_url': 'https://api.github.com/repos/joelgrus/bitstarter/{archive_format}{/ref}', 'downloads_url': 'https://api.github.com/repos/joelgrus/bitstarter/downloads', 'issues_url': 'https://api.github.com/repos/joelgrus/bitstarter/issues{/number}', 'pulls_url': 'https://api.github.com/repos/joelgrus/bitstarter/pulls{/number}', 'milestones_url': 'https://api.github.com/repos/joelgrus/bitstarter/milestones{/number}', 'notifications_url': 'https://api.github.com/repos/joelgrus/bitstarter/notifications{?since,all,participating}', 'labels_url': 'https://api.github.com/repos/joelgrus/bitstarter/labels{/name}', 'releases_url': 'https://api.github.com/repos/joelgrus/bitstarter/releases{/id}', 'deployments_url': 'https://api.github.com/repos/joelgrus/bitstarter/deployments', 'created_at': '2013-07-05T02:02:28Z', 'updated_at': '2022-05-02T14:00:16Z', 'pushed_at': '2013-07-17T17:59:11Z', 'git_url': 'git://github.com/joelgrus/bitstarter.git', 'ssh_url': 'git@github.com:joelgrus/bitstarter.git', 'clone_url': 'https://github.com/joelgrus/bitstarter.git', 'svn_url': 'https://github.com/joelgrus/bitstarter', 'homepage': None, 'size': 161, 'stargazers_count': 1, 'watchers_count': 1, 'language': 'JavaScript', 'has_issues': False, 'has_projects': True, 'has_downloads': True, 'has_wiki': True, 'has_pages': False, 'has_discussions': False, 'forks_count': 1, 'mirror_url': None, 'archived': False, 'disabled': False, 'open_issues_count': 0, 'license': None, 'allow_forking': True, 'is_template': False, 'web_commit_signoff_required': False, 'topics': [], 'visibility': 'public', 'forks': 1, 'open_issues': 0, 'watchers': 1, 'default_branch': 'master'}, {'id': 616173441, 'node_id': 'R_kgDOJLoPgQ', 'name': 'bracket-filler', 'full_name': 'joelgrus/bracket-filler', 'private': False, 'owner': {'login': 'joelgrus', 'id': 1308313, 'node_id': 'MDQ6VXNlcjEzMDgzMTM=', 'avatar_url': 'https://avatars.githubusercontent.com/u/1308313?v=4', 'gravatar_id': '', 'url': 'https://api.github.com/users/joelgrus', 'html_url': 'https://github.com/joelgrus', 'followers_url': 'https://api.github.com/users/joelgrus/followers', 'following_url': 'https://api.github.com/users/joelgrus/following{/other_user}', 'gists_url': 'https://api.github.com/users/joelgrus/gists{/gist_id}', 'starred_url': 'https://api.github.com/users/joelgrus/starred{/owner}{/repo}', 'subscriptions_url': 'https://api.github.com/users/joelgrus/subscriptions', 'organizations_url': 'https://api.github.com/users/joelgrus/orgs', 'repos_url': 'https://api.github.com/users/joelgrus/repos', 'events_url': 'https://api.github.com/users/joelgrus/events{/privacy}', 'received_events_url': 'https://api.github.com/users/joelgrus/received_events', 'type': 'User', 'site_admin': False}, 'html_url': 'https://github.com/joelgrus/bracket-filler', 'description': 'fill in your own bracket', 'fork': False, 'url': 'https://api.github.com/repos/joelgrus/bracket-filler', 'forks_url': 'https://api.github.com/repos/joelgrus/bracket-filler/forks', 'keys_url': 'https://api.github.com/repos/joelgrus/bracket-filler/keys{/key_id}', 'collaborators_url': 'https://api.github.com/repos/joelgrus/bracket-filler/collaborators{/collaborator}', 'teams_url': 'https://api.github.com/repos/joelgrus/bracket-filler/teams', 'hooks_url': 'https://api.github.com/repos/joelgrus/bracket-filler/hooks', 'issue_events_url': 'https://api.github.com/repos/joelgrus/bracket-filler/issues/events{/number}', 'events_url': 'https://api.github.com/repos/joelgrus/bracket-filler/events', 'assignees_url': 'https://api.github.com/repos/joelgrus/bracket-filler/assignees{/user}', 'branches_url': 'https://api.github.com/repos/joelgrus/bracket-filler/branches{/branch}', 'tags_url': 'https://api.github.com/repos/joelgrus/bracket-filler/tags', 'blobs_url': 'https://api.github.com/repos/joelgrus/bracket-filler/git/blobs{/sha}', 'git_tags_url': 'https://api.github.com/repos/joelgrus/bracket-filler/git/tags{/sha}', 'git_refs_url': 'https://api.github.com/repos/joelgrus/bracket-filler/git/refs{/sha}', 'trees_url': 'https://api.github.com/repos/joelgrus/bracket-filler/git/trees{/sha}', 'statuses_url': 'https://api.github.com/repos/joelgrus/bracket-filler/statuses/{sha}', 'languages_url': 'https://api.github.com/repos/joelgrus/bracket-filler/languages', 'stargazers_url': 'https://api.github.com/repos/joelgrus/bracket-filler/stargazers', 'contributors_url': 'https://api.github.com/repos/joelgrus/bracket-filler/contributors', 'subscribers_url': 'https://api.github.com/repos/joelgrus/bracket-filler/subscribers', 'subscription_url': 'https://api.github.com/repos/joelgrus/bracket-filler/subscription', 'commits_url': 'https://api.github.com/repos/joelgrus/bracket-filler/commits{/sha}', 'git_commits_url': 'https://api.github.com/repos/joelgrus/bracket-filler/git/commits{/sha}', 'comments_url': 'https://api.github.com/repos/joelgrus/bracket-filler/comments{/number}', 'issue_comment_url': 'https://api.github.com/repos/joelgrus/bracket-filler/issues/comments{/number}', 'contents_url': 'https://api.github.com/repos/joelgrus/bracket-filler/contents/{+path}', 'compare_url': 'https://api.github.com/repos/joelgrus/bracket-filler/compare/{base}...{head}', 'merges_url': 'https://api.github.com/repos/joelgrus/bracket-filler/merges', 'archive_url': 'https://api.github.com/repos/joelgrus/bracket-filler/{archive_format}{/ref}', 'downloads_url': 'https://api.github.com/repos/joelgrus/bracket-filler/downloads', 'issues_url': 'https://api.github.com/repos/joelgrus/bracket-filler/issues{/number}', 'pulls_url': 'https://api.github.com/repos/joelgrus/bracket-filler/pulls{/number}', 'milestones_url': 'https://api.github.com/repos/joelgrus/bracket-filler/milestones{/number}', 'notifications_url': 'https://api.github.com/repos/joelgrus/bracket-filler/notifications{?since,all,participating}', 'labels_url': 'https://api.github.com/repos/joelgrus/bracket-filler/labels{/name}', 'releases_url': 'https://api.github.com/repos/joelgrus/bracket-filler/releases{/id}', 'deployments_url': 'https://api.github.com/repos/joelgrus/bracket-filler/deployments', 'created_at': '2023-03-19T20:15:39Z', 'updated_at': '2023-03-19T20:15:58Z', 'pushed_at': '2023-03-19T22:10:43Z', 'git_url': 'git://github.com/joelgrus/bracket-filler.git', 'ssh_url': 'git@github.com:joelgrus/bracket-filler.git', 'clone_url': 'https://github.com/joelgrus/bracket-filler.git', 'svn_url': 'https://github.com/joelgrus/bracket-filler', 'homepage': None, 'size': 99, 'stargazers_count': 0, 'watchers_count': 0, 'language': 'Svelte', 'has_issues': True, 'has_projects': True, 'has_downloads': True, 'has_wiki': True, 'has_pages': False, 'has_discussions': False, 'forks_count': 0, 'mirror_url': None, 'archived': False, 'disabled': False, 'open_issues_count': 0, 'license': None, 'allow_forking': True, 'is_template': False, 'web_commit_signoff_required': False, 'topics': [], 'visibility': 'public', 'forks': 0, 'open_issues': 0, 'watchers': 0, 'default_branch': 'master'}, {'id': 90890276, 'node_id': 'MDEwOlJlcG9zaXRvcnk5MDg5MDI3Ng==', 'name': 'britecharts', 'full_name': 'joelgrus/britecharts', 'private': False, 'owner': {'login': 'joelgrus', 'id': 1308313, 'node_id': 'MDQ6VXNlcjEzMDgzMTM=', 'avatar_url': 'https://avatars.githubusercontent.com/u/1308313?v=4', 'gravatar_id': '', 'url': 'https://api.github.com/users/joelgrus', 'html_url': 'https://github.com/joelgrus', 'followers_url': 'https://api.github.com/users/joelgrus/followers', 'following_url': 'https://api.github.com/users/joelgrus/following{/other_user}', 'gists_url': 'https://api.github.com/users/joelgrus/gists{/gist_id}', 'starred_url': 'https://api.github.com/users/joelgrus/starred{/owner}{/repo}', 'subscriptions_url': 'https://api.github.com/users/joelgrus/subscriptions', 'organizations_url': 'https://api.github.com/users/joelgrus/orgs', 'repos_url': 'https://api.github.com/users/joelgrus/repos', 'events_url': 'https://api.github.com/users/joelgrus/events{/privacy}', 'received_events_url': 'https://api.github.com/users/joelgrus/received_events', 'type': 'User', 'site_admin': False}, 'html_url': 'https://github.com/joelgrus/britecharts', 'description': 'Client-side reusable Charting Library based on D3.js v4 that allows easy and intuitive use of charts and components that can be composed together creating amazing visualizations.', 'fork': True, 'url': 'https://api.github.com/repos/joelgrus/britecharts', 'forks_url': 'https://api.github.com/repos/joelgrus/britecharts/forks', 'keys_url': 'https://api.github.com/repos/joelgrus/britecharts/keys{/key_id}', 'collaborators_url': 'https://api.github.com/repos/joelgrus/britecharts/collaborators{/collaborator}', 'teams_url': 'https://api.github.com/repos/joelgrus/britecharts/teams', 'hooks_url': 'https://api.github.com/repos/joelgrus/britecharts/hooks', 'issue_events_url': 'https://api.github.com/repos/joelgrus/britecharts/issues/events{/number}', 'events_url': 'https://api.github.com/repos/joelgrus/britecharts/events', 'assignees_url': 'https://api.github.com/repos/joelgrus/britecharts/assignees{/user}', 'branches_url': 'https://api.github.com/repos/joelgrus/britecharts/branches{/branch}', 'tags_url': 'https://api.github.com/repos/joelgrus/britecharts/tags', 'blobs_url': 'https://api.github.com/repos/joelgrus/britecharts/git/blobs{/sha}', 'git_tags_url': 'https://api.github.com/repos/joelgrus/britecharts/git/tags{/sha}', 'git_refs_url': 'https://api.github.com/repos/joelgrus/britecharts/git/refs{/sha}', 'trees_url': 'https://api.github.com/repos/joelgrus/britecharts/git/trees{/sha}', 'statuses_url': 'https://api.github.com/repos/joelgrus/britecharts/statuses/{sha}', 'languages_url': 'https://api.github.com/repos/joelgrus/britecharts/languages', 'stargazers_url': 'https://api.github.com/repos/joelgrus/britecharts/stargazers', 'contributors_url': 'https://api.github.com/repos/joelgrus/britecharts/contributors', 'subscribers_url': 'https://api.github.com/repos/joelgrus/britecharts/subscribers', 'subscription_url': 'https://api.github.com/repos/joelgrus/britecharts/subscription', 'commits_url': 'https://api.github.com/repos/joelgrus/britecharts/commits{/sha}', 'git_commits_url': 'https://api.github.com/repos/joelgrus/britecharts/git/commits{/sha}', 'comments_url': 'https://api.github.com/repos/joelgrus/britecharts/comments{/number}', 'issue_comment_url': 'https://api.github.com/repos/joelgrus/britecharts/issues/comments{/number}', 'contents_url': 'https://api.github.com/repos/joelgrus/britecharts/contents/{+path}', 'compare_url': 'https://api.github.com/repos/joelgrus/britecharts/compare/{base}...{head}', 'merges_url': 'https://api.github.com/repos/joelgrus/britecharts/merges', 'archive_url': 'https://api.github.com/repos/joelgrus/britecharts/{archive_format}{/ref}', 'downloads_url': 'https://api.github.com/repos/joelgrus/britecharts/downloads', 'issues_url': 'https://api.github.com/repos/joelgrus/britecharts/issues{/number}', 'pulls_url': 'https://api.github.com/repos/joelgrus/britecharts/pulls{/number}', 'milestones_url': 'https://api.github.com/repos/joelgrus/britecharts/milestones{/number}', 'notifications_url': 'https://api.github.com/repos/joelgrus/britecharts/notifications{?since,all,participating}', 'labels_url': 'https://api.github.com/repos/joelgrus/britecharts/labels{/name}', 'releases_url': 'https://api.github.com/repos/joelgrus/britecharts/releases{/id}', 'deployments_url': 'https://api.github.com/repos/joelgrus/britecharts/deployments', 'created_at': '2017-05-10T17:22:45Z', 'updated_at': '2022-05-02T13:59:38Z', 'pushed_at': '2017-05-10T17:33:56Z', 'git_url': 'git://github.com/joelgrus/britecharts.git', 'ssh_url': 'git@github.com:joelgrus/britecharts.git', 'clone_url': 'https://github.com/joelgrus/britecharts.git', 'svn_url': 'https://github.com/joelgrus/britecharts', 'homepage': 'http://eventbrite.github.io/britecharts/', 'size': 14181, 'stargazers_count': 2, 'watchers_count': 2, 'language': 'JavaScript', 'has_issues': False, 'has_projects': True, 'has_downloads': True, 'has_wiki': True, 'has_pages': False, 'has_discussions': False, 'forks_count': 1, 'mirror_url': None, 'archived': False, 'disabled': False, 'open_issues_count': 0, 'license': {'key': 'apache-2.0', 'name': 'Apache License 2.0', 'spdx_id': 'Apache-2.0', 'url': 'https://api.github.com/licenses/apache-2.0', 'node_id': 'MDc6TGljZW5zZTI='}, 'allow_forking': True, 'is_template': False, 'web_commit_signoff_required': False, 'topics': [], 'visibility': 'public', 'forks': 1, 'open_issues': 0, 'watchers': 2, 'default_branch': 'master'}, {'id': 14416027, 'node_id': 'MDEwOlJlcG9zaXRvcnkxNDQxNjAyNw==', 'name': 'cantos', 'full_name': 'joelgrus/cantos', 'private': False, 'owner': {'login': 'joelgrus', 'id': 1308313, 'node_id': 'MDQ6VXNlcjEzMDgzMTM=', 'avatar_url': 'https://avatars.githubusercontent.com/u/1308313?v=4', 'gravatar_id': '', 'url': 'https://api.github.com/users/joelgrus', 'html_url': 'https://github.com/joelgrus', 'followers_url': 'https://api.github.com/users/joelgrus/followers', 'following_url': 'https://api.github.com/users/joelgrus/following{/other_user}', 'gists_url': 'https://api.github.com/users/joelgrus/gists{/gist_id}', 'starred_url': 'https://api.github.com/users/joelgrus/starred{/owner}{/repo}', 'subscriptions_url': 'https://api.github.com/users/joelgrus/subscriptions', 'organizations_url': 'https://api.github.com/users/joelgrus/orgs', 'repos_url': 'https://api.github.com/users/joelgrus/repos', 'events_url': 'https://api.github.com/users/joelgrus/events{/privacy}', 'received_events_url': 'https://api.github.com/users/joelgrus/received_events', 'type': 'User', 'site_admin': False}, 'html_url': 'https://github.com/joelgrus/cantos', 'description': 'F#st and furious static website generator.  Written in F#.', 'fork': True, 'url': 'https://api.github.com/repos/joelgrus/cantos', 'forks_url': 'https://api.github.com/repos/joelgrus/cantos/forks', 'keys_url': 'https://api.github.com/repos/joelgrus/cantos/keys{/key_id}', 'collaborators_url': 'https://api.github.com/repos/joelgrus/cantos/collaborators{/collaborator}', 'teams_url': 'https://api.github.com/repos/joelgrus/cantos/teams', 'hooks_url': 'https://api.github.com/repos/joelgrus/cantos/hooks', 'issue_events_url': 'https://api.github.com/repos/joelgrus/cantos/issues/events{/number}', 'events_url': 'https://api.github.com/repos/joelgrus/cantos/events', 'assignees_url': 'https://api.github.com/repos/joelgrus/cantos/assignees{/user}', 'branches_url': 'https://api.github.com/repos/joelgrus/cantos/branches{/branch}', 'tags_url': 'https://api.github.com/repos/joelgrus/cantos/tags', 'blobs_url': 'https://api.github.com/repos/joelgrus/cantos/git/blobs{/sha}', 'git_tags_url': 'https://api.github.com/repos/joelgrus/cantos/git/tags{/sha}', 'git_refs_url': 'https://api.github.com/repos/joelgrus/cantos/git/refs{/sha}', 'trees_url': 'https://api.github.com/repos/joelgrus/cantos/git/trees{/sha}', 'statuses_url': 'https://api.github.com/repos/joelgrus/cantos/statuses/{sha}', 'languages_url': 'https://api.github.com/repos/joelgrus/cantos/languages', 'stargazers_url': 'https://api.github.com/repos/joelgrus/cantos/stargazers', 'contributors_url': 'https://api.github.com/repos/joelgrus/cantos/contributors', 'subscribers_url': 'https://api.github.com/repos/joelgrus/cantos/subscribers', 'subscription_url': 'https://api.github.com/repos/joelgrus/cantos/subscription', 'commits_url': 'https://api.github.com/repos/joelgrus/cantos/commits{/sha}', 'git_commits_url': 'https://api.github.com/repos/joelgrus/cantos/git/commits{/sha}', 'comments_url': 'https://api.github.com/repos/joelgrus/cantos/comments{/number}', 'issue_comment_url': 'https://api.github.com/repos/joelgrus/cantos/issues/comments{/number}', 'contents_url': 'https://api.github.com/repos/joelgrus/cantos/contents/{+path}', 'compare_url': 'https://api.github.com/repos/joelgrus/cantos/compare/{base}...{head}', 'merges_url': 'https://api.github.com/repos/joelgrus/cantos/merges', 'archive_url': 'https://api.github.com/repos/joelgrus/cantos/{archive_format}{/ref}', 'downloads_url': 'https://api.github.com/repos/joelgrus/cantos/downloads', 'issues_url': 'https://api.github.com/repos/joelgrus/cantos/issues{/number}', 'pulls_url': 'https://api.github.com/repos/joelgrus/cantos/pulls{/number}', 'milestones_url': 'https://api.github.com/repos/joelgrus/cantos/milestones{/number}', 'notifications_url': 'https://api.github.com/repos/joelgrus/cantos/notifications{?since,all,participating}', 'labels_url': 'https://api.github.com/repos/joelgrus/cantos/labels{/name}', 'releases_url': 'https://api.github.com/repos/joelgrus/cantos/releases{/id}', 'deployments_url': 'https://api.github.com/repos/joelgrus/cantos/deployments', 'created_at': '2013-11-15T05:33:22Z', 'updated_at': '2013-11-15T05:33:22Z', 'pushed_at': '2013-07-01T17:46:13Z', 'git_url': 'git://github.com/joelgrus/cantos.git', 'ssh_url': 'git@github.com:joelgrus/cantos.git', 'clone_url': 'https://github.com/joelgrus/cantos.git', 'svn_url': 'https://github.com/joelgrus/cantos', 'homepage': '', 'size': 60, 'stargazers_count': 0, 'watchers_count': 0, 'language': 'F#', 'has_issues': False, 'has_projects': True, 'has_downloads': True, 'has_wiki': True, 'has_pages': False, 'has_discussions': False, 'forks_count': 0, 'mirror_url': None, 'archived': False, 'disabled': False, 'open_issues_count': 0, 'license': None, 'allow_forking': True, 'is_template': False, 'web_commit_signoff_required': False, 'topics': [], 'visibility': 'public', 'forks': 0, 'open_issues': 0, 'watchers': 0, 'default_branch': 'master'}, {'id': 5851332, 'node_id': 'MDEwOlJlcG9zaXRvcnk1ODUxMzMy', 'name': 'chain-py', 'full_name': 'joelgrus/chain-py', 'private': False, 'owner': {'login': 'joelgrus', 'id': 1308313, 'node_id': 'MDQ6VXNlcjEzMDgzMTM=', 'avatar_url': 'https://avatars.githubusercontent.com/u/1308313?v=4', 'gravatar_id': '', 'url': 'https://api.github.com/users/joelgrus', 'html_url': 'https://github.com/joelgrus', 'followers_url': 'https://api.github.com/users/joelgrus/followers', 'following_url': 'https://api.github.com/users/joelgrus/following{/other_user}', 'gists_url': 'https://api.github.com/users/joelgrus/gists{/gist_id}', 'starred_url': 'https://api.github.com/users/joelgrus/starred{/owner}{/repo}', 'subscriptions_url': 'https://api.github.com/users/joelgrus/subscriptions', 'organizations_url': 'https://api.github.com/users/joelgrus/orgs', 'repos_url': 'https://api.github.com/users/joelgrus/repos', 'events_url': 'https://api.github.com/users/joelgrus/events{/privacy}', 'received_events_url': 'https://api.github.com/users/joelgrus/received_events', 'type': 'User', 'site_admin': False}, 'html_url': 'https://github.com/joelgrus/chain-py', 'description': 'Fluent sequence operations in Python', 'fork': False, 'url': 'https://api.github.com/repos/joelgrus/chain-py', 'forks_url': 'https://api.github.com/repos/joelgrus/chain-py/forks', 'keys_url': 'https://api.github.com/repos/joelgrus/chain-py/keys{/key_id}', 'collaborators_url': 'https://api.github.com/repos/joelgrus/chain-py/collaborators{/collaborator}', 'teams_url': 'https://api.github.com/repos/joelgrus/chain-py/teams', 'hooks_url': 'https://api.github.com/repos/joelgrus/chain-py/hooks', 'issue_events_url': 'https://api.github.com/repos/joelgrus/chain-py/issues/events{/number}', 'events_url': 'https://api.github.com/repos/joelgrus/chain-py/events', 'assignees_url': 'https://api.github.com/repos/joelgrus/chain-py/assignees{/user}', 'branches_url': 'https://api.github.com/repos/joelgrus/chain-py/branches{/branch}', 'tags_url': 'https://api.github.com/repos/joelgrus/chain-py/tags', 'blobs_url': 'https://api.github.com/repos/joelgrus/chain-py/git/blobs{/sha}', 'git_tags_url': 'https://api.github.com/repos/joelgrus/chain-py/git/tags{/sha}', 'git_refs_url': 'https://api.github.com/repos/joelgrus/chain-py/git/refs{/sha}', 'trees_url': 'https://api.github.com/repos/joelgrus/chain-py/git/trees{/sha}', 'statuses_url': 'https://api.github.com/repos/joelgrus/chain-py/statuses/{sha}', 'languages_url': 'https://api.github.com/repos/joelgrus/chain-py/languages', 'stargazers_url': 'https://api.github.com/repos/joelgrus/chain-py/stargazers', 'contributors_url': 'https://api.github.com/repos/joelgrus/chain-py/contributors', 'subscribers_url': 'https://api.github.com/repos/joelgrus/chain-py/subscribers', 'subscription_url': 'https://api.github.com/repos/joelgrus/chain-py/subscription', 'commits_url': 'https://api.github.com/repos/joelgrus/chain-py/commits{/sha}', 'git_commits_url': 'https://api.github.com/repos/joelgrus/chain-py/git/commits{/sha}', 'comments_url': 'https://api.github.com/repos/joelgrus/chain-py/comments{/number}', 'issue_comment_url': 'https://api.github.com/repos/joelgrus/chain-py/issues/comments{/number}', 'contents_url': 'https://api.github.com/repos/joelgrus/chain-py/contents/{+path}', 'compare_url': 'https://api.github.com/repos/joelgrus/chain-py/compare/{base}...{head}', 'merges_url': 'https://api.github.com/repos/joelgrus/chain-py/merges', 'archive_url': 'https://api.github.com/repos/joelgrus/chain-py/{archive_format}{/ref}', 'downloads_url': 'https://api.github.com/repos/joelgrus/chain-py/downloads', 'issues_url': 'https://api.github.com/repos/joelgrus/chain-py/issues{/number}', 'pulls_url': 'https://api.github.com/repos/joelgrus/chain-py/pulls{/number}', 'milestones_url': 'https://api.github.com/repos/joelgrus/chain-py/milestones{/number}', 'notifications_url': 'https://api.github.com/repos/joelgrus/chain-py/notifications{?since,all,participating}', 'labels_url': 'https://api.github.com/repos/joelgrus/chain-py/labels{/name}', 'releases_url': 'https://api.github.com/repos/joelgrus/chain-py/releases{/id}', 'deployments_url': 'https://api.github.com/repos/joelgrus/chain-py/deployments', 'created_at': '2012-09-18T04:20:23Z', 'updated_at': '2021-10-11T20:24:57Z', 'pushed_at': '2012-09-18T04:47:53Z', 'git_url': 'git://github.com/joelgrus/chain-py.git', 'ssh_url': 'git@github.com:joelgrus/chain-py.git', 'clone_url': 'https://github.com/joelgrus/chain-py.git', 'svn_url': 'https://github.com/joelgrus/chain-py', 'homepage': None, 'size': 108, 'stargazers_count': 12, 'watchers_count': 12, 'language': 'Python', 'has_issues': True, 'has_projects': True, 'has_downloads': True, 'has_wiki': True, 'has_pages': False, 'has_discussions': False, 'forks_count': 2, 'mirror_url': None, 'archived': False, 'disabled': False, 'open_issues_count': 0, 'license': None, 'allow_forking': True, 'is_template': False, 'web_commit_signoff_required': False, 'topics': [], 'visibility': 'public', 'forks': 2, 'open_issues': 0, 'watchers': 12, 'default_branch': 'master'}, {'id': 63714706, 'node_id': 'MDEwOlJlcG9zaXRvcnk2MzcxNDcwNg==', 'name': 'char-rnn-tensorflow', 'full_name': 'joelgrus/char-rnn-tensorflow', 'private': False, 'owner': {'login': 'joelgrus', 'id': 1308313, 'node_id': 'MDQ6VXNlcjEzMDgzMTM=', 'avatar_url': 'https://avatars.githubusercontent.com/u/1308313?v=4', 'gravatar_id': '', 'url': 'https://api.github.com/users/joelgrus', 'html_url': 'https://github.com/joelgrus', 'followers_url': 'https://api.github.com/users/joelgrus/followers', 'following_url': 'https://api.github.com/users/joelgrus/following{/other_user}', 'gists_url': 'https://api.github.com/users/joelgrus/gists{/gist_id}', 'starred_url': 'https://api.github.com/users/joelgrus/starred{/owner}{/repo}', 'subscriptions_url': 'https://api.github.com/users/joelgrus/subscriptions', 'organizations_url': 'https://api.github.com/users/joelgrus/orgs', 'repos_url': 'https://api.github.com/users/joelgrus/repos', 'events_url': 'https://api.github.com/users/joelgrus/events{/privacy}', 'received_events_url': 'https://api.github.com/users/joelgrus/received_events', 'type': 'User', 'site_admin': False}, 'html_url': 'https://github.com/joelgrus/char-rnn-tensorflow', 'description': ' Multi-layer Recurrent Neural Networks (LSTM, RNN) for character-level language models in Python using Tensorflow ', 'fork': True, 'url': 'https://api.github.com/repos/joelgrus/char-rnn-tensorflow', 'forks_url': 'https://api.github.com/repos/joelgrus/char-rnn-tensorflow/forks', 'keys_url': 'https://api.github.com/repos/joelgrus/char-rnn-tensorflow/keys{/key_id}', 'collaborators_url': 'https://api.github.com/repos/joelgrus/char-rnn-tensorflow/collaborators{/collaborator}', 'teams_url': 'https://api.github.com/repos/joelgrus/char-rnn-tensorflow/teams', 'hooks_url': 'https://api.github.com/repos/joelgrus/char-rnn-tensorflow/hooks', 'issue_events_url': 'https://api.github.com/repos/joelgrus/char-rnn-tensorflow/issues/events{/number}', 'events_url': 'https://api.github.com/repos/joelgrus/char-rnn-tensorflow/events', 'assignees_url': 'https://api.github.com/repos/joelgrus/char-rnn-tensorflow/assignees{/user}', 'branches_url': 'https://api.github.com/repos/joelgrus/char-rnn-tensorflow/branches{/branch}', 'tags_url': 'https://api.github.com/repos/joelgrus/char-rnn-tensorflow/tags', 'blobs_url': 'https://api.github.com/repos/joelgrus/char-rnn-tensorflow/git/blobs{/sha}', 'git_tags_url': 'https://api.github.com/repos/joelgrus/char-rnn-tensorflow/git/tags{/sha}', 'git_refs_url': 'https://api.github.com/repos/joelgrus/char-rnn-tensorflow/git/refs{/sha}', 'trees_url': 'https://api.github.com/repos/joelgrus/char-rnn-tensorflow/git/trees{/sha}', 'statuses_url': 'https://api.github.com/repos/joelgrus/char-rnn-tensorflow/statuses/{sha}', 'languages_url': 'https://api.github.com/repos/joelgrus/char-rnn-tensorflow/languages', 'stargazers_url': 'https://api.github.com/repos/joelgrus/char-rnn-tensorflow/stargazers', 'contributors_url': 'https://api.github.com/repos/joelgrus/char-rnn-tensorflow/contributors', 'subscribers_url': 'https://api.github.com/repos/joelgrus/char-rnn-tensorflow/subscribers', 'subscription_url': 'https://api.github.com/repos/joelgrus/char-rnn-tensorflow/subscription', 'commits_url': 'https://api.github.com/repos/joelgrus/char-rnn-tensorflow/commits{/sha}', 'git_commits_url': 'https://api.github.com/repos/joelgrus/char-rnn-tensorflow/git/commits{/sha}', 'comments_url': 'https://api.github.com/repos/joelgrus/char-rnn-tensorflow/comments{/number}', 'issue_comment_url': 'https://api.github.com/repos/joelgrus/char-rnn-tensorflow/issues/comments{/number}', 'contents_url': 'https://api.github.com/repos/joelgrus/char-rnn-tensorflow/contents/{+path}', 'compare_url': 'https://api.github.com/repos/joelgrus/char-rnn-tensorflow/compare/{base}...{head}', 'merges_url': 'https://api.github.com/repos/joelgrus/char-rnn-tensorflow/merges', 'archive_url': 'https://api.github.com/repos/joelgrus/char-rnn-tensorflow/{archive_format}{/ref}', 'downloads_url': 'https://api.github.com/repos/joelgrus/char-rnn-tensorflow/downloads', 'issues_url': 'https://api.github.com/repos/joelgrus/char-rnn-tensorflow/issues{/number}', 'pulls_url': 'https://api.github.com/repos/joelgrus/char-rnn-tensorflow/pulls{/number}', 'milestones_url': 'https://api.github.com/repos/joelgrus/char-rnn-tensorflow/milestones{/number}', 'notifications_url': 'https://api.github.com/repos/joelgrus/char-rnn-tensorflow/notifications{?since,all,participating}', 'labels_url': 'https://api.github.com/repos/joelgrus/char-rnn-tensorflow/labels{/name}', 'releases_url': 'https://api.github.com/repos/joelgrus/char-rnn-tensorflow/releases{/id}', 'deployments_url': 'https://api.github.com/repos/joelgrus/char-rnn-tensorflow/deployments', 'created_at': '2016-07-19T17:34:31Z', 'updated_at': '2022-05-02T13:59:40Z', 'pushed_at': '2016-07-13T09:54:19Z', 'git_url': 'git://github.com/joelgrus/char-rnn-tensorflow.git', 'ssh_url': 'git@github.com:joelgrus/char-rnn-tensorflow.git', 'clone_url': 'https://github.com/joelgrus/char-rnn-tensorflow.git', 'svn_url': 'https://github.com/joelgrus/char-rnn-tensorflow', 'homepage': None, 'size': 1830, 'stargazers_count': 1, 'watchers_count': 1, 'language': 'Python', 'has_issues': False, 'has_projects': True, 'has_downloads': True, 'has_wiki': True, 'has_pages': False, 'has_discussions': False, 'forks_count': 3, 'mirror_url': None, 'archived': False, 'disabled': False, 'open_issues_count': 0, 'license': {'key': 'mit', 'name': 'MIT License', 'spdx_id': 'MIT', 'url': 'https://api.github.com/licenses/mit', 'node_id': 'MDc6TGljZW5zZTEz'}, 'allow_forking': True, 'is_template': False, 'web_commit_signoff_required': False, 'topics': [], 'visibility': 'public', 'forks': 3, 'open_issues': 0, 'watchers': 1, 'default_branch': 'master'}, {'id': 45985825, 'node_id': 'MDEwOlJlcG9zaXRvcnk0NTk4NTgyNQ==', 'name': 'clickventure', 'full_name': 'joelgrus/clickventure', 'private': False, 'owner': {'login': 'joelgrus', 'id': 1308313, 'node_id': 'MDQ6VXNlcjEzMDgzMTM=', 'avatar_url': 'https://avatars.githubusercontent.com/u/1308313?v=4', 'gravatar_id': '', 'url': 'https://api.github.com/users/joelgrus', 'html_url': 'https://github.com/joelgrus', 'followers_url': 'https://api.github.com/users/joelgrus/followers', 'following_url': 'https://api.github.com/users/joelgrus/following{/other_user}', 'gists_url': 'https://api.github.com/users/joelgrus/gists{/gist_id}', 'starred_url': 'https://api.github.com/users/joelgrus/starred{/owner}{/repo}', 'subscriptions_url': 'https://api.github.com/users/joelgrus/subscriptions', 'organizations_url': 'https://api.github.com/users/joelgrus/orgs', 'repos_url': 'https://api.github.com/users/joelgrus/repos', 'events_url': 'https://api.github.com/users/joelgrus/events{/privacy}', 'received_events_url': 'https://api.github.com/users/joelgrus/received_events', 'type': 'User', 'site_admin': False}, 'html_url': 'https://github.com/joelgrus/clickventure', 'description': 'a react-based implementation of a ClickHole-style ClickVenture', 'fork': False, 'url': 'https://api.github.com/repos/joelgrus/clickventure', 'forks_url': 'https://api.github.com/repos/joelgrus/clickventure/forks', 'keys_url': 'https://api.github.com/repos/joelgrus/clickventure/keys{/key_id}', 'collaborators_url': 'https://api.github.com/repos/joelgrus/clickventure/collaborators{/collaborator}', 'teams_url': 'https://api.github.com/repos/joelgrus/clickventure/teams', 'hooks_url': 'https://api.github.com/repos/joelgrus/clickventure/hooks', 'issue_events_url': 'https://api.github.com/repos/joelgrus/clickventure/issues/events{/number}', 'events_url': 'https://api.github.com/repos/joelgrus/clickventure/events', 'assignees_url': 'https://api.github.com/repos/joelgrus/clickventure/assignees{/user}', 'branches_url': 'https://api.github.com/repos/joelgrus/clickventure/branches{/branch}', 'tags_url': 'https://api.github.com/repos/joelgrus/clickventure/tags', 'blobs_url': 'https://api.github.com/repos/joelgrus/clickventure/git/blobs{/sha}', 'git_tags_url': 'https://api.github.com/repos/joelgrus/clickventure/git/tags{/sha}', 'git_refs_url': 'https://api.github.com/repos/joelgrus/clickventure/git/refs{/sha}', 'trees_url': 'https://api.github.com/repos/joelgrus/clickventure/git/trees{/sha}', 'statuses_url': 'https://api.github.com/repos/joelgrus/clickventure/statuses/{sha}', 'languages_url': 'https://api.github.com/repos/joelgrus/clickventure/languages', 'stargazers_url': 'https://api.github.com/repos/joelgrus/clickventure/stargazers', 'contributors_url': 'https://api.github.com/repos/joelgrus/clickventure/contributors', 'subscribers_url': 'https://api.github.com/repos/joelgrus/clickventure/subscribers', 'subscription_url': 'https://api.github.com/repos/joelgrus/clickventure/subscription', 'commits_url': 'https://api.github.com/repos/joelgrus/clickventure/commits{/sha}', 'git_commits_url': 'https://api.github.com/repos/joelgrus/clickventure/git/commits{/sha}', 'comments_url': 'https://api.github.com/repos/joelgrus/clickventure/comments{/number}', 'issue_comment_url': 'https://api.github.com/repos/joelgrus/clickventure/issues/comments{/number}', 'contents_url': 'https://api.github.com/repos/joelgrus/clickventure/contents/{+path}', 'compare_url': 'https://api.github.com/repos/joelgrus/clickventure/compare/{base}...{head}', 'merges_url': 'https://api.github.com/repos/joelgrus/clickventure/merges', 'archive_url': 'https://api.github.com/repos/joelgrus/clickventure/{archive_format}{/ref}', 'downloads_url': 'https://api.github.com/repos/joelgrus/clickventure/downloads', 'issues_url': 'https://api.github.com/repos/joelgrus/clickventure/issues{/number}', 'pulls_url': 'https://api.github.com/repos/joelgrus/clickventure/pulls{/number}', 'milestones_url': 'https://api.github.com/repos/joelgrus/clickventure/milestones{/number}', 'notifications_url': 'https://api.github.com/repos/joelgrus/clickventure/notifications{?since,all,participating}', 'labels_url': 'https://api.github.com/repos/joelgrus/clickventure/labels{/name}', 'releases_url': 'https://api.github.com/repos/joelgrus/clickventure/releases{/id}', 'deployments_url': 'https://api.github.com/repos/joelgrus/clickventure/deployments', 'created_at': '2015-11-11T14:15:36Z', 'updated_at': '2022-05-02T13:59:58Z', 'pushed_at': '2015-11-12T14:08:30Z', 'git_url': 'git://github.com/joelgrus/clickventure.git', 'ssh_url': 'git@github.com:joelgrus/clickventure.git', 'clone_url': 'https://github.com/joelgrus/clickventure.git', 'svn_url': 'https://github.com/joelgrus/clickventure', 'homepage': None, 'size': 0, 'stargazers_count': 3, 'watchers_count': 3, 'language': 'JavaScript', 'has_issues': True, 'has_projects': True, 'has_downloads': True, 'has_wiki': True, 'has_pages': False, 'has_discussions': False, 'forks_count': 2, 'mirror_url': None, 'archived': False, 'disabled': False, 'open_issues_count': 0, 'license': None, 'allow_forking': True, 'is_template': False, 'web_commit_signoff_required': False, 'topics': [], 'visibility': 'public', 'forks': 2, 'open_issues': 0, 'watchers': 3, 'default_branch': 'master'}, {'id': 60096988, 'node_id': 'MDEwOlJlcG9zaXRvcnk2MDA5Njk4OA==', 'name': 'cnn-text-classification-tf', 'full_name': 'joelgrus/cnn-text-classification-tf', 'private': False, 'owner': {'login': 'joelgrus', 'id': 1308313, 'node_id': 'MDQ6VXNlcjEzMDgzMTM=', 'avatar_url': 'https://avatars.githubusercontent.com/u/1308313?v=4', 'gravatar_id': '', 'url': 'https://api.github.com/users/joelgrus', 'html_url': 'https://github.com/joelgrus', 'followers_url': 'https://api.github.com/users/joelgrus/followers', 'following_url': 'https://api.github.com/users/joelgrus/following{/other_user}', 'gists_url': 'https://api.github.com/users/joelgrus/gists{/gist_id}', 'starred_url': 'https://api.github.com/users/joelgrus/starred{/owner}{/repo}', 'subscriptions_url': 'https://api.github.com/users/joelgrus/subscriptions', 'organizations_url': 'https://api.github.com/users/joelgrus/orgs', 'repos_url': 'https://api.github.com/users/joelgrus/repos', 'events_url': 'https://api.github.com/users/joelgrus/events{/privacy}', 'received_events_url': 'https://api.github.com/users/joelgrus/received_events', 'type': 'User', 'site_admin': False}, 'html_url': 'https://github.com/joelgrus/cnn-text-classification-tf', 'description': 'Convolutional Neural Network for Text Classification in Tensorflow', 'fork': True, 'url': 'https://api.github.com/repos/joelgrus/cnn-text-classification-tf', 'forks_url': 'https://api.github.com/repos/joelgrus/cnn-text-classification-tf/forks', 'keys_url': 'https://api.github.com/repos/joelgrus/cnn-text-classification-tf/keys{/key_id}', 'collaborators_url': 'https://api.github.com/repos/joelgrus/cnn-text-classification-tf/collaborators{/collaborator}', 'teams_url': 'https://api.github.com/repos/joelgrus/cnn-text-classification-tf/teams', 'hooks_url': 'https://api.github.com/repos/joelgrus/cnn-text-classification-tf/hooks', 'issue_events_url': 'https://api.github.com/repos/joelgrus/cnn-text-classification-tf/issues/events{/number}', 'events_url': 'https://api.github.com/repos/joelgrus/cnn-text-classification-tf/events', 'assignees_url': 'https://api.github.com/repos/joelgrus/cnn-text-classification-tf/assignees{/user}', 'branches_url': 'https://api.github.com/repos/joelgrus/cnn-text-classification-tf/branches{/branch}', 'tags_url': 'https://api.github.com/repos/joelgrus/cnn-text-classification-tf/tags', 'blobs_url': 'https://api.github.com/repos/joelgrus/cnn-text-classification-tf/git/blobs{/sha}', 'git_tags_url': 'https://api.github.com/repos/joelgrus/cnn-text-classification-tf/git/tags{/sha}', 'git_refs_url': 'https://api.github.com/repos/joelgrus/cnn-text-classification-tf/git/refs{/sha}', 'trees_url': 'https://api.github.com/repos/joelgrus/cnn-text-classification-tf/git/trees{/sha}', 'statuses_url': 'https://api.github.com/repos/joelgrus/cnn-text-classification-tf/statuses/{sha}', 'languages_url': 'https://api.github.com/repos/joelgrus/cnn-text-classification-tf/languages', 'stargazers_url': 'https://api.github.com/repos/joelgrus/cnn-text-classification-tf/stargazers', 'contributors_url': 'https://api.github.com/repos/joelgrus/cnn-text-classification-tf/contributors', 'subscribers_url': 'https://api.github.com/repos/joelgrus/cnn-text-classification-tf/subscribers', 'subscription_url': 'https://api.github.com/repos/joelgrus/cnn-text-classification-tf/subscription', 'commits_url': 'https://api.github.com/repos/joelgrus/cnn-text-classification-tf/commits{/sha}', 'git_commits_url': 'https://api.github.com/repos/joelgrus/cnn-text-classification-tf/git/commits{/sha}', 'comments_url': 'https://api.github.com/repos/joelgrus/cnn-text-classification-tf/comments{/number}', 'issue_comment_url': 'https://api.github.com/repos/joelgrus/cnn-text-classification-tf/issues/comments{/number}', 'contents_url': 'https://api.github.com/repos/joelgrus/cnn-text-classification-tf/contents/{+path}', 'compare_url': 'https://api.github.com/repos/joelgrus/cnn-text-classification-tf/compare/{base}...{head}', 'merges_url': 'https://api.github.com/repos/joelgrus/cnn-text-classification-tf/merges', 'archive_url': 'https://api.github.com/repos/joelgrus/cnn-text-classification-tf/{archive_format}{/ref}', 'downloads_url': 'https://api.github.com/repos/joelgrus/cnn-text-classification-tf/downloads', 'issues_url': 'https://api.github.com/repos/joelgrus/cnn-text-classification-tf/issues{/number}', 'pulls_url': 'https://api.github.com/repos/joelgrus/cnn-text-classification-tf/pulls{/number}', 'milestones_url': 'https://api.github.com/repos/joelgrus/cnn-text-classification-tf/milestones{/number}', 'notifications_url': 'https://api.github.com/repos/joelgrus/cnn-text-classification-tf/notifications{?since,all,participating}', 'labels_url': 'https://api.github.com/repos/joelgrus/cnn-text-classification-tf/labels{/name}', 'releases_url': 'https://api.github.com/repos/joelgrus/cnn-text-classification-tf/releases{/id}', 'deployments_url': 'https://api.github.com/repos/joelgrus/cnn-text-classification-tf/deployments', 'created_at': '2016-05-31T14:33:06Z', 'updated_at': '2022-05-02T13:59:44Z', 'pushed_at': '2016-05-08T22:57:07Z', 'git_url': 'git://github.com/joelgrus/cnn-text-classification-tf.git', 'ssh_url': 'git@github.com:joelgrus/cnn-text-classification-tf.git', 'clone_url': 'https://github.com/joelgrus/cnn-text-classification-tf.git', 'svn_url': 'https://github.com/joelgrus/cnn-text-classification-tf', 'homepage': None, 'size': 655, 'stargazers_count': 2, 'watchers_count': 2, 'language': 'Python', 'has_issues': False, 'has_projects': True, 'has_downloads': True, 'has_wiki': True, 'has_pages': False, 'has_discussions': False, 'forks_count': 1, 'mirror_url': None, 'archived': False, 'disabled': False, 'open_issues_count': 0, 'license': {'key': 'apache-2.0', 'name': 'Apache License 2.0', 'spdx_id': 'Apache-2.0', 'url': 'https://api.github.com/licenses/apache-2.0', 'node_id': 'MDc6TGljZW5zZTI='}, 'allow_forking': True, 'is_template': False, 'web_commit_signoff_required': False, 'topics': [], 'visibility': 'public', 'forks': 1, 'open_issues': 0, 'watchers': 2, 'default_branch': 'master'}, {'id': 149889203, 'node_id': 'MDEwOlJlcG9zaXRvcnkxNDk4ODkyMDM=', 'name': 'CNTK', 'full_name': 'joelgrus/CNTK', 'private': False, 'owner': {'login': 'joelgrus', 'id': 1308313, 'node_id': 'MDQ6VXNlcjEzMDgzMTM=', 'avatar_url': 'https://avatars.githubusercontent.com/u/1308313?v=4', 'gravatar_id': '', 'url': 'https://api.github.com/users/joelgrus', 'html_url': 'https://github.com/joelgrus', 'followers_url': 'https://api.github.com/users/joelgrus/followers', 'following_url': 'https://api.github.com/users/joelgrus/following{/other_user}', 'gists_url': 'https://api.github.com/users/joelgrus/gists{/gist_id}', 'starred_url': 'https://api.github.com/users/joelgrus/starred{/owner}{/repo}', 'subscriptions_url': 'https://api.github.com/users/joelgrus/subscriptions', 'organizations_url': 'https://api.github.com/users/joelgrus/orgs', 'repos_url': 'https://api.github.com/users/joelgrus/repos', 'events_url': 'https://api.github.com/users/joelgrus/events{/privacy}', 'received_events_url': 'https://api.github.com/users/joelgrus/received_events', 'type': 'User', 'site_admin': False}, 'html_url': 'https://github.com/joelgrus/CNTK', 'description': 'Microsoft Cognitive Toolkit (CNTK), an open source deep-learning toolkit', 'fork': True, 'url': 'https://api.github.com/repos/joelgrus/CNTK', 'forks_url': 'https://api.github.com/repos/joelgrus/CNTK/forks', 'keys_url': 'https://api.github.com/repos/joelgrus/CNTK/keys{/key_id}', 'collaborators_url': 'https://api.github.com/repos/joelgrus/CNTK/collaborators{/collaborator}', 'teams_url': 'https://api.github.com/repos/joelgrus/CNTK/teams', 'hooks_url': 'https://api.github.com/repos/joelgrus/CNTK/hooks', 'issue_events_url': 'https://api.github.com/repos/joelgrus/CNTK/issues/events{/number}', 'events_url': 'https://api.github.com/repos/joelgrus/CNTK/events', 'assignees_url': 'https://api.github.com/repos/joelgrus/CNTK/assignees{/user}', 'branches_url': 'https://api.github.com/repos/joelgrus/CNTK/branches{/branch}', 'tags_url': 'https://api.github.com/repos/joelgrus/CNTK/tags', 'blobs_url': 'https://api.github.com/repos/joelgrus/CNTK/git/blobs{/sha}', 'git_tags_url': 'https://api.github.com/repos/joelgrus/CNTK/git/tags{/sha}', 'git_refs_url': 'https://api.github.com/repos/joelgrus/CNTK/git/refs{/sha}', 'trees_url': 'https://api.github.com/repos/joelgrus/CNTK/git/trees{/sha}', 'statuses_url': 'https://api.github.com/repos/joelgrus/CNTK/statuses/{sha}', 'languages_url': 'https://api.github.com/repos/joelgrus/CNTK/languages', 'stargazers_url': 'https://api.github.com/repos/joelgrus/CNTK/stargazers', 'contributors_url': 'https://api.github.com/repos/joelgrus/CNTK/contributors', 'subscribers_url': 'https://api.github.com/repos/joelgrus/CNTK/subscribers', 'subscription_url': 'https://api.github.com/repos/joelgrus/CNTK/subscription', 'commits_url': 'https://api.github.com/repos/joelgrus/CNTK/commits{/sha}', 'git_commits_url': 'https://api.github.com/repos/joelgrus/CNTK/git/commits{/sha}', 'comments_url': 'https://api.github.com/repos/joelgrus/CNTK/comments{/number}', 'issue_comment_url': 'https://api.github.com/repos/joelgrus/CNTK/issues/comments{/number}', 'contents_url': 'https://api.github.com/repos/joelgrus/CNTK/contents/{+path}', 'compare_url': 'https://api.github.com/repos/joelgrus/CNTK/compare/{base}...{head}', 'merges_url': 'https://api.github.com/repos/joelgrus/CNTK/merges', 'archive_url': 'https://api.github.com/repos/joelgrus/CNTK/{archive_format}{/ref}', 'downloads_url': 'https://api.github.com/repos/joelgrus/CNTK/downloads', 'issues_url': 'https://api.github.com/repos/joelgrus/CNTK/issues{/number}', 'pulls_url': 'https://api.github.com/repos/joelgrus/CNTK/pulls{/number}', 'milestones_url': 'https://api.github.com/repos/joelgrus/CNTK/milestones{/number}', 'notifications_url': 'https://api.github.com/repos/joelgrus/CNTK/notifications{?since,all,participating}', 'labels_url': 'https://api.github.com/repos/joelgrus/CNTK/labels{/name}', 'releases_url': 'https://api.github.com/repos/joelgrus/CNTK/releases{/id}', 'deployments_url': 'https://api.github.com/repos/joelgrus/CNTK/deployments', 'created_at': '2018-09-22T15:23:50Z', 'updated_at': '2022-05-02T13:59:17Z', 'pushed_at': '2018-09-22T15:24:31Z', 'git_url': 'git://github.com/joelgrus/CNTK.git', 'ssh_url': 'git@github.com:joelgrus/CNTK.git', 'clone_url': 'https://github.com/joelgrus/CNTK.git', 'svn_url': 'https://github.com/joelgrus/CNTK', 'homepage': 'https://docs.microsoft.com/cognitive-toolkit/', 'size': 706685, 'stargazers_count': 2, 'watchers_count': 2, 'language': 'C++', 'has_issues': False, 'has_projects': True, 'has_downloads': True, 'has_wiki': True, 'has_pages': False, 'has_discussions': False, 'forks_count': 0, 'mirror_url': None, 'archived': False, 'disabled': False, 'open_issues_count': 0, 'license': {'key': 'other', 'name': 'Other', 'spdx_id': 'NOASSERTION', 'url': None, 'node_id': 'MDc6TGljZW5zZTA='}, 'allow_forking': True, 'is_template': False, 'web_commit_signoff_required': False, 'topics': [], 'visibility': 'public', 'forks': 0, 'open_issues': 0, 'watchers': 2, 'default_branch': 'master'}, {'id': 38278641, 'node_id': 'MDEwOlJlcG9zaXRvcnkzODI3ODY0MQ==', 'name': 'codefellows-data-science-week', 'full_name': 'joelgrus/codefellows-data-science-week', 'private': False, 'owner': {'login': 'joelgrus', 'id': 1308313, 'node_id': 'MDQ6VXNlcjEzMDgzMTM=', 'avatar_url': 'https://avatars.githubusercontent.com/u/1308313?v=4', 'gravatar_id': '', 'url': 'https://api.github.com/users/joelgrus', 'html_url': 'https://github.com/joelgrus', 'followers_url': 'https://api.github.com/users/joelgrus/followers', 'following_url': 'https://api.github.com/users/joelgrus/following{/other_user}', 'gists_url': 'https://api.github.com/users/joelgrus/gists{/gist_id}', 'starred_url': 'https://api.github.com/users/joelgrus/starred{/owner}{/repo}', 'subscriptions_url': 'https://api.github.com/users/joelgrus/subscriptions', 'organizations_url': 'https://api.github.com/users/joelgrus/orgs', 'repos_url': 'https://api.github.com/users/joelgrus/repos', 'events_url': 'https://api.github.com/users/joelgrus/events{/privacy}', 'received_events_url': 'https://api.github.com/users/joelgrus/received_events', 'type': 'User', 'site_admin': False}, 'html_url': 'https://github.com/joelgrus/codefellows-data-science-week', 'description': None, 'fork': False, 'url': 'https://api.github.com/repos/joelgrus/codefellows-data-science-week', 'forks_url': 'https://api.github.com/repos/joelgrus/codefellows-data-science-week/forks', 'keys_url': 'https://api.github.com/repos/joelgrus/codefellows-data-science-week/keys{/key_id}', 'collaborators_url': 'https://api.github.com/repos/joelgrus/codefellows-data-science-week/collaborators{/collaborator}', 'teams_url': 'https://api.github.com/repos/joelgrus/codefellows-data-science-week/teams', 'hooks_url': 'https://api.github.com/repos/joelgrus/codefellows-data-science-week/hooks', 'issue_events_url': 'https://api.github.com/repos/joelgrus/codefellows-data-science-week/issues/events{/number}', 'events_url': 'https://api.github.com/repos/joelgrus/codefellows-data-science-week/events', 'assignees_url': 'https://api.github.com/repos/joelgrus/codefellows-data-science-week/assignees{/user}', 'branches_url': 'https://api.github.com/repos/joelgrus/codefellows-data-science-week/branches{/branch}', 'tags_url': 'https://api.github.com/repos/joelgrus/codefellows-data-science-week/tags', 'blobs_url': 'https://api.github.com/repos/joelgrus/codefellows-data-science-week/git/blobs{/sha}', 'git_tags_url': 'https://api.github.com/repos/joelgrus/codefellows-data-science-week/git/tags{/sha}', 'git_refs_url': 'https://api.github.com/repos/joelgrus/codefellows-data-science-week/git/refs{/sha}', 'trees_url': 'https://api.github.com/repos/joelgrus/codefellows-data-science-week/git/trees{/sha}', 'statuses_url': 'https://api.github.com/repos/joelgrus/codefellows-data-science-week/statuses/{sha}', 'languages_url': 'https://api.github.com/repos/joelgrus/codefellows-data-science-week/languages', 'stargazers_url': 'https://api.github.com/repos/joelgrus/codefellows-data-science-week/stargazers', 'contributors_url': 'https://api.github.com/repos/joelgrus/codefellows-data-science-week/contributors', 'subscribers_url': 'https://api.github.com/repos/joelgrus/codefellows-data-science-week/subscribers', 'subscription_url': 'https://api.github.com/repos/joelgrus/codefellows-data-science-week/subscription', 'commits_url': 'https://api.github.com/repos/joelgrus/codefellows-data-science-week/commits{/sha}', 'git_commits_url': 'https://api.github.com/repos/joelgrus/codefellows-data-science-week/git/commits{/sha}', 'comments_url': 'https://api.github.com/repos/joelgrus/codefellows-data-science-week/comments{/number}', 'issue_comment_url': 'https://api.github.com/repos/joelgrus/codefellows-data-science-week/issues/comments{/number}', 'contents_url': 'https://api.github.com/repos/joelgrus/codefellows-data-science-week/contents/{+path}', 'compare_url': 'https://api.github.com/repos/joelgrus/codefellows-data-science-week/compare/{base}...{head}', 'merges_url': 'https://api.github.com/repos/joelgrus/codefellows-data-science-week/merges', 'archive_url': 'https://api.github.com/repos/joelgrus/codefellows-data-science-week/{archive_format}{/ref}', 'downloads_url': 'https://api.github.com/repos/joelgrus/codefellows-data-science-week/downloads', 'issues_url': 'https://api.github.com/repos/joelgrus/codefellows-data-science-week/issues{/number}', 'pulls_url': 'https://api.github.com/repos/joelgrus/codefellows-data-science-week/pulls{/number}', 'milestones_url': 'https://api.github.com/repos/joelgrus/codefellows-data-science-week/milestones{/number}', 'notifications_url': 'https://api.github.com/repos/joelgrus/codefellows-data-science-week/notifications{?since,all,participating}', 'labels_url': 'https://api.github.com/repos/joelgrus/codefellows-data-science-week/labels{/name}', 'releases_url': 'https://api.github.com/repos/joelgrus/codefellows-data-science-week/releases{/id}', 'deployments_url': 'https://api.github.com/repos/joelgrus/codefellows-data-science-week/deployments', 'created_at': '2015-06-30T00:33:03Z', 'updated_at': '2022-05-02T14:00:03Z', 'pushed_at': '2015-07-20T22:55:21Z', 'git_url': 'git://github.com/joelgrus/codefellows-data-science-week.git', 'ssh_url': 'git@github.com:joelgrus/codefellows-data-science-week.git', 'clone_url': 'https://github.com/joelgrus/codefellows-data-science-week.git', 'svn_url': 'https://github.com/joelgrus/codefellows-data-science-week', 'homepage': None, 'size': 866, 'stargazers_count': 2, 'watchers_count': 2, 'language': 'HTML', 'has_issues': True, 'has_projects': True, 'has_downloads': True, 'has_wiki': True, 'has_pages': False, 'has_discussions': False, 'forks_count': 1, 'mirror_url': None, 'archived': False, 'disabled': False, 'open_issues_count': 0, 'license': {'key': 'unlicense', 'name': 'The Unlicense', 'spdx_id': 'Unlicense', 'url': 'https://api.github.com/licenses/unlicense', 'node_id': 'MDc6TGljZW5zZTE1'}, 'allow_forking': True, 'is_template': False, 'web_commit_signoff_required': False, 'topics': [], 'visibility': 'public', 'forks': 1, 'open_issues': 0, 'watchers': 2, 'default_branch': 'master'}, {'id': 298829523, 'node_id': 'MDEwOlJlcG9zaXRvcnkyOTg4Mjk1MjM=', 'name': 'collaborative-regression', 'full_name': 'joelgrus/collaborative-regression', 'private': False, 'owner': {'login': 'joelgrus', 'id': 1308313, 'node_id': 'MDQ6VXNlcjEzMDgzMTM=', 'avatar_url': 'https://avatars.githubusercontent.com/u/1308313?v=4', 'gravatar_id': '', 'url': 'https://api.github.com/users/joelgrus', 'html_url': 'https://github.com/joelgrus', 'followers_url': 'https://api.github.com/users/joelgrus/followers', 'following_url': 'https://api.github.com/users/joelgrus/following{/other_user}', 'gists_url': 'https://api.github.com/users/joelgrus/gists{/gist_id}', 'starred_url': 'https://api.github.com/users/joelgrus/starred{/owner}{/repo}', 'subscriptions_url': 'https://api.github.com/users/joelgrus/subscriptions', 'organizations_url': 'https://api.github.com/users/joelgrus/orgs', 'repos_url': 'https://api.github.com/users/joelgrus/repos', 'events_url': 'https://api.github.com/users/joelgrus/events{/privacy}', 'received_events_url': 'https://api.github.com/users/joelgrus/received_events', 'type': 'User', 'site_admin': False}, 'html_url': 'https://github.com/joelgrus/collaborative-regression', 'description': 'collaborative regression', 'fork': False, 'url': 'https://api.github.com/repos/joelgrus/collaborative-regression', 'forks_url': 'https://api.github.com/repos/joelgrus/collaborative-regression/forks', 'keys_url': 'https://api.github.com/repos/joelgrus/collaborative-regression/keys{/key_id}', 'collaborators_url': 'https://api.github.com/repos/joelgrus/collaborative-regression/collaborators{/collaborator}', 'teams_url': 'https://api.github.com/repos/joelgrus/collaborative-regression/teams', 'hooks_url': 'https://api.github.com/repos/joelgrus/collaborative-regression/hooks', 'issue_events_url': 'https://api.github.com/repos/joelgrus/collaborative-regression/issues/events{/number}', 'events_url': 'https://api.github.com/repos/joelgrus/collaborative-regression/events', 'assignees_url': 'https://api.github.com/repos/joelgrus/collaborative-regression/assignees{/user}', 'branches_url': 'https://api.github.com/repos/joelgrus/collaborative-regression/branches{/branch}', 'tags_url': 'https://api.github.com/repos/joelgrus/collaborative-regression/tags', 'blobs_url': 'https://api.github.com/repos/joelgrus/collaborative-regression/git/blobs{/sha}', 'git_tags_url': 'https://api.github.com/repos/joelgrus/collaborative-regression/git/tags{/sha}', 'git_refs_url': 'https://api.github.com/repos/joelgrus/collaborative-regression/git/refs{/sha}', 'trees_url': 'https://api.github.com/repos/joelgrus/collaborative-regression/git/trees{/sha}', 'statuses_url': 'https://api.github.com/repos/joelgrus/collaborative-regression/statuses/{sha}', 'languages_url': 'https://api.github.com/repos/joelgrus/collaborative-regression/languages', 'stargazers_url': 'https://api.github.com/repos/joelgrus/collaborative-regression/stargazers', 'contributors_url': 'https://api.github.com/repos/joelgrus/collaborative-regression/contributors', 'subscribers_url': 'https://api.github.com/repos/joelgrus/collaborative-regression/subscribers', 'subscription_url': 'https://api.github.com/repos/joelgrus/collaborative-regression/subscription', 'commits_url': 'https://api.github.com/repos/joelgrus/collaborative-regression/commits{/sha}', 'git_commits_url': 'https://api.github.com/repos/joelgrus/collaborative-regression/git/commits{/sha}', 'comments_url': 'https://api.github.com/repos/joelgrus/collaborative-regression/comments{/number}', 'issue_comment_url': 'https://api.github.com/repos/joelgrus/collaborative-regression/issues/comments{/number}', 'contents_url': 'https://api.github.com/repos/joelgrus/collaborative-regression/contents/{+path}', 'compare_url': 'https://api.github.com/repos/joelgrus/collaborative-regression/compare/{base}...{head}', 'merges_url': 'https://api.github.com/repos/joelgrus/collaborative-regression/merges', 'archive_url': 'https://api.github.com/repos/joelgrus/collaborative-regression/{archive_format}{/ref}', 'downloads_url': 'https://api.github.com/repos/joelgrus/collaborative-regression/downloads', 'issues_url': 'https://api.github.com/repos/joelgrus/collaborative-regression/issues{/number}', 'pulls_url': 'https://api.github.com/repos/joelgrus/collaborative-regression/pulls{/number}', 'milestones_url': 'https://api.github.com/repos/joelgrus/collaborative-regression/milestones{/number}', 'notifications_url': 'https://api.github.com/repos/joelgrus/collaborative-regression/notifications{?since,all,participating}', 'labels_url': 'https://api.github.com/repos/joelgrus/collaborative-regression/labels{/name}', 'releases_url': 'https://api.github.com/repos/joelgrus/collaborative-regression/releases{/id}', 'deployments_url': 'https://api.github.com/repos/joelgrus/collaborative-regression/deployments', 'created_at': '2020-09-26T14:19:22Z', 'updated_at': '2022-05-02T13:58:32Z', 'pushed_at': '2020-11-28T18:53:09Z', 'git_url': 'git://github.com/joelgrus/collaborative-regression.git', 'ssh_url': 'git@github.com:joelgrus/collaborative-regression.git', 'clone_url': 'https://github.com/joelgrus/collaborative-regression.git', 'svn_url': 'https://github.com/joelgrus/collaborative-regression', 'homepage': None, 'size': 4, 'stargazers_count': 1, 'watchers_count': 1, 'language': 'Python', 'has_issues': True, 'has_projects': True, 'has_downloads': True, 'has_wiki': True, 'has_pages': False, 'has_discussions': False, 'forks_count': 2, 'mirror_url': None, 'archived': False, 'disabled': False, 'open_issues_count': 0, 'license': {'key': 'mit', 'name': 'MIT License', 'spdx_id': 'MIT', 'url': 'https://api.github.com/licenses/mit', 'node_id': 'MDc6TGljZW5zZTEz'}, 'allow_forking': True, 'is_template': False, 'web_commit_signoff_required': False, 'topics': [], 'visibility': 'public', 'forks': 2, 'open_issues': 0, 'watchers': 1, 'default_branch': 'master'}, {'id': 12270831, 'node_id': 'MDEwOlJlcG9zaXRvcnkxMjI3MDgzMQ==', 'name': 'constructive-mathematics-clojure', 'full_name': 'joelgrus/constructive-mathematics-clojure', 'private': False, 'owner': {'login': 'joelgrus', 'id': 1308313, 'node_id': 'MDQ6VXNlcjEzMDgzMTM=', 'avatar_url': 'https://avatars.githubusercontent.com/u/1308313?v=4', 'gravatar_id': '', 'url': 'https://api.github.com/users/joelgrus', 'html_url': 'https://github.com/joelgrus', 'followers_url': 'https://api.github.com/users/joelgrus/followers', 'following_url': 'https://api.github.com/users/joelgrus/following{/other_user}', 'gists_url': 'https://api.github.com/users/joelgrus/gists{/gist_id}', 'starred_url': 'https://api.github.com/users/joelgrus/starred{/owner}{/repo}', 'subscriptions_url': 'https://api.github.com/users/joelgrus/subscriptions', 'organizations_url': 'https://api.github.com/users/joelgrus/orgs', 'repos_url': 'https://api.github.com/users/joelgrus/repos', 'events_url': 'https://api.github.com/users/joelgrus/events{/privacy}', 'received_events_url': 'https://api.github.com/users/joelgrus/received_events', 'type': 'User', 'site_admin': False}, 'html_url': 'https://github.com/joelgrus/constructive-mathematics-clojure', 'description': 'like \"Constructive Mathematics in F#\", except in Clojure', 'fork': False, 'url': 'https://api.github.com/repos/joelgrus/constructive-mathematics-clojure', 'forks_url': 'https://api.github.com/repos/joelgrus/constructive-mathematics-clojure/forks', 'keys_url': 'https://api.github.com/repos/joelgrus/constructive-mathematics-clojure/keys{/key_id}', 'collaborators_url': 'https://api.github.com/repos/joelgrus/constructive-mathematics-clojure/collaborators{/collaborator}', 'teams_url': 'https://api.github.com/repos/joelgrus/constructive-mathematics-clojure/teams', 'hooks_url': 'https://api.github.com/repos/joelgrus/constructive-mathematics-clojure/hooks', 'issue_events_url': 'https://api.github.com/repos/joelgrus/constructive-mathematics-clojure/issues/events{/number}', 'events_url': 'https://api.github.com/repos/joelgrus/constructive-mathematics-clojure/events', 'assignees_url': 'https://api.github.com/repos/joelgrus/constructive-mathematics-clojure/assignees{/user}', 'branches_url': 'https://api.github.com/repos/joelgrus/constructive-mathematics-clojure/branches{/branch}', 'tags_url': 'https://api.github.com/repos/joelgrus/constructive-mathematics-clojure/tags', 'blobs_url': 'https://api.github.com/repos/joelgrus/constructive-mathematics-clojure/git/blobs{/sha}', 'git_tags_url': 'https://api.github.com/repos/joelgrus/constructive-mathematics-clojure/git/tags{/sha}', 'git_refs_url': 'https://api.github.com/repos/joelgrus/constructive-mathematics-clojure/git/refs{/sha}', 'trees_url': 'https://api.github.com/repos/joelgrus/constructive-mathematics-clojure/git/trees{/sha}', 'statuses_url': 'https://api.github.com/repos/joelgrus/constructive-mathematics-clojure/statuses/{sha}', 'languages_url': 'https://api.github.com/repos/joelgrus/constructive-mathematics-clojure/languages', 'stargazers_url': 'https://api.github.com/repos/joelgrus/constructive-mathematics-clojure/stargazers', 'contributors_url': 'https://api.github.com/repos/joelgrus/constructive-mathematics-clojure/contributors', 'subscribers_url': 'https://api.github.com/repos/joelgrus/constructive-mathematics-clojure/subscribers', 'subscription_url': 'https://api.github.com/repos/joelgrus/constructive-mathematics-clojure/subscription', 'commits_url': 'https://api.github.com/repos/joelgrus/constructive-mathematics-clojure/commits{/sha}', 'git_commits_url': 'https://api.github.com/repos/joelgrus/constructive-mathematics-clojure/git/commits{/sha}', 'comments_url': 'https://api.github.com/repos/joelgrus/constructive-mathematics-clojure/comments{/number}', 'issue_comment_url': 'https://api.github.com/repos/joelgrus/constructive-mathematics-clojure/issues/comments{/number}', 'contents_url': 'https://api.github.com/repos/joelgrus/constructive-mathematics-clojure/contents/{+path}', 'compare_url': 'https://api.github.com/repos/joelgrus/constructive-mathematics-clojure/compare/{base}...{head}', 'merges_url': 'https://api.github.com/repos/joelgrus/constructive-mathematics-clojure/merges', 'archive_url': 'https://api.github.com/repos/joelgrus/constructive-mathematics-clojure/{archive_format}{/ref}', 'downloads_url': 'https://api.github.com/repos/joelgrus/constructive-mathematics-clojure/downloads', 'issues_url': 'https://api.github.com/repos/joelgrus/constructive-mathematics-clojure/issues{/number}', 'pulls_url': 'https://api.github.com/repos/joelgrus/constructive-mathematics-clojure/pulls{/number}', 'milestones_url': 'https://api.github.com/repos/joelgrus/constructive-mathematics-clojure/milestones{/number}', 'notifications_url': 'https://api.github.com/repos/joelgrus/constructive-mathematics-clojure/notifications{?since,all,participating}', 'labels_url': 'https://api.github.com/repos/joelgrus/constructive-mathematics-clojure/labels{/name}', 'releases_url': 'https://api.github.com/repos/joelgrus/constructive-mathematics-clojure/releases{/id}', 'deployments_url': 'https://api.github.com/repos/joelgrus/constructive-mathematics-clojure/deployments', 'created_at': '2013-08-21T13:26:05Z', 'updated_at': '2022-05-02T14:00:13Z', 'pushed_at': '2013-08-26T13:32:07Z', 'git_url': 'git://github.com/joelgrus/constructive-mathematics-clojure.git', 'ssh_url': 'git@github.com:joelgrus/constructive-mathematics-clojure.git', 'clone_url': 'https://github.com/joelgrus/constructive-mathematics-clojure.git', 'svn_url': 'https://github.com/joelgrus/constructive-mathematics-clojure', 'homepage': None, 'size': 148, 'stargazers_count': 3, 'watchers_count': 3, 'language': 'Clojure', 'has_issues': True, 'has_projects': True, 'has_downloads': True, 'has_wiki': True, 'has_pages': False, 'has_discussions': False, 'forks_count': 3, 'mirror_url': None, 'archived': False, 'disabled': False, 'open_issues_count': 0, 'license': None, 'allow_forking': True, 'is_template': False, 'web_commit_signoff_required': False, 'topics': [], 'visibility': 'public', 'forks': 3, 'open_issues': 0, 'watchers': 3, 'default_branch': 'master'}, {'id': 12190589, 'node_id': 'MDEwOlJlcG9zaXRvcnkxMjE5MDU4OQ==', 'name': 'constructive-mathematics-fsharp', 'full_name': 'joelgrus/constructive-mathematics-fsharp', 'private': False, 'owner': {'login': 'joelgrus', 'id': 1308313, 'node_id': 'MDQ6VXNlcjEzMDgzMTM=', 'avatar_url': 'https://avatars.githubusercontent.com/u/1308313?v=4', 'gravatar_id': '', 'url': 'https://api.github.com/users/joelgrus', 'html_url': 'https://github.com/joelgrus', 'followers_url': 'https://api.github.com/users/joelgrus/followers', 'following_url': 'https://api.github.com/users/joelgrus/following{/other_user}', 'gists_url': 'https://api.github.com/users/joelgrus/gists{/gist_id}', 'starred_url': 'https://api.github.com/users/joelgrus/starred{/owner}{/repo}', 'subscriptions_url': 'https://api.github.com/users/joelgrus/subscriptions', 'organizations_url': 'https://api.github.com/users/joelgrus/orgs', 'repos_url': 'https://api.github.com/users/joelgrus/repos', 'events_url': 'https://api.github.com/users/joelgrus/events{/privacy}', 'received_events_url': 'https://api.github.com/users/joelgrus/received_events', 'type': 'User', 'site_admin': False}, 'html_url': 'https://github.com/joelgrus/constructive-mathematics-fsharp', 'description': 'constructive mathematics in F#', 'fork': False, 'url': 'https://api.github.com/repos/joelgrus/constructive-mathematics-fsharp', 'forks_url': 'https://api.github.com/repos/joelgrus/constructive-mathematics-fsharp/forks', 'keys_url': 'https://api.github.com/repos/joelgrus/constructive-mathematics-fsharp/keys{/key_id}', 'collaborators_url': 'https://api.github.com/repos/joelgrus/constructive-mathematics-fsharp/collaborators{/collaborator}', 'teams_url': 'https://api.github.com/repos/joelgrus/constructive-mathematics-fsharp/teams', 'hooks_url': 'https://api.github.com/repos/joelgrus/constructive-mathematics-fsharp/hooks', 'issue_events_url': 'https://api.github.com/repos/joelgrus/constructive-mathematics-fsharp/issues/events{/number}', 'events_url': 'https://api.github.com/repos/joelgrus/constructive-mathematics-fsharp/events', 'assignees_url': 'https://api.github.com/repos/joelgrus/constructive-mathematics-fsharp/assignees{/user}', 'branches_url': 'https://api.github.com/repos/joelgrus/constructive-mathematics-fsharp/branches{/branch}', 'tags_url': 'https://api.github.com/repos/joelgrus/constructive-mathematics-fsharp/tags', 'blobs_url': 'https://api.github.com/repos/joelgrus/constructive-mathematics-fsharp/git/blobs{/sha}', 'git_tags_url': 'https://api.github.com/repos/joelgrus/constructive-mathematics-fsharp/git/tags{/sha}', 'git_refs_url': 'https://api.github.com/repos/joelgrus/constructive-mathematics-fsharp/git/refs{/sha}', 'trees_url': 'https://api.github.com/repos/joelgrus/constructive-mathematics-fsharp/git/trees{/sha}', 'statuses_url': 'https://api.github.com/repos/joelgrus/constructive-mathematics-fsharp/statuses/{sha}', 'languages_url': 'https://api.github.com/repos/joelgrus/constructive-mathematics-fsharp/languages', 'stargazers_url': 'https://api.github.com/repos/joelgrus/constructive-mathematics-fsharp/stargazers', 'contributors_url': 'https://api.github.com/repos/joelgrus/constructive-mathematics-fsharp/contributors', 'subscribers_url': 'https://api.github.com/repos/joelgrus/constructive-mathematics-fsharp/subscribers', 'subscription_url': 'https://api.github.com/repos/joelgrus/constructive-mathematics-fsharp/subscription', 'commits_url': 'https://api.github.com/repos/joelgrus/constructive-mathematics-fsharp/commits{/sha}', 'git_commits_url': 'https://api.github.com/repos/joelgrus/constructive-mathematics-fsharp/git/commits{/sha}', 'comments_url': 'https://api.github.com/repos/joelgrus/constructive-mathematics-fsharp/comments{/number}', 'issue_comment_url': 'https://api.github.com/repos/joelgrus/constructive-mathematics-fsharp/issues/comments{/number}', 'contents_url': 'https://api.github.com/repos/joelgrus/constructive-mathematics-fsharp/contents/{+path}', 'compare_url': 'https://api.github.com/repos/joelgrus/constructive-mathematics-fsharp/compare/{base}...{head}', 'merges_url': 'https://api.github.com/repos/joelgrus/constructive-mathematics-fsharp/merges', 'archive_url': 'https://api.github.com/repos/joelgrus/constructive-mathematics-fsharp/{archive_format}{/ref}', 'downloads_url': 'https://api.github.com/repos/joelgrus/constructive-mathematics-fsharp/downloads', 'issues_url': 'https://api.github.com/repos/joelgrus/constructive-mathematics-fsharp/issues{/number}', 'pulls_url': 'https://api.github.com/repos/joelgrus/constructive-mathematics-fsharp/pulls{/number}', 'milestones_url': 'https://api.github.com/repos/joelgrus/constructive-mathematics-fsharp/milestones{/number}', 'notifications_url': 'https://api.github.com/repos/joelgrus/constructive-mathematics-fsharp/notifications{?since,all,participating}', 'labels_url': 'https://api.github.com/repos/joelgrus/constructive-mathematics-fsharp/labels{/name}', 'releases_url': 'https://api.github.com/repos/joelgrus/constructive-mathematics-fsharp/releases{/id}', 'deployments_url': 'https://api.github.com/repos/joelgrus/constructive-mathematics-fsharp/deployments', 'created_at': '2013-08-18T05:03:41Z', 'updated_at': '2022-05-02T14:00:14Z', 'pushed_at': '2013-08-26T13:31:37Z', 'git_url': 'git://github.com/joelgrus/constructive-mathematics-fsharp.git', 'ssh_url': 'git@github.com:joelgrus/constructive-mathematics-fsharp.git', 'clone_url': 'https://github.com/joelgrus/constructive-mathematics-fsharp.git', 'svn_url': 'https://github.com/joelgrus/constructive-mathematics-fsharp', 'homepage': None, 'size': 392, 'stargazers_count': 1, 'watchers_count': 1, 'language': 'F#', 'has_issues': True, 'has_projects': True, 'has_downloads': True, 'has_wiki': True, 'has_pages': False, 'has_discussions': False, 'forks_count': 0, 'mirror_url': None, 'archived': False, 'disabled': False, 'open_issues_count': 0, 'license': None, 'allow_forking': True, 'is_template': False, 'web_commit_signoff_required': False, 'topics': [], 'visibility': 'public', 'forks': 0, 'open_issues': 0, 'watchers': 1, 'default_branch': 'master'}, {'id': 39925814, 'node_id': 'MDEwOlJlcG9zaXRvcnkzOTkyNTgxNA==', 'name': 'core', 'full_name': 'joelgrus/core', 'private': False, 'owner': {'login': 'joelgrus', 'id': 1308313, 'node_id': 'MDQ6VXNlcjEzMDgzMTM=', 'avatar_url': 'https://avatars.githubusercontent.com/u/1308313?v=4', 'gravatar_id': '', 'url': 'https://api.github.com/users/joelgrus', 'html_url': 'https://github.com/joelgrus', 'followers_url': 'https://api.github.com/users/joelgrus/followers', 'following_url': 'https://api.github.com/users/joelgrus/following{/other_user}', 'gists_url': 'https://api.github.com/users/joelgrus/gists{/gist_id}', 'starred_url': 'https://api.github.com/users/joelgrus/starred{/owner}{/repo}', 'subscriptions_url': 'https://api.github.com/users/joelgrus/subscriptions', 'organizations_url': 'https://api.github.com/users/joelgrus/orgs', 'repos_url': 'https://api.github.com/users/joelgrus/repos', 'events_url': 'https://api.github.com/users/joelgrus/events{/privacy}', 'received_events_url': 'https://api.github.com/users/joelgrus/received_events', 'type': 'User', 'site_admin': False}, 'html_url': 'https://github.com/joelgrus/core', 'description': \"Elm's core libraries\", 'fork': True, 'url': 'https://api.github.com/repos/joelgrus/core', 'forks_url': 'https://api.github.com/repos/joelgrus/core/forks', 'keys_url': 'https://api.github.com/repos/joelgrus/core/keys{/key_id}', 'collaborators_url': 'https://api.github.com/repos/joelgrus/core/collaborators{/collaborator}', 'teams_url': 'https://api.github.com/repos/joelgrus/core/teams', 'hooks_url': 'https://api.github.com/repos/joelgrus/core/hooks', 'issue_events_url': 'https://api.github.com/repos/joelgrus/core/issues/events{/number}', 'events_url': 'https://api.github.com/repos/joelgrus/core/events', 'assignees_url': 'https://api.github.com/repos/joelgrus/core/assignees{/user}', 'branches_url': 'https://api.github.com/repos/joelgrus/core/branches{/branch}', 'tags_url': 'https://api.github.com/repos/joelgrus/core/tags', 'blobs_url': 'https://api.github.com/repos/joelgrus/core/git/blobs{/sha}', 'git_tags_url': 'https://api.github.com/repos/joelgrus/core/git/tags{/sha}', 'git_refs_url': 'https://api.github.com/repos/joelgrus/core/git/refs{/sha}', 'trees_url': 'https://api.github.com/repos/joelgrus/core/git/trees{/sha}', 'statuses_url': 'https://api.github.com/repos/joelgrus/core/statuses/{sha}', 'languages_url': 'https://api.github.com/repos/joelgrus/core/languages', 'stargazers_url': 'https://api.github.com/repos/joelgrus/core/stargazers', 'contributors_url': 'https://api.github.com/repos/joelgrus/core/contributors', 'subscribers_url': 'https://api.github.com/repos/joelgrus/core/subscribers', 'subscription_url': 'https://api.github.com/repos/joelgrus/core/subscription', 'commits_url': 'https://api.github.com/repos/joelgrus/core/commits{/sha}', 'git_commits_url': 'https://api.github.com/repos/joelgrus/core/git/commits{/sha}', 'comments_url': 'https://api.github.com/repos/joelgrus/core/comments{/number}', 'issue_comment_url': 'https://api.github.com/repos/joelgrus/core/issues/comments{/number}', 'contents_url': 'https://api.github.com/repos/joelgrus/core/contents/{+path}', 'compare_url': 'https://api.github.com/repos/joelgrus/core/compare/{base}...{head}', 'merges_url': 'https://api.github.com/repos/joelgrus/core/merges', 'archive_url': 'https://api.github.com/repos/joelgrus/core/{archive_format}{/ref}', 'downloads_url': 'https://api.github.com/repos/joelgrus/core/downloads', 'issues_url': 'https://api.github.com/repos/joelgrus/core/issues{/number}', 'pulls_url': 'https://api.github.com/repos/joelgrus/core/pulls{/number}', 'milestones_url': 'https://api.github.com/repos/joelgrus/core/milestones{/number}', 'notifications_url': 'https://api.github.com/repos/joelgrus/core/notifications{?since,all,participating}', 'labels_url': 'https://api.github.com/repos/joelgrus/core/labels{/name}', 'releases_url': 'https://api.github.com/repos/joelgrus/core/releases{/id}', 'deployments_url': 'https://api.github.com/repos/joelgrus/core/deployments', 'created_at': '2015-07-30T01:54:55Z', 'updated_at': '2022-05-02T14:00:02Z', 'pushed_at': '2015-07-30T02:02:16Z', 'git_url': 'git://github.com/joelgrus/core.git', 'ssh_url': 'git@github.com:joelgrus/core.git', 'clone_url': 'https://github.com/joelgrus/core.git', 'svn_url': 'https://github.com/joelgrus/core', 'homepage': None, 'size': 947, 'stargazers_count': 1, 'watchers_count': 1, 'language': 'Elm', 'has_issues': False, 'has_projects': True, 'has_downloads': True, 'has_wiki': True, 'has_pages': False, 'has_discussions': False, 'forks_count': 0, 'mirror_url': None, 'archived': False, 'disabled': False, 'open_issues_count': 0, 'license': {'key': 'bsd-3-clause', 'name': 'BSD 3-Clause \"New\" or \"Revised\" License', 'spdx_id': 'BSD-3-Clause', 'url': 'https://api.github.com/licenses/bsd-3-clause', 'node_id': 'MDc6TGljZW5zZTU='}, 'allow_forking': True, 'is_template': False, 'web_commit_signoff_required': False, 'topics': [], 'visibility': 'public', 'forks': 0, 'open_issues': 0, 'watchers': 1, 'default_branch': 'master'}, {'id': 149900501, 'node_id': 'MDEwOlJlcG9zaXRvcnkxNDk5MDA1MDE=', 'name': 'data', 'full_name': 'joelgrus/data', 'private': False, 'owner': {'login': 'joelgrus', 'id': 1308313, 'node_id': 'MDQ6VXNlcjEzMDgzMTM=', 'avatar_url': 'https://avatars.githubusercontent.com/u/1308313?v=4', 'gravatar_id': '', 'url': 'https://api.github.com/users/joelgrus', 'html_url': 'https://github.com/joelgrus', 'followers_url': 'https://api.github.com/users/joelgrus/followers', 'following_url': 'https://api.github.com/users/joelgrus/following{/other_user}', 'gists_url': 'https://api.github.com/users/joelgrus/gists{/gist_id}', 'starred_url': 'https://api.github.com/users/joelgrus/starred{/owner}{/repo}', 'subscriptions_url': 'https://api.github.com/users/joelgrus/subscriptions', 'organizations_url': 'https://api.github.com/users/joelgrus/orgs', 'repos_url': 'https://api.github.com/users/joelgrus/repos', 'events_url': 'https://api.github.com/users/joelgrus/events{/privacy}', 'received_events_url': 'https://api.github.com/users/joelgrus/received_events', 'type': 'User', 'site_admin': False}, 'html_url': 'https://github.com/joelgrus/data', 'description': 'datasets for data science from scratch', 'fork': False, 'url': 'https://api.github.com/repos/joelgrus/data', 'forks_url': 'https://api.github.com/repos/joelgrus/data/forks', 'keys_url': 'https://api.github.com/repos/joelgrus/data/keys{/key_id}', 'collaborators_url': 'https://api.github.com/repos/joelgrus/data/collaborators{/collaborator}', 'teams_url': 'https://api.github.com/repos/joelgrus/data/teams', 'hooks_url': 'https://api.github.com/repos/joelgrus/data/hooks', 'issue_events_url': 'https://api.github.com/repos/joelgrus/data/issues/events{/number}', 'events_url': 'https://api.github.com/repos/joelgrus/data/events', 'assignees_url': 'https://api.github.com/repos/joelgrus/data/assignees{/user}', 'branches_url': 'https://api.github.com/repos/joelgrus/data/branches{/branch}', 'tags_url': 'https://api.github.com/repos/joelgrus/data/tags', 'blobs_url': 'https://api.github.com/repos/joelgrus/data/git/blobs{/sha}', 'git_tags_url': 'https://api.github.com/repos/joelgrus/data/git/tags{/sha}', 'git_refs_url': 'https://api.github.com/repos/joelgrus/data/git/refs{/sha}', 'trees_url': 'https://api.github.com/repos/joelgrus/data/git/trees{/sha}', 'statuses_url': 'https://api.github.com/repos/joelgrus/data/statuses/{sha}', 'languages_url': 'https://api.github.com/repos/joelgrus/data/languages', 'stargazers_url': 'https://api.github.com/repos/joelgrus/data/stargazers', 'contributors_url': 'https://api.github.com/repos/joelgrus/data/contributors', 'subscribers_url': 'https://api.github.com/repos/joelgrus/data/subscribers', 'subscription_url': 'https://api.github.com/repos/joelgrus/data/subscription', 'commits_url': 'https://api.github.com/repos/joelgrus/data/commits{/sha}', 'git_commits_url': 'https://api.github.com/repos/joelgrus/data/git/commits{/sha}', 'comments_url': 'https://api.github.com/repos/joelgrus/data/comments{/number}', 'issue_comment_url': 'https://api.github.com/repos/joelgrus/data/issues/comments{/number}', 'contents_url': 'https://api.github.com/repos/joelgrus/data/contents/{+path}', 'compare_url': 'https://api.github.com/repos/joelgrus/data/compare/{base}...{head}', 'merges_url': 'https://api.github.com/repos/joelgrus/data/merges', 'archive_url': 'https://api.github.com/repos/joelgrus/data/{archive_format}{/ref}', 'downloads_url': 'https://api.github.com/repos/joelgrus/data/downloads', 'issues_url': 'https://api.github.com/repos/joelgrus/data/issues{/number}', 'pulls_url': 'https://api.github.com/repos/joelgrus/data/pulls{/number}', 'milestones_url': 'https://api.github.com/repos/joelgrus/data/milestones{/number}', 'notifications_url': 'https://api.github.com/repos/joelgrus/data/notifications{?since,all,participating}', 'labels_url': 'https://api.github.com/repos/joelgrus/data/labels{/name}', 'releases_url': 'https://api.github.com/repos/joelgrus/data/releases{/id}', 'deployments_url': 'https://api.github.com/repos/joelgrus/data/deployments', 'created_at': '2018-09-22T17:30:59Z', 'updated_at': '2022-05-02T13:58:53Z', 'pushed_at': '2018-09-22T17:32:03Z', 'git_url': 'git://github.com/joelgrus/data.git', 'ssh_url': 'git@github.com:joelgrus/data.git', 'clone_url': 'https://github.com/joelgrus/data.git', 'svn_url': 'https://github.com/joelgrus/data', 'homepage': None, 'size': 1, 'stargazers_count': 6, 'watchers_count': 6, 'language': 'HTML', 'has_issues': True, 'has_projects': True, 'has_downloads': True, 'has_wiki': True, 'has_pages': False, 'has_discussions': False, 'forks_count': 4, 'mirror_url': None, 'archived': False, 'disabled': False, 'open_issues_count': 0, 'license': None, 'allow_forking': True, 'is_template': False, 'web_commit_signoff_required': False, 'topics': [], 'visibility': 'public', 'forks': 4, 'open_issues': 0, 'watchers': 6, 'default_branch': 'master'}, {'id': 26382146, 'node_id': 'MDEwOlJlcG9zaXRvcnkyNjM4MjE0Ng==', 'name': 'data-science-from-scratch', 'full_name': 'joelgrus/data-science-from-scratch', 'private': False, 'owner': {'login': 'joelgrus', 'id': 1308313, 'node_id': 'MDQ6VXNlcjEzMDgzMTM=', 'avatar_url': 'https://avatars.githubusercontent.com/u/1308313?v=4', 'gravatar_id': '', 'url': 'https://api.github.com/users/joelgrus', 'html_url': 'https://github.com/joelgrus', 'followers_url': 'https://api.github.com/users/joelgrus/followers', 'following_url': 'https://api.github.com/users/joelgrus/following{/other_user}', 'gists_url': 'https://api.github.com/users/joelgrus/gists{/gist_id}', 'starred_url': 'https://api.github.com/users/joelgrus/starred{/owner}{/repo}', 'subscriptions_url': 'https://api.github.com/users/joelgrus/subscriptions', 'organizations_url': 'https://api.github.com/users/joelgrus/orgs', 'repos_url': 'https://api.github.com/users/joelgrus/repos', 'events_url': 'https://api.github.com/users/joelgrus/events{/privacy}', 'received_events_url': 'https://api.github.com/users/joelgrus/received_events', 'type': 'User', 'site_admin': False}, 'html_url': 'https://github.com/joelgrus/data-science-from-scratch', 'description': 'code for Data Science From Scratch book', 'fork': False, 'url': 'https://api.github.com/repos/joelgrus/data-science-from-scratch', 'forks_url': 'https://api.github.com/repos/joelgrus/data-science-from-scratch/forks', 'keys_url': 'https://api.github.com/repos/joelgrus/data-science-from-scratch/keys{/key_id}', 'collaborators_url': 'https://api.github.com/repos/joelgrus/data-science-from-scratch/collaborators{/collaborator}', 'teams_url': 'https://api.github.com/repos/joelgrus/data-science-from-scratch/teams', 'hooks_url': 'https://api.github.com/repos/joelgrus/data-science-from-scratch/hooks', 'issue_events_url': 'https://api.github.com/repos/joelgrus/data-science-from-scratch/issues/events{/number}', 'events_url': 'https://api.github.com/repos/joelgrus/data-science-from-scratch/events', 'assignees_url': 'https://api.github.com/repos/joelgrus/data-science-from-scratch/assignees{/user}', 'branches_url': 'https://api.github.com/repos/joelgrus/data-science-from-scratch/branches{/branch}', 'tags_url': 'https://api.github.com/repos/joelgrus/data-science-from-scratch/tags', 'blobs_url': 'https://api.github.com/repos/joelgrus/data-science-from-scratch/git/blobs{/sha}', 'git_tags_url': 'https://api.github.com/repos/joelgrus/data-science-from-scratch/git/tags{/sha}', 'git_refs_url': 'https://api.github.com/repos/joelgrus/data-science-from-scratch/git/refs{/sha}', 'trees_url': 'https://api.github.com/repos/joelgrus/data-science-from-scratch/git/trees{/sha}', 'statuses_url': 'https://api.github.com/repos/joelgrus/data-science-from-scratch/statuses/{sha}', 'languages_url': 'https://api.github.com/repos/joelgrus/data-science-from-scratch/languages', 'stargazers_url': 'https://api.github.com/repos/joelgrus/data-science-from-scratch/stargazers', 'contributors_url': 'https://api.github.com/repos/joelgrus/data-science-from-scratch/contributors', 'subscribers_url': 'https://api.github.com/repos/joelgrus/data-science-from-scratch/subscribers', 'subscription_url': 'https://api.github.com/repos/joelgrus/data-science-from-scratch/subscription', 'commits_url': 'https://api.github.com/repos/joelgrus/data-science-from-scratch/commits{/sha}', 'git_commits_url': 'https://api.github.com/repos/joelgrus/data-science-from-scratch/git/commits{/sha}', 'comments_url': 'https://api.github.com/repos/joelgrus/data-science-from-scratch/comments{/number}', 'issue_comment_url': 'https://api.github.com/repos/joelgrus/data-science-from-scratch/issues/comments{/number}', 'contents_url': 'https://api.github.com/repos/joelgrus/data-science-from-scratch/contents/{+path}', 'compare_url': 'https://api.github.com/repos/joelgrus/data-science-from-scratch/compare/{base}...{head}', 'merges_url': 'https://api.github.com/repos/joelgrus/data-science-from-scratch/merges', 'archive_url': 'https://api.github.com/repos/joelgrus/data-science-from-scratch/{archive_format}{/ref}', 'downloads_url': 'https://api.github.com/repos/joelgrus/data-science-from-scratch/downloads', 'issues_url': 'https://api.github.com/repos/joelgrus/data-science-from-scratch/issues{/number}', 'pulls_url': 'https://api.github.com/repos/joelgrus/data-science-from-scratch/pulls{/number}', 'milestones_url': 'https://api.github.com/repos/joelgrus/data-science-from-scratch/milestones{/number}', 'notifications_url': 'https://api.github.com/repos/joelgrus/data-science-from-scratch/notifications{?since,all,participating}', 'labels_url': 'https://api.github.com/repos/joelgrus/data-science-from-scratch/labels{/name}', 'releases_url': 'https://api.github.com/repos/joelgrus/data-science-from-scratch/releases{/id}', 'deployments_url': 'https://api.github.com/repos/joelgrus/data-science-from-scratch/deployments', 'created_at': '2014-11-09T02:31:24Z', 'updated_at': '2024-02-25T18:24:01Z', 'pushed_at': '2023-11-09T21:18:24Z', 'git_url': 'git://github.com/joelgrus/data-science-from-scratch.git', 'ssh_url': 'git@github.com:joelgrus/data-science-from-scratch.git', 'clone_url': 'https://github.com/joelgrus/data-science-from-scratch.git', 'svn_url': 'https://github.com/joelgrus/data-science-from-scratch', 'homepage': None, 'size': 769, 'stargazers_count': 8214, 'watchers_count': 8214, 'language': 'Python', 'has_issues': True, 'has_projects': True, 'has_downloads': True, 'has_wiki': True, 'has_pages': False, 'has_discussions': False, 'forks_count': 4355, 'mirror_url': None, 'archived': False, 'disabled': False, 'open_issues_count': 81, 'license': {'key': 'mit', 'name': 'MIT License', 'spdx_id': 'MIT', 'url': 'https://api.github.com/licenses/mit', 'node_id': 'MDc6TGljZW5zZTEz'}, 'allow_forking': True, 'is_template': False, 'web_commit_signoff_required': False, 'topics': [], 'visibility': 'public', 'forks': 4355, 'open_issues': 81, 'watchers': 8214, 'default_branch': 'master'}, {'id': 14272226, 'node_id': 'MDEwOlJlcG9zaXRvcnkxNDI3MjIyNg==', 'name': 'did-you-know', 'full_name': 'joelgrus/did-you-know', 'private': False, 'owner': {'login': 'joelgrus', 'id': 1308313, 'node_id': 'MDQ6VXNlcjEzMDgzMTM=', 'avatar_url': 'https://avatars.githubusercontent.com/u/1308313?v=4', 'gravatar_id': '', 'url': 'https://api.github.com/users/joelgrus', 'html_url': 'https://github.com/joelgrus', 'followers_url': 'https://api.github.com/users/joelgrus/followers', 'following_url': 'https://api.github.com/users/joelgrus/following{/other_user}', 'gists_url': 'https://api.github.com/users/joelgrus/gists{/gist_id}', 'starred_url': 'https://api.github.com/users/joelgrus/starred{/owner}{/repo}', 'subscriptions_url': 'https://api.github.com/users/joelgrus/subscriptions', 'organizations_url': 'https://api.github.com/users/joelgrus/orgs', 'repos_url': 'https://api.github.com/users/joelgrus/repos', 'events_url': 'https://api.github.com/users/joelgrus/events{/privacy}', 'received_events_url': 'https://api.github.com/users/joelgrus/received_events', 'type': 'User', 'site_admin': False}, 'html_url': 'https://github.com/joelgrus/did-you-know', 'description': 'Add a random \"did you know\" to a website', 'fork': False, 'url': 'https://api.github.com/repos/joelgrus/did-you-know', 'forks_url': 'https://api.github.com/repos/joelgrus/did-you-know/forks', 'keys_url': 'https://api.github.com/repos/joelgrus/did-you-know/keys{/key_id}', 'collaborators_url': 'https://api.github.com/repos/joelgrus/did-you-know/collaborators{/collaborator}', 'teams_url': 'https://api.github.com/repos/joelgrus/did-you-know/teams', 'hooks_url': 'https://api.github.com/repos/joelgrus/did-you-know/hooks', 'issue_events_url': 'https://api.github.com/repos/joelgrus/did-you-know/issues/events{/number}', 'events_url': 'https://api.github.com/repos/joelgrus/did-you-know/events', 'assignees_url': 'https://api.github.com/repos/joelgrus/did-you-know/assignees{/user}', 'branches_url': 'https://api.github.com/repos/joelgrus/did-you-know/branches{/branch}', 'tags_url': 'https://api.github.com/repos/joelgrus/did-you-know/tags', 'blobs_url': 'https://api.github.com/repos/joelgrus/did-you-know/git/blobs{/sha}', 'git_tags_url': 'https://api.github.com/repos/joelgrus/did-you-know/git/tags{/sha}', 'git_refs_url': 'https://api.github.com/repos/joelgrus/did-you-know/git/refs{/sha}', 'trees_url': 'https://api.github.com/repos/joelgrus/did-you-know/git/trees{/sha}', 'statuses_url': 'https://api.github.com/repos/joelgrus/did-you-know/statuses/{sha}', 'languages_url': 'https://api.github.com/repos/joelgrus/did-you-know/languages', 'stargazers_url': 'https://api.github.com/repos/joelgrus/did-you-know/stargazers', 'contributors_url': 'https://api.github.com/repos/joelgrus/did-you-know/contributors', 'subscribers_url': 'https://api.github.com/repos/joelgrus/did-you-know/subscribers', 'subscription_url': 'https://api.github.com/repos/joelgrus/did-you-know/subscription', 'commits_url': 'https://api.github.com/repos/joelgrus/did-you-know/commits{/sha}', 'git_commits_url': 'https://api.github.com/repos/joelgrus/did-you-know/git/commits{/sha}', 'comments_url': 'https://api.github.com/repos/joelgrus/did-you-know/comments{/number}', 'issue_comment_url': 'https://api.github.com/repos/joelgrus/did-you-know/issues/comments{/number}', 'contents_url': 'https://api.github.com/repos/joelgrus/did-you-know/contents/{+path}', 'compare_url': 'https://api.github.com/repos/joelgrus/did-you-know/compare/{base}...{head}', 'merges_url': 'https://api.github.com/repos/joelgrus/did-you-know/merges', 'archive_url': 'https://api.github.com/repos/joelgrus/did-you-know/{archive_format}{/ref}', 'downloads_url': 'https://api.github.com/repos/joelgrus/did-you-know/downloads', 'issues_url': 'https://api.github.com/repos/joelgrus/did-you-know/issues{/number}', 'pulls_url': 'https://api.github.com/repos/joelgrus/did-you-know/pulls{/number}', 'milestones_url': 'https://api.github.com/repos/joelgrus/did-you-know/milestones{/number}', 'notifications_url': 'https://api.github.com/repos/joelgrus/did-you-know/notifications{?since,all,participating}', 'labels_url': 'https://api.github.com/repos/joelgrus/did-you-know/labels{/name}', 'releases_url': 'https://api.github.com/repos/joelgrus/did-you-know/releases{/id}', 'deployments_url': 'https://api.github.com/repos/joelgrus/did-you-know/deployments', 'created_at': '2013-11-10T06:52:56Z', 'updated_at': '2022-05-02T14:00:10Z', 'pushed_at': '2013-11-10T14:47:27Z', 'git_url': 'git://github.com/joelgrus/did-you-know.git', 'ssh_url': 'git@github.com:joelgrus/did-you-know.git', 'clone_url': 'https://github.com/joelgrus/did-you-know.git', 'svn_url': 'https://github.com/joelgrus/did-you-know', 'homepage': None, 'size': 112, 'stargazers_count': 2, 'watchers_count': 2, 'language': 'JavaScript', 'has_issues': True, 'has_projects': True, 'has_downloads': True, 'has_wiki': True, 'has_pages': False, 'has_discussions': False, 'forks_count': 0, 'mirror_url': None, 'archived': False, 'disabled': False, 'open_issues_count': 0, 'license': None, 'allow_forking': True, 'is_template': False, 'web_commit_signoff_required': False, 'topics': [], 'visibility': 'public', 'forks': 0, 'open_issues': 0, 'watchers': 2, 'default_branch': 'master'}]\n"
     ]
    }
   ],
   "source": [
    "import requests, json\n",
    "github_user = \"joelgrus\"\n",
    "endpoint = f\"https://api.github.com/users/{github_user}/repos\"\n",
    "repos = json.loads(requests.get(endpoint).text)   #converts str to dict\n",
    "print(type(repos))                                      #list of python dicts\n",
    "print(type(requests.get(endpoint).text))                #string\n",
    "\n",
    "print(repos)\n",
    "#however both looks same but type changed"
   ]
  },
  {
   "cell_type": "markdown",
   "id": "67f9aa16-d06a-482c-96cf-7f0e93d6aea2",
   "metadata": {},
   "source": [
    "- We can use this to figure out which months and days of the week I’m most likely to create a repository.\n",
    "\n",
    "- The only issue is that the dates in the response are strings: `'created_at': '2017-12-02T20:13:49Z'`\n",
    "### dateutil module\n",
    "- Python doesn’t come with a great date parser, so we’ll need to install one:\n",
    "\n",
    "`python -m pip install python-dateutil`\r\n",
    "- from which you’ll probably only ever need the dateutil.parser.parse function:"
   ]
  },
  {
   "cell_type": "code",
   "execution_count": 148,
   "id": "907d6679-a4d5-4024-951a-78aa4e1ee627",
   "metadata": {},
   "outputs": [
    {
     "name": "stdout",
     "output_type": "stream",
     "text": [
      "[datetime.datetime(2017, 12, 2, 20, 13, 49, tzinfo=tzutc()), datetime.datetime(2018, 11, 30, 22, 41, 16, tzinfo=tzutc()), datetime.datetime(2019, 12, 1, 2, 57, 18, tzinfo=tzutc()), datetime.datetime(2020, 11, 21, 16, 21, 49, tzinfo=tzutc()), datetime.datetime(2021, 11, 24, 13, 53, 23, tzinfo=tzutc()), datetime.datetime(2022, 11, 22, 2, 25, 22, tzinfo=tzutc()), datetime.datetime(2023, 12, 2, 3, 15, 48, tzinfo=tzutc()), datetime.datetime(2018, 2, 23, 15, 51, 4, tzinfo=tzutc()), datetime.datetime(2017, 12, 19, 0, 12, 40, tzinfo=tzutc()), datetime.datetime(2018, 1, 31, 23, 51, 16, tzinfo=tzutc()), datetime.datetime(2018, 12, 19, 19, 44, 45, tzinfo=tzutc()), datetime.datetime(2018, 9, 5, 2, 43, 52, tzinfo=tzutc()), datetime.datetime(2019, 2, 1, 20, 25, 46, tzinfo=tzutc()), datetime.datetime(2013, 7, 5, 2, 2, 28, tzinfo=tzutc()), datetime.datetime(2023, 3, 19, 20, 15, 39, tzinfo=tzutc()), datetime.datetime(2017, 5, 10, 17, 22, 45, tzinfo=tzutc()), datetime.datetime(2013, 11, 15, 5, 33, 22, tzinfo=tzutc()), datetime.datetime(2012, 9, 18, 4, 20, 23, tzinfo=tzutc()), datetime.datetime(2016, 7, 19, 17, 34, 31, tzinfo=tzutc()), datetime.datetime(2015, 11, 11, 14, 15, 36, tzinfo=tzutc()), datetime.datetime(2016, 5, 31, 14, 33, 6, tzinfo=tzutc()), datetime.datetime(2018, 9, 22, 15, 23, 50, tzinfo=tzutc()), datetime.datetime(2015, 6, 30, 0, 33, 3, tzinfo=tzutc()), datetime.datetime(2020, 9, 26, 14, 19, 22, tzinfo=tzutc()), datetime.datetime(2013, 8, 21, 13, 26, 5, tzinfo=tzutc()), datetime.datetime(2013, 8, 18, 5, 3, 41, tzinfo=tzutc()), datetime.datetime(2015, 7, 30, 1, 54, 55, tzinfo=tzutc()), datetime.datetime(2018, 9, 22, 17, 30, 59, tzinfo=tzutc()), datetime.datetime(2014, 11, 9, 2, 31, 24, tzinfo=tzutc()), datetime.datetime(2013, 11, 10, 6, 52, 56, tzinfo=tzutc())]\n",
      "Counter({11: 8, 12: 5, 9: 5, 7: 3, 2: 2, 5: 2, 8: 2, 1: 1, 3: 1, 6: 1})\n",
      "Counter({2: 7, 5: 6, 1: 6, 4: 5, 6: 5, 3: 1})\n"
     ]
    }
   ],
   "source": [
    "from collections import Counter\n",
    "from dateutil.parser import parse\n",
    "\n",
    "dates = [parse(repo['created_at']) for repo in repos]\n",
    "print(dates)\n",
    "\n",
    "month_counts = Counter(date.month for date in dates)\n",
    "print(month_counts)\n",
    "\n",
    "weekday_count = Counter(date.weekday() for date in dates)\n",
    "print(weekday_count)"
   ]
  },
  {
   "cell_type": "code",
   "execution_count": 150,
   "id": "bf41914b-69e7-4eb3-9aaa-beb9a7271bd0",
   "metadata": {},
   "outputs": [
    {
     "name": "stdout",
     "output_type": "stream",
     "text": [
      "[{'id': 726318877, 'node_id': 'R_kgDOK0q_HQ', 'name': 'advent2023', 'full_name': 'joelgrus/advent2023', 'private': False, 'owner': {'login': 'joelgrus', 'id': 1308313, 'node_id': 'MDQ6VXNlcjEzMDgzMTM=', 'avatar_url': 'https://avatars.githubusercontent.com/u/1308313?v=4', 'gravatar_id': '', 'url': 'https://api.github.com/users/joelgrus', 'html_url': 'https://github.com/joelgrus', 'followers_url': 'https://api.github.com/users/joelgrus/followers', 'following_url': 'https://api.github.com/users/joelgrus/following{/other_user}', 'gists_url': 'https://api.github.com/users/joelgrus/gists{/gist_id}', 'starred_url': 'https://api.github.com/users/joelgrus/starred{/owner}{/repo}', 'subscriptions_url': 'https://api.github.com/users/joelgrus/subscriptions', 'organizations_url': 'https://api.github.com/users/joelgrus/orgs', 'repos_url': 'https://api.github.com/users/joelgrus/repos', 'events_url': 'https://api.github.com/users/joelgrus/events{/privacy}', 'received_events_url': 'https://api.github.com/users/joelgrus/received_events', 'type': 'User', 'site_admin': False}, 'html_url': 'https://github.com/joelgrus/advent2023', 'description': 'advent of code 2023', 'fork': False, 'url': 'https://api.github.com/repos/joelgrus/advent2023', 'forks_url': 'https://api.github.com/repos/joelgrus/advent2023/forks', 'keys_url': 'https://api.github.com/repos/joelgrus/advent2023/keys{/key_id}', 'collaborators_url': 'https://api.github.com/repos/joelgrus/advent2023/collaborators{/collaborator}', 'teams_url': 'https://api.github.com/repos/joelgrus/advent2023/teams', 'hooks_url': 'https://api.github.com/repos/joelgrus/advent2023/hooks', 'issue_events_url': 'https://api.github.com/repos/joelgrus/advent2023/issues/events{/number}', 'events_url': 'https://api.github.com/repos/joelgrus/advent2023/events', 'assignees_url': 'https://api.github.com/repos/joelgrus/advent2023/assignees{/user}', 'branches_url': 'https://api.github.com/repos/joelgrus/advent2023/branches{/branch}', 'tags_url': 'https://api.github.com/repos/joelgrus/advent2023/tags', 'blobs_url': 'https://api.github.com/repos/joelgrus/advent2023/git/blobs{/sha}', 'git_tags_url': 'https://api.github.com/repos/joelgrus/advent2023/git/tags{/sha}', 'git_refs_url': 'https://api.github.com/repos/joelgrus/advent2023/git/refs{/sha}', 'trees_url': 'https://api.github.com/repos/joelgrus/advent2023/git/trees{/sha}', 'statuses_url': 'https://api.github.com/repos/joelgrus/advent2023/statuses/{sha}', 'languages_url': 'https://api.github.com/repos/joelgrus/advent2023/languages', 'stargazers_url': 'https://api.github.com/repos/joelgrus/advent2023/stargazers', 'contributors_url': 'https://api.github.com/repos/joelgrus/advent2023/contributors', 'subscribers_url': 'https://api.github.com/repos/joelgrus/advent2023/subscribers', 'subscription_url': 'https://api.github.com/repos/joelgrus/advent2023/subscription', 'commits_url': 'https://api.github.com/repos/joelgrus/advent2023/commits{/sha}', 'git_commits_url': 'https://api.github.com/repos/joelgrus/advent2023/git/commits{/sha}', 'comments_url': 'https://api.github.com/repos/joelgrus/advent2023/comments{/number}', 'issue_comment_url': 'https://api.github.com/repos/joelgrus/advent2023/issues/comments{/number}', 'contents_url': 'https://api.github.com/repos/joelgrus/advent2023/contents/{+path}', 'compare_url': 'https://api.github.com/repos/joelgrus/advent2023/compare/{base}...{head}', 'merges_url': 'https://api.github.com/repos/joelgrus/advent2023/merges', 'archive_url': 'https://api.github.com/repos/joelgrus/advent2023/{archive_format}{/ref}', 'downloads_url': 'https://api.github.com/repos/joelgrus/advent2023/downloads', 'issues_url': 'https://api.github.com/repos/joelgrus/advent2023/issues{/number}', 'pulls_url': 'https://api.github.com/repos/joelgrus/advent2023/pulls{/number}', 'milestones_url': 'https://api.github.com/repos/joelgrus/advent2023/milestones{/number}', 'notifications_url': 'https://api.github.com/repos/joelgrus/advent2023/notifications{?since,all,participating}', 'labels_url': 'https://api.github.com/repos/joelgrus/advent2023/labels{/name}', 'releases_url': 'https://api.github.com/repos/joelgrus/advent2023/releases{/id}', 'deployments_url': 'https://api.github.com/repos/joelgrus/advent2023/deployments', 'created_at': '2023-12-02T03:15:48Z', 'updated_at': '2023-12-03T20:17:13Z', 'pushed_at': '2023-12-04T23:41:08Z', 'git_url': 'git://github.com/joelgrus/advent2023.git', 'ssh_url': 'git@github.com:joelgrus/advent2023.git', 'clone_url': 'https://github.com/joelgrus/advent2023.git', 'svn_url': 'https://github.com/joelgrus/advent2023', 'homepage': None, 'size': 35, 'stargazers_count': 4, 'watchers_count': 4, 'language': 'Python', 'has_issues': True, 'has_projects': True, 'has_downloads': True, 'has_wiki': True, 'has_pages': False, 'has_discussions': False, 'forks_count': 0, 'mirror_url': None, 'archived': False, 'disabled': False, 'open_issues_count': 0, 'license': {'key': 'mit', 'name': 'MIT License', 'spdx_id': 'MIT', 'url': 'https://api.github.com/licenses/mit', 'node_id': 'MDc6TGljZW5zZTEz'}, 'allow_forking': True, 'is_template': False, 'web_commit_signoff_required': False, 'topics': [], 'visibility': 'public', 'forks': 0, 'open_issues': 0, 'watchers': 4, 'default_branch': 'master'}, {'id': 26382146, 'node_id': 'MDEwOlJlcG9zaXRvcnkyNjM4MjE0Ng==', 'name': 'data-science-from-scratch', 'full_name': 'joelgrus/data-science-from-scratch', 'private': False, 'owner': {'login': 'joelgrus', 'id': 1308313, 'node_id': 'MDQ6VXNlcjEzMDgzMTM=', 'avatar_url': 'https://avatars.githubusercontent.com/u/1308313?v=4', 'gravatar_id': '', 'url': 'https://api.github.com/users/joelgrus', 'html_url': 'https://github.com/joelgrus', 'followers_url': 'https://api.github.com/users/joelgrus/followers', 'following_url': 'https://api.github.com/users/joelgrus/following{/other_user}', 'gists_url': 'https://api.github.com/users/joelgrus/gists{/gist_id}', 'starred_url': 'https://api.github.com/users/joelgrus/starred{/owner}{/repo}', 'subscriptions_url': 'https://api.github.com/users/joelgrus/subscriptions', 'organizations_url': 'https://api.github.com/users/joelgrus/orgs', 'repos_url': 'https://api.github.com/users/joelgrus/repos', 'events_url': 'https://api.github.com/users/joelgrus/events{/privacy}', 'received_events_url': 'https://api.github.com/users/joelgrus/received_events', 'type': 'User', 'site_admin': False}, 'html_url': 'https://github.com/joelgrus/data-science-from-scratch', 'description': 'code for Data Science From Scratch book', 'fork': False, 'url': 'https://api.github.com/repos/joelgrus/data-science-from-scratch', 'forks_url': 'https://api.github.com/repos/joelgrus/data-science-from-scratch/forks', 'keys_url': 'https://api.github.com/repos/joelgrus/data-science-from-scratch/keys{/key_id}', 'collaborators_url': 'https://api.github.com/repos/joelgrus/data-science-from-scratch/collaborators{/collaborator}', 'teams_url': 'https://api.github.com/repos/joelgrus/data-science-from-scratch/teams', 'hooks_url': 'https://api.github.com/repos/joelgrus/data-science-from-scratch/hooks', 'issue_events_url': 'https://api.github.com/repos/joelgrus/data-science-from-scratch/issues/events{/number}', 'events_url': 'https://api.github.com/repos/joelgrus/data-science-from-scratch/events', 'assignees_url': 'https://api.github.com/repos/joelgrus/data-science-from-scratch/assignees{/user}', 'branches_url': 'https://api.github.com/repos/joelgrus/data-science-from-scratch/branches{/branch}', 'tags_url': 'https://api.github.com/repos/joelgrus/data-science-from-scratch/tags', 'blobs_url': 'https://api.github.com/repos/joelgrus/data-science-from-scratch/git/blobs{/sha}', 'git_tags_url': 'https://api.github.com/repos/joelgrus/data-science-from-scratch/git/tags{/sha}', 'git_refs_url': 'https://api.github.com/repos/joelgrus/data-science-from-scratch/git/refs{/sha}', 'trees_url': 'https://api.github.com/repos/joelgrus/data-science-from-scratch/git/trees{/sha}', 'statuses_url': 'https://api.github.com/repos/joelgrus/data-science-from-scratch/statuses/{sha}', 'languages_url': 'https://api.github.com/repos/joelgrus/data-science-from-scratch/languages', 'stargazers_url': 'https://api.github.com/repos/joelgrus/data-science-from-scratch/stargazers', 'contributors_url': 'https://api.github.com/repos/joelgrus/data-science-from-scratch/contributors', 'subscribers_url': 'https://api.github.com/repos/joelgrus/data-science-from-scratch/subscribers', 'subscription_url': 'https://api.github.com/repos/joelgrus/data-science-from-scratch/subscription', 'commits_url': 'https://api.github.com/repos/joelgrus/data-science-from-scratch/commits{/sha}', 'git_commits_url': 'https://api.github.com/repos/joelgrus/data-science-from-scratch/git/commits{/sha}', 'comments_url': 'https://api.github.com/repos/joelgrus/data-science-from-scratch/comments{/number}', 'issue_comment_url': 'https://api.github.com/repos/joelgrus/data-science-from-scratch/issues/comments{/number}', 'contents_url': 'https://api.github.com/repos/joelgrus/data-science-from-scratch/contents/{+path}', 'compare_url': 'https://api.github.com/repos/joelgrus/data-science-from-scratch/compare/{base}...{head}', 'merges_url': 'https://api.github.com/repos/joelgrus/data-science-from-scratch/merges', 'archive_url': 'https://api.github.com/repos/joelgrus/data-science-from-scratch/{archive_format}{/ref}', 'downloads_url': 'https://api.github.com/repos/joelgrus/data-science-from-scratch/downloads', 'issues_url': 'https://api.github.com/repos/joelgrus/data-science-from-scratch/issues{/number}', 'pulls_url': 'https://api.github.com/repos/joelgrus/data-science-from-scratch/pulls{/number}', 'milestones_url': 'https://api.github.com/repos/joelgrus/data-science-from-scratch/milestones{/number}', 'notifications_url': 'https://api.github.com/repos/joelgrus/data-science-from-scratch/notifications{?since,all,participating}', 'labels_url': 'https://api.github.com/repos/joelgrus/data-science-from-scratch/labels{/name}', 'releases_url': 'https://api.github.com/repos/joelgrus/data-science-from-scratch/releases{/id}', 'deployments_url': 'https://api.github.com/repos/joelgrus/data-science-from-scratch/deployments', 'created_at': '2014-11-09T02:31:24Z', 'updated_at': '2024-02-25T18:24:01Z', 'pushed_at': '2023-11-09T21:18:24Z', 'git_url': 'git://github.com/joelgrus/data-science-from-scratch.git', 'ssh_url': 'git@github.com:joelgrus/data-science-from-scratch.git', 'clone_url': 'https://github.com/joelgrus/data-science-from-scratch.git', 'svn_url': 'https://github.com/joelgrus/data-science-from-scratch', 'homepage': None, 'size': 769, 'stargazers_count': 8214, 'watchers_count': 8214, 'language': 'Python', 'has_issues': True, 'has_projects': True, 'has_downloads': True, 'has_wiki': True, 'has_pages': False, 'has_discussions': False, 'forks_count': 4355, 'mirror_url': None, 'archived': False, 'disabled': False, 'open_issues_count': 81, 'license': {'key': 'mit', 'name': 'MIT License', 'spdx_id': 'MIT', 'url': 'https://api.github.com/licenses/mit', 'node_id': 'MDc6TGljZW5zZTEz'}, 'allow_forking': True, 'is_template': False, 'web_commit_signoff_required': False, 'topics': [], 'visibility': 'public', 'forks': 4355, 'open_issues': 81, 'watchers': 8214, 'default_branch': 'master'}, {'id': 616173441, 'node_id': 'R_kgDOJLoPgQ', 'name': 'bracket-filler', 'full_name': 'joelgrus/bracket-filler', 'private': False, 'owner': {'login': 'joelgrus', 'id': 1308313, 'node_id': 'MDQ6VXNlcjEzMDgzMTM=', 'avatar_url': 'https://avatars.githubusercontent.com/u/1308313?v=4', 'gravatar_id': '', 'url': 'https://api.github.com/users/joelgrus', 'html_url': 'https://github.com/joelgrus', 'followers_url': 'https://api.github.com/users/joelgrus/followers', 'following_url': 'https://api.github.com/users/joelgrus/following{/other_user}', 'gists_url': 'https://api.github.com/users/joelgrus/gists{/gist_id}', 'starred_url': 'https://api.github.com/users/joelgrus/starred{/owner}{/repo}', 'subscriptions_url': 'https://api.github.com/users/joelgrus/subscriptions', 'organizations_url': 'https://api.github.com/users/joelgrus/orgs', 'repos_url': 'https://api.github.com/users/joelgrus/repos', 'events_url': 'https://api.github.com/users/joelgrus/events{/privacy}', 'received_events_url': 'https://api.github.com/users/joelgrus/received_events', 'type': 'User', 'site_admin': False}, 'html_url': 'https://github.com/joelgrus/bracket-filler', 'description': 'fill in your own bracket', 'fork': False, 'url': 'https://api.github.com/repos/joelgrus/bracket-filler', 'forks_url': 'https://api.github.com/repos/joelgrus/bracket-filler/forks', 'keys_url': 'https://api.github.com/repos/joelgrus/bracket-filler/keys{/key_id}', 'collaborators_url': 'https://api.github.com/repos/joelgrus/bracket-filler/collaborators{/collaborator}', 'teams_url': 'https://api.github.com/repos/joelgrus/bracket-filler/teams', 'hooks_url': 'https://api.github.com/repos/joelgrus/bracket-filler/hooks', 'issue_events_url': 'https://api.github.com/repos/joelgrus/bracket-filler/issues/events{/number}', 'events_url': 'https://api.github.com/repos/joelgrus/bracket-filler/events', 'assignees_url': 'https://api.github.com/repos/joelgrus/bracket-filler/assignees{/user}', 'branches_url': 'https://api.github.com/repos/joelgrus/bracket-filler/branches{/branch}', 'tags_url': 'https://api.github.com/repos/joelgrus/bracket-filler/tags', 'blobs_url': 'https://api.github.com/repos/joelgrus/bracket-filler/git/blobs{/sha}', 'git_tags_url': 'https://api.github.com/repos/joelgrus/bracket-filler/git/tags{/sha}', 'git_refs_url': 'https://api.github.com/repos/joelgrus/bracket-filler/git/refs{/sha}', 'trees_url': 'https://api.github.com/repos/joelgrus/bracket-filler/git/trees{/sha}', 'statuses_url': 'https://api.github.com/repos/joelgrus/bracket-filler/statuses/{sha}', 'languages_url': 'https://api.github.com/repos/joelgrus/bracket-filler/languages', 'stargazers_url': 'https://api.github.com/repos/joelgrus/bracket-filler/stargazers', 'contributors_url': 'https://api.github.com/repos/joelgrus/bracket-filler/contributors', 'subscribers_url': 'https://api.github.com/repos/joelgrus/bracket-filler/subscribers', 'subscription_url': 'https://api.github.com/repos/joelgrus/bracket-filler/subscription', 'commits_url': 'https://api.github.com/repos/joelgrus/bracket-filler/commits{/sha}', 'git_commits_url': 'https://api.github.com/repos/joelgrus/bracket-filler/git/commits{/sha}', 'comments_url': 'https://api.github.com/repos/joelgrus/bracket-filler/comments{/number}', 'issue_comment_url': 'https://api.github.com/repos/joelgrus/bracket-filler/issues/comments{/number}', 'contents_url': 'https://api.github.com/repos/joelgrus/bracket-filler/contents/{+path}', 'compare_url': 'https://api.github.com/repos/joelgrus/bracket-filler/compare/{base}...{head}', 'merges_url': 'https://api.github.com/repos/joelgrus/bracket-filler/merges', 'archive_url': 'https://api.github.com/repos/joelgrus/bracket-filler/{archive_format}{/ref}', 'downloads_url': 'https://api.github.com/repos/joelgrus/bracket-filler/downloads', 'issues_url': 'https://api.github.com/repos/joelgrus/bracket-filler/issues{/number}', 'pulls_url': 'https://api.github.com/repos/joelgrus/bracket-filler/pulls{/number}', 'milestones_url': 'https://api.github.com/repos/joelgrus/bracket-filler/milestones{/number}', 'notifications_url': 'https://api.github.com/repos/joelgrus/bracket-filler/notifications{?since,all,participating}', 'labels_url': 'https://api.github.com/repos/joelgrus/bracket-filler/labels{/name}', 'releases_url': 'https://api.github.com/repos/joelgrus/bracket-filler/releases{/id}', 'deployments_url': 'https://api.github.com/repos/joelgrus/bracket-filler/deployments', 'created_at': '2023-03-19T20:15:39Z', 'updated_at': '2023-03-19T20:15:58Z', 'pushed_at': '2023-03-19T22:10:43Z', 'git_url': 'git://github.com/joelgrus/bracket-filler.git', 'ssh_url': 'git@github.com:joelgrus/bracket-filler.git', 'clone_url': 'https://github.com/joelgrus/bracket-filler.git', 'svn_url': 'https://github.com/joelgrus/bracket-filler', 'homepage': None, 'size': 99, 'stargazers_count': 0, 'watchers_count': 0, 'language': 'Svelte', 'has_issues': True, 'has_projects': True, 'has_downloads': True, 'has_wiki': True, 'has_pages': False, 'has_discussions': False, 'forks_count': 0, 'mirror_url': None, 'archived': False, 'disabled': False, 'open_issues_count': 0, 'license': None, 'allow_forking': True, 'is_template': False, 'web_commit_signoff_required': False, 'topics': [], 'visibility': 'public', 'forks': 0, 'open_issues': 0, 'watchers': 0, 'default_branch': 'master'}, {'id': 569069856, 'node_id': 'R_kgDOIetRIA', 'name': 'advent2022', 'full_name': 'joelgrus/advent2022', 'private': False, 'owner': {'login': 'joelgrus', 'id': 1308313, 'node_id': 'MDQ6VXNlcjEzMDgzMTM=', 'avatar_url': 'https://avatars.githubusercontent.com/u/1308313?v=4', 'gravatar_id': '', 'url': 'https://api.github.com/users/joelgrus', 'html_url': 'https://github.com/joelgrus', 'followers_url': 'https://api.github.com/users/joelgrus/followers', 'following_url': 'https://api.github.com/users/joelgrus/following{/other_user}', 'gists_url': 'https://api.github.com/users/joelgrus/gists{/gist_id}', 'starred_url': 'https://api.github.com/users/joelgrus/starred{/owner}{/repo}', 'subscriptions_url': 'https://api.github.com/users/joelgrus/subscriptions', 'organizations_url': 'https://api.github.com/users/joelgrus/orgs', 'repos_url': 'https://api.github.com/users/joelgrus/repos', 'events_url': 'https://api.github.com/users/joelgrus/events{/privacy}', 'received_events_url': 'https://api.github.com/users/joelgrus/received_events', 'type': 'User', 'site_admin': False}, 'html_url': 'https://github.com/joelgrus/advent2022', 'description': None, 'fork': False, 'url': 'https://api.github.com/repos/joelgrus/advent2022', 'forks_url': 'https://api.github.com/repos/joelgrus/advent2022/forks', 'keys_url': 'https://api.github.com/repos/joelgrus/advent2022/keys{/key_id}', 'collaborators_url': 'https://api.github.com/repos/joelgrus/advent2022/collaborators{/collaborator}', 'teams_url': 'https://api.github.com/repos/joelgrus/advent2022/teams', 'hooks_url': 'https://api.github.com/repos/joelgrus/advent2022/hooks', 'issue_events_url': 'https://api.github.com/repos/joelgrus/advent2022/issues/events{/number}', 'events_url': 'https://api.github.com/repos/joelgrus/advent2022/events', 'assignees_url': 'https://api.github.com/repos/joelgrus/advent2022/assignees{/user}', 'branches_url': 'https://api.github.com/repos/joelgrus/advent2022/branches{/branch}', 'tags_url': 'https://api.github.com/repos/joelgrus/advent2022/tags', 'blobs_url': 'https://api.github.com/repos/joelgrus/advent2022/git/blobs{/sha}', 'git_tags_url': 'https://api.github.com/repos/joelgrus/advent2022/git/tags{/sha}', 'git_refs_url': 'https://api.github.com/repos/joelgrus/advent2022/git/refs{/sha}', 'trees_url': 'https://api.github.com/repos/joelgrus/advent2022/git/trees{/sha}', 'statuses_url': 'https://api.github.com/repos/joelgrus/advent2022/statuses/{sha}', 'languages_url': 'https://api.github.com/repos/joelgrus/advent2022/languages', 'stargazers_url': 'https://api.github.com/repos/joelgrus/advent2022/stargazers', 'contributors_url': 'https://api.github.com/repos/joelgrus/advent2022/contributors', 'subscribers_url': 'https://api.github.com/repos/joelgrus/advent2022/subscribers', 'subscription_url': 'https://api.github.com/repos/joelgrus/advent2022/subscription', 'commits_url': 'https://api.github.com/repos/joelgrus/advent2022/commits{/sha}', 'git_commits_url': 'https://api.github.com/repos/joelgrus/advent2022/git/commits{/sha}', 'comments_url': 'https://api.github.com/repos/joelgrus/advent2022/comments{/number}', 'issue_comment_url': 'https://api.github.com/repos/joelgrus/advent2022/issues/comments{/number}', 'contents_url': 'https://api.github.com/repos/joelgrus/advent2022/contents/{+path}', 'compare_url': 'https://api.github.com/repos/joelgrus/advent2022/compare/{base}...{head}', 'merges_url': 'https://api.github.com/repos/joelgrus/advent2022/merges', 'archive_url': 'https://api.github.com/repos/joelgrus/advent2022/{archive_format}{/ref}', 'downloads_url': 'https://api.github.com/repos/joelgrus/advent2022/downloads', 'issues_url': 'https://api.github.com/repos/joelgrus/advent2022/issues{/number}', 'pulls_url': 'https://api.github.com/repos/joelgrus/advent2022/pulls{/number}', 'milestones_url': 'https://api.github.com/repos/joelgrus/advent2022/milestones{/number}', 'notifications_url': 'https://api.github.com/repos/joelgrus/advent2022/notifications{?since,all,participating}', 'labels_url': 'https://api.github.com/repos/joelgrus/advent2022/labels{/name}', 'releases_url': 'https://api.github.com/repos/joelgrus/advent2022/releases{/id}', 'deployments_url': 'https://api.github.com/repos/joelgrus/advent2022/deployments', 'created_at': '2022-11-22T02:25:22Z', 'updated_at': '2022-12-21T12:40:44Z', 'pushed_at': '2022-12-22T15:21:38Z', 'git_url': 'git://github.com/joelgrus/advent2022.git', 'ssh_url': 'git@github.com:joelgrus/advent2022.git', 'clone_url': 'https://github.com/joelgrus/advent2022.git', 'svn_url': 'https://github.com/joelgrus/advent2022', 'homepage': None, 'size': 119, 'stargazers_count': 3, 'watchers_count': 3, 'language': 'Python', 'has_issues': True, 'has_projects': True, 'has_downloads': True, 'has_wiki': True, 'has_pages': False, 'has_discussions': False, 'forks_count': 1, 'mirror_url': None, 'archived': False, 'disabled': False, 'open_issues_count': 0, 'license': None, 'allow_forking': True, 'is_template': False, 'web_commit_signoff_required': False, 'topics': [], 'visibility': 'public', 'forks': 1, 'open_issues': 0, 'watchers': 3, 'default_branch': 'master'}, {'id': 431503386, 'node_id': 'R_kgDOGbg4Gg', 'name': 'advent2021', 'full_name': 'joelgrus/advent2021', 'private': False, 'owner': {'login': 'joelgrus', 'id': 1308313, 'node_id': 'MDQ6VXNlcjEzMDgzMTM=', 'avatar_url': 'https://avatars.githubusercontent.com/u/1308313?v=4', 'gravatar_id': '', 'url': 'https://api.github.com/users/joelgrus', 'html_url': 'https://github.com/joelgrus', 'followers_url': 'https://api.github.com/users/joelgrus/followers', 'following_url': 'https://api.github.com/users/joelgrus/following{/other_user}', 'gists_url': 'https://api.github.com/users/joelgrus/gists{/gist_id}', 'starred_url': 'https://api.github.com/users/joelgrus/starred{/owner}{/repo}', 'subscriptions_url': 'https://api.github.com/users/joelgrus/subscriptions', 'organizations_url': 'https://api.github.com/users/joelgrus/orgs', 'repos_url': 'https://api.github.com/users/joelgrus/repos', 'events_url': 'https://api.github.com/users/joelgrus/events{/privacy}', 'received_events_url': 'https://api.github.com/users/joelgrus/received_events', 'type': 'User', 'site_admin': False}, 'html_url': 'https://github.com/joelgrus/advent2021', 'description': 'advent of code 2021', 'fork': False, 'url': 'https://api.github.com/repos/joelgrus/advent2021', 'forks_url': 'https://api.github.com/repos/joelgrus/advent2021/forks', 'keys_url': 'https://api.github.com/repos/joelgrus/advent2021/keys{/key_id}', 'collaborators_url': 'https://api.github.com/repos/joelgrus/advent2021/collaborators{/collaborator}', 'teams_url': 'https://api.github.com/repos/joelgrus/advent2021/teams', 'hooks_url': 'https://api.github.com/repos/joelgrus/advent2021/hooks', 'issue_events_url': 'https://api.github.com/repos/joelgrus/advent2021/issues/events{/number}', 'events_url': 'https://api.github.com/repos/joelgrus/advent2021/events', 'assignees_url': 'https://api.github.com/repos/joelgrus/advent2021/assignees{/user}', 'branches_url': 'https://api.github.com/repos/joelgrus/advent2021/branches{/branch}', 'tags_url': 'https://api.github.com/repos/joelgrus/advent2021/tags', 'blobs_url': 'https://api.github.com/repos/joelgrus/advent2021/git/blobs{/sha}', 'git_tags_url': 'https://api.github.com/repos/joelgrus/advent2021/git/tags{/sha}', 'git_refs_url': 'https://api.github.com/repos/joelgrus/advent2021/git/refs{/sha}', 'trees_url': 'https://api.github.com/repos/joelgrus/advent2021/git/trees{/sha}', 'statuses_url': 'https://api.github.com/repos/joelgrus/advent2021/statuses/{sha}', 'languages_url': 'https://api.github.com/repos/joelgrus/advent2021/languages', 'stargazers_url': 'https://api.github.com/repos/joelgrus/advent2021/stargazers', 'contributors_url': 'https://api.github.com/repos/joelgrus/advent2021/contributors', 'subscribers_url': 'https://api.github.com/repos/joelgrus/advent2021/subscribers', 'subscription_url': 'https://api.github.com/repos/joelgrus/advent2021/subscription', 'commits_url': 'https://api.github.com/repos/joelgrus/advent2021/commits{/sha}', 'git_commits_url': 'https://api.github.com/repos/joelgrus/advent2021/git/commits{/sha}', 'comments_url': 'https://api.github.com/repos/joelgrus/advent2021/comments{/number}', 'issue_comment_url': 'https://api.github.com/repos/joelgrus/advent2021/issues/comments{/number}', 'contents_url': 'https://api.github.com/repos/joelgrus/advent2021/contents/{+path}', 'compare_url': 'https://api.github.com/repos/joelgrus/advent2021/compare/{base}...{head}', 'merges_url': 'https://api.github.com/repos/joelgrus/advent2021/merges', 'archive_url': 'https://api.github.com/repos/joelgrus/advent2021/{archive_format}{/ref}', 'downloads_url': 'https://api.github.com/repos/joelgrus/advent2021/downloads', 'issues_url': 'https://api.github.com/repos/joelgrus/advent2021/issues{/number}', 'pulls_url': 'https://api.github.com/repos/joelgrus/advent2021/pulls{/number}', 'milestones_url': 'https://api.github.com/repos/joelgrus/advent2021/milestones{/number}', 'notifications_url': 'https://api.github.com/repos/joelgrus/advent2021/notifications{?since,all,participating}', 'labels_url': 'https://api.github.com/repos/joelgrus/advent2021/labels{/name}', 'releases_url': 'https://api.github.com/repos/joelgrus/advent2021/releases{/id}', 'deployments_url': 'https://api.github.com/repos/joelgrus/advent2021/deployments', 'created_at': '2021-11-24T13:53:23Z', 'updated_at': '2022-09-05T22:18:26Z', 'pushed_at': '2021-12-17T22:09:07Z', 'git_url': 'git://github.com/joelgrus/advent2021.git', 'ssh_url': 'git@github.com:joelgrus/advent2021.git', 'clone_url': 'https://github.com/joelgrus/advent2021.git', 'svn_url': 'https://github.com/joelgrus/advent2021', 'homepage': None, 'size': 62, 'stargazers_count': 13, 'watchers_count': 13, 'language': 'Python', 'has_issues': True, 'has_projects': True, 'has_downloads': True, 'has_wiki': True, 'has_pages': False, 'has_discussions': False, 'forks_count': 1, 'mirror_url': None, 'archived': False, 'disabled': False, 'open_issues_count': 0, 'license': {'key': 'mit', 'name': 'MIT License', 'spdx_id': 'MIT', 'url': 'https://api.github.com/licenses/mit', 'node_id': 'MDc6TGljZW5zZTEz'}, 'allow_forking': True, 'is_template': False, 'web_commit_signoff_required': False, 'topics': [], 'visibility': 'public', 'forks': 1, 'open_issues': 0, 'watchers': 13, 'default_branch': 'master'}]\n"
     ]
    }
   ],
   "source": [
    "#We can extract language of last 5 repos\n",
    "\n",
    "last_5_repositories = sorted(repos, key = lambda r:r[\"pushed_at\"], reverse = True)[:5]\n",
    "print(last_5_repositories)\n"
   ]
  },
  {
   "cell_type": "code",
   "execution_count": 154,
   "id": "e72a0731-65b4-48ce-8738-1e6ced8f6530",
   "metadata": {},
   "outputs": [
    {
     "name": "stdout",
     "output_type": "stream",
     "text": [
      "['Python', 'Python', 'Svelte', 'Python', 'Python']\n"
     ]
    }
   ],
   "source": [
    "#last 5 languages\n",
    "\n",
    "last_5_languages = [repo [\"language\"] for repo in last_5_repositories]\n",
    "print(last_5_languages)"
   ]
  },
  {
   "cell_type": "markdown",
   "id": "fee6790d-af66-4b2b-9950-b06e34b71651",
   "metadata": {},
   "source": [
    "- Typically we won’t be working with APIs at this low “make the requests and parse the responses ourselves” level.\n",
    "\n",
    "- One of the benefits of using Python is that someone has already built a library for pretty much any API you’re interested in accessing.\n",
    "\n",
    "- When they’re done well, these libraries can save you a lot of the trouble of figuring out the hairier details of API access. (When they’re not done well, or when it turns out they’re based on defunct versions of the corresponding APIs, they can cause you enormous headaches.)\n",
    "\n",
    "- Nonetheless, you’ll occasionally have to roll your own API access library (or, more likely, debug why someone else’s isn’t working), so it’s good to know some of the details."
   ]
  },
  {
   "cell_type": "markdown",
   "id": "443d429e-ae69-49c3-8c71-7b58af030a9e",
   "metadata": {},
   "source": [
    "## Finding APIs\n",
    "\n",
    "- If you need data from a specific site, look for a “developers” or “API” section of the site for details, and try searching the web for “python<sitename> api” to find a library.\n",
    "\n",
    "- There are libraries for the Yelp API, for the Instagram API, for the Spotify API, and so on.\n",
    "\n",
    "- If you’re looking for a list of APIs that have Python wrappers, there’s a nice one from Real Python on https://github.com/realpython/list-of-python-api-wrappers"
   ]
  },
  {
   "cell_type": "markdown",
   "id": "247c5b2d-57f6-4eae-9099-c9542f862d8b",
   "metadata": {},
   "source": [
    "# 5. Example: Using twitter API\n",
    "\n",
    "- First, you need your API key and API secret key (sometimes known as the consumer key and consumer secret, respectively)\n",
    "\n",
    "- in bash :\n",
    "`export TWITTER_API_KEY='your_api_key'`  \n",
    "`export TWITTER_API_SECRET='your_api_secret'`\n",
    "\n",
    "- use `os module` to access the private keys to python: os is a module in Python's standard library that provides a way to interact with the operating system. "
   ]
  },
  {
   "cell_type": "markdown",
   "id": "ff7ac822-eaae-41b2-8435-8bdbe0a4d302",
   "metadata": {},
   "source": [
    "**Using Twython**\n",
    "- The trickiest part of using the Twitter API is authenticating yourself.\n",
    "\n",
    "- Indeed, this is the trickiest part of using a lot of APIs.\n",
    "\n",
    "- API providers want to make sure that you’re authorized to access their data and that you don’t exceed their usage limits. They also want to know who’s accessing their data.\n",
    "\n",
    "- Authentication is kind of a pain. There is a simple way, OAuth 2, that suffices when you just want to do simple searches like some keywords/hashtags etc.\n",
    "\n",
    "- And there is a complex way, OAuth 1, that’s required when you want to perform actions (e.g., tweeting) or (in particular for us) connect to the Twitter stream.\n",
    "\n",
    "- So we’re stuck with the more complicated way, which we’ll try to automate as much as we can.\n",
    "\n",
    "- first, get the api key and api key secret from os environment where we have saved using command lines:\n",
    "\n",
    "`export TWITTER_API_KEY='your_api_key'`  \n",
    "`export TWITTER_API_SECRET='your_api_secret'`\n"
   ]
  },
  {
   "cell_type": "code",
   "execution_count": 14,
   "id": "4c7499d5-9929-46a3-b615-84daf5cac13a",
   "metadata": {},
   "outputs": [
    {
     "name": "stdout",
     "output_type": "stream",
     "text": [
      "None None\n"
     ]
    }
   ],
   "source": [
    "import os\n",
    "\n",
    "CONSUMER_KEY = os.environ.get(\"TWITTER_API_KEY\")\n",
    "CONSUMER_SECRET = os.environ.get(\"TWITTER_API_SECRET\")\n",
    "\n",
    "print(CONSUMER_KEY, CONSUMER_SECRET)"
   ]
  },
  {
   "cell_type": "code",
   "execution_count": 4,
   "id": "bd0f7f5c-f441-462d-8333-a95806d05e69",
   "metadata": {},
   "outputs": [
    {
     "name": "stdout",
     "output_type": "stream",
     "text": [
      "{'oauth_token': 'wu7c_QAAAAABsikqAAABjeSot9E', 'oauth_token_secret': 'am0p1mMVHjPTH7SkhvQKdAtYa81KitGf', 'oauth_callback_confirmed': 'true', 'auth_url': 'https://api.twitter.com/oauth/authenticate?oauth_token=wu7c_QAAAAABsikqAAABjeSot9E'}\n"
     ]
    }
   ],
   "source": [
    "#Now we can instantiate the client:\n",
    "\n",
    "import webbrowser\n",
    "from twython import Twython\n",
    "\n",
    "#create a temporary twython client using your key and secret key\n",
    "temp_client = Twython(CONSUMER_KEY,CONSUMER_SECRET)\n",
    "\n",
    "\n",
    "#get temporary OAuth1 tokens and authentication url\n",
    "temp_creds = temp_client.get_authentication_tokens()\n",
    "url = temp_creds['auth_url']\n",
    "print(temp_creds)"
   ]
  },
  {
   "cell_type": "code",
   "execution_count": 5,
   "id": "6a333537-4017-4bd7-9d31-a97522d1c7e7",
   "metadata": {},
   "outputs": [
    {
     "name": "stdout",
     "output_type": "stream",
     "text": [
      "go visit https://api.twitter.com/oauth/authenticate?oauth_token=wu7c_QAAAAABsikqAAABjeSot9E and get the PIN code and paste it below\n"
     ]
    },
    {
     "name": "stdin",
     "output_type": "stream",
     "text": [
      "please enter the PIN code:  8544483\n"
     ]
    }
   ],
   "source": [
    "# Now visit that URL to authorize the application and get a PIN\n",
    "print(f\"go visit {url} and get the PIN code and paste it below\")\n",
    "webbrowser.open(url)\n",
    "PIN_CODE = input(\"please enter the PIN code: \")"
   ]
  },
  {
   "cell_type": "code",
   "execution_count": 6,
   "id": "9b846d45-6ee0-4432-8d55-626682129426",
   "metadata": {},
   "outputs": [],
   "source": [
    "#now we use this pin code to get the actual tokens\n",
    "auth_client = Twython( CONSUMER_KEY, CONSUMER_SECRET,\n",
    "                      temp_creds['oauth_token'],\n",
    "                      temp_creds['oauth_token_secret'])\n",
    "\n",
    "final_step = auth_client.get_authorized_tokens(PIN_CODE)\n",
    "ACCESS_TOKEN = final_step['oauth_token']\n",
    "ACCESS_TOKEN_SECRET = final_step['oauth_token_secret']\n",
    "\n",
    "# And get a new Twython instance using them.\n",
    "twitter = Twython(CONSUMER_KEY,\n",
    "CONSUMER_SECRET,\n",
    "ACCESS_TOKEN,\n",
    "ACCESS_TOKEN_SECRET)"
   ]
  },
  {
   "cell_type": "code",
   "execution_count": 57,
   "id": "2c217dff-d310-47db-a746-0590e63ae0bb",
   "metadata": {},
   "outputs": [],
   "source": [
    "# Once we have an authenticated Twython instance, we can start performing searches:\n",
    "# Search for tweets containing the phrase \"data science\"\n",
    "# for status in twitter.search(q='\"data science\"')[\"statuses\"]:\n",
    "#     user = status[\"user\"][\"screen_name\"]\n",
    "#     text = status[\"text\"]\n",
    "#     print(f\"{user}: {text}\\n\")"
   ]
  },
  {
   "cell_type": "code",
   "execution_count": 8,
   "id": "8288274a-0571-4003-9194-dba06938a8cc",
   "metadata": {},
   "outputs": [
    {
     "ename": "TwythonError",
     "evalue": "Twitter API returned a 403 (Forbidden), You currently have access to a subset of Twitter API v2 endpoints and limited v1.1 endpoints (e.g. media post, oauth) only. If you need access to this endpoint, you may need a different access level. You can learn more here: https://developer.twitter.com/en/portal/product",
     "output_type": "error",
     "traceback": [
      "\u001b[0;31m---------------------------------------------------------------------------\u001b[0m",
      "\u001b[0;31mTwythonError\u001b[0m                              Traceback (most recent call last)",
      "Cell \u001b[0;32mIn[8], line 3\u001b[0m\n\u001b[1;32m      1\u001b[0m \u001b[38;5;66;03m# Post a tweet\u001b[39;00m\n\u001b[1;32m      2\u001b[0m tweet \u001b[38;5;241m=\u001b[39m \u001b[38;5;124m\"\u001b[39m\u001b[38;5;124mHello, Twitter! This is a test tweet.\u001b[39m\u001b[38;5;124m\"\u001b[39m\n\u001b[0;32m----> 3\u001b[0m \u001b[43mtwitter\u001b[49m\u001b[38;5;241;43m.\u001b[39;49m\u001b[43mupdate_status\u001b[49m\u001b[43m(\u001b[49m\u001b[43mstatus\u001b[49m\u001b[38;5;241;43m=\u001b[39;49m\u001b[43mtweet\u001b[49m\u001b[43m)\u001b[49m\n\u001b[1;32m      5\u001b[0m \u001b[38;5;28mprint\u001b[39m(\u001b[38;5;124m\"\u001b[39m\u001b[38;5;124mTweet posted successfully!\u001b[39m\u001b[38;5;124m\"\u001b[39m)\n",
      "File \u001b[0;32m~/anaconda3/envs/dsfs/lib/python3.11/site-packages/twython/endpoints.py:123\u001b[0m, in \u001b[0;36mEndpointsMixin.update_status\u001b[0;34m(self, **params)\u001b[0m\n\u001b[1;32m    116\u001b[0m \u001b[38;5;28;01mdef\u001b[39;00m \u001b[38;5;21mupdate_status\u001b[39m(\u001b[38;5;28mself\u001b[39m, \u001b[38;5;241m*\u001b[39m\u001b[38;5;241m*\u001b[39mparams):\n\u001b[1;32m    117\u001b[0m \u001b[38;5;250m    \u001b[39m\u001b[38;5;124;03m\"\"\"Updates the authenticating user's current status, also known as tweeting\u001b[39;00m\n\u001b[1;32m    118\u001b[0m \n\u001b[1;32m    119\u001b[0m \u001b[38;5;124;03m    Docs:\u001b[39;00m\n\u001b[1;32m    120\u001b[0m \u001b[38;5;124;03m    https://developer.twitter.com/en/docs/tweets/post-and-engage/api-reference/post-statuses-update\u001b[39;00m\n\u001b[1;32m    121\u001b[0m \n\u001b[1;32m    122\u001b[0m \u001b[38;5;124;03m    \"\"\"\u001b[39;00m\n\u001b[0;32m--> 123\u001b[0m     \u001b[38;5;28;01mreturn\u001b[39;00m \u001b[38;5;28;43mself\u001b[39;49m\u001b[38;5;241;43m.\u001b[39;49m\u001b[43mpost\u001b[49m\u001b[43m(\u001b[49m\u001b[38;5;124;43m'\u001b[39;49m\u001b[38;5;124;43mstatuses/update\u001b[39;49m\u001b[38;5;124;43m'\u001b[39;49m\u001b[43m,\u001b[49m\u001b[43m \u001b[49m\u001b[43mparams\u001b[49m\u001b[38;5;241;43m=\u001b[39;49m\u001b[43mparams\u001b[49m\u001b[43m)\u001b[49m\n",
      "File \u001b[0;32m~/anaconda3/envs/dsfs/lib/python3.11/site-packages/twython/api.py:283\u001b[0m, in \u001b[0;36mTwython.post\u001b[0;34m(self, endpoint, params, version, json_encoded)\u001b[0m\n\u001b[1;32m    281\u001b[0m \u001b[38;5;28;01mdef\u001b[39;00m \u001b[38;5;21mpost\u001b[39m(\u001b[38;5;28mself\u001b[39m, endpoint, params\u001b[38;5;241m=\u001b[39m\u001b[38;5;28;01mNone\u001b[39;00m, version\u001b[38;5;241m=\u001b[39m\u001b[38;5;124m'\u001b[39m\u001b[38;5;124m1.1\u001b[39m\u001b[38;5;124m'\u001b[39m, json_encoded\u001b[38;5;241m=\u001b[39m\u001b[38;5;28;01mFalse\u001b[39;00m):\n\u001b[1;32m    282\u001b[0m \u001b[38;5;250m    \u001b[39m\u001b[38;5;124;03m\"\"\"Shortcut for POST requests via :class:`request`\"\"\"\u001b[39;00m\n\u001b[0;32m--> 283\u001b[0m     \u001b[38;5;28;01mreturn\u001b[39;00m \u001b[38;5;28;43mself\u001b[39;49m\u001b[38;5;241;43m.\u001b[39;49m\u001b[43mrequest\u001b[49m\u001b[43m(\u001b[49m\u001b[43mendpoint\u001b[49m\u001b[43m,\u001b[49m\u001b[43m \u001b[49m\u001b[38;5;124;43m'\u001b[39;49m\u001b[38;5;124;43mPOST\u001b[39;49m\u001b[38;5;124;43m'\u001b[39;49m\u001b[43m,\u001b[49m\u001b[43m \u001b[49m\u001b[43mparams\u001b[49m\u001b[38;5;241;43m=\u001b[39;49m\u001b[43mparams\u001b[49m\u001b[43m,\u001b[49m\u001b[43m \u001b[49m\u001b[43mversion\u001b[49m\u001b[38;5;241;43m=\u001b[39;49m\u001b[43mversion\u001b[49m\u001b[43m,\u001b[49m\u001b[43m \u001b[49m\u001b[43mjson_encoded\u001b[49m\u001b[38;5;241;43m=\u001b[39;49m\u001b[43mjson_encoded\u001b[49m\u001b[43m)\u001b[49m\n",
      "File \u001b[0;32m~/anaconda3/envs/dsfs/lib/python3.11/site-packages/twython/api.py:272\u001b[0m, in \u001b[0;36mTwython.request\u001b[0;34m(self, endpoint, method, params, version, json_encoded)\u001b[0m\n\u001b[1;32m    269\u001b[0m \u001b[38;5;28;01melse\u001b[39;00m:\n\u001b[1;32m    270\u001b[0m     url \u001b[38;5;241m=\u001b[39m \u001b[38;5;124m'\u001b[39m\u001b[38;5;132;01m%s\u001b[39;00m\u001b[38;5;124m/\u001b[39m\u001b[38;5;132;01m%s\u001b[39;00m\u001b[38;5;124m.json\u001b[39m\u001b[38;5;124m'\u001b[39m \u001b[38;5;241m%\u001b[39m (\u001b[38;5;28mself\u001b[39m\u001b[38;5;241m.\u001b[39mapi_url \u001b[38;5;241m%\u001b[39m version, endpoint)\n\u001b[0;32m--> 272\u001b[0m content \u001b[38;5;241m=\u001b[39m \u001b[38;5;28;43mself\u001b[39;49m\u001b[38;5;241;43m.\u001b[39;49m\u001b[43m_request\u001b[49m\u001b[43m(\u001b[49m\u001b[43murl\u001b[49m\u001b[43m,\u001b[49m\u001b[43m \u001b[49m\u001b[43mmethod\u001b[49m\u001b[38;5;241;43m=\u001b[39;49m\u001b[43mmethod\u001b[49m\u001b[43m,\u001b[49m\u001b[43m \u001b[49m\u001b[43mparams\u001b[49m\u001b[38;5;241;43m=\u001b[39;49m\u001b[43mparams\u001b[49m\u001b[43m,\u001b[49m\n\u001b[1;32m    273\u001b[0m \u001b[43m                        \u001b[49m\u001b[43mapi_call\u001b[49m\u001b[38;5;241;43m=\u001b[39;49m\u001b[43murl\u001b[49m\u001b[43m,\u001b[49m\u001b[43m \u001b[49m\u001b[43mjson_encoded\u001b[49m\u001b[38;5;241;43m=\u001b[39;49m\u001b[43mjson_encoded\u001b[49m\u001b[43m)\u001b[49m\n\u001b[1;32m    275\u001b[0m \u001b[38;5;28;01mreturn\u001b[39;00m content\n",
      "File \u001b[0;32m~/anaconda3/envs/dsfs/lib/python3.11/site-packages/twython/api.py:202\u001b[0m, in \u001b[0;36mTwython._request\u001b[0;34m(self, url, method, params, api_call, json_encoded)\u001b[0m\n\u001b[1;32m    195\u001b[0m     \u001b[38;5;28;01melif\u001b[39;00m response\u001b[38;5;241m.\u001b[39mstatus_code \u001b[38;5;241m==\u001b[39m \u001b[38;5;241m401\u001b[39m \u001b[38;5;129;01mor\u001b[39;00m \u001b[38;5;124m'\u001b[39m\u001b[38;5;124mBad Authentication data\u001b[39m\u001b[38;5;124m'\u001b[39m \\\n\u001b[1;32m    196\u001b[0m             \u001b[38;5;129;01min\u001b[39;00m error_message:\n\u001b[1;32m    197\u001b[0m         \u001b[38;5;66;03m# Twitter API 1.1, returns a 401 Unauthorized or\u001b[39;00m\n\u001b[1;32m    198\u001b[0m         \u001b[38;5;66;03m# a 400 \"Bad Authentication data\" for invalid/expired\u001b[39;00m\n\u001b[1;32m    199\u001b[0m         \u001b[38;5;66;03m# app keys/user tokens\u001b[39;00m\n\u001b[1;32m    200\u001b[0m         ExceptionType \u001b[38;5;241m=\u001b[39m TwythonAuthError\n\u001b[0;32m--> 202\u001b[0m     \u001b[38;5;28;01mraise\u001b[39;00m ExceptionType(\n\u001b[1;32m    203\u001b[0m         error_message,\n\u001b[1;32m    204\u001b[0m         error_code\u001b[38;5;241m=\u001b[39mresponse\u001b[38;5;241m.\u001b[39mstatus_code,\n\u001b[1;32m    205\u001b[0m         retry_after\u001b[38;5;241m=\u001b[39mresponse\u001b[38;5;241m.\u001b[39mheaders\u001b[38;5;241m.\u001b[39mget(\u001b[38;5;124m'\u001b[39m\u001b[38;5;124mX-Rate-Limit-Reset\u001b[39m\u001b[38;5;124m'\u001b[39m))\n\u001b[1;32m    206\u001b[0m content \u001b[38;5;241m=\u001b[39m \u001b[38;5;124m'\u001b[39m\u001b[38;5;124m'\u001b[39m\n\u001b[1;32m    207\u001b[0m \u001b[38;5;28;01mtry\u001b[39;00m:\n",
      "\u001b[0;31mTwythonError\u001b[0m: Twitter API returned a 403 (Forbidden), You currently have access to a subset of Twitter API v2 endpoints and limited v1.1 endpoints (e.g. media post, oauth) only. If you need access to this endpoint, you may need a different access level. You can learn more here: https://developer.twitter.com/en/portal/product"
     ]
    }
   ],
   "source": [
    "# Post a tweet\n",
    "tweet = \"Hello, Twitter! This is a test tweet.\"\n",
    "twitter.update_status(status=tweet)\n",
    "\n",
    "print(\"Tweet posted successfully!\")"
   ]
  },
  {
   "cell_type": "code",
   "execution_count": 13,
   "id": "82be6e9b-610a-4158-b5a6-3c333d00e768",
   "metadata": {},
   "outputs": [
    {
     "name": "stdout",
     "output_type": "stream",
     "text": [
      "Got OAuth token: -8UgyQAAAAABsikqAAABjeS3RVo\n",
      "Please go here and authorize: https://api.twitter.com/oauth/authorize?oauth_token=-8UgyQAAAAABsikqAAABjeS3RVo\n"
     ]
    },
    {
     "name": "stdin",
     "output_type": "stream",
     "text": [
      "Paste the PIN here:  0007949\n"
     ]
    },
    {
     "name": "stdout",
     "output_type": "stream",
     "text": [
      "Response code: 200\n",
      "{\n",
      "    \"data\": {\n",
      "        \"created_at\": \"2024-02-26T07:35:10.000Z\",\n",
      "        \"description\": \"\",\n",
      "        \"id\": \"1762018388891807744\",\n",
      "        \"name\": \"tandaifuku\",\n",
      "        \"username\": \"tandaifuku\"\n",
      "    }\n",
      "}\n"
     ]
    }
   ],
   "source": [
    "from requests_oauthlib import OAuth1Session\n",
    "import os\n",
    "import json\n",
    "\n",
    "# In your terminal please set your environment variables by running the following lines of code.\n",
    "# export 'CONSUMER_KEY'='<your_consumer_key>'\n",
    "# export 'CONSUMER_SECRET'='<your_consumer_secret>'\n",
    "\n",
    "# consumer_key = os.environ.get(\"CONSUMER_KEY\")\n",
    "# consumer_secret = os.environ.get(\"CONSUMER_SECRET\")\n",
    "\n",
    "consumer_key = ''\n",
    "consumer_secret = ''\n",
    "\n",
    "# User fields are adjustable, options include:\n",
    "# created_at, description, entities, id, location, name,\n",
    "# pinned_tweet_id, profile_image_url, protected,\n",
    "# public_metrics, url, username, verified, and withheld\n",
    "fields = \"created_at,description\"\n",
    "params = {\"user.fields\": fields}\n",
    "\n",
    "# Get request token\n",
    "request_token_url = \"https://api.twitter.com/oauth/request_token\"\n",
    "oauth = OAuth1Session(consumer_key, client_secret=consumer_secret)\n",
    "\n",
    "try:\n",
    "    fetch_response = oauth.fetch_request_token(request_token_url)\n",
    "except ValueError:\n",
    "    print(\n",
    "        \"There may have been an issue with the consumer_key or consumer_secret you entered.\"\n",
    "    )\n",
    "\n",
    "resource_owner_key = fetch_response.get(\"oauth_token\")\n",
    "resource_owner_secret = fetch_response.get(\"oauth_token_secret\")\n",
    "print(\"Got OAuth token: %s\" % resource_owner_key)\n",
    "\n",
    "# # Get authorization\n",
    "base_authorization_url = \"https://api.twitter.com/oauth/authorize\"\n",
    "authorization_url = oauth.authorization_url(base_authorization_url)\n",
    "print(\"Please go here and authorize: %s\" % authorization_url)\n",
    "verifier = input(\"Paste the PIN here: \")\n",
    "\n",
    "# Get the access token\n",
    "access_token_url = \"https://api.twitter.com/oauth/access_token\"\n",
    "oauth = OAuth1Session(\n",
    "    consumer_key,\n",
    "    client_secret=consumer_secret,\n",
    "    resource_owner_key=resource_owner_key,\n",
    "    resource_owner_secret=resource_owner_secret,\n",
    "    verifier=verifier,\n",
    ")\n",
    "oauth_tokens = oauth.fetch_access_token(access_token_url)\n",
    "\n",
    "access_token = oauth_tokens[\"oauth_token\"]\n",
    "access_token_secret = oauth_tokens[\"oauth_token_secret\"]\n",
    "\n",
    "# Make the request\n",
    "oauth = OAuth1Session(\n",
    "    consumer_key,\n",
    "    client_secret=consumer_secret,\n",
    "    resource_owner_key=access_token,\n",
    "    resource_owner_secret=access_token_secret,\n",
    ")\n",
    "\n",
    "response = oauth.get(\"https://api.twitter.com/2/users/me\", params=params)\n",
    "\n",
    "if response.status_code != 200:\n",
    "    raise Exception(\n",
    "        \"Request returned an error: {} {}\".format(response.status_code, response.text)\n",
    "    )\n",
    "\n",
    "print(\"Response code: {}\".format(response.status_code))\n",
    "\n",
    "json_response = response.json()\n",
    "\n",
    "print(json.dumps(json_response, indent=4, sort_keys=True))"
   ]
  },
  {
   "cell_type": "code",
   "execution_count": null,
   "id": "2ad340fe-37c2-4737-a587-96706197bcfe",
   "metadata": {},
   "outputs": [],
   "source": []
  }
 ],
 "metadata": {
  "kernelspec": {
   "display_name": "Python 3 (ipykernel)",
   "language": "python",
   "name": "python3"
  },
  "language_info": {
   "codemirror_mode": {
    "name": "ipython",
    "version": 3
   },
   "file_extension": ".py",
   "mimetype": "text/x-python",
   "name": "python",
   "nbconvert_exporter": "python",
   "pygments_lexer": "ipython3",
   "version": "3.11.5"
  }
 },
 "nbformat": 4,
 "nbformat_minor": 5
}
