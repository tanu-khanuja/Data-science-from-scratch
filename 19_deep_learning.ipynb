{
 "cells": [
  {
   "cell_type": "markdown",
   "id": "4bee4f51-b614-4abf-a7ad-bbc42f33fa1c",
   "metadata": {},
   "source": [
    "# Deep Learning\n",
    "\n",
    "- **NNs with many layers** - known as deep neural networks.\n",
    "- These layers can extract high-level features from raw data.\n",
    "- Its a **hierarchical feature learning**:\n",
    "  > Lower layers extract basic features, while higher layers combine these features to create more complex abstractions.\n",
    "- The more data you have, the more accurately deep learning models can learn.\n",
    "- Therefore, require significant computational power, therefore GPUs.\n",
    "- Can be trained end-to-end, meaning they can learn directly from raw data without requiring extensive manual feature engineering.\n",
    "\n",
    "- Deep learning has been successfully applied in many fields, including:\n",
    "\n",
    "> 1. Computer Vision: Image classification, object detection, facial recognition, etc.\n",
    "> 2. Natural Language Processing: Text classification, translation, chatbots, language modeling, etc.\n",
    "> 3. Speech Recognition: Automatic speech recognition, speech-to-text, voice assistants.\n",
    "> 4. Healthcare: Medical image analysis, disease prediction, personalized medicine.\n",
    "> 5. Autonomous Vehicles: Sensor data interpretation, environment mapping, decision-making.\n",
    "> 6. Finance: Fraud detection, stock price prediction, algorithmic trading."
   ]
  },
  {
   "cell_type": "markdown",
   "id": "647aba4b-fad5-48f8-9e3b-703ed0b9ddf8",
   "metadata": {},
   "source": [
    "# 1. Tensor\n",
    "\n",
    "- A n-dimensional array.\n",
    "> - A mathematical object with varying dimensions.\n",
    "> - from simple one-dimensional arrays (vectors) to higher-dimensional arrays (like matrices and beyond).\n",
    "\n",
    "- Why do we need to know tensors?\n",
    "> - In popular DL frameworks like TensorFlow and PyTorch, tensors are central to data representation and computation.\n",
    "\n",
    "- In python, one way we can say, <u>Tensor is nothing but a List</u> but All lists in python are not n-dimensional array.\n"
   ]
  },
  {
   "cell_type": "markdown",
   "id": "db3fa2f5-5dab-43e5-bf76-2a0d00d4a127",
   "metadata": {},
   "source": [
    "## 1. Shape of tensor\n",
    "### shape(tensor: Tensor) -> List[int]:"
   ]
  },
  {
   "cell_type": "code",
   "execution_count": 11,
   "id": "795ef6f2-9b31-4742-86de-2726aaa79efd",
   "metadata": {},
   "outputs": [],
   "source": [
    "# Let's find shape of a tensor\n",
    "\n",
    "Tensor = list # type of tensor is list\n",
    "\n",
    "from typing import List\n",
    "\n",
    "def shape(tensor: Tensor) -> List[int]:\n",
    "    sizes: List[int] = []\n",
    "    while isinstance(tensor, list):\n",
    "        sizes.append(len(tensor))\n",
    "        # print(tensor)\n",
    "        tensor = tensor[0]\n",
    "        \n",
    "    return sizes\n",
    "\n",
    "assert shape([[[1, 2, 3],[4, 5, 6]],[[7, 8, 9],[10, 11, 12]]]) == [2,2,3]\n",
    "assert shape([1, 2, 3]) == [3]\n",
    "assert shape([[1, 2], [3, 4], [5, 6]]) == [3, 2]"
   ]
  },
  {
   "cell_type": "markdown",
   "id": "2c1af8ff-a5a0-475e-a839-ebb4fb85c1b3",
   "metadata": {},
   "source": [
    "## 2. Recursion\n",
    "- Because tensors can have any number of dimensions, we’ll typically need to work with them recursively.\n",
    "- We’ll do one thing in the one-dimensional case and recurse in the higher-dimensional case\n",
    "\n",
    "### is_1d(tensor: Tensor) -> bool:"
   ]
  },
  {
   "cell_type": "code",
   "execution_count": 12,
   "id": "462672c5-624e-41b0-824d-c66c4711efe1",
   "metadata": {},
   "outputs": [],
   "source": [
    "# Find if tensor is 1D\n",
    "\n",
    "def is_1d(tensor: Tensor) -> bool:\n",
    "    \"\"\"\n",
    "    If tensor[0] is a list, it's a higher-order tensor.\n",
    "    Otherwise, tensor is 1-dimensional (that is, a vector).\n",
    "    \"\"\"\n",
    "    return not isinstance(tensor[0], list)\n",
    "\n",
    "assert is_1d([1,2,3,4]) == 1\n",
    "assert is_1d([[1,2],[3,4]]) == 0\n",
    "assert not is_1d([[1,2],[1,3]]) == 1"
   ]
  },
  {
   "cell_type": "markdown",
   "id": "84073e1d-f383-4d7a-9a25-c9446baaaa64",
   "metadata": {},
   "source": [
    "### tensor_sum(tensor: Tensor) -> float:"
   ]
  },
  {
   "cell_type": "code",
   "execution_count": 13,
   "id": "db86bf1a-dbc9-4fb7-8f1c-d38ca9a1b55a",
   "metadata": {},
   "outputs": [],
   "source": [
    "# Let's do recursion for tensor_sum \n",
    "def tensor_sum(tensor: Tensor) -> float:\n",
    "    \"\"\"\n",
    "    Sums up all the values in a tensor\n",
    "    \"\"\"\n",
    "    if is_1d(tensor):\n",
    "        return sum(tensor)\n",
    "    else:\n",
    "        return sum(tensor_sum(t) for t in tensor)\n",
    "\n",
    "assert tensor_sum([[[1,2,1], [3,4,1]], [[5,6,1], [7,8,1]]]) == 40\n",
    "assert shape([[[1,2,1], [3,4,1]], [[5,6,1], [7,8,1]]]) == [2,2,3]"
   ]
  },
  {
   "cell_type": "markdown",
   "id": "a790b6c7-38d3-4a0e-a2c6-ea70a7b95e14",
   "metadata": {},
   "source": [
    "- Let's create a function that can do recursion everytime we want"
   ]
  },
  {
   "cell_type": "markdown",
   "id": "8c511842-9bb9-4c5d-97f4-3d80f87c5e66",
   "metadata": {},
   "source": [
    "### tensor_apply(f: Callable[[float], float], tensor: Tensor) -> Tensor:"
   ]
  },
  {
   "cell_type": "code",
   "execution_count": 14,
   "id": "ead3c9fa-c766-40bb-8108-c7d10e2ac1c4",
   "metadata": {},
   "outputs": [],
   "source": [
    "from typing import Callable\n",
    "\n",
    "def tensor_apply(f: Callable[[float], float], tensor: Tensor) -> Tensor:\n",
    "    \"\"\"\n",
    "    Applies f elementwise\n",
    "    \"\"\"\n",
    "    if is_1d(tensor):\n",
    "        return [f(x) for x in tensor]\n",
    "\n",
    "    else:\n",
    "        return [tensor_apply(f, t) for t in tensor]\n",
    "\n",
    "assert tensor_apply(lambda x: x*2,[[1,2], [3, 4]]) == [[2, 4], [6, 8]]\n",
    "\n",
    "# tensor_apply(lambda x: sum(x), [1,2]) with f = sum(x) and tensor as 1d list will not work because sum operates on iterables only\n",
    "# tensor_apply(lambda x: sum(x), [(1,1)]) with f = sum(x) and tensor as list of tuple will work because tuple is nested iterable"
   ]
  },
  {
   "cell_type": "code",
   "execution_count": 15,
   "id": "142aab06-a14c-4da4-9dc7-ba70b0118bdf",
   "metadata": {},
   "outputs": [
    {
     "data": {
      "text/plain": [
       "[2]"
      ]
     },
     "execution_count": 15,
     "metadata": {},
     "output_type": "execute_result"
    }
   ],
   "source": [
    "tensor_apply(lambda x: sum(x), [(1,1)])"
   ]
  },
  {
   "cell_type": "markdown",
   "id": "8ae24bf8-a5fc-4968-8fb0-caefcb169314",
   "metadata": {},
   "source": [
    "### zeros_like(tensor: Tensor) -> Tensor:"
   ]
  },
  {
   "cell_type": "code",
   "execution_count": 16,
   "id": "7dfe2b91-775f-49a4-ac5f-3f71cc92a95b",
   "metadata": {},
   "outputs": [],
   "source": [
    "# create a all 0 tensor generating function using tensor_apply\n",
    "\n",
    "def zeros_like(tensor: Tensor) -> Tensor:\n",
    "    return tensor_apply(lambda _: 0.0, tensor)\n",
    "\n",
    "assert zeros_like([1,2]) == [0.0, 0.0]\n",
    "assert zeros_like([[1,2,1],[3,4,1]]) == [[0.0, 0.0, 0.0],[0.0,0.0,0.0]]"
   ]
  },
  {
   "cell_type": "markdown",
   "id": "ac735fcd-d5eb-4dd7-9c3d-06734934e5c2",
   "metadata": {},
   "source": [
    "- Create a function to apply on corresponding elements from two tensors (which had better be the exact same shape, although we won’t check that):"
   ]
  },
  {
   "cell_type": "markdown",
   "id": "64531e06-7b54-47be-b2e3-c7a84da8a67a",
   "metadata": {},
   "source": [
    "### tensor_combine(f, t1, t2) -> Tensor:"
   ]
  },
  {
   "cell_type": "code",
   "execution_count": 17,
   "id": "a0cdc59e-6c8e-4291-bb55-ae729ee2619f",
   "metadata": {},
   "outputs": [],
   "source": [
    "def tensor_combine(f: Callable[[float, float], float],\n",
    "                   t1: Tensor,\n",
    "                   t2: Tensor) -> Tensor:\n",
    "    \"\"\"\n",
    "    Applies f to corresponding elements of t1 and t2\n",
    "    \"\"\"\n",
    "    if is_1d(t1):\n",
    "        return [f(x,y) for x,y in zip(t1, t2)]\n",
    "    else:\n",
    "        return [tensor_combine(f, t1_i, t2_i) \n",
    "                for t1_i, t2_i in zip(t1,t2)]\n",
    "\n",
    "import operator\n",
    "assert tensor_combine(operator.add, [1, 2, 3], [4, 5, 6]) == [5, 7, 9]\n",
    "assert tensor_combine(operator.mul, [1, 2, 3], [4, 5, 6]) == [4, 10, 18]"
   ]
  },
  {
   "cell_type": "markdown",
   "id": "8dbd627b-af5c-4102-a0f8-e2cc53d4b806",
   "metadata": {},
   "source": [
    "# 2. Layer Abstraction\n",
    "\n",
    "**What is layer abstraction?**\n",
    "> - Design pattern used in the implementation of neural networks, which provides a generalized interface for different types of layers.\n",
    "> - This abstraction <u>allows you to treat different types of layers</u> (such as fully connected layers, convolutional layers, activation layers, etc.) in a consistent manner.\n",
    "> - The idea is to define a base class or interface that specifies the common operations (like forward and backward methods) that all layer types must implement.\n",
    "\n",
    "**Why do we need Layer Abstraction in DL?** \n",
    "1. A simple NN of Last Chapter had only 2 layers.(<u>And frequently we’d like to use more than two layers</u>)\n",
    "> - our feed_forward function could handle any number of layers btw.\n",
    "> - but our gradient computation was not designed so.\n",
    "\n",
    "2. The Network was designed to use sigmoid as activation function (<u>Perhaps we would like to use other activation function</u>)\n",
    "\n",
    "3. It just takes output from previous layer and pass that (<u>Perhaps we’d like the neurons to remember something about their previous inputs.</u>)\n",
    "\n",
    "**Key Components of Layer Abstraction**\n",
    "1. Base Class or Interface:\n",
    "\n",
    "- The base class (often named something like Layer) defines the essential methods that all derived layer classes must implement. These methods usually include:\n",
    "> - forward: Defines how the layer processes input data to produce output.\n",
    "> - backward: Defines how the layer computes gradients during backpropagation.\n",
    "> - params: Optionally, a method to return the parameters of the layer (e.g., weights and biases).\n",
    "\n",
    "2. Derived Classes:\n",
    "> These are specific implementations of different types of layers (e.g., Linear, Convolution, Sigmoid).\n",
    "> Each derived class implements the methods defined in the base class according to the specific behavior of that layer type.\n",
    "\n",
    "**Benefits of Layer Abstraction**\n",
    "\n",
    "> 1. Modularity: Makes it easier to build, extend, and modify neural networks. Different types of layers can be added or replaced without changing the overall structure of the network.\n",
    "> 2. Reusability: Common functionality is encapsulated in the base class, reducing code duplication.\n",
    "> 3. Interchangeability: Layers can be interchanged or reordered in the network without affecting the rest of the code."
   ]
  },
  {
   "cell_type": "markdown",
   "id": "e8762800-9b02-4509-b719-e3d3c67811d7",
   "metadata": {},
   "source": [
    "## 1. Layer Class\n",
    "\n",
    "Let's break down the key components of this class:\n",
    "\n",
    "1. **Forward Method (forward)**\n",
    "\n",
    "> - Takes an input tensor and performs the forward pass computation specific to the layer.\n",
    "> - It should apply some function to its inputs and return the result.\n",
    "> - In the Layer class, this method is <u>defined as an abstract method</u>, meaning it must be implemented by subclasses.\n",
    "\n",
    "2. **Backward Method (backward)**\n",
    "\n",
    "> - This method takes a gradient tensor and performs the backward pass computation specific to the layer.\n",
    "> - It computes the gradient of the loss with respect to the layer's inputs.\n",
    "> - Similar to the forward method, it's defined as an abstract method in the Layer class and must be implemented by subclasses.\n",
    "\n",
    "3. **Parameters and Gradients (params and grads)**\n",
    "\n",
    "> - These methods are used to retrieve the parameters and gradients of the layer, respectively.\n",
    "> - Parameters represent the weights and biases of the layer that are learned during training.\n",
    "> - Gradients represent the gradients of the loss function with respect to the parameters, which are used in the optimization process (e.g., gradient descent).\n",
    "> - The default implementation of these methods returns an empty iterable, indicating that some layers may not have parameters to update.\n"
   ]
  },
  {
   "cell_type": "markdown",
   "id": "d6a25f2e-df0a-4d58-83a2-f03ba226eb5c",
   "metadata": {},
   "source": [
    "### class Layer:"
   ]
  },
  {
   "cell_type": "code",
   "execution_count": 18,
   "id": "e30bbd1d-1ad2-48f8-905f-cc7dea3c765c",
   "metadata": {},
   "outputs": [],
   "source": [
    "# Layer with only class attributes (4 methods only)\n",
    "\n",
    "from typing import Iterable, Tuple\n",
    "\n",
    "class Layer: \n",
    "    \"\"\"\n",
    "    Our neural networks will be composed of Layers, each of which\n",
    "    knows how to do some computation on its inputs in the \"forward\"\n",
    "    direction and propagate gradients in the \"backward\" direction.\n",
    "    \"\"\"\n",
    "    def forward(self, input):\n",
    "        \"\"\"\n",
    "        Note the lack of types. We're not going to be prescriptive\n",
    "        about what kinds of inputs layers can take and what kinds\n",
    "        of outputs they can return.\n",
    "        \"\"\"\n",
    "        raise NotImplementedError\n",
    "\n",
    "    def backward(self, gradient):\n",
    "        \"\"\"\n",
    "        Similarly, we're not going to be prescriptive about what the\n",
    "        gradient looks like. It's up to you the user to make sure\n",
    "        that you're doing things sensibly.\n",
    "        \"\"\"\n",
    "        raise NotImplementedError\n",
    "\n",
    "    def params(self) -> Iterable[Tensor]:\n",
    "        \"\"\"\n",
    "        Returns the parameters of this layer. The default implementation\n",
    "        returns nothing, so that if you have a layer with no parameters\n",
    "        you don't have to implement this.\n",
    "        \"\"\"\n",
    "        return ()\n",
    "        \n",
    "    def grads(self) -> Iterable[Tensor]:\n",
    "        \"\"\"\n",
    "        Returns the gradients, in the same order as params().\n",
    "        \"\"\"\n",
    "        return ()"
   ]
  },
  {
   "cell_type": "markdown",
   "id": "dee48f45-e4b3-4b32-9393-197c7510e43b",
   "metadata": {},
   "source": [
    "- When a method or function with raise **NotImplementedError** is called,\n",
    "> - it indicates that the functionality of that method or function has not been implemented in the current class\n",
    "> - and it serves as a reminder or signal to the programmer that they need to provide their own implementation in a subclass.\n",
    "\n",
    "- Some layers (for example, a layer that applies sigmoid to each of its inputs) have no parameters to update, so we provide a default implementation that handles that case.\n",
    "\n",
    "- The Sigmoid class provided as an example subclass of Layer\n",
    "> - It demonstrates how to implement the forward and backward methods for a specific type of layer (in this case, a sigmoid activation layer).\n",
    "> - It applies the sigmoid function element-wise to the input tensor during the forward pass and computes the gradient during the backward pass using the chain rule."
   ]
  },
  {
   "cell_type": "markdown",
   "id": "b3ac1a5c-d747-440f-8bbd-26d4f878bd38",
   "metadata": {},
   "source": [
    "### class Sigmoid(Layer):"
   ]
  },
  {
   "cell_type": "code",
   "execution_count": 19,
   "id": "c6be2316-0d09-4eed-be7d-097e84e27dcd",
   "metadata": {},
   "outputs": [],
   "source": [
    "# Sigmoid layer\n",
    "\n",
    "from scratch.neural_networks import sigmoid\n",
    "\n",
    "class Sigmoid(Layer):\n",
    "    def forward(self, input: Tensor) -> Tensor:\n",
    "        \"\"\"\n",
    "        Apply sigmoid to each element of the input tensor,\n",
    "        and save the results to use in backpropagation.\n",
    "        \"\"\"\n",
    "        self.sigmoids = tensor_apply(sigmoid, input)\n",
    "        return self.sigmoids\n",
    "\n",
    "    def backward(self, gradient: Tensor) -> Tensor:\n",
    "        return tensor_combine(lambda sig, grad: sig * (1-sig) * grad, \n",
    "                              self.sigmoids, \n",
    "                              gradient)\n",
    "\n",
    "# backward function represents gradient of loss function wrt inputs of sigmoid layer i.e. PD(L)/PD(z)\n",
    "# see derivation in Last chapter NN eq 10"
   ]
  },
  {
   "cell_type": "markdown",
   "id": "a941d44d-143b-4645-9bb4-15c2993d2cb3",
   "metadata": {},
   "source": [
    "- During the forward pass we saved the computed sigmoids so that we could use them later in the backward pass.\n",
    "- we were able to make use of the tensor_apply and the tensor_combine functions. Most of our layers will use these functions similarly."
   ]
  },
  {
   "cell_type": "markdown",
   "id": "640e4070-1c5f-450a-b6ff-de386b69e828",
   "metadata": {},
   "source": [
    "# 3. Linear Layer\n",
    "- To represent `dot(weights, inputs)` part of neurons.\n",
    "  \n",
    "- We need to initialize weights. But how?\n",
    "  \n",
    "- The initial parameter values can make a huge difference in how quickly (and sometimes whether) the network trains.\n",
    "> - If weights are too big, they may produce large outputs in a range where the activation function has near-zero gradients.\n",
    "> - And parts of the network that have zero gradients necessarily can’t learn anything via gradient descent.\n",
    "\n",
    "- Therefore, we will implement three different schemes for randomly generating our weight tensors.\n",
    "  > 1. Choose each value from the **random uniform distribution on [0, 1]—that is, as a random.random()**.\n",
    "  > 2. Choose each value randomly from a **standard normal distribution**.\n",
    "  > 3. Use **Xavier initialization**, where each weight is initialized with a random draw from a normal distribution with mean 0 and variance 2 / (num_inputs + num_outputs).  \n",
    "  > - It turns out this often works nicely for neural network weights.  \n",
    "  > - We’ll implement these with a random_uniform function and a random_normal function. "
   ]
  },
  {
   "cell_type": "markdown",
   "id": "65c4e349-d4bf-417e-be7c-7628b52651c3",
   "metadata": {},
   "source": [
    "## 1. Random weight generating function"
   ]
  },
  {
   "cell_type": "markdown",
   "id": "09518f56-1d4d-46ca-b860-c66108bbadc5",
   "metadata": {},
   "source": [
    "### (a) random_uniform(*dims) -> Tensor:"
   ]
  },
  {
   "cell_type": "code",
   "execution_count": 20,
   "id": "9993f5b8-6810-4b6d-b9c4-f56980a046a8",
   "metadata": {},
   "outputs": [],
   "source": [
    "import random\n",
    "\n",
    "from scratch.probability import inverse_normal_cdf\n",
    "\n",
    "def random_uniform(*dims: int) -> Tensor: # *dim is args(arbitrary positional arguments)\n",
    "    if len(dims) == 1:\n",
    "        return [random.random() for _ in range(dims[0])]\n",
    "    else:\n",
    "        return [random_uniform(*dims[1:]) for _ in range(dims[0])]"
   ]
  },
  {
   "cell_type": "markdown",
   "id": "b43c923a-a24d-431a-8bc8-c8cc80588745",
   "metadata": {},
   "source": [
    "### (b) random_normal(*dims, mean, variance) -> Tensor:"
   ]
  },
  {
   "cell_type": "code",
   "execution_count": 21,
   "id": "16164bf0-b8a0-46db-8a34-29165ffb6b03",
   "metadata": {},
   "outputs": [],
   "source": [
    "def random_normal(*dims: int, mean: float = 0.0, variance: float = 1.0) -> Tensor:\n",
    "    if len(dims) == 1:\n",
    "        # return_value = [mean + variance * inverse_normal_cdf(random.random())\n",
    "                # for _ in range(dims[0])]\n",
    "        # print(return_value)\n",
    "        # return return_value\n",
    "        return [mean + variance * inverse_normal_cdf(random.random())\n",
    "                for _ in range(dims[0])]\n",
    "    else:\n",
    "        return [random_normal(*dims[1:], mean = mean, variance = variance)\n",
    "                for _ in range(dims[0])]\n"
   ]
  },
  {
   "cell_type": "code",
   "execution_count": 22,
   "id": "5c09dd7a-ebf7-498b-9ac2-b12b986a0e3f",
   "metadata": {},
   "outputs": [
    {
     "data": {
      "text/plain": [
       "[[0.47514915466308594, -0.9523296356201172],\n",
       " [-2.233877182006836, 0.8951282501220703],\n",
       " [-1.370382308959961, -0.4358196258544922]]"
      ]
     },
     "execution_count": 22,
     "metadata": {},
     "output_type": "execute_result"
    }
   ],
   "source": [
    "# Example\n",
    "\n",
    "# random weight generation for 1D tensor with 5 elements\n",
    "random_normal(3,2)"
   ]
  },
  {
   "cell_type": "code",
   "execution_count": 23,
   "id": "5365a805-e274-410a-b6a4-b161c7a51dca",
   "metadata": {},
   "outputs": [
    {
     "data": {
      "text/plain": [
       "[-0.9971904754638672, 0.6661891937255859]"
      ]
     },
     "execution_count": 23,
     "metadata": {},
     "output_type": "execute_result"
    }
   ],
   "source": [
    "# Example\n",
    "\n",
    "# random weight generation for 3D tensor with 2x5 elements \n",
    "\n",
    "random_normal(2)"
   ]
  },
  {
   "cell_type": "code",
   "execution_count": 24,
   "id": "e236a89f-290d-4172-93a0-809376118f8e",
   "metadata": {},
   "outputs": [],
   "source": [
    "assert shape(random_uniform(2, 3, 4)) == [2, 3, 4]\n",
    "assert shape(random_normal(5, 6, mean=10)) == [5, 6]"
   ]
  },
  {
   "cell_type": "markdown",
   "id": "065544f1-0a64-4b14-8988-b80d12e881f7",
   "metadata": {},
   "source": [
    "- Let's wrap the random value tensor generating functions into one function. "
   ]
  },
  {
   "cell_type": "markdown",
   "id": "22569b9e-46de-4f3f-b57d-9123f1b189e8",
   "metadata": {},
   "source": [
    "### (c) random_tensor(*dims, init) -> Tensor"
   ]
  },
  {
   "cell_type": "code",
   "execution_count": 25,
   "id": "a52e4d87-c626-4835-8965-bdb488456c22",
   "metadata": {},
   "outputs": [
    {
     "data": {
      "text/plain": [
       "[[-0.6316184997558594, -0.14161300659179688, 0.019535064697265625],\n",
       " [0.5867958068847656, -0.13249588012695312, 0.2782325744628906]]"
      ]
     },
     "execution_count": 25,
     "metadata": {},
     "output_type": "execute_result"
    }
   ],
   "source": [
    "def random_tensor(*dims: int, init: str = 'normal') -> Tensor:\n",
    "    if init == 'uniform':\n",
    "        return random_uniform(*dims)\n",
    "    elif init == 'normal':\n",
    "        return random_normal(*dims)\n",
    "    elif init == 'xavier':\n",
    "        variance = len(dims)/sum(dims)\n",
    "        # print(variance)\n",
    "        return random_normal(*dims, variance= variance)\n",
    "    else:\n",
    "        raise ValueError(f\"unknown init: {init}\")\n",
    "\n",
    "random_tensor(2,3,init='xavier')"
   ]
  },
  {
   "cell_type": "markdown",
   "id": "c6ef9aa2-fa6b-45c2-8a2e-10ff558c4068",
   "metadata": {},
   "source": [
    "## 2. Define linear layer class\n",
    "- Provide dimensions of input and output\n",
    "- Initialize weights with whichever scheme we want\n",
    "\n",
    "### Implement Forward pass\n",
    "- For each neuron do: <u>dot(input, w[o]) + bias</u>\n",
    "- Stick all outputs in a vector\n",
    "\n",
    "### Implement Backward pass\n",
    "- Things to understand using calculus:\n",
    "\n",
    "1. <u>Gradient of the bias</u> is the same as the <u>Gradient of the output</u>\n",
    "\n",
    "> - From forward pass for a single neuron, \n",
    "$$\n",
    "output = wx + b \n",
    "$$\n",
    "\n",
    "> - During backpropagation we calculate gradient of Loss function wrt output of neuron:\n",
    "$$\n",
    "\\frac{\\partial \\text{loss}}{\\partial \\text{output}} = \\text{gradient}\n",
    "$$\n",
    "> The gradient of the loss function with respect to the bias \\( b \\) is:\n",
    "$$\n",
    "\\frac{\\partial \\text{loss}}{\\partial b} = \\frac{\\partial \\text{loss}}{\\partial \\text{output}} \\cdot \\frac{\\partial \\text{output}}{\\partial b}\n",
    "$$\n",
    "\n",
    "> Since, $\\text{output} = x + b$, the partial derivative $ \\frac{\\partial \\text{output}}{\\partial b} $ is 1. Thus:\n",
    "$$\n",
    "\\frac{\\partial \\text{loss}}{\\partial b} = \\text{gradient} \\cdot 1 = \\text{gradient}\n",
    "$$\n",
    "\n",
    "- Therefore, the gradient of the bias is the same as the gradient of the output.\n",
    "\n",
    "2. Remember what we are calculating in backward pass\n",
    "   > 1. First calculate gradient of L wrt output\n",
    "   > 2. Using that find gradients of L wrt all weights which will be\n",
    "   >    $$gradient\\_wrt\\_weight = input * gradinet\\_wrt\\_o/p$$\n",
    "   > 3. Find gradient of inputs which will be new gradients of output for next layer (backward)\n",
    "   > 4. Again find the gradients wrt weights of this new layer and so on..\n",
    "\n",
    "3. After finding all gradients wrt weights, find new weights.\n",
    "   >$$new\\_weight = weight - learning\\_rate * gradient\\_wrt\\_weight$$\n",
    "   > Now for each epoch repeat the same.\n",
    "\n",
    "- In a “real” tensor library, these (and many other) operations would be represented as matrix or tensor multiplications, which those libraries are designed to do very quickly. Our library is very slow.\n",
    "\n",
    "### Implement parameters and gradients"
   ]
  },
  {
   "cell_type": "markdown",
   "id": "5f7f8f8e-5078-46f0-8e5a-a83ee00dfcc2",
   "metadata": {},
   "source": [
    "### class Linear(Layer):"
   ]
  },
  {
   "cell_type": "code",
   "execution_count": 26,
   "id": "3938a8e9-c89e-43bf-95b4-8b2d3b35a2b4",
   "metadata": {},
   "outputs": [],
   "source": [
    "from scratch.linear_algebra import dot\n",
    "\n",
    "class Linear(Layer):\n",
    "    def __init__(self,\n",
    "               input_dim: int,\n",
    "               output_dim: int, \n",
    "               init: str = 'xavier') -> None:\n",
    "        \"\"\"\n",
    "        A layer of output_dim neurons, each with input_dim weights (and a bias)\n",
    "        \"\"\"\n",
    "        self.input_dim = input_dim\n",
    "        self.output_dim = output_dim\n",
    "\n",
    "        # self.w[o] is weights of oth neuron of the layer\n",
    "        self.w = random_tensor(output_dim, input_dim, init = init)\n",
    "\n",
    "        # self.b[o] is the bias term for the oth neuron\n",
    "        self.b = random_tensor(output_dim, init=init)\n",
    "\n",
    "    def forward(self, input: Tensor) -> Tensor:\n",
    "        # Save inputs to use in backward pass\n",
    "        self.input = input\n",
    "\n",
    "        # Return vector of neuron outputs\n",
    "        return [dot(input, self.w[o]) + self.b[o] \n",
    "                for o in range(self.output_dim)]\n",
    "    \n",
    "    def backward(self, gradient: Tensor) -> Tensor:\n",
    "        # gradient = gradient of L wrt output = gradient of L wrt bias\n",
    "        self.b_grad = gradient\n",
    "    \n",
    "        # gradient wrt wights = input x gradient wrt output\n",
    "        self.w_grad = [[self.input[i] * gradient[o] \n",
    "                        for i in range(self.input_dim)]\n",
    "                       for o in range(self.output_dim)]\n",
    "        return [sum(self.w[o][i] * gradient[o] for o in range(self.output_dim))\n",
    "                for i in range(self.input_dim)]\n",
    "\n",
    "    def params(self) -> Iterable[Tensor]:\n",
    "        return [self.w, self.b]\n",
    "\n",
    "    def grads(self) -> Iterable[Tensor]:\n",
    "        return [self.w_grad, self.b_grad]"
   ]
  },
  {
   "cell_type": "markdown",
   "id": "f4549494-23ca-4ec5-971f-4d39d2f6d729",
   "metadata": {},
   "source": [
    "# 4. Neural Networks as a Sequence of Layers\n"
   ]
  },
  {
   "cell_type": "markdown",
   "id": "02846e39-6bd7-4fe3-9201-36ab1733281e",
   "metadata": {},
   "source": [
    "### class Sequential(Layer):"
   ]
  },
  {
   "cell_type": "code",
   "execution_count": 27,
   "id": "55988e56-16ab-4080-afa6-5054c566e805",
   "metadata": {},
   "outputs": [],
   "source": [
    "from typing import List\n",
    "\n",
    "class Sequential(Layer):\n",
    "    \"\"\"\n",
    "    A layer consisting of a sequence of other layers.\n",
    "    It's up to you to make sure that the output of each layer\n",
    "    makes sense as the input to the next layer.\n",
    "    \"\"\"\n",
    "    def __init__(self, layers: List[Layer]) -> None:\n",
    "        self.layers = layers\n",
    "\n",
    "    def forward(self, input):\n",
    "        \"\"\"Just forward the input through the layers in order.\"\"\"\n",
    "        for layer in self.layers:\n",
    "            input = layer.forward(input)\n",
    "        return input\n",
    "\n",
    "    def backward(self, gradient):\n",
    "        \"\"\"Just backpropagate the gradient through the layers in reverse.\"\"\"\n",
    "        for layer in reversed(self.layers):\n",
    "            gradient = layer.backward(gradient)\n",
    "        return gradient\n",
    "\n",
    "    def params(self) -> Iterable[Tensor]:\n",
    "        \"\"\"Just return the params from each layer.\"\"\"\n",
    "        return (param for layer in self.layers for param in layer.params())\n",
    "   \n",
    "    def grads(self) -> Iterable[Tensor]:\n",
    "        \"\"\"Just return the grads from each layer.\"\"\"\n",
    "        return (grad for layer in self.layers for grad in layer.grads())"
   ]
  },
  {
   "cell_type": "code",
   "execution_count": 28,
   "id": "a518292d-aa5a-4a02-ab45-26ac427d3ac5",
   "metadata": {},
   "outputs": [],
   "source": [
    "# So we could represent the neural network we used for XOR as:\n",
    "\n",
    "xor_net = Sequential([Linear(input_dim = 2, output_dim = 2),\n",
    "                      Sigmoid(),\n",
    "                      Linear(input_dim = 2, output_dim =1),\n",
    "                      Sigmoid()])"
   ]
  },
  {
   "cell_type": "markdown",
   "id": "ee10b232-dfcb-4189-9e55-f0f4863fbc3a",
   "metadata": {},
   "source": [
    "- but we need more machinery to train it."
   ]
  },
  {
   "cell_type": "markdown",
   "id": "d3fe4a1b-ef77-46ed-b3fa-e37759940265",
   "metadata": {},
   "source": [
    "# 5. Loss and Optimization"
   ]
  },
  {
   "cell_type": "markdown",
   "id": "9faa442c-ffda-4be2-9d45-221d56e19c47",
   "metadata": {},
   "source": [
    "- We will experiment with different loss functions\n",
    "- Thus, we will create a new Loss abstraction that encapsulate both -\n",
    "> 1. Loss computation\n",
    "> 2. Gradient computation"
   ]
  },
  {
   "cell_type": "markdown",
   "id": "9021ead4-d458-4f7e-a359-dca3b0322d63",
   "metadata": {},
   "source": [
    "## class Loss:"
   ]
  },
  {
   "cell_type": "code",
   "execution_count": 29,
   "id": "4728e677-97a8-4e29-b4f0-b8cc037a93c0",
   "metadata": {},
   "outputs": [],
   "source": [
    "class Loss:\n",
    "    def loss(self, predicted: Tensor, actual: Tensor) -> float:\n",
    "        \"\"\"\n",
    "        How good are our predictions? (Larger numbers are worse.)\n",
    "        \"\"\"\n",
    "        raise NotImplementedError\n",
    "\n",
    "    def gradient(self, predicted: Tensor, actual: Tensor) -> Tensor:\n",
    "        \"\"\"\n",
    "        How does the loss change as the predictions change?\n",
    "        \"\"\"\n",
    "        raise NotImplementedError"
   ]
  },
  {
   "cell_type": "markdown",
   "id": "18fcc7ca-22da-4b2f-a314-2d04033d2146",
   "metadata": {},
   "source": [
    "## class SSE(Loss):"
   ]
  },
  {
   "cell_type": "code",
   "execution_count": 30,
   "id": "10aa450a-7f92-4a61-a0c4-c1ca3119d102",
   "metadata": {},
   "outputs": [],
   "source": [
    "class SSE(Loss):\n",
    "    \"\"\"\n",
    "    Loss function that computes the sum of the squared errors.\n",
    "    \"\"\"\n",
    "    def loss(self, predicted: Tensor, actual: Tensor) -> float:    \n",
    "        squared_errors = tensor_combine( lambda predicted, actual: (predicted-actual)**2, predicted , actual)\n",
    "        return tensor_sum(squared_errors)\n",
    "    def gradient(self, predicted: Tensor, actual: Tensor) -> Tensor:\n",
    "        return tensor_combine(lambda predicted, actual: 2 * (predicted - actual),\n",
    "                              predicted,\n",
    "                              actual)"
   ]
  },
  {
   "cell_type": "markdown",
   "id": "5ea8a0a8-74a8-4296-aa15-7a8038ee2156",
   "metadata": {},
   "source": [
    "- In all previous ML methods we find gradient descent manually by training a loop with:\n",
    "$$\n",
    "  theta = gradient\\_step(theta, grad, -learning\\_rate)\n",
    "  $$\n",
    "\n",
    "- But now we will use <u>Optimizer abstraction</u> of which gradient descent will be one instance. Why?\n",
    "  > 1. Our Neural nets will have many parameters and we will need to update all of them.\n",
    "  > 2. We would like to use more clever variants of gradient descent."
   ]
  },
  {
   "cell_type": "markdown",
   "id": "99da0e9d-3ec8-4438-b0e5-6e18a14f7576",
   "metadata": {},
   "source": [
    "## class Optimizer:"
   ]
  },
  {
   "cell_type": "markdown",
   "id": "3663734b-f95f-44d3-9e3d-1abdc392da5a",
   "metadata": {},
   "source": [
    "- By defining Optimizer abstraction, we can easily switch between our different optimizers."
   ]
  },
  {
   "cell_type": "code",
   "execution_count": 31,
   "id": "f58b192a-7550-44d8-a324-1b3d9dd6ae98",
   "metadata": {},
   "outputs": [],
   "source": [
    "class Optimizer:\n",
    "    \"\"\"\n",
    "    An optimizer updates the weights of a layer (in place) using information\n",
    "    known by either the layer or the optimizer (or by both).\n",
    "    \"\"\"\n",
    "    def step(self, layer: Layer) -> None:\n",
    "        raise NotImplementedError"
   ]
  },
  {
   "cell_type": "markdown",
   "id": "2661ccdb-edcb-497d-8d6d-0a0c8339c730",
   "metadata": {},
   "source": [
    "### (a). class GradientDescent(Optimizer):"
   ]
  },
  {
   "cell_type": "code",
   "execution_count": 32,
   "id": "f5464049-e61a-4407-b958-1833b94035d8",
   "metadata": {},
   "outputs": [],
   "source": [
    "# Now let's implement gradient descent\n",
    "class GradientDescent(Optimizer):\n",
    "    def __init__(self, learning_rate: float = 0.1) -> None:\n",
    "        self.lr = learning_rate\n",
    "\n",
    "    def step(self, layer: Layer) -> None:\n",
    "        for param, grad in zip(layer.params(), layer.grads()):\n",
    "            # Update param using a gradient step\n",
    "            param[:] = tensor_combine(lambda param, grad: param - (grad * self.lr), param, grad)"
   ]
  },
  {
   "cell_type": "markdown",
   "id": "af25476c-63d4-48ba-80fa-390e0e9a2053",
   "metadata": {},
   "source": [
    "#### Slice assignment in param[:]\n",
    "  > - It is a reflection of the fact that reassigning a list doesn’t change its original value.\n",
    "  > - That is, if you just did param = tensor_combine(. . .), you would be redefining the local variable param, but you would not be affecting the original parameter tensor stored in the layer.\n",
    "  > - If you assign to the slice [:], however, it actually changes the values inside the list."
   ]
  },
  {
   "cell_type": "code",
   "execution_count": 33,
   "id": "90bd712d-fb7a-41f4-a4b0-16030c61d462",
   "metadata": {},
   "outputs": [],
   "source": [
    "# Example of slice[:]\n",
    "\n",
    "tensor = [[1,2], [3,4]]\n",
    "\n",
    "for row in tensor:\n",
    "    row = [0,0]\n",
    "assert tensor == [[1,2], [3,4]], \"assignment doesn't update a list\"\n",
    "\n",
    "for row in tensor:\n",
    "    row[:] = [0,0]\n",
    "assert tensor == [[0, 0], [0, 0]], \"but slice assignment does\"\n",
    "\n",
    "for row in tensor:\n",
    "    row[0] = 1\n",
    "    row[1] = 1\n",
    "assert tensor == [[1, 1], [1, 1]], \"element wise updation is possible\""
   ]
  },
  {
   "cell_type": "markdown",
   "id": "2fa079ac-ebd3-4035-844a-c63946c4d572",
   "metadata": {},
   "source": [
    "### (b). class Momentum(Optimizer):\n",
    "\n",
    "- The momentum optimizer is a variant of gradient descent \n",
    "- It accelerates convergence by <u>adding a fraction of the previous update to the current update.</u>\n",
    "- This helps smooth out the optimization path and can help escape local minima or poorly conditioned regions of the loss surface.\n",
    "\n",
    "- Momentum Term\n",
    "> - The idea is to maintain a velocity vector (update) that is a running average of past gradients.\n",
    "> - This velocity is used to update the parameters.\n",
    "\n",
    "- Update Rule:\n",
    "\n",
    ">**The velocity update:** \n",
    ">$$v_t = \\beta v_{t-1} + (1 - \\beta) \\nabla J(\\theta)$$\n",
    "\n",
    ">**The parameter update:** \n",
    "$$\n",
    "\\theta = \\theta - \\alpha v_t\n",
    "$$\n",
    "\n",
    ">Here, \n",
    ">- $\\beta$ is the momentum coefficient (usually between 0.8 and 0.99), \n",
    ">- $\\alpha$ is the learning rate, \n",
    ">- $v_t$ is the current velocity, and \n",
    ">- $\\nabla J(\\theta)$ is the gradient of the loss function with respect to $\\theta$\n"
   ]
  },
  {
   "cell_type": "code",
   "execution_count": 34,
   "id": "553c610c-678e-46b1-9e20-bac3bf9f0921",
   "metadata": {},
   "outputs": [],
   "source": [
    "class Momentum(Optimizer):\n",
    "    def __init__(self, \n",
    "                 learning_rate: float, \n",
    "                 momentum: float = 0.9) -> None:\n",
    "        self.lr = learning_rate\n",
    "        self.mo = momentum\n",
    "        self.updates: List[Tensor] = []  #running velocity update\n",
    "\n",
    "    def step(self, layer: Layer) -> None:\n",
    "        # If we have no previous updates, start with all zeros\n",
    "        if not self.updates:\n",
    "            self.updates = [zeros_like(grad) for grad in layer.grads()]\n",
    "\n",
    "        for update, param, grad in zip(self.updates, \n",
    "                                       layer.params(), \n",
    "                                       layer.grads()):\n",
    "            # Apply momentum\n",
    "            update[:] = tensor_combine(lambda u, g: (self.mo * u) + (1 - self.mo) * g,\n",
    "                                       update,\n",
    "                                       grad)\n",
    "            # Apply gradient step\n",
    "            param[:] = tensor_combine(lambda p, u: p - (self.lr * u), \n",
    "                                      param, update)"
   ]
  },
  {
   "cell_type": "markdown",
   "id": "276ba39e-54fb-474b-b88b-cfbc0d661545",
   "metadata": {},
   "source": [
    "# 6. XOR Revisited\n",
    "\n",
    "- Let's train a network that can compute XOR\n",
    "- We will use following class structure"
   ]
  },
  {
   "cell_type": "code",
   "execution_count": 35,
   "id": "a0b4294b-711a-4d10-9935-6a8f3541bf19",
   "metadata": {},
   "outputs": [
    {
     "name": "stderr",
     "output_type": "stream",
     "text": [
      "100%|████████████████████████████████████| 3000/3000 [00:00<00:00, 21018.43it/s]\n"
     ]
    }
   ],
   "source": [
    "# 1. Training data\n",
    "xs = [[0., 0], [0., 1], [1., 0], [1., 1]]\n",
    "ys = [[0.], [1.], [1.], [0.]]\n",
    "\n",
    "# 2. Define network\n",
    "\n",
    "random.seed(0)\n",
    "\n",
    "net = Sequential([Linear(input_dim = 2, output_dim =2),\n",
    "                  Sigmoid(),\n",
    "                  Linear(input_dim = 2, output_dim = 1)\n",
    "                 ])\n",
    "\n",
    "# 3. Training loop\n",
    "\n",
    "import tqdm\n",
    "\n",
    "optimizer = GradientDescent(learning_rate=0.1)\n",
    "loss = SSE()\n",
    "\n",
    "with tqdm.trange(3000) as t:\n",
    "    for epoch in t:\n",
    "        epoch_loss = 0.0\n",
    "        \n",
    "        for x,y in zip(xs,ys):\n",
    "            predicted = net.forward(x)\n",
    "            epoch_loss +=loss.loss(predicted,y)\n",
    "            gradient = loss.gradient(predicted, y)\n",
    "            net.backward(gradient)\n",
    "            optimizer.step(net)\n",
    "    t.set_description(f\"xor loss {epoch_loss: .3f}\")"
   ]
  },
  {
   "cell_type": "code",
   "execution_count": 36,
   "id": "d7a9b884-3b8f-4ada-8d24-c03f4d67d97a",
   "metadata": {},
   "outputs": [
    {
     "name": "stdout",
     "output_type": "stream",
     "text": [
      "[[-1.6425160695224084, -1.4948117798303138], [-4.567646572029665, -3.364917635073193]]\n",
      "[1.76737168232552, 0.38727014379472496]\n",
      "[[3.198620479170403, -3.5018030621426184]]\n",
      "[-0.6462765963362236]\n"
     ]
    }
   ],
   "source": [
    "for param in net.params():\n",
    "    print(param)"
   ]
  },
  {
   "cell_type": "code",
   "execution_count": 37,
   "id": "ab3d35a8-eef9-4a39-a4fb-5458bdc657eb",
   "metadata": {},
   "outputs": [],
   "source": [
    "#Let's check results\n",
    "assert net.forward([0,0]) < [0.001] \n",
    "assert net.forward([0,1]) > [0.999]\n",
    "assert net.forward([1,0]) > [0.999]\n",
    "assert net.forward([1,1]) < [0.001]"
   ]
  },
  {
   "cell_type": "markdown",
   "id": "ec7345f0-f2ff-4fee-b375-5f18faaa30a1",
   "metadata": {},
   "source": [
    "# 7. Other Activation functions\n",
    "\n",
    "**Problem with Sigmoid function**\n",
    "\n",
    "1. sigmoid(0) = 1/2\n",
    "   > - means that a neuron whose inputs sum to 0 has a positive output.\n",
    "2. Gradient of sigmoid = sigmoid * (1-sigmoid)\n",
    "   > - <u>Its gradient is very close to 0 for very large and very small inputs</u>\n",
    "   > - Weights will thus update very tiny and get stuck\n",
    "   > - This will slows down the training process significantly or even halts it, as the learning effectively stops.\n",
    "\n",
    "**Other Activation functions**\n",
    "\n",
    "## 1. tanh (\"hyperbolic tangent\") activation function\n",
    "\n",
    "- Different sigmoid-shaped function\n",
    "- Output ranges from (-1 to 1) with y = 0 at x = 0\n",
    "- Equation:\n",
    "$$\n",
    "\\tanh(x) = \\frac{e^x - e^{-x}}{e^x + e^{-x}} = \\frac{1-e^{-2x}}{1+e^{-2x}}\n",
    "$$\n",
    "- Derivative:\n",
    "\n",
    "$$\n",
    "\\frac{d}{dx}\\tanh(x) = 1- tanh^{2}(x)\n",
    "$$\n",
    "\n",
    "- Plot:"
   ]
  },
  {
   "cell_type": "code",
   "execution_count": 38,
   "id": "9ac1d26d-cc2b-40fc-88ae-da1b6afb1043",
   "metadata": {},
   "outputs": [
    {
     "data": {
      "image/png": "[encoded data removed]",
      "text/plain": [
       "<Figure size 640x480 with 1 Axes>"
      ]
     },
     "metadata": {},
     "output_type": "display_data"
    }
   ],
   "source": [
    "import math\n",
    "from matplotlib import pyplot as plt\n",
    "x = [i/10 for i in range(-100,100)]\n",
    "y = [math.tanh(i) for i in x]\n",
    "\n",
    "plt.plot(x, y)\n",
    "plt.xlabel('x')\n",
    "plt.ylabel('tanh(x)')\n",
    "plt.xlim([-10,10])\n",
    "plt.title('tanh function')\n",
    "plt.show()"
   ]
  },
  {
   "cell_type": "markdown",
   "id": "d0920bb3-bbef-4814-a882-a7f866c9dd31",
   "metadata": {},
   "source": [
    "### tanh function\n",
    "- Let's define - \"Tanh activation layer class\" derived from base class - \"Layer\""
   ]
  },
  {
   "cell_type": "code",
   "execution_count": 39,
   "id": "91bca7bf-ee25-4d5b-a259-ea4a4ef9104b",
   "metadata": {},
   "outputs": [],
   "source": [
    "# define tanh\n",
    "\n",
    "import math\n",
    "def tanh(x: float) -> float:\n",
    "    # If x is very large or very small, tanh is (essentially) 1 or -1.\n",
    "    # We check for this because, e.g., math.exp(1000) raises an error.\n",
    "    if x < -100:\n",
    "        return -1\n",
    "    elif x > 100:\n",
    "        return 1\n",
    "\n",
    "    em2x = math.exp(-2*x)\n",
    "    return (1 - em2x)/(1+ em2x)"
   ]
  },
  {
   "cell_type": "markdown",
   "id": "2b35fdbd-6b95-4afa-af4e-c1a8f198dd9e",
   "metadata": {},
   "source": [
    "### class Tanh(Layer):"
   ]
  },
  {
   "cell_type": "code",
   "execution_count": 40,
   "id": "fcaecca8-8ef5-4221-84e4-b8a14efb166e",
   "metadata": {},
   "outputs": [],
   "source": [
    "class Tanh(Layer):\n",
    "    def forward(self, input: Tensor) -> Tensor:\n",
    "        # Save tanh output to use in backward pass\n",
    "        self.tanh = tensor_apply(tanh, input)\n",
    "        return self.tanh\n",
    "\n",
    "    def backward(self, gradient: Tensor) -> Tensor:\n",
    "        return tensor_combine(lambda tanh, grad: (1 - tanh ** 2) * grad, self.tanh, gradient)"
   ]
  },
  {
   "cell_type": "markdown",
   "id": "36ff68b1-2c27-4c57-8c2c-d03efcdb9781",
   "metadata": {},
   "source": [
    "## 2. Relu Activation function\n",
    "- In larger networks another popular replacement is Relu, which is <u>0 for negative inputs</u> and the <u>identity for positive inputs</u>:\n",
    "\n",
    "- Relu function:\n",
    "$$  f(x) = max(0,x) = \n",
    "\\begin{cases}\n",
    "0, \\text{if} \\ x <= 0 \\\\\n",
    "x, \\text{if} \\ x > 0\n",
    "\\end{cases}\n",
    "$$\n",
    " \n",
    "- Derivative:\n",
    "$$\n",
    "\\frac{d}{dx}f(x) =\n",
    "\\begin{cases}\n",
    "0, \\text{if} \\ x <= 0 \\\\\n",
    "1, \\text{if} \\ x > 0\n",
    "\\end{cases}\n",
    "$$"
   ]
  },
  {
   "cell_type": "code",
   "execution_count": 41,
   "id": "f4a37451-0795-4507-b72d-926250620ccf",
   "metadata": {},
   "outputs": [
    {
     "data": {
      "image/png": "[encoded data removed]",
      "text/plain": [
       "<Figure size 640x480 with 1 Axes>"
      ]
     },
     "metadata": {},
     "output_type": "display_data"
    }
   ],
   "source": [
    "x = [i for i in range(-10,10)]\n",
    "y = [0 if i < 0 else i for i in x]\n",
    "plt.plot(x,y)\n",
    "plt.xlabel('x')\n",
    "plt.ylabel('f(x)')\n",
    "plt.title('Relu function')\n",
    "plt.show()"
   ]
  },
  {
   "cell_type": "markdown",
   "id": "9fc39884-a6cb-402c-8eeb-7453442b78bd",
   "metadata": {},
   "source": [
    "### class Relu(Layer):"
   ]
  },
  {
   "cell_type": "code",
   "execution_count": 42,
   "id": "b76e74b1-b2cb-41a7-a03d-fc2f95e6e64b",
   "metadata": {},
   "outputs": [],
   "source": [
    "class Relu(Layer):\n",
    "    def forward(self, input: Tensor) -> Tensor:\n",
    "        self.input = input\n",
    "        return tensor_apply(lambda x: max(x, 0), input)\n",
    "        \n",
    "    def backward(self, gradient: Tensor) -> Tensor:\n",
    "        return tensor_combine(lambda x, grad: grad if x > 0 else 0,\n",
    "                              self.input,\n",
    "                              gradient)"
   ]
  },
  {
   "cell_type": "markdown",
   "id": "85ce615a-561c-4be9-831a-30336ad1b796",
   "metadata": {},
   "source": [
    "# 8. Example: FizzBuzz Revisited\n",
    "\n",
    "Fizz Buzz problem\n",
    ">- Print the numbers 1 to 100, except that if the number is divisible by 3, print \"fizz\";\n",
    ">- if the number is divisible by 5, print \"buzz\";\n",
    ">- and if the number is divisible by 15, print \"fizzbuzz\"."
   ]
  },
  {
   "cell_type": "code",
   "execution_count": 43,
   "id": "a42aac6d-5c4b-47f2-98ee-32674a0fcded",
   "metadata": {},
   "outputs": [
    {
     "name": "stderr",
     "output_type": "stream",
     "text": [
      "100%|█████████████████████████████████████████| 100/100 [00:13<00:00,  7.69it/s]"
     ]
    },
    {
     "name": "stdout",
     "output_type": "stream",
     "text": [
      "test results 0.57\n"
     ]
    },
    {
     "name": "stderr",
     "output_type": "stream",
     "text": [
      "\n"
     ]
    }
   ],
   "source": [
    "from scratch.neural_networks import binary_encode, fizz_buzz_encode, argmax\n",
    "import random\n",
    "\n",
    "xs = [binary_encode(i) for i in range(101, 1024)]    # inputs\n",
    "ys = [fizz_buzz_encode(i) for i in range(101, 1024)] # outputs\n",
    "\n",
    "# number of neurons in a hidden layer\n",
    "NUM_HIDDEN = 25\n",
    "\n",
    "random.seed(0)\n",
    "\n",
    "net = Sequential([Linear(input_dim=10, output_dim=NUM_HIDDEN, init = 'uniform'),\n",
    "                  Tanh(),\n",
    "                  Linear(input_dim=NUM_HIDDEN, output_dim=4, init = 'uniform'),\n",
    "                  Sigmoid()])\n",
    "\n",
    "# Track Accuracy on training set\n",
    "\n",
    "def fizzbuzz_accuracy(low: int, hi: int, net: Layer) -> float:\n",
    "    num_correct = 0\n",
    "    for n in range(low, hi):\n",
    "        x = binary_encode(n)\n",
    "        predicted = argmax(net.forward(x))\n",
    "        actual = argmax(fizz_buzz_encode(n))\n",
    "        if predicted == actual:\n",
    "            num_correct += 1\n",
    "\n",
    "    return num_correct/(hi-low)\n",
    "\n",
    "optimizer = Momentum(learning_rate=0.1, momentum=0.9)\n",
    "loss = SSE()\n",
    "\n",
    "with tqdm.trange(100) as t:\n",
    "    for epoch in t:\n",
    "        epoch_loss = 0.0\n",
    "\n",
    "        for x, y in zip(xs, ys):\n",
    "            predicted = net.forward(x)\n",
    "            epoch_loss += loss.loss(predicted, y)\n",
    "            gradient = loss.gradient(predicted, y)\n",
    "            net.backward(gradient)\n",
    "\n",
    "            optimizer.step(net)\n",
    "\n",
    "    accuracy = fizzbuzz_accuracy(101, 1024, net)\n",
    "    t.set_description(f\"fb loss: {epoch_loss:.2f} acc: {accuracy:.2f}\")\n",
    "\n",
    "# Now check results on the test set\n",
    "print(\"test results\", fizzbuzz_accuracy(1, 101, net))"
   ]
  },
  {
   "cell_type": "markdown",
   "id": "a47bdcc6-392b-4fe6-99f1-45dd5f7b4fcb",
   "metadata": {},
   "source": [
    "- After 1,000 training iterations, the model gets 90% accuracy on the test set.\n",
    "- If you keep training it longer, it should do even better.\n",
    "- I don’t think it’s possible to train to 100% accuracy with only 25 hidden units, but it’s definitely possible if you go up to 50 hidden units."
   ]
  },
  {
   "cell_type": "markdown",
   "id": "5d082499-d085-4f93-833e-b614bd2af087",
   "metadata": {},
   "source": [
    "# 9. Softmaxes and Cross-Entropy\n",
    "\n",
    "## Overview\n",
    ">- When working with classification problems, it's common to use a softmax activation function at the output layer to convert the raw output scores (logits) into probabilities.\n",
    ">- This is followed by the cross-entropy loss function to evaluate the model's performance.\n",
    "\n",
    "## Sigmoid vs. Softmax activation\n",
    "- **Sigmoid**:\n",
    "> - Outputs numbers between 0 and 1.\n",
    "> - The sum of outputs doesn't necessarily equal 1.\n",
    "> - It can result in ambiguous predictions where the model is unsure about the class.\n",
    "\n",
    "## (a) Softmax Activation function\n",
    "> - Converts vector of real numbers into vector of probabilities.\n",
    "> - The sum of probabilities is 1, making it easier to interpret the output.\n",
    "\n",
    "> - Softmax Function: \n",
    "$$ y_{i\\_pred} = \\text{softmax}(z_i) = \\frac{e^{z_i}}{\\sum_{j} e^{z_j}} $$\n",
    "\n",
    "> 1. **Compute exponentials**: Convert each logit to its exponential value.\n",
    "> 2. **Normalize**: Divide each exponential by the sum of all exponentials to get probabilities.\n",
    "\n",
    "- If we ever end up trying to compute, say, exp(1000) we will get a Python error, so before taking the exp we subtract off the largest value.\n",
    "- This turns out to result in the same probabilities; it’s just safer to compute in Python:"
   ]
  },
  {
   "cell_type": "code",
   "execution_count": 44,
   "id": "24c8dfae-7e98-4124-81b8-730aa635b315",
   "metadata": {},
   "outputs": [
    {
     "data": {
      "text/plain": [
       "[0.13447071068499755,\n",
       " 0.13447071068499755,\n",
       " 0.36552928931500245,\n",
       " 0.36552928931500245]"
      ]
     },
     "execution_count": 44,
     "metadata": {},
     "output_type": "execute_result"
    }
   ],
   "source": [
    "def softmax(tensor: Tensor) -> Tensor:\n",
    "    \"\"\"\n",
    "    Softmax along the last dimension\n",
    "    \"\"\"\n",
    "    if is_1d(tensor):\n",
    "        # Subtract largest value for numerical stability\n",
    "        largest = max(tensor)\n",
    "        exps = [math.exp(x-largest) for x in tensor]\n",
    "        sum_of_exps = sum(exps)\n",
    "        return [exps_i/sum_of_exps for exps_i in exps]\n",
    "\n",
    "    else:\n",
    "        return [softmax(tensor_i) for tensor_i in tensor]\n",
    "\n",
    "softmax([0,0,1,1])"
   ]
  },
  {
   "cell_type": "markdown",
   "id": "59cdc040-88c4-499a-a980-3c481e669bb8",
   "metadata": {},
   "source": [
    "## (b) Cross-Entropy\n",
    "\n",
    "- Same as <u>negative log likelihood</u> Loss Function (see Chapter: Logistic regression)\n",
    "- If our network outputs are probabilities, the cross-entropy loss represents the negative log likelihood of the observed data, which means that minimizing that loss is the same as maximizing the log likelihood (and hence the likelihood) of the training data.\n",
    "> - Measures the performance of a classification model whose output is a probability value between 0 and 1.\n",
    "> - It is given by:\n",
    "> $$ \\text{CrossEntropy}(y_{i\\_actual}, y_{i\\_pred}) = -\\sum_{i} y_{i\\_actual} \\log(y_{i\\_pred}) $$\n",
    "Where \\( p \\) is the true distribution (one-hot encoded) and \\( q \\) is the predicted probability distribution.\n",
    "\n",
    "- Typically we won’t include the softmax function as part of the neural network itself.\n",
    "> - This is because it turns out that if softmax is part of your loss function but not part of the network itself, the gradients of the loss wrt the network outputs are very easy to compute.\n",
    "> - The gradient of the cross-entropy loss with respect to the <u>logits(pre-activation outputs) $z_i$ </u>simplifies to the difference between the predicted probability $\\hat{y}_i$ and the true label $y_i$:\n",
    "\n",
    "$$ \\frac{\\partial L}{\\partial z_i} = \\hat{y}_i - y_i$$"
   ]
  },
  {
   "cell_type": "code",
   "execution_count": 45,
   "id": "096e6a55-2791-4b7d-bf2e-11875d95e5c5",
   "metadata": {},
   "outputs": [],
   "source": [
    "class SoftmaxCrossEntropy(Loss):\n",
    "    \"\"\" \n",
    "    This is the negative-log-likelihood of the observed values, given the\n",
    "    neural net model. So if we choose weights to minimize it, our model will\n",
    "    be maximizing the likelihood of the observed data.\n",
    "    \"\"\"\n",
    "\n",
    "    def loss(self, predicted: Tensor, actual: Tensor) -> float:\n",
    "        # Apply softmax to get probabilities\n",
    "        probabilities = softmax(predicted)\n",
    "        # This will be log p_i for the actual class i and 0 for the other\n",
    "        # classes. We add a tiny amount to p to avoid taking log(0).\n",
    "        likelihoods = tensor_combine(lambda p, act: math.log(p+1e-30) * act,\n",
    "                                     probabilities,\n",
    "                                     actual)\n",
    "        # Then we sum up the negatives.\n",
    "        return -tensor_sum(likelihoods)\n",
    "\n",
    "    def gradient(self, predicted: Tensor, actual: Tensor) -> Tensor:\n",
    "        probabilities = softmax(predicted)\n",
    "        # Isn't this a pleasant equation?\n",
    "        return tensor_combine(lambda p, actual: p - actual,\n",
    "                              probabilities,\n",
    "                              actual)"
   ]
  },
  {
   "cell_type": "markdown",
   "id": "71c217a6-0843-4ac1-b747-a7088c97f01f",
   "metadata": {},
   "source": [
    "## FizzBuzz using Softmax and cross entropy \n"
   ]
  },
  {
   "cell_type": "code",
   "execution_count": 46,
   "id": "c25bda60-6916-43bf-b19b-dbd57d9b8804",
   "metadata": {},
   "outputs": [
    {
     "name": "stderr",
     "output_type": "stream",
     "text": [
      "fb loss: 5.695 acc: 1.00: 100%|███████████████| 100/100 [00:15<00:00,  6.41it/s]"
     ]
    },
    {
     "name": "stdout",
     "output_type": "stream",
     "text": [
      "test results 0.95\n"
     ]
    },
    {
     "name": "stderr",
     "output_type": "stream",
     "text": [
      "\n"
     ]
    }
   ],
   "source": [
    "random.seed(0)\n",
    "net = Sequential([Linear(input_dim=10, output_dim=NUM_HIDDEN, init='uniform'),\n",
    "                 Tanh(),\n",
    "                 Linear(input_dim=NUM_HIDDEN, output_dim=4, init='uniform')])\n",
    "                 # No final sigmoid layer now\n",
    "\n",
    "optimizer = optimizer = Momentum(learning_rate=0.1, momentum=0.9)\n",
    "loss = SoftmaxCrossEntropy()\n",
    "\n",
    "with tqdm.trange(100) as t:\n",
    "    for epoch in t:\n",
    "        epoch_loss = 0.0\n",
    "        for x, y in zip(xs, ys):\n",
    "            predicted = net.forward(x)\n",
    "            epoch_loss += loss.loss(predicted, y)\n",
    "            gradient = loss.gradient(predicted, y)\n",
    "            net.backward(gradient)\n",
    "            optimizer.step(net)\n",
    "        accuracy = fizzbuzz_accuracy(101, 1024, net)\n",
    "        t.set_description(f\"fb loss: {epoch_loss:.3f} acc: {accuracy:.2f}\")\n",
    "\n",
    "# Again check results on the test set\n",
    "print(\"test results\", fizzbuzz_accuracy(1, 101, net))\n"
   ]
  },
  {
   "cell_type": "markdown",
   "id": "d8549b8a-c278-439c-b3ed-6c45fda0d74f",
   "metadata": {},
   "source": [
    "# 10. Dropout for Regularizing Neural Networks\n",
    "\n",
    "## Overfitting in Neural Networks\n",
    "\n",
    "- Neural networks, like most ML models, are prone to overfitting to their training data.\n",
    "- Overfitting occurs when the model learns to perform well on the training data but fails to generalize to unseen data.\n",
    "- Regularization techniques, such as penalizing large weights, can help prevent overfitting.\n",
    "\n",
    "## Dropout as a Regularization Technique\n",
    "\n",
    "- **Dropout** is a common method to regularize NNs and prevent overfitting.\n",
    "- During training, <u>dropout randomly turns off each neuron (i.e., replaces its output with 0) with a fixed probability `p`.</u>\n",
    "- This forces the network to learn redundant representations and prevents it from depending too much on any single neuron.\n",
    "\n",
    "## Dropout at Training and Evaluation Time\n",
    "\n",
    "- **Training Time**: \n",
    "  - Dropout randomly masks some neurons by setting their output to 0.\n",
    "  - The mask is created based on the specified probability `p`.\n",
    "  - The output is scaled to account for the dropout, ensuring that the expected output remains consistent.\n",
    "- **Evaluation Time**: \n",
    "  - Dropout is not applied, meaning no neurons are turned off.\n",
    "  - The output is uniformly scaled down by the dropout probability to maintain consistency with the training phase.\n"
   ]
  },
  {
   "cell_type": "code",
   "execution_count": 47,
   "id": "8f6028a1-8a7f-4747-9358-e648a8acb20e",
   "metadata": {},
   "outputs": [],
   "source": [
    "class Dropout(Layer):\n",
    "    def __init__(self, p: float) -> None:\n",
    "        self.p = p\n",
    "        self.train = True  # Indicates training mode\n",
    "\n",
    "    def forward(self, input: Tensor) -> Tensor:\n",
    "        if self.train:\n",
    "            # Create a mask with 0s (dropped out) and 1s (kept)\n",
    "            self.mask = tensor_apply(\n",
    "                lambda _: 0 if random.random() < self.p else 1,\n",
    "                input)\n",
    "            # return inputs with masked elements\n",
    "            return tensor_combine(operator.mul, input, self.mask)\n",
    "        \n",
    "        else:\n",
    "            # During testing, just scale down the outputs\n",
    "            return tensor_apply(lambda x: x*(1-self.p), input)\n",
    "\n",
    "    def backward(self, gradient: Tensor) -> Tensor:\n",
    "        if self.train:\n",
    "            # Only propagate the gradients where mask == 1.\n",
    "            return tensor_combine(operator.mul, gradient, self.mask)\n",
    "        else:\n",
    "            raise RuntimeError(\"don't call backward when not in train mode\")"
   ]
  },
  {
   "cell_type": "markdown",
   "id": "fe29425b-0500-4bc8-b191-c171616570e4",
   "metadata": {},
   "source": [
    "# 11. MNIST\n",
    "- MNIST stands for Modified National Institute of Standards and Technology database.\n",
    "- It is a popular dataset in the field of machine learning and computer vision, commonly used for training and testing various image classification algorithms.\n",
    "- The MNIST dataset consists of a large collection of grayscale images of handwritten digits (0 to 9), each labeled with the corresponding digit.\n",
    "\n",
    "**Here are some key features of the MNIST dataset:**\n",
    "\n",
    "1. Image Size:\n",
    "> - Each image is a grayscale image with dimensions of 28x28 pixels.\n",
    "> - These images are relatively small and simple, making them ideal for experimentation and learning purposes.\n",
    "\n",
    "2. Training and Test Sets:\n",
    "> - The training set contains 60,000 images, while the test set contains 10,000 images.\n",
    "\n",
    "3. Labeling:\n",
    "> - Each image in the MNIST dataset is associated with a label indicating the digit it represents (0 to 9).\n",
    "\n",
    "4. Standard Benchmark:\n",
    "> - Due to its simplicity and widespread use, the MNIST dataset has become a standard benchmark for evaluating the performance of various machine learning algorithms, particularly in the field of image classification.\n",
    "> - Many researchers use MNIST as a starting point to develop and test new algorithms before moving on to more complex datasets.\n",
    "\n"
   ]
  },
  {
   "cell_type": "markdown",
   "id": "a495ecb0-d5e2-4d66-be2c-3d6cc7c346e8",
   "metadata": {},
   "source": [
    "**Keras**\n",
    "\n",
    "- Keras is an open-source deep learning framework written in Python. \n",
    "- It is designed to be user-friendly, modular, and extensible, allowing users to build and experiment with various types of neural networks quickly and easily."
   ]
  },
  {
   "cell_type": "code",
   "execution_count": 48,
   "id": "54feda82-24f4-43ce-bc33-36209bed1c84",
   "metadata": {},
   "outputs": [],
   "source": [
    "# download mnist dataset from keras\n",
    "\n",
    "from keras.datasets import mnist\n",
    "\n",
    "(train_images, train_labels), (test_images, test_labels) = mnist.load_data()\n",
    "train_images = train_images.tolist()\n",
    "train_labels = train_labels.tolist()\n",
    "test_images = test_images.tolist()\n",
    "test_labels =  test_labels.tolist()\n",
    "assert shape(train_images) == [60000, 28, 28]\n",
    "assert shape(train_labels) == [60000]\n",
    "assert shape(test_images) == [10000, 28, 28]\n",
    "assert shape(test_labels) == [10000]"
   ]
  },
  {
   "cell_type": "code",
   "execution_count": 49,
   "id": "f0ad4dff-c7cb-4d05-a2cc-d3b79de622db",
   "metadata": {},
   "outputs": [
    {
     "data": {
      "text/plain": [
       "<matplotlib.image.AxesImage at 0x28e880650>"
      ]
     },
     "execution_count": 49,
     "metadata": {},
     "output_type": "execute_result"
    },
    {
     "data": {
      "image/png": "[encoded data removed]",
      "text/plain": [
       "<Figure size 640x480 with 1 Axes>"
      ]
     },
     "metadata": {},
     "output_type": "display_data"
    }
   ],
   "source": [
    "# Let's see images\n",
    "import matplotlib.pyplot as plt\n",
    "plt.imshow(train_images[1])"
   ]
  },
  {
   "cell_type": "code",
   "execution_count": 50,
   "id": "f39db7f7-f311-48ef-b119-80f3aca40a88",
   "metadata": {},
   "outputs": [
    {
     "data": {
      "image/png": "[encoded data removed]",
      "text/plain": [
       "<Figure size 640x480 with 100 Axes>"
      ]
     },
     "metadata": {},
     "output_type": "display_data"
    }
   ],
   "source": [
    "# Let's plot first 100 training images to see how they look.\n",
    "import matplotlib.pyplot as plt\n",
    "fig, ax = plt.subplots(10, 10)\n",
    "for i in range(10):\n",
    "    for j in range(10):\n",
    "        # Plot each image in black and white and hide the axes.\n",
    "        ax[i][j].imshow(train_images[10 * i + j], cmap='Greys')\n",
    "        ax[i][j].xaxis.set_visible(False)\n",
    "        ax[i][j].yaxis.set_visible(False)\n",
    "plt.show()"
   ]
  },
  {
   "cell_type": "markdown",
   "id": "751dfad0-8b33-4d9b-8231-948cf996b71c",
   "metadata": {},
   "source": [
    "**Steps for MNIST image recognition**\n",
    "\n",
    "1. Flatten the pixels:\n",
    "   > - image is 2D i.e. 28 x 28 pixels\n",
    "   > - But our Linear layer can take only 1D input\n",
    "2. Mean Normalization of input\n",
    "   > - Divide the pixels by 256 to get them between 0 and 1\n",
    "   > - Substract by mean\n",
    "- **why we do mean normalisation?**\n",
    "  > 1. Smaller the values, faster the gradient decsent\n",
    "  > 2. Activation functions are most sensitive/linear when input is centered around 0 because there gradinet is larger therefore, more efficient training\n",
    "  > 3. Makes input less biased in initial stages\n",
    "  > 4. Balanced weight updates during BP and thus stable learning"
   ]
  },
  {
   "cell_type": "code",
   "execution_count": 51,
   "id": "63b86ba0-1f13-4831-a6ca-add8bb049cb6",
   "metadata": {},
   "outputs": [],
   "source": [
    "# Compute mean pixel value of complete training dataset\n",
    "avg = tensor_sum(train_images) /60000/28/28\n",
    "\n",
    "# shape(train_images)\n",
    "\n",
    "\n",
    "# Recenter, rescale, and flatten\n",
    "train_images = [[(pixel - avg)/256 \n",
    "                 for row in image\n",
    "                 for pixel in row]\n",
    "                for image in train_images\n",
    "                ]  # flattened, therefore pay attention to brackets\n",
    "# assert shape(train_images)\n",
    "\n",
    "test_images = [[(pixel - avg)/256 \n",
    "                 for row in image\n",
    "                 for pixel in row]\n",
    "                for image in test_images\n",
    "                ]  # flattened, therefore pay attention to brackets\n",
    "# assert shape(test_images)"
   ]
  },
  {
   "cell_type": "code",
   "execution_count": 52,
   "id": "4b2d616f-b20e-4d4d-a1e1-bf894330fcfe",
   "metadata": {},
   "outputs": [
    {
     "name": "stdout",
     "output_type": "stream",
     "text": [
      "x_flat=[[1, 2, 3, 4, 3, 3], [11, 22, 33, 44, 33, 35]]\n"
     ]
    }
   ],
   "source": [
    "# Understand the for loops for flattening with this example\n",
    "x = [[[1,2,3],[4,3,3]],[[11,22,33],[44,33,35]]]\n",
    "x_flat = [[x_i for row in elements\n",
    "     for x_i in row]for elements in x]\n",
    "print(f\"{x_flat=}\")"
   ]
  },
  {
   "cell_type": "code",
   "execution_count": 53,
   "id": "e50f073f-cc2d-42e4-8184-c41c2b9486ed",
   "metadata": {},
   "outputs": [],
   "source": [
    "# After centering, average pixel should be very close to 0\n",
    "\n",
    "assert -0.0000001 < tensor_sum(train_images) < 0.0000001"
   ]
  },
  {
   "cell_type": "markdown",
   "id": "99749f72-12a9-4ad4-9c16-4e5c379c88d1",
   "metadata": {},
   "source": [
    "### One-hot-Encoding\n",
    "\n",
    "- Used to represent categorical data as binary vectors.\n",
    "- When you one-hot encode a categorical variable, you create a new binary variable (feature) for each unique category. For each observation, you set the binary variable corresponding to the category to 1 and all other binary variables to 0."
   ]
  },
  {
   "cell_type": "code",
   "execution_count": 54,
   "id": "58de5399-60bc-4174-a302-7c418ece5ef4",
   "metadata": {},
   "outputs": [],
   "source": [
    "# One-hot-encode the targets\n",
    "# i is index of category to encode \n",
    "# num_lables is total number of categories(default 10)\n",
    "from typing import List\n",
    "def one_hot_encode(i: int, num_lables: int=10) -> List[float]:\n",
    "    return [1.0 if i==j else 0 for j in range(num_lables)]\n",
    "\n",
    "assert one_hot_encode(3) == [0, 0, 0, 1.0, 0, 0, 0, 0, 0, 0]\n",
    "assert one_hot_encode(2, num_lables=5) == [0, 0, 1.0, 0, 0]\n",
    "\n",
    "# train_labels_before_encoding = train_labels\n",
    "# assert shape(train_labels_before_encoding) == [60000]\n",
    "\n",
    "# Applying it to our data\n",
    "train_labels = [one_hot_encode(label) for label in train_labels] # From hereon train_labels = hot encoded train labels\n",
    "shape(train_labels) \n",
    "assert shape(train_labels) == [60000, 10]\n",
    "\n",
    "test_labels = [one_hot_encode(label) for label in test_labels]"
   ]
  },
  {
   "cell_type": "markdown",
   "id": "5b3ebc12-d9eb-4b3b-8a19-9af15e66fb5b",
   "metadata": {},
   "source": [
    "- Create function loop\n",
    "- it handles the process of iterating over the dataset, making predictions with the model, calculating loss, checking accuracy, and updating the model's weights if an optimizer is provided.\n",
    "- It also provides a progress bar that updates in real-time, showing the current loss and accuracy."
   ]
  },
  {
   "cell_type": "code",
   "execution_count": 55,
   "id": "924f07f4-9669-4d7f-97dc-b1e790d84263",
   "metadata": {},
   "outputs": [],
   "source": [
    "import tqdm\n",
    "\n",
    "def loop(model: Layer,\n",
    "         images: List[Tensor],\n",
    "         labels: List[Tensor],\n",
    "         loss: Loss,\n",
    "         optimizer: Optimizer = None) -> None:  # optimizer is optional\n",
    "    correct = 0        # Track number of correct predictions\n",
    "    total_loss = 0.0   # Track total loss\n",
    "\n",
    "    with tqdm.trange(len(images)) as t:  # Loop iterating over number of images\n",
    "        for i in t:\n",
    "            predicted = model.forward(images[i])   # Predict\n",
    "            if argmax(predicted) == argmax(labels[i]): # Match index of max value\n",
    "                correct +=1 \n",
    "            total_loss += loss.loss(predicted, labels[i]) \n",
    "\n",
    "            # If we're training, backpropagate gradient and update weights.\n",
    "            if optimizer is not None:\n",
    "                gradient = loss.gradient(predicted, labels[i]) # find output gradient\n",
    "                model.backward(gradient) # find gradient wrt weights\n",
    "                optimizer.step(model)  # update weights\n",
    "\n",
    "        # And update our metrics in the progress bar.\n",
    "        avg_loss = total_loss / (i + 1)\n",
    "        acc = correct / (i + 1)\n",
    "        t.set_description(f\"mnist loss: {avg_loss:.3f} acc: {acc:.3f}\")\n"
   ]
  },
  {
   "cell_type": "code",
   "execution_count": 56,
   "id": "9c1f0cfa-3231-4136-a155-95289198a3fc",
   "metadata": {},
   "outputs": [
    {
     "name": "stderr",
     "output_type": "stream",
     "text": [
      "100%|████████████████████████████████████| 60000/60000 [02:06<00:00, 475.32it/s]\n",
      "100%|███████████████████████████████████| 10000/10000 [00:02<00:00, 3615.62it/s]\n"
     ]
    }
   ],
   "source": [
    "random.seed(0)\n",
    "# Logistic regression is just a linear layer followed by softmax\n",
    "model = Linear(784, 10)\n",
    "loss = SoftmaxCrossEntropy()\n",
    "# This optimizer seems to work\n",
    "optimizer = Momentum(learning_rate=0.01, momentum=0.99)\n",
    "# Train on the training data\n",
    "loop(model, train_images, train_labels, loss, optimizer)\n",
    "\n",
    "# Test on the test data (no optimizer means just evaluate)\n",
    "loop(model, test_images, test_labels, loss)"
   ]
  },
  {
   "cell_type": "markdown",
   "id": "cc8096cc-946a-4d15-b8c7-c950c139b6fe",
   "metadata": {},
   "source": [
    "- This gets about 89% accuracy.\n",
    "- Let’s use two hidden layers, the first with 30 neurons, and the second with 10 neurons.\n",
    "- And we’ll use our Tanh activation."
   ]
  },
  {
   "cell_type": "code",
   "execution_count": 57,
   "id": "f9f4708c-4c58-4074-a1cf-9180cd40f659",
   "metadata": {},
   "outputs": [],
   "source": [
    "random.seed(0)\n",
    "\n",
    "dropout1 = Dropout(0.1)\n",
    "dropout2 = Dropout(0.1)\n",
    "\n",
    "model = Sequential([Linear(784, 30), \n",
    "                    dropout1, \n",
    "                    Tanh(), \n",
    "                    Linear(30, 10),\n",
    "                    dropout2,\n",
    "                    Tanh(),\n",
    "                    Linear(10,10)])\n",
    "                    "
   ]
  },
  {
   "cell_type": "code",
   "execution_count": null,
   "id": "a563dd95-5a4e-4629-95d6-a4b551127f5b",
   "metadata": {},
   "outputs": [
    {
     "name": "stderr",
     "output_type": "stream",
     "text": [
      "  4%|█▌                                   | 2617/60000 [00:15<05:42, 167.77it/s]"
     ]
    }
   ],
   "source": [
    "optimizer = Momentum(learning_rate=0.01, momentum=0.99)\n",
    "loss = SoftmaxCrossEntropy()\n",
    "\n",
    "dropout1.train = dropout2.train = True  # for forward pass\n",
    "loop(model, train_images, train_labels, loss, optimizer)\n",
    "\n",
    "dropout1.train = dropout2.train = False # for backward propagation\n",
    "loop(model, test_images, test_labels, loss)"
   ]
  },
  {
   "cell_type": "markdown",
   "id": "2e97656e-f58b-4dd8-8045-a9861899b2f3",
   "metadata": {},
   "source": [
    "- It gives 92% accurcy on the test set (better than simple logistic model)\n",
    "- The MNIST website describes a variety of models that outperform these. Many of them could be implemented using the machinery we’ve developed so far but would take an extremely long time to train in our lists-as-tensors\r",
    "framework.\n",
    "- To see: Convolutional layers. "
   ]
  },
  {
   "cell_type": "markdown",
   "id": "54371c4b-5ce6-4c3e-a745-3656fe3203ef",
   "metadata": {},
   "source": [
    "# 12. Saving and Loading Models"
   ]
  },
  {
   "cell_type": "markdown",
   "id": "a4b1be04-8e68-4e7a-8eff-e715d4fff97c",
   "metadata": {},
   "source": [
    "- Once we trained our model, we can save our weights using 'json' module to serialize model weights to a file.\n",
    "- So, that we will not need to retrain our model everytime."
   ]
  },
  {
   "cell_type": "code",
   "execution_count": null,
   "id": "0c3cb0fc-188a-4106-b33c-4af525e64bce",
   "metadata": {},
   "outputs": [],
   "source": [
    "# Define a function to save weights\n",
    "# Use Layer.params() to collect weights and biases\n",
    "# Serialize weights to a file using json.dump\n",
    "\n",
    "import json\n",
    "def save_weights(model: Layer, filename: str) -> None:\n",
    "    weights = list(model.params())\n",
    "    with open(filename, 'w') as f:\n",
    "        json.dump(weights, f)"
   ]
  },
  {
   "cell_type": "code",
   "execution_count": null,
   "id": "53fec1a0-a3cb-4052-a099-cb7db6937c13",
   "metadata": {},
   "outputs": [],
   "source": [
    "# Loading model weights\n",
    "def load_weights(model: Layer, filename: str) -> None:\n",
    "    with open(filename) as f:\n",
    "        weights = json.load(f)\n",
    "    # Check for consistency\n",
    "    assert all(shape(param) == shape(weight) for param, weight in zip(model.params(), weights))\n",
    "    # Then load using slice assignment\n",
    "    for param, weight in zip(model.params(), weights):\n",
    "        param[:] = weight"
   ]
  },
  {
   "cell_type": "code",
   "execution_count": null,
   "id": "9b4b738c-518e-4486-9629-493df8499763",
   "metadata": {},
   "outputs": [],
   "source": [
    "# save_weights(model, 'model_weights.json')\n",
    "w = load_weights(model, 'model_weights.json')\n",
    "type(w)\n",
    "for i, param in enumerate(model.params()):\n",
    "        print(f\"Weight {i}: {param}\")"
   ]
  },
  {
   "cell_type": "code",
   "execution_count": null,
   "id": "6bbf11d5-9c94-4bed-8a88-3745b5fd2fd3",
   "metadata": {},
   "outputs": [],
   "source": [
    "# import json\n",
    "# def load_weights(filename: str):\n",
    "#     with open(filename) as f:\n",
    "#         weights = json.load(f)\n",
    "#         return weights\n",
    "\n",
    "# w = load_weights('model_weights.json')\n",
    "# shape(w)"
   ]
  },
  {
   "cell_type": "markdown",
   "id": "90f17eb8-c3cb-4d31-bc8a-795abf4cd1df",
   "metadata": {},
   "source": [
    "- JSON stores your data as text, which makes it an extremely inefficient representation.\n",
    "- In real applications you’d probably use the pickle serialization library, which serializes things to a more efficient binary format.\n",
    "- Download weights from various networks: https://github.com/joelgrus/data-science-from-scratch"
   ]
  }
 ],
 "metadata": {
  "kernelspec": {
   "display_name": "Python 3 (ipykernel)",
   "language": "python",
   "name": "python3"
  },
  "language_info": {
   "codemirror_mode": {
    "name": "ipython",
    "version": 3
   },
   "file_extension": ".py",
   "mimetype": "text/x-python",
   "name": "python",
   "nbconvert_exporter": "python",
   "pygments_lexer": "ipython3",
   "version": "3.11.5"
  }
 },
 "nbformat": 4,
 "nbformat_minor": 5
}
