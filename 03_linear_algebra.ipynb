{
 "cells": [
  {
   "cell_type": "markdown",
   "id": "329289e3-39a9-4c4f-98e2-b5009838c170",
   "metadata": {},
   "source": [
    "-  Linear Algebra: mathematics that deals with vector spaces.\n",
    "\n",
    "# 1. Vector\n",
    "- How useful the vectors are for data science?\n",
    "  1. For us, vectors are some points in a free dimensional space.\n",
    "  2. Used to represent any numeric data as list of numbers.\n",
    "     \n",
    "- In Python, lists are normally used to represent vectors for the sake of simplicity and ease of understanding.\n",
    "- Using lists as vectors is great for learning but highly inefficient for performance.\n",
    "- In production code, we use NumPy library, which includes a high performance array class with built in arithmetic operations."
   ]
  },
  {
   "cell_type": "code",
   "execution_count": 1,
   "id": "c0cdfb52-da91-48c8-837e-ffb2f1e9912e",
   "metadata": {},
   "outputs": [],
   "source": [
    "# List as vector\n",
    "from typing import List  # Type annotation for list\n",
    "\n",
    "vector = List[float] # Vector defined as a list of float values\n",
    "\n",
    "\n",
    "# Examples\n",
    "\n",
    "height_weight_age = [160, # Vector containing height, weight, age\n",
    "                     65,\n",
    "                     40]\n",
    "\n",
    "grades = [95, # Vector with grades in four tests\n",
    "          78,\n",
    "          92,\n",
    "          65]"
   ]
  },
  {
   "cell_type": "markdown",
   "id": "c3395016-ae26-4ba1-8298-1f19be6a7279",
   "metadata": {},
   "source": [
    "### 1. add(a: Vector, b: Vector) -> Vector\n",
    "\n",
    "- If we simply add two lists, it will create a new concatenated list.\n",
    "- Therefore, as lists are not vectors, we need to perform vector operations on them using zip-ing."
   ]
  },
  {
   "cell_type": "code",
   "execution_count": 45,
   "id": "a99d9599-c1ee-4913-bdab-9ba926b386e2",
   "metadata": {},
   "outputs": [],
   "source": [
    "# Adding two vectors a and b\n",
    "\n",
    "from typing import List \n",
    "\n",
    "Vector= List[float]     # Define type annotation for vector\n",
    "\n",
    "def add_longcode(a: Vector, b: Vector) -> Vector: \n",
    "    \"\"\"\n",
    "    Adds corresponding elements\n",
    "    \"\"\"\n",
    "    assert len(a)==len(b) # Input vectors must be of same length\n",
    "    \n",
    "    sum_vector = [] \n",
    "    zip_vector = zip(a,b) # List of Tuples\n",
    "    \n",
    "    for a_i, b_i in zip_vector:\n",
    "        sum_i = a_i + b_i\n",
    "        sum_vector.append(sum_i)\n",
    "    \n",
    "    return sum_vector\n",
    "\n",
    "assert add_longcode([1,2], [5,2]) == [6,4]"
   ]
  },
  {
   "cell_type": "markdown",
   "id": "7591e05d-e190-4860-aa71-7bacdb670e1e",
   "metadata": {},
   "source": [
    "- The above program can be shortened as:"
   ]
  },
  {
   "cell_type": "code",
   "execution_count": 46,
   "id": "eee55412-a132-44eb-a08c-e31a8ebd9630",
   "metadata": {},
   "outputs": [],
   "source": [
    "# See how to make our code compact\n",
    "\n",
    "from typing import List  # For lists' type annotation\n",
    "\n",
    "Vector = List[float]  \n",
    "\n",
    "def add(a: Vector, b: Vector) -> Vector:\n",
    "    \"\"\"Adds corresponding elements\"\"\"\n",
    "    \n",
    "    assert len(a)==len(b), \"Input vectors must be of same length\"\n",
    "    \n",
    "    return [(a_i + b_i) for a_i, b_i in zip(a, b)]\n",
    "\n",
    "assert add([3,4],[2,1]) == [5,5]\n",
    "\n",
    "# assert add([2,3],[3,5,3]) == [5,8]   # Generate assertion error, not same length"
   ]
  },
  {
   "cell_type": "markdown",
   "id": "54c6980c-09f2-47a2-99e5-d0722d1e6e2d",
   "metadata": {},
   "source": [
    "### 2. subtract(a: Vector, b: Vector) -> Vector"
   ]
  },
  {
   "cell_type": "code",
   "execution_count": 47,
   "id": "56869cfb-37e5-4dfc-8c0c-5bbed739b8e5",
   "metadata": {},
   "outputs": [],
   "source": [
    "# Subtracting two vectors a and b\n",
    "\n",
    "from typing import List \n",
    "\n",
    "Vector = List[float]\n",
    "\n",
    "def subtract(a: Vector, b: Vector) -> Vector:\n",
    "    \"\"\"Subtracts corresponding elements\"\"\"\n",
    "\n",
    "    assert len(a) == len(b)\n",
    "\n",
    "    return [(a_i - b_i) for a_i, b_i in zip(a,b)]\n",
    "\n",
    "assert subtract([1,2],[3,4]) == [-2,-2]"
   ]
  },
  {
   "cell_type": "markdown",
   "id": "d621b8e3-d6b5-475a-a868-891d7bf57589",
   "metadata": {},
   "source": [
    "## 3. vector_sum(list_of_vectors: List[Vector]) -> Vector\n",
    "\n",
    "**Component-wise operation**\n",
    "- Now we add more than two vectors which are given as list of lists (i.e. list of vectors)."
   ]
  },
  {
   "cell_type": "code",
   "execution_count": 48,
   "id": "6a684576-eefe-4afa-af1e-99ebd5e86954",
   "metadata": {},
   "outputs": [],
   "source": [
    "from typing import List \n",
    "Vector = List[float]\n",
    "\n",
    "def vector_sum_longcode(list_of_vectors: List[Vector]) -> Vector:\n",
    "   \n",
    "    # Check if list_of_vectors is empty\n",
    "    assert list_of_vectors, \"no vectors provided\"\n",
    "\n",
    "    # Check if vectors are of same size\n",
    "    l = len(list_of_vectors[0])  # Get length of first vector\n",
    "    assert all(len(v)==l for v in list_of_vectors), \"vectors are of different sizes!\"  # all() returns True, \n",
    "                                                                                       # if all elements in given iterable are true\n",
    "    s = [0]*l  # Define 0 value list of length l\n",
    "    sum_vector = [] # Define empty vector to collate sum values\n",
    "    \n",
    "    for i in range(l):\n",
    "        for v in list_of_vectors:\n",
    "            s[i] = sum([s[i],v[i]])\n",
    "        sum_vector.append(s[i])\n",
    "    return sum_vector\n",
    "\n",
    "assert vector_sum_longcode([[1,2],[3,4],[5,6]]) == [9,12]"
   ]
  },
  {
   "cell_type": "markdown",
   "id": "4af44aa9-04dc-4549-bd05-7f3885b786d7",
   "metadata": {},
   "source": [
    "- Above code can be written in one line, because sum() takes a list/array to calculate sum."
   ]
  },
  {
   "cell_type": "code",
   "execution_count": 49,
   "id": "b0a08b2c-241c-4428-a413-33e53423cd53",
   "metadata": {},
   "outputs": [],
   "source": [
    "from typing import List \n",
    "Vector = List[float]\n",
    "\n",
    "def vector_sum(list_of_vectors: List[Vector]) -> Vector:\n",
    "    \"\"\"\n",
    "    sum of all corresponding elements\n",
    "    \"\"\"\n",
    "   \n",
    "    # Check if list_of_vectors is empty\n",
    "    assert list_of_vectors, \"no vectors provided\"\n",
    "\n",
    "    # Check if vectors are of same size\n",
    "    l = len(list_of_vectors[0])  #length of first vector\n",
    "\n",
    "    assert all(len(v)==l for v in list_of_vectors), \"vectors are of different sizes!\" # All() returns True, \n",
    "                                                                                      # if all elements in given iterable are true\n",
    "\n",
    "    return [sum(v[i] for v in list_of_vectors) for i in range(l)]\n",
    "\n",
    "assert vector_sum([[1,2],[3,4],[5,6]]) == [9,12]"
   ]
  },
  {
   "cell_type": "markdown",
   "id": "95bed129-6b5d-451e-bd82-0e1577c494fb",
   "metadata": {},
   "source": [
    "- Above code can be made more compact using zipping."
   ]
  },
  {
   "cell_type": "code",
   "execution_count": 50,
   "id": "9e41c9e2-3eee-438e-9edc-81be3f508dfb",
   "metadata": {},
   "outputs": [],
   "source": [
    "from typing import List\n",
    "Vector = List[float]\n",
    "\n",
    "def vector_sum_compact(list_of_vectors: List[Vector]) -> Vector:\n",
    "    return [sum(t) for t in zip(*[v for v in list_of_vectors])]\n",
    "\n",
    "assert vector_sum_compact([[1,2],[3,4],[5,6]]) == [9,12]"
   ]
  },
  {
   "cell_type": "markdown",
   "id": "40f7b0de-a5ce-4a94-aadc-dd8ba6f5f014",
   "metadata": {},
   "source": [
    "## 4. scalar_multiply(v:Vector, c:float) -> Vector"
   ]
  },
  {
   "cell_type": "code",
   "execution_count": 51,
   "id": "d5ba9301-43cd-4559-bb35-28102f15d4a2",
   "metadata": {},
   "outputs": [],
   "source": [
    "from typing import List\n",
    "Vector = List[float]\n",
    "\n",
    "def scalar_multiply(v:Vector, c:float) -> Vector:\n",
    "    \"\"\"\n",
    "    multiplies every element by c\n",
    "    \"\"\"\n",
    "    l = len(v)\n",
    "    return([c*v[i] for i in range(l)])\n",
    "\n",
    "assert scalar_multiply([1,2,3],2) == [2,4,6]"
   ]
  },
  {
   "cell_type": "markdown",
   "id": "8e2e1684-b36d-4007-96a1-b556d6ab9934",
   "metadata": {},
   "source": [
    "## 5. vector_mean(v: List[Vector]) -> Vector\n",
    "- Example list of vector = `[[1,2],[3,4],[5,6]]`.\n",
    "- We want output as mean of 1,3,5 and 2,4,6 in a vector of 2 elements.\n",
    "- First find componentwise sum vector of, then divide by number of vectors."
   ]
  },
  {
   "cell_type": "code",
   "execution_count": 54,
   "id": "9c81205e-36b5-4a5b-94f8-4a0e7d252f76",
   "metadata": {},
   "outputs": [],
   "source": [
    "def vector_mean(v: List[Vector]) -> Vector:\n",
    "    \"\"\"\n",
    "    Computes the element-wise average\n",
    "    \"\"\"\n",
    "    a = vector_sum(v)\n",
    "    return scalar_multiply(a, 1/len(v))\n",
    "    \n",
    "\n",
    "assert vector_mean([[1,2],[3,4],[5,6]]) == [3, 4]"
   ]
  },
  {
   "cell_type": "markdown",
   "id": "8fdf1e33-eb15-4d46-bece-261b82955c18",
   "metadata": {},
   "source": [
    "## 6. dot_product(a: Vector, b: Vector) -> float\n",
    "- `a.b = sum(a[i]*b[i])`"
   ]
  },
  {
   "cell_type": "code",
   "execution_count": 55,
   "id": "eb11a89f-d260-4b3f-ae10-76e25e73ce95",
   "metadata": {},
   "outputs": [],
   "source": [
    "def dot(a: Vector, b: Vector) -> float:\n",
    "    \"\"\"\n",
    "    Computes v_1 * w_1 + ... + v_n * w_n\n",
    "    \"\"\"\n",
    "    assert len(a)==len(b), \"different sizes\"\n",
    "    \n",
    "    l = len(a)\n",
    "    \n",
    "    return(sum(a[i]*b[i] for i in range(l)))\n",
    "\n",
    "assert dot([1,2,3],[4,5,6]) == 32"
   ]
  },
  {
   "cell_type": "markdown",
   "id": "51266b8c-6497-4dda-9af4-60a4445338f0",
   "metadata": {},
   "source": [
    "- If vector `a` has magnitude 1, the dot product measures how far the vector `b` extends in the `a` direction."
   ]
  },
  {
   "cell_type": "markdown",
   "id": "0a7e3e42-5f05-4364-82de-1faa26a3e3e8",
   "metadata": {},
   "source": [
    "## 7. sum_of_squares(a: Vector) -> float"
   ]
  },
  {
   "cell_type": "code",
   "execution_count": 56,
   "id": "98b7e96e-fe87-4ff8-8cb1-d52100b63ef4",
   "metadata": {},
   "outputs": [],
   "source": [
    "from typing import List\n",
    "import math\n",
    "\n",
    "Vector = List[float]\n",
    "\n",
    "def sum_of_squares(a: Vector) -> float:\n",
    "    \"\"\"\n",
    "    Returns v_1 * v_1 + ... + v_n * v_n\n",
    "    \"\"\"\n",
    "    l = len(a)\n",
    "    sum_a = sum(math.pow(a[i],2) for i in range(l))\n",
    "    \n",
    "    return sum_a\n",
    "\n",
    "assert sum_of_squares([1,2])==5"
   ]
  },
  {
   "cell_type": "markdown",
   "id": "da4df7d6-9a27-4f3c-af8b-ce9beb1dfd73",
   "metadata": {},
   "source": [
    "## 8.  magnitude(a: Vector)\n",
    "- magnitude of Vector = sqrt(sum_of squares)"
   ]
  },
  {
   "cell_type": "code",
   "execution_count": 57,
   "id": "7483a17c-c145-4b5b-a310-e144b0a3cfcf",
   "metadata": {},
   "outputs": [],
   "source": [
    "def magnitude(a: Vector):\n",
    "    \"\"\"\n",
    "    Returns the magnitude (or length) of v\n",
    "    \"\"\"\n",
    "    return math.sqrt(sum_of_squares(a))\n",
    "    \n",
    "assert magnitude([3,4]) == 5 "
   ]
  },
  {
   "cell_type": "markdown",
   "id": "d9ec2c2c-ced0-4143-9587-88451b13334a",
   "metadata": {},
   "source": [
    "## 9. squared_distance(a: Vector, b: Vector) ->float\n",
    "\n",
    "- I will be used in k-means clustering ([20_clustering.ipynb](20_clustering.ipynb))\n"
   ]
  },
  {
   "cell_type": "code",
   "execution_count": 58,
   "id": "7e778360-bb8e-4da1-9634-fe2dcde9a41e",
   "metadata": {},
   "outputs": [],
   "source": [
    "def squared_distance(a: Vector, b: Vector) -> float:\n",
    "    \"\"\"\n",
    "    Computes (v_1 - w_1) ** 2 + ... + (v_n - w_n) ** 2\n",
    "    \"\"\"\n",
    "    return sum_of_squares(subtract(a,b))\n",
    "\n",
    "assert squared_distance([1,2],[4,6]) == 25\n"
   ]
  },
  {
   "cell_type": "markdown",
   "id": "bef1ff4c-057d-49ca-814e-a7bf408574d5",
   "metadata": {},
   "source": [
    "## 10. distance(a: Vector, b: Vector) -> float"
   ]
  },
  {
   "cell_type": "code",
   "execution_count": 60,
   "id": "ad62ec95-86d2-4bcb-bfc6-360d8d27a410",
   "metadata": {},
   "outputs": [],
   "source": [
    "import math\n",
    "from typing import List\n",
    "\n",
    "Vector = List[float]\n",
    "\n",
    "def distance(a: Vector, b: Vector) -> float:\n",
    "    \"\"\"\n",
    "    Computes the distance between v and w\n",
    "    \"\"\"\n",
    "    return math.sqrt(squared_distance(a,b))\n",
    "\n",
    "assert distance([1,2],[4,6])==5\n",
    "\n",
    "\n",
    "# Can also be written as:\n",
    "def distance(v: Vector, w: Vector) -> float:\n",
    "    return magnitude(subtract(v, w))"
   ]
  },
  {
   "cell_type": "markdown",
   "id": "a70838f7-e56b-42cf-82e0-8062c13155e8",
   "metadata": {},
   "source": [
    "# 2. Matrices\n",
    "- List of Lists of same sizes.\n",
    "- ```python\n",
    "  A[i][j]\n",
    "- Means Element $i^{th}$ row and $j^{th}$ column of matrix A."
   ]
  },
  {
   "cell_type": "code",
   "execution_count": null,
   "id": "eb34cb57-66ad-458d-9c54-789ed448105f",
   "metadata": {},
   "outputs": [],
   "source": [
    "Matrix = List[List[float]]   # Type alias/annotation \n",
    "\n",
    "A = [[1,2,3], [4,5,6]]  # rows=2, col=3\n",
    "B = [[1,2], [3,4], [5,6]] # rows=3, col=3\n"
   ]
  },
  {
   "cell_type": "markdown",
   "id": "f80c11ba-a673-4da3-88d2-0f7f24742899",
   "metadata": {},
   "source": [
    "- Indexing in a matrix starts with 0, as it is list of lists.\n",
    "\n",
    "## 1. shape(A: Matrix) -> Tuple[int, int]"
   ]
  },
  {
   "cell_type": "code",
   "execution_count": 64,
   "id": "13d55797-7eab-44fa-b8c5-1ea5bdc1d12c",
   "metadata": {},
   "outputs": [],
   "source": [
    "# Shape of matrix\n",
    "from typing import Tuple\n",
    "\n",
    "Matrix = List[List[float]]\n",
    "\n",
    "def shape(A: Matrix) -> Tuple[int, int]:\n",
    "    \"\"\"\n",
    "    Returns (# of rows of A, # of columns of A)\n",
    "    \"\"\"\n",
    "    n_rows = len(A)\n",
    "    n_col = len(A[0]) if A else 0  \n",
    "    return (n_rows, n_col)\n",
    "\n",
    "assert shape ([[1,2,3], [4,5,6]]) == (2,3)\n",
    "assert shape([]) == (0,0)"
   ]
  },
  {
   "cell_type": "markdown",
   "id": "91524283-6b02-4555-970b-a57e065b4e88",
   "metadata": {},
   "source": [
    "## 2. get_row(A: Matrix, i: int) -> List"
   ]
  },
  {
   "cell_type": "code",
   "execution_count": 32,
   "id": "98f72b36-736b-4b11-8247-0ec63423db31",
   "metadata": {},
   "outputs": [],
   "source": [
    "from typing import List\n",
    "\n",
    "Matrix = List[List[float]]\n",
    "\n",
    "def get_row(A: Matrix, i: int) -> List:\n",
    "    \"\"\"\n",
    "    Returns the i-th row of A (as a Vector)\n",
    "    \"\"\"\n",
    "    return A[i]\n",
    "\n",
    "  \n",
    "assert get_row([[1,2,3], [4,5,6]], 1) == [4,5,6]"
   ]
  },
  {
   "cell_type": "markdown",
   "id": "0cf6c178-d45a-4e92-9f71-6ceb4d33547e",
   "metadata": {},
   "source": [
    "## 3. get_column(A: Matrix, j: int) -> List"
   ]
  },
  {
   "cell_type": "code",
   "execution_count": 65,
   "id": "17cb3dc2-1234-4563-b62a-5789e65357be",
   "metadata": {},
   "outputs": [],
   "source": [
    "from typing import List\n",
    "\n",
    "Matrix = List[List[float]]\n",
    "\n",
    "def get_column(A: Matrix, j: int) -> List:\n",
    "    \"\"\"\n",
    "    Returns the j-th column of A (as a Vector)\n",
    "    \"\"\"\n",
    "    return [r[j] for  r in A]\n",
    "\n",
    "assert get_column([[1,2,3], [4,5,6]], 1) == [2,5]"
   ]
  },
  {
   "cell_type": "markdown",
   "id": "bbfef9f9-b24d-40cf-810e-0f2d2cff22d9",
   "metadata": {},
   "source": [
    "## 4. make_matrix(num_rows: int, num_cols: int, entry_fn: Callable[[int, int], float] -> Matrix"
   ]
  },
  {
   "cell_type": "code",
   "execution_count": 67,
   "id": "b764a578-954a-4d8e-8ad5-6be0a08f3f33",
   "metadata": {},
   "outputs": [],
   "source": [
    "# make a matrix with values defined by entry_fn\n",
    "from typing import Callable, List\n",
    "\n",
    "def make_matrix(num_rows: int,\n",
    "                num_cols: int, \n",
    "                entry_fn: Callable[[int, int],float]) -> Matrix:  # in callable: Callable[input type, output type]\n",
    "    \"\"\"\n",
    "    Returns a num_rows x num_cols matrix\n",
    "    whose (i,j)-th entry is entry_fn(i, j)\n",
    "    \"\"\"\n",
    "    return [[entry_fn(i,j) for j in range(num_cols)] for i in range(num_rows)]\n"
   ]
  },
  {
   "cell_type": "markdown",
   "id": "28952b70-1134-461d-8978-5b3bab8b2729",
   "metadata": {},
   "source": [
    "- create indentity matrix using make_matrix()"
   ]
  },
  {
   "cell_type": "markdown",
   "id": "36e12567-4d6d-4496-ab57-3733eb686c42",
   "metadata": {},
   "source": [
    "## 5. identity_matrix(size: int) -> Matrix"
   ]
  },
  {
   "cell_type": "code",
   "execution_count": 68,
   "id": "81cb9668-8987-446d-8627-8fce6c3b32c5",
   "metadata": {},
   "outputs": [],
   "source": [
    "#5x5 I matrix\n",
    "\n",
    "def identity_matrix(size: int) -> Matrix:\n",
    "    \"\"\"Returns the n x n identity matrix\"\"\"\n",
    "    return make_matrix(size, size, lambda i, j: 1 if i==j else 0)\n",
    "\n",
    "assert identity_matrix(5) == [[1, 0, 0, 0, 0], \n",
    "                              [0, 1, 0, 0, 0],\n",
    "                              [0, 0, 1, 0, 0],\n",
    "                              [0, 0, 0, 1, 0],\n",
    "                              [0, 0, 0, 0, 1]]"
   ]
  },
  {
   "cell_type": "markdown",
   "id": "7f28e8e3-635d-41e4-85c1-ea10fb36027d",
   "metadata": {},
   "source": [
    "## How to use matrices in Data Science?"
   ]
  },
  {
   "cell_type": "markdown",
   "id": "b72802a4-8cef-4094-bcf9-e9347b21ac7d",
   "metadata": {},
   "source": [
    "1. To represent dataset containing multiple vectors. e.g. age, height, weight of 1000 people as 1000x3 matrix.\n",
    "2. We use an n × k matrix to represent a linear function that maps k-dimensional vectors to n-dimensional vectors.\n",
    "3. To represent binary relationships.\n",
    "\n",
    "- Example: users 0-9 are connected to each other in following given way  \n",
    "   friendships = [(0, 1), (0, 2), (1, 2), (1, 3), (2, 3), (3, 4),(4, 5), (5, 6), (5, 7), (6, 8), (7, 8), (8, 9)]\n",
    "\n",
    "This can be represented in form of matrix to read and understand easily. Create 9 rows and 9 columns, if tuple (i,j) is present in 'friendship' put value=1."
   ]
  },
  {
   "cell_type": "code",
   "execution_count": 80,
   "id": "5ea2c1d8-6d39-42bd-9cc9-f023b3d11723",
   "metadata": {},
   "outputs": [],
   "source": [
    "friend_matrix = [[0, 1, 1, 0, 0, 0, 0, 0, 0, 0], # user 0\n",
    "                 [1, 0, 1, 1, 0, 0, 0, 0, 0, 0], # user 1\n",
    "                 [1, 1, 0, 1, 0, 0, 0, 0, 0, 0], # user 2\n",
    "                 [0, 1, 1, 0, 1, 0, 0, 0, 0, 0], # user 3\n",
    "                 [0, 0, 0, 1, 0, 1, 0, 0, 0, 0], # user 4\n",
    "                 [0, 0, 0, 0, 1, 0, 1, 1, 0, 0], # user 5\n",
    "                 [0, 0, 0, 0, 0, 1, 0, 0, 1, 0], # user 6\n",
    "                 [0, 0, 0, 0, 0, 1, 0, 0, 1, 0], # user 7\n",
    "                 [0, 0, 0, 0, 0, 0, 1, 1, 0, 1], # user 8\n",
    "                 [0, 0, 0, 0, 0, 0, 0, 0, 1, 0]] # user 9\n",
    "\n",
    "assert friend_matrix[0][2] == 1, \"0 and 2 are not friends\"\n",
    "# assert friend_matrix[1][1] == 1, \"1 and 1 are not friends\""
   ]
  },
  {
   "cell_type": "code",
   "execution_count": 79,
   "id": "cb070408-6680-49b0-9c00-2ff92dbe5f33",
   "metadata": {},
   "outputs": [],
   "source": [
    "# To find any node's (e.g. 2nd user's) connection\n",
    "\n",
    "def connections_of(u: int):\n",
    "    return [user_id \n",
    "               for user_id, connection in enumerate(friend_matrix[u]) \n",
    "               if connection == 1]\n",
    "\n",
    "assert connections_of(0) == [1,2]\n",
    "assert connections_of(8) == [6,7,9]"
   ]
  }
 ],
 "metadata": {
  "kernelspec": {
   "display_name": "Python 3 (ipykernel)",
   "language": "python",
   "name": "python3"
  },
  "language_info": {
   "codemirror_mode": {
    "name": "ipython",
    "version": 3
   },
   "file_extension": ".py",
   "mimetype": "text/x-python",
   "name": "python",
   "nbconvert_exporter": "python",
   "pygments_lexer": "ipython3",
   "version": "3.11.5"
  }
 },
 "nbformat": 4,
 "nbformat_minor": 5
}
