{
 "cells": [
  {
   "cell_type": "markdown",
   "metadata": {},
   "source": [
    "# 1. Gradient Descent\n",
    "\n",
    "1. **Choose Starting Point:** The algorithm starts from any random point, such as $(x, y)$.\n",
    "\n",
    "2. **Calculate Slope (Gradient):** Calculate the slope of the function, which indicates the direction of the steepest ascent.\n",
    "\n",
    "3. **Move in Opposite Direction:** We want to minimize the function, so we move in the opposite direction of the slope. The step size controls how far we move in this direction.\n",
    "\n",
    "4. **Update Position:** Adjust the $x$ and $y$ values using the step size:\n",
    "   - $x \\leftarrow x - \\text{step size} \\times \\text{slope of } x$\n",
    "   - $ y \\leftarrow y - \\text{step size} \\times \\text{slope of } y $\n",
    "\n",
    "5. **Repeat:** These steps are repeated in each iteration until we reach the lowest point or minima.\n",
    "\n",
    "6. **Stop When Minimum is Reached:** The algorithm stops when the slope becomes zero or very small, or when a pre-defined condition is met.\n",
    "\n",
    "In essence, this process involves \"gradually moving downward\" until we reach the minimum value of the function.\n"
   ]
  },
  {
   "cell_type": "markdown",
   "metadata": {},
   "source": []
  }
 ],
 "metadata": {
  "language_info": {
   "name": "python"
  }
 },
 "nbformat": 4,
 "nbformat_minor": 2
}
